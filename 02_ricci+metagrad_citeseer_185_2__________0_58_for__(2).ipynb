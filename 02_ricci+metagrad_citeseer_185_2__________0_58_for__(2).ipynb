{
  "cells": [
    {
      "cell_type": "markdown",
      "metadata": {
        "id": "view-in-github",
        "colab_type": "text"
      },
      "source": [
        "<a href=\"https://colab.research.google.com/github/AnitaTasnim/GNN_attack_model/blob/main/02_ricci%2Bmetagrad_citeseer_185_2__________0_58_for__(2).ipynb\" target=\"_parent\"><img src=\"https://colab.research.google.com/assets/colab-badge.svg\" alt=\"Open In Colab\"/></a>"
      ]
    },
    {
      "cell_type": "markdown",
      "metadata": {
        "id": "ivi6fO2h-GFR"
      },
      "source": [
        "# New Section"
      ]
    },
    {
      "cell_type": "markdown",
      "metadata": {
        "id": "1sP0JmY1rdmQ"
      },
      "source": [
        "# Tutorial: GraphRicciCurvature\n",
        "\n",
        "This is a walk through tutorial of GraphRicciCurvature, and a demonstration of how to apply Ricci curvature for various tasks such as community detection. Please make sure you have the latest package to run this tutorial.\n",
        "\n",
        "- Try this tutorial with interactive jupyter notebooks:\n",
        "\n",
        "    - [![Binder](https://mybinder.org/badge_logo.svg)](https://mybinder.org/v2/gh/saibalmars/GraphRicciCurvature/master?filepath=notebooks%2Ftutorial.ipynb)\n",
        "    \n",
        "    - [![Open In Colab](https://colab.research.google.com/assets/colab-badge.svg)](https://colab.research.google.com/github/saibalmars/GraphRicciCurvature/blob/master/M/tutorial.ipynb) (Faster, but Google account required.)\n",
        "\n"
      ]
    },
    {
      "cell_type": "markdown",
      "metadata": {
        "id": "jCNJ_q79rdmW"
      },
      "source": [
        "## Preparation:\n",
        "### Load library"
      ]
    },
    {
      "cell_type": "code",
      "execution_count": null,
      "metadata": {
        "id": "OFYiRX6P06Fv"
      },
      "outputs": [],
      "source": []
    },
    {
      "cell_type": "markdown",
      "metadata": {
        "id": "5-bi9GQuKf-G"
      },
      "source": [
        "##Import Library"
      ]
    },
    {
      "cell_type": "code",
      "execution_count": null,
      "metadata": {
        "colab": {
          "base_uri": "https://localhost:8080/"
        },
        "id": "tobDPj4LKiHU",
        "outputId": "2d29a24a-4c14-4f1c-c59d-de07ed18a90a"
      },
      "outputs": [
        {
          "output_type": "stream",
          "name": "stdout",
          "text": [
            "CUDA is available. Using GPU.\n"
          ]
        }
      ],
      "source": [
        "import torch\n",
        "\n",
        "if torch.cuda.is_available():\n",
        "    # Code to run when CUDA is available (for GPU)\n",
        "    device = torch.device(\"cuda\")\n",
        "    print(\"CUDA is available. Using GPU.\")\n",
        "else:\n",
        "    # Code to run when CUDA is not available (for cuda)\n",
        "    device = torch.device(\"cuda\")\n",
        "    print(\"CUDA is not available. Using cuda.\")\n",
        "\n",
        "# Now you can use `device` to specify whether you want to use GPU or cuda for your code.\n"
      ]
    },
    {
      "cell_type": "code",
      "execution_count": null,
      "metadata": {
        "id": "QHMxmbBkqzVS"
      },
      "outputs": [],
      "source": [
        "#https://deeprobust.readthedocs.io/en/latest/notes/installation.html"
      ]
    },
    {
      "cell_type": "code",
      "execution_count": null,
      "metadata": {
        "colab": {
          "base_uri": "https://localhost:8080/"
        },
        "id": "nYC_-uf0czQo",
        "outputId": "a7a1c11c-70e5-4047-9bf4-b416cce873ec"
      },
      "outputs": [
        {
          "output_type": "stream",
          "name": "stdout",
          "text": [
            "Cloning into 'DeepRobust'...\n",
            "remote: Enumerating objects: 5835, done.\u001b[K\n",
            "remote: Counting objects: 100% (1547/1547), done.\u001b[K\n",
            "remote: Compressing objects: 100% (645/645), done.\u001b[K\n",
            "remote: Total 5835 (delta 968), reused 1461 (delta 894), pack-reused 4288\u001b[K\n",
            "Receiving objects: 100% (5835/5835), 12.09 MiB | 10.38 MiB/s, done.\n",
            "Resolving deltas: 100% (3831/3831), done.\n",
            "/content/DeepRobust\n",
            "running install\n",
            "/usr/local/lib/python3.10/dist-packages/setuptools/_distutils/cmd.py:66: SetuptoolsDeprecationWarning: setup.py install is deprecated.\n",
            "!!\n",
            "\n",
            "        ********************************************************************************\n",
            "        Please avoid running ``setup.py`` directly.\n",
            "        Instead, use pypa/build, pypa/installer, pypa/build or\n",
            "        other standards-based tools.\n",
            "\n",
            "        See https://blog.ganssle.io/articles/2021/10/setup-py-deprecated.html for details.\n",
            "        ********************************************************************************\n",
            "\n",
            "!!\n",
            "  self.initialize_options()\n",
            "/usr/local/lib/python3.10/dist-packages/setuptools/_distutils/cmd.py:66: EasyInstallDeprecationWarning: easy_install command is deprecated.\n",
            "!!\n",
            "\n",
            "        ********************************************************************************\n",
            "        Please avoid running ``setup.py`` and ``easy_install``.\n",
            "        Instead, use pypa/build, pypa/installer, pypa/build or\n",
            "        other standards-based tools.\n",
            "\n",
            "        See https://github.com/pypa/setuptools/issues/917 for details.\n",
            "        ********************************************************************************\n",
            "\n",
            "!!\n",
            "  self.initialize_options()\n",
            "running bdist_egg\n",
            "running egg_info\n",
            "creating deeprobust.egg-info\n",
            "writing deeprobust.egg-info/PKG-INFO\n",
            "writing dependency_links to deeprobust.egg-info/dependency_links.txt\n",
            "writing requirements to deeprobust.egg-info/requires.txt\n",
            "writing top-level names to deeprobust.egg-info/top_level.txt\n",
            "writing manifest file 'deeprobust.egg-info/SOURCES.txt'\n",
            "reading manifest file 'deeprobust.egg-info/SOURCES.txt'\n",
            "adding license file 'LICENSE'\n",
            "writing manifest file 'deeprobust.egg-info/SOURCES.txt'\n",
            "installing library code to build/bdist.linux-x86_64/egg\n",
            "running install_lib\n",
            "running build_py\n",
            "creating build\n",
            "creating build/lib\n",
            "creating build/lib/deeprobust\n",
            "copying deeprobust/__init__.py -> build/lib/deeprobust\n",
            "creating build/lib/deeprobust/image\n",
            "copying deeprobust/image/config.py -> build/lib/deeprobust/image\n",
            "copying deeprobust/image/optimizer.py -> build/lib/deeprobust/image\n",
            "copying deeprobust/image/__init__.py -> build/lib/deeprobust/image\n",
            "copying deeprobust/image/evaluation_attack.py -> build/lib/deeprobust/image\n",
            "copying deeprobust/image/utils.py -> build/lib/deeprobust/image\n",
            "creating build/lib/deeprobust/graph\n",
            "copying deeprobust/graph/__init__.py -> build/lib/deeprobust/graph\n",
            "copying deeprobust/graph/black_box.py -> build/lib/deeprobust/graph\n",
            "copying deeprobust/graph/utils.py -> build/lib/deeprobust/graph\n",
            "copying deeprobust/graph/visualization.py -> build/lib/deeprobust/graph\n",
            "creating build/lib/deeprobust/image/defense\n",
            "copying deeprobust/image/defense/base_defense.py -> build/lib/deeprobust/image/defense\n",
            "copying deeprobust/image/defense/YOPO.py -> build/lib/deeprobust/image/defense\n",
            "copying deeprobust/image/defense/LIDclassifier.py -> build/lib/deeprobust/image/defense\n",
            "copying deeprobust/image/defense/trades.py -> build/lib/deeprobust/image/defense\n",
            "copying deeprobust/image/defense/fast.py -> build/lib/deeprobust/image/defense\n",
            "copying deeprobust/image/defense/fgsmtraining.py -> build/lib/deeprobust/image/defense\n",
            "copying deeprobust/image/defense/TherEncoding.py -> build/lib/deeprobust/image/defense\n",
            "copying deeprobust/image/defense/__init__.py -> build/lib/deeprobust/image/defense\n",
            "copying deeprobust/image/defense/AWP.py -> build/lib/deeprobust/image/defense\n",
            "copying deeprobust/image/defense/pgdtraining.py -> build/lib/deeprobust/image/defense\n",
            "creating build/lib/deeprobust/image/attack\n",
            "copying deeprobust/image/attack/l2_attack.py -> build/lib/deeprobust/image/attack\n",
            "copying deeprobust/image/attack/base_attack.py -> build/lib/deeprobust/image/attack\n",
            "copying deeprobust/image/attack/Universal.py -> build/lib/deeprobust/image/attack\n",
            "copying deeprobust/image/attack/lbfgs.py -> build/lib/deeprobust/image/attack\n",
            "copying deeprobust/image/attack/onepixel.py -> build/lib/deeprobust/image/attack\n",
            "copying deeprobust/image/attack/Nattack.py -> build/lib/deeprobust/image/attack\n",
            "copying deeprobust/image/attack/YOPOpgd.py -> build/lib/deeprobust/image/attack\n",
            "copying deeprobust/image/attack/BPDA.py -> build/lib/deeprobust/image/attack\n",
            "copying deeprobust/image/attack/fgsm.py -> build/lib/deeprobust/image/attack\n",
            "copying deeprobust/image/attack/cw.py -> build/lib/deeprobust/image/attack\n",
            "copying deeprobust/image/attack/__init__.py -> build/lib/deeprobust/image/attack\n",
            "copying deeprobust/image/attack/deepfool.py -> build/lib/deeprobust/image/attack\n",
            "copying deeprobust/image/attack/pgd.py -> build/lib/deeprobust/image/attack\n",
            "creating build/lib/deeprobust/image/netmodels\n",
            "copying deeprobust/image/netmodels/preact_resnet.py -> build/lib/deeprobust/image/netmodels\n",
            "copying deeprobust/image/netmodels/train_resnet.py -> build/lib/deeprobust/image/netmodels\n",
            "copying deeprobust/image/netmodels/CNN.py -> build/lib/deeprobust/image/netmodels\n",
            "copying deeprobust/image/netmodels/train_model.py -> build/lib/deeprobust/image/netmodels\n",
            "copying deeprobust/image/netmodels/resnet.py -> build/lib/deeprobust/image/netmodels\n",
            "copying deeprobust/image/netmodels/CNN_multilayer.py -> build/lib/deeprobust/image/netmodels\n",
            "copying deeprobust/image/netmodels/YOPOCNN.py -> build/lib/deeprobust/image/netmodels\n",
            "copying deeprobust/image/netmodels/__init__.py -> build/lib/deeprobust/image/netmodels\n",
            "copying deeprobust/image/netmodels/densenet.py -> build/lib/deeprobust/image/netmodels\n",
            "copying deeprobust/image/netmodels/vgg.py -> build/lib/deeprobust/image/netmodels\n",
            "creating build/lib/deeprobust/graph/data\n",
            "copying deeprobust/graph/data/dataset.py -> build/lib/deeprobust/graph/data\n",
            "copying deeprobust/graph/data/__init__.py -> build/lib/deeprobust/graph/data\n",
            "copying deeprobust/graph/data/attacked_data.py -> build/lib/deeprobust/graph/data\n",
            "copying deeprobust/graph/data/utils.py -> build/lib/deeprobust/graph/data\n",
            "copying deeprobust/graph/data/pyg_dataset.py -> build/lib/deeprobust/graph/data\n",
            "creating build/lib/deeprobust/graph/rl\n",
            "copying deeprobust/graph/rl/nipa_q_net_node.py -> build/lib/deeprobust/graph/rl\n",
            "copying deeprobust/graph/rl/rl_s2v_env.py -> build/lib/deeprobust/graph/rl\n",
            "copying deeprobust/graph/rl/nstep_replay_mem.py -> build/lib/deeprobust/graph/rl\n",
            "copying deeprobust/graph/rl/rl_s2v_config.py -> build/lib/deeprobust/graph/rl\n",
            "copying deeprobust/graph/rl/q_net_node.py -> build/lib/deeprobust/graph/rl\n",
            "copying deeprobust/graph/rl/__init__.py -> build/lib/deeprobust/graph/rl\n",
            "copying deeprobust/graph/rl/nipa_config.py -> build/lib/deeprobust/graph/rl\n",
            "copying deeprobust/graph/rl/nipa_env.py -> build/lib/deeprobust/graph/rl\n",
            "copying deeprobust/graph/rl/env.py -> build/lib/deeprobust/graph/rl\n",
            "copying deeprobust/graph/rl/nipa_nstep_replay_mem.py -> build/lib/deeprobust/graph/rl\n",
            "creating build/lib/deeprobust/graph/defense\n",
            "copying deeprobust/graph/defense/gcn_preprocess.py -> build/lib/deeprobust/graph/defense\n",
            "copying deeprobust/graph/defense/node_embedding.py -> build/lib/deeprobust/graph/defense\n",
            "copying deeprobust/graph/defense/prognn.py -> build/lib/deeprobust/graph/defense\n",
            "copying deeprobust/graph/defense/adv_training.py -> build/lib/deeprobust/graph/defense\n",
            "copying deeprobust/graph/defense/chebnet.py -> build/lib/deeprobust/graph/defense\n",
            "copying deeprobust/graph/defense/__init__.py -> build/lib/deeprobust/graph/defense\n",
            "copying deeprobust/graph/defense/gcn.py -> build/lib/deeprobust/graph/defense\n",
            "copying deeprobust/graph/defense/median_gcn.py -> build/lib/deeprobust/graph/defense\n",
            "copying deeprobust/graph/defense/r_gcn.py -> build/lib/deeprobust/graph/defense\n",
            "copying deeprobust/graph/defense/pgd.py -> build/lib/deeprobust/graph/defense\n",
            "copying deeprobust/graph/defense/sgc.py -> build/lib/deeprobust/graph/defense\n",
            "copying deeprobust/graph/defense/simpgcn.py -> build/lib/deeprobust/graph/defense\n",
            "copying deeprobust/graph/defense/gat.py -> build/lib/deeprobust/graph/defense\n",
            "creating build/lib/deeprobust/graph/global_attack\n",
            "copying deeprobust/graph/global_attack/base_attack.py -> build/lib/deeprobust/graph/global_attack\n",
            "copying deeprobust/graph/global_attack/node_embedding_attack.py -> build/lib/deeprobust/graph/global_attack\n",
            "copying deeprobust/graph/global_attack/mettack.py -> build/lib/deeprobust/graph/global_attack\n",
            "copying deeprobust/graph/global_attack/nipa.py -> build/lib/deeprobust/graph/global_attack\n",
            "copying deeprobust/graph/global_attack/random_attack.py -> build/lib/deeprobust/graph/global_attack\n",
            "copying deeprobust/graph/global_attack/__init__.py -> build/lib/deeprobust/graph/global_attack\n",
            "copying deeprobust/graph/global_attack/dice.py -> build/lib/deeprobust/graph/global_attack\n",
            "copying deeprobust/graph/global_attack/topology_attack.py -> build/lib/deeprobust/graph/global_attack\n",
            "copying deeprobust/graph/global_attack/prbcd.py -> build/lib/deeprobust/graph/global_attack\n",
            "creating build/lib/deeprobust/graph/defense_pyg\n",
            "copying deeprobust/graph/defense_pyg/sage.py -> build/lib/deeprobust/graph/defense_pyg\n",
            "copying deeprobust/graph/defense_pyg/airgnn.py -> build/lib/deeprobust/graph/defense_pyg\n",
            "copying deeprobust/graph/defense_pyg/gpr.py -> build/lib/deeprobust/graph/defense_pyg\n",
            "copying deeprobust/graph/defense_pyg/__init__.py -> build/lib/deeprobust/graph/defense_pyg\n",
            "copying deeprobust/graph/defense_pyg/base_model.py -> build/lib/deeprobust/graph/defense_pyg\n",
            "copying deeprobust/graph/defense_pyg/gcn.py -> build/lib/deeprobust/graph/defense_pyg\n",
            "copying deeprobust/graph/defense_pyg/mygat_conv.py -> build/lib/deeprobust/graph/defense_pyg\n",
            "copying deeprobust/graph/defense_pyg/appnp.py -> build/lib/deeprobust/graph/defense_pyg\n",
            "copying deeprobust/graph/defense_pyg/gat.py -> build/lib/deeprobust/graph/defense_pyg\n",
            "creating build/lib/deeprobust/graph/targeted_attack\n",
            "copying deeprobust/graph/targeted_attack/base_attack.py -> build/lib/deeprobust/graph/targeted_attack\n",
            "copying deeprobust/graph/targeted_attack/rnd.py -> build/lib/deeprobust/graph/targeted_attack\n",
            "copying deeprobust/graph/targeted_attack/ugba.py -> build/lib/deeprobust/graph/targeted_attack\n",
            "copying deeprobust/graph/targeted_attack/nettack.py -> build/lib/deeprobust/graph/targeted_attack\n",
            "copying deeprobust/graph/targeted_attack/__init__.py -> build/lib/deeprobust/graph/targeted_attack\n",
            "copying deeprobust/graph/targeted_attack/sga.py -> build/lib/deeprobust/graph/targeted_attack\n",
            "copying deeprobust/graph/targeted_attack/fga.py -> build/lib/deeprobust/graph/targeted_attack\n",
            "copying deeprobust/graph/targeted_attack/ig_attack.py -> build/lib/deeprobust/graph/targeted_attack\n",
            "copying deeprobust/graph/targeted_attack/rl_s2v.py -> build/lib/deeprobust/graph/targeted_attack\n",
            "creating build/bdist.linux-x86_64\n",
            "creating build/bdist.linux-x86_64/egg\n",
            "creating build/bdist.linux-x86_64/egg/deeprobust\n",
            "creating build/bdist.linux-x86_64/egg/deeprobust/image\n",
            "copying build/lib/deeprobust/image/config.py -> build/bdist.linux-x86_64/egg/deeprobust/image\n",
            "copying build/lib/deeprobust/image/optimizer.py -> build/bdist.linux-x86_64/egg/deeprobust/image\n",
            "creating build/bdist.linux-x86_64/egg/deeprobust/image/defense\n",
            "copying build/lib/deeprobust/image/defense/base_defense.py -> build/bdist.linux-x86_64/egg/deeprobust/image/defense\n",
            "copying build/lib/deeprobust/image/defense/YOPO.py -> build/bdist.linux-x86_64/egg/deeprobust/image/defense\n",
            "copying build/lib/deeprobust/image/defense/LIDclassifier.py -> build/bdist.linux-x86_64/egg/deeprobust/image/defense\n",
            "copying build/lib/deeprobust/image/defense/trades.py -> build/bdist.linux-x86_64/egg/deeprobust/image/defense\n",
            "copying build/lib/deeprobust/image/defense/fast.py -> build/bdist.linux-x86_64/egg/deeprobust/image/defense\n",
            "copying build/lib/deeprobust/image/defense/fgsmtraining.py -> build/bdist.linux-x86_64/egg/deeprobust/image/defense\n",
            "copying build/lib/deeprobust/image/defense/TherEncoding.py -> build/bdist.linux-x86_64/egg/deeprobust/image/defense\n",
            "copying build/lib/deeprobust/image/defense/__init__.py -> build/bdist.linux-x86_64/egg/deeprobust/image/defense\n",
            "copying build/lib/deeprobust/image/defense/AWP.py -> build/bdist.linux-x86_64/egg/deeprobust/image/defense\n",
            "copying build/lib/deeprobust/image/defense/pgdtraining.py -> build/bdist.linux-x86_64/egg/deeprobust/image/defense\n",
            "creating build/bdist.linux-x86_64/egg/deeprobust/image/attack\n",
            "copying build/lib/deeprobust/image/attack/l2_attack.py -> build/bdist.linux-x86_64/egg/deeprobust/image/attack\n",
            "copying build/lib/deeprobust/image/attack/base_attack.py -> build/bdist.linux-x86_64/egg/deeprobust/image/attack\n",
            "copying build/lib/deeprobust/image/attack/Universal.py -> build/bdist.linux-x86_64/egg/deeprobust/image/attack\n",
            "copying build/lib/deeprobust/image/attack/lbfgs.py -> build/bdist.linux-x86_64/egg/deeprobust/image/attack\n",
            "copying build/lib/deeprobust/image/attack/onepixel.py -> build/bdist.linux-x86_64/egg/deeprobust/image/attack\n",
            "copying build/lib/deeprobust/image/attack/Nattack.py -> build/bdist.linux-x86_64/egg/deeprobust/image/attack\n",
            "copying build/lib/deeprobust/image/attack/YOPOpgd.py -> build/bdist.linux-x86_64/egg/deeprobust/image/attack\n",
            "copying build/lib/deeprobust/image/attack/BPDA.py -> build/bdist.linux-x86_64/egg/deeprobust/image/attack\n",
            "copying build/lib/deeprobust/image/attack/fgsm.py -> build/bdist.linux-x86_64/egg/deeprobust/image/attack\n",
            "copying build/lib/deeprobust/image/attack/cw.py -> build/bdist.linux-x86_64/egg/deeprobust/image/attack\n",
            "copying build/lib/deeprobust/image/attack/__init__.py -> build/bdist.linux-x86_64/egg/deeprobust/image/attack\n",
            "copying build/lib/deeprobust/image/attack/deepfool.py -> build/bdist.linux-x86_64/egg/deeprobust/image/attack\n",
            "copying build/lib/deeprobust/image/attack/pgd.py -> build/bdist.linux-x86_64/egg/deeprobust/image/attack\n",
            "creating build/bdist.linux-x86_64/egg/deeprobust/image/netmodels\n",
            "copying build/lib/deeprobust/image/netmodels/preact_resnet.py -> build/bdist.linux-x86_64/egg/deeprobust/image/netmodels\n",
            "copying build/lib/deeprobust/image/netmodels/train_resnet.py -> build/bdist.linux-x86_64/egg/deeprobust/image/netmodels\n",
            "copying build/lib/deeprobust/image/netmodels/CNN.py -> build/bdist.linux-x86_64/egg/deeprobust/image/netmodels\n",
            "copying build/lib/deeprobust/image/netmodels/train_model.py -> build/bdist.linux-x86_64/egg/deeprobust/image/netmodels\n",
            "copying build/lib/deeprobust/image/netmodels/resnet.py -> build/bdist.linux-x86_64/egg/deeprobust/image/netmodels\n",
            "copying build/lib/deeprobust/image/netmodels/CNN_multilayer.py -> build/bdist.linux-x86_64/egg/deeprobust/image/netmodels\n",
            "copying build/lib/deeprobust/image/netmodels/YOPOCNN.py -> build/bdist.linux-x86_64/egg/deeprobust/image/netmodels\n",
            "copying build/lib/deeprobust/image/netmodels/__init__.py -> build/bdist.linux-x86_64/egg/deeprobust/image/netmodels\n",
            "copying build/lib/deeprobust/image/netmodels/densenet.py -> build/bdist.linux-x86_64/egg/deeprobust/image/netmodels\n",
            "copying build/lib/deeprobust/image/netmodels/vgg.py -> build/bdist.linux-x86_64/egg/deeprobust/image/netmodels\n",
            "copying build/lib/deeprobust/image/__init__.py -> build/bdist.linux-x86_64/egg/deeprobust/image\n",
            "copying build/lib/deeprobust/image/evaluation_attack.py -> build/bdist.linux-x86_64/egg/deeprobust/image\n",
            "copying build/lib/deeprobust/image/utils.py -> build/bdist.linux-x86_64/egg/deeprobust/image\n",
            "creating build/bdist.linux-x86_64/egg/deeprobust/graph\n",
            "creating build/bdist.linux-x86_64/egg/deeprobust/graph/data\n",
            "copying build/lib/deeprobust/graph/data/dataset.py -> build/bdist.linux-x86_64/egg/deeprobust/graph/data\n",
            "copying build/lib/deeprobust/graph/data/__init__.py -> build/bdist.linux-x86_64/egg/deeprobust/graph/data\n",
            "copying build/lib/deeprobust/graph/data/attacked_data.py -> build/bdist.linux-x86_64/egg/deeprobust/graph/data\n",
            "copying build/lib/deeprobust/graph/data/utils.py -> build/bdist.linux-x86_64/egg/deeprobust/graph/data\n",
            "copying build/lib/deeprobust/graph/data/pyg_dataset.py -> build/bdist.linux-x86_64/egg/deeprobust/graph/data\n",
            "creating build/bdist.linux-x86_64/egg/deeprobust/graph/rl\n",
            "copying build/lib/deeprobust/graph/rl/nipa_q_net_node.py -> build/bdist.linux-x86_64/egg/deeprobust/graph/rl\n",
            "copying build/lib/deeprobust/graph/rl/rl_s2v_env.py -> build/bdist.linux-x86_64/egg/deeprobust/graph/rl\n",
            "copying build/lib/deeprobust/graph/rl/nstep_replay_mem.py -> build/bdist.linux-x86_64/egg/deeprobust/graph/rl\n",
            "copying build/lib/deeprobust/graph/rl/rl_s2v_config.py -> build/bdist.linux-x86_64/egg/deeprobust/graph/rl\n",
            "copying build/lib/deeprobust/graph/rl/q_net_node.py -> build/bdist.linux-x86_64/egg/deeprobust/graph/rl\n",
            "copying build/lib/deeprobust/graph/rl/__init__.py -> build/bdist.linux-x86_64/egg/deeprobust/graph/rl\n",
            "copying build/lib/deeprobust/graph/rl/nipa_config.py -> build/bdist.linux-x86_64/egg/deeprobust/graph/rl\n",
            "copying build/lib/deeprobust/graph/rl/nipa_env.py -> build/bdist.linux-x86_64/egg/deeprobust/graph/rl\n",
            "copying build/lib/deeprobust/graph/rl/env.py -> build/bdist.linux-x86_64/egg/deeprobust/graph/rl\n",
            "copying build/lib/deeprobust/graph/rl/nipa_nstep_replay_mem.py -> build/bdist.linux-x86_64/egg/deeprobust/graph/rl\n",
            "creating build/bdist.linux-x86_64/egg/deeprobust/graph/defense\n",
            "copying build/lib/deeprobust/graph/defense/gcn_preprocess.py -> build/bdist.linux-x86_64/egg/deeprobust/graph/defense\n",
            "copying build/lib/deeprobust/graph/defense/node_embedding.py -> build/bdist.linux-x86_64/egg/deeprobust/graph/defense\n",
            "copying build/lib/deeprobust/graph/defense/prognn.py -> build/bdist.linux-x86_64/egg/deeprobust/graph/defense\n",
            "copying build/lib/deeprobust/graph/defense/adv_training.py -> build/bdist.linux-x86_64/egg/deeprobust/graph/defense\n",
            "copying build/lib/deeprobust/graph/defense/chebnet.py -> build/bdist.linux-x86_64/egg/deeprobust/graph/defense\n",
            "copying build/lib/deeprobust/graph/defense/__init__.py -> build/bdist.linux-x86_64/egg/deeprobust/graph/defense\n",
            "copying build/lib/deeprobust/graph/defense/gcn.py -> build/bdist.linux-x86_64/egg/deeprobust/graph/defense\n",
            "copying build/lib/deeprobust/graph/defense/median_gcn.py -> build/bdist.linux-x86_64/egg/deeprobust/graph/defense\n",
            "copying build/lib/deeprobust/graph/defense/r_gcn.py -> build/bdist.linux-x86_64/egg/deeprobust/graph/defense\n",
            "copying build/lib/deeprobust/graph/defense/pgd.py -> build/bdist.linux-x86_64/egg/deeprobust/graph/defense\n",
            "copying build/lib/deeprobust/graph/defense/sgc.py -> build/bdist.linux-x86_64/egg/deeprobust/graph/defense\n",
            "copying build/lib/deeprobust/graph/defense/simpgcn.py -> build/bdist.linux-x86_64/egg/deeprobust/graph/defense\n",
            "copying build/lib/deeprobust/graph/defense/gat.py -> build/bdist.linux-x86_64/egg/deeprobust/graph/defense\n",
            "creating build/bdist.linux-x86_64/egg/deeprobust/graph/global_attack\n",
            "copying build/lib/deeprobust/graph/global_attack/base_attack.py -> build/bdist.linux-x86_64/egg/deeprobust/graph/global_attack\n",
            "copying build/lib/deeprobust/graph/global_attack/node_embedding_attack.py -> build/bdist.linux-x86_64/egg/deeprobust/graph/global_attack\n",
            "copying build/lib/deeprobust/graph/global_attack/mettack.py -> build/bdist.linux-x86_64/egg/deeprobust/graph/global_attack\n",
            "copying build/lib/deeprobust/graph/global_attack/nipa.py -> build/bdist.linux-x86_64/egg/deeprobust/graph/global_attack\n",
            "copying build/lib/deeprobust/graph/global_attack/random_attack.py -> build/bdist.linux-x86_64/egg/deeprobust/graph/global_attack\n",
            "copying build/lib/deeprobust/graph/global_attack/__init__.py -> build/bdist.linux-x86_64/egg/deeprobust/graph/global_attack\n",
            "copying build/lib/deeprobust/graph/global_attack/dice.py -> build/bdist.linux-x86_64/egg/deeprobust/graph/global_attack\n",
            "copying build/lib/deeprobust/graph/global_attack/topology_attack.py -> build/bdist.linux-x86_64/egg/deeprobust/graph/global_attack\n",
            "copying build/lib/deeprobust/graph/global_attack/prbcd.py -> build/bdist.linux-x86_64/egg/deeprobust/graph/global_attack\n",
            "creating build/bdist.linux-x86_64/egg/deeprobust/graph/defense_pyg\n",
            "copying build/lib/deeprobust/graph/defense_pyg/sage.py -> build/bdist.linux-x86_64/egg/deeprobust/graph/defense_pyg\n",
            "copying build/lib/deeprobust/graph/defense_pyg/airgnn.py -> build/bdist.linux-x86_64/egg/deeprobust/graph/defense_pyg\n",
            "copying build/lib/deeprobust/graph/defense_pyg/gpr.py -> build/bdist.linux-x86_64/egg/deeprobust/graph/defense_pyg\n",
            "copying build/lib/deeprobust/graph/defense_pyg/__init__.py -> build/bdist.linux-x86_64/egg/deeprobust/graph/defense_pyg\n",
            "copying build/lib/deeprobust/graph/defense_pyg/base_model.py -> build/bdist.linux-x86_64/egg/deeprobust/graph/defense_pyg\n",
            "copying build/lib/deeprobust/graph/defense_pyg/gcn.py -> build/bdist.linux-x86_64/egg/deeprobust/graph/defense_pyg\n",
            "copying build/lib/deeprobust/graph/defense_pyg/mygat_conv.py -> build/bdist.linux-x86_64/egg/deeprobust/graph/defense_pyg\n",
            "copying build/lib/deeprobust/graph/defense_pyg/appnp.py -> build/bdist.linux-x86_64/egg/deeprobust/graph/defense_pyg\n",
            "copying build/lib/deeprobust/graph/defense_pyg/gat.py -> build/bdist.linux-x86_64/egg/deeprobust/graph/defense_pyg\n",
            "copying build/lib/deeprobust/graph/__init__.py -> build/bdist.linux-x86_64/egg/deeprobust/graph\n",
            "copying build/lib/deeprobust/graph/black_box.py -> build/bdist.linux-x86_64/egg/deeprobust/graph\n",
            "copying build/lib/deeprobust/graph/utils.py -> build/bdist.linux-x86_64/egg/deeprobust/graph\n",
            "copying build/lib/deeprobust/graph/visualization.py -> build/bdist.linux-x86_64/egg/deeprobust/graph\n",
            "creating build/bdist.linux-x86_64/egg/deeprobust/graph/targeted_attack\n",
            "copying build/lib/deeprobust/graph/targeted_attack/base_attack.py -> build/bdist.linux-x86_64/egg/deeprobust/graph/targeted_attack\n",
            "copying build/lib/deeprobust/graph/targeted_attack/rnd.py -> build/bdist.linux-x86_64/egg/deeprobust/graph/targeted_attack\n",
            "copying build/lib/deeprobust/graph/targeted_attack/ugba.py -> build/bdist.linux-x86_64/egg/deeprobust/graph/targeted_attack\n",
            "copying build/lib/deeprobust/graph/targeted_attack/nettack.py -> build/bdist.linux-x86_64/egg/deeprobust/graph/targeted_attack\n",
            "copying build/lib/deeprobust/graph/targeted_attack/__init__.py -> build/bdist.linux-x86_64/egg/deeprobust/graph/targeted_attack\n",
            "copying build/lib/deeprobust/graph/targeted_attack/sga.py -> build/bdist.linux-x86_64/egg/deeprobust/graph/targeted_attack\n",
            "copying build/lib/deeprobust/graph/targeted_attack/fga.py -> build/bdist.linux-x86_64/egg/deeprobust/graph/targeted_attack\n",
            "copying build/lib/deeprobust/graph/targeted_attack/ig_attack.py -> build/bdist.linux-x86_64/egg/deeprobust/graph/targeted_attack\n",
            "copying build/lib/deeprobust/graph/targeted_attack/rl_s2v.py -> build/bdist.linux-x86_64/egg/deeprobust/graph/targeted_attack\n",
            "copying build/lib/deeprobust/__init__.py -> build/bdist.linux-x86_64/egg/deeprobust\n",
            "byte-compiling build/bdist.linux-x86_64/egg/deeprobust/image/config.py to config.cpython-310.pyc\n",
            "byte-compiling build/bdist.linux-x86_64/egg/deeprobust/image/optimizer.py to optimizer.cpython-310.pyc\n",
            "byte-compiling build/bdist.linux-x86_64/egg/deeprobust/image/defense/base_defense.py to base_defense.cpython-310.pyc\n",
            "byte-compiling build/bdist.linux-x86_64/egg/deeprobust/image/defense/YOPO.py to YOPO.cpython-310.pyc\n",
            "byte-compiling build/bdist.linux-x86_64/egg/deeprobust/image/defense/LIDclassifier.py to LIDclassifier.cpython-310.pyc\n",
            "byte-compiling build/bdist.linux-x86_64/egg/deeprobust/image/defense/trades.py to trades.cpython-310.pyc\n",
            "byte-compiling build/bdist.linux-x86_64/egg/deeprobust/image/defense/fast.py to fast.cpython-310.pyc\n",
            "byte-compiling build/bdist.linux-x86_64/egg/deeprobust/image/defense/fgsmtraining.py to fgsmtraining.cpython-310.pyc\n",
            "byte-compiling build/bdist.linux-x86_64/egg/deeprobust/image/defense/TherEncoding.py to TherEncoding.cpython-310.pyc\n",
            "byte-compiling build/bdist.linux-x86_64/egg/deeprobust/image/defense/__init__.py to __init__.cpython-310.pyc\n",
            "byte-compiling build/bdist.linux-x86_64/egg/deeprobust/image/defense/AWP.py to AWP.cpython-310.pyc\n",
            "byte-compiling build/bdist.linux-x86_64/egg/deeprobust/image/defense/pgdtraining.py to pgdtraining.cpython-310.pyc\n",
            "byte-compiling build/bdist.linux-x86_64/egg/deeprobust/image/attack/l2_attack.py to l2_attack.cpython-310.pyc\n",
            "byte-compiling build/bdist.linux-x86_64/egg/deeprobust/image/attack/base_attack.py to base_attack.cpython-310.pyc\n",
            "byte-compiling build/bdist.linux-x86_64/egg/deeprobust/image/attack/Universal.py to Universal.cpython-310.pyc\n",
            "byte-compiling build/bdist.linux-x86_64/egg/deeprobust/image/attack/lbfgs.py to lbfgs.cpython-310.pyc\n",
            "byte-compiling build/bdist.linux-x86_64/egg/deeprobust/image/attack/onepixel.py to onepixel.cpython-310.pyc\n",
            "byte-compiling build/bdist.linux-x86_64/egg/deeprobust/image/attack/Nattack.py to Nattack.cpython-310.pyc\n",
            "byte-compiling build/bdist.linux-x86_64/egg/deeprobust/image/attack/YOPOpgd.py to YOPOpgd.cpython-310.pyc\n",
            "byte-compiling build/bdist.linux-x86_64/egg/deeprobust/image/attack/BPDA.py to BPDA.cpython-310.pyc\n",
            "byte-compiling build/bdist.linux-x86_64/egg/deeprobust/image/attack/fgsm.py to fgsm.cpython-310.pyc\n",
            "byte-compiling build/bdist.linux-x86_64/egg/deeprobust/image/attack/cw.py to cw.cpython-310.pyc\n",
            "byte-compiling build/bdist.linux-x86_64/egg/deeprobust/image/attack/__init__.py to __init__.cpython-310.pyc\n",
            "byte-compiling build/bdist.linux-x86_64/egg/deeprobust/image/attack/deepfool.py to deepfool.cpython-310.pyc\n",
            "byte-compiling build/bdist.linux-x86_64/egg/deeprobust/image/attack/pgd.py to pgd.cpython-310.pyc\n",
            "byte-compiling build/bdist.linux-x86_64/egg/deeprobust/image/netmodels/preact_resnet.py to preact_resnet.cpython-310.pyc\n",
            "byte-compiling build/bdist.linux-x86_64/egg/deeprobust/image/netmodels/train_resnet.py to train_resnet.cpython-310.pyc\n",
            "byte-compiling build/bdist.linux-x86_64/egg/deeprobust/image/netmodels/CNN.py to CNN.cpython-310.pyc\n",
            "byte-compiling build/bdist.linux-x86_64/egg/deeprobust/image/netmodels/train_model.py to train_model.cpython-310.pyc\n",
            "byte-compiling build/bdist.linux-x86_64/egg/deeprobust/image/netmodels/resnet.py to resnet.cpython-310.pyc\n",
            "byte-compiling build/bdist.linux-x86_64/egg/deeprobust/image/netmodels/CNN_multilayer.py to CNN_multilayer.cpython-310.pyc\n",
            "byte-compiling build/bdist.linux-x86_64/egg/deeprobust/image/netmodels/YOPOCNN.py to YOPOCNN.cpython-310.pyc\n",
            "byte-compiling build/bdist.linux-x86_64/egg/deeprobust/image/netmodels/__init__.py to __init__.cpython-310.pyc\n",
            "byte-compiling build/bdist.linux-x86_64/egg/deeprobust/image/netmodels/densenet.py to densenet.cpython-310.pyc\n",
            "byte-compiling build/bdist.linux-x86_64/egg/deeprobust/image/netmodels/vgg.py to vgg.cpython-310.pyc\n",
            "byte-compiling build/bdist.linux-x86_64/egg/deeprobust/image/__init__.py to __init__.cpython-310.pyc\n",
            "byte-compiling build/bdist.linux-x86_64/egg/deeprobust/image/evaluation_attack.py to evaluation_attack.cpython-310.pyc\n",
            "byte-compiling build/bdist.linux-x86_64/egg/deeprobust/image/utils.py to utils.cpython-310.pyc\n",
            "byte-compiling build/bdist.linux-x86_64/egg/deeprobust/graph/data/dataset.py to dataset.cpython-310.pyc\n",
            "byte-compiling build/bdist.linux-x86_64/egg/deeprobust/graph/data/__init__.py to __init__.cpython-310.pyc\n",
            "byte-compiling build/bdist.linux-x86_64/egg/deeprobust/graph/data/attacked_data.py to attacked_data.cpython-310.pyc\n",
            "byte-compiling build/bdist.linux-x86_64/egg/deeprobust/graph/data/utils.py to utils.cpython-310.pyc\n",
            "byte-compiling build/bdist.linux-x86_64/egg/deeprobust/graph/data/pyg_dataset.py to pyg_dataset.cpython-310.pyc\n",
            "byte-compiling build/bdist.linux-x86_64/egg/deeprobust/graph/rl/nipa_q_net_node.py to nipa_q_net_node.cpython-310.pyc\n",
            "byte-compiling build/bdist.linux-x86_64/egg/deeprobust/graph/rl/rl_s2v_env.py to rl_s2v_env.cpython-310.pyc\n",
            "byte-compiling build/bdist.linux-x86_64/egg/deeprobust/graph/rl/nstep_replay_mem.py to nstep_replay_mem.cpython-310.pyc\n",
            "byte-compiling build/bdist.linux-x86_64/egg/deeprobust/graph/rl/rl_s2v_config.py to rl_s2v_config.cpython-310.pyc\n",
            "byte-compiling build/bdist.linux-x86_64/egg/deeprobust/graph/rl/q_net_node.py to q_net_node.cpython-310.pyc\n",
            "byte-compiling build/bdist.linux-x86_64/egg/deeprobust/graph/rl/__init__.py to __init__.cpython-310.pyc\n",
            "byte-compiling build/bdist.linux-x86_64/egg/deeprobust/graph/rl/nipa_config.py to nipa_config.cpython-310.pyc\n",
            "byte-compiling build/bdist.linux-x86_64/egg/deeprobust/graph/rl/nipa_env.py to nipa_env.cpython-310.pyc\n",
            "byte-compiling build/bdist.linux-x86_64/egg/deeprobust/graph/rl/env.py to env.cpython-310.pyc\n",
            "byte-compiling build/bdist.linux-x86_64/egg/deeprobust/graph/rl/nipa_nstep_replay_mem.py to nipa_nstep_replay_mem.cpython-310.pyc\n",
            "byte-compiling build/bdist.linux-x86_64/egg/deeprobust/graph/defense/gcn_preprocess.py to gcn_preprocess.cpython-310.pyc\n",
            "byte-compiling build/bdist.linux-x86_64/egg/deeprobust/graph/defense/node_embedding.py to node_embedding.cpython-310.pyc\n",
            "byte-compiling build/bdist.linux-x86_64/egg/deeprobust/graph/defense/prognn.py to prognn.cpython-310.pyc\n",
            "byte-compiling build/bdist.linux-x86_64/egg/deeprobust/graph/defense/adv_training.py to adv_training.cpython-310.pyc\n",
            "byte-compiling build/bdist.linux-x86_64/egg/deeprobust/graph/defense/chebnet.py to chebnet.cpython-310.pyc\n",
            "byte-compiling build/bdist.linux-x86_64/egg/deeprobust/graph/defense/__init__.py to __init__.cpython-310.pyc\n",
            "byte-compiling build/bdist.linux-x86_64/egg/deeprobust/graph/defense/gcn.py to gcn.cpython-310.pyc\n",
            "byte-compiling build/bdist.linux-x86_64/egg/deeprobust/graph/defense/median_gcn.py to median_gcn.cpython-310.pyc\n",
            "byte-compiling build/bdist.linux-x86_64/egg/deeprobust/graph/defense/r_gcn.py to r_gcn.cpython-310.pyc\n",
            "byte-compiling build/bdist.linux-x86_64/egg/deeprobust/graph/defense/pgd.py to pgd.cpython-310.pyc\n",
            "byte-compiling build/bdist.linux-x86_64/egg/deeprobust/graph/defense/sgc.py to sgc.cpython-310.pyc\n",
            "byte-compiling build/bdist.linux-x86_64/egg/deeprobust/graph/defense/simpgcn.py to simpgcn.cpython-310.pyc\n",
            "byte-compiling build/bdist.linux-x86_64/egg/deeprobust/graph/defense/gat.py to gat.cpython-310.pyc\n",
            "byte-compiling build/bdist.linux-x86_64/egg/deeprobust/graph/global_attack/base_attack.py to base_attack.cpython-310.pyc\n",
            "byte-compiling build/bdist.linux-x86_64/egg/deeprobust/graph/global_attack/node_embedding_attack.py to node_embedding_attack.cpython-310.pyc\n",
            "byte-compiling build/bdist.linux-x86_64/egg/deeprobust/graph/global_attack/mettack.py to mettack.cpython-310.pyc\n",
            "byte-compiling build/bdist.linux-x86_64/egg/deeprobust/graph/global_attack/nipa.py to nipa.cpython-310.pyc\n",
            "byte-compiling build/bdist.linux-x86_64/egg/deeprobust/graph/global_attack/random_attack.py to random_attack.cpython-310.pyc\n",
            "byte-compiling build/bdist.linux-x86_64/egg/deeprobust/graph/global_attack/__init__.py to __init__.cpython-310.pyc\n",
            "byte-compiling build/bdist.linux-x86_64/egg/deeprobust/graph/global_attack/dice.py to dice.cpython-310.pyc\n",
            "byte-compiling build/bdist.linux-x86_64/egg/deeprobust/graph/global_attack/topology_attack.py to topology_attack.cpython-310.pyc\n",
            "byte-compiling build/bdist.linux-x86_64/egg/deeprobust/graph/global_attack/prbcd.py to prbcd.cpython-310.pyc\n",
            "byte-compiling build/bdist.linux-x86_64/egg/deeprobust/graph/defense_pyg/sage.py to sage.cpython-310.pyc\n",
            "byte-compiling build/bdist.linux-x86_64/egg/deeprobust/graph/defense_pyg/airgnn.py to airgnn.cpython-310.pyc\n",
            "byte-compiling build/bdist.linux-x86_64/egg/deeprobust/graph/defense_pyg/gpr.py to gpr.cpython-310.pyc\n",
            "byte-compiling build/bdist.linux-x86_64/egg/deeprobust/graph/defense_pyg/__init__.py to __init__.cpython-310.pyc\n",
            "byte-compiling build/bdist.linux-x86_64/egg/deeprobust/graph/defense_pyg/base_model.py to base_model.cpython-310.pyc\n",
            "byte-compiling build/bdist.linux-x86_64/egg/deeprobust/graph/defense_pyg/gcn.py to gcn.cpython-310.pyc\n",
            "byte-compiling build/bdist.linux-x86_64/egg/deeprobust/graph/defense_pyg/mygat_conv.py to mygat_conv.cpython-310.pyc\n",
            "byte-compiling build/bdist.linux-x86_64/egg/deeprobust/graph/defense_pyg/appnp.py to appnp.cpython-310.pyc\n",
            "byte-compiling build/bdist.linux-x86_64/egg/deeprobust/graph/defense_pyg/gat.py to gat.cpython-310.pyc\n",
            "byte-compiling build/bdist.linux-x86_64/egg/deeprobust/graph/__init__.py to __init__.cpython-310.pyc\n",
            "byte-compiling build/bdist.linux-x86_64/egg/deeprobust/graph/black_box.py to black_box.cpython-310.pyc\n",
            "byte-compiling build/bdist.linux-x86_64/egg/deeprobust/graph/utils.py to utils.cpython-310.pyc\n",
            "byte-compiling build/bdist.linux-x86_64/egg/deeprobust/graph/visualization.py to visualization.cpython-310.pyc\n",
            "byte-compiling build/bdist.linux-x86_64/egg/deeprobust/graph/targeted_attack/base_attack.py to base_attack.cpython-310.pyc\n",
            "byte-compiling build/bdist.linux-x86_64/egg/deeprobust/graph/targeted_attack/rnd.py to rnd.cpython-310.pyc\n",
            "byte-compiling build/bdist.linux-x86_64/egg/deeprobust/graph/targeted_attack/ugba.py to ugba.cpython-310.pyc\n",
            "byte-compiling build/bdist.linux-x86_64/egg/deeprobust/graph/targeted_attack/nettack.py to nettack.cpython-310.pyc\n",
            "byte-compiling build/bdist.linux-x86_64/egg/deeprobust/graph/targeted_attack/__init__.py to __init__.cpython-310.pyc\n",
            "byte-compiling build/bdist.linux-x86_64/egg/deeprobust/graph/targeted_attack/sga.py to sga.cpython-310.pyc\n",
            "byte-compiling build/bdist.linux-x86_64/egg/deeprobust/graph/targeted_attack/fga.py to fga.cpython-310.pyc\n",
            "byte-compiling build/bdist.linux-x86_64/egg/deeprobust/graph/targeted_attack/ig_attack.py to ig_attack.cpython-310.pyc\n",
            "byte-compiling build/bdist.linux-x86_64/egg/deeprobust/graph/targeted_attack/rl_s2v.py to rl_s2v.cpython-310.pyc\n",
            "byte-compiling build/bdist.linux-x86_64/egg/deeprobust/__init__.py to __init__.cpython-310.pyc\n",
            "creating build/bdist.linux-x86_64/egg/EGG-INFO\n",
            "copying deeprobust.egg-info/PKG-INFO -> build/bdist.linux-x86_64/egg/EGG-INFO\n",
            "copying deeprobust.egg-info/SOURCES.txt -> build/bdist.linux-x86_64/egg/EGG-INFO\n",
            "copying deeprobust.egg-info/dependency_links.txt -> build/bdist.linux-x86_64/egg/EGG-INFO\n",
            "copying deeprobust.egg-info/requires.txt -> build/bdist.linux-x86_64/egg/EGG-INFO\n",
            "copying deeprobust.egg-info/top_level.txt -> build/bdist.linux-x86_64/egg/EGG-INFO\n",
            "zip_safe flag not set; analyzing archive contents...\n",
            "creating dist\n",
            "creating 'dist/deeprobust-0.2.7-py3.10.egg' and adding 'build/bdist.linux-x86_64/egg' to it\n",
            "removing 'build/bdist.linux-x86_64/egg' (and everything under it)\n",
            "Processing deeprobust-0.2.7-py3.10.egg\n",
            "Copying deeprobust-0.2.7-py3.10.egg to /usr/local/lib/python3.10/dist-packages\n",
            "Adding deeprobust 0.2.7 to easy-install.pth file\n",
            "\n",
            "Installed /usr/local/lib/python3.10/dist-packages/deeprobust-0.2.7-py3.10.egg\n",
            "Processing dependencies for deeprobust==0.2.7\n",
            "Searching for gensim<4.0,>=3.8\n",
            "Reading https://pypi.org/simple/gensim/\n",
            "Downloading https://files.pythonhosted.org/packages/a0/b4/f4e45875a4cb1c4f6a76d6d07a2981753aab5f135dac2381f625e8807542/gensim-3.8.3.tar.gz#sha256=786adb0571f75114e9c5f7a31dd2e6eb39a9791f22c8757621545e2ded3ea367\n",
            "Best match: gensim 3.8.3\n",
            "Processing gensim-3.8.3.tar.gz\n",
            "Writing /tmp/easy_install-73yzvdgw/gensim-3.8.3/setup.cfg\n",
            "Running gensim-3.8.3/setup.py -q bdist_egg --dist-dir /tmp/easy_install-73yzvdgw/gensim-3.8.3/egg-dist-tmp-hpt643gy\n",
            "/usr/local/lib/python3.10/dist-packages/setuptools/__init__.py:84: _DeprecatedInstaller: setuptools.installer and fetch_build_eggs are deprecated.\n",
            "!!\n",
            "\n",
            "        ********************************************************************************\n",
            "        Requirements should be satisfied by a PEP 517 installer.\n",
            "        If you are using pip, you can try `pip install --use-pep517`.\n",
            "        ********************************************************************************\n",
            "\n",
            "!!\n",
            "  dist.fetch_build_eggs(dist.setup_requires)\n",
            "Traceback (most recent call last):\n",
            "  File \"/usr/local/lib/python3.10/dist-packages/setuptools/sandbox.py\", line 156, in save_modules\n",
            "    yield saved\n",
            "  File \"/usr/local/lib/python3.10/dist-packages/setuptools/sandbox.py\", line 198, in setup_context\n",
            "    yield\n",
            "  File \"/usr/local/lib/python3.10/dist-packages/setuptools/sandbox.py\", line 259, in run_setup\n",
            "    _execfile(setup_script, ns)\n",
            "  File \"/usr/local/lib/python3.10/dist-packages/setuptools/sandbox.py\", line 46, in _execfile\n",
            "    exec(code, globals, locals)\n",
            "  File \"/tmp/easy_install-73yzvdgw/gensim-3.8.3/setup.py\", line 367, in <module>\n",
            "  File \"/usr/local/lib/python3.10/dist-packages/setuptools/__init__.py\", line 107, in setup\n",
            "    return distutils.core.setup(**attrs)\n",
            "  File \"/usr/local/lib/python3.10/dist-packages/setuptools/_distutils/core.py\", line 185, in setup\n",
            "    return run_commands(dist)\n",
            "  File \"/usr/local/lib/python3.10/dist-packages/setuptools/_distutils/core.py\", line 201, in run_commands\n",
            "    dist.run_commands()\n",
            "  File \"/usr/local/lib/python3.10/dist-packages/setuptools/_distutils/dist.py\", line 969, in run_commands\n",
            "    self.run_command(cmd)\n",
            "  File \"/usr/local/lib/python3.10/dist-packages/setuptools/dist.py\", line 1244, in run_command\n",
            "    super().run_command(command)\n",
            "  File \"/usr/local/lib/python3.10/dist-packages/setuptools/_distutils/dist.py\", line 988, in run_command\n",
            "    cmd_obj.run()\n",
            "  File \"/usr/local/lib/python3.10/dist-packages/setuptools/command/bdist_egg.py\", line 155, in run\n",
            "    self.run_command(\"egg_info\")\n",
            "  File \"/usr/local/lib/python3.10/dist-packages/setuptools/_distutils/cmd.py\", line 318, in run_command\n",
            "    self.distribution.run_command(command)\n",
            "  File \"/usr/local/lib/python3.10/dist-packages/setuptools/dist.py\", line 1244, in run_command\n",
            "    super().run_command(command)\n",
            "  File \"/usr/local/lib/python3.10/dist-packages/setuptools/_distutils/dist.py\", line 988, in run_command\n",
            "    cmd_obj.run()\n",
            "  File \"/usr/local/lib/python3.10/dist-packages/setuptools/command/egg_info.py\", line 317, in run\n",
            "    self.find_sources()\n",
            "  File \"/usr/local/lib/python3.10/dist-packages/setuptools/command/egg_info.py\", line 325, in find_sources\n",
            "    mm.run()\n",
            "  File \"/usr/local/lib/python3.10/dist-packages/setuptools/command/egg_info.py\", line 573, in run\n",
            "    self.add_defaults()\n",
            "  File \"/usr/local/lib/python3.10/dist-packages/setuptools/command/egg_info.py\", line 611, in add_defaults\n",
            "    sdist.add_defaults(self)\n",
            "  File \"/usr/local/lib/python3.10/dist-packages/setuptools/command/sdist.py\", line 106, in add_defaults\n",
            "    super().add_defaults()\n",
            "  File \"/usr/local/lib/python3.10/dist-packages/setuptools/_distutils/command/sdist.py\", line 251, in add_defaults\n",
            "    self._add_defaults_ext()\n",
            "  File \"/usr/local/lib/python3.10/dist-packages/setuptools/_distutils/command/sdist.py\", line 335, in _add_defaults_ext\n",
            "    build_ext = self.get_finalized_command('build_ext')\n",
            "  File \"/usr/local/lib/python3.10/dist-packages/setuptools/_distutils/cmd.py\", line 305, in get_finalized_command\n",
            "    cmd_obj.ensure_finalized()\n",
            "  File \"/usr/local/lib/python3.10/dist-packages/setuptools/_distutils/cmd.py\", line 111, in ensure_finalized\n",
            "    self.finalize_options()\n",
            "  File \"/tmp/easy_install-73yzvdgw/gensim-3.8.3/setup.py\", line 111, in finalize_options\n",
            "AttributeError: 'dict' object has no attribute '__NUMPY_SETUP__'\n",
            "\n",
            "During handling of the above exception, another exception occurred:\n",
            "\n",
            "Traceback (most recent call last):\n",
            "  File \"/content/DeepRobust/setup.py\", line 8, in <module>\n",
            "    setup(name = \"deeprobust\",\n",
            "  File \"/usr/local/lib/python3.10/dist-packages/setuptools/__init__.py\", line 107, in setup\n",
            "    return distutils.core.setup(**attrs)\n",
            "  File \"/usr/local/lib/python3.10/dist-packages/setuptools/_distutils/core.py\", line 185, in setup\n",
            "    return run_commands(dist)\n",
            "  File \"/usr/local/lib/python3.10/dist-packages/setuptools/_distutils/core.py\", line 201, in run_commands\n",
            "    dist.run_commands()\n",
            "  File \"/usr/local/lib/python3.10/dist-packages/setuptools/_distutils/dist.py\", line 969, in run_commands\n",
            "    self.run_command(cmd)\n",
            "  File \"/usr/local/lib/python3.10/dist-packages/setuptools/dist.py\", line 1244, in run_command\n",
            "    super().run_command(command)\n",
            "  File \"/usr/local/lib/python3.10/dist-packages/setuptools/_distutils/dist.py\", line 988, in run_command\n",
            "    cmd_obj.run()\n",
            "  File \"/usr/local/lib/python3.10/dist-packages/setuptools/command/install.py\", line 80, in run\n",
            "    self.do_egg_install()\n",
            "  File \"/usr/local/lib/python3.10/dist-packages/setuptools/command/install.py\", line 137, in do_egg_install\n",
            "    cmd.run(show_deprecation=False)\n",
            "  File \"/usr/local/lib/python3.10/dist-packages/setuptools/command/easy_install.py\", line 416, in run\n",
            "    self.easy_install(spec, not self.no_deps)\n",
            "  File \"/usr/local/lib/python3.10/dist-packages/setuptools/command/easy_install.py\", line 658, in easy_install\n",
            "    return self.install_item(None, spec, tmpdir, deps, True)\n",
            "  File \"/usr/local/lib/python3.10/dist-packages/setuptools/command/easy_install.py\", line 705, in install_item\n",
            "    self.process_distribution(spec, dist, deps)\n",
            "  File \"/usr/local/lib/python3.10/dist-packages/setuptools/command/easy_install.py\", line 750, in process_distribution\n",
            "    distros = WorkingSet([]).resolve(\n",
            "  File \"/usr/local/lib/python3.10/dist-packages/pkg_resources/__init__.py\", line 827, in resolve\n",
            "    dist = self._resolve_dist(\n",
            "  File \"/usr/local/lib/python3.10/dist-packages/pkg_resources/__init__.py\", line 863, in _resolve_dist\n",
            "    dist = best[req.key] = env.best_match(\n",
            "  File \"/usr/local/lib/python3.10/dist-packages/pkg_resources/__init__.py\", line 1133, in best_match\n",
            "    return self.obtain(req, installer)\n",
            "  File \"/usr/local/lib/python3.10/dist-packages/pkg_resources/__init__.py\", line 1145, in obtain\n",
            "    return installer(requirement)\n",
            "  File \"/usr/local/lib/python3.10/dist-packages/setuptools/command/easy_install.py\", line 677, in easy_install\n",
            "    return self.install_item(spec, dist.location, tmpdir, deps)\n",
            "  File \"/usr/local/lib/python3.10/dist-packages/setuptools/command/easy_install.py\", line 703, in install_item\n",
            "    dists = self.install_eggs(spec, download, tmpdir)\n",
            "  File \"/usr/local/lib/python3.10/dist-packages/setuptools/command/easy_install.py\", line 896, in install_eggs\n",
            "    return self.build_and_install(setup_script, setup_base)\n",
            "  File \"/usr/local/lib/python3.10/dist-packages/setuptools/command/easy_install.py\", line 1170, in build_and_install\n",
            "    self.run_setup(setup_script, setup_base, args)\n",
            "  File \"/usr/local/lib/python3.10/dist-packages/setuptools/command/easy_install.py\", line 1154, in run_setup\n",
            "    run_setup(setup_script, args)\n",
            "  File \"/usr/local/lib/python3.10/dist-packages/setuptools/sandbox.py\", line 249, in run_setup\n",
            "    with setup_context(setup_dir):\n",
            "  File \"/usr/lib/python3.10/contextlib.py\", line 153, in __exit__\n",
            "    self.gen.throw(typ, value, traceback)\n",
            "  File \"/usr/local/lib/python3.10/dist-packages/setuptools/sandbox.py\", line 190, in setup_context\n",
            "    with save_modules():\n",
            "  File \"/usr/lib/python3.10/contextlib.py\", line 153, in __exit__\n",
            "    self.gen.throw(typ, value, traceback)\n",
            "  File \"/usr/local/lib/python3.10/dist-packages/setuptools/sandbox.py\", line 169, in save_modules\n",
            "    saved_exc.resume()\n",
            "  File \"/usr/local/lib/python3.10/dist-packages/setuptools/sandbox.py\", line 143, in resume\n",
            "    raise exc.with_traceback(self._tb)\n",
            "  File \"/usr/local/lib/python3.10/dist-packages/setuptools/sandbox.py\", line 156, in save_modules\n",
            "    yield saved\n",
            "  File \"/usr/local/lib/python3.10/dist-packages/setuptools/sandbox.py\", line 198, in setup_context\n",
            "    yield\n",
            "  File \"/usr/local/lib/python3.10/dist-packages/setuptools/sandbox.py\", line 259, in run_setup\n",
            "    _execfile(setup_script, ns)\n",
            "  File \"/usr/local/lib/python3.10/dist-packages/setuptools/sandbox.py\", line 46, in _execfile\n",
            "    exec(code, globals, locals)\n",
            "  File \"/tmp/easy_install-73yzvdgw/gensim-3.8.3/setup.py\", line 367, in <module>\n",
            "  File \"/usr/local/lib/python3.10/dist-packages/setuptools/__init__.py\", line 107, in setup\n",
            "    return distutils.core.setup(**attrs)\n",
            "  File \"/usr/local/lib/python3.10/dist-packages/setuptools/_distutils/core.py\", line 185, in setup\n",
            "    return run_commands(dist)\n",
            "  File \"/usr/local/lib/python3.10/dist-packages/setuptools/_distutils/core.py\", line 201, in run_commands\n",
            "    dist.run_commands()\n",
            "  File \"/usr/local/lib/python3.10/dist-packages/setuptools/_distutils/dist.py\", line 969, in run_commands\n",
            "    self.run_command(cmd)\n",
            "  File \"/usr/local/lib/python3.10/dist-packages/setuptools/dist.py\", line 1244, in run_command\n",
            "    super().run_command(command)\n",
            "  File \"/usr/local/lib/python3.10/dist-packages/setuptools/_distutils/dist.py\", line 988, in run_command\n",
            "    cmd_obj.run()\n",
            "  File \"/usr/local/lib/python3.10/dist-packages/setuptools/command/bdist_egg.py\", line 155, in run\n",
            "    self.run_command(\"egg_info\")\n",
            "  File \"/usr/local/lib/python3.10/dist-packages/setuptools/_distutils/cmd.py\", line 318, in run_command\n",
            "    self.distribution.run_command(command)\n",
            "  File \"/usr/local/lib/python3.10/dist-packages/setuptools/dist.py\", line 1244, in run_command\n",
            "    super().run_command(command)\n",
            "  File \"/usr/local/lib/python3.10/dist-packages/setuptools/_distutils/dist.py\", line 988, in run_command\n",
            "    cmd_obj.run()\n",
            "  File \"/usr/local/lib/python3.10/dist-packages/setuptools/command/egg_info.py\", line 317, in run\n",
            "    self.find_sources()\n",
            "  File \"/usr/local/lib/python3.10/dist-packages/setuptools/command/egg_info.py\", line 325, in find_sources\n",
            "    mm.run()\n",
            "  File \"/usr/local/lib/python3.10/dist-packages/setuptools/command/egg_info.py\", line 573, in run\n",
            "    self.add_defaults()\n",
            "  File \"/usr/local/lib/python3.10/dist-packages/setuptools/command/egg_info.py\", line 611, in add_defaults\n",
            "    sdist.add_defaults(self)\n",
            "  File \"/usr/local/lib/python3.10/dist-packages/setuptools/command/sdist.py\", line 106, in add_defaults\n",
            "    super().add_defaults()\n",
            "  File \"/usr/local/lib/python3.10/dist-packages/setuptools/_distutils/command/sdist.py\", line 251, in add_defaults\n",
            "    self._add_defaults_ext()\n",
            "  File \"/usr/local/lib/python3.10/dist-packages/setuptools/_distutils/command/sdist.py\", line 335, in _add_defaults_ext\n",
            "    build_ext = self.get_finalized_command('build_ext')\n",
            "  File \"/usr/local/lib/python3.10/dist-packages/setuptools/_distutils/cmd.py\", line 305, in get_finalized_command\n",
            "    cmd_obj.ensure_finalized()\n",
            "  File \"/usr/local/lib/python3.10/dist-packages/setuptools/_distutils/cmd.py\", line 111, in ensure_finalized\n",
            "    self.finalize_options()\n",
            "  File \"/tmp/easy_install-73yzvdgw/gensim-3.8.3/setup.py\", line 111, in finalize_options\n",
            "AttributeError: 'dict' object has no attribute '__NUMPY_SETUP__'\n"
          ]
        }
      ],
      "source": [
        "!git clone https://github.com/DSE-MSU/DeepRobust.git\n",
        "%cd DeepRobust\n",
        "!python setup.py install"
      ]
    },
    {
      "cell_type": "code",
      "execution_count": null,
      "metadata": {
        "id": "7xPmVFqbK7hT"
      },
      "outputs": [],
      "source": []
    },
    {
      "cell_type": "code",
      "execution_count": null,
      "metadata": {
        "id": "ji3JxwyEK_t_"
      },
      "outputs": [],
      "source": []
    },
    {
      "cell_type": "code",
      "execution_count": null,
      "metadata": {
        "id": "VeS6Zrk2K_vk"
      },
      "outputs": [],
      "source": [
        "import numpy as np"
      ]
    },
    {
      "cell_type": "code",
      "execution_count": null,
      "metadata": {
        "id": "oCbGn-1D3QYY"
      },
      "outputs": [],
      "source": [
        "import random"
      ]
    },
    {
      "cell_type": "code",
      "execution_count": null,
      "metadata": {
        "id": "aDvqFDcZ41hv"
      },
      "outputs": [],
      "source": [
        "import networkx as nx\n",
        "import matplotlib.pyplot as plt"
      ]
    },
    {
      "cell_type": "code",
      "execution_count": null,
      "metadata": {
        "id": "2f2jPrzuhPa-"
      },
      "outputs": [],
      "source": []
    },
    {
      "cell_type": "code",
      "execution_count": null,
      "metadata": {
        "id": "ZTs31Yd9hPdO"
      },
      "outputs": [],
      "source": []
    },
    {
      "cell_type": "code",
      "execution_count": null,
      "metadata": {
        "colab": {
          "base_uri": "https://localhost:8080/",
          "height": 382
        },
        "id": "sNORB6_4rdmX",
        "outputId": "5bd02d3e-ddf4-49d6-caaf-d58b1f182e06"
      },
      "outputs": [
        {
          "output_type": "stream",
          "name": "stdout",
          "text": [
            "Collecting GraphRicciCurvature\n",
            "  Downloading GraphRicciCurvature-0.5.3.1-py3-none-any.whl (23 kB)\n",
            "Requirement already satisfied: cython in /usr/local/lib/python3.10/dist-packages (from GraphRicciCurvature) (3.0.8)\n",
            "Requirement already satisfied: numpy in /usr/local/lib/python3.10/dist-packages (from GraphRicciCurvature) (1.25.2)\n",
            "Requirement already satisfied: scipy>=1.0 in /usr/local/lib/python3.10/dist-packages (from GraphRicciCurvature) (1.11.4)\n",
            "Requirement already satisfied: networkx>=2.0 in /usr/local/lib/python3.10/dist-packages (from GraphRicciCurvature) (3.2.1)\n",
            "Collecting pot>=0.8.0 (from GraphRicciCurvature)\n",
            "  Downloading POT-0.9.3-cp310-cp310-manylinux_2_17_x86_64.manylinux2014_x86_64.whl (823 kB)\n",
            "\u001b[2K     \u001b[90m━━━━━━━━━━━━━━━━━━━━━━━━━━━━━━━━━━━━━━━━\u001b[0m \u001b[32m823.0/823.0 kB\u001b[0m \u001b[31m22.9 MB/s\u001b[0m eta \u001b[36m0:00:00\u001b[0m\n",
            "\u001b[?25hRequirement already satisfied: packaging in /usr/local/lib/python3.10/dist-packages (from GraphRicciCurvature) (23.2)\n",
            "Collecting networkit>=6.1 (from GraphRicciCurvature)\n",
            "  Downloading networkit-11.0-cp310-cp310-manylinux_2_17_x86_64.manylinux2014_x86_64.whl (13.7 MB)\n",
            "\u001b[2K     \u001b[90m━━━━━━━━━━━━━━━━━━━━━━━━━━━━━━━━━━━━━━━━\u001b[0m \u001b[32m13.7/13.7 MB\u001b[0m \u001b[31m70.0 MB/s\u001b[0m eta \u001b[36m0:00:00\u001b[0m\n",
            "\u001b[?25hRequirement already satisfied: python-louvain in /usr/local/lib/python3.10/dist-packages (from GraphRicciCurvature) (0.16)\n",
            "Installing collected packages: pot, networkit, GraphRicciCurvature\n",
            "Successfully installed GraphRicciCurvature-0.5.3.1 networkit-11.0 pot-0.9.3\n",
            "Requirement already satisfied: scikit-learn in /usr/local/lib/python3.10/dist-packages (1.2.2)\n",
            "Requirement already satisfied: numpy>=1.17.3 in /usr/local/lib/python3.10/dist-packages (from scikit-learn) (1.25.2)\n",
            "Requirement already satisfied: scipy>=1.3.2 in /usr/local/lib/python3.10/dist-packages (from scikit-learn) (1.11.4)\n",
            "Requirement already satisfied: joblib>=1.1.1 in /usr/local/lib/python3.10/dist-packages (from scikit-learn) (1.3.2)\n",
            "Requirement already satisfied: threadpoolctl>=2.0.0 in /usr/local/lib/python3.10/dist-packages (from scikit-learn) (3.3.0)\n"
          ]
        },
        {
          "output_type": "display_data",
          "data": {
            "text/html": [
              "\n",
              "\t\t\t<script type=\"text/javascript\">\n",
              "\t\t\t<!--\n",
              "\t\t\t\t\n",
              "\t\t\t{\n",
              "\t\t\t\tvar element = document.getElementById('NetworKit_script');\n",
              "\t\t\t\tif (element) {\n",
              "\t\t\t\t\telement.parentNode.removeChild(element);\n",
              "\t\t\t\t}\n",
              "\t\t\t\telement = document.createElement('script');\n",
              "\t\t\t\telement.type = 'text/javascript';\n",
              "\t\t\t\telement.innerHTML = 'function NetworKit_pageEmbed(id) { var i, j; var elements; elements = document.getElementById(id).getElementsByClassName(\"Plot\"); for (i=0; i<elements.length; i++) { elements[i].id = id + \"_Plot_\" + i; var data = elements[i].getAttribute(\"data-image\").split(\"|\"); elements[i].removeAttribute(\"data-image\"); var content = \"<div class=\\\\\"Image\\\\\" id=\\\\\"\" + elements[i].id + \"_Image\\\\\" />\"; elements[i].innerHTML = content; elements[i].setAttribute(\"data-image-index\", 0); elements[i].setAttribute(\"data-image-length\", data.length); for (j=0; j<data.length; j++) { elements[i].setAttribute(\"data-image-\" + j, data[j]); } NetworKit_plotUpdate(elements[i]); elements[i].onclick = function (e) { NetworKit_overlayShow((e.target) ? e.target : e.srcElement); } } elements = document.getElementById(id).getElementsByClassName(\"HeatCell\"); for (i=0; i<elements.length; i++) { var data = parseFloat(elements[i].getAttribute(\"data-heat\")); var color = \"#00FF00\"; if (data <= 1 && data > 0) { color = \"hsla(0, 100%, 75%, \" + (data) + \")\"; } else if (data <= 0 && data >= -1) { color = \"hsla(240, 100%, 75%, \" + (-data) + \")\"; } elements[i].style.backgroundColor = color; } elements = document.getElementById(id).getElementsByClassName(\"Details\"); for (i=0; i<elements.length; i++) { elements[i].setAttribute(\"data-title\", \"-\"); NetworKit_toggleDetails(elements[i]); elements[i].onclick = function (e) { NetworKit_toggleDetails((e.target) ? e.target : e.srcElement); } } elements = document.getElementById(id).getElementsByClassName(\"MathValue\"); for (i=elements.length-1; i>=0; i--) { value = elements[i].innerHTML.trim(); if (value === \"nan\") { elements[i].parentNode.innerHTML = \"\" } } elements = document.getElementById(id).getElementsByClassName(\"SubCategory\"); for (i=elements.length-1; i>=0; i--) { value = elements[i].innerHTML.trim(); if (value === \"\") { elements[i].parentNode.removeChild(elements[i]) } } elements = document.getElementById(id).getElementsByClassName(\"Category\"); for (i=elements.length-1; i>=0; i--) { value = elements[i].innerHTML.trim(); if (value === \"\") { elements[i].parentNode.removeChild(elements[i]) } } var isFirefox = false; try { isFirefox = typeof InstallTrigger !== \"undefined\"; } catch (e) {} if (!isFirefox) { alert(\"Currently the function\\'s output is only fully supported by Firefox.\"); } } function NetworKit_plotUpdate(source) { var index = source.getAttribute(\"data-image-index\"); var data = source.getAttribute(\"data-image-\" + index); var image = document.getElementById(source.id + \"_Image\"); image.style.backgroundImage = \"url(\" + data + \")\"; } function NetworKit_showElement(id, show) { var element = document.getElementById(id); element.style.display = (show) ? \"block\" : \"none\"; } function NetworKit_overlayShow(source) { NetworKit_overlayUpdate(source); NetworKit_showElement(\"NetworKit_Overlay\", true); } function NetworKit_overlayUpdate(source) { document.getElementById(\"NetworKit_Overlay_Title\").innerHTML = source.title; var index = source.getAttribute(\"data-image-index\"); var data = source.getAttribute(\"data-image-\" + index); var image = document.getElementById(\"NetworKit_Overlay_Image\"); image.setAttribute(\"data-id\", source.id); image.style.backgroundImage = \"url(\" + data + \")\"; var link = document.getElementById(\"NetworKit_Overlay_Toolbar_Bottom_Save\"); link.href = data; link.download = source.title + \".svg\"; } function NetworKit_overlayImageShift(delta) { var image = document.getElementById(\"NetworKit_Overlay_Image\"); var source = document.getElementById(image.getAttribute(\"data-id\")); var index = parseInt(source.getAttribute(\"data-image-index\")); var length = parseInt(source.getAttribute(\"data-image-length\")); var index = (index+delta) % length; if (index < 0) { index = length + index; } source.setAttribute(\"data-image-index\", index); NetworKit_overlayUpdate(source); } function NetworKit_toggleDetails(source) { var childs = source.children; var show = false; if (source.getAttribute(\"data-title\") == \"-\") { source.setAttribute(\"data-title\", \"+\"); show = false; } else { source.setAttribute(\"data-title\", \"-\"); show = true; } for (i=0; i<childs.length; i++) { if (show) { childs[i].style.display = \"block\"; } else { childs[i].style.display = \"none\"; } } }';\n",
              "\t\t\t\telement.setAttribute('id', 'NetworKit_script');\n",
              "\t\t\t\tdocument.head.appendChild(element);\n",
              "\t\t\t}\n",
              "\t\t\n",
              "\t\t\t\t\n",
              "\t\t\t{\n",
              "\t\t\t\tvar element = document.getElementById('NetworKit_style');\n",
              "\t\t\t\tif (element) {\n",
              "\t\t\t\t\telement.parentNode.removeChild(element);\n",
              "\t\t\t\t}\n",
              "\t\t\t\telement = document.createElement('style');\n",
              "\t\t\t\telement.type = 'text/css';\n",
              "\t\t\t\telement.innerHTML = '.NetworKit_Page { font-family: Arial, Helvetica, sans-serif; font-size: 14px; } .NetworKit_Page .Value:before { font-family: Arial, Helvetica, sans-serif; font-size: 1.05em; content: attr(data-title) \":\"; margin-left: -2.5em; padding-right: 0.5em; } .NetworKit_Page .Details .Value:before { display: block; } .NetworKit_Page .Value { font-family: monospace; white-space: pre; padding-left: 2.5em; white-space: -moz-pre-wrap !important; white-space: -pre-wrap; white-space: -o-pre-wrap; white-space: pre-wrap; word-wrap: break-word; tab-size: 4; -moz-tab-size: 4; } .NetworKit_Page .Category { clear: both; padding-left: 1em; margin-bottom: 1.5em; } .NetworKit_Page .Category:before { content: attr(data-title); font-size: 1.75em; display: block; margin-left: -0.8em; margin-bottom: 0.5em; } .NetworKit_Page .SubCategory { margin-bottom: 1.5em; padding-left: 1em; } .NetworKit_Page .SubCategory:before { font-size: 1.6em; display: block; margin-left: -0.8em; margin-bottom: 0.5em; } .NetworKit_Page .SubCategory[data-title]:before { content: attr(data-title); } .NetworKit_Page .Block { display: block; } .NetworKit_Page .Block:after { content: \".\"; visibility: hidden; display: block; height: 0; clear: both; } .NetworKit_Page .Block .Thumbnail_Overview, .NetworKit_Page .Block .Thumbnail_ScatterPlot { width: 260px; float: left; } .NetworKit_Page .Block .Thumbnail_Overview img, .NetworKit_Page .Block .Thumbnail_ScatterPlot img { width: 260px; } .NetworKit_Page .Block .Thumbnail_Overview:before, .NetworKit_Page .Block .Thumbnail_ScatterPlot:before { display: block; text-align: center; font-weight: bold; } .NetworKit_Page .Block .Thumbnail_Overview:before { content: attr(data-title); } .NetworKit_Page .HeatCell { font-family: \"Courier New\", Courier, monospace; cursor: pointer; } .NetworKit_Page .HeatCell, .NetworKit_Page .HeatCellName { display: inline; padding: 0.1em; margin-right: 2px; background-color: #FFFFFF } .NetworKit_Page .HeatCellName { margin-left: 0.25em; } .NetworKit_Page .HeatCell:before { content: attr(data-heat); display: inline-block; color: #000000; width: 4em; text-align: center; } .NetworKit_Page .Measure { clear: both; } .NetworKit_Page .Measure .Details { cursor: pointer; } .NetworKit_Page .Measure .Details:before { content: \"[\" attr(data-title) \"]\"; display: block; } .NetworKit_Page .Measure .Details .Value { border-left: 1px dotted black; margin-left: 0.4em; padding-left: 3.5em; pointer-events: none; } .NetworKit_Page .Measure .Details .Spacer:before { content: \".\"; opacity: 0.0; pointer-events: none; } .NetworKit_Page .Measure .Plot { width: 440px; height: 440px; cursor: pointer; float: left; margin-left: -0.9em; margin-right: 20px; } .NetworKit_Page .Measure .Plot .Image { background-repeat: no-repeat; background-position: center center; background-size: contain; height: 100%; pointer-events: none; } .NetworKit_Page .Measure .Stat { width: 500px; float: left; } .NetworKit_Page .Measure .Stat .Group { padding-left: 1.25em; margin-bottom: 0.75em; } .NetworKit_Page .Measure .Stat .Group .Title { font-size: 1.1em; display: block; margin-bottom: 0.3em; margin-left: -0.75em; border-right-style: dotted; border-right-width: 1px; border-bottom-style: dotted; border-bottom-width: 1px; background-color: #D0D0D0; padding-left: 0.2em; } .NetworKit_Page .Measure .Stat .Group .List { -webkit-column-count: 3; -moz-column-count: 3; column-count: 3; } .NetworKit_Page .Measure .Stat .Group .List .Entry { position: relative; line-height: 1.75em; } .NetworKit_Page .Measure .Stat .Group .List .Entry[data-tooltip]:before { position: absolute; left: 0; top: -40px; background-color: #808080; color: #ffffff; height: 30px; line-height: 30px; border-radius: 5px; padding: 0 15px; content: attr(data-tooltip); white-space: nowrap; display: none; } .NetworKit_Page .Measure .Stat .Group .List .Entry[data-tooltip]:after { position: absolute; left: 15px; top: -10px; border-top: 7px solid #808080; border-left: 7px solid transparent; border-right: 7px solid transparent; content: \"\"; display: none; } .NetworKit_Page .Measure .Stat .Group .List .Entry[data-tooltip]:hover:after, .NetworKit_Page .Measure .Stat .Group .List .Entry[data-tooltip]:hover:before { display: block; } .NetworKit_Page .Measure .Stat .Group .List .Entry .MathValue { font-family: \"Courier New\", Courier, monospace; } .NetworKit_Page .Measure:after { content: \".\"; visibility: hidden; display: block; height: 0; clear: both; } .NetworKit_Page .PartitionPie { clear: both; } .NetworKit_Page .PartitionPie img { width: 600px; } #NetworKit_Overlay { left: 0px; top: 0px; display: none; position: absolute; width: 100%; height: 100%; background-color: rgba(0,0,0,0.6); z-index: 1000; } #NetworKit_Overlay_Title { position: absolute; color: white; transform: rotate(-90deg); width: 32em; height: 32em; padding-right: 0.5em; padding-top: 0.5em; text-align: right; font-size: 40px; } #NetworKit_Overlay .button { background: white; cursor: pointer; } #NetworKit_Overlay .button:before { size: 13px; display: inline-block; text-align: center; margin-top: 0.5em; margin-bottom: 0.5em; width: 1.5em; height: 1.5em; } #NetworKit_Overlay .icon-close:before { content: \"X\"; } #NetworKit_Overlay .icon-previous:before { content: \"P\"; } #NetworKit_Overlay .icon-next:before { content: \"N\"; } #NetworKit_Overlay .icon-save:before { content: \"S\"; } #NetworKit_Overlay_Toolbar_Top, #NetworKit_Overlay_Toolbar_Bottom { position: absolute; width: 40px; right: 13px; text-align: right; z-index: 1100; } #NetworKit_Overlay_Toolbar_Top { top: 0.5em; } #NetworKit_Overlay_Toolbar_Bottom { Bottom: 0.5em; } #NetworKit_Overlay_ImageContainer { position: absolute; top: 5%; left: 5%; height: 90%; width: 90%; background-repeat: no-repeat; background-position: center center; background-size: contain; } #NetworKit_Overlay_Image { height: 100%; width: 100%; background-repeat: no-repeat; background-position: center center; background-size: contain; }';\n",
              "\t\t\t\telement.setAttribute('id', 'NetworKit_style');\n",
              "\t\t\t\tdocument.head.appendChild(element);\n",
              "\t\t\t}\n",
              "\t\t\n",
              "\t\t\t\t\n",
              "\t\t\t{\n",
              "\t\t\t\tvar element = document.getElementById('NetworKit_Overlay');\n",
              "\t\t\t\tif (element) {\n",
              "\t\t\t\t\telement.parentNode.removeChild(element);\n",
              "\t\t\t\t}\n",
              "\t\t\t\telement = document.createElement('div');\n",
              "\t\t\t\telement.innerHTML = '<div id=\"NetworKit_Overlay_Toolbar_Top\"><div class=\"button icon-close\" id=\"NetworKit_Overlay_Close\" /></div><div id=\"NetworKit_Overlay_Title\" /> <div id=\"NetworKit_Overlay_ImageContainer\"> <div id=\"NetworKit_Overlay_Image\" /> </div> <div id=\"NetworKit_Overlay_Toolbar_Bottom\"> <div class=\"button icon-previous\" onclick=\"NetworKit_overlayImageShift(-1)\" /> <div class=\"button icon-next\" onclick=\"NetworKit_overlayImageShift(1)\" /> <a id=\"NetworKit_Overlay_Toolbar_Bottom_Save\"><div class=\"button icon-save\" /></a> </div>';\n",
              "\t\t\t\telement.setAttribute('id', 'NetworKit_Overlay');\n",
              "\t\t\t\tdocument.body.appendChild(element);\n",
              "\t\t\t\tdocument.getElementById('NetworKit_Overlay_Close').onclick = function (e) {\n",
              "\t\t\t\t\tdocument.getElementById('NetworKit_Overlay').style.display = 'none';\n",
              "\t\t\t\t}\n",
              "\t\t\t}\n",
              "\t\t\n",
              "\t\t\t-->\n",
              "\t\t\t</script>\n",
              "\t\t"
            ]
          },
          "metadata": {}
        }
      ],
      "source": [
        "# colab setting\n",
        "!pip install GraphRicciCurvature\n",
        "!pip install scikit-learn\n",
        "\n",
        "# import sys\n",
        "# sys.path.append(\"../\")\n",
        "\n",
        "\n",
        "import networkx as nx\n",
        "import numpy as np\n",
        "import math\n",
        "\n",
        "# matplotlib setting\n",
        "%matplotlib inline\n",
        "import matplotlib.pyplot as plt\n",
        "\n",
        "# to print logs in jupyter notebook\n",
        "import logging\n",
        "logging.basicConfig(format='%(levelname)s:%(message)s', level=logging.ERROR)\n",
        "\n",
        "# load GraphRicciCuravture package\n",
        "from GraphRicciCurvature.OllivierRicci import OllivierRicci\n",
        "from GraphRicciCurvature.FormanRicci import FormanRicci\n",
        "\n",
        "\n",
        "# load python-louvain for modularity computation\n",
        "import community.community_louvain as community_louvain\n",
        "\n",
        "# for ARI computation\n",
        "from sklearn import preprocessing, metrics"
      ]
    },
    {
      "cell_type": "code",
      "execution_count": null,
      "metadata": {
        "colab": {
          "base_uri": "https://localhost:8080/"
        },
        "id": "P82BDBrDrdmb",
        "outputId": "f281112d-b6cb-4331-e7ad-2a044039039a"
      },
      "outputs": [
        {
          "output_type": "stream",
          "name": "stdout",
          "text": [
            "0.5.3.1\n"
          ]
        }
      ],
      "source": [
        "import GraphRicciCurvature\n",
        "print(GraphRicciCurvature.__version__)\n"
      ]
    },
    {
      "cell_type": "code",
      "execution_count": null,
      "metadata": {
        "id": "6bd7G5BuhPfd"
      },
      "outputs": [],
      "source": [
        "import matplotlib.pyplot as plt"
      ]
    },
    {
      "cell_type": "markdown",
      "metadata": {
        "id": "FgzUh42Yu3IO"
      },
      "source": [
        "##using deeprobust load CITESEER dataset"
      ]
    },
    {
      "cell_type": "code",
      "execution_count": null,
      "metadata": {
        "colab": {
          "base_uri": "https://localhost:8080/"
        },
        "id": "99S3ZhjqOeRU",
        "outputId": "2e36b4bc-f2fd-41a2-89e7-30697b2fd781"
      },
      "outputs": [
        {
          "output_type": "stream",
          "name": "stdout",
          "text": [
            "Collecting torch-geometric\n",
            "  Downloading torch_geometric-2.5.0-py3-none-any.whl (1.1 MB)\n",
            "\u001b[?25l     \u001b[90m━━━━━━━━━━━━━━━━━━━━━━━━━━━━━━━━━━━━━━━━\u001b[0m \u001b[32m0.0/1.1 MB\u001b[0m \u001b[31m?\u001b[0m eta \u001b[36m-:--:--\u001b[0m\r\u001b[2K     \u001b[91m━━━━━\u001b[0m\u001b[91m╸\u001b[0m\u001b[90m━━━━━━━━━━━━━━━━━━━━━━━━━━━━━━━━━━\u001b[0m \u001b[32m0.2/1.1 MB\u001b[0m \u001b[31m4.4 MB/s\u001b[0m eta \u001b[36m0:00:01\u001b[0m\r\u001b[2K     \u001b[90m━━━━━━━━━━━━━━━━━━━━━━━━━━━━━━━━━━━━━━━━\u001b[0m \u001b[32m1.1/1.1 MB\u001b[0m \u001b[31m16.7 MB/s\u001b[0m eta \u001b[36m0:00:00\u001b[0m\n",
            "\u001b[?25hRequirement already satisfied: tqdm in /usr/local/lib/python3.10/dist-packages (from torch-geometric) (4.66.2)\n",
            "Requirement already satisfied: numpy in /usr/local/lib/python3.10/dist-packages (from torch-geometric) (1.25.2)\n",
            "Requirement already satisfied: scipy in /usr/local/lib/python3.10/dist-packages (from torch-geometric) (1.11.4)\n",
            "Requirement already satisfied: fsspec in /usr/local/lib/python3.10/dist-packages (from torch-geometric) (2023.6.0)\n",
            "Requirement already satisfied: jinja2 in /usr/local/lib/python3.10/dist-packages (from torch-geometric) (3.1.3)\n",
            "Requirement already satisfied: aiohttp in /usr/local/lib/python3.10/dist-packages (from torch-geometric) (3.9.3)\n",
            "Requirement already satisfied: requests in /usr/local/lib/python3.10/dist-packages (from torch-geometric) (2.31.0)\n",
            "Requirement already satisfied: pyparsing in /usr/local/lib/python3.10/dist-packages (from torch-geometric) (3.1.1)\n",
            "Requirement already satisfied: scikit-learn in /usr/local/lib/python3.10/dist-packages (from torch-geometric) (1.2.2)\n",
            "Requirement already satisfied: psutil>=5.8.0 in /usr/local/lib/python3.10/dist-packages (from torch-geometric) (5.9.5)\n",
            "Requirement already satisfied: aiosignal>=1.1.2 in /usr/local/lib/python3.10/dist-packages (from aiohttp->torch-geometric) (1.3.1)\n",
            "Requirement already satisfied: attrs>=17.3.0 in /usr/local/lib/python3.10/dist-packages (from aiohttp->torch-geometric) (23.2.0)\n",
            "Requirement already satisfied: frozenlist>=1.1.1 in /usr/local/lib/python3.10/dist-packages (from aiohttp->torch-geometric) (1.4.1)\n",
            "Requirement already satisfied: multidict<7.0,>=4.5 in /usr/local/lib/python3.10/dist-packages (from aiohttp->torch-geometric) (6.0.5)\n",
            "Requirement already satisfied: yarl<2.0,>=1.0 in /usr/local/lib/python3.10/dist-packages (from aiohttp->torch-geometric) (1.9.4)\n",
            "Requirement already satisfied: async-timeout<5.0,>=4.0 in /usr/local/lib/python3.10/dist-packages (from aiohttp->torch-geometric) (4.0.3)\n",
            "Requirement already satisfied: MarkupSafe>=2.0 in /usr/local/lib/python3.10/dist-packages (from jinja2->torch-geometric) (2.1.5)\n",
            "Requirement already satisfied: charset-normalizer<4,>=2 in /usr/local/lib/python3.10/dist-packages (from requests->torch-geometric) (3.3.2)\n",
            "Requirement already satisfied: idna<4,>=2.5 in /usr/local/lib/python3.10/dist-packages (from requests->torch-geometric) (3.6)\n",
            "Requirement already satisfied: urllib3<3,>=1.21.1 in /usr/local/lib/python3.10/dist-packages (from requests->torch-geometric) (2.0.7)\n",
            "Requirement already satisfied: certifi>=2017.4.17 in /usr/local/lib/python3.10/dist-packages (from requests->torch-geometric) (2024.2.2)\n",
            "Requirement already satisfied: joblib>=1.1.1 in /usr/local/lib/python3.10/dist-packages (from scikit-learn->torch-geometric) (1.3.2)\n",
            "Requirement already satisfied: threadpoolctl>=2.0.0 in /usr/local/lib/python3.10/dist-packages (from scikit-learn->torch-geometric) (3.3.0)\n",
            "Installing collected packages: torch-geometric\n",
            "Successfully installed torch-geometric-2.5.0\n"
          ]
        }
      ],
      "source": [
        "import locale\n",
        "def getpreferredencoding(do_setlocale = True):\n",
        "    return \"UTF-8\"\n",
        "locale.getpreferredencoding = getpreferredencoding\n",
        "\n",
        "# Install torch-geometric\n",
        "!pip install torch-geometric\n"
      ]
    },
    {
      "cell_type": "code",
      "execution_count": null,
      "metadata": {
        "id": "ueMgewxptL_j"
      },
      "outputs": [],
      "source": []
    },
    {
      "cell_type": "code",
      "execution_count": null,
      "metadata": {
        "colab": {
          "base_uri": "https://localhost:8080/"
        },
        "id": "qm2eUFQdc7Jj",
        "outputId": "f592b9d1-8ec5-4675-d556-6936aae94c34"
      },
      "outputs": [
        {
          "output_type": "stream",
          "name": "stdout",
          "text": [
            "Loading citeseer dataset...\n",
            "Downloading from https://raw.githubusercontent.com/danielzuegner/gnn-meta-attack/master/data/citeseer.npz to /tmp/citeseer.npz\n",
            "Done!\n",
            "Selecting 1 largest connected components\n",
            "Dpr2Pyg()\n",
            "Data(x=[2110, 3703], edge_index=[2, 7336], y=[2110], train_mask=[2110], val_mask=[2110], test_mask=[2110])\n"
          ]
        },
        {
          "output_type": "stream",
          "name": "stderr",
          "text": [
            "/content/DeepRobust/deeprobust/graph/data/pyg_dataset.py:48: UserWarning: Creating a tensor from a list of numpy.ndarrays is extremely slow. Please consider converting the list to a single numpy.ndarray with numpy.array() before converting to a tensor. (Triggered internally at ../torch/csrc/utils/tensor_new.cpp:261.)\n",
            "  edge_index = torch.LongTensor(dpr_data.adj.nonzero())\n",
            "/usr/local/lib/python3.10/dist-packages/torch_geometric/data/in_memory_dataset.py:301: UserWarning: It is not recommended to directly access the internal storage format `data` of an 'InMemoryDataset'. If you are absolutely certain what you are doing, access the internal storage via `InMemoryDataset._data` instead to suppress this warning. Alternatively, you can access stacked individual attributes of every graph via `dataset.{attr_name}`.\n",
            "  warnings.warn(msg)\n"
          ]
        }
      ],
      "source": [
        "\n",
        "from deeprobust.graph.data import Dataset, Dpr2Pyg, Pyg2Dpr\n",
        "data = Dataset(root='/tmp/', name='citeseer') # load clean graph\n",
        "pyg_data = Dpr2Pyg(data) # convert dpr to pyg\n",
        "print(pyg_data)\n",
        "print(pyg_data[0])\n"
      ]
    },
    {
      "cell_type": "code",
      "source": [
        "data =  pyg_data[0]"
      ],
      "metadata": {
        "id": "x_q6mCrm6-SD"
      },
      "execution_count": null,
      "outputs": []
    },
    {
      "cell_type": "code",
      "source": [
        "data"
      ],
      "metadata": {
        "colab": {
          "base_uri": "https://localhost:8080/"
        },
        "id": "uIVXLYOnPv40",
        "outputId": "813c8571-474f-4a7b-c59a-f5fafdef0882"
      },
      "execution_count": null,
      "outputs": [
        {
          "output_type": "execute_result",
          "data": {
            "text/plain": [
              "Data(x=[2110, 3703], edge_index=[2, 7336], y=[2110], train_mask=[2110], val_mask=[2110], test_mask=[2110])"
            ]
          },
          "metadata": {},
          "execution_count": 13
        }
      ]
    },
    {
      "cell_type": "code",
      "source": [
        "7336*(5/100)"
      ],
      "metadata": {
        "colab": {
          "base_uri": "https://localhost:8080/"
        },
        "id": "rITKzLHXP0D-",
        "outputId": "4ac74b17-0639-420c-db24-a7d80fdc97e8"
      },
      "execution_count": null,
      "outputs": [
        {
          "output_type": "execute_result",
          "data": {
            "text/plain": [
              "366.8"
            ]
          },
          "metadata": {},
          "execution_count": 14
        }
      ]
    },
    {
      "cell_type": "code",
      "source": [
        "370/2"
      ],
      "metadata": {
        "colab": {
          "base_uri": "https://localhost:8080/"
        },
        "id": "YF_KR9QGP9cy",
        "outputId": "0e6da158-e9df-4618-97b5-c837f151399e"
      },
      "execution_count": null,
      "outputs": [
        {
          "output_type": "execute_result",
          "data": {
            "text/plain": [
              "185.0"
            ]
          },
          "metadata": {},
          "execution_count": 15
        }
      ]
    },
    {
      "cell_type": "code",
      "execution_count": null,
      "metadata": {
        "id": "dGpGAEMf-P9k"
      },
      "outputs": [],
      "source": [
        "from torch_geometric.utils import to_networkx"
      ]
    },
    {
      "cell_type": "code",
      "execution_count": null,
      "metadata": {
        "id": "BHrnJ04LiY15"
      },
      "outputs": [],
      "source": [
        "G = to_networkx(data, to_undirected=True)\n"
      ]
    },
    {
      "cell_type": "code",
      "execution_count": null,
      "metadata": {
        "id": "5WUueotq1_xx"
      },
      "outputs": [],
      "source": [
        "\n",
        "\n",
        "import copy"
      ]
    },
    {
      "cell_type": "code",
      "execution_count": null,
      "metadata": {
        "id": "06OOY2T3yMnJ"
      },
      "outputs": [],
      "source": [
        "data_original = copy.deepcopy(data)"
      ]
    },
    {
      "cell_type": "code",
      "execution_count": null,
      "metadata": {
        "colab": {
          "base_uri": "https://localhost:8080/"
        },
        "id": "h70TB7z8lR3j",
        "outputId": "a568b32e-4e7a-495e-bc32-106e2b992e85"
      },
      "outputs": [
        {
          "output_type": "stream",
          "name": "stdout",
          "text": [
            "Graph with 2110 nodes and 3668 edges\n"
          ]
        }
      ],
      "source": [
        "print(G)"
      ]
    },
    {
      "cell_type": "code",
      "execution_count": null,
      "metadata": {
        "id": "VO1E6xf_PCTN"
      },
      "outputs": [],
      "source": [
        "G = to_networkx(data, to_undirected=True)"
      ]
    },
    {
      "cell_type": "code",
      "execution_count": null,
      "metadata": {
        "colab": {
          "base_uri": "https://localhost:8080/"
        },
        "id": "7Q2QUJqYO84F",
        "outputId": "ee49bab3-1362-4471-80c9-12a099ec2b13"
      },
      "outputs": [
        {
          "output_type": "stream",
          "name": "stdout",
          "text": [
            "Number of connected components: 1\n"
          ]
        }
      ],
      "source": [
        "# Find connected components (subgraphs)\n",
        "connected_components = list(nx.connected_components(G))\n",
        "\n",
        "# Print the number of connected components\n",
        "print(\"Number of connected components:\", len(connected_components))"
      ]
    },
    {
      "cell_type": "code",
      "execution_count": null,
      "metadata": {
        "colab": {
          "base_uri": "https://localhost:8080/",
          "height": 498
        },
        "id": "fMVk5HlXy0Tk",
        "outputId": "24c61028-1043-449a-852c-8070207f3983"
      },
      "outputs": [
        {
          "output_type": "stream",
          "name": "stdout",
          "text": [
            "Collecting networkx==2.3\n",
            "  Downloading networkx-2.3.zip (1.7 MB)\n",
            "\u001b[?25l     \u001b[90m━━━━━━━━━━━━━━━━━━━━━━━━━━━━━━━━━━━━━━━━\u001b[0m \u001b[32m0.0/1.7 MB\u001b[0m \u001b[31m?\u001b[0m eta \u001b[36m-:--:--\u001b[0m\r\u001b[2K     \u001b[91m━━━━━━━━━━━━━━━━\u001b[0m\u001b[91m╸\u001b[0m\u001b[90m━━━━━━━━━━━━━━━━━━━━━━━\u001b[0m \u001b[32m0.7/1.7 MB\u001b[0m \u001b[31m21.7 MB/s\u001b[0m eta \u001b[36m0:00:01\u001b[0m\r\u001b[2K     \u001b[90m━━━━━━━━━━━━━━━━━━━━━━━━━━━━━━━━━━━━━━━━\u001b[0m \u001b[32m1.7/1.7 MB\u001b[0m \u001b[31m32.3 MB/s\u001b[0m eta \u001b[36m0:00:00\u001b[0m\n",
            "\u001b[?25h  Preparing metadata (setup.py) ... \u001b[?25l\u001b[?25hdone\n",
            "Requirement already satisfied: decorator>=4.3.0 in /usr/local/lib/python3.10/dist-packages (from networkx==2.3) (4.4.2)\n",
            "Building wheels for collected packages: networkx\n",
            "  Building wheel for networkx (setup.py) ... \u001b[?25l\u001b[?25hdone\n",
            "  Created wheel for networkx: filename=networkx-2.3-py2.py3-none-any.whl size=1556003 sha256=cc1b3d29e811703aeaf779a1988e72c1b67dce7293e747416e3a18d9f5dfb06c\n",
            "  Stored in directory: /root/.cache/pip/wheels/a2/61/d8/147fad6a09bfd85366862c93d34556b9e155ce7690f8c0aa13\n",
            "Successfully built networkx\n",
            "Installing collected packages: networkx\n",
            "  Attempting uninstall: networkx\n",
            "    Found existing installation: networkx 3.2.1\n",
            "    Uninstalling networkx-3.2.1:\n",
            "      Successfully uninstalled networkx-3.2.1\n",
            "\u001b[31mERROR: pip's dependency resolver does not currently take into account all the packages that are installed. This behaviour is the source of the following dependency conflicts.\n",
            "deeprobust 0.2.7 requires tensorboardX>=2.0, which is not installed.\n",
            "deeprobust 0.2.7 requires texttable>=1.6.2, which is not installed.\n",
            "deeprobust 0.2.7 requires gensim<4.0,>=3.8, but you have gensim 4.3.2 which is incompatible.\n",
            "deeprobust 0.2.7 requires networkx>=2.4, but you have networkx 2.3 which is incompatible.\u001b[0m\u001b[31m\n",
            "\u001b[0mSuccessfully installed networkx-2.3\n"
          ]
        },
        {
          "output_type": "display_data",
          "data": {
            "application/vnd.colab-display-data+json": {
              "pip_warning": {
                "packages": [
                  "networkx"
                ]
              }
            }
          },
          "metadata": {}
        }
      ],
      "source": [
        "!pip install networkx==2.3"
      ]
    },
    {
      "cell_type": "code",
      "execution_count": null,
      "metadata": {
        "colab": {
          "base_uri": "https://localhost:8080/"
        },
        "id": "46ebGHeO4m9n",
        "outputId": "1135aab9-4e4d-4658-a967-7a1013202304"
      },
      "outputs": [
        {
          "output_type": "stream",
          "name": "stdout",
          "text": [
            "Requirement already satisfied: cython in /usr/local/lib/python3.10/dist-packages (3.0.8)\n",
            "Requirement already satisfied: numpy in /usr/local/lib/python3.10/dist-packages (1.25.2)\n",
            "Requirement already satisfied: scipy>=1.0 in /usr/local/lib/python3.10/dist-packages (1.11.4)\n",
            "Requirement already satisfied: networkx>=2.0 in /usr/local/lib/python3.10/dist-packages (2.3)\n",
            "Requirement already satisfied: cvxpy in /usr/local/lib/python3.10/dist-packages (1.3.3)\n",
            "Requirement already satisfied: pot in /usr/local/lib/python3.10/dist-packages (0.9.3)\n",
            "Requirement already satisfied: packaging in /usr/local/lib/python3.10/dist-packages (23.2)\n",
            "Requirement already satisfied: networkit>=6.1 in /usr/local/lib/python3.10/dist-packages (11.0)\n",
            "Requirement already satisfied: python-louvain in /usr/local/lib/python3.10/dist-packages (0.16)\n",
            "Requirement already satisfied: decorator>=4.3.0 in /usr/local/lib/python3.10/dist-packages (from networkx>=2.0) (4.4.2)\n",
            "Requirement already satisfied: osqp>=0.4.1 in /usr/local/lib/python3.10/dist-packages (from cvxpy) (0.6.2.post8)\n",
            "Requirement already satisfied: ecos>=2 in /usr/local/lib/python3.10/dist-packages (from cvxpy) (2.0.13)\n",
            "Requirement already satisfied: scs>=1.1.6 in /usr/local/lib/python3.10/dist-packages (from cvxpy) (3.2.4.post1)\n",
            "Requirement already satisfied: setuptools>65.5.1 in /usr/local/lib/python3.10/dist-packages (from cvxpy) (67.7.2)\n",
            "Requirement already satisfied: qdldl in /usr/local/lib/python3.10/dist-packages (from osqp>=0.4.1->cvxpy) (0.1.7.post0)\n"
          ]
        }
      ],
      "source": [
        "!pip install cython numpy \"scipy>=1.0\" \"networkx>=2.0\" cvxpy pot packaging \"networkit>=6.1\" python-louvain\n"
      ]
    },
    {
      "cell_type": "markdown",
      "metadata": {
        "id": "Ozu-ankHMksR"
      },
      "source": [
        "#meta"
      ]
    },
    {
      "cell_type": "code",
      "source": [],
      "metadata": {
        "id": "oL-TwlKhw8Bh"
      },
      "execution_count": null,
      "outputs": []
    },
    {
      "cell_type": "code",
      "execution_count": null,
      "metadata": {
        "colab": {
          "base_uri": "https://localhost:8080/"
        },
        "id": "Dp0pfLbzMksS",
        "outputId": "0fc93cf1-46dc-46a6-bf97-62a81811faa9"
      },
      "outputs": [
        {
          "output_type": "stream",
          "name": "stdout",
          "text": [
            "2.1.0+cu121\n",
            "Looking in links: https://data.pyg.org/whl/torch-2.1.0+cu121.html\n",
            "Collecting torch-scatter\n",
            "  Downloading https://data.pyg.org/whl/torch-2.1.0%2Bcu121/torch_scatter-2.1.2%2Bpt21cu121-cp310-cp310-linux_x86_64.whl (10.8 MB)\n",
            "\u001b[2K     \u001b[90m━━━━━━━━━━━━━━━━━━━━━━━━━━━━━━━━━━━━━━━━\u001b[0m \u001b[32m10.8/10.8 MB\u001b[0m \u001b[31m68.8 MB/s\u001b[0m eta \u001b[36m0:00:00\u001b[0m\n",
            "\u001b[?25hCollecting torch-sparse\n",
            "  Downloading https://data.pyg.org/whl/torch-2.1.0%2Bcu121/torch_sparse-0.6.18%2Bpt21cu121-cp310-cp310-linux_x86_64.whl (5.0 MB)\n",
            "\u001b[2K     \u001b[90m━━━━━━━━━━━━━━━━━━━━━━━━━━━━━━━━━━━━━━━━\u001b[0m \u001b[32m5.0/5.0 MB\u001b[0m \u001b[31m97.0 MB/s\u001b[0m eta \u001b[36m0:00:00\u001b[0m\n",
            "\u001b[?25hRequirement already satisfied: scipy in /usr/local/lib/python3.10/dist-packages (from torch-sparse) (1.11.4)\n",
            "Requirement already satisfied: numpy<1.28.0,>=1.21.6 in /usr/local/lib/python3.10/dist-packages (from scipy->torch-sparse) (1.25.2)\n",
            "Installing collected packages: torch-scatter, torch-sparse\n",
            "Successfully installed torch-scatter-2.1.2+pt21cu121 torch-sparse-0.6.18+pt21cu121\n"
          ]
        }
      ],
      "source": [
        "import torch\n",
        "print(torch.__version__)\n",
        "!pip install torch-scatter torch-sparse -f https://data.pyg.org/whl/torch-{torch.__version__}.html\n"
      ]
    },
    {
      "cell_type": "markdown",
      "source": [
        "##utils"
      ],
      "metadata": {
        "id": "IE7Y7MYF-ySu"
      }
    },
    {
      "cell_type": "code",
      "source": [
        "import numpy as np\n",
        "import scipy.sparse as sp\n",
        "import torch\n",
        "from sklearn.model_selection import train_test_split\n",
        "import torch.sparse as ts\n",
        "import torch.nn.functional as F\n",
        "import warnings\n",
        "\n",
        "def encode_onehot(labels):\n",
        "    \"\"\"Convert label to onehot format.\n",
        "\n",
        "    Parameters\n",
        "    ----------\n",
        "    labels : numpy.array\n",
        "        node labels\n",
        "\n",
        "    Returns\n",
        "    -------\n",
        "    numpy.array\n",
        "        onehot labels\n",
        "    \"\"\"\n",
        "    eye = np.eye(labels.max() + 1)\n",
        "    onehot_mx = eye[labels]\n",
        "    return onehot_mx\n",
        "\n",
        "def tensor2onehot(labels):\n",
        "    \"\"\"Convert label tensor to label onehot tensor.\n",
        "\n",
        "    Parameters\n",
        "    ----------\n",
        "    labels : torch.LongTensor\n",
        "        node labels\n",
        "\n",
        "    Returns\n",
        "    -------\n",
        "    torch.LongTensor\n",
        "        onehot labels tensor\n",
        "\n",
        "    \"\"\"\n",
        "\n",
        "    eye = torch.eye(labels.max() + 1)\n",
        "    onehot_mx = eye[labels]\n",
        "    return onehot_mx.to(labels.device)\n",
        "\n",
        "def preprocess(adj, features, labels, preprocess_adj=False, preprocess_feature=False, sparse=False, device='cuda'):\n",
        "    \"\"\"Convert adj, features, labels from array or sparse matrix to\n",
        "    torch Tensor, and normalize the input data.\n",
        "\n",
        "    Parameters\n",
        "    ----------\n",
        "    adj : scipy.sparse.csr_matrix\n",
        "        the adjacency matrix.\n",
        "    features : scipy.sparse.csr_matrix\n",
        "        node features\n",
        "    labels : numpy.array\n",
        "        node labels\n",
        "    preprocess_adj : bool\n",
        "        whether to normalize the adjacency matrix\n",
        "    preprocess_feature : bool\n",
        "        whether to normalize the feature matrix\n",
        "    sparse : bool\n",
        "       whether to return sparse tensor\n",
        "    device : str\n",
        "        'cuda' or 'cuda'\n",
        "    \"\"\"\n",
        "\n",
        "    if preprocess_adj:\n",
        "        adj = normalize_adj(adj)\n",
        "\n",
        "    if preprocess_feature:\n",
        "        features = normalize_feature(features)\n",
        "\n",
        "    labels = torch.LongTensor(labels)\n",
        "    if sparse:\n",
        "        adj = sparse_mx_to_torch_sparse_tensor(adj)\n",
        "        features = sparse_mx_to_torch_sparse_tensor(features)\n",
        "    else:\n",
        "        if sp.issparse(features):\n",
        "            features = torch.FloatTensor(np.array(features.todense()))\n",
        "        else:\n",
        "            features = torch.FloatTensor(features)\n",
        "        adj = torch.FloatTensor(adj.todense())\n",
        "    return adj.to(device), features.to(device), labels.to(device)\n",
        "\n",
        "def to_tensor(adj, features, labels=None, device='cuda'):\n",
        "    \"\"\"Convert adj, features, labels from array or sparse matrix to\n",
        "    torch Tensor.\n",
        "\n",
        "    Parameters\n",
        "    ----------\n",
        "    adj : scipy.sparse.csr_matrix\n",
        "        the adjacency matrix.\n",
        "    features : scipy.sparse.csr_matrix\n",
        "        node features\n",
        "    labels : numpy.array\n",
        "        node labels\n",
        "    device : str\n",
        "        'cuda' or 'cuda'\n",
        "    \"\"\"\n",
        "    if sp.issparse(adj):\n",
        "        adj = sparse_mx_to_torch_sparse_tensor(adj)\n",
        "    else:\n",
        "        adj = torch.FloatTensor(adj)\n",
        "    if sp.issparse(features):\n",
        "        features = sparse_mx_to_torch_sparse_tensor(features)\n",
        "    else:\n",
        "        features = torch.FloatTensor(np.array(features))\n",
        "\n",
        "    if labels is None:\n",
        "        return adj.to(device), features.to(device)\n",
        "    else:\n",
        "        labels = torch.LongTensor(labels)\n",
        "        return adj.to(device), features.to(device), labels.to(device)\n",
        "\n",
        "def normalize_feature(mx):\n",
        "    \"\"\"Row-normalize sparse matrix or dense matrix\n",
        "\n",
        "    Parameters\n",
        "    ----------\n",
        "    mx : scipy.sparse.csr_matrix or numpy.array\n",
        "        matrix to be normalized\n",
        "\n",
        "    Returns\n",
        "    -------\n",
        "    scipy.sprase.lil_matrix\n",
        "        normalized matrix\n",
        "    \"\"\"\n",
        "    if type(mx) is not sp.lil.lil_matrix:\n",
        "        try:\n",
        "            mx = mx.tolil()\n",
        "        except AttributeError:\n",
        "            pass\n",
        "    rowsum = np.array(mx.sum(1))\n",
        "    r_inv = np.power(rowsum, -1).flatten()\n",
        "    r_inv[np.isinf(r_inv)] = 0.\n",
        "    r_mat_inv = sp.diags(r_inv)\n",
        "    mx = r_mat_inv.dot(mx)\n",
        "    return mx\n",
        "\n",
        "def normalize_adj(mx):\n",
        "    \"\"\"Normalize sparse adjacency matrix,\n",
        "    A' = (D + I)^-1/2 * ( A + I ) * (D + I)^-1/2\n",
        "    Row-normalize sparse matrix\n",
        "\n",
        "    Parameters\n",
        "    ----------\n",
        "    mx : scipy.sparse.csr_matrix\n",
        "        matrix to be normalized\n",
        "\n",
        "    Returns\n",
        "    -------\n",
        "    scipy.sprase.lil_matrix\n",
        "        normalized matrix\n",
        "    \"\"\"\n",
        "\n",
        "    # TODO: maybe using coo format would be better?\n",
        "    if type(mx) is not sp.lil.lil_matrix:\n",
        "        mx = mx.tolil()\n",
        "    if mx[0, 0] == 0 :\n",
        "        mx = mx + sp.eye(mx.shape[0])\n",
        "    rowsum = np.array(mx.sum(1))\n",
        "    r_inv = np.power(rowsum, -1/2).flatten()\n",
        "    r_inv[np.isinf(r_inv)] = 0.\n",
        "    r_mat_inv = sp.diags(r_inv)\n",
        "    mx = r_mat_inv.dot(mx)\n",
        "    mx = mx.dot(r_mat_inv)\n",
        "    return mx\n",
        "\n",
        "def normalize_sparse_tensor(adj, fill_value=1):\n",
        "    \"\"\"Normalize sparse tensor. Need to import torch_scatter\n",
        "    \"\"\"\n",
        "    edge_index = adj._indices()\n",
        "    edge_weight = adj._values()\n",
        "    num_nodes= adj.size(0)\n",
        "    edge_index, edge_weight = add_self_loops(\n",
        "\tedge_index, edge_weight, fill_value, num_nodes)\n",
        "\n",
        "    row, col = edge_index\n",
        "    from torch_scatter import scatter_add\n",
        "    deg = scatter_add(edge_weight, row, dim=0, dim_size=num_nodes)\n",
        "    deg_inv_sqrt = deg.pow(-0.5)\n",
        "    deg_inv_sqrt[deg_inv_sqrt == float('inf')] = 0\n",
        "\n",
        "    values = deg_inv_sqrt[row] * edge_weight * deg_inv_sqrt[col]\n",
        "\n",
        "    shape = adj.shape\n",
        "    return torch.sparse.FloatTensor(edge_index, values, shape)\n",
        "\n",
        "def add_self_loops(edge_index, edge_weight=None, fill_value=1, num_nodes=None):\n",
        "    # num_nodes = maybe_num_nodes(edge_index, num_nodes)\n",
        "\n",
        "    loop_index = torch.arange(0, num_nodes, dtype=torch.long,\n",
        "                              device=edge_index.device)\n",
        "    loop_index = loop_index.unsqueeze(0).repeat(2, 1)\n",
        "\n",
        "    if edge_weight is not None:\n",
        "        assert edge_weight.numel() == edge_index.size(1)\n",
        "        loop_weight = edge_weight.new_full((num_nodes, ), fill_value)\n",
        "        edge_weight = torch.cat([edge_weight, loop_weight], dim=0)\n",
        "\n",
        "    edge_index = torch.cat([edge_index, loop_index], dim=1)\n",
        "\n",
        "    return edge_index, edge_weight\n",
        "\n",
        "def normalize_adj_tensor(adj, sparse=False):\n",
        "    \"\"\"Normalize adjacency tensor matrix.\n",
        "    \"\"\"\n",
        "    device = adj.device\n",
        "    if sparse:\n",
        "        # warnings.warn('If you find the training process is too slow, you can uncomment line 207 in deeprobust/graph/utils.py. Note that you need to install torch_sparse')\n",
        "        # TODO if this is too slow, uncomment the following code,\n",
        "        # but you need to install torch_scatter\n",
        "        # return normalize_sparse_tensor(adj)\n",
        "        adj = to_scipy(adj)\n",
        "        mx = normalize_adj(adj)\n",
        "        return sparse_mx_to_torch_sparse_tensor(mx).to(device)\n",
        "    else:\n",
        "        mx = adj + torch.eye(adj.shape[0]).to(device)\n",
        "        rowsum = mx.sum(1)\n",
        "        r_inv = rowsum.pow(-1/2).flatten()\n",
        "        r_inv[torch.isinf(r_inv)] = 0.\n",
        "        r_mat_inv = torch.diag(r_inv)\n",
        "        mx = r_mat_inv @ mx\n",
        "        mx = mx @ r_mat_inv\n",
        "    return mx\n",
        "\n",
        "def degree_normalize_adj(mx):\n",
        "    \"\"\"Row-normalize sparse matrix\"\"\"\n",
        "    mx = mx.tolil()\n",
        "    if mx[0, 0] == 0 :\n",
        "        mx = mx + sp.eye(mx.shape[0])\n",
        "    rowsum = np.array(mx.sum(1))\n",
        "    r_inv = np.power(rowsum, -1).flatten()\n",
        "    r_inv[np.isinf(r_inv)] = 0.\n",
        "    r_mat_inv = sp.diags(r_inv)\n",
        "    # mx = mx.dot(r_mat_inv)\n",
        "    mx = r_mat_inv.dot(mx)\n",
        "    return mx\n",
        "\n",
        "def degree_normalize_sparse_tensor(adj, fill_value=1):\n",
        "    \"\"\"degree_normalize_sparse_tensor.\n",
        "    \"\"\"\n",
        "    edge_index = adj._indices()\n",
        "    edge_weight = adj._values()\n",
        "    num_nodes= adj.size(0)\n",
        "\n",
        "    edge_index, edge_weight = add_self_loops(\n",
        "\tedge_index, edge_weight, fill_value, num_nodes)\n",
        "\n",
        "    row, col = edge_index\n",
        "    from torch_scatter import scatter_add\n",
        "    deg = scatter_add(edge_weight, row, dim=0, dim_size=num_nodes)\n",
        "    deg_inv_sqrt = deg.pow(-1)\n",
        "    deg_inv_sqrt[deg_inv_sqrt == float('inf')] = 0\n",
        "\n",
        "    values = deg_inv_sqrt[row] * edge_weight\n",
        "    shape = adj.shape\n",
        "    return torch.sparse.FloatTensor(edge_index, values, shape)\n",
        "\n",
        "def degree_normalize_adj_tensor(adj, sparse=True):\n",
        "    \"\"\"degree_normalize_adj_tensor.\n",
        "    \"\"\"\n",
        "\n",
        "    device = adj.device\n",
        "    if sparse:\n",
        "        # return  degree_normalize_sparse_tensor(adj)\n",
        "        adj = to_scipy(adj)\n",
        "        mx = degree_normalize_adj(adj)\n",
        "        return sparse_mx_to_torch_sparse_tensor(mx).to(device)\n",
        "    else:\n",
        "        mx = adj + torch.eye(adj.shape[0]).to(device)\n",
        "        rowsum = mx.sum(1)\n",
        "        r_inv = rowsum.pow(-1).flatten()\n",
        "        r_inv[torch.isinf(r_inv)] = 0.\n",
        "        r_mat_inv = torch.diag(r_inv)\n",
        "        mx = r_mat_inv @ mx\n",
        "    return mx\n",
        "\n",
        "def accuracy(output, labels):\n",
        "    \"\"\"Return accuracy of output compared to labels.\n",
        "\n",
        "    Parameters\n",
        "    ----------\n",
        "    output : torch.Tensor\n",
        "        output from model\n",
        "    labels : torch.Tensor or numpy.array\n",
        "        node labels\n",
        "\n",
        "    Returns\n",
        "    -------\n",
        "    float\n",
        "        accuracy\n",
        "    \"\"\"\n",
        "    if not hasattr(labels, '__len__'):\n",
        "        labels = [labels]\n",
        "    if type(labels) is not torch.Tensor:\n",
        "        labels = torch.LongTensor(labels)\n",
        "    preds = output.max(1)[1].type_as(labels)\n",
        "    correct = preds.eq(labels).double()\n",
        "    correct = correct.sum()\n",
        "    return correct / len(labels)\n",
        "\n",
        "def loss_acc(output, labels, targets, avg_loss=True):\n",
        "    if type(labels) is not torch.Tensor:\n",
        "        labels = torch.LongTensor(labels)\n",
        "    preds = output.max(1)[1].type_as(labels)\n",
        "    correct = preds.eq(labels).double()[targets]\n",
        "    loss = F.nll_loss(output[targets], labels[targets], reduction='mean' if avg_loss else 'none')\n",
        "\n",
        "    if avg_loss:\n",
        "        return loss, correct.sum() / len(targets)\n",
        "    return loss, correct\n",
        "    # correct = correct.sum()\n",
        "    # return loss, correct / len(labels)\n",
        "\n",
        "def get_perf(output, labels, mask, verbose=True):\n",
        "    \"\"\"evalute performance for test masked data\"\"\"\n",
        "    loss = F.nll_loss(output[mask], labels[mask])\n",
        "    acc = accuracy(output[mask], labels[mask])\n",
        "    if verbose:\n",
        "        print(\"loss= {:.4f}\".format(loss.item()),\n",
        "              \"accuracy= {:.4f}\".format(acc.item()))\n",
        "    return loss.item(), acc.item()\n",
        "\n",
        "\n",
        "def classification_margin(output, true_label):\n",
        "    \"\"\"Calculate classification margin for outputs.\n",
        "    `probs_true_label - probs_best_second_class`\n",
        "\n",
        "    Parameters\n",
        "    ----------\n",
        "    output: torch.Tensor\n",
        "        output vector (1 dimension)\n",
        "    true_label: int\n",
        "        true label for this node\n",
        "\n",
        "    Returns\n",
        "    -------\n",
        "    list\n",
        "        classification margin for this node\n",
        "    \"\"\"\n",
        "\n",
        "    probs = torch.exp(output)\n",
        "    probs_true_label = probs[true_label].clone()\n",
        "    probs[true_label] = 0\n",
        "    probs_best_second_class = probs[probs.argmax()]\n",
        "    return (probs_true_label - probs_best_second_class).item()\n",
        "\n",
        "def sparse_mx_to_torch_sparse_tensor(sparse_mx):\n",
        "    \"\"\"Convert a scipy sparse matrix to a torch sparse tensor.\"\"\"\n",
        "    sparse_mx = sparse_mx.tocoo().astype(np.float32)\n",
        "    sparserow=torch.LongTensor(sparse_mx.row).unsqueeze(1)\n",
        "    sparsecol=torch.LongTensor(sparse_mx.col).unsqueeze(1)\n",
        "    sparseconcat=torch.cat((sparserow, sparsecol),1)\n",
        "    sparsedata=torch.FloatTensor(sparse_mx.data)\n",
        "    return torch.sparse.FloatTensor(sparseconcat.t(),sparsedata,torch.Size(sparse_mx.shape))\n",
        "\n",
        "\t# slower version....\n",
        "    # sparse_mx = sparse_mx.tocoo().astype(np.float32)\n",
        "    # indices = torch.from_numpy(\n",
        "    #     np.vstack((sparse_mx.row, sparse_mx.col)).astype(np.int64))\n",
        "    # values = torch.from_numpy(sparse_mx.data)\n",
        "    # shape = torch.Size(sparse_mx.shape)\n",
        "    # return torch.sparse.FloatTensor(indices, values, shape)\n",
        "\n",
        "\n",
        "\n",
        "def to_scipy(tensor):\n",
        "    \"\"\"Convert a dense/sparse tensor to scipy matrix\"\"\"\n",
        "    if is_sparse_tensor(tensor):\n",
        "        values = tensor._values()\n",
        "        indices = tensor._indices()\n",
        "        return sp.csr_matrix((values.cuda().numpy(), indices.cuda().numpy()), shape=tensor.shape)\n",
        "    else:\n",
        "        indices = tensor.nonzero().t()\n",
        "        values = tensor[indices[0], indices[1]]\n",
        "        return sp.csr_matrix((values.cuda().numpy(), indices.cuda().numpy()), shape=tensor.shape)\n",
        "\n",
        "def is_sparse_tensor(tensor):\n",
        "    \"\"\"Check if a tensor is sparse tensor.\n",
        "\n",
        "    Parameters\n",
        "    ----------\n",
        "    tensor : torch.Tensor\n",
        "        given tensor\n",
        "\n",
        "    Returns\n",
        "    -------\n",
        "    bool\n",
        "        whether a tensor is sparse tensor\n",
        "    \"\"\"\n",
        "    # if hasattr(tensor, 'nnz'):\n",
        "    if tensor.layout == torch.sparse_coo:\n",
        "        return True\n",
        "    else:\n",
        "        return False\n",
        "\n",
        "def get_train_val_test(nnodes, val_size=0.1, test_size=0.8, stratify=None, seed=None):\n",
        "    \"\"\"This setting follows nettack/mettack, where we split the nodes\n",
        "    into 10% training, 10% validation and 80% testing data\n",
        "\n",
        "    Parameters\n",
        "    ----------\n",
        "    nnodes : int\n",
        "        number of nodes in total\n",
        "    val_size : float\n",
        "        size of validation set\n",
        "    test_size : float\n",
        "        size of test set\n",
        "    stratify :\n",
        "        data is expected to split in a stratified fashion. So stratify should be labels.\n",
        "    seed : int or None\n",
        "        random seed\n",
        "\n",
        "    Returns\n",
        "    -------\n",
        "    idx_train :\n",
        "        node training indices\n",
        "    idx_val :\n",
        "        node validation indices\n",
        "    idx_test :\n",
        "        node test indices\n",
        "    \"\"\"\n",
        "\n",
        "    assert stratify is not None, 'stratify cannot be None!'\n",
        "\n",
        "    if seed is not None:\n",
        "        np.random.seed(seed)\n",
        "\n",
        "    idx = np.arange(nnodes)\n",
        "    train_size = 1 - val_size - test_size\n",
        "    idx_train_and_val, idx_test = train_test_split(idx,\n",
        "                                                   random_state=None,\n",
        "                                                   train_size=train_size + val_size,\n",
        "                                                   test_size=test_size,\n",
        "                                                   stratify=stratify)\n",
        "\n",
        "    if stratify is not None:\n",
        "        stratify = stratify[idx_train_and_val]\n",
        "\n",
        "    idx_train, idx_val = train_test_split(idx_train_and_val,\n",
        "                                          random_state=None,\n",
        "                                          train_size=(train_size / (train_size + val_size)),\n",
        "                                          test_size=(val_size / (train_size + val_size)),\n",
        "                                          stratify=stratify)\n",
        "\n",
        "    return idx_train, idx_val, idx_test\n",
        "\n",
        "def get_train_test(nnodes, test_size=0.8, stratify=None, seed=None):\n",
        "    \"\"\"This function returns training and test set without validation.\n",
        "    It can be used for settings of different label rates.\n",
        "\n",
        "    Parameters\n",
        "    ----------\n",
        "    nnodes : int\n",
        "        number of nodes in total\n",
        "    test_size : float\n",
        "        size of test set\n",
        "    stratify :\n",
        "        data is expected to split in a stratified fashion. So stratify should be labels.\n",
        "    seed : int or None\n",
        "        random seed\n",
        "\n",
        "    Returns\n",
        "    -------\n",
        "    idx_train :\n",
        "        node training indices\n",
        "    idx_test :\n",
        "        node test indices\n",
        "    \"\"\"\n",
        "    assert stratify is not None, 'stratify cannot be None!'\n",
        "\n",
        "    if seed is not None:\n",
        "        np.random.seed(seed)\n",
        "\n",
        "    idx = np.arange(nnodes)\n",
        "    train_size = 1 - test_size\n",
        "    idx_train, idx_test = train_test_split(idx, random_state=None,\n",
        "                                                train_size=train_size,\n",
        "                                                test_size=test_size,\n",
        "                                                stratify=stratify)\n",
        "\n",
        "    return idx_train, idx_test\n",
        "\n",
        "def get_train_val_test_gcn(labels, seed=None):\n",
        "    \"\"\"This setting follows gcn, where we randomly sample 20 instances for each class\n",
        "    as training data, 500 instances as validation data, 1000 instances as test data.\n",
        "    Note here we are not using fixed splits. When random seed changes, the splits\n",
        "    will also change.\n",
        "\n",
        "    Parameters\n",
        "    ----------\n",
        "    labels : numpy.array\n",
        "        node labels\n",
        "    seed : int or None\n",
        "        random seed\n",
        "\n",
        "    Returns\n",
        "    -------\n",
        "    idx_train :\n",
        "        node training indices\n",
        "    idx_val :\n",
        "        node validation indices\n",
        "    idx_test :\n",
        "        node test indices\n",
        "    \"\"\"\n",
        "    if seed is not None:\n",
        "        np.random.seed(seed)\n",
        "\n",
        "    idx = np.arange(len(labels))\n",
        "    nclass = labels.max() + 1\n",
        "    idx_train = []\n",
        "    idx_unlabeled = []\n",
        "    for i in range(nclass):\n",
        "        labels_i = idx[labels==i]\n",
        "        labels_i = np.random.permutation(labels_i)\n",
        "        idx_train = np.hstack((idx_train, labels_i[: 20])).astype(np.int)\n",
        "        idx_unlabeled = np.hstack((idx_unlabeled, labels_i[20: ])).astype(np.int)\n",
        "\n",
        "    idx_unlabeled = np.random.permutation(idx_unlabeled)\n",
        "    idx_val = idx_unlabeled[: 500]\n",
        "    idx_test = idx_unlabeled[500: 1500]\n",
        "    return idx_train, idx_val, idx_test\n",
        "\n",
        "def get_train_test_labelrate(labels, label_rate):\n",
        "    \"\"\"Get train test according to given label rate.\n",
        "    \"\"\"\n",
        "    nclass = labels.max() + 1\n",
        "    train_size = int(round(len(labels) * label_rate / nclass))\n",
        "    print(\"=== train_size = %s ===\" % train_size)\n",
        "    idx_train, idx_val, idx_test = get_splits_each_class(labels, train_size=train_size)\n",
        "    return idx_train, idx_test\n",
        "\n",
        "def get_splits_each_class(labels, train_size):\n",
        "    \"\"\"We randomly sample n instances for class, where n = train_size.\n",
        "    \"\"\"\n",
        "    idx = np.arange(len(labels))\n",
        "    nclass = labels.max() + 1\n",
        "    idx_train = []\n",
        "    idx_val = []\n",
        "    idx_test = []\n",
        "    for i in range(nclass):\n",
        "        labels_i = idx[labels==i]\n",
        "        labels_i = np.random.permutation(labels_i)\n",
        "        idx_train = np.hstack((idx_train, labels_i[: train_size])).astype(np.int)\n",
        "        idx_val = np.hstack((idx_val, labels_i[train_size: 2*train_size])).astype(np.int)\n",
        "        idx_test = np.hstack((idx_test, labels_i[2*train_size: ])).astype(np.int)\n",
        "\n",
        "    return np.random.permutation(idx_train), np.random.permutation(idx_val), \\\n",
        "           np.random.permutation(idx_test)\n",
        "\n",
        "\n",
        "def unravel_index(index, array_shape):\n",
        "    rows = torch.div(index, array_shape[1], rounding_mode='trunc')\n",
        "    cols = index % array_shape[1]\n",
        "    return rows, cols\n",
        "\n",
        "\n",
        "def get_degree_squence(adj):\n",
        "    try:\n",
        "        return adj.sum(0)\n",
        "    except:\n",
        "        return ts.sum(adj, dim=1).to_dense()\n",
        "\n",
        "def likelihood_ratio_filter(node_pairs, modified_adjacency, original_adjacency, d_min, threshold=0.004, undirected=True):\n",
        "    \"\"\"\n",
        "    Filter the input node pairs based on the likelihood ratio test proposed by Zügner et al. 2018, see\n",
        "    https://dl.acm.org/citation.cfm?id=3220078. In essence, for each node pair return 1 if adding/removing the edge\n",
        "    between the two nodes does not violate the unnoticeability constraint, and return 0 otherwise. Assumes unweighted\n",
        "    and undirected graphs.\n",
        "    \"\"\"\n",
        "\n",
        "    N = int(modified_adjacency.shape[0])\n",
        "    # original_degree_sequence = get_degree_squence(original_adjacency)\n",
        "    # current_degree_sequence = get_degree_squence(modified_adjacency)\n",
        "    original_degree_sequence = original_adjacency.sum(0)\n",
        "    current_degree_sequence = modified_adjacency.sum(0)\n",
        "\n",
        "    concat_degree_sequence = torch.cat((current_degree_sequence, original_degree_sequence))\n",
        "\n",
        "    # Compute the log likelihood values of the original, modified, and combined degree sequences.\n",
        "    ll_orig, alpha_orig, n_orig, sum_log_degrees_original = degree_sequence_log_likelihood(original_degree_sequence, d_min)\n",
        "    ll_current, alpha_current, n_current, sum_log_degrees_current = degree_sequence_log_likelihood(current_degree_sequence, d_min)\n",
        "\n",
        "    ll_comb, alpha_comb, n_comb, sum_log_degrees_combined = degree_sequence_log_likelihood(concat_degree_sequence, d_min)\n",
        "\n",
        "    # Compute the log likelihood ratio\n",
        "    current_ratio = -2 * ll_comb + 2 * (ll_orig + ll_current)\n",
        "\n",
        "    # Compute new log likelihood values that would arise if we add/remove the edges corresponding to each node pair.\n",
        "    new_lls, new_alphas, new_ns, new_sum_log_degrees = updated_log_likelihood_for_edge_changes(node_pairs,\n",
        "                                                                                               modified_adjacency, d_min)\n",
        "\n",
        "    # Combination of the original degree distribution with the distributions corresponding to each node pair.\n",
        "    n_combined = n_orig + new_ns\n",
        "    new_sum_log_degrees_combined = sum_log_degrees_original + new_sum_log_degrees\n",
        "    alpha_combined = compute_alpha(n_combined, new_sum_log_degrees_combined, d_min)\n",
        "    new_ll_combined = compute_log_likelihood(n_combined, alpha_combined, new_sum_log_degrees_combined, d_min)\n",
        "    new_ratios = -2 * new_ll_combined + 2 * (new_lls + ll_orig)\n",
        "\n",
        "    # Allowed edges are only those for which the resulting likelihood ratio measure is < than the threshold\n",
        "    allowed_edges = new_ratios < threshold\n",
        "\n",
        "    if allowed_edges.is_.cuda():\n",
        "        filtered_edges = node_pairs[allowed_edges.cuda.numpy().astype(np.bool)]\n",
        "    else:\n",
        "        filtered_edges = node_pairs[allowed_edges.numpy().astype(np.bool)]\n",
        "\n",
        "    allowed_mask = torch.zeros(modified_adjacency.shape)\n",
        "    allowed_mask[filtered_edges.T] = 1\n",
        "    if undirected:\n",
        "        allowed_mask += allowed_mask.t()\n",
        "    return allowed_mask, current_ratio\n",
        "\n",
        "\n",
        "def degree_sequence_log_likelihood(degree_sequence, d_min):\n",
        "    \"\"\"\n",
        "    Compute the (maximum) log likelihood of the Powerlaw distribution fit on a degree distribution.\n",
        "    \"\"\"\n",
        "\n",
        "    # Determine which degrees are to be considered, i.e. >= d_min.\n",
        "    D_G = degree_sequence[(degree_sequence >= d_min.item())]\n",
        "    try:\n",
        "        sum_log_degrees = torch.log(D_G).sum()\n",
        "    except:\n",
        "        sum_log_degrees = np.log(D_G).sum()\n",
        "    n = len(D_G)\n",
        "\n",
        "    alpha = compute_alpha(n, sum_log_degrees, d_min)\n",
        "    ll = compute_log_likelihood(n, alpha, sum_log_degrees, d_min)\n",
        "    return ll, alpha, n, sum_log_degrees\n",
        "\n",
        "def updated_log_likelihood_for_edge_changes(node_pairs, adjacency_matrix, d_min):\n",
        "    \"\"\" Adopted from https://github.com/danielzuegner/nettack\n",
        "    \"\"\"\n",
        "    # For each node pair find out whether there is an edge or not in the input adjacency matrix.\n",
        "\n",
        "    edge_entries_before = adjacency_matrix[node_pairs.T]\n",
        "    degree_sequence = adjacency_matrix.sum(1)\n",
        "    D_G = degree_sequence[degree_sequence >= d_min.item()]\n",
        "    sum_log_degrees = torch.log(D_G).sum()\n",
        "    n = len(D_G)\n",
        "    deltas = -2 * edge_entries_before + 1\n",
        "    d_edges_before = degree_sequence[node_pairs]\n",
        "\n",
        "    d_edges_after = degree_sequence[node_pairs] + deltas[:, None]\n",
        "\n",
        "    # Sum the log of the degrees after the potential changes which are >= d_min\n",
        "    sum_log_degrees_after, new_n = update_sum_log_degrees(sum_log_degrees, n, d_edges_before, d_edges_after, d_min)\n",
        "    # Updated estimates of the Powerlaw exponents\n",
        "    new_alpha = compute_alpha(new_n, sum_log_degrees_after, d_min)\n",
        "    # Updated log likelihood values for the Powerlaw distributions\n",
        "    new_ll = compute_log_likelihood(new_n, new_alpha, sum_log_degrees_after, d_min)\n",
        "    return new_ll, new_alpha, new_n, sum_log_degrees_after\n",
        "\n",
        "\n",
        "def update_sum_log_degrees(sum_log_degrees_before, n_old, d_old, d_new, d_min):\n",
        "    # Find out whether the degrees before and after the change are above the threshold d_min.\n",
        "    old_in_range = d_old >= d_min\n",
        "    new_in_range = d_new >= d_min\n",
        "    d_old_in_range = d_old * old_in_range.float()\n",
        "    d_new_in_range = d_new * new_in_range.float()\n",
        "\n",
        "    # Update the sum by subtracting the old values and then adding the updated logs of the degrees.\n",
        "    sum_log_degrees_after = sum_log_degrees_before - (torch.log(torch.clamp(d_old_in_range, min=1))).sum(1) \\\n",
        "                                 + (torch.log(torch.clamp(d_new_in_range, min=1))).sum(1)\n",
        "\n",
        "    # Update the number of degrees >= d_min\n",
        "\n",
        "    new_n = n_old - (old_in_range!=0).sum(1) + (new_in_range!=0).sum(1)\n",
        "    new_n = new_n.float()\n",
        "    return sum_log_degrees_after, new_n\n",
        "\n",
        "def compute_alpha(n, sum_log_degrees, d_min):\n",
        "    try:\n",
        "        alpha =  1 + n / (sum_log_degrees - n * torch.log(d_min - 0.5))\n",
        "    except:\n",
        "        alpha =  1 + n / (sum_log_degrees - n * np.log(d_min - 0.5))\n",
        "    return alpha\n",
        "\n",
        "def compute_log_likelihood(n, alpha, sum_log_degrees, d_min):\n",
        "    # Log likelihood under alpha\n",
        "    try:\n",
        "        ll = n * torch.log(alpha) + n * alpha * torch.log(d_min) + (alpha + 1) * sum_log_degrees\n",
        "    except:\n",
        "        ll = n * np.log(alpha) + n * alpha * np.log(d_min) + (alpha + 1) * sum_log_degrees\n",
        "\n",
        "    return ll\n",
        "\n",
        "def ravel_multiple_indices(ixs, shape, reverse=False):\n",
        "    \"\"\"\n",
        "    \"Flattens\" multiple 2D input indices into indices on the flattened matrix, similar to np.ravel_multi_index.\n",
        "    Does the same as ravel_index but for multiple indices at once.\n",
        "    Parameters\n",
        "    ----------\n",
        "    ixs: array of ints shape (n, 2)\n",
        "        The array of n indices that will be flattened.\n",
        "\n",
        "    shape: list or tuple of ints of length 2\n",
        "        The shape of the corresponding matrix.\n",
        "\n",
        "    Returns\n",
        "    -------\n",
        "    array of n ints between 0 and shape[0]*shape[1]-1\n",
        "        The indices on the flattened matrix corresponding to the 2D input indices.\n",
        "\n",
        "    \"\"\"\n",
        "    if reverse:\n",
        "        return ixs[:, 1] * shape[1] + ixs[:, 0]\n",
        "\n",
        "    return ixs[:, 0] * shape[1] + ixs[:, 1]\n",
        "\n",
        "def visualize(your_var):\n",
        "    \"\"\"visualize computation graph\"\"\"\n",
        "    from graphviz import Digraph\n",
        "    import torch\n",
        "    from torch.autograd import Variable\n",
        "    from torchviz import make_dot\n",
        "    make_dot(your_var).view()\n",
        "\n",
        "def reshape_mx(mx, shape):\n",
        "    indices = mx.nonzero()\n",
        "    return sp.csr_matrix((mx.data, (indices[0], indices[1])), shape=shape)\n",
        "\n",
        "def add_mask(data, dataset):\n",
        "    \"\"\"data: ogb-arxiv pyg data format\"\"\"\n",
        "    # for arxiv\n",
        "    split_idx = dataset.get_idx_split()\n",
        "    train_idx, valid_idx, test_idx = split_idx[\"train\"], split_idx[\"valid\"], split_idx[\"test\"]\n",
        "    n = data.x.shape[0]\n",
        "    data.train_mask = index_to_mask(train_idx, n)\n",
        "    data.val_mask = index_to_mask(valid_idx, n)\n",
        "    data.test_mask = index_to_mask(test_idx, n)\n",
        "    data.y = data.y.squeeze()\n",
        "    # data.edge_index = to_undirected(data.edge_index, data.num_nodes)\n",
        "\n",
        "def index_to_mask(index, size):\n",
        "    mask = torch.zeros((size, ), dtype=torch.bool)\n",
        "    mask[index] = 1\n",
        "    return mask\n",
        "\n",
        "def add_feature_noise(data, noise_ratio, seed):\n",
        "    np.random.seed(seed)\n",
        "    n, d = data.x.shape\n",
        "    # noise = torch.normal(mean=torch.zeros(int(noise_ratio*n), d), std=1)\n",
        "    noise = torch.FloatTensor(np.random.normal(0, 1, size=(int(noise_ratio*n), d))).to(data.x.device)\n",
        "    indices = np.arange(n)\n",
        "    indices = np.random.permutation(indices)[: int(noise_ratio*n)]\n",
        "    delta_feat = torch.zeros_like(data.x)\n",
        "    delta_feat[indices] = noise - data.x[indices]\n",
        "    data.x[indices] = noise\n",
        "    mask = np.zeros(n)\n",
        "    mask[indices] = 1\n",
        "    mask = torch.tensor(mask).bool().to(data.x.device)\n",
        "    return delta_feat, mask\n",
        "\n",
        "def add_feature_noise_test(data, noise_ratio, seed):\n",
        "    np.random.seed(seed)\n",
        "    n, d = data.x.shape\n",
        "    indices = np.arange(n)\n",
        "    test_nodes = indices[data.test_mask ]\n",
        "    selected = np.random.permutation(test_nodes)[: int(noise_ratio*len(test_nodes))]\n",
        "    noise = torch.FloatTensor(np.random.normal(0, 1, size=(int(noise_ratio*len(test_nodes)), d)))\n",
        "    noise = noise.to(data.x.device)\n",
        "\n",
        "    delta_feat = torch.zeros_like(data.x)\n",
        "    delta_feat[selected] = noise - data.x[selected]\n",
        "    data.x[selected] = noise\n",
        "    # mask = np.zeros(len(test_nodes))\n",
        "    mask = np.zeros(n)\n",
        "    mask[selected] = 1\n",
        "    mask = torch.tensor(mask).bool().to(data.x.device)\n",
        "    return delta_feat, mask\n",
        "\n",
        "# def check_path(file_path):\n",
        "#     if not osp.exists(file_path):\n",
        "#         os.system(f'mkdir -p {file_path}')"
      ],
      "metadata": {
        "id": "RmZ5Qc4yxgtv"
      },
      "execution_count": null,
      "outputs": []
    },
    {
      "cell_type": "markdown",
      "source": [
        "##meta2"
      ],
      "metadata": {
        "id": "bAMJqLiM0ZZ6"
      }
    },
    {
      "cell_type": "code",
      "source": [
        "import os.path as osp\n",
        "\n",
        "import numpy as np\n",
        "import scipy.sparse as sp\n",
        "import torch\n",
        "from torch.nn.modules.module import Module\n",
        "\n",
        "\n",
        "class BaseAttack(Module):\n",
        "    \"\"\"Abstract base class for target attack classes.\n",
        "\n",
        "    Parameters\n",
        "    ----------\n",
        "    model :\n",
        "        model to attack\n",
        "    nnodes : int\n",
        "        number of nodes in the input graph\n",
        "    attack_structure : bool\n",
        "        whether to attack graph structure\n",
        "    attack_features : bool\n",
        "        whether to attack node features\n",
        "    device: str\n",
        "        'cuda' or 'cuda'\n",
        "\n",
        "    \"\"\"\n",
        "\n",
        "\n",
        "\n",
        "    def __init__(self, model, nnodes, attack_structure=True, attack_features=False, device='cuda'):\n",
        "        super(BaseAttack, self).__init__()\n",
        "\n",
        "        self.surrogate = model\n",
        "        self.nnodes = nnodes\n",
        "        self.attack_structure = attack_structure\n",
        "        self.attack_features = attack_features\n",
        "        self.device = 'cuda'\n",
        "        self.modified_adj = None\n",
        "        self.modified_features = None\n",
        "        if model is not None:\n",
        "            self.nclass = model.nclass\n",
        "            self.nfeat = model.nfeat\n",
        "            self.hidden_sizes = model.hidden_sizes\n",
        "\n",
        "\n",
        "    def attack(self, ori_adj, n_perturbations, **kwargs):\n",
        "        \"\"\"Generate attacks on the input graph.\n",
        "\n",
        "        Parameters\n",
        "        ----------\n",
        "        ori_adj : scipy.sparse.csr_matrix\n",
        "            Original (unperturbed) adjacency matrix.\n",
        "        n_perturbations : int\n",
        "            Number of edge removals/additions.\n",
        "\n",
        "        Returns\n",
        "        -------\n",
        "        None.\n",
        "\n",
        "        \"\"\"\n",
        "        pass\n",
        "\n",
        "    def check_adj(self, adj):\n",
        "        \"\"\"Check if the modified adjacency is symmetric and unweighted.\n",
        "        \"\"\"\n",
        "        assert np.abs(adj - adj.T).sum() == 0, \"Input graph is not symmetric\"\n",
        "        assert adj.tocsr().max() == 1, \"Max value should be 1!\"\n",
        "        assert adj.tocsr().min() == 0, \"Min value should be 0!\"\n",
        "\n",
        "    def check_adj_tensor(self, adj):\n",
        "        \"\"\"Check if the modified adjacency is symmetric, unweighted, all-zero diagonal.\n",
        "        \"\"\"\n",
        "        assert torch.abs(adj - adj.t()).sum() == 0, \"Input graph is not symmetric\"\n",
        "        assert adj.max() == 1, \"Max value should be 1!\"\n",
        "        assert adj.min() == 0, \"Min value should be 0!\"\n",
        "        diag = adj.diag()\n",
        "        assert diag.max() == 0, \"Diagonal should be 0!\"\n",
        "        assert diag.min() == 0, \"Diagonal should be 0!\"\n",
        "\n",
        "\n",
        "    def save_adj(self, root=r'/content/sample_data/root', name='mod_adj'):\n",
        "        \"\"\"Save attacked adjacency matrix.\n",
        "\n",
        "        Parameters\n",
        "        ----------\n",
        "        root :\n",
        "            root directory where the variable should be saved\n",
        "        name : str\n",
        "            saved file name\n",
        "\n",
        "        Returns\n",
        "        -------\n",
        "        None.\n",
        "\n",
        "        \"\"\"\n",
        "        assert self.modified_adj is not None, \\\n",
        "                'modified_adj is None! Please perturb the graph first.'\n",
        "        name = name + '.npz'\n",
        "        modified_adj = self.modified_adj\n",
        "\n",
        "        if type(modified_adj) is torch.Tensor:\n",
        "            sparse_adj = to_scipy(modified_adj)\n",
        "            sp.save_npz(osp.join(root, name), sparse_adj)\n",
        "        else:\n",
        "            sp.save_npz(osp.join('/content/sample_data/root', name), modified_adj)\n",
        "\n",
        "    def save_features(self, root=r'/content/sample_data/root', name='mod_features'):\n",
        "        \"\"\"Save attacked node feature matrix.\n",
        "\n",
        "        Parameters\n",
        "        ----------\n",
        "        root :\n",
        "            root directory where the variable should be saved\n",
        "        name : str\n",
        "            saved file name\n",
        "\n",
        "        Returns\n",
        "        -------\n",
        "        None.\n",
        "\n",
        "        \"\"\"\n",
        "\n",
        "        assert self.modified_features is not None, \\\n",
        "                'modified_features is None! Please perturb the graph first.'\n",
        "        name = name + '.npz'\n",
        "        modified_features = self.modified_features\n",
        "\n",
        "        if type(modified_features) is torch.Tensor:\n",
        "            sparse_features = utils.to_scipy(modified_features)\n",
        "            sp.save_npz(osp.join(root, name), sparse_features)\n",
        "        else:\n",
        "            sp.save_npz(osp.join(root, name), modified_features)"
      ],
      "metadata": {
        "id": "bOHGA2azw-q7"
      },
      "execution_count": null,
      "outputs": []
    },
    {
      "cell_type": "markdown",
      "source": [
        "##base meta"
      ],
      "metadata": {
        "id": "RMwHU7-s-uZX"
      }
    },
    {
      "cell_type": "code",
      "source": [
        "import math\n",
        "import numpy as np\n",
        "import scipy.sparse as sp\n",
        "import torch\n",
        "from torch import optim\n",
        "from torch.nn import functional as F\n",
        "from torch.nn.parameter import Parameter\n",
        "from tqdm import tqdm\n",
        "\n",
        "class BaseMeta(BaseAttack):\n",
        "    \"\"\"Abstract base class for meta attack. Adversarial Attacks on Graph Neural\n",
        "    Networks via Meta Learning, ICLR 2019,\n",
        "    https://openreview.net/pdf?id=Bylnx209YX\n",
        "\n",
        "    Parameters\n",
        "    ----------\n",
        "    model :\n",
        "        model to attack. Default `None`.\n",
        "    nnodes : int\n",
        "        number of nodes in the input graph\n",
        "    lambda_ : float\n",
        "        lambda_ is used to weight the two objectives in Eq. (10) in the paper.\n",
        "    feature_shape : tuple\n",
        "        shape of the input node features\n",
        "    attack_structure : bool\n",
        "        whether to attack graph structure\n",
        "    attack_features : bool\n",
        "        whether to attack node features\n",
        "    undirected : bool\n",
        "        whether the graph is undirected\n",
        "    device: str\n",
        "        'cuda' or 'cuda'\n",
        "\n",
        "    \"\"\"\n",
        "\n",
        "class BaseMeta(BaseAttack):\n",
        "    def __init__(self, model=None, nnodes=None, feature_shape=None, lambda_=0.5, attack_structure=True, attack_features=False, undirected=True, device='cuda'):\n",
        "        super().__init__(model, nnodes, attack_structure, attack_features, device)\n",
        "        self.lambda_ = lambda_\n",
        "        assert attack_features or attack_structure, 'attack_features or attack_structure cannot be both False'\n",
        "\n",
        "        self.modified_adj = None\n",
        "        self.modified_features = None\n",
        "\n",
        "        if attack_structure:\n",
        "             self.undirected = undirected\n",
        "             self.adj_changes = Parameter(torch.FloatTensor(nnodes, nnodes))\n",
        "             self.adj_changes.data.fill_(0)\n",
        "\n",
        "        if attack_features:\n",
        "             assert feature_shape is not None, 'Please give feature_shape='\n",
        "             self.feature_changes = Parameter(torch.FloatTensor(feature_shape))\n",
        "             self.feature_changes.data.fill_(0)\n",
        "\n",
        "        self.with_relu = model.with_relu\n",
        "\n",
        "\n",
        "\n",
        "    def attack(self, adj, labels, n_perturbations):\n",
        "        pass\n",
        "\n",
        "\n",
        "    def get_modified_adj(self, ori_adj, specified_edges):\n",
        "        adj_changes_square = self.adj_changes - torch.diag(torch.diag(self.adj_changes, 0))\n",
        "        # ind = np.diag_indices(self.adj_changes.shape[0]) # this line seems useless\n",
        "        if self.undirected:\n",
        "            adj_changes_square = adj_changes_square + torch.transpose(adj_changes_square, 1, 0)\n",
        "        adj_changes_square = torch.clamp(adj_changes_square, -1, 1)\n",
        "        modified_adj = adj_changes_square + ori_adj\n",
        "\n",
        "        # Apply modifications based on specified_edges\n",
        "        for edge in specified_edges:\n",
        "            row_idx, col_idx = edge\n",
        "            modified_adj[row_idx][col_idx] = ori_adj[row_idx][col_idx]  # Replace with your modification logic\n",
        "\n",
        "        return modified_adj\n",
        "\n",
        "\n",
        "    def get_modified_features(self, ori_features):\n",
        "        return ori_features + self.feature_changes\n",
        "\n",
        "    def filter_potential_singletons(self, modified_adj):\n",
        "        \"\"\"\n",
        "        Computes a mask for entries potentially leading to singleton nodes, i.e. one of the two nodes corresponding to\n",
        "        the entry have degree 1 and there is an edge between the two nodes.\n",
        "        \"\"\"\n",
        "\n",
        "        degrees = modified_adj.sum(0)\n",
        "        degree_one = (degrees == 1)\n",
        "        resh = degree_one.repeat(modified_adj.shape[0], 1).float()\n",
        "        l_and = resh * modified_adj\n",
        "        if self.undirected:\n",
        "            l_and = l_and + l_and.t()\n",
        "        flat_mask = 1 - l_and\n",
        "        return flat_mask\n",
        "\n",
        "    def self_training_label(self, labels, idx_train):\n",
        "    # Move labels tensor to GPU\n",
        "        labels = labels.to('cuda')\n",
        "\n",
        "    # Assuming output is obtained from some previous computation\n",
        "        output = self.surrogate.output\n",
        "\n",
        "    # Get the indices where labels are known\n",
        "        labels_self_training = output.argmax(1)\n",
        "\n",
        "    # Update the labels with the known training labels\n",
        "        labels_self_training[idx_train] = labels[idx_train]\n",
        "\n",
        "        return labels_self_training\n",
        "\n",
        "\n",
        "\n",
        "\n",
        "    def log_likelihood_constraint(self, modified_adj, ori_adj, ll_cutoff):\n",
        "        \"\"\"\n",
        "        Computes a mask for entries that, if the edge corresponding to the entry is added/removed, would lead to the\n",
        "        log likelihood constraint to be violated.\n",
        "\n",
        "        Note that different data type (float, double) can effect the final results.\n",
        "        \"\"\"\n",
        "        t_d_min = torch.tensor(2.0).to(self.device)\n",
        "        if self.undirected:\n",
        "            t_possible_edges = np.array(np.triu(np.ones((self.nnodes, self.nnodes)), k=1).nonzero()).T\n",
        "        else:\n",
        "            t_possible_edges = np.array((np.ones((self.nnodes, self.nnodes)) - np.eye(self.nnodes)).nonzero()).T\n",
        "        allowed_mask, current_ratio = likelihood_ratio_filter(t_possible_edges,\n",
        "                                                                    modified_adj,\n",
        "                                                                    ori_adj, t_d_min,\n",
        "                                                                    ll_cutoff, undirected=self.undirected)\n",
        "        return allowed_mask, current_ratio\n",
        "\n",
        "    def get_adj_score(self, adj_grad, modified_adj, ori_adj, ll_constraint, ll_cutoff):\n",
        "        adj_meta_grad = adj_grad * (-2 * modified_adj + 1)\n",
        "        # Make sure that the minimum entry is 0.\n",
        "        adj_meta_grad = adj_meta_grad - adj_meta_grad.min()\n",
        "        # Filter self-loops\n",
        "        adj_meta_grad = adj_meta_grad - torch.diag(torch.diag(adj_meta_grad, 0))\n",
        "        # # Set entries to 0 that could lead to singleton nodes.\n",
        "        singleton_mask = self.filter_potential_singletons(modified_adj)\n",
        "        adj_meta_grad = adj_meta_grad *  singleton_mask\n",
        "\n",
        "        if ll_constraint:\n",
        "            allowed_mask, self.ll_ratio = self.log_likelihood_constraint(modified_adj, ori_adj, ll_cutoff)\n",
        "            allowed_mask = allowed_mask.to(self.device)\n",
        "            adj_meta_grad = adj_meta_grad * allowed_mask\n",
        "        return adj_meta_grad\n",
        "\n",
        "    def get_feature_score(self, feature_grad, modified_features):\n",
        "        feature_meta_grad = feature_grad * (-2 * modified_features + 1)\n",
        "        feature_meta_grad -= feature_meta_grad.min()\n",
        "        return feature_meta_grad"
      ],
      "metadata": {
        "id": "MunpM-_U97tv"
      },
      "execution_count": null,
      "outputs": []
    },
    {
      "cell_type": "markdown",
      "source": [
        "##get meta grad"
      ],
      "metadata": {
        "id": "9Gc-sgVN98HD"
      }
    },
    {
      "cell_type": "code",
      "source": [
        "##get meta grad\n",
        "\n",
        "import math\n",
        "import numpy as np\n",
        "import scipy.sparse as sp\n",
        "import torch\n",
        "from torch.nn import Parameter\n",
        "from torch.nn import functional as F\n",
        "from tqdm import tqdm\n",
        "\n",
        "class Metattack(BaseMeta):\n",
        "\n",
        "    def __init__(self, model, nnodes, attack_structure=True, attack_features=False, undirected=True, device='cuda', with_bias=False, lambda_=0.5, train_iters=100, lr=0.1, momentum=0.9):\n",
        "        super(Metattack, self).__init__(model, nnodes, attack_structure=attack_structure, attack_features=attack_features, undirected=undirected, device=device)\n",
        "        self.momentum = momentum\n",
        "        self.lr = lr\n",
        "        self.train_iters = train_iters\n",
        "        self.with_bias = with_bias\n",
        "        self.sparse_features = False  # Set to False if not working with sparse features\n",
        "\n",
        "        self.weights = []\n",
        "        self.biases = []\n",
        "        self.w_velocities = []\n",
        "        self.b_velocities = []\n",
        "\n",
        "        self.hidden_sizes = self.surrogate.hidden_sizes\n",
        "        self.nfeat = self.surrogate.nfeat\n",
        "        self.nclass = self.surrogate.nclass\n",
        "\n",
        "        previous_size = self.nfeat\n",
        "        for ix, nhid in enumerate(self.hidden_sizes):\n",
        "            weight = Parameter(torch.FloatTensor(previous_size, nhid).to(device))\n",
        "            w_velocity = torch.zeros(weight.shape).to(device)\n",
        "            self.weights.append(weight)\n",
        "            self.w_velocities.append(w_velocity)\n",
        "\n",
        "            if self.with_bias:\n",
        "                bias = Parameter(torch.FloatTensor(nhid).to(device))\n",
        "                b_velocity = torch.zeros(bias.shape).to(device)\n",
        "                self.biases.append(bias)\n",
        "                self.b_velocities.append(b_velocity)\n",
        "\n",
        "            previous_size = nhid\n",
        "\n",
        "        output_weight = Parameter(torch.FloatTensor(previous_size, self.nclass).to(device))\n",
        "        output_w_velocity = torch.zeros(output_weight.shape).to(device)\n",
        "        self.weights.append(output_weight)\n",
        "        self.w_velocities.append(output_w_velocity)\n",
        "\n",
        "        if self.with_bias:\n",
        "            output_bias = Parameter(torch.FloatTensor(self.nclass).to(device))\n",
        "            output_b_velocity = torch.zeros(output_bias.shape).to(device)\n",
        "            self.biases.append(output_bias)\n",
        "            self.b_velocities.append(output_b_velocity)\n",
        "\n",
        "        self._initialize()\n",
        "\n",
        "    def _initialize(self):\n",
        "        for w, v in zip(self.weights, self.w_velocities):\n",
        "            stdv = 1. / math.sqrt(w.size(1))\n",
        "            w.data.uniform_(-stdv, stdv)\n",
        "            v.data.fill_(0)\n",
        "\n",
        "        if self.with_bias:\n",
        "            for b, v in zip(self.biases, self.b_velocities):\n",
        "                stdv = 1. / math.sqrt(b.size(0))\n",
        "                b.data.uniform_(-stdv, stdv)\n",
        "                v.data.fill_(0)\n",
        "\n",
        "    def inner_train(self, features, adj_norm, idx_train, idx_unlabeled, labels):\n",
        "        self._initialize()\n",
        "\n",
        "        for ix in range(len(self.hidden_sizes) + 1):\n",
        "            self.weights[ix] = self.weights[ix].detach()\n",
        "            self.weights[ix].requires_grad = True\n",
        "            self.w_velocities[ix] = self.w_velocities[ix].detach()\n",
        "            self.w_velocities[ix].requires_grad = True\n",
        "\n",
        "            if self.with_bias:\n",
        "                self.biases[ix] = self.biases[ix].detach()\n",
        "                self.biases[ix].requires_grad = True\n",
        "                self.b_velocities[ix] = self.b_velocities[ix].detach()\n",
        "                self.b_velocities[ix].requires_grad = True\n",
        "\n",
        "        for j in range(self.train_iters):\n",
        "            hidden = features\n",
        "            for ix, w in enumerate(self.weights):\n",
        "                b = self.biases[ix] if self.with_bias else 0\n",
        "                if isinstance(adj_norm, torch.sparse.FloatTensor):\n",
        "                    hidden = adj_norm @ torch.spmm(hidden, w) + b\n",
        "                else:\n",
        "                    hidden = adj_norm @ hidden @ w + b\n",
        "\n",
        "                if self.with_relu and ix != len(self.weights) - 1:\n",
        "                    hidden = F.relu(hidden)\n",
        "\n",
        "            output = F.log_softmax(hidden, dim=1)\n",
        "            loss_labeled = F.nll_loss(output[idx_train], labels[idx_train])\n",
        "\n",
        "            weight_grads = torch.autograd.grad(loss_labeled, self.weights, create_graph=True)\n",
        "            self.w_velocities = [self.momentum * v + g for v, g in zip(self.w_velocities, weight_grads)]\n",
        "            if self.with_bias:\n",
        "                bias_grads = torch.autograd.grad(loss_labeled, self.biases, create_graph=True)\n",
        "                self.b_velocities = [self.momentum * v + g for v, g in zip(self.b_velocities, bias_grads)]\n",
        "\n",
        "            self.weights = [w - self.lr * v for w, v in zip(self.weights, self.w_velocities)]\n",
        "            if self.with_bias:\n",
        "                self.biases = [b - self.lr * v for b, v in zip(self.biases, self.b_velocities)]\n",
        "\n",
        "\n",
        "\n",
        "\n",
        "    def compute_edge_gradients(self, features, adj, idx_train, labels):\n",
        "        device = 'cuda' # Ensure using the class-defined device for all tensors\n",
        "        features, adj, labels = features.to(device), adj.to(device), labels.to(device)\n",
        "        adj.requires_grad_(True)  # Enable gradient computation for adj\n",
        "\n",
        "        # Perform the forward pass similarly to get_meta_grad\n",
        "        hidden = features\n",
        "        for ix, w in enumerate(self.weights):\n",
        "            w = w.to(device)  # Ensure weights are on the correct device\n",
        "            b = self.biases[ix].to(device) if self.with_bias else 0\n",
        "            hidden = torch.matmul(adj, hidden) @ w + b\n",
        "            if self.with_relu and ix != len(self.weights) - 1:\n",
        "                hidden = F.relu(hidden)\n",
        "\n",
        "        output = F.log_softmax(hidden, dim=1)\n",
        "        loss = F.nll_loss(output[idx_train], labels[idx_train])\n",
        "\n",
        "        # Compute gradients with respect to adj\n",
        "        adj_grad = torch.autograd.grad(loss, adj, create_graph=True)[0]\n",
        "\n",
        "        # Convert gradients to edge scores\n",
        "        edge_scores = self.get_adj_score(adj_grad, adj)\n",
        "\n",
        "        # Map edge scores to (node1, node2) format\n",
        "        edge_score_dict = {}\n",
        "        for i in range(adj.shape[0]):\n",
        "            for j in range(adj.shape[1]):\n",
        "                if adj[i, j].item() > 0:  # Assuming an edge exists if adj[i, j] > 0\n",
        "                    edge_score_dict[(i, j)] = edge_scores[i, j].item()\n",
        "\n",
        "        return edge_score_dict\n",
        "\n",
        "\n",
        "\n",
        "\n",
        "\n",
        "    def get_adj_score(self, adj_grad, ori_adj):\n",
        "        adj_meta_scores = torch.abs(adj_grad)\n",
        "        return adj_meta_scores\n"
      ],
      "metadata": {
        "id": "_ypFIAsR99qc"
      },
      "execution_count": null,
      "outputs": []
    },
    {
      "cell_type": "markdown",
      "source": [
        "#run this"
      ],
      "metadata": {
        "id": "-TYygAT6_Dby"
      }
    },
    {
      "cell_type": "code",
      "source": [
        "data"
      ],
      "metadata": {
        "colab": {
          "base_uri": "https://localhost:8080/"
        },
        "id": "t7zKnVmL-BIL",
        "outputId": "4b0fa295-a36e-4105-857c-ce7e998b3815"
      },
      "execution_count": null,
      "outputs": [
        {
          "output_type": "execute_result",
          "data": {
            "text/plain": [
              "Data(x=[2110, 3703], edge_index=[2, 7336], y=[2110], train_mask=[2110], val_mask=[2110], test_mask=[2110])"
            ]
          },
          "metadata": {},
          "execution_count": 30
        }
      ]
    },
    {
      "cell_type": "markdown",
      "source": [
        "###cheack meta"
      ],
      "metadata": {
        "id": "NQgOG49WA8M6"
      }
    },
    {
      "cell_type": "code",
      "execution_count": null,
      "metadata": {
        "id": "4gvxksiSA8M7"
      },
      "outputs": [],
      "source": [
        "original_edge_index = data.edge_index"
      ]
    },
    {
      "cell_type": "code",
      "execution_count": null,
      "metadata": {
        "colab": {
          "base_uri": "https://localhost:8080/"
        },
        "outputId": "5cb488d7-f192-44ad-afc9-6b3698176bf8",
        "id": "sb8MlS3AA8M7"
      },
      "outputs": [
        {
          "output_type": "stream",
          "name": "stdout",
          "text": [
            "  (0, 253)\t1.0\n",
            "  (0, 285)\t1.0\n",
            "  (0, 850)\t1.0\n",
            "  (0, 894)\t1.0\n",
            "  (0, 1063)\t1.0\n",
            "  (0, 1222)\t1.0\n",
            "  (0, 1436)\t1.0\n",
            "  (0, 1437)\t1.0\n",
            "  (0, 1638)\t1.0\n",
            "  (0, 1639)\t1.0\n",
            "  (0, 2012)\t1.0\n",
            "  (1, 393)\t1.0\n",
            "  (1, 1523)\t1.0\n",
            "  (1, 1733)\t1.0\n",
            "  (2, 3)\t1.0\n",
            "  (2, 1357)\t1.0\n",
            "  (2, 1366)\t1.0\n",
            "  (3, 2)\t1.0\n",
            "  (3, 1874)\t1.0\n",
            "  (4, 488)\t1.0\n",
            "  (4, 712)\t1.0\n",
            "  (4, 734)\t1.0\n",
            "  (4, 982)\t1.0\n",
            "  (4, 1785)\t1.0\n",
            "  (4, 1862)\t1.0\n",
            "  :\t:\n",
            "  (2103, 2102)\t1.0\n",
            "  (2104, 245)\t1.0\n",
            "  (2104, 2105)\t1.0\n",
            "  (2105, 245)\t1.0\n",
            "  (2105, 663)\t1.0\n",
            "  (2105, 2104)\t1.0\n",
            "  (2106, 976)\t1.0\n",
            "  (2107, 1694)\t1.0\n",
            "  (2107, 1904)\t1.0\n",
            "  (2107, 1944)\t1.0\n",
            "  (2107, 2006)\t1.0\n",
            "  (2107, 2075)\t1.0\n",
            "  (2108, 560)\t1.0\n",
            "  (2108, 725)\t1.0\n",
            "  (2108, 1311)\t1.0\n",
            "  (2108, 1388)\t1.0\n",
            "  (2108, 1437)\t1.0\n",
            "  (2108, 1515)\t1.0\n",
            "  (2108, 1534)\t1.0\n",
            "  (2109, 113)\t1.0\n",
            "  (2109, 669)\t1.0\n",
            "  (2109, 1027)\t1.0\n",
            "  (2109, 1350)\t1.0\n",
            "  (2109, 1858)\t1.0\n",
            "  (2109, 1927)\t1.0\n"
          ]
        }
      ],
      "source": [
        "import numpy as np\n",
        "from scipy.sparse import coo_matrix\n",
        "\n",
        "# Assuming original_edge_index is a PyTorch tensor\n",
        "# You need to move it to cuda before converting it to a NumPy array\n",
        "original_edge_index_cuda = original_edge_index\n",
        "\n",
        "# Number of nodes can be inferred from the maximum index in your edge index.\n",
        "# You might need to adjust this if there are nodes without edges.\n",
        "num_nodes = max(original_edge_index_cuda.flatten()) + 1\n",
        "\n",
        "# Source and target nodes\n",
        "row = original_edge_index_cuda[0, :]  # Source nodes\n",
        "col = original_edge_index_cuda[1, :]  # Target nodes\n",
        "\n",
        "# Create a COO-format sparse matrix from the edge indices.\n",
        "# We use ones to fill the data, implying an edge exists.\n",
        "data12 = np.ones(original_edge_index_cuda.shape[1])\n",
        "adj_matrix = coo_matrix((data12, (row, col)), shape=(num_nodes, num_nodes))\n",
        "\n",
        "# To print the matrix in the desired format:\n",
        "print(adj_matrix)\n"
      ]
    },
    {
      "cell_type": "code",
      "execution_count": null,
      "metadata": {
        "id": "CDdTNj-5A8M7"
      },
      "outputs": [],
      "source": [
        "adj=adj_matrix\n",
        "ori_adj = adj"
      ]
    },
    {
      "cell_type": "code",
      "execution_count": null,
      "metadata": {
        "id": "UWBTeTyhA8M8"
      },
      "outputs": [],
      "source": [
        "\n",
        "features, labels = data.x, data.y\n",
        "idx_train, idx_val, idx_test = data.train_mask,data.val_mask, data.test_mask\n",
        "idx_unlabeled = np.union1d(idx_val, idx_test)\n",
        "idx_unlabeled = np.union1d(idx_val, idx_test)\n",
        "# Setup Surrogate model\n",
        "ori_features = features"
      ]
    },
    {
      "cell_type": "code",
      "execution_count": null,
      "metadata": {
        "id": "C6v55PH1A8M8"
      },
      "outputs": [],
      "source": [
        "# Extract the node numbers corresponding to the indices where train_mask is True\n",
        "train_nodes = torch.nonzero(data.train_mask, as_tuple=True)[0].numpy()\n",
        "\n",
        "# Extract the node numbers corresponding to the indices where val_mask is True\n",
        "val_nodes = torch.nonzero(data.val_mask, as_tuple=True)[0].numpy()\n",
        "\n",
        "# Extract the node numbers corresponding to the indices where test_mask is True\n",
        "test_nodes = torch.nonzero(data.test_mask, as_tuple=True)[0].numpy()\n"
      ]
    },
    {
      "cell_type": "code",
      "execution_count": null,
      "metadata": {
        "id": "NDK8wLVfA8M8"
      },
      "outputs": [],
      "source": [
        "# Initialize the train_mask tensor\n",
        "train_mask =  train_nodes\n",
        "test_mask =  test_nodes\n",
        "val_mask =  val_nodes\n",
        "idx_train=train_mask\n",
        "idx_test=test_mask\n",
        "idx_val=val_mask"
      ]
    },
    {
      "cell_type": "code",
      "execution_count": null,
      "metadata": {
        "id": "JZvE8dgRA8M9"
      },
      "outputs": [],
      "source": [
        "import torch\n",
        "\n",
        "# Convert the sparse matrix to a PyTorch tensor\n",
        "adj_tensor = torch.FloatTensor(adj.toarray())\n",
        "\n",
        "# Move the tensor from GPU to cuda\n",
        "adj_cuda = adj_tensor#.cuda()\n",
        "\n",
        "\n",
        "\n",
        "\n",
        "import numpy as np\n",
        "\n",
        "from deeprobust.graph.defense import GCN\n",
        "# Setup Surrogate model\n",
        "surrogate = GCN(nfeat=features.shape[1], nclass=labels.max().item()+1,\n",
        "                nhid=16, dropout=0, with_relu=False, with_bias=False, device='cuda').to('cuda')\n",
        "surrogate.fit(features, adj_cuda, labels, idx_train, idx_val, patience=30)\n"
      ]
    },
    {
      "cell_type": "code",
      "execution_count": null,
      "metadata": {
        "colab": {
          "base_uri": "https://localhost:8080/"
        },
        "id": "5HDROfoYA8M-",
        "outputId": "93f57097-54e3-4d34-cd22-37392999be7a"
      },
      "outputs": [
        {
          "output_type": "stream",
          "name": "stdout",
          "text": [
            "Shape of idx_unlabeled: (211,)\n",
            "Shape of labels_self_training: torch.Size([2110])\n"
          ]
        }
      ],
      "source": [
        "adj=adj_cuda#.cuda()\n",
        "\n",
        "idx_unlabeled = np.union1d(idx_val, idx_test)\n",
        "idx_unlabeled = np.union1d(idx_val, idx_test)\n",
        "\n",
        "print(\"Shape of idx_unlabeled:\", idx_val.shape)\n",
        "print(\"Shape of labels_self_training:\", labels.shape)\n",
        "\n",
        "\n",
        "\n",
        "labels_self_training = labels.clone()  # Assuming initial labels are used for self-training"
      ]
    },
    {
      "cell_type": "code",
      "source": [
        "# Move the tensor from GPU to cuda\n",
        "labels_cuda = labels.cuda()\n",
        "# Move the tensor from GPU to cuda()\n",
        "features_cuda = features.cuda()\n",
        "adj_cuda = adj_cuda.cuda()\n",
        "# Attack"
      ],
      "metadata": {
        "id": "MBGdjRr8A8M-"
      },
      "execution_count": null,
      "outputs": []
    },
    {
      "cell_type": "markdown",
      "source": [
        "###run now"
      ],
      "metadata": {
        "id": "fVdHmtgnBpz_"
      }
    },
    {
      "cell_type": "code",
      "source": [
        "\n",
        "    adj_norm = adj_cuda\n"
      ],
      "metadata": {
        "id": "Q4wXlcEaDFUW"
      },
      "execution_count": null,
      "outputs": []
    },
    {
      "cell_type": "code",
      "source": [
        "surrogate = surrogate.cuda()"
      ],
      "metadata": {
        "id": "hKYQNklXDGAv"
      },
      "execution_count": null,
      "outputs": []
    },
    {
      "cell_type": "markdown",
      "source": [],
      "metadata": {
        "id": "kbVKL1SCDolj"
      }
    },
    {
      "cell_type": "code",
      "source": [],
      "metadata": {
        "id": "jHrlOSiUDpAb"
      },
      "execution_count": null,
      "outputs": []
    },
    {
      "cell_type": "code",
      "source": [
        "device = torch.device(\"cuda:0\")  # Assuming CUDA is available\n",
        "\n",
        "features = features.to(device)\n",
        "adj_norm = adj_norm.to(device)\n",
        "labels = labels.to(device)"
      ],
      "metadata": {
        "id": "FHQNxgzLDnRF"
      },
      "execution_count": null,
      "outputs": []
    },
    {
      "cell_type": "markdown",
      "source": [
        "#runnnnnnnnnnnn"
      ],
      "metadata": {
        "id": "6XG0HdqbKL8A"
      }
    },
    {
      "cell_type": "code",
      "source": [
        "seed = 10000\n",
        "np.random.seed(seed)\n",
        "torch.manual_seed(seed)"
      ],
      "metadata": {
        "colab": {
          "base_uri": "https://localhost:8080/"
        },
        "id": "QBN4RpY5kh7W",
        "outputId": "dcc6a6fb-b637-4938-a359-f6bf669e6af0"
      },
      "execution_count": null,
      "outputs": [
        {
          "output_type": "execute_result",
          "data": {
            "text/plain": [
              "<torch._C.Generator at 0x7eb0ec1b9730>"
            ]
          },
          "metadata": {},
          "execution_count": 43
        }
      ]
    },
    {
      "cell_type": "code",
      "source": [
        "# Instantiate the surrogate model (GCN in this case) and move it to the GPU\n",
        "surrogate = GCN(nfeat=features.shape[1], nclass=labels.max().item()+1,\n",
        "                nhid=16, dropout=0, with_relu=False, with_bias=False, device=device).to(device)\n",
        "\n",
        "# Instantiate the Metattack class\n",
        "metattack = Metattack(surrogate, nnodes=data.x.shape[0], attack_structure=True, attack_features=False, undirected=True,\n",
        "                      device=device, with_bias=False, lambda_=0.5, train_iters=100, lr=0.00001, momentum=0.9)\n",
        "\n",
        "# Train the Metattack model\n",
        "metattack.inner_train(features, adj_norm, idx_train, ~idx_train, labels)\n",
        "\n",
        "# Get meta gradient for edges\n",
        "edge_scores = metattack.compute_edge_gradients(features, adj, idx_train, labels)\n",
        "\n"
      ],
      "metadata": {
        "id": "ZFhqaaNHFm0B"
      },
      "execution_count": null,
      "outputs": []
    },
    {
      "cell_type": "markdown",
      "source": [],
      "metadata": {
        "id": "AkqXDQSrkVjE"
      }
    },
    {
      "cell_type": "code",
      "source": [
        "len(edge_scores)"
      ],
      "metadata": {
        "colab": {
          "base_uri": "https://localhost:8080/"
        },
        "id": "MwQUvub4dAs4",
        "outputId": "cdd68fee-f918-4016-cbe3-674c6d899b81"
      },
      "execution_count": null,
      "outputs": [
        {
          "output_type": "execute_result",
          "data": {
            "text/plain": [
              "7336"
            ]
          },
          "metadata": {},
          "execution_count": 45
        }
      ]
    },
    {
      "cell_type": "code",
      "source": [
        "(520/15962)*100"
      ],
      "metadata": {
        "colab": {
          "base_uri": "https://localhost:8080/"
        },
        "id": "c0kxrFTBO5w8",
        "outputId": "06d78dc2-6c58-42aa-a501-8d112ec292e0"
      },
      "execution_count": null,
      "outputs": [
        {
          "output_type": "execute_result",
          "data": {
            "text/plain": [
              "3.2577371256734744"
            ]
          },
          "metadata": {},
          "execution_count": 46
        }
      ]
    },
    {
      "cell_type": "code",
      "source": [
        "print(edge_scores)"
      ],
      "metadata": {
        "colab": {
          "base_uri": "https://localhost:8080/"
        },
        "id": "qIdD3y-hdAvP",
        "outputId": "92c7d14e-d40b-4411-b0fb-4eaec15ce60f"
      },
      "execution_count": null,
      "outputs": [
        {
          "output_type": "stream",
          "name": "stdout",
          "text": [
            "{(0, 253): 0.000907446607016027, (0, 285): 0.005078060552477837, (0, 850): 0.0028553649317473173, (0, 894): 0.0015715814661234617, (0, 1063): 0.003711231052875519, (0, 1222): 0.0059829410165548325, (0, 1436): 0.009632141329348087, (0, 1437): 0.0014605149626731873, (0, 1638): 0.002533403690904379, (0, 1639): 0.0014685043133795261, (0, 2012): 0.00046417221892625093, (1, 393): 0.0, (1, 1523): 0.0, (1, 1733): 0.0, (2, 3): 0.0, (2, 1357): 0.0, (2, 1366): 0.0, (3, 2): 0.0, (3, 1874): 0.0, (4, 488): 0.0, (4, 712): 0.0, (4, 734): 0.0, (4, 982): 0.0, (4, 1785): 0.0, (4, 1862): 0.0, (5, 56): 0.0, (5, 635): 0.0, (5, 650): 0.0, (5, 652): 0.0, (5, 1227): 0.0, (5, 1368): 0.0, (6, 354): 3.4663809600488094e-08, (6, 754): 2.6015554155378595e-08, (6, 756): 3.315059160513556e-08, (6, 1960): 1.6692091264758346e-08, (7, 986): 0.0, (7, 1746): 0.0, (7, 1821): 0.0, (8, 1320): 0.0, (9, 726): 0.0, (10, 412): 0.0, (10, 990): 0.0, (10, 1242): 0.0, (11, 942): 0.0, (12, 1231): 0.0, (13, 207): 0.0, (13, 521): 0.0, (13, 617): 0.0, (13, 1273): 0.0, (13, 1362): 0.0, (13, 1734): 0.0, (13, 1930): 0.0, (14, 106): 0.0, (14, 175): 0.0, (14, 247): 0.0, (14, 1259): 0.0, (14, 1910): 0.0, (14, 1998): 0.0, (15, 246): 0.0, (16, 60): 0.0, (16, 176): 0.0, (16, 1392): 0.0, (16, 1425): 0.0, (17, 862): 0.0, (17, 1289): 0.0, (17, 2087): 0.0, (17, 2090): 0.0, (18, 1769): 0.0, (19, 1806): 0.0, (19, 1809): 0.0, (20, 1658): 0.008660967461764812, (21, 121): 0.0, (21, 135): 0.0, (21, 376): 0.0, (22, 368): 0.0, (22, 1739): 0.0, (23, 843): 0.0, (23, 844): 0.0, (23, 1166): 0.0, (23, 1596): 0.0, (24, 401): 0.0, (24, 486): 0.0, (24, 593): 0.0, (24, 1168): 0.0, (24, 1701): 0.0, (24, 2044): 0.0, (25, 862): 0.0, (25, 940): 0.0, (26, 81): 0.0, (26, 741): 0.0, (27, 858): 0.00539484852924943, (27, 1991): 0.008221672847867012, (28, 35): 0.0, (28, 517): 0.0, (28, 1122): 0.0, (28, 1226): 0.0, (29, 826): 0.0, (29, 1579): 0.0, (30, 132): 0.0, (30, 244): 0.0, (30, 683): 0.0, (30, 964): 0.0, (30, 1154): 0.0, (30, 1233): 0.0, (30, 1404): 0.0, (31, 305): 0.03294650465250015, (32, 87): 0.0, (32, 88): 0.0, (32, 517): 0.0, (32, 1226): 0.0, (33, 1880): 0.0, (34, 85): 0.0, (34, 519): 0.0, (34, 1634): 0.0, (34, 1716): 0.0, (34, 1833): 0.0, (35, 28): 0.0, (35, 1122): 0.0, (35, 1226): 0.0, (36, 187): 0.0, (36, 1511): 0.0, (36, 1631): 0.0, (36, 2040): 0.0, (36, 2086): 0.0, (37, 777): 0.00013643618149217218, (37, 1276): 6.010866491124034e-05, (37, 1277): 6.881605077069253e-05, (37, 1747): 0.0002185075863962993, (37, 1760): 0.00035029483842663467, (37, 1761): 7.994822226464748e-06, (37, 1801): 0.0004646605812013149, (37, 1838): 0.0001698760170256719, (38, 459): 0.004610544536262751, (38, 497): 0.003199242986738682, (38, 935): 0.002894165925681591, (38, 959): 0.004813191946595907, (38, 1630): 0.005515681114047766, (38, 1653): 0.006247279234230518, (38, 1862): 0.0005168196512386203, (39, 169): 0.000547972391359508, (39, 761): 0.00026243666070513427, (39, 1118): 0.0005098513793200254, (39, 1154): 0.0008261713082902133, (39, 1226): 0.001124620670452714, (39, 1417): 0.0033044146839529276, (40, 451): 0.0, (40, 895): 0.0, (40, 1332): 0.0, (41, 236): 0.0, (41, 390): 0.0, (41, 1744): 0.0, (42, 1057): 0.0, (42, 1353): 0.0, (42, 1627): 0.0, (43, 389): 0.019083939492702484, (43, 2003): 0.0031971391290426254, (44, 1445): 0.0, (45, 149): 0.0, (45, 1280): 0.0, (45, 1684): 0.0, (46, 2038): 0.0, (47, 571): 0.0, (48, 1140): 0.005151958670467138, (48, 1141): 0.0025714989751577377, (48, 1806): 0.00039164465852081776, (49, 862): 0.0, (50, 390): 0.00023394192976411432, (51, 367): 0.0012536027934402227, (52, 95): 0.0, (52, 1117): 0.0, (52, 2017): 0.0, (53, 1027): 0.0, (53, 1256): 0.0, (53, 1392): 0.0, (53, 1722): 0.0, (54, 354): 3.4663809600488094e-08, (54, 1862): 2.7461698692832215e-08, (55, 1309): 0.0, (55, 1971): 0.0, (55, 2051): 0.0, (56, 5): 0.0, (56, 635): 0.0, (56, 650): 0.0, (56, 652): 0.0, (56, 1335): 0.0, (56, 1368): 0.0, (57, 158): 0.0, (57, 1750): 0.0, (58, 1628): 0.0, (59, 1038): 0.0, (60, 16): 0.0, (60, 1392): 0.0, (61, 163): 0.0, (62, 1225): 0.002014968078583479, (62, 1423): 0.000791971804574132, (63, 301): 1.7965918295072514e-18, (63, 685): 6.917189098224143e-18, (63, 753): 1.921648096440315e-18, (63, 862): 2.6352214489186255e-18, (63, 976): 3.2124086416137332e-18, (63, 999): 2.0736013817614595e-18, (63, 1254): 2.4952281612792323e-18, (63, 1400): 3.751291788478501e-18, (63, 1454): 2.001860627620195e-18, (63, 1873): 3.6062944717234683e-19, (64, 676): 0.003748345421627164, (64, 967): 0.003861716017127037, (64, 1001): 0.07398609817028046, (64, 1738): 0.003104389412328601, (65, 699): 0.0049836947582662106, (65, 1462): 0.003631671192124486, (66, 329): 0.001008235733024776, (66, 864): 0.0013505546376109123, (66, 881): 0.0009816382080316544, (66, 1428): 0.002027413807809353, (66, 1993): 0.0003202726074960083, (66, 2007): 2.9272763640619814e-05, (67, 645): 0.0, (67, 786): 0.0, (67, 1745): 0.0, (68, 645): 0.0, (69, 336): 0.0, (69, 1280): 0.0, (70, 1480): 0.0, (71, 186): 0.0, (71, 664): 0.0, (71, 806): 0.0, (71, 988): 0.0, (71, 1379): 0.0, (71, 1426): 0.0, (71, 1860): 0.0, (72, 220): 0.0, (72, 598): 0.0, (72, 1152): 0.0, (73, 865): 0.0, (74, 110): 0.0, (74, 1872): 0.0, (75, 354): 3.4663809600488094e-08, (75, 386): 7.007629143629401e-09, (76, 299): 0.0, (76, 546): 0.0, (76, 921): 0.0, (76, 1246): 0.0, (76, 1315): 0.0, (76, 1996): 0.0, (77, 1016): 0.0, (77, 1823): 0.0, (78, 354): 3.4663809600488094e-08, (78, 885): 3.8565925564171266e-08, (79, 1333): 0.0, (79, 1368): 0.0, (79, 1808): 0.0, (80, 139): 0.0008469737367704511, (80, 151): 0.00039114541141316295, (80, 266): 0.00014866307901684195, (80, 268): 0.0015057031996548176, (80, 393): 1.7752638086676598e-05, (80, 619): 1.1626718332991004e-05, (80, 862): 0.00037166610127314925, (80, 904): 0.0009265475673601031, (80, 1079): 0.00028231972828507423, (80, 1319): 0.0007913464214652777, (80, 1481): 0.0015909775393083692, (80, 1554): 0.0018486197805032134, (80, 2068): 0.0001633331849006936, (80, 2084): 0.0001341783645329997, (81, 26): 0.0, (82, 1533): 0.0035459091886878014, (82, 1655): 0.006561553571373224, (82, 1657): 0.014995367266237736, (82, 1692): 0.00996272824704647, (82, 1783): 0.007682522293180227, (83, 295): 0.0032272739335894585, (83, 359): 0.005123803857713938, (83, 445): 0.008842787705361843, (83, 1001): 0.0003031839441973716, (83, 1054): 0.0038056839257478714, (83, 1182): 9.388120088260621e-05, (83, 1446): 0.010878932662308216, (83, 1817): 0.0029338630847632885, (83, 1930): 0.006294223014265299, (83, 2065): 0.004620127845555544, (84, 86): 0.0, (84, 667): 0.0, (85, 34): 0.0, (85, 445): 0.0, (85, 626): 0.0, (85, 668): 0.0, (85, 845): 0.0, (85, 967): 0.0, (85, 1001): 0.0, (85, 1202): 0.0, (85, 1261): 0.0, (85, 1352): 0.0, (85, 1355): 0.0, (85, 1523): 0.0, (85, 1584): 0.0, (85, 1634): 0.0, (85, 1848): 0.0, (85, 1953): 0.0, (86, 84): 0.0, (86, 237): 0.0, (86, 318): 0.0, (86, 447): 0.0, (86, 1001): 0.0, (87, 32): 0.0, (87, 88): 0.0, (87, 1088): 0.0, (88, 32): 0.0, (88, 87): 0.0, (88, 275): 0.0, (88, 643): 0.0, (88, 1088): 0.0, (88, 1089): 0.0, (89, 1246): 4.234860820850027e-14, (89, 1397): 1.719062175595254e-14, (89, 1429): 4.167682637803288e-14, (89, 1430): 5.71063514401629e-14, (89, 1452): 1.9663610678426723e-14, (89, 1746): 2.1063835761335123e-14, (90, 328): 0.0058669294230639935, (90, 371): 0.010156730189919472, (90, 1184): 0.008296865969896317, (90, 1361): 0.005357211455702782, (90, 1503): 0.015654003247618675, (90, 1725): 0.015724383294582367, (91, 274): 0.0, (91, 280): 0.0, (91, 688): 0.0, (91, 1074): 0.0, (91, 1191): 0.0, (91, 1333): 0.0, (92, 200): 0.0, (92, 1756): 0.0, (93, 967): 0.0, (94, 593): 0.0, (95, 52): 0.0, (95, 1152): 0.0, (96, 1313): 0.0, (97, 282): 0.0063433656468987465, (97, 644): 0.010413045063614845, (97, 670): 0.013430885039269924, (97, 754): 0.007294747047126293, (97, 756): 0.014762364327907562, (97, 1680): 0.004658796358853579, (97, 1736): 0.006589931435883045, (97, 1960): 0.0016841348260641098, (98, 448): 6.28321798141541e-15, (98, 819): 7.330490787950047e-15, (98, 1081): 1.9180314007514153e-14, (98, 1195): 1.5951302439836355e-14, (98, 1452): 7.030063871668471e-15, (98, 1454): 2.2565999565379684e-15, (98, 1716): 7.031999765469421e-15, (98, 1717): 1.3011947552757559e-15, (99, 1328): 0.0, (100, 840): 0.0, (100, 841): 0.0, (101, 1064): 0.0, (102, 354): 3.4663809600488094e-08, (102, 885): 3.8565925564171266e-08, (103, 488): 0.0, (103, 597): 0.0, (103, 885): 0.0, (104, 235): 0.0, (104, 1045): 0.0, (104, 1348): 0.0, (104, 1687): 0.0, (105, 132): 0.0, (105, 244): 0.0, (105, 672): 0.0, (105, 683): 0.0, (105, 1108): 0.0, (106, 14): 0.0, (106, 247): 0.0, (106, 618): 0.0, (106, 740): 0.0, (106, 1390): 0.0, (106, 1910): 0.0, (107, 1795): 0.0, (108, 1846): 0.0, (109, 207): 9.980283603164946e-26, (109, 414): 1.5195831561576877e-24, (109, 450): 3.056458932218725e-24, (109, 534): 2.5785748844448884e-24, (109, 702): 4.29530917195928e-25, (109, 948): 3.7203789625870884e-25, (109, 1322): 6.960933279573496e-25, (109, 1716): 1.0020671309359999e-24, (110, 74): 0.0, (110, 1871): 0.0, (110, 1872): 0.0, (111, 1348): 0.0, (112, 1580): 0.0, (113, 1027): 0.02017451450228691, (113, 2109): 0.010790882632136345, (114, 369): 0.0, (114, 378): 0.0, (114, 442): 0.0, (114, 889): 0.0, (114, 1017): 0.0, (114, 1299): 0.0, (114, 1303): 0.0, (114, 1389): 0.0, (114, 1750): 0.0, (114, 1752): 0.0, (115, 846): 0.0, (115, 1605): 0.0, (116, 1620): 0.0, (117, 338): 0.0, (117, 1201): 0.0, (118, 898): 0.0, (118, 1186): 0.0, (119, 1026): 0.0, (119, 1027): 0.0, (119, 1350): 0.0, (120, 1750): 0.0, (121, 21): 0.007459972053766251, (121, 1068): 0.001805722713470459, (121, 1152): 0.001610065926797688, (121, 1262): 0.000331975519657135, (121, 1321): 0.009024932980537415, (121, 1978): 0.00619222829118371, (122, 152): 0.0, (122, 758): 0.0, (122, 1111): 0.0, (122, 1532): 0.0, (122, 1580): 0.0, (122, 2034): 0.0, (122, 2035): 0.0, (122, 2100): 0.0, (122, 2102): 0.0, (123, 1218): 0.0, (123, 1778): 0.0, (124, 205): 0.0, (124, 1402): 0.0, (125, 1316): 0.0, (125, 1419): 0.0, (125, 1806): 0.0, (126, 1976): 0.0, (127, 1524): 0.002104786690324545, (127, 1570): 0.006784927565604448, (128, 1099): 0.0005150071810930967, (129, 1152): 0.0, (129, 1575): 0.0, (129, 1920): 0.0, (130, 179): 0.0011001311941072345, (130, 585): 0.0004103274259250611, (131, 205): 0.0, (131, 440): 0.0, (131, 480): 0.0, (131, 803): 0.0, (131, 1126): 0.0, (132, 30): 0.0, (132, 105): 0.0, (132, 292): 0.0, (132, 683): 0.0, (132, 729): 0.0, (132, 1404): 0.0, (132, 1417): 0.0, (133, 1750): 0.0584004744887352, (134, 721): 0.004945545457303524, (134, 1771): 0.007625768426805735, (135, 21): 0.0, (135, 681): 0.0, (136, 1164): 0.0, (136, 1403): 0.0, (137, 1697): 0.0, (138, 507): 0.0, (138, 1629): 0.0, (139, 80): 0.0, (139, 268): 0.0, (139, 904): 0.0, (139, 1554): 0.0, (140, 1759): 0.0, (141, 269): 0.0, (141, 1918): 0.0, (141, 1919): 0.0, (141, 1977): 0.0, (142, 1750): 0.0, (143, 1591): 0.002765002893283963, (144, 718): 1.237783698218974e-20, (144, 804): 9.481649536738285e-20, (144, 805): 9.88513337614002e-20, (144, 817): 1.0032436633335955e-20, (144, 862): 5.404911342767826e-19, (144, 937): 5.734195659506877e-20, (144, 938): 1.7806887652430366e-19, (144, 1000): 6.761690578189908e-21, (144, 1018): 1.2530633397199623e-19, (144, 1019): 5.155960868415365e-20, (144, 1021): 2.2155924462894875e-20, (144, 1067): 1.3290216551600876e-19, (144, 1252): 2.0621082758367063e-20, (144, 1289): 1.5771335751665733e-19, (144, 1553): 6.645081133936589e-20, (144, 2091): 5.604225551994336e-20, (145, 1283): 0.0, (146, 660): 0.0, (147, 1631): 0.0, (147, 2040): 0.0, (148, 405): 0.0, (148, 699): 0.0, (149, 45): 0.0, (149, 1280): 0.0, (149, 1684): 0.0, (150, 219): 0.000396838819142431, (151, 80): 0.0031781357247382402, (151, 181): 0.005913970060646534, (151, 452): 0.0012742789695039392, (151, 619): 0.004528454039245844, (151, 862): 0.04579548165202141, (151, 904): 0.00037046216311864555, (151, 1079): 0.0007819191087037325, (151, 1454): 0.0010070404969155788, (151, 1481): 0.004501483868807554, (151, 1554): 0.007519580889493227, (151, 2015): 0.0021870997734367847, (151, 2083): 0.004562008660286665, (151, 2084): 0.00866678822785616, (152, 122): 0.0, (153, 1880): 0.0, (154, 300): 0.008357484824955463, (154, 392): 0.004196755588054657, (154, 1098): 0.014113951474428177, (154, 1099): 0.0009707375429570675, (154, 1493): 0.01783178560435772, (155, 430): 0.0, (155, 848): 0.0, (155, 1054): 0.0, (155, 1505): 0.0, (155, 2063): 0.0, (156, 169): 0.0022072053980082273, (156, 389): 0.00881994515657425, (156, 400): 0.0064216782338917255, (156, 964): 0.0008997598197311163, (156, 1108): 0.007621771655976772, (156, 1154): 0.00420696334913373, (156, 1233): 0.0013736317632719874, (156, 1404): 0.0006238250061869621, (156, 1802): 0.003485706401988864, (157, 448): 0.0006306564318947494, (157, 684): 0.00011147035547764972, (157, 862): 0.00020067233708687127, (157, 893): 0.001362752984277904, (157, 938): 8.10136043583043e-06, (157, 1160): 0.0004521676164586097, (157, 1452): 0.00022426829673349857, (158, 57): 0.0, (158, 1260): 0.0, (158, 1750): 0.0, (159, 1304): 0.0044310614466667175, (159, 1305): 0.0032774941064417362, (160, 946): 0.000634344934951514, (160, 1223): 4.816500950255431e-05, (161, 1120): 0.0, (161, 1250): 0.0, (162, 286): 9.251422598919451e-15, (162, 815): 2.284692481860015e-14, (162, 1429): 4.167682637803288e-14, (162, 1607): 3.020654337554038e-14, (162, 1894): 3.2204409495042996e-14, (163, 61): 0.0, (163, 1580): 0.0, (164, 786): 0.0, (165, 1990): 0.004447848070412874, (165, 2062): 0.01561670284718275, (166, 826): 0.0, (166, 1668): 0.0, (167, 385): 0.0, (167, 459): 0.0, (167, 497): 0.0, (167, 1630): 0.0, (168, 1564): 0.0, (169, 39): 0.0007107873680070043, (169, 156): 0.0011534232180565596, (170, 1082): 0.0016954001039266586, (170, 1083): 0.00393947446718812, (170, 1084): 0.009004348888993263, (171, 1149): 0.0, (171, 1733): 0.0, (171, 1788): 0.0, (171, 1790): 0.0, (172, 1502): 0.0, (173, 1171): 0.0, (173, 1619): 0.0, (174, 926): 0.0, (174, 930): 0.0, (174, 1770): 0.0, (175, 14): 0.0, (175, 247): 0.0, (175, 618): 0.0, (175, 740): 0.0, (175, 1390): 0.0, (175, 1910): 0.0, (175, 1998): 0.0, (176, 16): 1.4640642802987713e-05, (176, 233): 2.01282705347694e-06, (176, 503): 2.9257225833134726e-05, (176, 551): 1.0186969120695721e-05, (176, 1187): 2.77198842013604e-06, (176, 1348): 2.786504410323687e-05, (177, 1811): 0.0, (178, 388): 0.0, (178, 516): 0.0, (178, 602): 0.0, (178, 1829): 0.0, (178, 2072): 0.0, (179, 130): 0.0015104587655514479, (179, 1572): 0.0004753595276270062, (180, 1901): 0.0, (180, 2099): 0.0, (181, 151): 0.00039114541141316295, (181, 266): 0.00014866307901684195, (181, 441): 0.0012897939886897802, (181, 655): 0.0006813831860199571, (181, 1289): 0.00020905150449834764, (181, 1481): 0.0015909775393083692, (181, 1554): 0.0018486197805032134, (181, 2083): 0.0020820293575525284, (181, 2084): 0.0001341783645329997, (181, 2085): 0.0013181098038330674, (182, 723): 0.0, (183, 219): 0.0, (183, 1370): 0.0, (184, 853): 0.0, (185, 1781): 0.0, (186, 71): 0.0, (186, 601): 0.0, (186, 620): 0.0, (186, 664): 0.0, (186, 759): 0.0, (186, 804): 0.0, (186, 805): 0.0, (186, 831): 0.0, (186, 988): 0.0, (186, 1054): 0.0, (186, 1067): 0.0, (187, 36): 0.0, (187, 1152): 0.0, (187, 1468): 0.0, (187, 2098): 0.0, (188, 1311): 0.0, (188, 1388): 0.0, (188, 1569): 0.0, (189, 467): 0.0, (189, 1981): 0.0, (190, 1413): 0.0, (191, 1239): 0.013540574349462986, (192, 203): 0.0, (192, 1313): 0.0, (192, 1536): 0.0, (193, 1640): 0.0, (194, 1038): 0.0, (195, 786): 0.0, (196, 623): 0.0, (196, 1498): 0.0, (197, 1413): 0.0, (198, 1526): 0.0, (198, 1686): 0.0, (198, 1910): 0.0, (199, 979): 0.0, (199, 1202): 0.0, (200, 92): 0.0, (200, 376): 0.0, (200, 1582): 0.0, (201, 1801): 0.0, (201, 1976): 0.0, (202, 707): 0.0004686065949499607, (202, 842): 0.0013125604018568993, (202, 1978): 0.00619222829118371, (203, 192): 0.0, (203, 1313): 0.0, (204, 1054): 0.0, (204, 1110): 0.0, (204, 1523): 0.0, (205, 124): 0.0, (205, 131): 0.0, (206, 1600): 0.004610508214682341, (206, 1759): 0.0029120405670255423, (207, 13): 0.0, (207, 109): 0.0, (207, 261): 0.0, (207, 519): 0.0, (207, 622): 0.0, (207, 986): 0.0, (207, 987): 0.0, (207, 1322): 0.0, (207, 1716): 0.0, (207, 1833): 0.0, (208, 610): 0.0035243749152868986, (208, 982): 0.0024197713937610388, (209, 670): 0.0, (209, 682): 0.0, (209, 995): 0.0, (209, 1243): 0.0, (209, 1469): 0.0, (210, 1083): 0.0, (211, 354): 0.0014717443846166134, (211, 410): 0.0011737293098121881, (211, 478): 0.0008926281589083374, (211, 902): 0.0005148116615600884, (211, 903): 0.0009458402637392282, (211, 905): 0.0006146789528429508, (211, 907): 0.00021161719632800668, (211, 1198): 0.000429571489803493, (211, 1680): 0.0012799467658624053, (211, 1999): 0.0010896543972194195, (212, 1750): 0.0, (213, 495): 0.0, (213, 1780): 0.0, (213, 1904): 0.0, (214, 862): 1.6337926181687608e-16, (214, 1386): 2.6336207799870803e-16, (215, 618): 0.0, (215, 1348): 0.0, (216, 1544): 0.0, (216, 2062): 0.0, (217, 644): 0.0, (217, 1479): 0.0, (218, 819): 0.0, (218, 862): 0.0, (218, 1295): 0.0, (218, 1452): 0.0, (218, 1453): 0.0, (218, 1454): 0.0, (219, 150): 0.0023747754748910666, (219, 183): 0.001977937063202262, (220, 72): 0.0005673895357176661, (220, 595): 0.009068876504898071, (220, 614): 0.0001920422655530274, (220, 987): 0.007687252946197987, (220, 988): 0.004000388085842133, (220, 1132): 0.009076355956494808, (220, 1222): 0.0015965254278853536, (220, 1304): 0.009129872545599937, (220, 1604): 0.002246659016236663, (220, 1663): 0.013527099043130875, (220, 2093): 0.009737675078213215, (221, 848): 0.0, (222, 395): 0.0, (222, 2090): 0.0, (223, 307): 0.015605287626385689, (223, 787): 0.02700120024383068, (223, 1046): 0.009457956068217754, (224, 1252): 0.0, (225, 388): 3.038709473912604e-05, (225, 394): 2.7524123652256094e-05, (225, 444): 2.9801435630361084e-06, (225, 602): 1.250746390724089e-05, (225, 1634): 7.971808031470573e-07, (225, 1635): 9.096198482438922e-06, (225, 1831): 9.93562593976094e-07, (225, 1832): 1.1504533176776022e-05, (225, 1894): 1.5615562006132677e-05, (225, 1939): 3.676547066788771e-08, (226, 402): 0.007204688154160976, (226, 460): 0.010441453196108341, (227, 641): 0.0, (227, 1954): 0.0, (228, 1143): 0.0, (228, 1145): 0.0, (228, 1648): 0.0, (229, 2063): 0.0, (230, 383): 0.0, (230, 920): 0.0, (231, 1007): 0.0, (231, 1149): 0.0, (231, 1790): 0.0, (232, 885): 0.0, (233, 176): 6.081679021008313e-05, (233, 1425): 6.081679021008313e-05, (233, 1661): 8.724522194825113e-05, (234, 1446): 0.0, (234, 1932): 0.0, (235, 104): 0.0, (236, 41): 0.00907208677381277, (236, 430): 6.881563604110852e-05, (236, 913): 0.0021159343887120485, (236, 942): 0.004426808562129736, (236, 981): 0.01638554222881794, (236, 1815): 0.018350571393966675, (236, 1965): 0.01481455098837614, (236, 1979): 0.0017836804036051035, (237, 86): 0.0, (237, 318): 0.0, (237, 667): 0.0, (237, 1001): 0.0, (238, 2094): 0.0, (238, 2099): 0.0, (239, 1210): 0.0, (239, 1818): 0.0, (240, 953): 0.0, (240, 1591): 0.0, (240, 1666): 0.0, (241, 640): 0.0011787514667958021, (241, 832): 0.002087695524096489, (241, 833): 0.003610015846788883, (241, 862): 0.001463536056689918, (241, 938): 7.591966277686879e-05, (241, 948): 0.0031669125892221928, (241, 950): 0.0042049274779856205, (242, 1193): 0.0, (242, 1196): 0.0, (242, 1443): 0.0, (242, 1453): 0.0, (243, 915): 0.0, (243, 1288): 0.0, (244, 30): 0.0, (244, 105): 0.0, (244, 292): 0.0, (244, 683): 0.0, (244, 729): 0.0, (244, 1404): 0.0, (244, 1417): 0.0, (245, 622): 0.0, (245, 629): 0.0, (245, 663): 0.0, (245, 2104): 0.0, (245, 2105): 0.0, (246, 15): 5.674030398949981e-05, (246, 1644): 0.00047922926023602486, (246, 1645): 0.00028021365869790316, (247, 14): 0.0, (247, 106): 0.0, (247, 175): 0.0, (247, 740): 0.0, (247, 1390): 0.0, (247, 1998): 0.0, (248, 645): 0.0, (248, 796): 0.0, (249, 1594): 0.0, (249, 1595): 0.0, (249, 1747): 0.0, (250, 862): 4.6142425858504656e-18, (250, 1454): 6.350948813755562e-18, (251, 689): 7.850974725442939e-06, (251, 1826): 0.00028035504510626197, (251, 1827): 0.0003202784573659301, (252, 282): 0.0, (253, 0): 0.0, (253, 1494): 0.0, (253, 1956): 0.0, (253, 2007): 0.0, (254, 1423): 0.0011261095060035586, (255, 1104): 0.012069810181856155, (255, 1771): 0.007625768426805735, (256, 1155): 0.0, (256, 1156): 0.0, (257, 828): 0.0, (257, 838): 0.0, (257, 2048): 0.0, (258, 795): 1.3131770515428798e-07, (259, 1139): 0.0, (260, 606): 0.0, (261, 207): 0.0, (261, 614): 0.0, (261, 817): 0.0, (261, 862): 0.0, (262, 379): 0.0, (262, 1499): 0.0, (262, 1844): 0.0, (263, 331): 0.0, (263, 333): 0.0, (263, 340): 0.0, (263, 353): 0.0, (264, 955): 0.0, (264, 1748): 0.0, (265, 1177): 0.0, (265, 1473): 0.0, (266, 80): 1.1137809018168035e-14, (266, 181): 1.2947198448445309e-14, (266, 441): 3.1242130515534696e-15, (266, 448): 6.28321798141541e-15, (266, 619): 3.836600582721042e-15, (266, 904): 3.1433824659410185e-15, (266, 1079): 2.723642118132287e-16, (266, 1454): 2.2565999565379684e-15, (266, 1481): 1.6269520859658534e-14, (266, 1554): 1.891059500018586e-14, (266, 2083): 1.6999559922172176e-14, (266, 2084): 1.676021382226653e-14, (267, 703): 0.000856287544593215, (267, 746): 0.001199158257804811, (268, 80): 0.0001377127191517502, (268, 139): 0.00045698517351411283, (268, 452): 0.0003510488895699382, (268, 619): 6.325608410406858e-06, (268, 655): 0.0003678658395074308, (268, 862): 0.00020067233708687127, (268, 904): 0.0004999355878680944, (268, 945): 0.0004092685994692147, (268, 1079): 0.00015228870324790478, (268, 1160): 0.0004521676164586097, (268, 1454): 0.0002784357056953013, (268, 1481): 0.0008584052557125688, (268, 1554): 0.0009973327396437526, (268, 2083): 0.0011235938873142004, (268, 2084): 7.219413237180561e-05, (269, 141): 0.0, (270, 509): 0.0, (270, 871): 0.0, (271, 1125): 0.0, (271, 1694): 0.0, (272, 601): 0.0, (272, 620): 0.0, (272, 759): 0.0, (272, 831): 0.0, (272, 1049): 0.0, (273, 433): 0.00026051801978610456, (273, 853): 0.006972583942115307, (273, 854): 0.0014517379458993673, (273, 1731): 0.006843228824436665, (273, 2014): 0.004627360496670008, (274, 91): 0.0, (274, 1074): 0.0, (274, 1191): 0.0, (275, 88): 0.0, (275, 1118): 0.0, (276, 1358): 0.0, (277, 337): 0.004729490261524916, (277, 1327): 0.004019541200250387, (278, 984): 0.0, (278, 1564): 0.0, (278, 1988): 0.0, (279, 1227): 0.0, (279, 1333): 0.0, (279, 2038): 0.0, (280, 91): 0.0, (281, 732): 0.0, (281, 1751): 0.0, (282, 97): 0.006589931435883045, (282, 252): 0.0002465645666234195, (283, 1221): 0.014131251722574234, (284, 1081): 0.0, (284, 2091): 0.0, (285, 0): 0.0, (286, 162): 0.007902327924966812, (286, 630): 0.009098734706640244, (286, 1225): 0.0028940781485289335, (287, 1917): 0.0, (288, 852): 1.263150965819534e-22, (289, 1563): 0.0, (289, 2036): 0.0, (290, 318): 0.0, (290, 1001): 0.0, (291, 740): 0.0, (292, 132): 0.0, (292, 244): 0.0, (293, 1187): 0.0027009767945855856, (293, 1405): 0.0031992318108677864, (294, 888): 0.0, (295, 83): 0.0, (295, 743): 0.0, (295, 1635): 0.0, (295, 1781): 0.0, (295, 2064): 0.0, (295, 2067): 0.0, (296, 1541): 0.0, (297, 300): 0.008357484824955463, (297, 392): 0.004196755588054657, (297, 1098): 0.014113951474428177, (297, 1099): 0.0009707375429570675, (297, 1493): 0.01783178560435772, (298, 611): 0.0037956219166517258, (298, 969): 0.007819141261279583, (299, 76): 0.0, (299, 1371): 0.0, (300, 154): 0.0, (300, 297): 0.0, (300, 1493): 0.0, (301, 63): 7.282912404717692e-26, (302, 850): 0.0, (302, 1678): 0.0, (303, 1296): 0.0, (304, 332): 0.0020377333275973797, (304, 763): 0.011900759302079678, (304, 987): 0.00751952501013875, (304, 2011): 0.006444795057177544, (305, 31): 0.0013076977338641882, (305, 1543): 0.018201852217316628, (305, 1733): 0.003553439164534211, (305, 1790): 0.009883515536785126, (306, 1447): 0.0011993278749287128, (306, 1448): 0.004818941466510296, (307, 223): 0.0045692408457398415, (307, 1286): 0.007479051593691111, (307, 1822): 0.001331720151938498, (307, 1840): 0.0032306762877851725, (307, 1843): 0.0016580397495999932, (308, 1320): 0.0, (309, 977): 0.0029285759665071964, (310, 432): 0.0, (311, 700): 0.00016882855561561882, (311, 722): 0.0005151210934855044, (311, 927): 0.00031943575595505536, (311, 1220): 0.00019669685570988804, (311, 1541): 0.0006616237806156278, (311, 1793): 0.0005430541932582855, (312, 1409): 0.005731354467570782, (313, 786): 0.0, (314, 1348): 0.0, (314, 1687): 0.0, (314, 1689): 0.0, (314, 1803): 0.0, (315, 354): 3.4663809600488094e-08, (316, 598): 0.0, (316, 668): 0.0, (316, 1001): 0.0, (316, 1128): 0.0, (316, 2090): 0.0, (317, 702): 0.02848929725587368, (317, 1144): 0.05541933700442314, (317, 1400): 0.02185027487576008, (317, 1401): 0.016567930579185486, (318, 86): 0.0, (318, 237): 0.0, (318, 290): 0.0, (318, 667): 0.0, (319, 1649): 0.0, (320, 1290): 0.0, (320, 1291): 0.0, (320, 1292): 0.0, (320, 1781): 0.0, (320, 1968): 0.0, (321, 438): 0.002753250999376178, (321, 837): 0.002535436535254121, (321, 1794): 0.006436455994844437, (322, 436): 0.0, (323, 1706): 0.0, (324, 1131): 0.0006000898429192603, (324, 1279): 0.0032940544188022614, (324, 1846): 0.0004370101960375905, (325, 697): 0.0, (326, 557): 0.019336026161909103, (326, 1293): 0.031250908970832825, (327, 546): 0.0, (327, 549): 0.0, (327, 1040): 0.0, (327, 1246): 0.0, (327, 1501): 0.0, (328, 90): 0.0, (328, 1237): 0.0, (329, 66): 0.0, (329, 668): 0.0, (329, 1001): 0.0, (330, 782): 0.0, (331, 263): 0.0, (331, 1236): 0.0, (332, 304): 0.023827342316508293, (332, 450): 0.04387727379798889, (332, 873): 0.004677422344684601, (333, 263): 0.0, (333, 1236): 0.0, (334, 2053): 0.0, (335, 1178): 0.0, (336, 69): 0.0, (336, 1280): 0.0, (337, 277): 0.008749030530452728, (337, 919): 0.007699200417846441, (337, 1480): 0.0030795466154813766, (337, 1966): 0.008749030530452728, (338, 117): 0.0, (338, 732): 0.0, (339, 1484): 0.0, (339, 1888): 0.0, (340, 263): 0.0, (340, 1236): 0.0, (340, 1437): 0.0, (341, 719): 0.0008279337198473513, (341, 827): 0.0008791655418463051, (341, 1278): 0.006090455688536167, (341, 1483): 0.0014999002451077104, (341, 1484): 0.0016165884444490075, (342, 993): 0.0, (342, 1661): 0.0, (343, 707): 0.0, (343, 1604): 0.0, (343, 1894): 0.0, (343, 2073): 0.0, (344, 668): 6.890816439408809e-05, (344, 782): 0.0006567004602402449, (344, 783): 0.0003299247473478317, (344, 1001): 0.0002120894641848281, (345, 707): 0.0, (345, 1604): 0.0, (345, 1894): 0.0, (346, 1348): 0.000781415612436831, (346, 1675): 0.00206789025105536, (346, 1687): 0.00085516955005005, (347, 742): 0.0, (347, 896): 0.0, (348, 1003): 0.0, (349, 1025): 0.0, (349, 1750): 0.0, (350, 782): 4.364183041616343e-05, (350, 992): 0.0013248512987047434, (350, 1082): 0.003328166203573346, (350, 1373): 0.0001222383143613115, (350, 1868): 0.004293806850910187, (351, 1138): 0.0, (352, 1038): 0.0, (352, 1517): 0.0, (353, 263): 0.0, (353, 1236): 0.0, (354, 6): 4.119441854300021e-08, (354, 54): 7.202109575388249e-09, (354, 75): 4.1671441408652754e-08, (354, 78): 3.902111522791074e-09, (354, 102): 3.902111522791074e-09, (354, 211): 3.098913623489352e-07, (354, 315): 3.466381315320177e-08, (354, 362): 9.413744805897295e-08, (354, 678): 3.466381315320177e-08, (354, 885): 7.23319928397359e-08, (354, 941): 1.3289525213622255e-07, (354, 1243): 1.0775260506079576e-07, (354, 1572): 1.34211832758524e-08, (354, 1613): 1.2068351651350895e-08, (354, 1630): 4.640065665029169e-09, (354, 1862): 3.6874101994044395e-08, (355, 363): 0.0, (355, 898): 0.0, (355, 2088): 0.0, (356, 896): 0.0, (356, 1002): 0.0, (356, 1041): 0.0, (357, 1874): 0.0, (357, 1992): 0.0, (358, 1462): 0.003631671192124486, (359, 83): 0.0, (359, 1446): 0.0, (359, 1635): 0.0, (360, 700): 0.00016882855561561882, (360, 1220): 0.00019669685570988804, (360, 1793): 0.0005430541932582855, (361, 919): 0.0, (361, 1240): 0.0, (361, 1813): 0.0, (362, 354): 3.4663809600488094e-08, (362, 1572): 4.3978339192563e-08, (362, 1999): 1.549529393685134e-08, (363, 355): 0.0, (363, 369): 0.0, (363, 631): 0.0, (363, 896): 0.0, (363, 970): 0.0, (363, 1706): 0.0, (363, 2088): 0.0, (364, 787): 0.0, (364, 901): 0.0, (364, 1177): 0.0, (364, 1279): 0.0, (364, 1306): 0.0, (365, 1922): 0.0, (366, 373): 0.0013248383766040206, (366, 1362): 0.005524578969925642, (367, 51): 0.0012536024441942573, (367, 1002): 0.007744957227259874, (367, 1042): 0.0012536024441942573, (367, 1139): 0.00902206264436245, (367, 1706): 0.025923458859324455, (368, 22): 0.0, (368, 1739): 0.0, (368, 2025): 0.0, (369, 114): 0.0, (369, 363): 0.0, (369, 537): 0.0, (369, 896): 0.0, (369, 898): 0.0, (369, 1706): 0.0, (369, 1896): 0.0, (370, 862): 0.0, (370, 980): 0.0, (370, 1946): 0.0, (371, 90): 0.019268222153186798, (371, 1943): 0.005125117022544146, (372, 993): 0.0, (373, 366): 0.0013248386094346642, (374, 1582): 0.0, (375, 516): 0.0, (375, 565): 0.0, (375, 1829): 0.0, (376, 21): 0.0, (376, 200): 0.0, (376, 968): 0.0, (376, 1677): 0.0, (377, 1508): 0.003057424444705248, (377, 2096): 0.004241371061652899, (378, 114): 0.0, (378, 537): 0.0, (379, 262): 0.0, (379, 1499): 0.0, (379, 1829): 0.0, (380, 382): 0.0007620778633281589, (380, 736): 0.0007851303089410067, (380, 737): 0.009839954786002636, (380, 908): 0.017331456765532494, (380, 1272): 0.025952862575650215, (380, 1341): 0.03030131570994854, (380, 1917): 0.013660751283168793, (381, 452): 0.0, (381, 619): 0.0, (381, 707): 0.0, (381, 1079): 0.0, (382, 380): 0.004974219016730785, (382, 737): 3.3985532354563475e-05, (382, 908): 0.006632296834141016, (382, 1272): 0.0031448104418814182, (382, 1341): 0.0007914936286397278, (382, 1917): 0.004364427179098129, (383, 230): 0.0, (383, 516): 0.0, (383, 1829): 0.0, (384, 862): 0.0, (384, 1253): 0.0, (385, 167): 0.0, (386, 75): 0.0, (387, 1767): 0.014947935938835144, (387, 1904): 0.0018313036998733878, (388, 178): 0.0, (388, 225): 0.0, (388, 602): 0.0, (388, 655): 0.0, (388, 1180): 0.0, (388, 1195): 0.0, (389, 43): 0.013720816001296043, (389, 156): 0.00660172663629055, (389, 1154): 0.014270304702222347, (389, 1625): 0.009349768050014973, (390, 41): 0.0033856697846204042, (390, 50): 0.00045846213470213115, (390, 942): 0.0037467461079359055, (390, 1318): 0.001115434686653316, (390, 1445): 0.0033050295896828175, (390, 1576): 0.0026796709280461073, (390, 1891): 0.002326386049389839, (391, 949): 0.0, (391, 2040): 0.0, (392, 154): 0.022838560864329338, (392, 297): 0.022838560864329338, (392, 1493): 0.019532721489667892, (393, 1): 0.0, (393, 80): 0.0, (393, 619): 0.0, (393, 655): 0.0, (393, 862): 0.0, (393, 904): 0.0, (393, 1079): 0.0, (393, 1454): 0.0, (393, 1481): 0.0, (393, 1554): 0.0, (394, 225): 0.0, (394, 655): 0.0, (394, 862): 0.0, (394, 987): 0.0, (394, 1021): 0.0, (395, 222): 0.0, (396, 792): 0.007756983861327171, (396, 803): 0.016026651486754417, (397, 1113): 0.0, (398, 862): 0.0, (398, 1454): 0.0, (399, 862): 0.0, (399, 1454): 0.0, (400, 156): 0.0, (400, 654): 0.0, (400, 1345): 0.0, (401, 24): 0.0, (401, 1185): 0.0, (401, 1216): 0.0, (401, 2044): 0.0, (402, 226): 0.0, (402, 1549): 0.0, (402, 1615): 0.0, (403, 640): 0.0, (403, 655): 0.0, (403, 1052): 0.0, (403, 1144): 0.0, (404, 1251): 0.0005758973420597613, (404, 1574): 0.0011873948387801647, (404, 1768): 0.0013912903377786279, (404, 2056): 0.0016855262219905853, (405, 148): 0.0, (405, 699): 0.0, (406, 1637): 0.0, (407, 1279): 0.03553757444024086, (407, 1843): 0.022664716467261314, (408, 1497): 0.0, (409, 654): 0.0, (410, 211): 0.00015383590653073043, (410, 902): 0.00020887971913907677, (410, 908): 0.0005331023712642491, (410, 1171): 0.0002955168311018497, (411, 1114): 0.0, (412, 10): 0.0, (412, 454): 0.0, (413, 1605): 0.0, (414, 109): 0.0, (414, 622): 0.0, (414, 1322): 0.0, (415, 802): 0.0, (415, 2007): 0.0, (416, 1791): 0.0, (417, 1380): 0.0, (417, 1517): 0.0, (418, 1369): 0.0, (419, 1497): 0.0, (420, 655): 0.0, (420, 817): 0.0, (420, 862): 0.0, (420, 938): 0.0, (420, 989): 0.0, (420, 1271): 0.0, (420, 1342): 0.0, (420, 1665): 0.0, (421, 1271): 0.0, (422, 658): 0.0, (423, 649): 0.015088578686118126, (423, 694): 0.004526754841208458, (423, 791): 0.006116957403719425, (423, 1037): 0.003955306950956583, (423, 1077): 0.014171388931572437, (423, 1749): 0.019542623311281204, (424, 660): 0.0, (424, 1181): 0.0, (425, 585): 0.0, (425, 778): 0.0, (425, 1213): 0.0, (425, 1310): 0.0, (425, 1604): 0.0, (425, 1911): 0.0, (426, 1608): 0.0, (426, 2019): 0.0, (427, 882): 0.03329179063439369, (428, 1129): 0.0, (428, 1703): 0.0, (429, 1055): 0.0, (429, 1690): 0.0, (430, 155): 0.0, (430, 236): 0.0, (430, 1054): 0.0, (430, 1727): 0.0, (431, 1694): 6.795927038183436e-05, (431, 1967): 9.480300832365174e-06, (432, 310): 0.0, (432, 1138): 0.0, (432, 1562): 0.0, (433, 273): 0.02015543356537819, (433, 855): 0.011012350209057331, (433, 1063): 0.011208849959075451, (433, 1731): 0.01443613599985838, (434, 888): 0.0, (434, 1058): 0.0, (435, 1457): 0.0, (435, 1626): 0.0, (436, 322): 0.004657041281461716, (436, 455): 0.0023329779505729675, (436, 1406): 0.00047696969704702497, (436, 1725): 0.007707588374614716, (437, 1891): 0.0, (438, 321): 0.0, (439, 1634): 0.0, (439, 1797): 0.0, (440, 131): 0.0, (441, 181): 0.0, (441, 266): 0.0, (441, 862): 0.0, (441, 1720): 0.0, (441, 2068): 0.0, (441, 2083): 0.0, (442, 114): 0.0, (442, 537): 0.0, (443, 535): 0.0, (443, 542): 0.0, (443, 547): 0.0, (444, 225): 7.804327651683707e-06, (444, 1225): 9.610548659111373e-06, (444, 1543): 2.9333892598515376e-05, (444, 1831): 9.93562593976094e-07, (444, 1832): 1.1504533176776022e-05, (444, 1859): 1.186313784273807e-05, (445, 83): 0.0, (445, 85): 0.0, (445, 447): 0.0, (445, 1352): 0.0, (445, 1355): 0.0, (445, 1396): 0.0, (445, 1635): 0.0, (446, 1819): 0.0, (446, 1820): 0.0, (447, 86): 0.006552521605044603, (447, 445): 0.003977978602051735, (447, 606): 0.004058621823787689, (447, 668): 0.002291203709319234, (447, 937): 0.002728631254285574, (447, 1001): 0.000339989026542753, (447, 1182): 0.00036044802982360125, (447, 1195): 0.00038679136196151376, (447, 1355): 0.003628451144322753, (447, 1634): 0.0013254712102934718, (447, 1699): 0.0007692166254855692, (447, 1817): 0.00011158559937030077, (448, 98): 5.2301184352366095e-14, (448, 157): 9.47188240520017e-15, (448, 266): 1.051481221970435e-13, (448, 685): 2.59672688354088e-14, (448, 862): 1.0132312469515042e-13, (448, 1194): 5.798316606584267e-14, (448, 1433): 2.0109815776579026e-15, (448, 1453): 1.7297307249725113e-13, (448, 1485): 6.28321798141541e-15, (448, 1741): 1.6207331700671124e-14, (448, 2068): 7.520136043829423e-14, (449, 1750): 0.0, (450, 109): 0.012507296167314053, (450, 332): 0.0020377333275973797, (450, 622): 0.013375600799918175, (450, 862): 0.011042005382478237, (450, 1092): 0.008990095928311348, (451, 40): 0.0, (451, 456): 0.0, (451, 966): 0.0, (451, 1263): 0.0, (451, 1742): 0.0, (452, 151): 0.0007073752349242568, (452, 268): 0.0027229299303144217, (452, 381): 0.0005385325057432055, (452, 904): 0.0016755732940509915, (452, 1132): 0.0016366938361898065, (452, 1223): 0.00010775662667583674, (452, 1385): 0.0014733884017914534, (452, 1440): 0.00110198138281703, (452, 1452): 0.000751270039472729, (452, 1481): 0.002877128543332219, (452, 2004): 0.0007779325824230909, (452, 2084): 0.0002426246355753392, (452, 2085): 0.0023836842738091946, (453, 1172): 0.0, (454, 412): 0.0, (454, 707): 0.0, (454, 1161): 0.0, (455, 436): 0.0, (455, 1406): 0.0, (455, 1847): 0.0, (455, 2053): 0.0, (456, 451): 0.0, (456, 925): 0.0, (456, 1263): 0.0, (456, 1332): 0.0, (456, 1626): 0.0, (456, 2023): 0.0, (457, 1750): 0.0, (457, 2033): 0.0, (458, 724): 1.8178301388616092e-06, (458, 891): 3.2423002949144575e-07, (458, 1276): 2.032825932474225e-06, (458, 1801): 2.136805505870143e-06, (458, 1905): 3.6630246995628113e-06, (459, 38): 0.0010128484573215246, (459, 167): 0.0009860629215836525, (459, 956): 0.007812466938048601, (459, 959): 0.004813191946595907, (459, 1653): 0.006247279234230518, (460, 226): 0.017646143212914467, (460, 770): 0.010441453196108341, (460, 1050): 0.010441453196108341, (461, 1750): 0.0, (462, 1431): 0.0, (462, 1445): 0.0, (463, 539): 0.0, (463, 1053): 0.0, (463, 1265): 0.0, (463, 1995): 0.0, (464, 1105): 0.0008235964924097061, (464, 1654): 0.007789789233356714, (464, 1687): 0.0011388850398361683, (465, 863): 0.0, (465, 1021): 0.0, (466, 1154): 0.00600456353276968, (466, 1877): 0.0020924508571624756, (467, 189): 0.0, (468, 887): 0.007289365865290165, (468, 1390): 0.0036156161222606897, (468, 1750): 0.0027957698330283165, (469, 1269): 0.0, (470, 604): 0.0, (471, 1586): 0.0025086374953389168, (471, 1587): 0.001160681014880538, (471, 1588): 0.0024903116282075644, (472, 601): 0.0, (472, 831): 0.0, (472, 904): 0.0, (472, 950): 0.0, (472, 1765): 0.0, (473, 590): 0.005026049446314573, (474, 1574): 0.0, (475, 860): 0.0, (475, 2047): 0.0, (476, 1023): 0.0, (476, 1711): 0.0, (476, 1770): 0.0, (477, 1718): 0.0, (478, 211): 0.0, (478, 903): 0.0, (479, 1549): 0.0, (479, 1856): 0.0, (480, 131): 0.0, (481, 1356): 0.0, (481, 1870): 0.0, (482, 896): 0.0, (483, 1264): 0.0, (483, 1332): 0.0, (484, 862): 0.0, (484, 1215): 0.0, (485, 853): 0.0, (485, 854): 0.0, (485, 1731): 0.0, (485, 2014): 0.0, (486, 24): 0.001029835781082511, (486, 579): 0.0024079945869743824, (486, 856): 0.002511273603886366, (486, 857): 0.00329449656419456, (486, 858): 0.00539484852924943, (486, 1221): 0.004823499824851751, (486, 1378): 0.0025302632711827755, (486, 1750): 0.003584240097552538, (486, 1963): 0.0006523849442601204, (486, 1969): 0.0013200687244534492, (487, 551): 0.0, (487, 618): 0.0, (487, 1390): 0.0, (488, 4): 0.0, (488, 103): 0.0, (488, 1324): 0.0, (489, 798): 0.0, (489, 1407): 0.0, (489, 1694): 0.0, (490, 701): 0.0, (490, 818): 0.0, (491, 941): 0.010988668538630009, (491, 956): 0.0050872256979346275, (491, 957): 0.012048479169607162, (492, 2003): 0.0, (493, 1652): 0.0, (493, 1950): 0.0, (494, 1360): 0.0, (494, 1991): 0.0, (495, 213): 0.0, (495, 1442): 0.0, (496, 1056): 0.0, (496, 1137): 0.0, (497, 38): 0.0010128484573215246, (497, 167): 0.0009860629215836525, (497, 956): 0.007812466938048601, (497, 959): 0.004813191946595907, (497, 1653): 0.006247279234230518, (498, 1044): 0.0, (499, 927): 0.0, (500, 1038): 0.0, (500, 1388): 0.0, (501, 790): 0.0, (501, 1345): 0.0, (502, 1952): 0.0, (503, 176): 0.0, (503, 623): 0.0, (503, 1425): 0.0, (504, 1388): 0.0, (505, 1519): 0.0, (505, 1520): 0.0, (505, 1521): 0.0, (506, 862): 0.004470312036573887, (506, 938): 0.0019311445066705346, (506, 2030): 0.0003500960301607847, (507, 138): 0.0, (507, 658): 0.0, (507, 869): 0.0, (507, 870): 0.0, (507, 953): 0.0, (507, 1814): 0.0, (508, 1330): 0.0, (508, 1331): 0.0, (508, 1789): 0.0, (509, 270): 0.0, (509, 751): 0.0, (509, 871): 0.0, (509, 1958): 0.0, (510, 1378): 0.0, (510, 1787): 0.0, (511, 1880): 0.0, (511, 1881): 0.0, (512, 1406): 0.0, (513, 655): 0.0, (513, 1427): 0.0, (514, 1242): 0.0026242374442517757, (514, 1285): 0.00020587589824572206, (514, 1495): 0.0018312986940145493, (515, 1694): 0.0, (515, 1904): 0.0, (516, 178): 0.0, (516, 375): 0.0, (516, 383): 0.0, (516, 845): 0.0, (516, 920): 0.0, (516, 1322): 0.0, (516, 1499): 0.0, (516, 1523): 0.0, (516, 1977): 0.0, (516, 2096): 0.0, (517, 28): 0.0, (517, 32): 0.0, (518, 862): 0.003101598471403122, (518, 1424): 0.004866026341915131, (519, 34): 0.0, (519, 207): 0.0, (519, 979): 0.0, (519, 1210): 0.0, (519, 1584): 0.0, (519, 1716): 0.0, (519, 1818): 0.0, (519, 1833): 0.0, (520, 1816): 0.0020940464455634356, (521, 13): 0.0, (521, 826): 0.0, (521, 851): 0.0, (522, 1295): 0.0, (523, 862): 0.0, (524, 688): 0.0038853667210787535, (524, 1074): 0.009438727051019669, (524, 1075): 0.0064183929935097694, (524, 1191): 0.006583862006664276, (524, 1333): 0.007351940032094717, (524, 1337): 0.0007966380217112601, (524, 1338): 0.0036379676312208176, (524, 1339): 0.003257441334426403, (525, 688): 0.0, (526, 1937): 0.0003537560405675322, (527, 1466): 4.832980987739817e-25, (528, 1452): 0.0007642021519131958, (529, 1229): 0.002625904278829694, (529, 1424): 0.004866026341915131, (530, 1155): 0.0, (531, 1311): 0.0, (531, 2062): 0.0, (532, 1574): 0.0, (533, 832): 0.002087746048346162, (533, 974): 0.004040827974677086, (534, 109): 0.0, (534, 622): 0.0, (534, 1354): 0.0, (535, 443): 0.0, (535, 662): 0.0, (535, 691): 0.0, (536, 1303): 0.0, (537, 369): 0.0, (537, 378): 0.0, (537, 442): 0.0, (537, 889): 0.0, (537, 1017): 0.0, (537, 1299): 0.0, (537, 1303): 0.0, (538, 862): 0.003101598471403122, (538, 1424): 0.004866026341915131, (539, 463): 0.0, (539, 1053): 0.0, (539, 1265): 0.0, (540, 1171): 0.0, (541, 892): 0.0, (541, 1372): 0.0, (542, 443): 0.0, (542, 662): 0.0, (542, 691): 0.0, (543, 656): 0.0, (543, 862): 0.0, (543, 900): 0.0, (544, 1020): 0.0, (544, 1171): 0.0, (545, 817): 0.0, (545, 862): 0.0, (545, 1193): 0.0, (546, 76): 0.0, (546, 327): 0.0, (546, 1040): 0.0, (546, 1246): 0.0, (546, 1531): 0.0, (547, 443): 0.0, (547, 662): 0.0, (547, 691): 0.0, (548, 2055): 0.0, (549, 327): 0.0, (550, 1271): 0.0, (551, 176): 0.0009536107536405325, (551, 487): 0.0015583609929308295, (551, 1043): 0.004809544887393713, (551, 1348): 0.0028784770984202623, (551, 1425): 0.002808817895129323, (551, 1462): 0.0001336140849161893, (552, 857): 0.0, (552, 1221): 0.0, (552, 1294): 0.0, (552, 1378): 0.0, (552, 1660): 0.0, (552, 1963): 0.0, (553, 888): 0.0, (553, 1311): 0.0, (553, 1388): 0.0, (554, 1706): 0.0, (554, 1750): 0.0, (554, 2055): 0.0, (555, 1234): 0.0, (556, 1234): 0.0, (556, 1527): 0.0, (557, 326): 0.00893848855048418, (557, 1293): 0.010397540405392647, (558, 979): 0.0, (558, 1203): 0.0, (558, 1210): 0.0, (558, 1458): 0.0, (558, 1716): 0.0, (559, 817): 0.0, (559, 862): 0.0, (559, 938): 0.0, (559, 1021): 0.0, (559, 1144): 0.0, (559, 1945): 0.0, (560, 1492): 0.0, (560, 2108): 0.0, (561, 1798): 0.0, (562, 767): 0.0029473435133695602, (562, 1678): 0.014829046092927456, (563, 1954): 0.0, (564, 1672): 0.0, (564, 1969): 0.0, (564, 2089): 0.0, (565, 375): 0.0, (566, 1457): 0.0, (567, 583): 0.0020157077815383673, (567, 1841): 0.004459538031369448, (567, 1905): 0.008287327364087105, (567, 1988): 0.004836071282625198, (568, 862): 0.003101598471403122, (568, 1424): 0.004866026341915131, (569, 1950): 0.0, (570, 859): 0.0, (571, 47): 0.0, (571, 1437): 0.0, (572, 684): 0.0013949326239526272, (572, 817): 0.0021264739334583282, (572, 832): 0.0013636904768645763, (572, 937): 0.0038921060040593147, (572, 1069): 0.004247595090419054, (572, 1400): 0.0036762745585292578, (572, 1401): 0.003127953503280878, (572, 1454): 0.0008278180030174553, (572, 1551): 0.0014280907344073057, (572, 1763): 0.00036894017830491066, (573, 1270): 0.0, (573, 1471): 0.0, (574, 654): 0.0, (575, 817): 0.0, (575, 862): 0.0, (575, 938): 0.0, (575, 1021): 0.0, (575, 1144): 0.0, (575, 1945): 0.0, (576, 1080): 0.002214259235188365, (576, 1512): 0.0001186422014143318, (576, 1577): 0.0014877982903271914, (576, 2090): 1.5060068108141422e-05, (576, 2091): 0.0016751657240092754, (577, 827): 0.0, (577, 1594): 0.0, (578, 862): 0.0, (579, 486): 0.0, (579, 1378): 0.0, (580, 751): 0.0, (581, 953): 0.0, (582, 1973): 6.82293321006e-05, (583, 567): 0.0020157070830464363, (584, 640): 0.0, (584, 1474): 0.0, (585, 130): 0.0, (585, 425): 0.0, (585, 1013): 0.0, (586, 1549): 0.0, (587, 1845): 0.0, (587, 1915): 0.0, (588, 1164): 0.0, (588, 1195): 0.0, (589, 698): 0.0, (589, 879): 0.0, (589, 1616): 0.0, (590, 473): 0.0003508558147586882, (590, 657): 0.0005169625510461628, (590, 1624): 0.0004089440044481307, (590, 1707): 0.006302814465016127, (591, 1990): 0.0, (592, 817): 0.0, (592, 862): 0.0, (592, 938): 0.0, (592, 1021): 0.0, (592, 1144): 0.0, (592, 1945): 0.0, (593, 24): 0.0, (593, 94): 0.0, (593, 654): 0.0, (594, 1092): 0.0, (595, 220): 0.06989157199859619, (595, 614): 0.000851138960570097, (595, 832): 0.032604921609163284, (595, 1001): 0.13893985748291016, (595, 1136): 0.04119369760155678, (595, 1410): 0.052703432738780975, (595, 1635): 0.04304413124918938, (595, 1663): 0.02702081948518753, (595, 1859): 0.051371295005083084, (596, 801): 0.0, (597, 103): 0.0, (597, 885): 0.0, (598, 72): 0.0, (598, 316): 0.0, (598, 637): 0.0, (598, 704): 0.0, (598, 776): 0.0, (598, 909): 0.0, (598, 910): 0.0, (598, 911): 0.0, (598, 987): 0.0, (598, 1180): 0.0, (598, 1428): 0.0, (598, 1603): 0.0, (598, 1604): 0.0, (598, 1662): 0.0, (598, 1735): 0.0, (599, 1494): 0.008582346141338348, (599, 1688): 0.0015966456849128008, (600, 1884): 0.0, (601, 186): 0.0, (601, 272): 0.0, (601, 472): 0.0, (601, 1048): 0.0, (601, 1049): 0.0, (601, 1183): 0.0, (601, 1379): 0.0, (601, 1860): 0.0, (602, 178): 0.0, (602, 225): 0.0, (602, 388): 0.0, (602, 668): 0.0, (602, 1428): 0.0, (602, 1523): 0.0, (602, 1893): 0.0, (602, 1894): 0.0, (602, 1952): 0.0, (603, 615): 0.0, (603, 1782): 0.0, (604, 470): 0.0, (604, 1874): 0.0, (604, 2009): 0.0, (605, 1808): 0.0, (606, 260): 0.0, (606, 447): 0.0, (606, 1635): 0.0, (607, 1631): 0.0, (608, 788): 0.0, (609, 1173): 0.0, (609, 1400): 0.0, (610, 208): 0.0030366459395736456, (610, 1834): 0.00048772903392091393, (611, 298): 0.0021910679060965776, (611, 768): 0.0024735110346227884, (611, 969): 0.0035131757613271475, (612, 1806): 0.0, (613, 1026): 0.00574199203401804, (613, 1027): 0.00015629155677743256, (613, 1283): 0.00613069161772728, (613, 1348): 0.0018539302982389927, (613, 1350): 0.010715584270656109, (613, 1436): 0.009598796255886555, (614, 220): 0.0032706940546631813, (614, 261): 0.007433955557644367, (614, 595): 0.009068876504898071, (614, 640): 0.007652889937162399, (614, 702): 0.006556909531354904, (614, 1001): 0.009317915886640549, (614, 1067): 0.005873590707778931, (614, 1635): 0.006494002416729927, (614, 1715): 0.0027906582690775394, (614, 1859): 0.0011559261474758387, (615, 603): 0.0, (615, 1782): 0.0, (616, 928): 0.0, (616, 929): 0.0, (617, 13): 0.0, (617, 1340): 0.0, (618, 106): 0.0, (618, 175): 0.0, (618, 215): 0.0, (618, 487): 0.0, (618, 1526): 0.0, (618, 1910): 0.0, (619, 80): 0.00025503698270767927, (619, 151): 0.00039114541141316295, (619, 266): 0.00014866307901684195, (619, 268): 0.0015057031996548176, (619, 381): 0.00029779376927763224, (619, 393): 1.7752638086676598e-05, (619, 999): 0.0006460821605287492, (619, 1295): 0.001707915565930307, (619, 1452): 0.00041542452527210116, (619, 2015): 0.00011137315595988184, (619, 2068): 0.0001633331849006936, (619, 2085): 0.0013181098038330674, (620, 186): 0.0, (620, 272): 0.0, (620, 991): 0.0, (620, 1001): 0.0, (620, 1163): 0.0, (620, 1211): 0.0, (620, 1212): 0.0, (620, 1379): 0.0, (620, 1715): 0.0, (620, 1860): 0.0, (620, 1885): 0.0, (620, 1886): 0.0, (621, 2001): 0.0, (622, 207): 9.980283603164946e-26, (622, 245): 2.240476989076215e-24, (622, 414): 1.5195831561576877e-24, (622, 450): 3.056458932218725e-24, (622, 534): 2.5785748844448884e-24, (622, 702): 4.29530917195928e-25, (622, 948): 3.7203789625870884e-25, (622, 1322): 6.960933279573496e-25, (622, 1716): 1.0020671309359999e-24, (623, 196): 0.0, (623, 503): 0.0, (623, 810): 0.0, (623, 1498): 0.0, (623, 1557): 0.0, (623, 1558): 0.0, (624, 735): 0.0, (624, 797): 0.0, (624, 1917): 0.0, (625, 1156): 0.0, (625, 1926): 0.0, (625, 1954): 0.0, (626, 85): 0.0, (626, 1001): 0.0, (626, 1202): 0.0, (626, 1797): 0.0, (627, 665): 0.0, (628, 688): 0.0038853667210787535, (628, 1074): 0.009438727051019669, (628, 1191): 0.006583862006664276, (628, 1333): 0.007351940032094717, (628, 1337): 0.0007966380217112601, (628, 1338): 0.0036379676312208176, (628, 1339): 0.003257441334426403, (629, 245): 0.005229804664850235, (629, 1658): 0.008660967461764812, (630, 286): 0.019895141944289207, (630, 815): 0.017180103808641434, (630, 1429): 0.06400636583566666, (630, 1607): 0.04047137498855591, (631, 363): 0.0, (631, 898): 0.0, (631, 899): 0.0, (631, 1221): 0.0, (631, 1706): 0.0, (631, 1789): 0.0, (632, 1311): 0.0, (633, 1201): 0.0, (634, 688): 0.0, (634, 1333): 0.0, (635, 5): 0.0, (635, 56): 0.0, (636, 1327): 0.0, (636, 1891): 0.0, (637, 598): 0.0, (637, 704): 0.0, (638, 915): 0.0, (638, 918): 0.0, (638, 1523): 0.0, (639, 688): 0.0, (640, 241): 0.0, (640, 403): 0.0, (640, 584): 0.0, (640, 614): 0.0, (640, 805): 0.0, (640, 950): 0.0, (640, 1001): 0.0, (640, 1452): 0.0, (640, 1867): 0.0, (641, 227): 0.0, (641, 1954): 0.0, (642, 688): 0.0, (643, 88): 0.0, (643, 2045): 0.0, (644, 97): 0.006589931435883045, (644, 217): 0.0038231138605624437, (645, 67): 7.24676065146923e-05, (645, 68): 0.004628678783774376, (645, 248): 0.0016374593833461404, (645, 693): 0.0021966143976897, (645, 786): 0.0017692105611786246, (645, 1079): 0.0009284877451136708, (645, 1325): 0.0012925330083817244, (645, 1800): 0.0014286941150203347, (645, 1879): 0.0024926995392888784, (645, 2065): 0.0016692491481080651, (646, 1155): 0.0, (646, 1156): 0.0, (647, 1141): 0.0021895519457757473, (647, 1142): 0.0069617582485079765, (648, 1470): 0.0, (648, 1590): 0.0, (649, 423): 0.00221873982809484, (649, 757): 0.005936348810791969, (649, 1414): 0.0029762135818600655, (649, 1438): 0.007337784394621849, (649, 1749): 0.010143288411200047, (650, 5): 0.0, (650, 56): 0.0, (650, 652): 0.0, (650, 1227): 0.0, (650, 1368): 0.0, (651, 1285): 0.0, (651, 1917): 0.0, (652, 5): 0.0, (652, 56): 0.0, (652, 650): 0.0, (652, 688): 0.0, (652, 1085): 0.0, (653, 1523): 0.0, (654, 400): 0.0, (654, 409): 0.0, (654, 574): 0.0, (654, 593): 0.0, (654, 1638): 0.0, (654, 1639): 0.0, (655, 181): 8.860933320420372e-08, (655, 268): 6.260015794623541e-08, (655, 388): 1.8686922231836434e-08, (655, 393): 2.543466948168316e-08, (655, 394): 8.757062630593282e-08, (655, 403): 9.022216573839614e-08, (655, 420): 1.5956233667679953e-08, (655, 513): 8.297311282490227e-09, (655, 717): 5.900569632899533e-08, (655, 755): 7.726726636292369e-08, (655, 805): 5.018301152404092e-08, (655, 950): 5.689668469699427e-08, (655, 989): 2.4733814996125147e-09, (655, 1000): 3.72371573575947e-08, (655, 1019): 1.3847069268990708e-08, (655, 1048): 2.9764942510723813e-08, (655, 1067): 7.550374192533127e-08, (655, 1238): 3.55182816491606e-09, (655, 1310): 6.554361675625842e-08, (655, 1343): 1.5452330970333605e-08, (655, 1410): 3.390123737290196e-08, (655, 1426): 1.9583467292250134e-08, (655, 1440): 5.3608356864742746e-08, (655, 1466): 8.862162559353237e-09, (655, 1552): 9.898516672990354e-09, (655, 1776): 1.4248850987996775e-09, (655, 1945): 9.795693500791458e-08, (655, 1946): 8.110035309982777e-08, (656, 543): 0.0, (657, 590): 0.0, (657, 1624): 0.0, (658, 422): 0.0, (658, 507): 0.0, (658, 869): 0.0, (658, 870): 0.0, (658, 1363): 0.0, (658, 1629): 0.0, (659, 1231): 0.0, (660, 146): 0.0, (660, 424): 0.0, (660, 1001): 0.0, (660, 1181): 0.0, (660, 1182): 0.0, (660, 1763): 0.0, (661, 665): 0.0, (662, 535): 2.7154746931046247e-06, (662, 542): 2.6825848181033507e-05, (662, 547): 1.2789229913323652e-05, (662, 1008): 3.331604602863081e-06, (662, 1112): 6.288214353844523e-05, (662, 1257): 1.4699792245664867e-06, (662, 1320): 1.7383297745254822e-05, (662, 1523): 2.9321785405045375e-05, (662, 1610): 8.018740481929854e-05, (662, 1848): 2.3236589186126366e-06, (663, 245): 0.0, (663, 2105): 0.0, (664, 71): 0.0, (664, 186): 0.0, (664, 953): 0.0, (664, 1379): 0.0, (664, 2101): 0.0, (665, 627): 0.0, (665, 661): 0.0, (665, 764): 0.0, (665, 1031): 0.0, (665, 1382): 0.0, (665, 1383): 0.0, (666, 920): 0.0012634405866265297, (666, 939): 2.5318106054328382e-05, (666, 2092): 2.5318106054328382e-05, (667, 84): 0.0, (667, 237): 0.0, (667, 318): 0.0, (668, 85): 0.0, (668, 316): 0.0, (668, 329): 0.0, (668, 344): 0.0, (668, 447): 0.0, (668, 602): 0.0, (668, 1052): 0.0, (668, 1136): 0.0, (668, 1568): 0.0, (668, 1663): 0.0, (668, 1668): 0.0, (669, 1592): 0.007067759986966848, (669, 2109): 0.012973914854228497, (670, 97): 0.006589931435883045, (670, 209): 0.000193298066733405, (670, 1217): 0.0014099071267992258, (670, 1244): 0.005624342244118452, (671, 1073): 0.0, (672, 105): 0.0, (672, 1108): 0.0, (673, 1644): 0.0, (674, 997): 0.0, (674, 1357): 0.0, (675, 965): 0.0, (675, 1418): 0.0, (675, 2039): 0.0, (676, 64): 0.0037483449559658766, (677, 835): 0.0, (678, 354): 3.4663809600488094e-08, (679, 1559): 0.0, (679, 1960): 0.0, (680, 898): 0.0, (681, 135): 0.0, (682, 209): 0.0, (683, 30): 0.0, (683, 105): 0.0, (683, 132): 0.0, (683, 244): 0.0, (683, 1417): 0.0, (683, 1703): 0.0, (684, 157): 0.0, (684, 572): 0.0, (684, 817): 0.0, (684, 937): 0.0, (684, 938): 0.0, (684, 1552): 0.0, (684, 1670): 0.0, (684, 1899): 0.0, (685, 63): 5.225569868309854e-15, (685, 448): 6.28321798141541e-15, (685, 862): 1.0077324615238598e-14, (685, 1453): 8.653399550466023e-15, (685, 1740): 4.272237674306928e-15, (686, 1320): 0.0, (687, 766): 0.0, (688, 91): 0.0019753053784370422, (688, 524): 0.001807479653507471, (688, 525): 0.00976499356329441, (688, 628): 2.6979250833392143e-05, (688, 634): 0.004087027627974749, (688, 639): 0.008075150661170483, (688, 642): 0.0024740654043853283, (688, 652): 0.012747696600854397, (688, 1075): 0.0064183929935097694, (688, 1192): 0.006828213110566139, (688, 1312): 0.0008342989603988826, (688, 1333): 0.007351940032094717, (688, 1334): 0.0017167333280667663, (688, 1335): 0.0015045668696984649, (688, 1338): 0.0036379676312208176, (688, 1339): 0.003257441334426403, (688, 1502): 0.016803337261080742, (688, 1702): 0.008283841423690319, (688, 1739): 0.003935950808227062, (688, 1935): 0.002431414322927594, (688, 2038): 0.0043997433967888355, (689, 251): 0.0001242083526449278, (689, 1232): 0.00011635736154858023, (690, 915): 0.0, (690, 1312): 0.0, (691, 535): 0.0, (691, 542): 0.0, (691, 547): 0.0, (691, 915): 0.0, (691, 916): 0.0, (691, 1288): 0.0, (692, 915): 0.0, (692, 916): 0.0, (692, 1232): 0.0, (692, 1288): 0.0, (692, 1369): 0.0, (692, 1769): 0.0, (693, 645): 0.0, (694, 423): 0.0, (694, 1285): 0.0, (695, 1750): 0.0, (696, 1806): 0.0, (696, 1809): 0.0, (697, 325): 0.0, (697, 1122): 0.0, (697, 1226): 0.0, (698, 589): 0.0, (699, 65): 0.0, (699, 148): 0.0, (699, 405): 0.0, (700, 311): 0.0009811247000470757, (700, 360): 0.0005151856457814574, (701, 490): 0.0, (701, 1258): 0.0, (702, 109): 0.009790518321096897, (702, 317): 0.008157867938280106, (702, 614): 0.0062512923032045364, (702, 622): 0.0076825269497931, (702, 1069): 0.006879512220621109, (702, 1196): 0.0009985043434426188, (702, 1454): 0.00248810276389122, (703, 267): 0.002055445918813348, (704, 598): 0.0004404082428663969, (704, 637): 0.004824301693588495, (704, 705): 0.0009744921117089689, (704, 706): 0.00119233806617558, (704, 1978): 0.00619222829118371, (705, 704): 0.0, (705, 706): 0.0, (706, 704): 0.0, (706, 705): 0.0, (707, 202): 0.0, (707, 343): 0.0, (707, 345): 0.0, (707, 381): 0.0, (707, 454): 0.0, (707, 741): 0.0, (707, 2073): 0.0, (708, 711): 0.0, (709, 711): 0.007548622786998749, (709, 1348): 0.0021999359596520662, (709, 1390): 0.005955487489700317, (709, 1753): 0.021798934787511826, (710, 711): 0.0, (710, 1348): 0.0, (710, 1390): 0.0, (711, 708): 0.003461197018623352, (711, 709): 0.005269411951303482, (711, 710): 0.0034974238369613886, (712, 4): 0.0, (712, 885): 0.0, (712, 1324): 0.0, (713, 715): 0.0, (713, 1053): 0.0, (713, 1573): 0.0, (714, 1053): 0.0, (714, 1573): 0.0, (715, 713): 0.0, (715, 1573): 0.0, (716, 888): 0.0, (716, 1300): 0.0, (717, 655): 0.0, (717, 862): 0.0, (718, 144): 7.43214187119366e-21, (718, 862): 1.5369335667487765e-20, (718, 1018): 2.0578541117957402e-21, (718, 1252): 6.49850699121418e-21, (719, 341): 0.009155712090432644, (719, 1648): 0.012769135646522045, (720, 1699): 0.0, (721, 134): 0.0, (721, 928): 0.0, (721, 1023): 0.0, (721, 1407): 0.0, (721, 1463): 0.0, (721, 1711): 0.0, (722, 311): 0.0, (722, 1395): 0.0, (722, 1726): 0.0, (723, 182): 0.0, (723, 977): 0.0, (723, 1189): 0.0, (723, 1691): 0.0, (723, 1843): 0.0, (724, 458): 3.242300010697363e-07, (724, 977): 6.423184686354944e-07, (724, 1539): 1.0315099530089356e-07, (724, 1801): 1.1008402225343161e-06, (724, 1905): 3.527096623656689e-07, (725, 1516): 0.0, (725, 1528): 0.0, (725, 1529): 0.0, (725, 2108): 0.0, (726, 9): 0.0, (726, 1261): 0.0, (726, 1623): 0.0, (727, 1712): 0.0, (728, 1137): 0.0, (729, 132): 0.0, (729, 244): 0.0, (730, 2002): 0.0, (731, 1428): 0.0, (732, 281): 0.0, (732, 338): 0.0, (732, 1061): 0.0, (732, 1062): 0.0, (732, 1063): 0.0, (733, 2036): 0.0554974228143692, (734, 4): 0.0, (734, 982): 0.0, (734, 1324): 0.0, (735, 624): 5.9493402659427375e-05, (735, 737): 2.732100256253034e-06, (735, 908): 0.0005331023712642491, (735, 1272): 0.0002527785545680672, (735, 1341): 6.361980194924399e-05, (736, 380): 0.004974219016730785, (736, 737): 3.3985532354563475e-05, (736, 908): 0.006632296834141016, (736, 1272): 0.0031448104418814182, (736, 1341): 0.0007914936286397278, (736, 1917): 0.004364427179098129, (737, 380): 0.004974219016730785, (737, 382): 0.0042020701803267, (737, 735): 0.004788632038980722, (737, 736): 0.003915275912731886, (737, 797): 0.0008385913097299635, (737, 908): 0.006632296834141016, (737, 1242): 0.0018175628501921892, (737, 1272): 0.0031448104418814182, (737, 1341): 0.0007914936286397278, (737, 1917): 0.004364427179098129, (738, 908): 0.0005331023712642491, (738, 1272): 0.0002527785545680672, (738, 1341): 6.361980194924399e-05, (738, 1917): 0.0003508115478325635, (739, 1293): 0.0, (739, 1390): 0.0, (739, 1997): 0.0, (740, 106): 0.0, (740, 175): 0.0, (740, 247): 0.0, (740, 291): 0.0, (740, 1390): 0.0, (740, 1705): 0.0, (740, 1910): 0.0, (740, 1997): 0.0, (741, 26): 0.0, (741, 707): 0.0, (742, 347): 0.0, (742, 1388): 0.0, (743, 295): 0.0, (743, 2067): 0.0, (744, 2067): 0.0, (745, 1556): 0.0, (745, 1557): 0.0, (746, 267): 0.0, (746, 938): 0.0, (746, 1252): 0.0, (746, 1665): 0.0, (747, 750): 0.005794244818389416, (748, 1492): 0.0, (749, 750): 0.005794244818389416, (749, 1845): 0.007522479631006718, (750, 747): 0.005794245284050703, (750, 749): 0.013316726312041283, (751, 509): 0.0, (751, 580): 0.0, (752, 860): 0.0, (752, 1581): 0.0, (753, 63): 7.282912404717692e-26, (754, 6): 0.0018517421558499336, (754, 97): 0.006589931435883045, (754, 756): 0.003867597319185734, (754, 765): 0.001097936648875475, (754, 839): 0.005254724528640509, (754, 1630): 0.0054678237065672874, (755, 655): 1.6031344911871754e-22, (755, 862): 6.642524871193987e-22, (755, 1253): 5.726533161971474e-23, (756, 6): 0.0018517421558499336, (756, 97): 0.006589931435883045, (756, 754): 0.005867388565093279, (756, 765): 0.001097936648875475, (756, 839): 0.005254724528640509, (757, 649): 0.0, (757, 1414): 0.0, (758, 122): 0.0, (759, 186): 0.0, (759, 272): 0.0, (759, 991): 0.0, (759, 1001): 0.0, (759, 1163): 0.0, (759, 1211): 0.0, (759, 1212): 0.0, (759, 1379): 0.0, (759, 1715): 0.0, (759, 1860): 0.0, (759, 1885): 0.0, (759, 1886): 0.0, (760, 1245): 0.0015654260059818625, (760, 1565): 0.01579686626791954, (760, 1686): 0.0020041605457663536, (760, 1823): 0.0006308919982984662, (761, 39): 0.0007737250998616219, (762, 1058): 0.0, (763, 304): 0.0, (763, 2011): 0.0, (764, 665): 0.0, (764, 1013): 0.0, (764, 1806): 0.0, (764, 2017): 0.0, (765, 754): 0.0, (765, 756): 0.0, (766, 687): 0.0, (766, 1862): 0.0, (767, 562): 0.0006074794800952077, (767, 1758): 0.002339864382520318, (768, 611): 0.0, (768, 1799): 0.0, (769, 2002): 0.0, (770, 460): 0.010441453196108341, (771, 1610): 0.0, (772, 1471): 0.0, (772, 1807): 0.0, (773, 775): 0.0016983236419036984, (773, 776): 0.0018871506908908486, (774, 1124): 0.0, (774, 1838): 0.0, (775, 773): 0.0035854740999639034, (776, 598): 0.0, (776, 773): 0.0, (777, 37): 0.0, (777, 823): 0.0, (778, 425): 0.0, (779, 1774): 0.0, (780, 1938): 0.0, (781, 947): 0.0027815636713057756, (781, 1925): 0.003661597613245249, (782, 330): 0.0009086946374736726, (782, 344): 0.00031665980350226164, (782, 350): 0.00012223786325193942, (782, 1082): 0.0010594740742817521, (783, 344): 0.0011298066237941384, (783, 992): 0.0003336664231028408, (784, 1543): 0.0, (785, 1432): 0.0, (786, 67): 5.264225322321181e-08, (786, 164): 6.037353728061134e-07, (786, 195): 5.317343720889767e-07, (786, 313): 3.3414707445444947e-07, (786, 645): 9.108115506251124e-08, (786, 795): 1.3131770515428798e-07, (786, 1079): 4.819115417831199e-08, (786, 1385): 3.808027599916386e-07, (786, 1435): 2.095253535117081e-07, (786, 1800): 2.8364271997816104e-07, (787, 223): 0.0045692408457398415, (787, 364): 0.009487033821642399, (787, 1177): 0.0008751278510317206, (787, 1306): 0.004930569790303707, (787, 1840): 0.0032306762877851725, (787, 1841): 0.003908553626388311, (788, 608): 0.0, (788, 1014): 0.0, (789, 1010): 0.0, (790, 501): 0.0, (790, 1488): 0.0, (791, 423): 0.0, (791, 1308): 0.0, (791, 1348): 0.0, (791, 1751): 0.0, (791, 2058): 0.0, (792, 396): 0.006714344955980778, (792, 793): 0.0072027225978672504, (792, 799): 0.0016182622639462352, (792, 803): 0.01084621250629425, (793, 792): 0.007992285303771496, (793, 803): 0.01536355447024107, (793, 1176): 0.006470050662755966, (794, 1084): 0.006751744542270899, (794, 1908): 0.00026379950577393174, (795, 258): 1.313177335759974e-07, (795, 786): 2.003152076213155e-06, (795, 1079): 2.2174192508828128e-06, (795, 1385): 8.747450124246825e-07, (796, 248): 0.0, (796, 1196): 0.0, (796, 1197): 0.0, (796, 1295): 0.0, (797, 624): 0.001694903359748423, (797, 737): 0.0015881791478022933, (797, 1066): 0.003669890807941556, (797, 1285): 0.0034642342943698168, (797, 1307): 0.003752507735043764, (797, 2061): 0.0012672616867348552, (798, 489): 0.0, (798, 1605): 0.0, (799, 792): 0.010632270947098732, (799, 803): 0.013116498477756977, (799, 896): 0.012699221260845661, (800, 801): 0.0, (800, 802): 0.0, (800, 803): 0.0, (801, 596): 0.0, (801, 800): 0.0, (802, 415): 0.0, (802, 800): 0.0, (802, 803): 0.0, (802, 902): 0.0, (803, 131): 0.002590141724795103, (803, 396): 0.006714344955980778, (803, 792): 0.0042887283489108086, (803, 793): 0.0072027225978672504, (803, 799): 0.0016182622639462352, (803, 800): 0.010782571509480476, (803, 802): 0.008169049397110939, (803, 808): 0.0011737451422959566, (803, 809): 0.00397840328514576, (803, 1176): 0.008717554621398449, (803, 1778): 0.00042452546767890453, (804, 144): 7.43214187119366e-21, (804, 186): 1.486859089768628e-20, (804, 805): 2.2533548568396672e-20, (804, 817): 5.1863917445519396e-21, (804, 862): 1.5369335667487765e-20, (804, 938): 3.6343559923929615e-20, (804, 1021): 8.499974688656366e-21, (804, 1553): 2.5615798014179713e-20, (804, 1611): 2.116876033440813e-20, (804, 2051): 2.845196284331536e-20, (804, 2052): 8.839475784559698e-21, (804, 2090): 1.7326850509158835e-20, (805, 144): 0.0018589728279039264, (805, 186): 0.0008102275314740837, (805, 640): 8.180932491086423e-05, (805, 655): 0.005240242462605238, (805, 804): 0.00263037602417171, (805, 862): 0.003252873197197914, (805, 1551): 0.003560481360182166, (805, 1553): 0.00556101044639945, (805, 1612): 0.001157183083705604, (806, 71): 0.0, (806, 1860): 0.0, (807, 808): 0.0, (807, 809): 0.0, (807, 978): 0.0, (808, 803): 0.0, (808, 807): 0.0, (808, 809): 0.0, (808, 1636): 0.0, (809, 803): 0.0, (809, 807): 0.0, (809, 808): 0.0, (810, 623): 0.0, (810, 811): 0.0, (811, 810): 0.0, (812, 1128): 0.0, (813, 814): 0.0035492328461259604, (813, 899): 0.0032355780713260174, (813, 1706): 0.02530847117304802, (814, 813): 0.003549232380464673, (815, 162): 0.007902327924966812, (815, 630): 0.009098734706640244, (815, 1225): 0.0028940781485289335, (815, 1429): 0.002715039299800992, (816, 862): 0.006132049020379782, (816, 1598): 0.0018635002197697759, (817, 144): 0.0018589741084724665, (817, 261): 0.002880008891224861, (817, 420): 0.001527942717075348, (817, 545): 0.003233681432902813, (817, 559): 0.004745807498693466, (817, 572): 0.004768208134919405, (817, 575): 0.0011282784398645163, (817, 592): 0.001793388044461608, (817, 684): 0.002207336015999317, (817, 804): 0.0026303776539862156, (817, 818): 0.0016233163187280297, (817, 852): 0.002557090949267149, (817, 938): 0.009182820096611977, (817, 989): 0.00013482515350915492, (817, 1000): 7.097070920281112e-05, (817, 1018): 0.0016457699239253998, (817, 1019): 0.0008559452253393829, (817, 1021): 0.0011538662947714329, (817, 1067): 0.004075304139405489, (817, 1069): 0.00015248284034896642, (817, 1092): 0.0016242099227383733, (817, 1095): 0.001547008752822876, (817, 1147): 0.003061325754970312, (817, 1410): 0.0031191762536764145, (817, 1452): 0.0029172920621931553, (817, 1456): 0.00014966633170843124, (817, 1464): 0.005110411439090967, (817, 1551): 0.003560483455657959, (817, 1552): 0.0012102314503863454, (817, 1627): 0.0011014819610863924, (817, 1670): 0.0005275087896734476, (817, 1898): 0.00205462914891541, (817, 1899): 0.001857964787632227, (817, 1924): 0.0002993262023665011, (818, 490): 0.0, (818, 817): 0.0, (818, 938): 0.0, (818, 1665): 0.0, (818, 2090): 0.0, (819, 98): 0.0, (819, 218): 0.0, (819, 1454): 0.0, (819, 1455): 0.0, (820, 1027): 0.022704308852553368, (821, 1027): 0.0, (822, 1015): 0.0, (822, 1016): 0.0, (822, 1705): 0.0, (823, 777): 0.00013643618149217218, (823, 1276): 6.010866491124034e-05, (823, 1277): 6.881605077069253e-05, (823, 1747): 0.0002185075863962993, (823, 1760): 0.00035029483842663467, (823, 1761): 7.994822226464748e-06, (823, 1801): 0.0004646605812013149, (823, 1838): 0.0001698760170256719, (824, 2082): 0.0, (825, 1010): 0.0062442561611533165, (825, 1363): 0.006962575949728489, (826, 29): 0.0, (826, 166): 0.0, (826, 521): 0.0, (826, 1854): 0.0, (826, 1890): 0.0, (827, 341): 0.0, (827, 577): 0.0, (828, 257): 0.0, (828, 838): 0.0, (829, 1699): 0.0, (829, 1931): 0.0, (830, 1226): 0.0, (830, 1880): 0.0, (831, 186): 0.0, (831, 272): 0.0, (831, 472): 0.0, (831, 1048): 0.0, (831, 1049): 0.0, (831, 1379): 0.0, (831, 1860): 0.0, (831, 2101): 0.0, (832, 241): 0.023116104304790497, (832, 533): 0.0005318745970726013, (832, 572): 0.009181498549878597, (832, 595): 0.009494087658822536, (832, 833): 0.021098801866173744, (832, 948): 0.03152928501367569, (832, 950): 0.03161368519067764, (832, 1567): 0.004854310769587755, (832, 1568): 0.01141802966594696, (833, 241): 0.008090143091976643, (833, 832): 0.0020858023781329393, (833, 948): 0.0031660471577197313, (833, 950): 0.00420535821467638, (833, 1591): 0.001622099312953651, (834, 1066): 0.0, (834, 1308): 0.0, (835, 677): 0.005444973707199097, (835, 1513): 0.0018744667759165168, (835, 1698): 0.0025206918362528086, (836, 1410): 0.0, (837, 321): 0.0, (837, 1410): 0.0, (837, 2087): 0.0, (838, 257): 0.0014301830669865012, (838, 828): 0.00028969041886739433, (838, 1151): 0.00271188048645854, (838, 1993): 0.0003202726074960083, (839, 754): 0.0, (839, 756): 0.0, (839, 941): 0.0, (839, 949): 0.0, (839, 1250): 0.0, (840, 100): 0.0, (840, 841): 0.0, (840, 1201): 0.0, (840, 1852): 0.0, (841, 100): 0.0, (841, 840): 0.0, (842, 202): 0.0, (842, 2040): 0.0, (843, 23): 0.0, (843, 1451): 0.0, (843, 1718): 0.0, (843, 1839): 0.0, (844, 23): 0.0, (844, 1166): 0.0, (844, 1596): 0.0, (844, 2021): 0.0, (845, 85): 0.0006926016067154706, (845, 516): 0.0016067959368228912, (845, 1577): 0.0004975378978997469, (845, 1829): 0.0016067959368228912, (846, 115): 0.0, (846, 1287): 0.0, (846, 1908): 0.0, (847, 1419): 0.0, (847, 2012): 0.0, (848, 155): 0.0, (848, 221): 0.0, (849, 1119): 0.0, (850, 0): 0.0, (850, 302): 0.0, (850, 1263): 0.0, (850, 1264): 0.0, (850, 1427): 0.0, (850, 1477): 0.0, (851, 521): 0.008344282396137714, (851, 1344): 0.010343999601900578, (852, 288): 1.2631513444727685e-22, (852, 817): 3.8878458142272636e-22, (852, 862): 2.094552819776965e-20, (852, 863): 3.5869805758632115e-22, (852, 938): 6.900661363963435e-21, (853, 184): 0.0, (853, 273): 0.0, (853, 485): 0.0, (853, 1064): 0.0, (853, 2014): 0.0, (854, 273): 0.0, (854, 485): 0.0, (854, 855): 0.0, (854, 1063): 0.0, (854, 1731): 0.0, (855, 433): 0.00026051801978610456, (855, 854): 0.0014517379458993673, (855, 1063): 0.002456862246617675, (855, 1731): 0.006843228824436665, (856, 486): 0.0, (856, 857): 0.0, (857, 486): 0.0, (857, 552): 0.0, (857, 856): 0.0, (857, 1221): 0.0, (857, 1963): 0.0, (858, 27): 0.0028268254827708006, (858, 486): 0.01287936046719551, (858, 931): 0.004642055835574865, (858, 1359): 0.0053948466666042805, (858, 1360): 0.0019278590334579349, (859, 570): 0.0038458819035440683, (859, 1209): 0.0076199788600206375, (859, 1415): 0.0018232845468446612, (860, 475): 0.0, (860, 752): 0.0, (860, 996): 0.0, (860, 1209): 0.0, (860, 1221): 0.0, (860, 1326): 0.0, (860, 1581): 0.0, (860, 1974): 0.0, (860, 2047): 0.0, (861, 1335): 0.0, (862, 17): 0.001540742814540863, (862, 25): 5.5150798289105296e-05, (862, 49): 0.000283224624581635, (862, 63): 0.0016762404702603817, (862, 80): 0.00025503698270767927, (862, 144): 0.0006821659044362605, (862, 151): 0.00039114541141316295, (862, 157): 0.0018662633374333382, (862, 214): 0.0013544104294851422, (862, 218): 0.00012663078086916357, (862, 241): 0.0020497222431004047, (862, 250): 0.000342148938216269, (862, 261): 0.0013259128900244832, (862, 268): 0.0015057031996548176, (862, 370): 0.0012672088341787457, (862, 384): 0.0007230935152620077, (862, 393): 1.7752638086676598e-05, (862, 394): 0.001635590917430818, (862, 398): 0.0002138085983460769, (862, 399): 0.0005563099985010922, (862, 420): 0.0001792516850400716, (862, 441): 0.0012897939886897802, (862, 448): 0.0011690172832459211, (862, 450): 0.0005486629670485854, (862, 484): 0.0015338091179728508, (862, 506): 0.000800234149210155, (862, 518): 0.0005206428468227386, (862, 523): 0.000718194991350174, (862, 538): 8.588236960349604e-05, (862, 543): 0.002046008361503482, (862, 545): 0.0005815993645228446, (862, 559): 0.0021428733598440886, (862, 568): 0.0009560911566950381, (862, 575): 0.0008421327220275998, (862, 578): 4.365810309536755e-05, (862, 592): 0.00048630358651280403, (862, 685): 2.2019230527803302e-05, (862, 717): 0.0014742426574230194, (862, 718): 0.0013680537231266499, (862, 755): 0.0007230935152620077, (862, 804): 0.001546649495139718, (862, 805): 0.0010505394311621785, (862, 816): 0.0007001273334026337, (862, 852): 0.0005288345855660737, (862, 863): 0.00013677956303581595, (862, 893): 0.0025252224877476692, (862, 948): 0.0008024639682844281, (862, 950): 0.0010655794758349657, (862, 962): 0.0006776950322091579, (862, 976): 0.001930934377014637, (862, 980): 0.00046706318971700966, (862, 989): 4.976140917278826e-05, (862, 1000): 0.0011614353861659765, (862, 1018): 0.0012285786215215921, (862, 1019): 0.0006009232602082193, (862, 1021): 0.0005215961136855185, (862, 1052): 0.0009735407656989992, (862, 1056): 0.0010822626063600183, (862, 1067): 0.0015083450125530362, (862, 1069): 0.0011137471301481128, (862, 1092): 0.0004860142362304032, (862, 1095): 0.0008616668055765331, (862, 1147): 0.0010379203595221043, (862, 1165): 0.0018145187059417367, (862, 1195): 0.00018726056441664696, (862, 1199): 0.00044450152199715376, (862, 1252): 0.000527986790984869, (862, 1271): 0.00017644348554313183, (862, 1295): 0.001707915565930307, (862, 1386): 4.42400123574771e-05, (862, 1400): 0.00026717729633674026, (862, 1401): 0.00021792162442579865, (862, 1410): 0.0004128392320126295, (862, 1423): 0.0023567569442093372, (862, 1440): 0.0006093527190387249, (862, 1452): 0.00041542452527210116, (862, 1453): 0.00017045647837221622, (862, 1455): 0.00012663078086916357, (862, 1456): 0.0008717341115698218, (862, 1459): 0.000982316443696618, (862, 1464): 0.00020927959121763706, (862, 1466): 0.0005612564855255187, (862, 1475): 0.001239534467458725, (862, 1509): 0.0005810933653265238, (862, 1545): 0.000311013194732368, (862, 1552): 5.871220491826534e-05, (862, 1611): 0.0006517387228086591, (862, 1612): 0.0011811676668003201, (862, 1665): 0.0004940690123476088, (862, 1668): 6.265539559535682e-05, (862, 1670): 0.0002715189184527844, (862, 1685): 7.69604230299592e-06, (862, 1842): 0.0015772685874253511, (862, 1867): 0.001757061225362122, (862, 1873): 0.0009686812991276383, (862, 1895): 3.798899706453085e-05, (862, 1898): 0.0008443855913355947, (862, 1949): 0.0003400082350708544, (862, 2085): 0.0013181098038330674, (863, 465): 1.2537401707646095e-22, (863, 852): 1.263150965819534e-22, (863, 862): 5.956043722647751e-22, (863, 1665): 2.378475961323382e-22, (864, 66): 0.000151629006722942, (864, 1246): 0.00042320735519751906, (864, 1907): 2.208060323027894e-06, (865, 73): 0.0, (865, 1982): 0.0, (866, 1055): 0.0, (866, 1750): 0.0, (866, 1980): 0.0, (866, 1982): 0.0, (867, 1237): 0.0, (868, 870): 0.0, (869, 507): 0.0, (869, 658): 0.0, (869, 870): 0.0, (869, 1494): 0.0, (869, 1629): 0.0, (870, 507): 0.0014345560921356082, (870, 658): 0.0011581717990338802, (870, 868): 0.006266847252845764, (870, 869): 0.002410935005173087, (870, 1367): 0.001038762042298913, (870, 1629): 0.0025269316975027323, (871, 270): 0.0, (871, 509): 0.0, (871, 1958): 0.0, (871, 2074): 0.0, (872, 1701): 0.0, (873, 332): 0.0020377333275973797, (873, 2040): 0.006715156603604555, (874, 2001): 0.0, (875, 876): 0.00316657149232924, (875, 877): 0.0027168793603777885, (875, 880): 0.0007850996917113662, (875, 1439): 0.009469437412917614, (875, 1910): 0.003773184958845377, (876, 875): 0.002947742585092783, (876, 877): 0.0025575351901352406, (876, 879): 0.004803684540092945, (876, 880): 0.0012638057814911008, (876, 1439): 0.007228255737572908, (876, 1882): 0.009435273706912994, (877, 875): 0.0, (877, 876): 0.0, (877, 1884): 0.0, (878, 879): 0.0, (878, 880): 0.0, (878, 1311): 0.0, (879, 589): 0.007358201779425144, (879, 876): 0.00022942424402572215, (879, 878): 0.0021326509304344654, (879, 880): 0.0012638057814911008, (879, 1439): 0.007228255737572908, (879, 1566): 0.0026435134932398796, (879, 1882): 0.009435273706912994, (880, 875): 0.007279846351593733, (880, 876): 0.00316657149232924, (880, 878): 0.001529898145236075, (880, 879): 0.00361662358045578, (880, 1439): 0.009469437412917614, (880, 2037): 0.007179584354162216, (881, 66): 0.0, (881, 1650): 0.0, (882, 427): 0.0115850530564785, (882, 1091): 0.013780903071165085, (882, 2020): 0.007925829850137234, (883, 1685): 0.0, (884, 885): 0.0, (885, 78): 2.6102693340135374e-09, (885, 102): 5.218669940632026e-10, (885, 103): 2.107979213405997e-08, (885, 232): 6.394391682817968e-09, (885, 354): 3.4663809600488094e-08, (885, 597): 6.330386437269908e-09, (885, 712): 7.218243069928576e-08, (885, 884): 2.988413072557705e-08, (885, 1862): 2.7461698692832215e-08, (886, 1067): 0.0, (887, 468): 0.008109211921691895, (887, 1750): 0.05857221782207489, (888, 294): 0.0017406585393473506, (888, 434): 0.004847805015742779, (888, 553): 0.004132576286792755, (888, 716): 0.010953336954116821, (888, 889): 0.004525558557361364, (888, 1190): 0.0007077627233229578, (888, 1300): 0.005042486358433962, (888, 2049): 0.006446574814617634, (889, 114): 0.0, (889, 537): 0.0, (889, 888): 0.0, (889, 1311): 0.0, (890, 1706): 0.0, (891, 458): 3.242300010697363e-07, (892, 541): 0.0, (892, 1271): 0.0, (892, 1372): 0.0, (893, 157): 0.0, (893, 862): 0.0, (893, 938): 0.0, (894, 0): 0.0007756820414215326, (894, 2010): 0.00015649398847017437, (895, 40): 0.0, (896, 347): 0.0006699272198602557, (896, 356): 0.0042549311183393, (896, 363): 0.0006469117943197489, (896, 369): 0.002450844505801797, (896, 482): 0.0030778825748711824, (896, 799): 0.000888954964466393, (896, 898): 0.001749304006807506, (896, 970): 0.003960496746003628, (896, 1044): 0.000875630066730082, (896, 1837): 0.008966783992946148, (896, 2089): 0.003698901040479541, (897, 970): 0.0, (897, 1678): 0.0, (897, 1706): 0.0, (898, 118): 0.0, (898, 355): 0.0, (898, 369): 0.0, (898, 631): 0.0, (898, 680): 0.0, (898, 896): 0.0, (898, 970): 0.0, (898, 1706): 0.0, (898, 2088): 0.0, (899, 631): 0.0003136535524390638, (899, 813): 0.003549232380464673, (900, 543): 0.0, (901, 364): 0.0, (902, 211): 0.0, (902, 410): 0.0, (902, 802): 0.0, (902, 1171): 0.0, (902, 1243): 0.0, (903, 211): 0.0, (903, 478): 0.0, (904, 80): 0.0005989355267956853, (904, 139): 0.0019886549562215805, (904, 151): 0.0009186356328427792, (904, 266): 0.0003488275106064975, (904, 268): 0.0035354318097233772, (904, 393): 4.149670712649822e-05, (904, 452): 0.001527159009128809, (904, 472): 0.0002951988426502794, (904, 999): 0.0015167748788371682, (904, 1160): 0.00196780520491302, (904, 1223): 0.00013983318058308214, (904, 1319): 0.0018579084426164627, (904, 1481): 0.003735532984137535, (904, 1647): 0.002888633171096444, (904, 2068): 0.0003836575197055936, (905, 211): 0.0, (906, 2007): 0.0, (907, 211): 0.0, (907, 1243): 0.0, (908, 380): 0.004730905871838331, (908, 382): 0.0037681786343455315, (908, 410): 0.00169933564029634, (908, 735): 0.0036164475604891777, (908, 736): 0.003504436928778887, (908, 737): 0.0008910808246582747, (908, 738): 0.004374244250357151, (908, 1157): 0.0004086483968421817, (908, 1285): 0.002706378698348999, (909, 598): 0.0, (909, 911): 0.0, (910, 598): 0.0, (910, 911): 0.0, (911, 598): 0.0, (911, 909): 0.0, (911, 910): 0.0, (912, 1591): 0.002765002893283963, (913, 236): 0.0, (913, 1280): 0.0, (913, 2037): 0.0, (914, 1410): 0.0, (914, 1863): 0.0, (915, 243): 0.0, (915, 638): 0.0, (915, 690): 0.0, (915, 691): 0.0, (915, 692): 0.0, (915, 916): 0.0, (915, 1256): 0.0, (915, 1288): 0.0, (915, 1318): 0.0, (915, 1523): 0.0, (916, 691): 0.0, (916, 692): 0.0, (916, 915): 0.0, (916, 1288): 0.0, (916, 1505): 0.0, (917, 1523): 0.0, (918, 638): 0.0, (918, 1288): 0.0, (919, 337): 0.004729490261524916, (919, 361): 0.000980710843577981, (919, 1327): 0.004019541200250387, (919, 1800): 0.001670481520704925, (919, 1813): 0.00036005896981805563, (920, 230): 0.0003487486392259598, (920, 516): 0.0004232725186739117, (920, 666): 2.531813152018003e-05, (920, 1441): 4.2828927689697593e-05, (920, 1829): 0.0004232725186739117, (921, 76): 0.0, (921, 1371): 0.0, (922, 1806): 0.002681642072275281, (922, 1940): 0.004468686878681183, (923, 924): 0.014818517491221428, (923, 1637): 0.02089204266667366, (924, 923): 0.01478316355496645, (924, 1637): 0.02182377502322197, (925, 456): 0.0, (925, 1626): 0.0, (925, 1742): 0.0, (926, 174): 0.0, (926, 927): 0.0, (927, 311): 0.0, (927, 499): 0.0, (927, 926): 0.0, (928, 616): 0.0, (928, 721): 0.0, (928, 929): 0.0, (928, 1463): 0.0, (928, 1770): 0.0, (928, 1909): 0.0, (929, 616): 0.0, (929, 928): 0.0, (929, 1909): 0.0, (930, 174): 0.007267691660672426, (930, 1771): 0.007625768426805735, (931, 858): 0.00539484852924943, (931, 1055): 0.0007527915295213461, (932, 1029): 0.0, (932, 1684): 0.0, (933, 1750): 0.0, (934, 1750): 0.0, (935, 38): 0.0, (935, 2011): 0.0, (936, 937): 0.009155028499662876, (936, 1067): 0.020116938278079033, (936, 1475): 0.00431785499677062, (937, 144): 0.0031193853355944157, (937, 447): 0.003171063493937254, (937, 572): 0.009454770013689995, (937, 684): 0.004225956276059151, (937, 936): 0.00041433260776102543, (937, 938): 0.017131328582763672, (937, 1551): 0.006923369597643614, (938, 144): 6.906595850786346e-10, (938, 157): 1.7741734748000226e-09, (938, 241): 3.5428735500886432e-09, (938, 420): 1.052907538934278e-09, (938, 506): 6.769734772760216e-10, (938, 559): 2.9963713732428232e-09, (938, 575): 2.2079199579749798e-10, (938, 592): 8.03236088753323e-10, (938, 684): 9.088180208394192e-10, (938, 746): 1.6915824296859228e-09, (938, 804): 1.8315636785004585e-09, (938, 817): 2.3592325315568985e-10, (938, 818): 5.464071972660633e-10, (938, 852): 1.5377061846066908e-09, (938, 893): 3.744904386593362e-09, (938, 937): 1.3036633994545355e-09, (938, 948): 1.5000569675294173e-09, (938, 950): 2.4502382345303886e-09, (938, 1018): 1.2304057772638544e-09, (938, 1019): 2.220385403317593e-10, (938, 1021): 3.4750380351056265e-10, (938, 1067): 2.120472242239657e-09, (938, 1069): 2.498287687835443e-10, (938, 1095): 5.099309308143063e-10, (938, 1252): 2.6904795058513287e-10, (938, 1400): 2.257084075196758e-09, (938, 1401): 9.910972043059019e-10, (938, 1423): 4.7982773310195626e-09, (938, 1452): 1.7985610778481487e-09, (938, 1459): 1.1661006604768431e-09, (938, 1553): 2.9329425554891486e-09, (938, 1578): 9.990956673089357e-11, (938, 1670): 1.3504269924524692e-10, (938, 1812): 2.5013737747769937e-09, (938, 1924): 5.655130808079889e-10, (939, 666): 2.531813152018003e-05, (940, 25): 0.0, (941, 354): 0.00578911229968071, (941, 491): 0.0022639953531324863, (941, 839): 0.005434168968349695, (941, 958): 0.005524356383830309, (941, 967): 0.0023353290744125843, (941, 1170): 0.0015552412951365113, (941, 1321): 0.007683035917580128, (941, 1351): 0.006233768071979284, (941, 1468): 0.002192338462918997, (941, 1613): 0.003631638828665018, (941, 1842): 0.0021017962135374546, (941, 2098): 0.002396140480414033, (942, 11): 0.0, (942, 236): 0.0, (942, 390): 0.0, (942, 1071): 0.0, (942, 1727): 0.0, (942, 1889): 0.0, (943, 1201): 0.0, (944, 1385): 0.0, (945, 268): 0.0, (946, 160): 0.0005446636932902038, (946, 1223): 4.816500950255431e-05, (947, 781): 0.001734947320073843, (947, 1438): 0.0037233741022646427, (947, 1546): 0.010898035019636154, (947, 1907): 0.004483443219214678, (948, 109): 0.0034017618745565414, (948, 241): 0.008089878596365452, (948, 622): 0.0044099087826907635, (948, 832): 0.002087695524096489, (948, 833): 0.003610015846788883, (948, 862): 0.001463536056689918, (948, 938): 7.591966277686879e-05, (948, 950): 0.0042049274779856205, (949, 391): 0.0, (949, 839): 0.0, (949, 1113): 0.0, (949, 1170): 0.0, (949, 1250): 0.0, (949, 1321): 0.0, (949, 1486): 0.0, (949, 1500): 0.0, (950, 241): 0.008089878596365452, (950, 472): 0.0004991277819499373, (950, 640): 0.0011787514667958021, (950, 655): 0.002684213686734438, (950, 832): 0.002087695524096489, (950, 833): 0.003610015846788883, (950, 862): 0.001463536056689918, (950, 938): 7.591966277686879e-05, (950, 948): 0.0031669125892221928, (951, 952): 0.0, (951, 1575): 0.0, (951, 2097): 0.0, (951, 2099): 0.0, (952, 951): 0.0, (952, 2094): 0.0, (952, 2097): 0.0, (953, 240): 2.126263893842406e-07, (953, 507): 3.80090995122373e-07, (953, 581): 5.976040711175301e-07, (953, 664): 1.4196189113135915e-06, (953, 1112): 1.3259112847663346e-06, (953, 1545): 2.5319383212263347e-07, (953, 1629): 9.925112181008444e-07, (953, 1666): 6.264381227083504e-07, (953, 1929): 6.958175049476267e-07, (953, 2041): 5.976040711175301e-07, (954, 1678): 0.014115231111645699, (955, 264): 0.0, (955, 1065): 0.0, (955, 1845): 0.0, (956, 459): 0.0006053211400285363, (956, 491): 0.002264006296172738, (956, 497): 0.0028106686659157276, (956, 957): 0.005028565879911184, (957, 491): 0.002264006296172738, (957, 956): 0.0046797930262982845, (957, 958): 0.005524310749024153, (957, 959): 0.0004196312220301479, (958, 941): 0.0, (958, 957): 0.0, (958, 1468): 0.0, (959, 38): 0.0, (959, 459): 0.0, (959, 497): 0.0, (959, 957): 0.0, (960, 1243): 0.0, (960, 1469): 0.0, (961, 962): 0.018777495250105858, (962, 862): 0.006382502615451813, (962, 961): 0.005204261280596256, (962, 963): 0.005590382963418961, (962, 1169): 0.0009041116572916508, (962, 1469): 0.002318797865882516, (962, 1867): 0.00018566299695521593, (963, 962): 2.649623349943082e-16, (963, 1612): 3.7118143125029995e-16, (964, 30): 0.0, (964, 156): 0.0, (964, 2002): 0.0, (965, 675): 0.0, (966, 451): 0.0, (966, 1263): 0.0, (967, 64): 0.0037483449559658766, (967, 85): 0.0013932310976088047, (967, 93): 0.0039398157969117165, (967, 941): 0.0037850849330425262, (967, 1128): 0.0006439548451453447, (967, 1530): 0.008426560088992119, (967, 1683): 0.00022195494966581464, (968, 376): 0.0, (969, 298): 0.0021910679060965776, (969, 611): 0.010010207071900368, (970, 363): 0.0, (970, 896): 0.0, (970, 897): 0.0, (970, 898): 0.0, (971, 1053): 0.0, (971, 1995): 0.0, (972, 1690): 0.0, (973, 974): 0.0, (973, 975): 0.0, (974, 533): 8.897551715314391e-18, (974, 973): 3.000842575730939e-14, (974, 1429): 4.167682637803288e-14, (974, 1893): 4.496842012798562e-14, (974, 1894): 3.2204409495042996e-14, (975, 973): 0.0, (975, 1894): 0.0, (976, 63): 1.8331913869673645e-17, (976, 862): 9.264995931322287e-17, (976, 2106): 3.2124090552040395e-18, (977, 309): 0.0017614536918699741, (977, 723): 0.0017423070967197418, (977, 724): 0.0016602611867710948, (977, 1801): 0.0025106254033744335, (977, 1905): 0.001261456636711955, (978, 807): 0.0, (979, 199): 0.0, (979, 519): 0.0, (979, 558): 0.0, (979, 1716): 0.0, (980, 370): 0.0, (980, 862): 0.0, (980, 1453): 0.0, (980, 1946): 0.0, (981, 236): 0.025172950699925423, (982, 4): 0.0019509008852764964, (982, 208): 0.0030366459395736456, (982, 734): 0.005020461045205593, (982, 1324): 0.003686433658003807, (983, 1195): 0.0, (983, 1452): 0.0, (984, 278): 0.0, (984, 1784): 0.0, (985, 1207): 0.0, (986, 7): 0.0, (986, 207): 0.0, (987, 207): 0.0, (987, 220): 0.0, (987, 304): 0.0, (987, 394): 0.0, (987, 598): 0.0, (987, 1132): 0.0, (987, 1428): 0.0, (987, 1821): 0.0, (987, 1828): 0.0, (987, 2093): 0.0, (988, 71): 0.0, (988, 186): 0.0, (988, 220): 0.0, (988, 1860): 0.0, (989, 420): 0.0, (989, 655): 0.0, (989, 817): 0.0, (989, 862): 0.0, (989, 1164): 0.0, (989, 1273): 0.0, (989, 1716): 0.0, (990, 10): 0.0, (990, 1130): 0.0, (990, 2054): 0.0, (991, 620): 0.0, (991, 759): 0.0, (992, 350): 0.00011849650763906538, (992, 783): 0.0017770149279385805, (993, 342): 0.0, (993, 372): 0.0, (994, 1128): 0.0, (994, 1531): 0.0, (995, 209): 0.0, (996, 860): 0.0, (996, 1601): 0.0, (997, 674): 0.0, (998, 1580): 0.0, (999, 63): 0.0022598453797399998, (999, 619): 1.573085319250822e-05, (999, 904): 0.0012489614309743047, (999, 1079): 0.0003805123851634562, (999, 1160): 0.001129694515839219, (999, 1223): 8.024144335649908e-05, (999, 1319): 0.0010665622539818287, (999, 1452): 0.0005601136363111436, (1000, 144): 7.43214187119366e-21, (1000, 655): 4.010884891376692e-21, (1000, 817): 5.1863917445519396e-21, (1000, 862): 1.5369335667487765e-20, (1001, 64): 0.00035111105535179377, (1001, 83): 0.007311668246984482, (1001, 85): 0.006921890191733837, (1001, 86): 0.03636438027024269, (1001, 237): 0.0022040833719074726, (1001, 290): 0.009976932778954506, (1001, 316): 0.01817179284989834, (1001, 329): 0.013112904503941536, (1001, 344): 0.006391240283846855, (1001, 447): 0.0077662901021540165, (1001, 595): 0.01631096564233303, (1001, 614): 0.0004661559360101819, (1001, 620): 0.0020793327130377293, (1001, 626): 0.01891934871673584, (1001, 640): 0.00902041420340538, (1001, 660): 0.018742330372333527, (1001, 759): 0.0014049391029402614, (1001, 1052): 0.01276637613773346, (1001, 1059): 0.011665286496281624, (1001, 1136): 0.0121811768040061, (1001, 1164): 0.008977582678198814, (1001, 1180): 0.002584146335721016, (1001, 1261): 0.0027410085313022137, (1001, 1452): 0.02207140438258648, (1001, 1523): 0.007226009853184223, (1001, 1568): 0.002773893531411886, (1001, 1635): 0.006504044868052006, (1001, 1663): 0.02156451717019081, (1001, 1668): 0.004318712279200554, (1002, 356): 0.0053213005885481834, (1002, 367): 0.0012536027934402227, (1002, 1706): 0.011812652461230755, (1003, 348): 2.200122510120483e-14, (1003, 1310): 2.440585168857201e-14, (1003, 1429): 4.167682637803288e-14, (1003, 1430): 5.71063514401629e-14, (1003, 1604): 2.3386813454784675e-14, (1003, 1894): 3.2204409495042996e-14, (1004, 1005): 0.0, (1005, 1004): 0.0, (1005, 1512): 0.0, (1006, 1601): 0.0, (1006, 1706): 0.0, (1007, 231): 0.0, (1007, 1786): 0.0, (1007, 1790): 0.0, (1008, 662): 0.0, (1008, 1009): 0.0, (1008, 1167): 0.0, (1008, 1538): 0.0, (1009, 1008): 0.0, (1010, 789): 0.0009900013683363795, (1010, 825): 6.105493230279535e-05, (1010, 1574): 0.0003250679583288729, (1010, 2001): 0.004990241955965757, (1011, 1443): 0.008332124911248684, (1012, 1806): 0.0, (1013, 585): 0.0, (1013, 764): 0.0, (1013, 1213): 0.0, (1013, 1493): 0.0, (1014, 788): 0.0, (1014, 1583): 0.0, (1014, 1811): 0.0, (1015, 822): 0.0, (1016, 77): 0.0, (1016, 822): 0.0, (1017, 114): 0.0, (1017, 537): 0.0, (1018, 144): 7.432141063400094e-21, (1018, 718): 1.1246940528749103e-20, (1018, 817): 5.1863917445519396e-21, (1018, 862): 1.5369340514249167e-20, (1018, 938): 3.6343559923929615e-20, (1018, 1019): 4.7090887401664524e-21, (1018, 1021): 8.499974688656366e-21, (1018, 1289): 2.69282933277152e-21, (1018, 1453): 2.545300660780729e-20, (1018, 1553): 2.5615798014179713e-20, (1018, 2090): 1.7326850509158835e-20, (1018, 2091): 1.7085585188931845e-20, (1019, 144): 7.43214187119366e-21, (1019, 655): 4.010884891376692e-21, (1019, 817): 5.1863917445519396e-21, (1019, 862): 1.5369335667487765e-20, (1019, 938): 3.6343559923929615e-20, (1019, 1018): 2.0578541117957402e-21, (1019, 1452): 1.0512221583455884e-20, (1020, 544): 0.0, (1021, 144): 6.002853214504e-10, (1021, 394): 1.8588062200564082e-09, (1021, 465): 3.6620401155929017e-10, (1021, 559): 1.642659896994303e-09, (1021, 575): 3.135097181861113e-10, (1021, 592): 6.349922809789632e-10, (1021, 804): 9.558291935718444e-10, (1021, 817): 2.3063474741125134e-10, (1021, 862): 1.2967750206982487e-09, (1021, 938): 2.9684488200842907e-09, (1021, 1018): 6.064422297669125e-10, (1021, 1067): 1.186211906478718e-09, (1021, 1095): 5.088549026588396e-10, (1021, 1252): 2.8515062533429614e-10, (1021, 1459): 9.911979015342354e-10, (1021, 1464): 1.4464268671687819e-09, (1021, 1466): 4.231899275453088e-10, (1021, 1924): 2.770150775432967e-10, (1021, 1945): 2.5761248689804006e-09, (1022, 1750): 0.0584004744887352, (1023, 476): 0.0, (1023, 721): 0.0, (1023, 1711): 0.0, (1023, 1770): 0.0, (1024, 1025): 0.0, (1025, 349): 0.0, (1025, 1024): 0.0, (1026, 119): 0.0, (1026, 613): 0.0, (1026, 1027): 0.0, (1026, 2000): 0.0, (1027, 53): 0.0037195938639342785, (1027, 113): 0.003369229147210717, (1027, 119): 0.01897970214486122, (1027, 613): 0.0038814241997897625, (1027, 820): 0.00046791351633146405, (1027, 821): 0.0004991046153008938, (1027, 1026): 0.01364092156291008, (1027, 1028): 0.0018689825665205717, (1027, 1187): 0.004374546464532614, (1027, 1651): 0.015239294618368149, (1027, 1723): 0.013992557302117348, (1027, 1724): 0.008968377485871315, (1027, 2000): 0.00374588486738503, (1027, 2013): 0.0047218091785907745, (1027, 2031): 0.004001676570624113, (1027, 2109): 0.00019045668886974454, (1028, 1027): 0.0, (1029, 932): 0.0, (1030, 1671): 0.0, (1031, 665): 0.0, (1032, 2053): 0.0, (1033, 1365): 0.0, (1034, 1323): 0.0, (1035, 1036): 0.0029641410801559687, (1035, 1190): 9.34143245103769e-05, (1035, 1311): 0.00447855144739151, (1036, 1035): 6.9339771471277345e-06, (1036, 1896): 8.528331818524748e-06, (1036, 2055): 1.3411616237135604e-05, (1037, 423): 0.029202943667769432, (1037, 1601): 0.0053561655804514885, (1037, 2089): 0.012869104743003845, (1038, 59): 0.00027700752252712846, (1038, 194): 0.0008282212074846029, (1038, 352): 0.0033760059159249067, (1038, 500): 3.5836026654578745e-05, (1038, 1311): 0.003939191345125437, (1038, 1388): 0.00013252723147161305, (1038, 1399): 0.0026978051755577326, (1038, 1544): 0.0009916709968820214, (1038, 1972): 0.0009140616748481989, (1038, 2055): 0.004660481587052345, (1038, 2062): 0.0030754192266613245, (1039, 1115): 0.0031141135841608047, (1039, 1518): 0.0020602846052497625, (1040, 327): 0.0, (1040, 546): 0.0, (1040, 1246): 0.0, (1041, 356): 0.0, (1041, 1251): 0.0, (1042, 367): 0.0012536027934402227, (1043, 551): 0.0017760099144652486, (1044, 498): 0.0, (1044, 896): 0.0, (1044, 1437): 0.0, (1045, 104): 0.0, (1045, 1865): 0.0, (1046, 223): 0.0045692408457398415, (1046, 1840): 0.0032306762877851725, (1046, 1843): 0.0016580397495999932, (1047, 1691): 0.0, (1048, 601): 0.0, (1048, 655): 0.0, (1048, 831): 0.0, (1048, 1049): 0.0, (1048, 2090): 0.0, (1048, 2101): 0.0, (1049, 272): 5.166320149463388e-10, (1049, 601): 1.91316157360788e-10, (1049, 831): 2.4417504129736756e-10, (1049, 1048): 4.3269376970300755e-10, (1049, 1057): 5.989246321114194e-10, (1049, 1394): 3.0189095667765287e-10, (1049, 1578): 2.5165231010149114e-11, (1049, 2090): 1.0731211752545988e-10, (1049, 2101): 8.774165838332237e-10, (1050, 460): 0.010441453196108341, (1051, 1320): 0.0, (1052, 403): 0.0, (1052, 668): 0.0, (1052, 862): 0.0, (1052, 1001): 0.0, (1052, 1059): 0.0, (1052, 1553): 0.0, (1053, 463): 0.0, (1053, 539): 0.0, (1053, 713): 0.0, (1053, 714): 0.0, (1053, 971): 0.0, (1053, 1265): 0.0, (1053, 1995): 0.0, (1054, 83): 0.0071105738170444965, (1054, 155): 0.00431074621155858, (1054, 186): 0.008079705759882927, (1054, 204): 0.0039463285356760025, (1054, 430): 0.00031322584254667163, (1054, 1110): 0.006986591499298811, (1054, 1174): 0.006302705965936184, (1054, 1523): 0.0003752204356715083, (1055, 429): 0.0, (1055, 866): 0.0, (1055, 931): 0.0, (1055, 1490): 0.0, (1055, 1743): 0.0, (1055, 1750): 0.0, (1055, 1980): 0.0, (1055, 1981): 0.0, (1056, 496): 0.0, (1056, 862): 0.0, (1056, 1136): 0.0, (1057, 42): 0.0, (1057, 1049): 0.0, (1057, 1379): 0.0, (1058, 434): 0.0, (1058, 762): 0.0, (1058, 1750): 0.0, (1058, 1751): 0.0, (1059, 1001): 0.0, (1059, 1052): 0.0, (1059, 1180): 0.0, (1060, 1437): 0.0, (1061, 732): 0.0, (1062, 732): 0.0, (1063, 0): 0.0015130998799577355, (1063, 433): 0.00026051801978610456, (1063, 732): 0.006014465354382992, (1063, 854): 0.0014517379458993673, (1063, 855): 0.0015584519132971764, (1063, 1806): 0.006553678773343563, (1064, 101): 0.0, (1064, 853): 0.0, (1065, 955): 0.0, (1066, 797): 0.00022330274805426598, (1066, 834): 0.0009942603064700961, (1066, 1307): 0.003752507735043764, (1066, 1751): 0.003656538436189294, (1066, 2061): 0.0012672616867348552, (1067, 144): 0.0031193853355944157, (1067, 186): 0.0010631399927660823, (1067, 614): 0.013785773888230324, (1067, 655): 0.010130760259926319, (1067, 817): 0.0007597387884743512, (1067, 862): 0.006262403447180986, (1067, 886): 0.0011930479668080807, (1067, 936): 0.00041433260776102543, (1067, 938): 0.017131328582763672, (1067, 1021): 0.001885699573904276, (1067, 1454): 0.005606154445558786, (1067, 1551): 0.006923369597643614, (1067, 1553): 0.011060072109103203, (1067, 1611): 0.004122260957956314, (1067, 1671): 0.003374059684574604, (1067, 2051): 0.004500793758779764, (1067, 2052): 0.00395170459523797, (1067, 2090): 0.004310706164687872, (1068, 121): 0.003015494905412197, (1068, 1978): 0.00619222829118371, (1069, 572): 0.0, (1069, 702): 0.0, (1069, 817): 0.0, (1069, 862): 0.0, (1069, 938): 0.0, (1069, 1095): 0.0, (1069, 1410): 0.0, (1069, 1812): 0.0, (1070, 1375): 0.0, (1070, 1891): 0.0, (1071, 942): 0.0, (1072, 2007): 0.0016729983035475016, (1073, 671): 0.0008828594000078738, (1073, 1550): 0.003260322380810976, (1073, 1947): 0.002201264025643468, (1074, 91): 0.0019753053784370422, (1074, 274): 0.004132974427193403, (1074, 524): 0.001807479653507471, (1074, 628): 2.6979250833392143e-05, (1074, 1191): 0.006583862006664276, (1074, 1333): 0.007351940032094717, (1074, 1338): 0.0036379676312208176, (1075, 524): 0.0, (1075, 688): 0.0, (1075, 1191): 0.0, (1075, 1333): 0.0, (1075, 1808): 0.0, (1076, 1437): 0.02292403019964695, (1076, 1687): 0.0019696992821991444, (1076, 1750): 0.058588407933712006, (1077, 423): 0.0, (1077, 1750): 0.0, (1078, 1289): 0.0, (1078, 1456): 0.0, (1079, 80): 0.0002552799414843321, (1079, 151): 0.0003916266141459346, (1079, 266): 0.00014826624828856438, (1079, 268): 0.0015060516307130456, (1079, 381): 0.00029784999787807465, (1079, 393): 1.7416634364053607e-05, (1079, 645): 0.0022943252697587013, (1079, 786): 0.00036513787927106023, (1079, 795): 0.0010126129491254687, (1079, 999): 0.0006457889685407281, (1079, 1289): 0.00020922644762322307, (1079, 1295): 0.001708325115032494, (1079, 1452): 0.00041572051122784615, (1079, 2015): 0.00011137798719573766, (1079, 2068): 0.00016363845497835428, (1079, 2084): 0.00013378106814343482, (1079, 2085): 0.001318412134423852, (1080, 576): 0.003339081071317196, (1080, 1081): 0.0010940732900053263, (1080, 2091): 0.0013059647753834724, (1081, 98): 0.0018488200148567557, (1081, 284): 0.001502475468441844, (1081, 1080): 0.0014404188841581345, (1082, 170): 0.001678007422015071, (1082, 350): 0.0014097215607762337, (1082, 782): 0.005291851703077555, (1083, 170): 0.001450508600100875, (1083, 210): 0.0025590884033590555, (1083, 1084): 7.012123387539759e-05, (1084, 170): 0.0022802010644227266, (1084, 794): 0.0036759874783456326, (1084, 1083): 0.00012123759370297194, (1084, 1908): 0.009921141900122166, (1085, 652): 0.0, (1086, 1087): 0.0, (1086, 2090): 0.0, (1087, 1086): 0.0, (1088, 87): 0.004076153971254826, (1088, 88): 0.00019291555508971214, (1088, 1089): 0.00011221779277548194, (1088, 1118): 0.00044838956091552973, (1088, 1241): 0.00120352185331285, (1088, 1756): 0.0036724829114973545, (1088, 1941): 0.0016653344500809908, (1089, 88): 0.0, (1089, 1088): 0.0, (1090, 1568): 0.0, (1091, 882): 0.0, (1091, 2053): 0.0, (1092, 450): 0.0, (1092, 594): 0.0, (1092, 817): 0.0, (1092, 862): 0.0, (1093, 1126): 0.0, (1093, 1207): 0.0, (1094, 1605): 0.0, (1095, 817): 9.734242745196298e-09, (1095, 862): 3.355115296699296e-08, (1095, 938): 5.973233641043407e-08, (1095, 1021): 9.34433863619688e-09, (1095, 1069): 3.7033295541277766e-08, (1095, 1238): 3.55182816491606e-09, (1096, 1750): 0.0, (1097, 1750): 0.0, (1098, 154): 0.005392518825829029, (1098, 297): 0.00028124518576078117, (1098, 1099): 0.0005150071810930967, (1099, 128): 0.0005150075303390622, (1099, 154): 0.022632161155343056, (1099, 297): 0.022632161155343056, (1099, 1098): 0.00562627986073494, (1100, 1159): 0.0, (1100, 1859): 0.0, (1100, 1863): 0.0, (1100, 1864): 0.0, (1100, 1894): 0.0, (1101, 1750): 0.0, (1102, 1535): 0.0, (1102, 1837): 0.0, (1103, 1535): 0.0, (1104, 255): 0.0, (1105, 464): 0.009752270765602589, (1105, 1106): 0.0008235966088250279, (1105, 1678): 0.015603337436914444, (1106, 1105): 0.0008235964924097061, (1107, 1644): 0.0, (1108, 105): 0.0, (1108, 156): 0.0, (1108, 672): 0.0, (1109, 1110): 0.021481292322278023, (1109, 1523): 0.1344987004995346, (1110, 204): 0.005174220073968172, (1110, 1054): 0.00037201913073658943, (1110, 1109): 0.004763173870742321, (1110, 1523): 0.0009767708834260702, (1110, 1790): 0.010195105336606503, (1111, 122): 0.0, (1111, 1536): 0.0, (1111, 1795): 0.0, (1112, 662): 7.330221251322655e-06, (1112, 953): 2.539323304517893e-06, (1113, 397): 0.0, (1113, 949): 0.0, (1114, 411): 0.0, (1114, 1279): 0.0, (1115, 1039): 0.0020602841395884752, (1115, 1483): 0.0010538294445723295, (1116, 1178): 0.0, (1117, 52): 0.0, (1118, 39): 0.0007107873680070043, (1118, 275): 0.0003915298730134964, (1118, 1088): 0.0005404676776379347, (1119, 849): 0.0, (1119, 1379): 0.0, (1120, 161): 0.0, (1120, 1384): 0.0, (1121, 1122): 0.0, (1121, 1411): 0.0, (1122, 28): 0.0, (1122, 35): 0.0, (1122, 697): 0.0, (1122, 1121): 0.0, (1123, 1277): 6.881605077069253e-05, (1123, 1497): 0.00010033357830252498, (1124, 774): 0.0, (1125, 271): 0.0, (1126, 131): 0.0, (1126, 1093): 0.0, (1126, 1281): 0.0, (1126, 1681): 0.0, (1127, 1410): 0.0, (1127, 1604): 0.0, (1128, 316): 0.0, (1128, 812): 0.0, (1128, 967): 0.0, (1128, 994): 0.0, (1128, 1738): 0.0, (1129, 428): 0.0, (1130, 990): 0.0, (1130, 1656): 0.0, (1131, 324): 0.005765222012996674, (1131, 1409): 0.010555487126111984, (1131, 1846): 0.0016684018773958087, (1132, 220): 0.0, (1132, 452): 0.0, (1132, 987): 0.0, (1133, 1639): 0.0, (1134, 1340): 0.0, (1135, 1329): 0.0, (1136, 595): 0.009068876504898071, (1136, 668): 0.00831722654402256, (1136, 1001): 0.009317915886640549, (1136, 1056): 0.016034137457609177, (1137, 496): 0.0, (1137, 728): 0.0, (1137, 1376): 0.0, (1137, 1377): 0.0, (1137, 1755): 0.0, (1138, 351): 0.0, (1138, 432): 0.0, (1138, 1286): 0.0, (1139, 259): 0.0017673803959041834, (1139, 367): 0.0012536027934402227, (1139, 1654): 0.004679459147155285, (1139, 1750): 0.004856383427977562, (1140, 48): 0.008115101605653763, (1140, 1370): 0.018851248547434807, (1141, 48): 0.0004845550865866244, (1141, 647): 0.005831653717905283, (1141, 1142): 0.0069617582485079765, (1142, 647): 0.009151308797299862, (1142, 1141): 0.013277968391776085, (1143, 228): 0.0, (1143, 1145): 0.0, (1143, 1648): 0.0, (1144, 317): 0.008157914504408836, (1144, 403): 0.004840333480387926, (1144, 559): 0.0011810763971880078, (1144, 575): 0.00040060735773295164, (1144, 592): 0.003088215133175254, (1144, 1194): 0.008480262942612171, (1144, 1195): 0.015264215879142284, (1144, 1238): 0.0032044965773820877, (1144, 1452): 0.01080210879445076, (1145, 228): 0.0, (1145, 1143): 0.0, (1145, 2062): 0.0, (1146, 1194): 0.0018161481712013483, (1146, 1196): 0.001489926129579544, (1146, 1197): 0.002018530620262027, (1146, 1289): 0.021676231175661087, (1146, 1355): 0.015762731432914734, (1146, 1453): 0.025252146646380424, (1147, 817): 0.0, (1147, 862): 0.0, (1148, 1422): 0.0033322484232485294, (1148, 1423): 0.012865493074059486, (1149, 171): 0.0, (1149, 231): 0.0, (1150, 1468): 0.0, (1150, 2098): 0.0, (1151, 838): 0.0, (1151, 1351): 0.0, (1151, 1468): 0.0, (1151, 1547): 0.0, (1151, 1613): 0.0, (1152, 72): 0.0, (1152, 95): 0.0, (1152, 121): 0.0, (1152, 129): 0.0, (1152, 187): 0.0, (1152, 1511): 0.0, (1152, 1631): 0.0, (1152, 2040): 0.0, (1152, 2086): 0.0, (1153, 1377): 0.0, (1154, 30): 0.0007566369604319334, (1154, 39): 0.002622726373374462, (1154, 156): 0.008938044309616089, (1154, 389): 0.016765376552939415, (1154, 466): 0.0010102186352014542, (1154, 1233): 0.002177055226638913, (1155, 256): 0.0, (1155, 530): 0.0, (1155, 646): 0.0, (1155, 1156): 0.0, (1155, 1798): 0.0, (1155, 1871): 0.0, (1155, 1954): 0.0, (1156, 256): 0.0, (1156, 625): 0.0, (1156, 646): 0.0, (1156, 1155): 0.0, (1156, 1853): 0.0, (1157, 908): 0.0005331023712642491, (1157, 1218): 9.430166392121464e-05, (1158, 1341): 0.0, (1158, 2007): 0.0, (1159, 1100): 0.004493083339184523, (1159, 1230): 0.0021566294599324465, (1159, 1410): 0.001898462069220841, (1159, 1699): 0.0017407615669071674, (1159, 1757): 0.0018644076772034168, (1159, 2078): 0.0027399142272770405, (1160, 157): 0.0015058360295370221, (1160, 268): 0.001958043547347188, (1160, 904): 0.00019880181935150176, (1160, 999): 0.00262183859013021, (1160, 1161): 0.0010172704933211207, (1160, 1720): 0.0011482711415737867, (1160, 2085): 0.0029351559933274984, (1161, 454): 0.0005651030805893242, (1161, 1160): 0.0004521676164586097, (1162, 1795): 0.0, (1163, 620): 0.0, (1163, 759): 0.0, (1163, 1885): 0.0, (1163, 1886): 0.0, (1164, 136): 0.0, (1164, 588): 0.0, (1164, 989): 0.0, (1164, 1001): 0.0, (1164, 1403): 0.0, (1164, 1717): 0.0, (1165, 862): 0.0, (1165, 1869): 0.0, (1166, 23): 0.0, (1166, 844): 0.0, (1167, 1008): 0.0, (1168, 24): 0.0, (1168, 1574): 0.0, (1169, 962): 0.0, (1170, 941): 0.0, (1170, 949): 0.0, (1170, 1548): 0.0, (1171, 173): 0.0, (1171, 410): 0.0, (1171, 540): 0.0, (1171, 544): 0.0, (1171, 902): 0.0, (1171, 1617): 0.0, (1171, 1619): 0.0, (1172, 453): 2.749287523329258e-05, (1172, 1672): 0.0034919336903840303, (1172, 2026): 0.0013938522897660732, (1173, 609): 0.0, (1173, 1379): 0.0, (1173, 1401): 0.0, (1174, 1054): 0.02345191314816475, (1175, 1462): 0.003631671192124486, (1176, 793): 0.002886739559471607, (1176, 803): 0.0035833115689456463, (1177, 265): 0.0, (1177, 364): 0.0, (1177, 787): 0.0, (1177, 1905): 0.0, (1178, 335): 0.0027730201836675406, (1178, 1116): 0.0027730201836675406, (1178, 1614): 0.00029695083503611386, (1178, 2049): 0.0037504166830331087, (1179, 1762): 0.0, (1180, 388): 0.0, (1180, 598): 0.0, (1180, 1001): 0.0, (1180, 1059): 0.0, (1180, 1609): 0.0, (1180, 1610): 0.0, (1180, 1668): 0.0, (1181, 424): 0.0, (1181, 660): 0.0, (1181, 1182): 0.0, (1182, 83): 0.0, (1182, 447): 0.0, (1182, 660): 0.0, (1182, 1181): 0.0, (1182, 1183): 0.0, (1182, 1355): 0.0, (1182, 1635): 0.0, (1183, 601): 0.0, (1183, 1182): 0.0, (1184, 90): 0.0, (1184, 1503): 0.0, (1184, 2020): 0.0, (1185, 401): 0.0, (1186, 118): 0.0, (1186, 1219): 0.0, (1187, 176): 0.0, (1187, 293): 0.0, (1187, 1027): 0.0, (1187, 1255): 0.0, (1187, 1283): 0.0, (1187, 1425): 0.0, (1187, 1803): 0.0, (1188, 1445): 0.0, (1189, 723): 0.0, (1190, 888): 0.0110710384324193, (1190, 1035): 0.0016570560401305556, (1190, 1388): 0.012912845239043236, (1191, 91): 0.0019753053784370422, (1191, 274): 0.004132974427193403, (1191, 524): 0.001807479653507471, (1191, 628): 2.6979250833392143e-05, (1191, 1074): 0.009438727051019669, (1191, 1075): 0.0064183929935097694, (1191, 1333): 0.007351940032094717, (1191, 1334): 0.0017167333280667663, (1191, 1337): 0.0007966380217112601, (1191, 1338): 0.0036379676312208176, (1191, 1339): 0.003257441334426403, (1192, 688): 0.0, (1192, 1333): 0.0, (1193, 242): 0.0, (1193, 545): 0.0, (1193, 1289): 0.0, (1193, 1452): 0.0, (1193, 1453): 0.0, (1194, 448): 0.004607843700796366, (1194, 1144): 0.001335609471425414, (1194, 1146): 0.002454830100759864, (1194, 1195): 0.0007380851893685758, (1194, 1196): 0.002733389614149928, (1194, 1289): 0.0008240474271588027, (1194, 1452): 0.0016375244595110416, (1194, 1453): 0.0006718909717164934, (1194, 1740): 0.004166615195572376, (1195, 98): 0.00864783301949501, (1195, 388): 0.008508330211043358, (1195, 447): 0.003355975728482008, (1195, 588): 0.006198899354785681, (1195, 862): 0.009437737986445427, (1195, 983): 0.00029065023409202695, (1195, 1144): 0.0009495739359408617, (1195, 1194): 0.007273466791957617, (1195, 1434): 0.000712722772732377, (1195, 1717): 0.006198899354785681, (1196, 242): 0.0020533022470772266, (1196, 702): 0.0012912468519061804, (1196, 796): 0.00010101741645485163, (1196, 1146): 0.002454830100759864, (1196, 1194): 0.006417179945856333, (1196, 1289): 0.0008240474271588027, (1196, 1452): 0.0016375244595110416, (1196, 1453): 0.0006718909717164934, (1197, 796): 0.00010101741645485163, (1197, 1146): 0.002454830100759864, (1197, 1289): 0.0008240474271588027, (1197, 1453): 0.0006718909717164934, (1197, 1454): 0.0020332562271505594, (1198, 211): 0.0012048239586874843, (1199, 862): 0.0, (1199, 1815): 0.0, (1200, 1201): 0.0, (1201, 117): 0.0, (1201, 633): 0.0, (1201, 840): 0.0, (1201, 943): 0.0, (1201, 1200): 0.0, (1202, 85): 0.0, (1202, 199): 0.0, (1202, 626): 0.0, (1203, 558): 0.0, (1204, 1564): 0.03757499158382416, (1204, 1922): 0.015068015083670616, (1204, 2032): 0.0018559865420684218, (1205, 1597): 0.0, (1205, 1697): 0.0, (1206, 1634): 0.0013254712102934718, (1206, 1635): 0.0007644566940143704, (1206, 1699): 0.0007692166254855692, (1206, 1817): 0.00011158559937030077, (1207, 985): 0.0, (1207, 1093): 0.0, (1208, 1271): 0.0, (1209, 859): 0.0, (1209, 860): 0.0, (1209, 1574): 0.0, (1209, 1648): 0.0, (1210, 239): 0.0, (1210, 519): 0.0, (1210, 558): 0.0, (1210, 1584): 0.0, (1210, 1716): 0.0, (1210, 1818): 0.0, (1211, 620): 0.0, (1211, 759): 0.0, (1211, 1212): 0.0, (1212, 620): 0.0, (1212, 759): 0.0, (1212, 1211): 0.0, (1213, 425): 0.0, (1213, 1013): 0.0, (1213, 1572): 0.0, (1214, 1497): 0.0, (1215, 484): 0.0, (1216, 401): 0.0, (1216, 1283): 0.0, (1216, 1750): 0.0, (1217, 670): 0.0, (1218, 123): 0.0, (1218, 1157): 0.0, (1218, 1778): 0.0, (1218, 1779): 0.0, (1219, 1186): 0.0, (1220, 311): 0.0, (1220, 360): 0.0, (1220, 1726): 0.0, (1220, 1770): 0.0, (1221, 283): 0.0017979925032705069, (1221, 486): 0.0003521291655488312, (1221, 552): 0.0076623037457466125, (1221, 631): 0.0005788733251392841, (1221, 857): 0.0034197657369077206, (1221, 860): 0.002182191237807274, (1222, 0): 0.0, (1222, 220): 0.0, (1223, 160): 0.00068250996991992, (1223, 452): 0.0010300260037183762, (1223, 904): 0.0002993545786011964, (1223, 946): 0.000592828553635627, (1223, 999): 0.0039278785698115826, (1224, 1322): 0.0, (1225, 62): 0.0003928814548999071, (1225, 286): 0.0002522329450584948, (1225, 444): 0.00016743899323046207, (1225, 815): 0.00035094423219561577, (1225, 1429): 0.0009001983562484384, (1225, 1832): 0.0006610475247725844, (1225, 1939): 7.887183528509922e-06, (1226, 28): 0.0024122584145516157, (1226, 32): 0.0008909436874091625, (1226, 35): 0.0009270095033571124, (1226, 39): 0.0007107873680070043, (1226, 697): 0.002492426661774516, (1226, 830): 0.0014986514579504728, (1227, 5): 0.0, (1227, 279): 0.0, (1227, 650): 0.0, (1227, 1333): 0.0, (1227, 2038): 0.0, (1228, 1674): 0.0, (1229, 529): 0.0, (1229, 1347): 0.0, (1230, 1159): 0.005605865269899368, (1230, 1921): 0.002156256465241313, (1231, 12): 0.0, (1231, 659): 0.0, (1231, 1531): 0.0, (1231, 2007): 0.0, (1232, 689): 0.0, (1232, 692): 0.0, (1233, 30): 0.0, (1233, 156): 0.0, (1233, 1154): 0.0, (1234, 555): 0.0, (1234, 556): 0.0, (1234, 1235): 0.0, (1235, 1234): 0.0, (1235, 1605): 0.0, (1236, 331): 0.0, (1236, 333): 0.0, (1236, 340): 0.0, (1236, 353): 0.0, (1237, 328): 0.0, (1237, 867): 0.0, (1238, 655): 7.095170531101758e-07, (1238, 1095): 1.4793831049075834e-08, (1238, 1144): 1.0844664188880415e-07, (1239, 191): 0.0069082872942090034, (1239, 1240): 0.006632286123931408, (1240, 361): 0.0, (1240, 1239): 0.0, (1241, 1088): 0.0, (1242, 10): 0.006128935143351555, (1242, 514): 0.003749898402020335, (1242, 737): 0.005554663948714733, (1242, 1495): 0.0018312986940145493, (1242, 2054): 0.0013566972920671105, (1243, 209): 7.186711226125908e-09, (1243, 354): 3.4663809600488094e-08, (1243, 902): 4.051430124718536e-08, (1243, 907): 2.2469645699629837e-08, (1243, 960): 2.9181286276269702e-09, (1244, 670): 0.0, (1245, 760): 0.004089619964361191, (1245, 1772): 0.0056550465524196625, (1246, 76): 0.0, (1246, 89): 0.0, (1246, 327): 0.0, (1246, 546): 0.0, (1246, 864): 0.0, (1246, 1040): 0.0, (1246, 1285): 0.0, (1246, 1428): 0.0, (1246, 1531): 0.0, (1247, 1249): 0.0, (1247, 1750): 0.0, (1248, 1249): 0.0, (1248, 1750): 0.0, (1249, 1247): 0.0, (1249, 1248): 0.0, (1249, 1750): 0.0, (1249, 1910): 0.0, (1250, 161): 0.0, (1250, 839): 0.0, (1250, 949): 0.0, (1250, 1262): 0.0, (1250, 1486): 0.0, (1250, 1630): 0.0, (1251, 404): 0.0013912899885326624, (1251, 1041): 0.0019671875052154064, (1252, 144): 7.43214187119366e-21, (1252, 224): 2.794833909724128e-20, (1252, 718): 1.1246940528749103e-20, (1252, 746): 1.3133271793507297e-20, (1252, 862): 1.5369335667487765e-20, (1252, 938): 3.6343559923929615e-20, (1252, 1021): 8.499974688656366e-21, (1252, 1271): 2.6567204352632013e-20, (1253, 384): 2.3431152081379776e-23, (1253, 755): 2.3431152081379776e-23, (1253, 1254): 1.040302272378976e-23, (1254, 63): 7.282912404717692e-26, (1254, 1253): 5.517392395026491e-26, (1255, 1187): 0.0027009767945855856, (1255, 1405): 0.0031992318108677864, (1256, 53): 0.0, (1256, 915): 0.0, (1256, 1724): 0.0, (1257, 662): 0.00021764975099358708, (1258, 701): 0.0, (1259, 14): 0.0, (1259, 1390): 0.0, (1260, 158): 0.007461488246917725, (1260, 1749): 0.01968291588127613, (1260, 1753): 0.009692232124507427, (1261, 85): 0.0, (1261, 726): 0.0, (1261, 1001): 0.0, (1262, 121): 0.0, (1262, 1250): 0.0, (1262, 1511): 0.0, (1263, 451): 0.0, (1263, 456): 0.0, (1263, 850): 0.0, (1263, 966): 0.0, (1263, 2076): 0.0, (1264, 483): 0.0, (1264, 850): 0.0, (1265, 463): 0.0, (1265, 539): 0.0, (1265, 1053): 0.0, (1266, 1714): 0.001364313531666994, (1266, 1766): 0.00143024034332484, (1267, 1659): 0.0, (1267, 1766): 0.0, (1268, 1375): 0.0, (1269, 469): 0.0, (1269, 1752): 0.0, (1270, 573): 0.0, (1270, 1471): 0.0, (1271, 420): 2.2577199987920346e-16, (1271, 421): 6.754709765900333e-16, (1271, 550): 6.374940955812091e-16, (1271, 862): 2.4514454335541576e-16, (1271, 892): 4.6026413777594093e-17, (1271, 1208): 3.133802735065809e-16, (1271, 1252): 1.0365228202334579e-16, (1271, 1342): 3.9593996607052674e-16, (1271, 1464): 7.002148206825811e-16, (1271, 1612): 3.7118143125029995e-16, (1271, 1867): 2.9025050363458535e-16, (1272, 380): 0.004574392922222614, (1272, 382): 0.003864309284836054, (1272, 735): 0.0044037229381501675, (1272, 736): 0.003600567579269409, (1272, 737): 3.125381772406399e-05, (1272, 738): 0.004872933495789766, (1272, 1916): 0.0048584588803350925, (1273, 13): 0.0, (1273, 989): 0.0, (1273, 1716): 0.0, (1273, 1833): 0.0, (1274, 1275): 0.0, (1275, 1274): 0.0, (1275, 1904): 0.0, (1276, 37): 9.821014828048646e-07, (1276, 458): 6.644005770795047e-05, (1276, 823): 0.0001952287566382438, (1276, 1277): 6.892713281558827e-05, (1276, 1950): 0.0001967102289199829, (1277, 37): 0.000655887764878571, (1277, 823): 0.000655887764878571, (1277, 1123): 0.0001691496727289632, (1277, 1276): 0.0003933753177989274, (1277, 1691): 4.955670374329202e-05, (1277, 1950): 0.0005694954888895154, (1278, 341): 0.0, (1278, 1279): 0.0, (1278, 1483): 0.0, (1279, 324): 0.002556521212682128, (1279, 364): 0.011378983035683632, (1279, 407): 0.006738484371453524, (1279, 1114): 0.0033496564719825983, (1279, 1278): 0.011513931676745415, (1280, 45): 0.0, (1280, 69): 0.0, (1280, 149): 0.0, (1280, 336): 0.0, (1280, 913): 0.0, (1280, 2043): 0.0, (1281, 1126): 0.0, (1282, 1284): 0.0026502017863094807, (1282, 1350): 0.010944193229079247, (1282, 2000): 0.0026951883919537067, (1283, 145): 0.0, (1283, 613): 0.0, (1283, 1187): 0.0, (1283, 1216): 0.0, (1283, 2013): 0.0, (1283, 2031): 0.0, (1283, 2032): 0.0, (1284, 1282): 0.01089920848608017, (1284, 2013): 0.008939482271671295, (1285, 514): 0.0009672676678746939, (1285, 651): 0.001724865403957665, (1285, 694): 0.0010729280766099691, (1285, 797): 0.0013493101578205824, (1285, 908): 0.0019469716353341937, (1285, 1246): 0.003107697470113635, (1285, 1912): 0.0018971406389027834, (1285, 1925): 0.0028511486016213894, (1286, 307): 0.0, (1286, 1138): 0.0, (1286, 1692): 0.0, (1287, 846): 0.0, (1287, 1938): 0.0, (1288, 243): 0.0, (1288, 691): 0.0, (1288, 692): 0.0, (1288, 915): 0.0, (1288, 916): 0.0, (1288, 918): 0.0, (1289, 17): 0.012097476981580257, (1289, 144): 0.005355413071811199, (1289, 181): 0.011753006838262081, (1289, 1018): 0.009646449238061905, (1289, 1078): 0.007279796991497278, (1289, 1079): 0.0022163449320942163, (1289, 1146): 0.0048896842636168, (1289, 1193): 0.002799260662868619, (1289, 1194): 0.012783629819750786, (1289, 1196): 0.0054441820830106735, (1289, 1197): 0.006876489147543907, (1289, 1310): 0.0067533571273088455, (1289, 1400): 0.002098971512168646, (1289, 1440): 0.004785650409758091, (1289, 1481): 0.012491248548030853, (1289, 1554): 0.014513532631099224, (1289, 1856): 0.011102842167019844, (1289, 1973): 0.00013795355334877968, (1289, 2083): 0.01634819246828556, (1289, 2084): 0.0010521794902160764, (1289, 2085): 0.01034945622086525, (1290, 320): 0.0, (1291, 320): 0.0, (1292, 320): 0.0, (1293, 326): 0.00893848855048418, (1293, 557): 0.0006022218149155378, (1293, 739): 0.0027497627306729555, (1293, 1390): 0.014841901138424873, (1293, 1910): 0.004118532873690128, (1294, 552): 0.0, (1295, 218): 0.0, (1295, 522): 0.0, (1295, 619): 0.0, (1295, 796): 0.0, (1295, 862): 0.0, (1295, 1079): 0.0, (1295, 1453): 0.0, (1295, 1454): 0.0, (1295, 1455): 0.0, (1295, 1928): 0.0, (1295, 2090): 0.0, (1296, 303): 0.0, (1296, 1297): 0.0, (1297, 1296): 0.0, (1297, 1711): 0.0, (1298, 1299): 0.0, (1298, 1301): 0.0, (1298, 1311): 0.0, (1299, 114): 0.0, (1299, 537): 0.0, (1299, 1298): 0.0, (1299, 1301): 0.0, (1299, 1302): 0.0, (1300, 716): 0.0, (1300, 888): 0.0, (1300, 2058): 0.0, (1301, 1298): 0.0, (1301, 1299): 0.0, (1301, 1302): 0.0, (1301, 1303): 0.0, (1302, 1299): 0.0, (1302, 1301): 0.0, (1302, 1303): 0.0, (1303, 114): 0.0, (1303, 536): 0.0, (1303, 537): 0.0, (1303, 1301): 0.0, (1303, 1302): 0.0, (1304, 159): 0.002494754968211055, (1304, 220): 0.0012368804309517145, (1304, 1305): 0.0006994251743890345, (1305, 159): 0.002494754968211055, (1305, 1304): 0.0007827390218153596, (1306, 364): 0.0, (1306, 787): 0.0, (1306, 1574): 0.0, (1307, 797): 0.0053321486338973045, (1307, 1066): 0.0005922723212279379, (1307, 1308): 0.003542443737387657, (1307, 2061): 0.00688493438065052, (1308, 791): 0.0007841955521143973, (1308, 834): 0.0009942603064700961, (1308, 1307): 0.003752507735043764, (1309, 55): 0.0, (1309, 1971): 0.0, (1310, 425): 0.0, (1310, 655): 0.0, (1310, 1003): 0.0, (1310, 1289): 0.0, (1311, 188): 9.120739150603185e-07, (1311, 531): 6.415569259843323e-06, (1311, 553): 1.6299718481604941e-06, (1311, 632): 5.7756551541388035e-06, (1311, 878): 1.978441787287011e-06, (1311, 889): 3.6951491892978083e-06, (1311, 1035): 6.9339771471277345e-06, (1311, 1038): 1.0134798685612623e-05, (1311, 1298): 5.208252332522534e-06, (1311, 1569): 5.55895621801028e-06, (1311, 2055): 1.3411616237135604e-05, (1311, 2056): 3.88878834201023e-06, (1311, 2069): 3.000482820425532e-06, (1311, 2080): 5.153140136826551e-06, (1311, 2089): 6.372664756781887e-06, (1311, 2108): 3.953382474719547e-06, (1312, 688): 0.0, (1312, 690): 0.0, (1313, 96): 0.0, (1313, 192): 0.0, (1313, 203): 0.0, (1313, 1314): 0.0, (1314, 1313): 0.0, (1314, 1329): 0.0, (1314, 1621): 0.0, (1315, 76): 0.0, (1316, 125): 0.0, (1316, 1806): 0.0, (1317, 1370): 0.0, (1318, 390): 0.0, (1318, 915): 0.0, (1318, 1696): 0.0, (1318, 2076): 0.0, (1319, 80): 0.0, (1319, 904): 0.0, (1319, 999): 0.0, (1319, 2015): 0.0, (1320, 8): 0.0, (1320, 308): 0.0, (1320, 662): 0.0, (1320, 686): 0.0, (1320, 1051): 0.0, (1320, 1555): 0.0, (1320, 1695): 0.0, (1321, 121): 0.003015494905412197, (1321, 941): 0.002217387082055211, (1321, 949): 0.0010921765351668, (1321, 1978): 0.00619222829118371, (1322, 109): 0.0, (1322, 207): 0.0, (1322, 414): 0.0, (1322, 516): 0.0, (1322, 622): 0.0, (1322, 1224): 0.0, (1322, 1829): 0.0, (1323, 1034): 0.0, (1323, 1810): 0.0, (1323, 2021): 0.0, (1324, 488): 0.0, (1324, 712): 0.0, (1324, 734): 0.0, (1324, 982): 0.0, (1324, 1785): 0.0, (1324, 1862): 0.0, (1325, 645): 0.0, (1326, 860): 0.0, (1327, 277): 0.003298201598227024, (1327, 636): 0.0028326534666121006, (1327, 919): 0.001381813664920628, (1327, 1461): 0.0017522858688607812, (1327, 1480): 0.004818920977413654, (1327, 1491): 0.015146676450967789, (1327, 1966): 0.012018552049994469, (1328, 99): 0.0, (1328, 1329): 0.0, (1329, 1135): 0.0, (1329, 1314): 0.0, (1329, 1328): 0.0, (1330, 508): 0.0, (1331, 508): 0.0, (1332, 40): 0.0, (1332, 456): 0.0, (1332, 483): 0.0, (1333, 79): 0.010104072280228138, (1333, 91): 0.0019753053784370422, (1333, 279): 0.0038426415994763374, (1333, 524): 0.001807479653507471, (1333, 628): 2.6979250833392143e-05, (1333, 634): 0.004087027627974749, (1333, 688): 0.0038853667210787535, (1333, 1074): 0.009438727051019669, (1333, 1075): 0.0064183929935097694, (1333, 1191): 0.006583862006664276, (1333, 1192): 0.006828213110566139, (1333, 1227): 0.0015024645254015923, (1333, 1334): 0.0017167333280667663, (1333, 1337): 0.0007966380217112601, (1333, 1338): 0.0036379676312208176, (1333, 1339): 0.003257441334426403, (1333, 1808): 0.006004169583320618, (1334, 688): 0.0, (1334, 1191): 0.0, (1334, 1333): 0.0, (1334, 1808): 0.0, (1335, 56): 0.0, (1335, 688): 0.0, (1335, 861): 0.0, (1335, 1368): 0.0, (1336, 1808): 0.0, (1337, 524): 0.001807479653507471, (1337, 628): 2.6979250833392143e-05, (1337, 1191): 0.006583862006664276, (1337, 1333): 0.007351940032094717, (1337, 1338): 0.0036379676312208176, (1337, 1339): 0.003257441334426403, (1338, 524): 0.02549143321812153, (1338, 628): 0.01907304860651493, (1338, 688): 0.07831327617168427, (1338, 1074): 0.02156589925289154, (1338, 1191): 0.025068344548344612, (1338, 1333): 0.01775214821100235, (1338, 1337): 0.016150780022144318, (1338, 1339): 0.014726215973496437, (1339, 524): 0.001807479653507471, (1339, 628): 2.6979250833392143e-05, (1339, 688): 0.0038853667210787535, (1339, 1191): 0.006583862006664276, (1339, 1333): 0.007351940032094717, (1339, 1337): 0.0007966380217112601, (1339, 1338): 0.0036379676312208176, (1340, 617): 0.0, (1340, 1134): 0.0, (1341, 380): 0.004574392922222614, (1341, 382): 0.003864309284836054, (1341, 735): 0.0044037229381501675, (1341, 736): 0.003600567579269409, (1341, 737): 3.125381772406399e-05, (1341, 738): 0.004872933495789766, (1341, 1158): 0.009017758071422577, (1342, 420): 0.0, (1342, 1271): 0.0, (1342, 1343): 0.0, (1342, 1665): 0.0, (1343, 655): 0.0, (1343, 1342): 0.0, (1343, 1665): 0.0, (1344, 851): 0.018688280135393143, (1344, 1536): 0.005159679334610701, (1344, 1537): 0.010343996807932854, (1345, 400): 0.0, (1345, 501): 0.0, (1345, 1348): 0.0, (1345, 1488): 0.0, (1346, 2062): 0.0, (1347, 1229): 0.0, (1348, 104): 0.0027871793136000633, (1348, 111): 0.0002072542265523225, (1348, 176): 0.006646125577390194, (1348, 215): 0.0013720225542783737, (1348, 314): 0.0039585367776453495, (1348, 346): 0.0023252370301634073, (1348, 551): 9.606783714843914e-05, (1348, 613): 0.0031553427688777447, (1348, 709): 0.005269411951303482, (1348, 710): 0.0034974238369613886, (1348, 791): 0.0031349286437034607, (1348, 1345): 0.0007796087884344161, (1348, 1390): 0.0036214191932231188, (1348, 1392): 0.0018278496572747827, (1348, 1425): 0.00020097172819077969, (1348, 1673): 0.004314310848712921, (1348, 1674): 0.0002125870669260621, (1348, 1687): 0.0021157003939151764, (1348, 1735): 0.004637204110622406, (1348, 1803): 0.007632912136614323, (1348, 1866): 0.0009706211276352406, (1348, 1934): 0.008965862914919853, (1348, 2079): 0.006417474709451199, (1349, 1694): 0.0, (1350, 119): 0.0072629149071872234, (1350, 613): 0.0010653012432157993, (1350, 1282): 0.01207652222365141, (1350, 2109): 0.00011184012691956013, (1351, 941): 0.0, (1351, 1151): 0.0, (1351, 1842): 0.0, (1352, 85): 0.0, (1352, 445): 0.0, (1352, 1353): 0.0, (1352, 1396): 0.0, (1353, 42): 0.0, (1353, 1352): 0.0, (1354, 534): 0.0, (1355, 85): 0.0018801615806296468, (1355, 445): 0.010304558090865612, (1355, 447): 0.003759626764804125, (1355, 1146): 0.00222747097723186, (1355, 1182): 0.0008728388347662985, (1355, 1523): 0.0051128314808011055, (1355, 1633): 0.005608586594462395, (1355, 1930): 0.0075961146503686905, (1355, 2065): 0.007477075792849064, (1355, 2066): 0.006663130596280098, (1356, 481): 0.0, (1356, 1870): 0.0, (1357, 2): 0.0, (1357, 674): 0.0, (1357, 1366): 0.0, (1358, 276): 0.0, (1358, 2091): 0.0, (1359, 858): 0.00539484852924943, (1360, 494): 0.0023131456691771746, (1360, 858): 0.00539484852924943, (1360, 2016): 0.005780133884400129, (1361, 90): 0.0, (1362, 13): 0.010817357338964939, (1362, 366): 0.001341208815574646, (1362, 1600): 0.00927078165113926, (1363, 658): 0.0025026327930390835, (1363, 825): 6.105493230279535e-05, (1363, 1437): 0.0007472462602891028, (1363, 1948): 0.00831751897931099, (1363, 2062): 0.0003393895458430052, (1364, 1365): 0.0, (1364, 1777): 0.0, (1365, 1033): 0.0, (1365, 1364): 0.0, (1365, 1884): 0.0, (1365, 2053): 0.0, (1366, 2): 0.0, (1366, 1357): 0.0, (1366, 1992): 0.0, (1367, 870): 0.012519861571490765, (1368, 5): 0.0, (1368, 56): 0.0, (1368, 79): 0.0, (1368, 650): 0.0, (1368, 1335): 0.0, (1369, 418): 0.0, (1369, 692): 0.0, (1370, 183): 0.005199245177209377, (1370, 1140): 0.005151958670467138, (1370, 1317): 0.002392977010458708, (1370, 1418): 0.007124646101146936, (1370, 1419): 0.002067797351628542, (1370, 1804): 0.003114685881882906, (1370, 1805): 0.006142330355942249, (1370, 1809): 0.0008522933349013329, (1370, 2039): 0.0019897576421499252, (1371, 299): 0.0, (1371, 921): 0.0, (1372, 541): 0.0, (1372, 892): 0.0, (1373, 350): 0.00012223786325193942, (1374, 1979): 0.0008895375649444759, (1375, 1070): 0.0, (1375, 1268): 0.0, (1376, 1137): 0.0, (1376, 1755): 0.0, (1377, 1137): 0.0, (1377, 1153): 0.0, (1377, 1755): 0.0, (1378, 486): 0.0, (1378, 510): 0.0, (1378, 552): 0.0, (1378, 579): 0.0, (1378, 1787): 0.0, (1378, 1963): 0.0, (1379, 71): 0.0, (1379, 601): 0.0, (1379, 620): 0.0, (1379, 664): 0.0, (1379, 759): 0.0, (1379, 831): 0.0, (1379, 1057): 0.0, (1379, 1119): 0.0, (1379, 1173): 0.0, (1379, 2101): 0.0, (1380, 417): 0.0, (1380, 1381): 0.0, (1381, 1380): 0.0, (1381, 1392): 0.0, (1381, 1972): 0.0, (1382, 665): 0.0, (1383, 665): 0.0, (1384, 1120): 0.0, (1385, 452): 3.749238999262161e-07, (1385, 786): 1.9259915973179886e-07, (1385, 795): 1.3131770515428798e-07, (1385, 944): 1.709360191171072e-07, (1385, 1554): 4.968064182264698e-09, (1386, 214): 4.267413927551433e-16, (1386, 862): 5.743079470511446e-15, (1387, 1677): 0.0, (1388, 188): 0.0009610691340640187, (1388, 500): 0.00041053188033401966, (1388, 504): 0.0024992090184241533, (1388, 553): 0.0014908884186297655, (1388, 742): 0.0012986211804673076, (1388, 1038): 0.005648870021104813, (1388, 1190): 9.120197501033545e-05, (1388, 1389): 0.0024175094440579414, (1388, 1492): 0.0012207332765683532, (1388, 1569): 0.0018499824218451977, (1388, 1830): 5.156587576493621e-05, (1388, 2055): 0.005986575502902269, (1388, 2056): 0.00043527298839762807, (1388, 2062): 0.0024821313563734293, (1388, 2089): 0.003187630558386445, (1388, 2108): 0.00046682951506227255, (1389, 114): 0.0, (1389, 1388): 0.0, (1389, 1824): 0.0, (1389, 2062): 0.0, (1390, 106): 0.006370524410158396, (1390, 175): 0.004743736237287521, (1390, 247): 0.006848506163805723, (1390, 468): 0.0005804101238027215, (1390, 487): 0.002904727356508374, (1390, 709): 0.009362568147480488, (1390, 710): 0.006212030537426472, (1390, 739): 0.004643965512514114, (1390, 740): 0.006097861099988222, (1390, 1259): 0.00991747621446848, (1390, 1293): 0.0017681859899312258, (1390, 1348): 0.005425289273262024, (1390, 1413): 0.00024690464488230646, (1390, 1504): 0.008302554488182068, (1390, 1526): 0.00018352677579969168, (1390, 1728): 0.0033298409543931484, (1390, 1729): 0.004076220560818911, (1390, 1762): 0.0002765333920251578, (1390, 1830): 0.0021229733247309923, (1390, 1897): 0.00830188486725092, (1390, 1910): 0.004644750617444515, (1390, 1997): 0.0004894923768006265, (1391, 1830): 3.843724698526785e-05, (1392, 16): 0.0, (1392, 53): 0.0, (1392, 60): 0.0, (1392, 1348): 0.0, (1392, 1381): 0.0, (1392, 1721): 0.0, (1392, 1775): 0.0, (1393, 1480): 0.0, (1394, 1049): 0.0, (1395, 722): 0.0, (1396, 445): 0.0, (1396, 1352): 0.0, (1397, 89): 0.0, (1397, 1428): 0.0, (1397, 1509): 0.0, (1397, 1510): 0.0, (1397, 1603): 0.0, (1397, 1952): 0.0, (1398, 1399): 0.0026978051755577326, (1399, 1038): 0.0034604379907250404, (1399, 1398): 0.002697804942727089, (1400, 63): 0.0066384077072143555, (1400, 317): 0.008157867938280106, (1400, 572): 0.004618329927325249, (1400, 609): 0.010788751766085625, (1400, 862): 0.00826939381659031, (1400, 938): 0.0056178150698542595, (1400, 1289): 0.000569839496165514, (1400, 1453): 0.005261627491563559, (1400, 1454): 0.00248810276389122, (1400, 1456): 0.0030450494959950447, (1400, 1599): 0.0001502999512013048, (1400, 1668): 0.002640445251017809, (1401, 317): 0.008157867938280106, (1401, 572): 0.004618329927325249, (1401, 862): 0.00826939381659031, (1401, 938): 0.0056178150698542595, (1401, 1173): 0.003346919547766447, (1401, 1454): 0.00248810276389122, (1402, 124): 0.0, (1403, 136): 0.0, (1403, 1164): 0.0, (1403, 1640): 0.0, (1404, 30): 0.0, (1404, 132): 0.0, (1404, 156): 0.0, (1404, 244): 0.0, (1405, 293): 0.005900211166590452, (1405, 1255): 0.005900211166590452, (1406, 436): 0.0, (1406, 455): 0.0, (1406, 512): 0.0, (1407, 489): 0.0, (1407, 721): 0.0, (1407, 1408): 0.0, (1407, 2008): 0.0, (1408, 1407): 0.0, (1408, 2008): 0.0, (1409, 312): 0.0067718783393502235, (1409, 1131): 0.007239489816129208, (1409, 1846): 0.006274587474763393, (1409, 1959): 0.008477861061692238, (1410, 595): 0.009068876504898071, (1410, 655): 0.010407915338873863, (1410, 817): 0.000718377938028425, (1410, 836): 0.008055717684328556, (1410, 837): 0.008647648617625237, (1410, 862): 0.011118541471660137, (1410, 914): 0.0004130980232730508, (1410, 1069): 0.006732008419930935, (1410, 1127): 0.008583080023527145, (1410, 1159): 0.012367316521704197, (1410, 1475): 0.0031460821628570557, (1410, 1590): 0.0013521031942218542, (1410, 1668): 0.0017155203968286514, (1410, 1732): 0.0005629638908430934, (1410, 1894): 0.01086561381816864, (1411, 1121): 0.0, (1412, 1435): 0.0, (1413, 190): 0.0, (1413, 197): 0.0, (1413, 1390): 0.0, (1414, 649): 0.0, (1414, 757): 0.0, (1415, 859): 0.01328914612531662, (1415, 1521): 0.0020521588157862425, (1416, 1417): 0.0, (1417, 39): 0.0007107873680070043, (1417, 132): 0.002110948320478201, (1417, 244): 0.0003328385064378381, (1417, 683): 0.0005601131706498563, (1417, 1416): 0.0013862911146134138, (1417, 1877): 0.0006339972605928779, (1418, 675): 0.0, (1418, 1370): 0.0, (1418, 1419): 0.0, (1418, 1804): 0.0, (1418, 1805): 0.0, (1418, 1806): 0.0, (1419, 125): 0.0, (1419, 847): 0.0, (1419, 1370): 0.0, (1419, 1418): 0.0, (1419, 1804): 0.0, (1419, 1805): 0.0, (1420, 1626): 0.0, (1421, 1450): 0.001197430188767612, (1421, 1903): 0.0008644039044156671, (1422, 1148): 0.01619773916900158, (1422, 1423): 0.029917355626821518, (1423, 62): 0.004092157818377018, (1423, 254): 0.001021206029690802, (1423, 862): 0.004205061588436365, (1423, 938): 0.011597903445363045, (1423, 1148): 0.0010905058588832617, (1423, 1422): 0.003538575256243348, (1423, 1970): 0.0018615928711369634, (1423, 2091): 0.006470849737524986, (1424, 518): 0.007967624813318253, (1424, 529): 0.007491931319236755, (1424, 538): 0.007967624813318253, (1424, 568): 0.007967624813318253, (1425, 16): 1.4640642802987713e-05, (1425, 233): 2.01282705347694e-06, (1425, 503): 2.9257225833134726e-05, (1425, 551): 1.0186969120695721e-05, (1425, 1187): 2.77198842013604e-06, (1425, 1348): 2.786504410323687e-05, (1426, 71): 0.0, (1426, 655): 0.0, (1427, 513): 0.0, (1427, 850): 0.0, (1427, 2010): 0.0, (1427, 2043): 0.0, (1428, 66): 8.229118206087502e-15, (1428, 598): 5.5179236288678546e-14, (1428, 602): 9.878389610213506e-15, (1428, 731): 3.5258454549004156e-14, (1428, 987): 3.645707054387298e-14, (1428, 1246): 4.234860820850027e-14, (1428, 1397): 1.719062175595254e-14, (1428, 1429): 4.167682637803288e-14, (1428, 1430): 5.71063514401629e-14, (1428, 1452): 1.9663610678426723e-14, (1428, 1604): 2.3386813454784675e-14, (1428, 1746): 2.1063835761335123e-14, (1428, 1887): 2.2581300368538886e-14, (1428, 1894): 3.2204409495042996e-14, (1429, 89): 0.0054526482708752155, (1429, 162): 0.007902327924966812, (1429, 630): 0.009098734706640244, (1429, 815): 0.001432300778105855, (1429, 974): 0.009202858433127403, (1429, 1003): 0.0002096756361424923, (1429, 1225): 0.0028940781485289335, (1429, 1428): 0.006277749314904213, (1429, 1602): 0.010551756247878075, (1429, 1604): 0.002246659016236663, (1429, 1859): 0.0011559256818145514, (1429, 1894): 0.010865614749491215, (1430, 89): 0.0, (1430, 1003): 0.0, (1430, 1428): 0.0, (1430, 1602): 0.0, (1430, 1604): 0.0, (1430, 1859): 0.0, (1430, 1894): 0.0, (1431, 462): 0.0, (1431, 1445): 0.0, (1432, 785): 0.0, (1432, 1624): 0.0, (1433, 448): 6.28321798141541e-15, (1433, 1740): 4.272237674306928e-15, (1434, 1195): 0.0428554005920887, (1435, 786): 0.0, (1435, 1412): 0.0, (1436, 0): 0.004219570197165012, (1436, 613): 0.034197282046079636, (1436, 1437): 0.03344380483031273, (1437, 0): 0.0035607926547527313, (1437, 340): 0.003956054802983999, (1437, 571): 0.011366310529410839, (1437, 1044): 0.0033546066842973232, (1437, 1060): 0.012403499335050583, (1437, 1076): 0.009041445329785347, (1437, 1363): 0.008779714815318584, (1437, 1436): 0.01595187373459339, (1437, 1870): 0.000834972015582025, (1437, 1972): 0.00012272328604012728, (1437, 2108): 0.0018626120872795582, (1438, 649): 0.0, (1438, 947): 0.0, (1439, 875): 0.014477415941655636, (1439, 876): 0.024805987253785133, (1439, 879): 0.01956254430115223, (1439, 880): 0.03224195912480354, (1440, 452): 0.0, (1440, 655): 0.0, (1440, 862): 0.0, (1440, 1289): 0.0, (1440, 1453): 0.0, (1441, 920): 0.0, (1442, 495): 0.0, (1442, 1574): 0.0, (1442, 1780): 0.0, (1443, 242): 0.0035333982668817043, (1443, 1011): 0.009839894250035286, (1443, 1444): 0.003290959633886814, (1444, 1443): 0.008332124911248684, (1445, 44): 0.0010558427311480045, (1445, 390): 0.001125566428527236, (1445, 462): 0.0029152631759643555, (1445, 1188): 0.008700726553797722, (1445, 1431): 0.0043991003185510635, (1445, 1447): 0.0011993278749287128, (1446, 83): 0.0, (1446, 234): 0.0, (1446, 359): 0.0, (1446, 1635): 0.0, (1446, 1932): 0.0, (1447, 306): 0.006018270272761583, (1447, 1445): 0.01939583197236061, (1448, 306): 0.0, (1449, 1451): 0.0, (1450, 1421): 0.00029998034005984664, (1450, 1451): 0.0014949578326195478, (1451, 843): 0.0, (1451, 1449): 0.0, (1451, 1450): 0.0, (1451, 1661): 0.0, (1452, 89): 6.226784898899496e-05, (1452, 98): 0.001307726721279323, (1452, 157): 0.001609695260412991, (1452, 218): 0.000926602107938379, (1452, 452): 0.0018122424371540546, (1452, 528): 7.264863234013319e-05, (1452, 619): 0.0005629176157526672, (1452, 640): 0.00014121265849098563, (1452, 817): 9.034769027493894e-05, (1452, 862): 0.0015893328236415982, (1452, 938): 0.004113644827157259, (1452, 983): 0.0007617583032697439, (1452, 999): 0.0016882638446986675, (1452, 1001): 0.00016198835510294884, (1452, 1019): 0.00017346609092783183, (1452, 1079): 0.0003187611000612378, (1452, 1144): 0.0013520651264116168, (1452, 1193): 0.00022058954345993698, (1452, 1194): 0.0031804130412638187, (1452, 1196): 0.0006111013935878873, (1452, 1428): 0.001355184125714004, (1452, 1453): 0.00023266227799467742, (1452, 1454): 0.0014643488684669137, (1452, 1455): 0.000926602107938379, (1452, 1554): 0.0004595008213073015, (1452, 1859): 0.0009700742084532976, (1452, 1894): 0.0018628065008670092, (1453, 218): 0.000996321439743042, (1453, 242): 0.004100979771465063, (1453, 448): 0.009202277287840843, (1453, 685): 0.0001730755902826786, (1453, 862): 0.0029267084319144487, (1453, 980): 0.0036777788773179054, (1453, 1018): 0.009672174230217934, (1453, 1146): 0.004902729298919439, (1453, 1193): 0.002806706354022026, (1453, 1194): 0.012817652896046638, (1453, 1196): 0.005458703264594078, (1453, 1197): 0.006894757971167564, (1453, 1295): 0.013445893302559853, (1453, 1400): 0.002104515675455332, (1453, 1440): 0.0047983331605792046, (1453, 1452): 0.00327109987847507, (1453, 1455): 0.000996321439743042, (1453, 1456): 0.006862594746053219, (1453, 1671): 0.004356635734438896, (1453, 1892): 0.009867500513792038, (1454, 63): 0.0016762418672442436, (1454, 98): 0.0009481218294240534, (1454, 151): 0.0003911469248123467, (1454, 218): 0.0001266303879674524, (1454, 250): 0.0003421494329813868, (1454, 266): 0.00014866219135001302, (1454, 268): 0.0015057038981467485, (1454, 393): 1.7752056010067463e-05, (1454, 398): 0.00021380902035161853, (1454, 399): 0.0005563106387853622, (1454, 572): 0.0010806710924953222, (1454, 702): 0.00032759783789515495, (1454, 819): 0.0006816916284151375, (1454, 1067): 0.0015083460602909327, (1454, 1197): 0.0008756237803027034, (1454, 1295): 0.0017079164972528815, (1454, 1400): 0.0002671779366210103, (1454, 1401): 0.0002179213333874941, (1454, 1452): 0.00041542534017935395, (1454, 1455): 0.0001266303879674524, (1454, 1456): 0.0008717339951545, (1454, 1481): 0.0015909781213849783, (1454, 1552): 5.8712364989332855e-05, (1454, 1554): 0.0018486196640878916, (1454, 1578): 3.0240407795645297e-05, (1454, 1741): 0.00038080988451838493, (1454, 1895): 3.79892298951745e-05, (1454, 2068): 0.00016333413077518344, (1454, 2084): 0.00013417747686617076, (1454, 2085): 0.0013181103859096766, (1455, 819): 0.0, (1455, 862): 0.0, (1455, 1295): 0.0, (1455, 1452): 0.0, (1455, 1453): 0.0, (1455, 1454): 0.0, (1456, 817): 0.0, (1456, 862): 0.0, (1456, 1078): 0.0, (1456, 1400): 0.0, (1456, 1453): 0.0, (1456, 1454): 0.0, (1456, 1665): 0.0, (1457, 435): 0.007704901043325663, (1457, 566): 0.0026647429913282394, (1457, 1514): 0.00880378670990467, (1458, 558): 0.0, (1459, 862): 0.0, (1459, 938): 0.0, (1459, 1021): 0.0, (1460, 1865): 0.0, (1460, 1866): 0.0, (1461, 1327): 0.0412491075694561, (1462, 65): 0.008615367114543915, (1462, 358): 0.003631671192124486, (1462, 551): 0.004009628668427467, (1462, 1175): 0.003631671192124486, (1462, 1570): 0.011731461621820927, (1462, 1571): 0.01244358904659748, (1462, 1770): 0.0026297844015061855, (1463, 721): 0.0, (1463, 928): 0.0, (1464, 817): 8.272434782795817e-17, (1464, 862): 2.4514454335541576e-16, (1464, 1021): 1.3557614647708252e-16, (1464, 1271): 4.237527428798749e-16, (1464, 1611): 3.3764636454709774e-16, (1464, 1612): 3.7118143125029995e-16, (1464, 1992): 7.369392046602122e-16, (1465, 1466): 4.832980987739817e-25, (1465, 1467): 5.746342879251203e-25, (1465, 1665): 3.0159461422663882e-25, (1466, 527): 4.832981480777883e-25, (1466, 655): 2.933243986419087e-24, (1466, 862): 2.64773968425977e-23, (1466, 1021): 1.0966562866374305e-24, (1466, 1465): 2.1025872089833964e-25, (1466, 1467): 8.225577890408194e-25, (1466, 1665): 2.8605743170453537e-24, (1467, 1465): 3.3925961631112783e-25, (1467, 1466): 4.832980987739817e-25, (1468, 187): 0.0, (1468, 941): 0.0, (1468, 958): 0.0, (1468, 1150): 0.0, (1468, 1151): 0.0, (1468, 1547): 0.0, (1468, 1862): 0.0, (1468, 2098): 0.0, (1469, 209): 0.0, (1469, 960): 0.0, (1469, 962): 0.0, (1470, 648): 0.0, (1471, 573): 0.0, (1471, 772): 0.0, (1471, 1270): 0.0, (1472, 1473): 0.0, (1472, 2050): 0.0, (1473, 265): 0.0, (1473, 1472): 0.0, (1474, 584): 0.0, (1475, 862): 0.003009529784321785, (1475, 936): 0.00014485142310149968, (1475, 1410): 0.002914746757596731, (1475, 2019): 0.0014615696854889393, (1476, 1569): 0.0018257308984175324, (1476, 1750): 0.021034641191363335, (1476, 1972): 0.004032846074551344, (1477, 850): 0.0, (1477, 1664): 0.0, (1478, 1796): 0.0, (1479, 217): 0.0, (1480, 70): 0.009331750683486462, (1480, 337): 0.004729490261524916, (1480, 1327): 0.004019541200250387, (1480, 1393): 0.0034780134446918964, (1480, 1649): 0.004173575434833765, (1480, 1661): 0.0046250647865235806, (1480, 1694): 0.0005296962335705757, (1481, 80): 0.00025503698270767927, (1481, 151): 0.00039114541141316295, (1481, 181): 0.0014967272290959954, (1481, 266): 0.00014866307901684195, (1481, 268): 0.0015057031996548176, (1481, 393): 1.7752638086676598e-05, (1481, 452): 0.0006503485492430627, (1481, 904): 0.0009265475673601031, (1481, 1289): 0.00020905150449834764, (1481, 1454): 0.0005158217390999198, (1481, 1554): 0.0018486197805032134, (1481, 2015): 0.00011137315595988184, (1481, 2068): 0.0001633331849006936, (1481, 2084): 0.0001341783645329997, (1481, 2085): 0.0013181098038330674, (1482, 1484): 0.0, (1482, 1888): 0.0, (1483, 341): 0.0, (1483, 1115): 0.0, (1483, 1278): 0.0, (1484, 339): 0.0, (1484, 341): 0.0, (1484, 1482): 0.0, (1485, 448): 6.28321798141541e-15, (1486, 949): 0.0, (1486, 1250): 0.0, (1487, 1830): 3.843724698526785e-05, (1488, 790): 0.0, (1488, 1345): 0.0, (1489, 1587): 0.0, (1490, 1055): 0.0, (1490, 1492): 0.0, (1491, 1327): 0.0, (1492, 560): 0.0, (1492, 748): 0.0, (1492, 1388): 0.0, (1492, 1490): 0.0, (1492, 1643): 0.0, (1493, 154): 0.005518062971532345, (1493, 297): 0.0002145639737136662, (1493, 300): 0.004220561124384403, (1493, 392): 0.002112926682457328, (1493, 1013): 0.007895736023783684, (1494, 253): 0.0017294561257585883, (1494, 599): 0.0015966453356668353, (1494, 869): 0.0006684172549284995, (1494, 1592): 0.0014123459113761783, (1494, 1687): 4.480453208088875e-05, (1494, 1689): 0.001955639338120818, (1494, 1750): 0.004368330352008343, (1495, 514): 0.004661410115659237, (1495, 1242): 0.01862149126827717, (1496, 1822): 1.446529040549649e-06, (1496, 1903): 2.9336645184230292e-06, (1497, 408): 0.0, (1497, 419): 0.0, (1497, 1123): 0.0, (1497, 1214): 0.0, (1498, 196): 0.0002777637564577162, (1498, 623): 0.0005869863089174032, (1498, 1645): 0.00028021365869790316, (1499, 262): 0.0, (1499, 379): 0.0, (1499, 516): 0.0, (1499, 1829): 0.0, (1499, 2072): 0.0, (1500, 949): 0.0, (1500, 1923): 0.0, (1501, 327): 0.0, (1502, 172): 0.0, (1502, 688): 0.0, (1503, 90): 0.0, (1503, 1184): 0.0, (1503, 2020): 0.0, (1504, 1390): 0.0, (1505, 155): 0.0, (1505, 916): 0.0, (1506, 1754): 0.0, (1507, 1938): 0.0, (1508, 377): 0.002189329592511058, (1508, 2096): 0.0008680954342707992, (1509, 862): 0.0, (1509, 1397): 0.0, (1509, 1510): 0.0, (1509, 1603): 0.0, (1509, 2042): 0.0, (1510, 1397): 0.0, (1510, 1509): 0.0, (1510, 1603): 0.0, (1511, 36): 0.0, (1511, 1152): 0.0, (1511, 1262): 0.0, (1511, 2040): 0.0, (1512, 576): 0.0, (1512, 1005): 0.0, (1513, 835): 0.0, (1514, 1457): 0.013843944296240807, (1514, 1626): 0.02059914544224739, (1515, 1516): 0.0, (1515, 1529): 0.0, (1515, 1750): 0.0, (1515, 2108): 0.0, (1516, 725): 0.0, (1516, 1515): 0.0, (1516, 1529): 0.0, (1516, 1750): 0.0, (1516, 1984): 0.0, (1517, 352): 0.0, (1517, 417): 0.0, (1517, 1896): 0.0, (1517, 2055): 0.0, (1518, 1039): 0.0020602841395884752, (1519, 505): 0.0, (1519, 1520): 0.0, (1519, 1522): 0.0, (1520, 505): 0.0, (1520, 1519): 0.0, (1520, 1521): 0.0, (1521, 505): 0.0025870855897665024, (1521, 1415): 0.0018232845468446612, (1521, 1520): 0.0005162287270650268, (1521, 1522): 0.0018045849865302444, (1522, 1519): 0.0, (1522, 1521): 0.0, (1523, 1): 0.0029811100102961063, (1523, 85): 0.00831515435129404, (1523, 204): 0.005174220073968172, (1523, 516): 0.011413617059588432, (1523, 602): 0.009618040174245834, (1523, 638): 0.004749507177621126, (1523, 653): 0.00645447289571166, (1523, 662): 0.007833825424313545, (1523, 915): 0.01732880435883999, (1523, 917): 0.0023128476459532976, (1523, 1001): 0.009317904710769653, (1523, 1054): 0.00037201913073658943, (1523, 1109): 0.004763173870742321, (1523, 1110): 0.006772089283913374, (1523, 1355): 0.01166763436049223, (1523, 1635): 0.006494040135294199, (1523, 1790): 0.010195105336606503, (1523, 1829): 0.011413617059588432, (1523, 1894): 0.010865669697523117, (1524, 127): 0.0009718677029013634, (1524, 1525): 0.006910555064678192, (1524, 1770): 0.003833900671452284, (1525, 1524): 0.0, (1525, 1570): 0.0, (1526, 198): 0.0, (1526, 618): 0.0, (1526, 1390): 0.0, (1526, 1686): 0.0, (1527, 556): 0.0, (1528, 725): 0.0, (1528, 1529): 0.0, (1529, 725): 0.0, (1529, 1515): 0.0, (1529, 1516): 0.0, (1529, 1528): 0.0, (1529, 2012): 0.0, (1530, 967): 0.0, (1530, 1531): 0.0, (1530, 1650): 0.0, (1531, 546): 0.0, (1531, 994): 0.0, (1531, 1231): 0.0, (1531, 1246): 0.0, (1531, 1530): 0.0, (1532, 122): 0.0, (1533, 82): 0.012340348213911057, (1533, 1657): 0.01510443352162838, (1534, 1750): 0.0, (1534, 2108): 0.0, (1535, 1102): 0.0, (1535, 1103): 0.0, (1536, 192): 0.005152568686753511, (1536, 1111): 3.17489611916244e-05, (1536, 1344): 0.010343999601900578, (1537, 1344): 0.010343999601900578, (1538, 1008): 0.0, (1539, 724): 0.0, (1539, 1835): 0.0, (1539, 1904): 0.0, (1540, 1903): 0.001794000854715705, (1540, 1904): 0.0012322700349614024, (1541, 296): 0.0, (1541, 311): 0.0, (1541, 1542): 0.0, (1542, 1541): 0.004371185787022114, (1542, 1771): 0.007625768426805735, (1543, 305): 3.6970782275602687e-06, (1543, 444): 2.9801435630361084e-06, (1543, 784): 5.267145752441138e-06, (1543, 1733): 1.0854910215130076e-06, (1543, 1757): 1.8836497474694625e-05, (1543, 1790): 4.5319859054870903e-05, (1543, 1831): 9.93562593976094e-07, (1543, 1832): 1.1504533176776022e-05, (1544, 216): 0.0, (1544, 1038): 0.0, (1544, 2055): 0.0, (1545, 862): 0.0, (1545, 953): 0.0, (1546, 947): 0.017718901857733727, (1547, 1151): 0.0, (1547, 1468): 0.0, (1547, 1548): 0.0, (1547, 1560): 0.0, (1547, 2098): 0.0, (1548, 1170): 0.0, (1548, 1547): 0.0, (1549, 402): 0.0, (1549, 479): 0.0, (1549, 586): 0.0, (1550, 1073): 0.0, (1550, 1694): 0.0, (1551, 572): 0.012099063955247402, (1551, 805): 0.004570290446281433, (1551, 817): 0.020627498626708984, (1551, 937): 0.010136869736015797, (1551, 1067): 0.02053280733525753, (1551, 1552): 0.013235178776085377, (1551, 1670): 0.010720365680754185, (1551, 1671): 0.006662643514573574, (1551, 1898): 0.006387592758983374, (1551, 1899): 0.010346136055886745, (1552, 655): 0.005240242462605238, (1552, 684): 0.002207336947321892, (1552, 817): 0.0005189748480916023, (1552, 862): 0.003252873197197914, (1552, 1454): 0.0028616818599402905, (1552, 1551): 0.003560481360182166, (1552, 1553): 0.00556101044639945, (1552, 1611): 0.0020291723776608706, (1552, 1670): 0.0005275086732581258, (1552, 1671): 0.0019600121304392815, (1553, 144): 7.43214187119366e-21, (1553, 804): 1.742800080402472e-21, (1553, 805): 2.2533548568396672e-20, (1553, 938): 3.6343559923929615e-20, (1553, 1018): 2.0578541117957402e-21, (1553, 1052): 2.5690019702697874e-20, (1553, 1067): 3.123576487785442e-20, (1553, 1552): 6.251934871149136e-21, (1553, 1670): 4.944081947242888e-21, (1553, 1671): 4.028216910149092e-21, (1553, 1898): 8.002123435411682e-21, (1553, 1899): 2.1700984819513514e-20, (1554, 80): 0.00025503698270767927, (1554, 139): 0.0008469737367704511, (1554, 151): 0.00039114541141316295, (1554, 181): 0.0014967272290959954, (1554, 266): 0.00014866307901684195, (1554, 268): 0.0015057031996548176, (1554, 393): 1.7752638086676598e-05, (1554, 1289): 0.00020905150449834764, (1554, 1385): 0.0008147357148118317, (1554, 1452): 0.00041542452527210116, (1554, 1454): 0.0005158217390999198, (1554, 1481): 0.0015909775393083692, (1554, 2015): 0.00011137315595988184, (1554, 2068): 0.0001633331849006936, (1554, 2083): 0.0020820293575525284, (1554, 2084): 0.0001341783645329997, (1554, 2085): 0.0013181098038330674, (1555, 1320): 0.0, (1556, 745): 0.0, (1557, 623): 0.0, (1557, 745): 0.0, (1557, 1558): 0.0, (1558, 623): 0.0, (1558, 1557): 0.0, (1559, 679): 0.0, (1559, 1560): 0.0, (1560, 1547): 0.0, (1560, 1559): 0.0, (1561, 1697): 0.0, (1562, 432): 0.0, (1563, 289): 0.0, (1563, 1565): 0.0, (1563, 1705): 0.0, (1563, 2036): 0.0, (1564, 168): 0.003634626977145672, (1564, 278): 0.004296402912586927, (1564, 1204): 0.004581667948514223, (1564, 1565): 0.010617537423968315, (1564, 1566): 0.011457751505076885, (1564, 1784): 0.0029870057478547096, (1565, 760): 0.004089619964361191, (1565, 1563): 0.002246137708425522, (1565, 1564): 0.0036292243748903275, (1565, 2036): 0.0058318814262747765, (1566, 879): 0.0, (1566, 1564): 0.0, (1566, 2036): 0.0, (1567, 832): 0.002087746048346162, (1567, 1568): 0.0013196025975048542, (1567, 1855): 0.0017661082092672586, (1568, 668): 0.0029777397867292166, (1568, 832): 0.002087746048346162, (1568, 1001): 0.0014370500575751066, (1568, 1090): 0.00031541759381070733, (1568, 1567): 0.0032324923668056726, (1568, 1855): 0.0017661082092672586, (1569, 188): 0.004100250545889139, (1569, 1311): 0.0006079386221244931, (1569, 1388): 0.002135610207915306, (1569, 1476): 0.0007488142000511289, (1569, 2055): 0.0012507266364991665, (1569, 2062): 0.0055199796333909035, (1570, 127): 0.0032186699099838734, (1570, 1462): 0.009684410877525806, (1570, 1525): 0.009917465038597584, (1570, 1571): 0.00034503109054639935, (1570, 2081): 0.01587580144405365, (1571, 1462): 0.003631671192124486, (1571, 1570): 0.003987881354987621, (1571, 2079): 0.004141018260270357, (1571, 2081): 0.008965051732957363, (1572, 179): 0.0011001541279256344, (1572, 354): 0.0024286017287522554, (1572, 362): 0.0017060126410797238, (1572, 1213): 0.0013473721919581294, (1573, 713): 0.0, (1573, 714): 0.0, (1573, 715): 0.0, (1573, 1974): 0.0, (1574, 404): 0.0015366894658654928, (1574, 474): 0.0002816382620949298, (1574, 532): 0.00014447708963416517, (1574, 1010): 0.00043740388355217874, (1574, 1168): 0.002088656648993492, (1574, 1209): 0.005495385266840458, (1574, 1306): 0.0013526269467547536, (1574, 1442): 0.0021214191801846027, (1574, 1679): 0.0003108970122411847, (1574, 1767): 0.0015508112264797091, (1574, 1819): 0.0006996284937486053, (1575, 129): 0.0, (1575, 951): 0.0, (1575, 2094): 0.0, (1576, 390): 0.0, (1576, 1637): 0.0, (1576, 1667): 0.0, (1576, 1668): 0.0, (1577, 576): 0.0024939586874097586, (1577, 845): 0.003408654360100627, (1578, 938): 1.2214064426530058e-08, (1578, 1049): 4.550866905539408e-10, (1578, 1454): 7.935419432669732e-09, (1579, 29): 0.0, (1580, 112): 0.0, (1580, 122): 0.0, (1580, 163): 0.0, (1580, 998): 0.0, (1581, 752): 0.0, (1581, 860): 0.0, (1582, 200): 0.0, (1582, 374): 0.0, (1582, 1583): 0.0, (1582, 2095): 0.0, (1583, 1014): 0.0, (1583, 1582): 0.0, (1584, 85): 0.0, (1584, 519): 0.0, (1584, 1210): 0.0, (1584, 1634): 0.0, (1584, 1716): 0.0, (1584, 1833): 0.0, (1585, 1586): 0.0, (1586, 471): 0.0, (1586, 1585): 0.0, (1587, 471): 0.0, (1587, 1489): 0.0, (1588, 471): 0.006159631069749594, (1588, 1750): 0.05835346132516861, (1589, 1750): 0.0, (1590, 648): 0.0, (1590, 1410): 0.0, (1590, 1816): 0.0, (1590, 2087): 0.0, (1591, 143): 0.0015044001629576087, (1591, 240): 0.0006521061295643449, (1591, 833): 0.002348717302083969, (1591, 912): 0.0006489620427601039, (1591, 1666): 0.0037625713739544153, (1591, 1671): 0.0023196893744170666, (1591, 1712): 0.004408243112266064, (1592, 669): 0.0011069596512243152, (1592, 1494): 0.0040629105642437935, (1592, 1927): 0.0014844258548691869, (1593, 1597): 0.0, (1594, 249): 0.0, (1594, 577): 0.0, (1594, 1747): 0.0, (1594, 1748): 0.0, (1595, 249): 0.0, (1596, 23): 0.0, (1596, 844): 0.0, (1597, 1205): 0.0, (1597, 1593): 0.0, (1597, 1696): 0.0, (1598, 816): 0.007995548658072948, (1599, 1400): 0.0, (1600, 206): 0.0075225490145385265, (1600, 1362): 0.013222350738942623, (1601, 996): 0.0032432705629616976, (1601, 1006): 0.0012631912250071764, (1601, 1037): 0.001787861343473196, (1601, 1706): 0.011650491505861282, (1602, 1429): 4.167682637803288e-14, (1602, 1430): 5.71063514401629e-14, (1602, 1603): 1.619827522439908e-14, (1602, 1952): 7.346428559885584e-15, (1603, 598): 0.0, (1603, 1397): 0.0, (1603, 1509): 0.0, (1603, 1510): 0.0, (1603, 1602): 0.0, (1603, 1894): 0.0, (1604, 220): 3.787820887024909e-14, (1604, 343): 5.2876590774094887e-14, (1604, 345): 3.682488867198753e-15, (1604, 425): 2.470712097911963e-15, (1604, 598): 5.5179236288678546e-14, (1604, 1003): 2.850230630940115e-14, (1604, 1127): 1.550570889947197e-15, (1604, 1428): 4.437587314753619e-14, (1604, 1429): 4.167682637803288e-14, (1604, 1430): 5.71063514401629e-14, (1604, 1662): 2.4902458635217735e-14, (1604, 2073): 1.291255734200145e-14, (1605, 115): 0.0, (1605, 413): 0.0, (1605, 798): 0.0, (1605, 1094): 0.0, (1605, 1235): 0.0, (1605, 1938): 0.0, (1606, 1852): 0.0, (1607, 162): 0.007902327924966812, (1607, 630): 0.009098734706640244, (1607, 1609): 0.012604696676135063, (1607, 1894): 0.010865614749491215, (1608, 426): 0.0, (1608, 1609): 0.0, (1608, 1894): 0.0, (1609, 1180): 0.0, (1609, 1607): 0.0, (1609, 1608): 0.0, (1609, 1610): 0.0, (1610, 662): 0.0, (1610, 771): 0.0, (1610, 1180): 0.0, (1610, 1609): 0.0, (1611, 804): 0.0, (1611, 862): 0.0, (1611, 1067): 0.0, (1611, 1464): 0.0, (1611, 1552): 0.0, (1611, 1670): 0.0, (1611, 1867): 0.0, (1611, 1899): 0.0, (1612, 805): 1.5767006916996896e-15, (1612, 862): 8.620950565289658e-15, (1612, 963): 1.0621905655132233e-16, (1612, 1271): 2.60409755248965e-15, (1612, 1464): 1.0488583463327795e-15, (1613, 354): 3.4663809600488094e-08, (1613, 941): 3.2358077106664496e-08, (1613, 1151): 3.7422335452674815e-08, (1613, 1842): 7.552975134217377e-09, (1613, 1999): 1.549529393685134e-08, (1614, 1178): 0.0, (1614, 1750): 0.0, (1614, 1774): 0.0, (1615, 402): 0.0, (1616, 589): 0.0, (1617, 1171): 0.0, (1617, 1619): 0.0, (1618, 1619): 0.0, (1619, 173): 0.0, (1619, 1171): 0.0, (1619, 1617): 0.0, (1619, 1618): 0.0, (1620, 116): 0.0, (1620, 1747): 0.0, (1621, 1314): 0.0, (1621, 1622): 0.0, (1622, 1621): 0.0, (1623, 726): 0.0, (1624, 590): 0.0, (1624, 657): 0.0, (1624, 1432): 0.0, (1625, 389): 0.017904365435242653, (1626, 435): 0.007704901043325663, (1626, 456): 3.565510269254446e-06, (1626, 925): 0.002289062598720193, (1626, 1420): 0.003605477511882782, (1626, 1514): 0.00880378670990467, (1626, 1719): 0.004083326552063227, (1626, 1742): 0.001319984206929803, (1627, 42): 0.0, (1627, 817): 0.0, (1627, 1665): 0.0, (1628, 58): 0.0014452924951910973, (1628, 1978): 0.00619222829118371, (1629, 138): 0.0, (1629, 658): 0.0, (1629, 869): 0.0, (1629, 870): 0.0, (1629, 953): 0.0, (1629, 1814): 0.0, (1630, 38): 6.475756819668277e-09, (1630, 167): 3.4784971347789906e-08, (1630, 354): 3.4663809600488094e-08, (1630, 754): 2.6015554155378595e-08, (1630, 1250): 3.231739498232855e-08, (1631, 36): 0.0, (1631, 147): 0.0, (1631, 607): 0.0, (1631, 1152): 0.0, (1631, 1632): 0.0, (1632, 1631): 0.0, (1632, 2015): 0.0, (1633, 1355): 0.003628451144322753, (1633, 1634): 0.0013254712102934718, (1633, 1635): 0.0007644566940143704, (1633, 1817): 0.00011158559937030077, (1634, 34): 0.0, (1634, 85): 0.0, (1634, 225): 0.0, (1634, 439): 0.0, (1634, 447): 0.0, (1634, 1206): 0.0, (1634, 1584): 0.0, (1634, 1633): 0.0, (1634, 1848): 0.0, (1634, 1859): 0.0, (1634, 2093): 0.0, (1635, 225): 0.0042881714180111885, (1635, 295): 0.0018586264923214912, (1635, 359): 0.008187202736735344, (1635, 445): 0.007271233946084976, (1635, 595): 0.010738828219473362, (1635, 606): 0.010302972979843616, (1635, 614): 0.012387843802571297, (1635, 1001): 0.009621101431548595, (1635, 1182): 0.003674937877804041, (1635, 1206): 0.00331999734044075, (1635, 1446): 0.010506881400942802, (1635, 1523): 0.00210042973048985, (1635, 1633): 0.0008667362271808088, (1635, 1699): 0.0024405689910054207, (1635, 1817): 0.006573494523763657, (1635, 1930): 0.008078258484601974, (1635, 2065): 0.00224530091509223, (1635, 2093): 0.012103943154215813, (1636, 808): 0.0, (1636, 1775): 0.0, (1637, 406): 0.006072259973734617, (1637, 923): 0.00951656699180603, (1637, 924): 0.01161919254809618, (1637, 1576): 0.007412073202431202, (1638, 0): 0.0, (1638, 654): 0.0, (1639, 0): 0.0, (1639, 654): 0.0, (1639, 1133): 0.0, (1640, 193): 0.0, (1640, 1403): 0.0, (1641, 1750): 0.0, (1642, 1687): 0.0, (1643, 1492): 0.0, (1644, 246): 0.0, (1644, 673): 0.0, (1644, 1107): 0.0, (1644, 1906): 0.0, (1645, 246): 0.0008161832229234278, (1645, 1498): 0.0011449635494500399, (1646, 1647): 0.0007618696545250714, (1647, 904): 0.0007141314563341439, (1647, 1646): 0.0014760002959519625, (1648, 228): 0.0032977184746414423, (1648, 719): 0.0008279337198473513, (1648, 1143): 0.0022374517284333706, (1648, 1209): 0.0092588746920228, (1648, 1750): 0.004080603830516338, (1648, 1824): 0.0008070170297287405, (1648, 1972): 0.001651526428759098, (1649, 319): 0.0, (1649, 1480): 0.0, (1650, 881): 0.0, (1650, 1530): 0.0, (1651, 1027): 0.0, (1652, 493): 0.0, (1652, 1700): 0.0, (1653, 38): 0.005355380475521088, (1653, 459): 0.018899723887443542, (1653, 497): 0.018899723887443542, (1654, 464): 0.0, (1654, 1139): 0.0, (1655, 82): 0.01194029487669468, (1655, 1657): 0.014743146486580372, (1655, 1783): 0.007763498928397894, (1656, 1130): 1.6785232901384006e-06, (1656, 1782): 2.2113272279966623e-07, (1656, 1875): 6.884103527227126e-07, (1656, 1876): 1.0087205737363547e-07, (1657, 82): 0.03598602116107941, (1657, 1533): 0.027624785900115967, (1657, 1655): 0.03538764268159866, (1657, 1692): 0.013460570946335793, (1657, 1783): 0.033746011555194855, (1658, 20): 0.008660969324409962, (1658, 629): 0.013890774920582771, (1659, 1267): 3.3432954751333455e-06, (1659, 1766): 2.6847926619666396e-06, (1659, 1903): 2.9336645184230292e-06, (1660, 552): 0.0, (1661, 233): 2.01282705347694e-06, (1661, 342): 3.172176002408378e-05, (1661, 1451): 2.3443199097528122e-05, (1661, 1480): 3.006743463629391e-05, (1662, 598): 0.0, (1662, 1604): 0.0, (1663, 220): 0.0032706940546631813, (1663, 595): 0.009068876504898071, (1663, 668): 0.00831722654402256, (1663, 1001): 0.009317915886640549, (1664, 1477): 0.0, (1665, 420): 6.9409090315705925e-25, (1665, 746): 6.424262331066458e-25, (1665, 818): 8.81729949718608e-25, (1665, 862): 7.539771308654926e-25, (1665, 863): 1.3964225431528966e-24, (1665, 1342): 1.2155353570791345e-24, (1665, 1343): 1.4522955889174379e-24, (1665, 1456): 6.070302415046053e-25, (1665, 1465): 3.3925961631112783e-25, (1665, 1466): 4.832980987739817e-25, (1665, 1627): 9.640832811343819e-25, (1665, 1669): 1.081406126225311e-24, (1666, 240): 0.0, (1666, 953): 0.0, (1666, 1591): 0.0, (1667, 1576): 0.0, (1667, 1668): 0.0, (1668, 166): 0.0, (1668, 668): 0.0, (1668, 862): 0.0, (1668, 1001): 0.0, (1668, 1180): 0.0, (1668, 1400): 0.0, (1668, 1410): 0.0, (1668, 1576): 0.0, (1668, 1667): 0.0, (1668, 1894): 0.0, (1668, 2090): 0.0, (1669, 1665): 0.0, (1670, 684): 0.002207336947321892, (1670, 817): 0.0005189748480916023, (1670, 862): 0.003252873197197914, (1670, 938): 0.009182817302644253, (1670, 1551): 0.003560481360182166, (1670, 1552): 0.0012102308683097363, (1670, 1553): 0.00556101044639945, (1670, 1611): 0.0020291723776608706, (1670, 1671): 0.0019600121304392815, (1670, 1899): 0.0018579638563096523, (1671, 1030): 0.00044885388342663646, (1671, 1067): 0.004075303208082914, (1671, 1453): 0.0003855690301861614, (1671, 1551): 0.003560481360182166, (1671, 1552): 0.0012102308683097363, (1671, 1553): 0.00556101044639945, (1671, 1591): 0.0022358933929353952, (1671, 1670): 0.0005275086732581258, (1672, 564): 0.0, (1672, 1172): 0.0, (1673, 1348): 0.000781415612436831, (1673, 1675): 0.00206789025105536, (1673, 1687): 0.00085516955005005, (1674, 1228): 0.00040967980748973787, (1674, 1348): 0.000781415612436831, (1674, 1675): 0.00206789025105536, (1674, 1687): 0.00085516955005005, (1675, 346): 0.00043130555422976613, (1675, 1673): 0.00043130555422976613, (1675, 1674): 0.0008409849251620471, (1676, 1677): 0.0, (1677, 376): 0.0, (1677, 1387): 0.0, (1677, 1676): 0.0, (1677, 1703): 0.0, (1678, 302): 0.001736390171572566, (1678, 562): 0.003310326486825943, (1678, 897): 0.02966246008872986, (1678, 954): 0.004037376493215561, (1678, 1105): 0.0020611602813005447, (1678, 1706): 0.04093944653868675, (1678, 1878): 0.004916103091090918, (1679, 1574): 0.0, (1680, 97): 0.006589931435883045, (1680, 211): 0.0019311332143843174, (1681, 1126): 0.0, (1682, 1683): 0.005420043598860502, (1683, 967): 0.0017331279814243317, (1683, 1682): 0.0036869156174361706, (1684, 45): 0.0, (1684, 149): 0.0, (1684, 932): 0.0, (1684, 2076): 0.0, (1685, 862): 0.0, (1685, 883): 0.0, (1686, 198): 0.0003785704029724002, (1686, 760): 0.004089619964361191, (1686, 1526): 0.0001336258719675243, (1686, 1910): 0.0025976558681577444, (1687, 104): 0.0029094922356307507, (1687, 314): 0.004090442787855864, (1687, 346): 0.002267175354063511, (1687, 464): 0.004937779624015093, (1687, 1076): 0.002732381224632263, (1687, 1348): 0.0032709629740566015, (1687, 1494): 0.0032691035885363817, (1687, 1642): 0.0043579875491559505, (1687, 1673): 0.0042782132513821125, (1687, 1674): 0.00033299881033599377, (1687, 1689): 0.0007413896964862943, (1687, 1750): 0.0027944352477788925, (1687, 1751): 0.0015007727779448032, (1687, 1803): 0.007786643225699663, (1687, 1849): 0.005905781872570515, (1688, 599): 0.0015966453356668353, (1689, 314): 0.0, (1689, 1494): 0.0, (1689, 1687): 0.0, (1689, 1750): 0.0, (1689, 1751): 0.0, (1689, 1803): 0.0, (1690, 429): 0.0, (1690, 972): 0.0, (1690, 2088): 0.0, (1691, 723): 0.0004062647931277752, (1691, 1047): 7.119360088836402e-05, (1691, 1277): 0.000369205663446337, (1691, 1767): 0.00011324934894219041, (1692, 82): 0.012340348213911057, (1692, 1286): 0.013683279976248741, (1692, 1657): 0.01510443352162838, (1693, 1694): 0.0, (1694, 271): 7.521662155340891e-07, (1694, 431): 2.8016870601277333e-08, (1694, 489): 3.2946195460681338e-06, (1694, 515): 1.598295602889266e-05, (1694, 1349): 6.857130756543484e-06, (1694, 1480): 7.528624337282963e-06, (1694, 1550): 3.181525926265749e-06, (1694, 1693): 4.678383902501082e-09, (1694, 1737): 3.84418899557204e-06, (1694, 1861): 6.298387688730145e-06, (1694, 1962): 8.621559572929982e-06, (1694, 1964): 7.37667505745776e-06, (1694, 1994): 1.0941690561594442e-05, (1694, 2064): 5.978733497613575e-06, (1694, 2067): 5.559182227443671e-06, (1694, 2075): 1.9187793895980576e-06, (1694, 2107): 1.3654349459102377e-05, (1695, 1320): 0.0, (1696, 1318): 0.0, (1696, 1597): 0.0, (1696, 1697): 0.0, (1697, 137): 0.0, (1697, 1205): 0.0, (1697, 1561): 0.0, (1697, 1696): 0.0, (1698, 835): 0.006091199349611998, (1698, 1869): 0.01671920157968998, (1699, 447): 0.00300207594409585, (1699, 720): 0.0032221698202192783, (1699, 829): 0.0018292063614353538, (1699, 1159): 0.0069955820217728615, (1699, 1206): 0.00022395129781216383, (1699, 1635): 0.000994664034806192, (1699, 1817): 0.0029391800053417683, (1699, 1930): 0.006300542503595352, (1699, 2065): 0.004623273853212595, (1699, 2078): 0.004802681040018797, (1700, 1652): 0.0, (1701, 24): 0.0, (1701, 872): 0.0, (1702, 688): 0.0, (1703, 428): 0.0, (1703, 683): 0.0, (1703, 1677): 0.0, (1704, 1942): 0.0, (1705, 740): 0.0, (1705, 822): 0.0, (1705, 1563): 0.0, (1706, 323): 8.023041300475597e-05, (1706, 363): 0.0012083174660801888, (1706, 367): 0.0023957625962793827, (1706, 369): 0.005396862048655748, (1706, 554): 0.014176850207149982, (1706, 631): 0.0006315058562904596, (1706, 813): 0.006115193013101816, (1706, 890): 0.01101506594568491, (1706, 897): 0.01680312305688858, (1706, 898): 0.0033269678242504597, (1706, 1002): 0.0014791513094678521, (1706, 1006): 0.0023920270614326, (1706, 1601): 0.011588103137910366, (1706, 1678): 0.008064882829785347, (1706, 1837): 0.01966550573706627, (1707, 590): 0.0, (1707, 1950): 0.0, (1708, 1709): 0.0, (1708, 2036): 0.0, (1709, 1708): 0.0, (1710, 2044): 0.0, (1711, 476): 0.0, (1711, 721): 0.0, (1711, 1023): 0.0, (1711, 1297): 0.0, (1711, 1770): 0.0, (1712, 727): 0.0, (1712, 1591): 0.0, (1713, 1750): 0.12786929309368134, (1713, 1900): 0.0016840017633512616, (1714, 1266): 0.003676533931866288, (1714, 1947): 0.003179109888151288, (1715, 614): 0.0, (1715, 620): 0.0, (1715, 759): 0.0, (1716, 34): 0.0, (1716, 98): 0.0, (1716, 109): 0.0, (1716, 207): 0.0, (1716, 519): 0.0, (1716, 558): 0.0, (1716, 622): 0.0, (1716, 979): 0.0, (1716, 989): 0.0, (1716, 1210): 0.0, (1716, 1273): 0.0, (1716, 1584): 0.0, (1717, 98): 0.0, (1717, 1164): 0.0, (1717, 1195): 0.0, (1718, 477): 0.0, (1718, 843): 0.0, (1719, 1626): 0.0, (1720, 441): 0.0006961038452573121, (1720, 1160): 0.0004521676164586097, (1721, 1392): 0.0, (1721, 1724): 0.0, (1721, 1858): 0.0, (1722, 53): 0.0, (1723, 1027): 0.0, (1724, 1027): 0.0, (1724, 1256): 0.0, (1724, 1721): 0.0, (1724, 2031): 0.0, (1725, 90): 0.01933961734175682, (1725, 436): 0.010508624836802483, (1726, 722): 0.0, (1726, 1220): 0.0, (1726, 1793): 0.0, (1727, 430): 0.0, (1727, 942): 0.0, (1728, 1390): 0.0, (1728, 1730): 0.0, (1729, 1390): 0.003011401044204831, (1729, 1730): 0.00032021579681895673, (1730, 1728): 0.001399962231516838, (1730, 1729): 0.0017201784066855907, (1731, 273): 0.007055860012769699, (1731, 433): 0.00026051801978610456, (1731, 485): 0.007226468063890934, (1731, 854): 0.0014517379458993673, (1731, 855): 0.0015584519132971764, (1732, 1410): 0.0, (1733, 1): 0.0, (1733, 171): 0.0, (1733, 305): 0.0, (1733, 1543): 0.0, (1733, 1790): 0.0, (1734, 13): 0.0, (1735, 598): 0.0, (1735, 1348): 0.0, (1736, 97): 0.006589931435883045, (1737, 1694): 0.0, (1738, 64): 0.0037483449559658766, (1738, 1128): 0.0006439548451453447, (1739, 22): 0.0, (1739, 368): 0.0, (1739, 688): 0.0, (1740, 685): 0.0, (1740, 1194): 0.0, (1740, 1433): 0.0, (1741, 448): 6.28321798141541e-15, (1741, 1454): 2.2565999565379684e-15, (1741, 1867): 7.66751418623422e-15, (1742, 451): 0.0, (1742, 925): 0.0, (1742, 1626): 0.0, (1743, 1055): 0.0, (1743, 1750): 0.0, (1744, 41): 0.0, (1745, 67): 0.0, (1746, 7): 0.0, (1746, 89): 0.0, (1746, 1428): 0.0, (1747, 37): 0.0, (1747, 249): 0.0, (1747, 823): 0.0, (1747, 1594): 0.0, (1747, 1620): 0.0, (1747, 1748): 0.0, (1748, 264): 0.0, (1748, 1594): 0.0, (1748, 1747): 0.0, (1749, 423): 0.026796657592058182, (1749, 649): 0.0036240362096577883, (1749, 1260): 0.013136085122823715, (1749, 1751): 0.038318272680044174, (1749, 1753): 0.015000058338046074, (1750, 57): 0.002279137261211872, (1750, 114): 0.007609990891069174, (1750, 120): 0.028050344437360764, (1750, 133): 0.04781929403543472, (1750, 142): 0.008737292140722275, (1750, 158): 0.02761165052652359, (1750, 212): 0.03954695910215378, (1750, 349): 0.002171170897781849, (1750, 449): 0.04066619649529457, (1750, 457): 0.021210473030805588, (1750, 461): 0.0160149484872818, (1750, 468): 0.0036776000633835793, (1750, 486): 0.006916666403412819, (1750, 554): 0.003403512993827462, (1750, 695): 0.021698620170354843, (1750, 866): 0.03460116684436798, (1750, 887): 0.027903005480766296, (1750, 933): 0.009953156113624573, (1750, 934): 0.06493827700614929, (1750, 1022): 0.008838213980197906, (1750, 1055): 0.015207680873572826, (1750, 1058): 0.014025496318936348, (1750, 1076): 0.008321743458509445, (1750, 1077): 0.01751003973186016, (1750, 1096): 0.01638447679579258, (1750, 1097): 0.013826197944581509, (1750, 1101): 0.016832120716571808, (1750, 1139): 0.02292158082127571, (1750, 1216): 0.008620012551546097, (1750, 1247): 0.021520106121897697, (1750, 1248): 0.03363245353102684, (1750, 1249): 0.023045387119054794, (1750, 1476): 0.010873284190893173, (1750, 1494): 0.0351504348218441, (1750, 1515): 0.019203491508960724, (1750, 1516): 0.04498238489031792, (1750, 1534): 0.0011636059498414397, (1750, 1588): 0.009933631867170334, (1750, 1589): 0.010876799002289772, (1750, 1614): 0.023394765332341194, (1750, 1641): 0.004227447789162397, (1750, 1648): 0.012294775806367397, (1750, 1687): 0.02055094577372074, (1750, 1689): 0.0020287660881876945, (1750, 1713): 0.007751915603876114, (1750, 1743): 0.014826011843979359, (1750, 2033): 0.054978419095277786, (1750, 2056): 0.006703970022499561, (1750, 2059): 0.02841770462691784, (1750, 2060): 0.0087819192558527, (1750, 2081): 0.014548263512551785, (1751, 281): 0.002361091785132885, (1751, 791): 0.0039968485943973064, (1751, 1058): 0.012980717234313488, (1751, 1066): 0.00036560511216521263, (1751, 1687): 0.0012358122039586306, (1751, 1689): 0.002988041378557682, (1751, 1749): 0.010143288411200047, (1751, 2056): 0.0009784818394109607, (1751, 2059): 0.003690927755087614, (1751, 2060): 0.00027310976292937994, (1751, 2061): 0.00458286190405488, (1752, 114): 0.0, (1752, 1269): 0.0, (1753, 709): 0.001956610009074211, (1753, 1260): 0.01781715452671051, (1753, 1749): 0.036481067538261414, (1754, 1506): 0.0, (1754, 1755): 0.0, (1755, 1137): 0.0, (1755, 1376): 0.0, (1755, 1377): 0.0, (1755, 1754): 0.0, (1756, 92): 0.0, (1756, 1088): 0.0, (1757, 1159): 0.0, (1757, 1543): 0.0, (1757, 1859): 0.0, (1758, 767): 0.0, (1759, 140): 0.0, (1759, 206): 0.0, (1760, 37): 0.0, (1760, 823): 0.0, (1760, 1838): 0.0, (1760, 1950): 0.0, (1761, 37): 0.0, (1761, 823): 0.0, (1761, 1838): 0.0, (1762, 1179): 0.0, (1762, 1390): 0.0, (1762, 1897): 0.0, (1763, 572): 0.0, (1763, 660): 0.0, (1764, 1765): 0.0, (1765, 472): 0.0, (1765, 1764): 0.0, (1766, 1266): 0.0, (1766, 1267): 0.0, (1766, 1659): 0.0, (1767, 387): 0.010772336274385452, (1767, 1574): 0.0013942935038357973, (1767, 1691): 0.006951820570975542, (1767, 1905): 0.00278419628739357, (1767, 2082): 0.005744559690356255, (1768, 404): 0.0013912899885326624, (1769, 18): 0.0, (1769, 692): 0.0, (1770, 174): 0.018412191420793533, (1770, 476): 0.006546557415276766, (1770, 928): 0.010997943580150604, (1770, 1023): 0.015559385530650616, (1770, 1220): 0.01107256580144167, (1770, 1462): 0.010634496808052063, (1770, 1524): 0.014444938860833645, (1770, 1711): 0.011357603594660759, (1770, 1771): 0.013322354294359684, (1771, 134): 0.0026802225038409233, (1771, 255): 0.004444040823727846, (1771, 930): 0.01489346008747816, (1771, 1542): 0.003254581242799759, (1771, 1770): 0.010108823888003826, (1772, 1245): 0.0, (1773, 1830): 0.03955266997218132, (1774, 779): 0.0, (1774, 1614): 0.0, (1774, 1791): 0.0, (1775, 1392): 0.0, (1775, 1636): 0.0, (1776, 655): 0.0, (1776, 1777): 0.0, (1777, 1364): 0.0, (1777, 1776): 0.0, (1778, 123): 0.0, (1778, 803): 0.0, (1778, 1218): 0.0, (1778, 1779): 0.0, (1779, 1218): 0.0, (1779, 1778): 0.0, (1780, 213): 0.0, (1780, 1442): 0.0, (1781, 185): 0.0, (1781, 295): 0.0, (1781, 320): 0.0, (1781, 1795): 0.0, (1781, 1904): 0.0, (1781, 2003): 0.0, (1782, 603): 0.0, (1782, 615): 0.0, (1782, 1656): 0.0, (1783, 82): 0.012270048260688782, (1783, 1655): 0.006561553571373224, (1783, 1657): 0.014995367266237736, (1784, 984): 0.0, (1784, 1564): 0.0, (1784, 1988): 0.0, (1785, 4): 0.0, (1785, 1324): 0.0, (1786, 1007): 0.0, (1786, 1790): 0.0, (1786, 1795): 0.0, (1786, 2077): 0.0, (1787, 510): 0.0, (1787, 1378): 0.0, (1787, 1789): 0.0, (1788, 171): 0.0, (1788, 1790): 0.0, (1788, 1894): 0.0, (1789, 508): 0.0, (1789, 631): 0.0, (1789, 1787): 0.0, (1790, 171): 0.0, (1790, 231): 0.0, (1790, 305): 0.0, (1790, 1007): 0.0, (1790, 1110): 0.0, (1790, 1523): 0.0, (1790, 1543): 0.0, (1790, 1733): 0.0, (1790, 1786): 0.0, (1790, 1788): 0.0, (1791, 416): 0.006060506217181683, (1791, 1774): 0.008010189980268478, (1791, 1792): 0.002150577725842595, (1791, 1793): 0.002518683671951294, (1792, 1791): 0.009401429444551468, (1793, 311): 0.0, (1793, 360): 0.0, (1793, 1726): 0.0, (1793, 1791): 0.0, (1794, 321): 0.01172514259815216, (1795, 107): 0.0, (1795, 1111): 0.0, (1795, 1162): 0.0, (1795, 1781): 0.0, (1795, 1786): 0.0, (1795, 2077): 0.0, (1796, 1478): 0.0, (1796, 1798): 0.0, (1797, 439): 0.0, (1797, 626): 0.0, (1797, 1832): 0.0, (1798, 561): 0.0, (1798, 1155): 0.0, (1798, 1796): 0.0, (1798, 1871): 0.0, (1799, 768): 0.0, (1799, 1800): 0.0, (1800, 645): 0.0019216882064938545, (1800, 786): 0.0017692105611786246, (1800, 919): 0.0010000639595091343, (1800, 1799): 0.0007977858767844737, (1800, 2065): 0.0016692491481080651, (1801, 37): 1.5083143125593779e-06, (1801, 201): 1.4898917015671032e-06, (1801, 458): 1.1021500085917069e-06, (1801, 724): 1.9826634343189653e-06, (1801, 823): 1.6354905483240145e-06, (1801, 977): 2.1561641005973797e-06, (1801, 1875): 1.0623073194437893e-06, (1801, 1876): 1.0647391945894924e-07, (1801, 1905): 1.0301987458660733e-06, (1801, 1988): 1.8263622791891976e-07, (1802, 156): 0.0, (1802, 1877): 0.0, (1803, 314): 0.0, (1803, 1187): 0.0, (1803, 1348): 0.0, (1803, 1687): 0.0, (1803, 1689): 0.0, (1804, 1370): 0.0, (1804, 1418): 0.0, (1804, 1419): 0.0, (1805, 1370): 0.0, (1805, 1418): 0.0, (1805, 1419): 0.0, (1805, 1806): 0.0, (1806, 19): 0.0012637085746973753, (1806, 48): 0.0024460505228489637, (1806, 125): 0.005078362766653299, (1806, 612): 0.005123897455632687, (1806, 696): 0.0014013611944392323, (1806, 764): 0.0030777854844927788, (1806, 922): 0.0021870548371225595, (1806, 1012): 0.005800927523523569, (1806, 1063): 0.0019752210937440395, (1806, 1316): 0.0018535993294790387, (1806, 1418): 0.0050236438401043415, (1806, 1805): 0.01069627981632948, (1806, 1940): 0.004468686878681183, (1807, 772): 0.0, (1807, 1963): 0.0, (1808, 79): 0.0, (1808, 605): 0.0, (1808, 1075): 0.0, (1808, 1333): 0.0, (1808, 1334): 0.0, (1808, 1336): 0.0, (1809, 19): 0.0, (1809, 696): 0.0, (1809, 1370): 0.0, (1810, 1323): 0.0, (1811, 177): 0.0, (1811, 1014): 0.0, (1812, 938): 0.0, (1812, 1069): 0.0, (1813, 361): 0.006847376935184002, (1813, 919): 0.0010000639595091343, (1813, 2065): 0.0016692491481080651, (1814, 507): 0.0, (1814, 1629): 0.0, (1815, 236): 0.0, (1815, 1199): 0.0, (1816, 520): 0.00023972458438947797, (1816, 1590): 0.0018543219193816185, (1817, 83): 0.001497026183642447, (1817, 447): 0.012506638653576374, (1817, 1206): 0.002970729023218155, (1817, 1633): 0.0014269381063058972, (1817, 1635): 0.015708742663264275, (1817, 1699): 0.004391724709421396, (1818, 239): 0.0, (1818, 519): 0.0, (1818, 1210): 0.0, (1819, 446): 0.0, (1819, 1574): 0.0, (1819, 1820): 0.0, (1820, 446): 0.0, (1820, 1819): 0.0, (1821, 7): 0.0, (1821, 987): 0.0, (1821, 1828): 0.0, (1822, 307): 0.0, (1822, 1496): 0.0, (1823, 77): 0.004720513243228197, (1823, 760): 0.004089619964361191, (1824, 1389): 0.0, (1824, 1648): 0.0, (1824, 2062): 0.0, (1825, 1827): 0.0, (1826, 251): 0.0001242083526449278, (1826, 1827): 0.00015614675066899508, (1827, 251): 0.0001242083526449278, (1827, 1825): 1.865723606897518e-05, (1827, 1826): 0.0001774129195837304, (1828, 987): 0.0, (1828, 1821): 0.0, (1829, 178): 0.0, (1829, 375): 0.0, (1829, 379): 0.0, (1829, 383): 0.0, (1829, 845): 0.0, (1829, 920): 0.0, (1829, 1322): 0.0, (1829, 1499): 0.0, (1829, 1523): 0.0, (1829, 1977): 0.0, (1829, 2072): 0.0, (1829, 2096): 0.0, (1830, 1388): 0.0019027979578822851, (1830, 1390): 0.01376558281481266, (1830, 1391): 0.007205059286206961, (1830, 1487): 0.0037573780864477158, (1830, 1773): 0.006662801839411259, (1830, 1975): 0.005691071506589651, (1831, 225): 0.00010938199557131156, (1831, 444): 2.978794145747088e-05, (1831, 1543): 3.2095733331516385e-05, (1831, 1859): 3.990097684436478e-05, (1832, 225): 0.0, (1832, 444): 0.0, (1832, 1225): 0.0, (1832, 1543): 0.0, (1832, 1797): 0.0, (1832, 1859): 0.0, (1833, 34): 0.0, (1833, 207): 0.0, (1833, 519): 0.0, (1833, 1273): 0.0, (1833, 1584): 0.0, (1834, 610): 0.0, (1835, 1539): 0.0, (1836, 1904): 0.0, (1837, 896): 0.0, (1837, 1102): 0.0, (1837, 1706): 0.0, (1838, 37): 0.0, (1838, 774): 0.0, (1838, 823): 0.0, (1838, 1760): 0.0, (1838, 1761): 0.0, (1838, 1839): 0.0, (1839, 843): 0.0, (1839, 1838): 0.0, (1840, 307): 0.0, (1840, 787): 0.0, (1840, 1046): 0.0, (1841, 567): 0.0020157070830464363, (1841, 787): 0.003303533187136054, (1841, 1843): 0.0021125974599272013, (1841, 1986): 0.002972299698740244, (1842, 862): 0.0, (1842, 941): 0.0, (1842, 1351): 0.0, (1842, 1613): 0.0, (1843, 307): 0.0024975615087896585, (1843, 407): 0.006738484371453524, (1843, 723): 0.002221468836069107, (1843, 1046): 0.004373947158455849, (1843, 1841): 0.004322138149291277, (1843, 1905): 0.0012466484913602471, (1843, 1985): 0.0011626555351540446, (1843, 1986): 0.00016800692537799478, (1843, 1988): 0.00026982120471075177, (1844, 262): 0.0, (1845, 587): 0.0, (1845, 749): 0.0, (1845, 955): 0.0, (1846, 108): 0.0035401827190071344, (1846, 324): 0.002767833648249507, (1846, 1131): 0.0011220753658562899, (1846, 1409): 0.007682273164391518, (1847, 455): 0.0, (1848, 85): 0.0, (1848, 662): 0.0, (1848, 1634): 0.0, (1849, 1687): 0.0, (1850, 1851): 0.0, (1850, 1852): 0.0, (1851, 1850): 0.0, (1851, 1852): 0.0, (1852, 840): 0.0, (1852, 1606): 0.0, (1852, 1850): 0.0, (1852, 1851): 0.0, (1853, 1156): 0.0, (1854, 826): 0.0, (1855, 1567): 0.0, (1855, 1568): 0.0, (1856, 479): 0.0, (1856, 1289): 0.0, (1857, 2055): 0.0, (1858, 1721): 0.0021974793635308743, (1858, 2109): 0.00011184012691956013, (1859, 444): 0.005922418087720871, (1859, 595): 0.009074347093701363, (1859, 614): 0.00022814987460151315, (1859, 1100): 0.0012137361336499453, (1859, 1429): 0.0027307544369250536, (1859, 1430): 0.00014282052870839834, (1859, 1452): 0.013343174010515213, (1859, 1634): 0.002445013029500842, (1859, 1757): 0.00831633247435093, (1859, 1831): 0.007410016842186451, (1859, 1832): 0.008161863312125206, (1860, 71): 0.0, (1860, 601): 0.0, (1860, 620): 0.0, (1860, 759): 0.0, (1860, 806): 0.0, (1860, 831): 0.0, (1860, 988): 0.0, (1861, 1694): 0.0, (1862, 4): 3.374263357613927e-08, (1862, 38): 6.475756819668277e-09, (1862, 54): 2.0646149678782422e-08, (1862, 354): 3.4663809600488094e-08, (1862, 766): 9.047111504401073e-09, (1862, 885): 3.8565925564171266e-08, (1862, 1324): 6.962153520362335e-08, (1862, 1468): 4.19142303087483e-08, (1862, 1999): 1.549529393685134e-08, (1863, 914): 0.0, (1863, 1100): 0.0, (1863, 1937): 0.0, (1864, 1100): 0.0, (1865, 1045): 0.0, (1865, 1460): 0.0, (1866, 1348): 0.0, (1866, 1460): 0.0, (1867, 640): 0.0, (1867, 862): 0.0, (1867, 962): 0.0, (1867, 1271): 0.0, (1867, 1611): 0.0, (1867, 1741): 0.0, (1867, 1933): 0.0, (1868, 350): 0.00012223786325193942, (1868, 1908): 0.004171568434685469, (1869, 1165): 0.014198505319654942, (1869, 1698): 0.0025206918362528086, (1870, 481): 0.0, (1870, 1356): 0.0, (1870, 1437): 0.0, (1871, 110): 0.0, (1871, 1155): 0.0, (1871, 1798): 0.0, (1872, 74): 0.0, (1872, 110): 0.0, (1873, 63): 7.282912404717692e-26, (1873, 862): 1.3549299879562753e-25, (1874, 3): 0.0, (1874, 357): 0.0, (1874, 604): 0.0, (1874, 1992): 0.0, (1875, 1656): 1.8212988379673334e-06, (1875, 1801): 2.4841133381414693e-06, (1875, 1876): 1.0087205737363547e-07, (1875, 1904): 2.854144213415566e-06, (1875, 1905): 6.774886287530535e-07, (1876, 1656): 2.487192659827997e-06, (1876, 1801): 4.501083822106011e-06, (1876, 1875): 6.381194452842465e-06, (1876, 1904): 1.4576423836842878e-06, (1876, 1905): 7.785095476720016e-06, (1877, 466): 0.00043308280874043703, (1877, 1417): 0.0009505486814305186, (1877, 1802): 0.0026099183596670628, (1878, 1678): 0.014115231111645699, (1879, 645): 0.0, (1880, 33): 0.0, (1880, 153): 0.0, (1880, 511): 0.0, (1880, 830): 0.0, (1881, 511): 0.0, (1881, 1958): 0.0, (1882, 876): 0.004212370608001947, (1882, 879): 0.007742118556052446, (1882, 1883): 0.0030634156428277493, (1883, 1882): 0.0030634161084890366, (1884, 600): 0.0, (1884, 877): 0.0, (1884, 1365): 0.0, (1885, 620): 0.0, (1885, 759): 0.0, (1885, 1163): 0.0, (1885, 1886): 0.0, (1885, 2090): 0.0, (1886, 620): 0.0, (1886, 759): 0.0, (1886, 1163): 0.0, (1886, 1885): 0.0, (1887, 1428): 0.0, (1888, 339): 0.0, (1888, 1482): 0.0, (1889, 942): 0.0, (1890, 826): 0.0, (1891, 390): 0.0, (1891, 437): 0.0, (1891, 636): 0.0, (1891, 1070): 0.0, (1892, 1453): 0.025178242474794388, (1893, 602): 0.0, (1893, 974): 0.0, (1893, 1894): 0.0, (1894, 162): 1.1582103070395533e-05, (1894, 225): 2.808759063555044e-06, (1894, 343): 5.815742042614147e-06, (1894, 345): 1.5960365544742672e-06, (1894, 602): 4.505116521613672e-06, (1894, 974): 7.247512712638127e-06, (1894, 975): 4.9031123126042075e-06, (1894, 1003): 3.2126963560585864e-06, (1894, 1100): 1.7559174011694267e-05, (1894, 1410): 5.859413704456529e-06, (1894, 1428): 4.892224751529284e-06, (1894, 1429): 5.622966000373708e-06, (1894, 1430): 8.652645192341879e-06, (1894, 1452): 5.4802067097625695e-06, (1894, 1523): 1.9912208699679468e-06, (1894, 1603): 2.1832079255545978e-06, (1894, 1607): 8.63524473970756e-06, (1894, 1608): 3.167289378325222e-06, (1894, 1668): 1.985169774343376e-06, (1894, 1788): 3.755383886527852e-06, (1894, 1893): 6.419462806661613e-06, (1894, 1952): 1.2977653568668757e-05, (1894, 2078): 4.931096555083059e-06, (1895, 862): 0.0, (1895, 1454): 0.0, (1896, 369): 0.0, (1896, 1036): 0.0, (1896, 1517): 0.0, (1897, 1390): 0.0, (1897, 1762): 0.0, (1898, 817): 0.0005189748480916023, (1898, 862): 0.003252873197197914, (1898, 1551): 0.003560481360182166, (1898, 1553): 0.00556101044639945, (1899, 684): 0.002207336947321892, (1899, 817): 0.0005189748480916023, (1899, 1551): 0.003560481360182166, (1899, 1553): 0.00556101044639945, (1899, 1611): 0.0020291723776608706, (1899, 1670): 0.0005275086732581258, (1900, 1713): 0.0016840014141052961, (1901, 180): 0.0, (1901, 1902): 0.0, (1902, 1901): 0.0, (1903, 1421): 0.0008416612399742007, (1903, 1496): 0.004933241289108992, (1903, 1540): 0.003707774681970477, (1903, 1659): 0.0005397606873884797, (1903, 1904): 0.003600470256060362, (1904, 213): 0.005140377674251795, (1904, 387): 0.014647192321717739, (1904, 515): 0.005791842006146908, (1904, 1275): 0.0010721918661147356, (1904, 1539): 0.0005017633084207773, (1904, 1540): 0.004735531285405159, (1904, 1781): 0.00041205284651368856, (1904, 1836): 0.005651010666042566, (1904, 1875): 0.005836631171405315, (1904, 1876): 0.001838575815781951, (1904, 1903): 0.008824105374515057, (1904, 1905): 0.00483967550098896, (1904, 1942): 0.0007098966743797064, (1904, 2107): 0.0032681103330105543, (1905, 458): 0.002595669822767377, (1905, 567): 0.0021028604824095964, (1905, 724): 0.0031380923464894295, (1905, 977): 0.0021482245065271854, (1905, 1177): 2.432550536468625e-05, (1905, 1767): 0.00048409277223981917, (1905, 1801): 0.0020932278130203485, (1905, 1843): 0.002268201904371381, (1905, 1875): 6.6061620600521564e-06, (1905, 1876): 0.000171296123880893, (1905, 1904): 0.0023587581235915422, (1905, 1988): 0.0014888669829815626, (1906, 1644): 0.0, (1907, 864): 0.0005770443822257221, (1907, 947): 0.0003489993105176836, (1908, 794): 0.001419323030859232, (1908, 846): 0.0025222706608474255, (1908, 1084): 0.0007833699928596616, (1908, 1868): 0.00029766838997602463, (1908, 1938): 0.0019201867980882525, (1909, 928): 0.0, (1909, 929): 0.0, (1910, 14): 0.0, (1910, 106): 0.0, (1910, 175): 0.0, (1910, 198): 0.0, (1910, 618): 0.0, (1910, 740): 0.0, (1910, 875): 0.0, (1910, 1249): 0.0, (1910, 1293): 0.0, (1910, 1390): 0.0, (1910, 1686): 0.0, (1911, 425): 0.0, (1912, 1285): 0.00022535218158736825, (1912, 1961): 0.0047554089687764645, (1913, 1914): 0.0, (1913, 1938): 0.0, (1913, 2050): 0.0, (1914, 1913): 0.0, (1914, 1915): 0.0, (1915, 587): 0.0, (1915, 1914): 0.0, (1916, 1272): 0.0, (1917, 287): 0.0008846134878695011, (1917, 380): 0.004574392922222614, (1917, 382): 0.003864309284836054, (1917, 624): 0.000680662808008492, (1917, 651): 0.004464372061192989, (1917, 736): 0.003600567579269409, (1917, 737): 3.125381772406399e-05, (1917, 738): 0.004872933495789766, (1917, 2054): 0.0024874797090888023, (1917, 2061): 0.0017530536279082298, (1918, 141): 0.0, (1919, 141): 0.0, (1920, 129): 0.0, (1921, 1230): 0.002156256465241313, (1922, 365): 0.010486346669495106, (1922, 1204): 0.004581667948514223, (1923, 1500): 0.0, (1924, 817): 7.464084461616949e-09, (1924, 938): 1.3076257410205017e-08, (1924, 1021): 6.090297599570249e-09, (1924, 1945): 8.551245267440777e-10, (1925, 781): 0.0008800344076007605, (1925, 1285): 0.002346782712265849, (1926, 625): 0.0, (1927, 1592): 0.00041346330544911325, (1927, 2109): 0.00011184012691956013, (1928, 1295): 0.0, (1928, 2090): 0.0, (1928, 2091): 0.0, (1929, 953): 0.0, (1930, 13): 0.0, (1930, 83): 0.0, (1930, 1355): 0.0, (1930, 1635): 0.0, (1930, 1699): 0.0, (1930, 1931): 0.0, (1930, 1957): 0.0, (1931, 829): 0.0, (1931, 1930): 0.0, (1932, 234): 0.0, (1932, 1446): 0.0, (1933, 1867): 0.0, (1934, 1348): 0.0, (1935, 688): 0.0, (1936, 1967): 0.0, (1937, 526): 0.0005980729474686086, (1937, 1863): 0.00024431716883555055, (1938, 780): 0.0, (1938, 1287): 0.0, (1938, 1507): 0.0, (1938, 1605): 0.0, (1938, 1908): 0.0, (1938, 1913): 0.0, (1939, 225): 0.0, (1939, 1225): 0.0, (1940, 922): 0.0017870443407446146, (1940, 1806): 0.04391872510313988, (1941, 1088): 0.0036402202676981688, (1942, 1704): 0.0, (1942, 1904): 0.0, (1943, 371): 0.005125116556882858, (1944, 2107): 0.0, (1945, 559): 1.642659896994303e-09, (1945, 575): 3.135097181861113e-10, (1945, 592): 6.349922809789632e-10, (1945, 655): 1.8392291023516805e-09, (1945, 1021): 3.388470060095017e-10, (1945, 1924): 2.770150775432967e-10, (1945, 1946): 1.384334535892151e-09, (1946, 370): 0.0, (1946, 655): 0.0, (1946, 980): 0.0, (1946, 1945): 0.0, (1947, 1073): 0.0021659594494849443, (1947, 1714): 4.502956289798021e-05, (1948, 1363): 0.0, (1949, 862): 0.0, (1950, 493): 1.0694260708987713e-05, (1950, 569): 0.00020541132835205644, (1950, 1276): 6.010866491124034e-05, (1950, 1277): 6.881605077069253e-05, (1950, 1707): 0.0004440138000063598, (1950, 1760): 0.00035029483842663467, (1951, 1981): 0.0, (1952, 502): 2.3220998173201224e-06, (1952, 602): 4.505116521613672e-06, (1952, 1397): 4.2045126065204386e-06, (1952, 1602): 5.216886165726464e-06, (1952, 1894): 5.587341547652613e-06, (1952, 2078): 4.931096555083059e-06, (1953, 85): 0.0, (1953, 1954): 0.0, (1954, 227): 0.0, (1954, 563): 0.0, (1954, 625): 0.0, (1954, 641): 0.0, (1954, 1155): 0.0, (1954, 1953): 0.0, (1955, 1977): 0.0, (1956, 253): 0.0, (1957, 1930): 0.0, (1958, 509): 0.0, (1958, 871): 0.0, (1958, 1881): 0.0, (1959, 1409): 0.005731354467570782, (1960, 6): 0.0018517421558499336, (1960, 97): 0.006589931435883045, (1960, 679): 0.006422323640435934, (1961, 1912): 0.004530056845396757, (1962, 1694): 0.0, (1963, 486): 0.0, (1963, 552): 0.0, (1963, 857): 0.0, (1963, 1378): 0.0, (1963, 1807): 0.0, (1964, 1694): 0.0, (1965, 236): 0.0, (1966, 337): 0.004729490261524916, (1966, 1327): 0.004019541200250387, (1967, 431): 2.8016870601277333e-08, (1967, 1936): 9.452283848077059e-06, (1968, 320): 0.0, (1969, 486): 0.0, (1969, 564): 0.0, (1969, 2044): 0.0, (1970, 1423): 0.0, (1971, 55): 0.0, (1971, 1309): 0.0, (1972, 1038): 0.004396011121571064, (1972, 1381): 0.004750470630824566, (1972, 1437): 0.0012459242716431618, (1972, 1476): 0.0007488142000511289, (1972, 1648): 0.0019392017275094986, (1972, 2055): 0.0012507266364991665, (1972, 2062): 0.0055199796333909035, (1972, 2080): 0.0006464020116254687, (1973, 582): 6.822909199399874e-05, (1973, 1289): 0.02149706706404686, (1974, 860): 0.0, (1974, 1573): 0.0, (1974, 1975): 0.0, (1975, 1830): 3.843724698526785e-05, (1975, 1974): 6.920290616108105e-05, (1976, 126): 0.0, (1976, 201): 0.0, (1977, 141): 0.0, (1977, 516): 0.0, (1977, 1829): 0.0, (1977, 1955): 0.0, (1978, 121): 0.007620869670063257, (1978, 202): 0.004411059431731701, (1978, 704): 0.008409290574491024, (1978, 1068): 0.00920772273093462, (1978, 1321): 0.010332933627068996, (1978, 1628): 0.0076375179924070835, (1979, 236): 0.0250545646995306, (1979, 1374): 0.0008895378559827805, (1980, 866): 0.0, (1980, 1055): 0.0, (1980, 1981): 0.0, (1980, 1982): 0.0, (1980, 1983): 0.0, (1981, 189): 0.0, (1981, 1055): 0.0, (1981, 1951): 0.0, (1981, 1980): 0.0, (1981, 1982): 0.0, (1982, 865): 0.0, (1982, 866): 0.0, (1982, 1980): 0.0, (1982, 1981): 0.0, (1983, 1980): 0.0, (1984, 1516): 0.0, (1985, 1843): 0.0, (1985, 1986): 0.0, (1986, 1841): 0.0, (1986, 1843): 0.0, (1986, 1985): 0.0, (1986, 1988): 0.0, (1987, 1988): 0.0, (1988, 278): 0.0020617246627807617, (1988, 567): 0.0020157070830464363, (1988, 1784): 0.002257011365145445, (1988, 1801): 0.0016371990786865354, (1988, 1843): 0.0021125974599272013, (1988, 1905): 0.00015716141206212342, (1988, 1986): 0.002972299698740244, (1988, 1987): 0.000841367756947875, (1989, 1990): 0.0, (1989, 2062): 0.0, (1990, 165): 0.001594156608916819, (1990, 591): 0.0012595372973009944, (1990, 1989): 0.001594156608916819, (1991, 27): 0.0, (1991, 494): 0.0, (1992, 357): 0.0, (1992, 1366): 0.0, (1992, 1464): 0.0, (1992, 1874): 0.0, (1993, 66): 0.002957733580842614, (1993, 838): 0.004111481364816427, (1993, 2048): 0.0011099108960479498, (1994, 1694): 0.0, (1995, 463): 0.0, (1995, 971): 0.0, (1995, 1053): 0.0, (1996, 76): 0.0, (1997, 739): 0.0, (1997, 740): 0.0, (1997, 1390): 0.0, (1998, 14): 0.0, (1998, 175): 0.0, (1998, 247): 0.0, (1999, 211): 0.0, (1999, 362): 0.0, (1999, 1613): 0.0, (1999, 1862): 0.0, (2000, 1026): 0.0, (2000, 1027): 0.0, (2000, 1282): 0.0, (2001, 621): 0.0, (2001, 874): 0.0, (2001, 1010): 0.0, (2002, 730): 0.0, (2002, 769): 0.0, (2002, 964): 0.0, (2003, 43): 0.0024540673475712538, (2003, 492): 0.00014773104339838028, (2003, 1781): 0.00012496841372922063, (2004, 452): 0.0, (2004, 2005): 0.0, (2005, 2004): 0.0, (2006, 2107): 0.0, (2007, 66): 0.002272160956636071, (2007, 253): 0.0002566463954281062, (2007, 415): 0.0004811940307263285, (2007, 906): 0.00533328577876091, (2007, 1072): 0.004193221218883991, (2007, 1158): 0.005597271490842104, (2007, 1231): 0.0035546189174056053, (2008, 1407): 0.0, (2008, 1408): 0.0, (2009, 604): 0.0, (2010, 894): 0.00011200312292203307, (2010, 1427): 4.449089101399295e-05, (2011, 304): 0.0, (2011, 763): 0.0, (2011, 935): 0.0, (2012, 0): 0.0, (2012, 847): 0.0, (2012, 1529): 0.0, (2013, 1027): 0.0001687772455625236, (2013, 1283): 0.0061205048114061356, (2013, 1284): 0.0026502017863094807, (2014, 273): 0.0, (2014, 485): 0.0, (2014, 853): 0.0, (2015, 151): 0.00039114541141316295, (2015, 619): 1.1626718332991004e-05, (2015, 1079): 0.00028231972828507423, (2015, 1319): 0.0007913464214652777, (2015, 1481): 0.0015909775393083692, (2015, 1554): 0.0018486197805032134, (2015, 1632): 0.0012516004499047995, (2015, 2084): 0.0001341783645329997, (2015, 2085): 0.0013181098038330674, (2016, 1360): 0.0, (2017, 52): 0.0, (2017, 764): 0.0, (2018, 2062): 0.0, (2019, 426): 0.0, (2019, 1475): 0.0, (2020, 882): 0.0, (2020, 1184): 0.0, (2020, 1503): 0.0, (2021, 844): 0.0, (2021, 1323): 0.0, (2022, 2023): 0.0, (2022, 2024): 0.0, (2023, 456): 0.0, (2023, 2022): 0.0, (2024, 2022): 0.0, (2025, 368): 0.0, (2026, 1172): 0.004858292639255524, (2027, 2028): 3.976456355303526e-05, (2027, 2029): 0.002211224287748337, (2027, 2030): 0.0003500960301607847, (2028, 2027): 0.002754803281277418, (2028, 2030): 0.0003500960301607847, (2029, 2027): 0.0, (2030, 506): 0.006051362492144108, (2030, 2027): 0.0025215549394488335, (2030, 2028): 0.003104899311438203, (2031, 1027): 0.0, (2031, 1283): 0.0, (2031, 1724): 0.0, (2032, 1204): 0.004581667948514223, (2032, 1283): 0.002725680358707905, (2033, 457): 0.0, (2033, 1750): 0.0, (2034, 122): 0.0, (2035, 122): 0.0, (2036, 289): 0.017612477764487267, (2036, 733): 0.0068005663342773914, (2036, 1563): 0.004317990969866514, (2036, 1565): 0.011285528540611267, (2036, 1566): 0.011726423166692257, (2036, 1708): 0.0037544388324022293, (2037, 880): 0.0, (2037, 913): 0.0, (2038, 46): 8.946677553467453e-05, (2038, 279): 0.00026843705563806, (2038, 688): 0.000513798207975924, (2038, 1227): 0.0002686255320440978, (2038, 2046): 0.0008900462999008596, (2039, 675): 0.0, (2039, 1370): 0.0, (2040, 36): 0.0, (2040, 147): 0.0, (2040, 391): 0.0, (2040, 842): 0.0, (2040, 873): 0.0, (2040, 1152): 0.0, (2040, 1511): 0.0, (2041, 953): 0.0, (2042, 1509): 0.0, (2042, 2043): 0.0, (2043, 1280): 0.0, (2043, 1427): 0.0, (2043, 2042): 0.0, (2044, 24): 0.0, (2044, 401): 0.0, (2044, 1710): 0.0, (2044, 1969): 0.0, (2045, 643): 0.0, (2046, 2038): 0.0020303737837821245, (2047, 475): 0.0, (2047, 860): 0.0, (2048, 257): 0.0014301830669865012, (2048, 1993): 0.0003202726074960083, (2049, 888): 0.017616111785173416, (2049, 1178): 0.008999504148960114, (2050, 1472): 0.0, (2050, 1913): 0.0, (2051, 55): 0.0, (2051, 804): 0.0, (2051, 1067): 0.0, (2052, 804): 0.0, (2052, 1067): 0.0, (2053, 334): 0.0, (2053, 455): 0.0, (2053, 1032): 0.0, (2053, 1091): 0.0, (2053, 1365): 0.0, (2054, 990): 0.0, (2054, 1242): 0.0, (2054, 1917): 0.0, (2055, 548): 0.0, (2055, 554): 0.0, (2055, 1036): 0.0, (2055, 1038): 0.0, (2055, 1311): 0.0, (2055, 1388): 0.0, (2055, 1517): 0.0, (2055, 1544): 0.0, (2055, 1569): 0.0, (2055, 1857): 0.0, (2055, 1972): 0.0, (2055, 2056): 0.0, (2056, 404): 0.0013912899885326624, (2056, 1311): 0.003781036240980029, (2056, 1388): 5.727089592255652e-05, (2056, 1750): 0.0024143552873283625, (2056, 1751): 0.0024354029446840286, (2056, 2055): 0.004395239986479282, (2056, 2062): 0.0030769607983529568, (2056, 2071): 0.0018609522376209497, (2057, 2058): 0.0, (2058, 791): 0.0, (2058, 1300): 0.0, (2058, 2057): 0.0, (2059, 1750): 0.0, (2059, 1751): 0.0, (2060, 1750): 0.0, (2060, 1751): 0.0, (2061, 797): 0.00022330274805426598, (2061, 1066): 0.003669890807941556, (2061, 1307): 0.003752507735043764, (2061, 1751): 0.003656538436189294, (2061, 1917): 0.0028957717586308718, (2062, 165): 0.001594156608916819, (2062, 216): 0.0024221709463745356, (2062, 531): 0.005655183456838131, (2062, 1038): 0.007419784553349018, (2062, 1145): 0.002435395261272788, (2062, 1346): 0.0007555657648481429, (2062, 1363): 0.0005118764820508659, (2062, 1388): 0.0008669830276630819, (2062, 1389): 0.0025489521212875843, (2062, 1569): 0.0006502202013507485, (2062, 1824): 0.002097347052767873, (2062, 1972): 0.0027407892048358917, (2062, 1989): 0.001594156608916819, (2062, 2018): 0.004435899667441845, (2062, 2056): 0.0039823404513299465, (2062, 2080): 0.0026259764563292265, (2063, 155): 0.0, (2063, 229): 0.0, (2064, 295): 0.0, (2064, 1694): 0.0, (2064, 2066): 0.0, (2065, 83): 0.0036349883303046227, (2065, 645): 0.00198181695304811, (2065, 1355): 6.533200212288648e-05, (2065, 1635): 0.02070719003677368, (2065, 1699): 0.0008326670504175127, (2065, 1800): 0.003314621513709426, (2065, 1813): 0.004178064409643412, (2066, 1355): 0.0, (2066, 2064): 0.0, (2067, 295): 0.0, (2067, 743): 0.0, (2067, 744): 0.0, (2067, 1694): 0.0, (2068, 80): 1.1137809018168035e-14, (2068, 441): 3.1242130515534696e-15, (2068, 448): 6.28321798141541e-15, (2068, 619): 3.836600582721042e-15, (2068, 904): 3.1433824659410185e-15, (2068, 1079): 2.723642118132287e-16, (2068, 1454): 2.2565999565379684e-15, (2068, 1481): 1.6269520859658534e-14, (2068, 1554): 1.891059500018586e-14, (2068, 2084): 1.676021382226653e-14, (2069, 1311): 0.0, (2070, 2071): 0.0, (2071, 2056): 0.0, (2071, 2070): 0.0, (2071, 2079): 0.0, (2072, 178): 0.0, (2072, 1499): 0.0, (2072, 1829): 0.0, (2073, 343): 0.0, (2073, 707): 0.0, (2073, 1604): 0.0, (2074, 871): 0.0, (2075, 1694): 0.0, (2075, 2107): 0.0, (2076, 1263): 0.0, (2076, 1318): 0.0, (2076, 1684): 0.0, (2077, 1786): 0.0, (2077, 1795): 0.0, (2078, 1159): 1.0639460015227087e-05, (2078, 1699): 1.5643950064259116e-06, (2078, 1894): 5.000090095563792e-05, (2078, 1952): 1.8358026864007115e-05, (2079, 1348): 0.0, (2079, 1571): 0.0, (2079, 2071): 0.0, (2079, 2081): 0.0, (2080, 1311): 0.0, (2080, 1972): 0.0, (2080, 2062): 0.0, (2081, 1570): 0.0, (2081, 1571): 0.0, (2081, 1750): 0.0, (2081, 2079): 0.0, (2082, 824): 0.0005519200349226594, (2082, 1767): 8.610368240624666e-07, (2083, 151): 0.00039114541141316295, (2083, 181): 0.0014967272290959954, (2083, 266): 0.00014866307901684195, (2083, 268): 0.0015057031996548176, (2083, 441): 0.0012897939886897802, (2083, 1289): 0.00020905150449834764, (2083, 1554): 0.0018486197805032134, (2083, 2084): 0.0001341783645329997, (2083, 2085): 0.0013181098038330674, (2084, 80): 0.00025503698270767927, (2084, 151): 0.00039114541141316295, (2084, 181): 0.0014967272290959954, (2084, 266): 0.00014866307901684195, (2084, 268): 0.0015057031996548176, (2084, 452): 0.0006503485492430627, (2084, 1079): 0.00028231972828507423, (2084, 1289): 0.00020905150449834764, (2084, 1454): 0.0005158217390999198, (2084, 1481): 0.0015909775393083692, (2084, 1554): 0.0018486197805032134, (2084, 2015): 0.00011137315595988184, (2084, 2068): 0.0001633331849006936, (2084, 2083): 0.0020820293575525284, (2084, 2085): 0.0013181098038330674, (2085, 181): 0.0008078280370682478, (2085, 452): 0.0003510488895699382, (2085, 619): 6.325608410406858e-06, (2085, 862): 0.00020067233708687127, (2085, 1079): 0.00015228870324790478, (2085, 1160): 0.0004521676164586097, (2085, 1289): 0.00011286992230452597, (2085, 1454): 0.0002784357056953013, (2085, 1481): 0.0008584052557125688, (2085, 1554): 0.0009973327396437526, (2085, 2015): 6.008824857417494e-05, (2085, 2083): 0.0011235938873142004, (2085, 2084): 7.219413237180561e-05, (2086, 36): 0.0, (2086, 1152): 0.0, (2087, 17): 0.0, (2087, 837): 0.0, (2087, 1590): 0.0, (2088, 355): 0.0, (2088, 363): 0.0, (2088, 898): 0.0, (2088, 1690): 0.0, (2089, 564): 0.005991492886096239, (2089, 896): 0.002771469298750162, (2089, 1037): 0.001787861343473196, (2089, 1311): 0.006294930819422007, (2089, 1388): 0.0004009238909929991, (2090, 17): 1.8328024445207417e-28, (2090, 222): 1.1927492386765389e-28, (2090, 316): 2.5628479770232194e-28, (2090, 576): 3.796233013449492e-29, (2090, 804): 1.3644963886943903e-29, (2090, 818): 1.4098878491446132e-28, (2090, 1018): 1.6111664867059694e-29, (2090, 1048): 4.425854118823368e-29, (2090, 1049): 2.2027645590409154e-28, (2090, 1067): 2.4455785841919667e-28, (2090, 1086): 1.2822003489277854e-29, (2090, 1295): 1.3307123876483678e-28, (2090, 1668): 5.55864428332096e-29, (2090, 1885): 1.3384182740971042e-28, (2090, 1928): 2.3427608881809097e-28, (2091, 144): 0.0008476994698867202, (2091, 284): 0.001502475468441844, (2091, 576): 0.0007950040744617581, (2091, 1018): 0.002230255398899317, (2091, 1080): 0.0014404188841581345, (2091, 1358): 0.0024645859375596046, (2091, 1423): 0.004865449853241444, (2091, 1928): 0.0015190159901976585, (2092, 666): 2.531813152018003e-05, (2093, 220): 0.0, (2093, 987): 0.0, (2093, 1634): 0.0, (2093, 1635): 0.0, (2094, 238): 0.0, (2094, 952): 0.0, (2094, 1575): 0.0, (2094, 2097): 0.0, (2094, 2099): 0.0, (2095, 1582): 0.0, (2096, 377): 0.002189329592511058, (2096, 516): 0.0033327527344226837, (2096, 1508): 0.00023480298114009202, (2096, 1829): 0.0033327527344226837, (2097, 951): 0.0, (2097, 952): 0.0, (2097, 2094): 0.0, (2098, 187): 0.0, (2098, 941): 0.0, (2098, 1150): 0.0, (2098, 1468): 0.0, (2098, 1547): 0.0, (2099, 180): 0.0, (2099, 238): 0.0, (2099, 951): 0.0, (2099, 2094): 0.0, (2100, 122): 0.0, (2101, 664): 0.0, (2101, 831): 0.0, (2101, 1048): 0.0, (2101, 1049): 0.0, (2101, 1379): 0.0, (2102, 122): 0.0, (2102, 2103): 0.0, (2103, 2102): 0.0, (2104, 245): 0.0, (2104, 2105): 0.0, (2105, 245): 0.0, (2105, 663): 0.0, (2105, 2104): 0.0, (2106, 976): 3.21240843481858e-18, (2107, 1694): 0.0, (2107, 1904): 0.0, (2107, 1944): 0.0, (2107, 2006): 0.0, (2107, 2075): 0.0, (2108, 560): 0.0, (2108, 725): 0.0, (2108, 1311): 0.0, (2108, 1388): 0.0, (2108, 1437): 0.0, (2108, 1515): 0.0, (2108, 1534): 0.0, (2109, 113): 0.004092989955097437, (2109, 669): 0.0014274675631895661, (2109, 1027): 0.024987464770674706, (2109, 1350): 0.030842266976833344, (2109, 1858): 0.0005766107933595777, (2109, 1927): 0.004331496544182301}\n"
          ]
        }
      ]
    },
    {
      "cell_type": "code",
      "source": [
        "keys_list = list(edge_scores.keys())\n",
        "print(keys_list)"
      ],
      "metadata": {
        "colab": {
          "base_uri": "https://localhost:8080/"
        },
        "id": "XqxD5NqnRbKP",
        "outputId": "114e710e-1a1d-4118-9c2f-71288b4fcb08"
      },
      "execution_count": null,
      "outputs": [
        {
          "output_type": "stream",
          "name": "stdout",
          "text": [
            "[(0, 253), (0, 285), (0, 850), (0, 894), (0, 1063), (0, 1222), (0, 1436), (0, 1437), (0, 1638), (0, 1639), (0, 2012), (1, 393), (1, 1523), (1, 1733), (2, 3), (2, 1357), (2, 1366), (3, 2), (3, 1874), (4, 488), (4, 712), (4, 734), (4, 982), (4, 1785), (4, 1862), (5, 56), (5, 635), (5, 650), (5, 652), (5, 1227), (5, 1368), (6, 354), (6, 754), (6, 756), (6, 1960), (7, 986), (7, 1746), (7, 1821), (8, 1320), (9, 726), (10, 412), (10, 990), (10, 1242), (11, 942), (12, 1231), (13, 207), (13, 521), (13, 617), (13, 1273), (13, 1362), (13, 1734), (13, 1930), (14, 106), (14, 175), (14, 247), (14, 1259), (14, 1910), (14, 1998), (15, 246), (16, 60), (16, 176), (16, 1392), (16, 1425), (17, 862), (17, 1289), (17, 2087), (17, 2090), (18, 1769), (19, 1806), (19, 1809), (20, 1658), (21, 121), (21, 135), (21, 376), (22, 368), (22, 1739), (23, 843), (23, 844), (23, 1166), (23, 1596), (24, 401), (24, 486), (24, 593), (24, 1168), (24, 1701), (24, 2044), (25, 862), (25, 940), (26, 81), (26, 741), (27, 858), (27, 1991), (28, 35), (28, 517), (28, 1122), (28, 1226), (29, 826), (29, 1579), (30, 132), (30, 244), (30, 683), (30, 964), (30, 1154), (30, 1233), (30, 1404), (31, 305), (32, 87), (32, 88), (32, 517), (32, 1226), (33, 1880), (34, 85), (34, 519), (34, 1634), (34, 1716), (34, 1833), (35, 28), (35, 1122), (35, 1226), (36, 187), (36, 1511), (36, 1631), (36, 2040), (36, 2086), (37, 777), (37, 1276), (37, 1277), (37, 1747), (37, 1760), (37, 1761), (37, 1801), (37, 1838), (38, 459), (38, 497), (38, 935), (38, 959), (38, 1630), (38, 1653), (38, 1862), (39, 169), (39, 761), (39, 1118), (39, 1154), (39, 1226), (39, 1417), (40, 451), (40, 895), (40, 1332), (41, 236), (41, 390), (41, 1744), (42, 1057), (42, 1353), (42, 1627), (43, 389), (43, 2003), (44, 1445), (45, 149), (45, 1280), (45, 1684), (46, 2038), (47, 571), (48, 1140), (48, 1141), (48, 1806), (49, 862), (50, 390), (51, 367), (52, 95), (52, 1117), (52, 2017), (53, 1027), (53, 1256), (53, 1392), (53, 1722), (54, 354), (54, 1862), (55, 1309), (55, 1971), (55, 2051), (56, 5), (56, 635), (56, 650), (56, 652), (56, 1335), (56, 1368), (57, 158), (57, 1750), (58, 1628), (59, 1038), (60, 16), (60, 1392), (61, 163), (62, 1225), (62, 1423), (63, 301), (63, 685), (63, 753), (63, 862), (63, 976), (63, 999), (63, 1254), (63, 1400), (63, 1454), (63, 1873), (64, 676), (64, 967), (64, 1001), (64, 1738), (65, 699), (65, 1462), (66, 329), (66, 864), (66, 881), (66, 1428), (66, 1993), (66, 2007), (67, 645), (67, 786), (67, 1745), (68, 645), (69, 336), (69, 1280), (70, 1480), (71, 186), (71, 664), (71, 806), (71, 988), (71, 1379), (71, 1426), (71, 1860), (72, 220), (72, 598), (72, 1152), (73, 865), (74, 110), (74, 1872), (75, 354), (75, 386), (76, 299), (76, 546), (76, 921), (76, 1246), (76, 1315), (76, 1996), (77, 1016), (77, 1823), (78, 354), (78, 885), (79, 1333), (79, 1368), (79, 1808), (80, 139), (80, 151), (80, 266), (80, 268), (80, 393), (80, 619), (80, 862), (80, 904), (80, 1079), (80, 1319), (80, 1481), (80, 1554), (80, 2068), (80, 2084), (81, 26), (82, 1533), (82, 1655), (82, 1657), (82, 1692), (82, 1783), (83, 295), (83, 359), (83, 445), (83, 1001), (83, 1054), (83, 1182), (83, 1446), (83, 1817), (83, 1930), (83, 2065), (84, 86), (84, 667), (85, 34), (85, 445), (85, 626), (85, 668), (85, 845), (85, 967), (85, 1001), (85, 1202), (85, 1261), (85, 1352), (85, 1355), (85, 1523), (85, 1584), (85, 1634), (85, 1848), (85, 1953), (86, 84), (86, 237), (86, 318), (86, 447), (86, 1001), (87, 32), (87, 88), (87, 1088), (88, 32), (88, 87), (88, 275), (88, 643), (88, 1088), (88, 1089), (89, 1246), (89, 1397), (89, 1429), (89, 1430), (89, 1452), (89, 1746), (90, 328), (90, 371), (90, 1184), (90, 1361), (90, 1503), (90, 1725), (91, 274), (91, 280), (91, 688), (91, 1074), (91, 1191), (91, 1333), (92, 200), (92, 1756), (93, 967), (94, 593), (95, 52), (95, 1152), (96, 1313), (97, 282), (97, 644), (97, 670), (97, 754), (97, 756), (97, 1680), (97, 1736), (97, 1960), (98, 448), (98, 819), (98, 1081), (98, 1195), (98, 1452), (98, 1454), (98, 1716), (98, 1717), (99, 1328), (100, 840), (100, 841), (101, 1064), (102, 354), (102, 885), (103, 488), (103, 597), (103, 885), (104, 235), (104, 1045), (104, 1348), (104, 1687), (105, 132), (105, 244), (105, 672), (105, 683), (105, 1108), (106, 14), (106, 247), (106, 618), (106, 740), (106, 1390), (106, 1910), (107, 1795), (108, 1846), (109, 207), (109, 414), (109, 450), (109, 534), (109, 702), (109, 948), (109, 1322), (109, 1716), (110, 74), (110, 1871), (110, 1872), (111, 1348), (112, 1580), (113, 1027), (113, 2109), (114, 369), (114, 378), (114, 442), (114, 889), (114, 1017), (114, 1299), (114, 1303), (114, 1389), (114, 1750), (114, 1752), (115, 846), (115, 1605), (116, 1620), (117, 338), (117, 1201), (118, 898), (118, 1186), (119, 1026), (119, 1027), (119, 1350), (120, 1750), (121, 21), (121, 1068), (121, 1152), (121, 1262), (121, 1321), (121, 1978), (122, 152), (122, 758), (122, 1111), (122, 1532), (122, 1580), (122, 2034), (122, 2035), (122, 2100), (122, 2102), (123, 1218), (123, 1778), (124, 205), (124, 1402), (125, 1316), (125, 1419), (125, 1806), (126, 1976), (127, 1524), (127, 1570), (128, 1099), (129, 1152), (129, 1575), (129, 1920), (130, 179), (130, 585), (131, 205), (131, 440), (131, 480), (131, 803), (131, 1126), (132, 30), (132, 105), (132, 292), (132, 683), (132, 729), (132, 1404), (132, 1417), (133, 1750), (134, 721), (134, 1771), (135, 21), (135, 681), (136, 1164), (136, 1403), (137, 1697), (138, 507), (138, 1629), (139, 80), (139, 268), (139, 904), (139, 1554), (140, 1759), (141, 269), (141, 1918), (141, 1919), (141, 1977), (142, 1750), (143, 1591), (144, 718), (144, 804), (144, 805), (144, 817), (144, 862), (144, 937), (144, 938), (144, 1000), (144, 1018), (144, 1019), (144, 1021), (144, 1067), (144, 1252), (144, 1289), (144, 1553), (144, 2091), (145, 1283), (146, 660), (147, 1631), (147, 2040), (148, 405), (148, 699), (149, 45), (149, 1280), (149, 1684), (150, 219), (151, 80), (151, 181), (151, 452), (151, 619), (151, 862), (151, 904), (151, 1079), (151, 1454), (151, 1481), (151, 1554), (151, 2015), (151, 2083), (151, 2084), (152, 122), (153, 1880), (154, 300), (154, 392), (154, 1098), (154, 1099), (154, 1493), (155, 430), (155, 848), (155, 1054), (155, 1505), (155, 2063), (156, 169), (156, 389), (156, 400), (156, 964), (156, 1108), (156, 1154), (156, 1233), (156, 1404), (156, 1802), (157, 448), (157, 684), (157, 862), (157, 893), (157, 938), (157, 1160), (157, 1452), (158, 57), (158, 1260), (158, 1750), (159, 1304), (159, 1305), (160, 946), (160, 1223), (161, 1120), (161, 1250), (162, 286), (162, 815), (162, 1429), (162, 1607), (162, 1894), (163, 61), (163, 1580), (164, 786), (165, 1990), (165, 2062), (166, 826), (166, 1668), (167, 385), (167, 459), (167, 497), (167, 1630), (168, 1564), (169, 39), (169, 156), (170, 1082), (170, 1083), (170, 1084), (171, 1149), (171, 1733), (171, 1788), (171, 1790), (172, 1502), (173, 1171), (173, 1619), (174, 926), (174, 930), (174, 1770), (175, 14), (175, 247), (175, 618), (175, 740), (175, 1390), (175, 1910), (175, 1998), (176, 16), (176, 233), (176, 503), (176, 551), (176, 1187), (176, 1348), (177, 1811), (178, 388), (178, 516), (178, 602), (178, 1829), (178, 2072), (179, 130), (179, 1572), (180, 1901), (180, 2099), (181, 151), (181, 266), (181, 441), (181, 655), (181, 1289), (181, 1481), (181, 1554), (181, 2083), (181, 2084), (181, 2085), (182, 723), (183, 219), (183, 1370), (184, 853), (185, 1781), (186, 71), (186, 601), (186, 620), (186, 664), (186, 759), (186, 804), (186, 805), (186, 831), (186, 988), (186, 1054), (186, 1067), (187, 36), (187, 1152), (187, 1468), (187, 2098), (188, 1311), (188, 1388), (188, 1569), (189, 467), (189, 1981), (190, 1413), (191, 1239), (192, 203), (192, 1313), (192, 1536), (193, 1640), (194, 1038), (195, 786), (196, 623), (196, 1498), (197, 1413), (198, 1526), (198, 1686), (198, 1910), (199, 979), (199, 1202), (200, 92), (200, 376), (200, 1582), (201, 1801), (201, 1976), (202, 707), (202, 842), (202, 1978), (203, 192), (203, 1313), (204, 1054), (204, 1110), (204, 1523), (205, 124), (205, 131), (206, 1600), (206, 1759), (207, 13), (207, 109), (207, 261), (207, 519), (207, 622), (207, 986), (207, 987), (207, 1322), (207, 1716), (207, 1833), (208, 610), (208, 982), (209, 670), (209, 682), (209, 995), (209, 1243), (209, 1469), (210, 1083), (211, 354), (211, 410), (211, 478), (211, 902), (211, 903), (211, 905), (211, 907), (211, 1198), (211, 1680), (211, 1999), (212, 1750), (213, 495), (213, 1780), (213, 1904), (214, 862), (214, 1386), (215, 618), (215, 1348), (216, 1544), (216, 2062), (217, 644), (217, 1479), (218, 819), (218, 862), (218, 1295), (218, 1452), (218, 1453), (218, 1454), (219, 150), (219, 183), (220, 72), (220, 595), (220, 614), (220, 987), (220, 988), (220, 1132), (220, 1222), (220, 1304), (220, 1604), (220, 1663), (220, 2093), (221, 848), (222, 395), (222, 2090), (223, 307), (223, 787), (223, 1046), (224, 1252), (225, 388), (225, 394), (225, 444), (225, 602), (225, 1634), (225, 1635), (225, 1831), (225, 1832), (225, 1894), (225, 1939), (226, 402), (226, 460), (227, 641), (227, 1954), (228, 1143), (228, 1145), (228, 1648), (229, 2063), (230, 383), (230, 920), (231, 1007), (231, 1149), (231, 1790), (232, 885), (233, 176), (233, 1425), (233, 1661), (234, 1446), (234, 1932), (235, 104), (236, 41), (236, 430), (236, 913), (236, 942), (236, 981), (236, 1815), (236, 1965), (236, 1979), (237, 86), (237, 318), (237, 667), (237, 1001), (238, 2094), (238, 2099), (239, 1210), (239, 1818), (240, 953), (240, 1591), (240, 1666), (241, 640), (241, 832), (241, 833), (241, 862), (241, 938), (241, 948), (241, 950), (242, 1193), (242, 1196), (242, 1443), (242, 1453), (243, 915), (243, 1288), (244, 30), (244, 105), (244, 292), (244, 683), (244, 729), (244, 1404), (244, 1417), (245, 622), (245, 629), (245, 663), (245, 2104), (245, 2105), (246, 15), (246, 1644), (246, 1645), (247, 14), (247, 106), (247, 175), (247, 740), (247, 1390), (247, 1998), (248, 645), (248, 796), (249, 1594), (249, 1595), (249, 1747), (250, 862), (250, 1454), (251, 689), (251, 1826), (251, 1827), (252, 282), (253, 0), (253, 1494), (253, 1956), (253, 2007), (254, 1423), (255, 1104), (255, 1771), (256, 1155), (256, 1156), (257, 828), (257, 838), (257, 2048), (258, 795), (259, 1139), (260, 606), (261, 207), (261, 614), (261, 817), (261, 862), (262, 379), (262, 1499), (262, 1844), (263, 331), (263, 333), (263, 340), (263, 353), (264, 955), (264, 1748), (265, 1177), (265, 1473), (266, 80), (266, 181), (266, 441), (266, 448), (266, 619), (266, 904), (266, 1079), (266, 1454), (266, 1481), (266, 1554), (266, 2083), (266, 2084), (267, 703), (267, 746), (268, 80), (268, 139), (268, 452), (268, 619), (268, 655), (268, 862), (268, 904), (268, 945), (268, 1079), (268, 1160), (268, 1454), (268, 1481), (268, 1554), (268, 2083), (268, 2084), (269, 141), (270, 509), (270, 871), (271, 1125), (271, 1694), (272, 601), (272, 620), (272, 759), (272, 831), (272, 1049), (273, 433), (273, 853), (273, 854), (273, 1731), (273, 2014), (274, 91), (274, 1074), (274, 1191), (275, 88), (275, 1118), (276, 1358), (277, 337), (277, 1327), (278, 984), (278, 1564), (278, 1988), (279, 1227), (279, 1333), (279, 2038), (280, 91), (281, 732), (281, 1751), (282, 97), (282, 252), (283, 1221), (284, 1081), (284, 2091), (285, 0), (286, 162), (286, 630), (286, 1225), (287, 1917), (288, 852), (289, 1563), (289, 2036), (290, 318), (290, 1001), (291, 740), (292, 132), (292, 244), (293, 1187), (293, 1405), (294, 888), (295, 83), (295, 743), (295, 1635), (295, 1781), (295, 2064), (295, 2067), (296, 1541), (297, 300), (297, 392), (297, 1098), (297, 1099), (297, 1493), (298, 611), (298, 969), (299, 76), (299, 1371), (300, 154), (300, 297), (300, 1493), (301, 63), (302, 850), (302, 1678), (303, 1296), (304, 332), (304, 763), (304, 987), (304, 2011), (305, 31), (305, 1543), (305, 1733), (305, 1790), (306, 1447), (306, 1448), (307, 223), (307, 1286), (307, 1822), (307, 1840), (307, 1843), (308, 1320), (309, 977), (310, 432), (311, 700), (311, 722), (311, 927), (311, 1220), (311, 1541), (311, 1793), (312, 1409), (313, 786), (314, 1348), (314, 1687), (314, 1689), (314, 1803), (315, 354), (316, 598), (316, 668), (316, 1001), (316, 1128), (316, 2090), (317, 702), (317, 1144), (317, 1400), (317, 1401), (318, 86), (318, 237), (318, 290), (318, 667), (319, 1649), (320, 1290), (320, 1291), (320, 1292), (320, 1781), (320, 1968), (321, 438), (321, 837), (321, 1794), (322, 436), (323, 1706), (324, 1131), (324, 1279), (324, 1846), (325, 697), (326, 557), (326, 1293), (327, 546), (327, 549), (327, 1040), (327, 1246), (327, 1501), (328, 90), (328, 1237), (329, 66), (329, 668), (329, 1001), (330, 782), (331, 263), (331, 1236), (332, 304), (332, 450), (332, 873), (333, 263), (333, 1236), (334, 2053), (335, 1178), (336, 69), (336, 1280), (337, 277), (337, 919), (337, 1480), (337, 1966), (338, 117), (338, 732), (339, 1484), (339, 1888), (340, 263), (340, 1236), (340, 1437), (341, 719), (341, 827), (341, 1278), (341, 1483), (341, 1484), (342, 993), (342, 1661), (343, 707), (343, 1604), (343, 1894), (343, 2073), (344, 668), (344, 782), (344, 783), (344, 1001), (345, 707), (345, 1604), (345, 1894), (346, 1348), (346, 1675), (346, 1687), (347, 742), (347, 896), (348, 1003), (349, 1025), (349, 1750), (350, 782), (350, 992), (350, 1082), (350, 1373), (350, 1868), (351, 1138), (352, 1038), (352, 1517), (353, 263), (353, 1236), (354, 6), (354, 54), (354, 75), (354, 78), (354, 102), (354, 211), (354, 315), (354, 362), (354, 678), (354, 885), (354, 941), (354, 1243), (354, 1572), (354, 1613), (354, 1630), (354, 1862), (355, 363), (355, 898), (355, 2088), (356, 896), (356, 1002), (356, 1041), (357, 1874), (357, 1992), (358, 1462), (359, 83), (359, 1446), (359, 1635), (360, 700), (360, 1220), (360, 1793), (361, 919), (361, 1240), (361, 1813), (362, 354), (362, 1572), (362, 1999), (363, 355), (363, 369), (363, 631), (363, 896), (363, 970), (363, 1706), (363, 2088), (364, 787), (364, 901), (364, 1177), (364, 1279), (364, 1306), (365, 1922), (366, 373), (366, 1362), (367, 51), (367, 1002), (367, 1042), (367, 1139), (367, 1706), (368, 22), (368, 1739), (368, 2025), (369, 114), (369, 363), (369, 537), (369, 896), (369, 898), (369, 1706), (369, 1896), (370, 862), (370, 980), (370, 1946), (371, 90), (371, 1943), (372, 993), (373, 366), (374, 1582), (375, 516), (375, 565), (375, 1829), (376, 21), (376, 200), (376, 968), (376, 1677), (377, 1508), (377, 2096), (378, 114), (378, 537), (379, 262), (379, 1499), (379, 1829), (380, 382), (380, 736), (380, 737), (380, 908), (380, 1272), (380, 1341), (380, 1917), (381, 452), (381, 619), (381, 707), (381, 1079), (382, 380), (382, 737), (382, 908), (382, 1272), (382, 1341), (382, 1917), (383, 230), (383, 516), (383, 1829), (384, 862), (384, 1253), (385, 167), (386, 75), (387, 1767), (387, 1904), (388, 178), (388, 225), (388, 602), (388, 655), (388, 1180), (388, 1195), (389, 43), (389, 156), (389, 1154), (389, 1625), (390, 41), (390, 50), (390, 942), (390, 1318), (390, 1445), (390, 1576), (390, 1891), (391, 949), (391, 2040), (392, 154), (392, 297), (392, 1493), (393, 1), (393, 80), (393, 619), (393, 655), (393, 862), (393, 904), (393, 1079), (393, 1454), (393, 1481), (393, 1554), (394, 225), (394, 655), (394, 862), (394, 987), (394, 1021), (395, 222), (396, 792), (396, 803), (397, 1113), (398, 862), (398, 1454), (399, 862), (399, 1454), (400, 156), (400, 654), (400, 1345), (401, 24), (401, 1185), (401, 1216), (401, 2044), (402, 226), (402, 1549), (402, 1615), (403, 640), (403, 655), (403, 1052), (403, 1144), (404, 1251), (404, 1574), (404, 1768), (404, 2056), (405, 148), (405, 699), (406, 1637), (407, 1279), (407, 1843), (408, 1497), (409, 654), (410, 211), (410, 902), (410, 908), (410, 1171), (411, 1114), (412, 10), (412, 454), (413, 1605), (414, 109), (414, 622), (414, 1322), (415, 802), (415, 2007), (416, 1791), (417, 1380), (417, 1517), (418, 1369), (419, 1497), (420, 655), (420, 817), (420, 862), (420, 938), (420, 989), (420, 1271), (420, 1342), (420, 1665), (421, 1271), (422, 658), (423, 649), (423, 694), (423, 791), (423, 1037), (423, 1077), (423, 1749), (424, 660), (424, 1181), (425, 585), (425, 778), (425, 1213), (425, 1310), (425, 1604), (425, 1911), (426, 1608), (426, 2019), (427, 882), (428, 1129), (428, 1703), (429, 1055), (429, 1690), (430, 155), (430, 236), (430, 1054), (430, 1727), (431, 1694), (431, 1967), (432, 310), (432, 1138), (432, 1562), (433, 273), (433, 855), (433, 1063), (433, 1731), (434, 888), (434, 1058), (435, 1457), (435, 1626), (436, 322), (436, 455), (436, 1406), (436, 1725), (437, 1891), (438, 321), (439, 1634), (439, 1797), (440, 131), (441, 181), (441, 266), (441, 862), (441, 1720), (441, 2068), (441, 2083), (442, 114), (442, 537), (443, 535), (443, 542), (443, 547), (444, 225), (444, 1225), (444, 1543), (444, 1831), (444, 1832), (444, 1859), (445, 83), (445, 85), (445, 447), (445, 1352), (445, 1355), (445, 1396), (445, 1635), (446, 1819), (446, 1820), (447, 86), (447, 445), (447, 606), (447, 668), (447, 937), (447, 1001), (447, 1182), (447, 1195), (447, 1355), (447, 1634), (447, 1699), (447, 1817), (448, 98), (448, 157), (448, 266), (448, 685), (448, 862), (448, 1194), (448, 1433), (448, 1453), (448, 1485), (448, 1741), (448, 2068), (449, 1750), (450, 109), (450, 332), (450, 622), (450, 862), (450, 1092), (451, 40), (451, 456), (451, 966), (451, 1263), (451, 1742), (452, 151), (452, 268), (452, 381), (452, 904), (452, 1132), (452, 1223), (452, 1385), (452, 1440), (452, 1452), (452, 1481), (452, 2004), (452, 2084), (452, 2085), (453, 1172), (454, 412), (454, 707), (454, 1161), (455, 436), (455, 1406), (455, 1847), (455, 2053), (456, 451), (456, 925), (456, 1263), (456, 1332), (456, 1626), (456, 2023), (457, 1750), (457, 2033), (458, 724), (458, 891), (458, 1276), (458, 1801), (458, 1905), (459, 38), (459, 167), (459, 956), (459, 959), (459, 1653), (460, 226), (460, 770), (460, 1050), (461, 1750), (462, 1431), (462, 1445), (463, 539), (463, 1053), (463, 1265), (463, 1995), (464, 1105), (464, 1654), (464, 1687), (465, 863), (465, 1021), (466, 1154), (466, 1877), (467, 189), (468, 887), (468, 1390), (468, 1750), (469, 1269), (470, 604), (471, 1586), (471, 1587), (471, 1588), (472, 601), (472, 831), (472, 904), (472, 950), (472, 1765), (473, 590), (474, 1574), (475, 860), (475, 2047), (476, 1023), (476, 1711), (476, 1770), (477, 1718), (478, 211), (478, 903), (479, 1549), (479, 1856), (480, 131), (481, 1356), (481, 1870), (482, 896), (483, 1264), (483, 1332), (484, 862), (484, 1215), (485, 853), (485, 854), (485, 1731), (485, 2014), (486, 24), (486, 579), (486, 856), (486, 857), (486, 858), (486, 1221), (486, 1378), (486, 1750), (486, 1963), (486, 1969), (487, 551), (487, 618), (487, 1390), (488, 4), (488, 103), (488, 1324), (489, 798), (489, 1407), (489, 1694), (490, 701), (490, 818), (491, 941), (491, 956), (491, 957), (492, 2003), (493, 1652), (493, 1950), (494, 1360), (494, 1991), (495, 213), (495, 1442), (496, 1056), (496, 1137), (497, 38), (497, 167), (497, 956), (497, 959), (497, 1653), (498, 1044), (499, 927), (500, 1038), (500, 1388), (501, 790), (501, 1345), (502, 1952), (503, 176), (503, 623), (503, 1425), (504, 1388), (505, 1519), (505, 1520), (505, 1521), (506, 862), (506, 938), (506, 2030), (507, 138), (507, 658), (507, 869), (507, 870), (507, 953), (507, 1814), (508, 1330), (508, 1331), (508, 1789), (509, 270), (509, 751), (509, 871), (509, 1958), (510, 1378), (510, 1787), (511, 1880), (511, 1881), (512, 1406), (513, 655), (513, 1427), (514, 1242), (514, 1285), (514, 1495), (515, 1694), (515, 1904), (516, 178), (516, 375), (516, 383), (516, 845), (516, 920), (516, 1322), (516, 1499), (516, 1523), (516, 1977), (516, 2096), (517, 28), (517, 32), (518, 862), (518, 1424), (519, 34), (519, 207), (519, 979), (519, 1210), (519, 1584), (519, 1716), (519, 1818), (519, 1833), (520, 1816), (521, 13), (521, 826), (521, 851), (522, 1295), (523, 862), (524, 688), (524, 1074), (524, 1075), (524, 1191), (524, 1333), (524, 1337), (524, 1338), (524, 1339), (525, 688), (526, 1937), (527, 1466), (528, 1452), (529, 1229), (529, 1424), (530, 1155), (531, 1311), (531, 2062), (532, 1574), (533, 832), (533, 974), (534, 109), (534, 622), (534, 1354), (535, 443), (535, 662), (535, 691), (536, 1303), (537, 369), (537, 378), (537, 442), (537, 889), (537, 1017), (537, 1299), (537, 1303), (538, 862), (538, 1424), (539, 463), (539, 1053), (539, 1265), (540, 1171), (541, 892), (541, 1372), (542, 443), (542, 662), (542, 691), (543, 656), (543, 862), (543, 900), (544, 1020), (544, 1171), (545, 817), (545, 862), (545, 1193), (546, 76), (546, 327), (546, 1040), (546, 1246), (546, 1531), (547, 443), (547, 662), (547, 691), (548, 2055), (549, 327), (550, 1271), (551, 176), (551, 487), (551, 1043), (551, 1348), (551, 1425), (551, 1462), (552, 857), (552, 1221), (552, 1294), (552, 1378), (552, 1660), (552, 1963), (553, 888), (553, 1311), (553, 1388), (554, 1706), (554, 1750), (554, 2055), (555, 1234), (556, 1234), (556, 1527), (557, 326), (557, 1293), (558, 979), (558, 1203), (558, 1210), (558, 1458), (558, 1716), (559, 817), (559, 862), (559, 938), (559, 1021), (559, 1144), (559, 1945), (560, 1492), (560, 2108), (561, 1798), (562, 767), (562, 1678), (563, 1954), (564, 1672), (564, 1969), (564, 2089), (565, 375), (566, 1457), (567, 583), (567, 1841), (567, 1905), (567, 1988), (568, 862), (568, 1424), (569, 1950), (570, 859), (571, 47), (571, 1437), (572, 684), (572, 817), (572, 832), (572, 937), (572, 1069), (572, 1400), (572, 1401), (572, 1454), (572, 1551), (572, 1763), (573, 1270), (573, 1471), (574, 654), (575, 817), (575, 862), (575, 938), (575, 1021), (575, 1144), (575, 1945), (576, 1080), (576, 1512), (576, 1577), (576, 2090), (576, 2091), (577, 827), (577, 1594), (578, 862), (579, 486), (579, 1378), (580, 751), (581, 953), (582, 1973), (583, 567), (584, 640), (584, 1474), (585, 130), (585, 425), (585, 1013), (586, 1549), (587, 1845), (587, 1915), (588, 1164), (588, 1195), (589, 698), (589, 879), (589, 1616), (590, 473), (590, 657), (590, 1624), (590, 1707), (591, 1990), (592, 817), (592, 862), (592, 938), (592, 1021), (592, 1144), (592, 1945), (593, 24), (593, 94), (593, 654), (594, 1092), (595, 220), (595, 614), (595, 832), (595, 1001), (595, 1136), (595, 1410), (595, 1635), (595, 1663), (595, 1859), (596, 801), (597, 103), (597, 885), (598, 72), (598, 316), (598, 637), (598, 704), (598, 776), (598, 909), (598, 910), (598, 911), (598, 987), (598, 1180), (598, 1428), (598, 1603), (598, 1604), (598, 1662), (598, 1735), (599, 1494), (599, 1688), (600, 1884), (601, 186), (601, 272), (601, 472), (601, 1048), (601, 1049), (601, 1183), (601, 1379), (601, 1860), (602, 178), (602, 225), (602, 388), (602, 668), (602, 1428), (602, 1523), (602, 1893), (602, 1894), (602, 1952), (603, 615), (603, 1782), (604, 470), (604, 1874), (604, 2009), (605, 1808), (606, 260), (606, 447), (606, 1635), (607, 1631), (608, 788), (609, 1173), (609, 1400), (610, 208), (610, 1834), (611, 298), (611, 768), (611, 969), (612, 1806), (613, 1026), (613, 1027), (613, 1283), (613, 1348), (613, 1350), (613, 1436), (614, 220), (614, 261), (614, 595), (614, 640), (614, 702), (614, 1001), (614, 1067), (614, 1635), (614, 1715), (614, 1859), (615, 603), (615, 1782), (616, 928), (616, 929), (617, 13), (617, 1340), (618, 106), (618, 175), (618, 215), (618, 487), (618, 1526), (618, 1910), (619, 80), (619, 151), (619, 266), (619, 268), (619, 381), (619, 393), (619, 999), (619, 1295), (619, 1452), (619, 2015), (619, 2068), (619, 2085), (620, 186), (620, 272), (620, 991), (620, 1001), (620, 1163), (620, 1211), (620, 1212), (620, 1379), (620, 1715), (620, 1860), (620, 1885), (620, 1886), (621, 2001), (622, 207), (622, 245), (622, 414), (622, 450), (622, 534), (622, 702), (622, 948), (622, 1322), (622, 1716), (623, 196), (623, 503), (623, 810), (623, 1498), (623, 1557), (623, 1558), (624, 735), (624, 797), (624, 1917), (625, 1156), (625, 1926), (625, 1954), (626, 85), (626, 1001), (626, 1202), (626, 1797), (627, 665), (628, 688), (628, 1074), (628, 1191), (628, 1333), (628, 1337), (628, 1338), (628, 1339), (629, 245), (629, 1658), (630, 286), (630, 815), (630, 1429), (630, 1607), (631, 363), (631, 898), (631, 899), (631, 1221), (631, 1706), (631, 1789), (632, 1311), (633, 1201), (634, 688), (634, 1333), (635, 5), (635, 56), (636, 1327), (636, 1891), (637, 598), (637, 704), (638, 915), (638, 918), (638, 1523), (639, 688), (640, 241), (640, 403), (640, 584), (640, 614), (640, 805), (640, 950), (640, 1001), (640, 1452), (640, 1867), (641, 227), (641, 1954), (642, 688), (643, 88), (643, 2045), (644, 97), (644, 217), (645, 67), (645, 68), (645, 248), (645, 693), (645, 786), (645, 1079), (645, 1325), (645, 1800), (645, 1879), (645, 2065), (646, 1155), (646, 1156), (647, 1141), (647, 1142), (648, 1470), (648, 1590), (649, 423), (649, 757), (649, 1414), (649, 1438), (649, 1749), (650, 5), (650, 56), (650, 652), (650, 1227), (650, 1368), (651, 1285), (651, 1917), (652, 5), (652, 56), (652, 650), (652, 688), (652, 1085), (653, 1523), (654, 400), (654, 409), (654, 574), (654, 593), (654, 1638), (654, 1639), (655, 181), (655, 268), (655, 388), (655, 393), (655, 394), (655, 403), (655, 420), (655, 513), (655, 717), (655, 755), (655, 805), (655, 950), (655, 989), (655, 1000), (655, 1019), (655, 1048), (655, 1067), (655, 1238), (655, 1310), (655, 1343), (655, 1410), (655, 1426), (655, 1440), (655, 1466), (655, 1552), (655, 1776), (655, 1945), (655, 1946), (656, 543), (657, 590), (657, 1624), (658, 422), (658, 507), (658, 869), (658, 870), (658, 1363), (658, 1629), (659, 1231), (660, 146), (660, 424), (660, 1001), (660, 1181), (660, 1182), (660, 1763), (661, 665), (662, 535), (662, 542), (662, 547), (662, 1008), (662, 1112), (662, 1257), (662, 1320), (662, 1523), (662, 1610), (662, 1848), (663, 245), (663, 2105), (664, 71), (664, 186), (664, 953), (664, 1379), (664, 2101), (665, 627), (665, 661), (665, 764), (665, 1031), (665, 1382), (665, 1383), (666, 920), (666, 939), (666, 2092), (667, 84), (667, 237), (667, 318), (668, 85), (668, 316), (668, 329), (668, 344), (668, 447), (668, 602), (668, 1052), (668, 1136), (668, 1568), (668, 1663), (668, 1668), (669, 1592), (669, 2109), (670, 97), (670, 209), (670, 1217), (670, 1244), (671, 1073), (672, 105), (672, 1108), (673, 1644), (674, 997), (674, 1357), (675, 965), (675, 1418), (675, 2039), (676, 64), (677, 835), (678, 354), (679, 1559), (679, 1960), (680, 898), (681, 135), (682, 209), (683, 30), (683, 105), (683, 132), (683, 244), (683, 1417), (683, 1703), (684, 157), (684, 572), (684, 817), (684, 937), (684, 938), (684, 1552), (684, 1670), (684, 1899), (685, 63), (685, 448), (685, 862), (685, 1453), (685, 1740), (686, 1320), (687, 766), (688, 91), (688, 524), (688, 525), (688, 628), (688, 634), (688, 639), (688, 642), (688, 652), (688, 1075), (688, 1192), (688, 1312), (688, 1333), (688, 1334), (688, 1335), (688, 1338), (688, 1339), (688, 1502), (688, 1702), (688, 1739), (688, 1935), (688, 2038), (689, 251), (689, 1232), (690, 915), (690, 1312), (691, 535), (691, 542), (691, 547), (691, 915), (691, 916), (691, 1288), (692, 915), (692, 916), (692, 1232), (692, 1288), (692, 1369), (692, 1769), (693, 645), (694, 423), (694, 1285), (695, 1750), (696, 1806), (696, 1809), (697, 325), (697, 1122), (697, 1226), (698, 589), (699, 65), (699, 148), (699, 405), (700, 311), (700, 360), (701, 490), (701, 1258), (702, 109), (702, 317), (702, 614), (702, 622), (702, 1069), (702, 1196), (702, 1454), (703, 267), (704, 598), (704, 637), (704, 705), (704, 706), (704, 1978), (705, 704), (705, 706), (706, 704), (706, 705), (707, 202), (707, 343), (707, 345), (707, 381), (707, 454), (707, 741), (707, 2073), (708, 711), (709, 711), (709, 1348), (709, 1390), (709, 1753), (710, 711), (710, 1348), (710, 1390), (711, 708), (711, 709), (711, 710), (712, 4), (712, 885), (712, 1324), (713, 715), (713, 1053), (713, 1573), (714, 1053), (714, 1573), (715, 713), (715, 1573), (716, 888), (716, 1300), (717, 655), (717, 862), (718, 144), (718, 862), (718, 1018), (718, 1252), (719, 341), (719, 1648), (720, 1699), (721, 134), (721, 928), (721, 1023), (721, 1407), (721, 1463), (721, 1711), (722, 311), (722, 1395), (722, 1726), (723, 182), (723, 977), (723, 1189), (723, 1691), (723, 1843), (724, 458), (724, 977), (724, 1539), (724, 1801), (724, 1905), (725, 1516), (725, 1528), (725, 1529), (725, 2108), (726, 9), (726, 1261), (726, 1623), (727, 1712), (728, 1137), (729, 132), (729, 244), (730, 2002), (731, 1428), (732, 281), (732, 338), (732, 1061), (732, 1062), (732, 1063), (733, 2036), (734, 4), (734, 982), (734, 1324), (735, 624), (735, 737), (735, 908), (735, 1272), (735, 1341), (736, 380), (736, 737), (736, 908), (736, 1272), (736, 1341), (736, 1917), (737, 380), (737, 382), (737, 735), (737, 736), (737, 797), (737, 908), (737, 1242), (737, 1272), (737, 1341), (737, 1917), (738, 908), (738, 1272), (738, 1341), (738, 1917), (739, 1293), (739, 1390), (739, 1997), (740, 106), (740, 175), (740, 247), (740, 291), (740, 1390), (740, 1705), (740, 1910), (740, 1997), (741, 26), (741, 707), (742, 347), (742, 1388), (743, 295), (743, 2067), (744, 2067), (745, 1556), (745, 1557), (746, 267), (746, 938), (746, 1252), (746, 1665), (747, 750), (748, 1492), (749, 750), (749, 1845), (750, 747), (750, 749), (751, 509), (751, 580), (752, 860), (752, 1581), (753, 63), (754, 6), (754, 97), (754, 756), (754, 765), (754, 839), (754, 1630), (755, 655), (755, 862), (755, 1253), (756, 6), (756, 97), (756, 754), (756, 765), (756, 839), (757, 649), (757, 1414), (758, 122), (759, 186), (759, 272), (759, 991), (759, 1001), (759, 1163), (759, 1211), (759, 1212), (759, 1379), (759, 1715), (759, 1860), (759, 1885), (759, 1886), (760, 1245), (760, 1565), (760, 1686), (760, 1823), (761, 39), (762, 1058), (763, 304), (763, 2011), (764, 665), (764, 1013), (764, 1806), (764, 2017), (765, 754), (765, 756), (766, 687), (766, 1862), (767, 562), (767, 1758), (768, 611), (768, 1799), (769, 2002), (770, 460), (771, 1610), (772, 1471), (772, 1807), (773, 775), (773, 776), (774, 1124), (774, 1838), (775, 773), (776, 598), (776, 773), (777, 37), (777, 823), (778, 425), (779, 1774), (780, 1938), (781, 947), (781, 1925), (782, 330), (782, 344), (782, 350), (782, 1082), (783, 344), (783, 992), (784, 1543), (785, 1432), (786, 67), (786, 164), (786, 195), (786, 313), (786, 645), (786, 795), (786, 1079), (786, 1385), (786, 1435), (786, 1800), (787, 223), (787, 364), (787, 1177), (787, 1306), (787, 1840), (787, 1841), (788, 608), (788, 1014), (789, 1010), (790, 501), (790, 1488), (791, 423), (791, 1308), (791, 1348), (791, 1751), (791, 2058), (792, 396), (792, 793), (792, 799), (792, 803), (793, 792), (793, 803), (793, 1176), (794, 1084), (794, 1908), (795, 258), (795, 786), (795, 1079), (795, 1385), (796, 248), (796, 1196), (796, 1197), (796, 1295), (797, 624), (797, 737), (797, 1066), (797, 1285), (797, 1307), (797, 2061), (798, 489), (798, 1605), (799, 792), (799, 803), (799, 896), (800, 801), (800, 802), (800, 803), (801, 596), (801, 800), (802, 415), (802, 800), (802, 803), (802, 902), (803, 131), (803, 396), (803, 792), (803, 793), (803, 799), (803, 800), (803, 802), (803, 808), (803, 809), (803, 1176), (803, 1778), (804, 144), (804, 186), (804, 805), (804, 817), (804, 862), (804, 938), (804, 1021), (804, 1553), (804, 1611), (804, 2051), (804, 2052), (804, 2090), (805, 144), (805, 186), (805, 640), (805, 655), (805, 804), (805, 862), (805, 1551), (805, 1553), (805, 1612), (806, 71), (806, 1860), (807, 808), (807, 809), (807, 978), (808, 803), (808, 807), (808, 809), (808, 1636), (809, 803), (809, 807), (809, 808), (810, 623), (810, 811), (811, 810), (812, 1128), (813, 814), (813, 899), (813, 1706), (814, 813), (815, 162), (815, 630), (815, 1225), (815, 1429), (816, 862), (816, 1598), (817, 144), (817, 261), (817, 420), (817, 545), (817, 559), (817, 572), (817, 575), (817, 592), (817, 684), (817, 804), (817, 818), (817, 852), (817, 938), (817, 989), (817, 1000), (817, 1018), (817, 1019), (817, 1021), (817, 1067), (817, 1069), (817, 1092), (817, 1095), (817, 1147), (817, 1410), (817, 1452), (817, 1456), (817, 1464), (817, 1551), (817, 1552), (817, 1627), (817, 1670), (817, 1898), (817, 1899), (817, 1924), (818, 490), (818, 817), (818, 938), (818, 1665), (818, 2090), (819, 98), (819, 218), (819, 1454), (819, 1455), (820, 1027), (821, 1027), (822, 1015), (822, 1016), (822, 1705), (823, 777), (823, 1276), (823, 1277), (823, 1747), (823, 1760), (823, 1761), (823, 1801), (823, 1838), (824, 2082), (825, 1010), (825, 1363), (826, 29), (826, 166), (826, 521), (826, 1854), (826, 1890), (827, 341), (827, 577), (828, 257), (828, 838), (829, 1699), (829, 1931), (830, 1226), (830, 1880), (831, 186), (831, 272), (831, 472), (831, 1048), (831, 1049), (831, 1379), (831, 1860), (831, 2101), (832, 241), (832, 533), (832, 572), (832, 595), (832, 833), (832, 948), (832, 950), (832, 1567), (832, 1568), (833, 241), (833, 832), (833, 948), (833, 950), (833, 1591), (834, 1066), (834, 1308), (835, 677), (835, 1513), (835, 1698), (836, 1410), (837, 321), (837, 1410), (837, 2087), (838, 257), (838, 828), (838, 1151), (838, 1993), (839, 754), (839, 756), (839, 941), (839, 949), (839, 1250), (840, 100), (840, 841), (840, 1201), (840, 1852), (841, 100), (841, 840), (842, 202), (842, 2040), (843, 23), (843, 1451), (843, 1718), (843, 1839), (844, 23), (844, 1166), (844, 1596), (844, 2021), (845, 85), (845, 516), (845, 1577), (845, 1829), (846, 115), (846, 1287), (846, 1908), (847, 1419), (847, 2012), (848, 155), (848, 221), (849, 1119), (850, 0), (850, 302), (850, 1263), (850, 1264), (850, 1427), (850, 1477), (851, 521), (851, 1344), (852, 288), (852, 817), (852, 862), (852, 863), (852, 938), (853, 184), (853, 273), (853, 485), (853, 1064), (853, 2014), (854, 273), (854, 485), (854, 855), (854, 1063), (854, 1731), (855, 433), (855, 854), (855, 1063), (855, 1731), (856, 486), (856, 857), (857, 486), (857, 552), (857, 856), (857, 1221), (857, 1963), (858, 27), (858, 486), (858, 931), (858, 1359), (858, 1360), (859, 570), (859, 1209), (859, 1415), (860, 475), (860, 752), (860, 996), (860, 1209), (860, 1221), (860, 1326), (860, 1581), (860, 1974), (860, 2047), (861, 1335), (862, 17), (862, 25), (862, 49), (862, 63), (862, 80), (862, 144), (862, 151), (862, 157), (862, 214), (862, 218), (862, 241), (862, 250), (862, 261), (862, 268), (862, 370), (862, 384), (862, 393), (862, 394), (862, 398), (862, 399), (862, 420), (862, 441), (862, 448), (862, 450), (862, 484), (862, 506), (862, 518), (862, 523), (862, 538), (862, 543), (862, 545), (862, 559), (862, 568), (862, 575), (862, 578), (862, 592), (862, 685), (862, 717), (862, 718), (862, 755), (862, 804), (862, 805), (862, 816), (862, 852), (862, 863), (862, 893), (862, 948), (862, 950), (862, 962), (862, 976), (862, 980), (862, 989), (862, 1000), (862, 1018), (862, 1019), (862, 1021), (862, 1052), (862, 1056), (862, 1067), (862, 1069), (862, 1092), (862, 1095), (862, 1147), (862, 1165), (862, 1195), (862, 1199), (862, 1252), (862, 1271), (862, 1295), (862, 1386), (862, 1400), (862, 1401), (862, 1410), (862, 1423), (862, 1440), (862, 1452), (862, 1453), (862, 1455), (862, 1456), (862, 1459), (862, 1464), (862, 1466), (862, 1475), (862, 1509), (862, 1545), (862, 1552), (862, 1611), (862, 1612), (862, 1665), (862, 1668), (862, 1670), (862, 1685), (862, 1842), (862, 1867), (862, 1873), (862, 1895), (862, 1898), (862, 1949), (862, 2085), (863, 465), (863, 852), (863, 862), (863, 1665), (864, 66), (864, 1246), (864, 1907), (865, 73), (865, 1982), (866, 1055), (866, 1750), (866, 1980), (866, 1982), (867, 1237), (868, 870), (869, 507), (869, 658), (869, 870), (869, 1494), (869, 1629), (870, 507), (870, 658), (870, 868), (870, 869), (870, 1367), (870, 1629), (871, 270), (871, 509), (871, 1958), (871, 2074), (872, 1701), (873, 332), (873, 2040), (874, 2001), (875, 876), (875, 877), (875, 880), (875, 1439), (875, 1910), (876, 875), (876, 877), (876, 879), (876, 880), (876, 1439), (876, 1882), (877, 875), (877, 876), (877, 1884), (878, 879), (878, 880), (878, 1311), (879, 589), (879, 876), (879, 878), (879, 880), (879, 1439), (879, 1566), (879, 1882), (880, 875), (880, 876), (880, 878), (880, 879), (880, 1439), (880, 2037), (881, 66), (881, 1650), (882, 427), (882, 1091), (882, 2020), (883, 1685), (884, 885), (885, 78), (885, 102), (885, 103), (885, 232), (885, 354), (885, 597), (885, 712), (885, 884), (885, 1862), (886, 1067), (887, 468), (887, 1750), (888, 294), (888, 434), (888, 553), (888, 716), (888, 889), (888, 1190), (888, 1300), (888, 2049), (889, 114), (889, 537), (889, 888), (889, 1311), (890, 1706), (891, 458), (892, 541), (892, 1271), (892, 1372), (893, 157), (893, 862), (893, 938), (894, 0), (894, 2010), (895, 40), (896, 347), (896, 356), (896, 363), (896, 369), (896, 482), (896, 799), (896, 898), (896, 970), (896, 1044), (896, 1837), (896, 2089), (897, 970), (897, 1678), (897, 1706), (898, 118), (898, 355), (898, 369), (898, 631), (898, 680), (898, 896), (898, 970), (898, 1706), (898, 2088), (899, 631), (899, 813), (900, 543), (901, 364), (902, 211), (902, 410), (902, 802), (902, 1171), (902, 1243), (903, 211), (903, 478), (904, 80), (904, 139), (904, 151), (904, 266), (904, 268), (904, 393), (904, 452), (904, 472), (904, 999), (904, 1160), (904, 1223), (904, 1319), (904, 1481), (904, 1647), (904, 2068), (905, 211), (906, 2007), (907, 211), (907, 1243), (908, 380), (908, 382), (908, 410), (908, 735), (908, 736), (908, 737), (908, 738), (908, 1157), (908, 1285), (909, 598), (909, 911), (910, 598), (910, 911), (911, 598), (911, 909), (911, 910), (912, 1591), (913, 236), (913, 1280), (913, 2037), (914, 1410), (914, 1863), (915, 243), (915, 638), (915, 690), (915, 691), (915, 692), (915, 916), (915, 1256), (915, 1288), (915, 1318), (915, 1523), (916, 691), (916, 692), (916, 915), (916, 1288), (916, 1505), (917, 1523), (918, 638), (918, 1288), (919, 337), (919, 361), (919, 1327), (919, 1800), (919, 1813), (920, 230), (920, 516), (920, 666), (920, 1441), (920, 1829), (921, 76), (921, 1371), (922, 1806), (922, 1940), (923, 924), (923, 1637), (924, 923), (924, 1637), (925, 456), (925, 1626), (925, 1742), (926, 174), (926, 927), (927, 311), (927, 499), (927, 926), (928, 616), (928, 721), (928, 929), (928, 1463), (928, 1770), (928, 1909), (929, 616), (929, 928), (929, 1909), (930, 174), (930, 1771), (931, 858), (931, 1055), (932, 1029), (932, 1684), (933, 1750), (934, 1750), (935, 38), (935, 2011), (936, 937), (936, 1067), (936, 1475), (937, 144), (937, 447), (937, 572), (937, 684), (937, 936), (937, 938), (937, 1551), (938, 144), (938, 157), (938, 241), (938, 420), (938, 506), (938, 559), (938, 575), (938, 592), (938, 684), (938, 746), (938, 804), (938, 817), (938, 818), (938, 852), (938, 893), (938, 937), (938, 948), (938, 950), (938, 1018), (938, 1019), (938, 1021), (938, 1067), (938, 1069), (938, 1095), (938, 1252), (938, 1400), (938, 1401), (938, 1423), (938, 1452), (938, 1459), (938, 1553), (938, 1578), (938, 1670), (938, 1812), (938, 1924), (939, 666), (940, 25), (941, 354), (941, 491), (941, 839), (941, 958), (941, 967), (941, 1170), (941, 1321), (941, 1351), (941, 1468), (941, 1613), (941, 1842), (941, 2098), (942, 11), (942, 236), (942, 390), (942, 1071), (942, 1727), (942, 1889), (943, 1201), (944, 1385), (945, 268), (946, 160), (946, 1223), (947, 781), (947, 1438), (947, 1546), (947, 1907), (948, 109), (948, 241), (948, 622), (948, 832), (948, 833), (948, 862), (948, 938), (948, 950), (949, 391), (949, 839), (949, 1113), (949, 1170), (949, 1250), (949, 1321), (949, 1486), (949, 1500), (950, 241), (950, 472), (950, 640), (950, 655), (950, 832), (950, 833), (950, 862), (950, 938), (950, 948), (951, 952), (951, 1575), (951, 2097), (951, 2099), (952, 951), (952, 2094), (952, 2097), (953, 240), (953, 507), (953, 581), (953, 664), (953, 1112), (953, 1545), (953, 1629), (953, 1666), (953, 1929), (953, 2041), (954, 1678), (955, 264), (955, 1065), (955, 1845), (956, 459), (956, 491), (956, 497), (956, 957), (957, 491), (957, 956), (957, 958), (957, 959), (958, 941), (958, 957), (958, 1468), (959, 38), (959, 459), (959, 497), (959, 957), (960, 1243), (960, 1469), (961, 962), (962, 862), (962, 961), (962, 963), (962, 1169), (962, 1469), (962, 1867), (963, 962), (963, 1612), (964, 30), (964, 156), (964, 2002), (965, 675), (966, 451), (966, 1263), (967, 64), (967, 85), (967, 93), (967, 941), (967, 1128), (967, 1530), (967, 1683), (968, 376), (969, 298), (969, 611), (970, 363), (970, 896), (970, 897), (970, 898), (971, 1053), (971, 1995), (972, 1690), (973, 974), (973, 975), (974, 533), (974, 973), (974, 1429), (974, 1893), (974, 1894), (975, 973), (975, 1894), (976, 63), (976, 862), (976, 2106), (977, 309), (977, 723), (977, 724), (977, 1801), (977, 1905), (978, 807), (979, 199), (979, 519), (979, 558), (979, 1716), (980, 370), (980, 862), (980, 1453), (980, 1946), (981, 236), (982, 4), (982, 208), (982, 734), (982, 1324), (983, 1195), (983, 1452), (984, 278), (984, 1784), (985, 1207), (986, 7), (986, 207), (987, 207), (987, 220), (987, 304), (987, 394), (987, 598), (987, 1132), (987, 1428), (987, 1821), (987, 1828), (987, 2093), (988, 71), (988, 186), (988, 220), (988, 1860), (989, 420), (989, 655), (989, 817), (989, 862), (989, 1164), (989, 1273), (989, 1716), (990, 10), (990, 1130), (990, 2054), (991, 620), (991, 759), (992, 350), (992, 783), (993, 342), (993, 372), (994, 1128), (994, 1531), (995, 209), (996, 860), (996, 1601), (997, 674), (998, 1580), (999, 63), (999, 619), (999, 904), (999, 1079), (999, 1160), (999, 1223), (999, 1319), (999, 1452), (1000, 144), (1000, 655), (1000, 817), (1000, 862), (1001, 64), (1001, 83), (1001, 85), (1001, 86), (1001, 237), (1001, 290), (1001, 316), (1001, 329), (1001, 344), (1001, 447), (1001, 595), (1001, 614), (1001, 620), (1001, 626), (1001, 640), (1001, 660), (1001, 759), (1001, 1052), (1001, 1059), (1001, 1136), (1001, 1164), (1001, 1180), (1001, 1261), (1001, 1452), (1001, 1523), (1001, 1568), (1001, 1635), (1001, 1663), (1001, 1668), (1002, 356), (1002, 367), (1002, 1706), (1003, 348), (1003, 1310), (1003, 1429), (1003, 1430), (1003, 1604), (1003, 1894), (1004, 1005), (1005, 1004), (1005, 1512), (1006, 1601), (1006, 1706), (1007, 231), (1007, 1786), (1007, 1790), (1008, 662), (1008, 1009), (1008, 1167), (1008, 1538), (1009, 1008), (1010, 789), (1010, 825), (1010, 1574), (1010, 2001), (1011, 1443), (1012, 1806), (1013, 585), (1013, 764), (1013, 1213), (1013, 1493), (1014, 788), (1014, 1583), (1014, 1811), (1015, 822), (1016, 77), (1016, 822), (1017, 114), (1017, 537), (1018, 144), (1018, 718), (1018, 817), (1018, 862), (1018, 938), (1018, 1019), (1018, 1021), (1018, 1289), (1018, 1453), (1018, 1553), (1018, 2090), (1018, 2091), (1019, 144), (1019, 655), (1019, 817), (1019, 862), (1019, 938), (1019, 1018), (1019, 1452), (1020, 544), (1021, 144), (1021, 394), (1021, 465), (1021, 559), (1021, 575), (1021, 592), (1021, 804), (1021, 817), (1021, 862), (1021, 938), (1021, 1018), (1021, 1067), (1021, 1095), (1021, 1252), (1021, 1459), (1021, 1464), (1021, 1466), (1021, 1924), (1021, 1945), (1022, 1750), (1023, 476), (1023, 721), (1023, 1711), (1023, 1770), (1024, 1025), (1025, 349), (1025, 1024), (1026, 119), (1026, 613), (1026, 1027), (1026, 2000), (1027, 53), (1027, 113), (1027, 119), (1027, 613), (1027, 820), (1027, 821), (1027, 1026), (1027, 1028), (1027, 1187), (1027, 1651), (1027, 1723), (1027, 1724), (1027, 2000), (1027, 2013), (1027, 2031), (1027, 2109), (1028, 1027), (1029, 932), (1030, 1671), (1031, 665), (1032, 2053), (1033, 1365), (1034, 1323), (1035, 1036), (1035, 1190), (1035, 1311), (1036, 1035), (1036, 1896), (1036, 2055), (1037, 423), (1037, 1601), (1037, 2089), (1038, 59), (1038, 194), (1038, 352), (1038, 500), (1038, 1311), (1038, 1388), (1038, 1399), (1038, 1544), (1038, 1972), (1038, 2055), (1038, 2062), (1039, 1115), (1039, 1518), (1040, 327), (1040, 546), (1040, 1246), (1041, 356), (1041, 1251), (1042, 367), (1043, 551), (1044, 498), (1044, 896), (1044, 1437), (1045, 104), (1045, 1865), (1046, 223), (1046, 1840), (1046, 1843), (1047, 1691), (1048, 601), (1048, 655), (1048, 831), (1048, 1049), (1048, 2090), (1048, 2101), (1049, 272), (1049, 601), (1049, 831), (1049, 1048), (1049, 1057), (1049, 1394), (1049, 1578), (1049, 2090), (1049, 2101), (1050, 460), (1051, 1320), (1052, 403), (1052, 668), (1052, 862), (1052, 1001), (1052, 1059), (1052, 1553), (1053, 463), (1053, 539), (1053, 713), (1053, 714), (1053, 971), (1053, 1265), (1053, 1995), (1054, 83), (1054, 155), (1054, 186), (1054, 204), (1054, 430), (1054, 1110), (1054, 1174), (1054, 1523), (1055, 429), (1055, 866), (1055, 931), (1055, 1490), (1055, 1743), (1055, 1750), (1055, 1980), (1055, 1981), (1056, 496), (1056, 862), (1056, 1136), (1057, 42), (1057, 1049), (1057, 1379), (1058, 434), (1058, 762), (1058, 1750), (1058, 1751), (1059, 1001), (1059, 1052), (1059, 1180), (1060, 1437), (1061, 732), (1062, 732), (1063, 0), (1063, 433), (1063, 732), (1063, 854), (1063, 855), (1063, 1806), (1064, 101), (1064, 853), (1065, 955), (1066, 797), (1066, 834), (1066, 1307), (1066, 1751), (1066, 2061), (1067, 144), (1067, 186), (1067, 614), (1067, 655), (1067, 817), (1067, 862), (1067, 886), (1067, 936), (1067, 938), (1067, 1021), (1067, 1454), (1067, 1551), (1067, 1553), (1067, 1611), (1067, 1671), (1067, 2051), (1067, 2052), (1067, 2090), (1068, 121), (1068, 1978), (1069, 572), (1069, 702), (1069, 817), (1069, 862), (1069, 938), (1069, 1095), (1069, 1410), (1069, 1812), (1070, 1375), (1070, 1891), (1071, 942), (1072, 2007), (1073, 671), (1073, 1550), (1073, 1947), (1074, 91), (1074, 274), (1074, 524), (1074, 628), (1074, 1191), (1074, 1333), (1074, 1338), (1075, 524), (1075, 688), (1075, 1191), (1075, 1333), (1075, 1808), (1076, 1437), (1076, 1687), (1076, 1750), (1077, 423), (1077, 1750), (1078, 1289), (1078, 1456), (1079, 80), (1079, 151), (1079, 266), (1079, 268), (1079, 381), (1079, 393), (1079, 645), (1079, 786), (1079, 795), (1079, 999), (1079, 1289), (1079, 1295), (1079, 1452), (1079, 2015), (1079, 2068), (1079, 2084), (1079, 2085), (1080, 576), (1080, 1081), (1080, 2091), (1081, 98), (1081, 284), (1081, 1080), (1082, 170), (1082, 350), (1082, 782), (1083, 170), (1083, 210), (1083, 1084), (1084, 170), (1084, 794), (1084, 1083), (1084, 1908), (1085, 652), (1086, 1087), (1086, 2090), (1087, 1086), (1088, 87), (1088, 88), (1088, 1089), (1088, 1118), (1088, 1241), (1088, 1756), (1088, 1941), (1089, 88), (1089, 1088), (1090, 1568), (1091, 882), (1091, 2053), (1092, 450), (1092, 594), (1092, 817), (1092, 862), (1093, 1126), (1093, 1207), (1094, 1605), (1095, 817), (1095, 862), (1095, 938), (1095, 1021), (1095, 1069), (1095, 1238), (1096, 1750), (1097, 1750), (1098, 154), (1098, 297), (1098, 1099), (1099, 128), (1099, 154), (1099, 297), (1099, 1098), (1100, 1159), (1100, 1859), (1100, 1863), (1100, 1864), (1100, 1894), (1101, 1750), (1102, 1535), (1102, 1837), (1103, 1535), (1104, 255), (1105, 464), (1105, 1106), (1105, 1678), (1106, 1105), (1107, 1644), (1108, 105), (1108, 156), (1108, 672), (1109, 1110), (1109, 1523), (1110, 204), (1110, 1054), (1110, 1109), (1110, 1523), (1110, 1790), (1111, 122), (1111, 1536), (1111, 1795), (1112, 662), (1112, 953), (1113, 397), (1113, 949), (1114, 411), (1114, 1279), (1115, 1039), (1115, 1483), (1116, 1178), (1117, 52), (1118, 39), (1118, 275), (1118, 1088), (1119, 849), (1119, 1379), (1120, 161), (1120, 1384), (1121, 1122), (1121, 1411), (1122, 28), (1122, 35), (1122, 697), (1122, 1121), (1123, 1277), (1123, 1497), (1124, 774), (1125, 271), (1126, 131), (1126, 1093), (1126, 1281), (1126, 1681), (1127, 1410), (1127, 1604), (1128, 316), (1128, 812), (1128, 967), (1128, 994), (1128, 1738), (1129, 428), (1130, 990), (1130, 1656), (1131, 324), (1131, 1409), (1131, 1846), (1132, 220), (1132, 452), (1132, 987), (1133, 1639), (1134, 1340), (1135, 1329), (1136, 595), (1136, 668), (1136, 1001), (1136, 1056), (1137, 496), (1137, 728), (1137, 1376), (1137, 1377), (1137, 1755), (1138, 351), (1138, 432), (1138, 1286), (1139, 259), (1139, 367), (1139, 1654), (1139, 1750), (1140, 48), (1140, 1370), (1141, 48), (1141, 647), (1141, 1142), (1142, 647), (1142, 1141), (1143, 228), (1143, 1145), (1143, 1648), (1144, 317), (1144, 403), (1144, 559), (1144, 575), (1144, 592), (1144, 1194), (1144, 1195), (1144, 1238), (1144, 1452), (1145, 228), (1145, 1143), (1145, 2062), (1146, 1194), (1146, 1196), (1146, 1197), (1146, 1289), (1146, 1355), (1146, 1453), (1147, 817), (1147, 862), (1148, 1422), (1148, 1423), (1149, 171), (1149, 231), (1150, 1468), (1150, 2098), (1151, 838), (1151, 1351), (1151, 1468), (1151, 1547), (1151, 1613), (1152, 72), (1152, 95), (1152, 121), (1152, 129), (1152, 187), (1152, 1511), (1152, 1631), (1152, 2040), (1152, 2086), (1153, 1377), (1154, 30), (1154, 39), (1154, 156), (1154, 389), (1154, 466), (1154, 1233), (1155, 256), (1155, 530), (1155, 646), (1155, 1156), (1155, 1798), (1155, 1871), (1155, 1954), (1156, 256), (1156, 625), (1156, 646), (1156, 1155), (1156, 1853), (1157, 908), (1157, 1218), (1158, 1341), (1158, 2007), (1159, 1100), (1159, 1230), (1159, 1410), (1159, 1699), (1159, 1757), (1159, 2078), (1160, 157), (1160, 268), (1160, 904), (1160, 999), (1160, 1161), (1160, 1720), (1160, 2085), (1161, 454), (1161, 1160), (1162, 1795), (1163, 620), (1163, 759), (1163, 1885), (1163, 1886), (1164, 136), (1164, 588), (1164, 989), (1164, 1001), (1164, 1403), (1164, 1717), (1165, 862), (1165, 1869), (1166, 23), (1166, 844), (1167, 1008), (1168, 24), (1168, 1574), (1169, 962), (1170, 941), (1170, 949), (1170, 1548), (1171, 173), (1171, 410), (1171, 540), (1171, 544), (1171, 902), (1171, 1617), (1171, 1619), (1172, 453), (1172, 1672), (1172, 2026), (1173, 609), (1173, 1379), (1173, 1401), (1174, 1054), (1175, 1462), (1176, 793), (1176, 803), (1177, 265), (1177, 364), (1177, 787), (1177, 1905), (1178, 335), (1178, 1116), (1178, 1614), (1178, 2049), (1179, 1762), (1180, 388), (1180, 598), (1180, 1001), (1180, 1059), (1180, 1609), (1180, 1610), (1180, 1668), (1181, 424), (1181, 660), (1181, 1182), (1182, 83), (1182, 447), (1182, 660), (1182, 1181), (1182, 1183), (1182, 1355), (1182, 1635), (1183, 601), (1183, 1182), (1184, 90), (1184, 1503), (1184, 2020), (1185, 401), (1186, 118), (1186, 1219), (1187, 176), (1187, 293), (1187, 1027), (1187, 1255), (1187, 1283), (1187, 1425), (1187, 1803), (1188, 1445), (1189, 723), (1190, 888), (1190, 1035), (1190, 1388), (1191, 91), (1191, 274), (1191, 524), (1191, 628), (1191, 1074), (1191, 1075), (1191, 1333), (1191, 1334), (1191, 1337), (1191, 1338), (1191, 1339), (1192, 688), (1192, 1333), (1193, 242), (1193, 545), (1193, 1289), (1193, 1452), (1193, 1453), (1194, 448), (1194, 1144), (1194, 1146), (1194, 1195), (1194, 1196), (1194, 1289), (1194, 1452), (1194, 1453), (1194, 1740), (1195, 98), (1195, 388), (1195, 447), (1195, 588), (1195, 862), (1195, 983), (1195, 1144), (1195, 1194), (1195, 1434), (1195, 1717), (1196, 242), (1196, 702), (1196, 796), (1196, 1146), (1196, 1194), (1196, 1289), (1196, 1452), (1196, 1453), (1197, 796), (1197, 1146), (1197, 1289), (1197, 1453), (1197, 1454), (1198, 211), (1199, 862), (1199, 1815), (1200, 1201), (1201, 117), (1201, 633), (1201, 840), (1201, 943), (1201, 1200), (1202, 85), (1202, 199), (1202, 626), (1203, 558), (1204, 1564), (1204, 1922), (1204, 2032), (1205, 1597), (1205, 1697), (1206, 1634), (1206, 1635), (1206, 1699), (1206, 1817), (1207, 985), (1207, 1093), (1208, 1271), (1209, 859), (1209, 860), (1209, 1574), (1209, 1648), (1210, 239), (1210, 519), (1210, 558), (1210, 1584), (1210, 1716), (1210, 1818), (1211, 620), (1211, 759), (1211, 1212), (1212, 620), (1212, 759), (1212, 1211), (1213, 425), (1213, 1013), (1213, 1572), (1214, 1497), (1215, 484), (1216, 401), (1216, 1283), (1216, 1750), (1217, 670), (1218, 123), (1218, 1157), (1218, 1778), (1218, 1779), (1219, 1186), (1220, 311), (1220, 360), (1220, 1726), (1220, 1770), (1221, 283), (1221, 486), (1221, 552), (1221, 631), (1221, 857), (1221, 860), (1222, 0), (1222, 220), (1223, 160), (1223, 452), (1223, 904), (1223, 946), (1223, 999), (1224, 1322), (1225, 62), (1225, 286), (1225, 444), (1225, 815), (1225, 1429), (1225, 1832), (1225, 1939), (1226, 28), (1226, 32), (1226, 35), (1226, 39), (1226, 697), (1226, 830), (1227, 5), (1227, 279), (1227, 650), (1227, 1333), (1227, 2038), (1228, 1674), (1229, 529), (1229, 1347), (1230, 1159), (1230, 1921), (1231, 12), (1231, 659), (1231, 1531), (1231, 2007), (1232, 689), (1232, 692), (1233, 30), (1233, 156), (1233, 1154), (1234, 555), (1234, 556), (1234, 1235), (1235, 1234), (1235, 1605), (1236, 331), (1236, 333), (1236, 340), (1236, 353), (1237, 328), (1237, 867), (1238, 655), (1238, 1095), (1238, 1144), (1239, 191), (1239, 1240), (1240, 361), (1240, 1239), (1241, 1088), (1242, 10), (1242, 514), (1242, 737), (1242, 1495), (1242, 2054), (1243, 209), (1243, 354), (1243, 902), (1243, 907), (1243, 960), (1244, 670), (1245, 760), (1245, 1772), (1246, 76), (1246, 89), (1246, 327), (1246, 546), (1246, 864), (1246, 1040), (1246, 1285), (1246, 1428), (1246, 1531), (1247, 1249), (1247, 1750), (1248, 1249), (1248, 1750), (1249, 1247), (1249, 1248), (1249, 1750), (1249, 1910), (1250, 161), (1250, 839), (1250, 949), (1250, 1262), (1250, 1486), (1250, 1630), (1251, 404), (1251, 1041), (1252, 144), (1252, 224), (1252, 718), (1252, 746), (1252, 862), (1252, 938), (1252, 1021), (1252, 1271), (1253, 384), (1253, 755), (1253, 1254), (1254, 63), (1254, 1253), (1255, 1187), (1255, 1405), (1256, 53), (1256, 915), (1256, 1724), (1257, 662), (1258, 701), (1259, 14), (1259, 1390), (1260, 158), (1260, 1749), (1260, 1753), (1261, 85), (1261, 726), (1261, 1001), (1262, 121), (1262, 1250), (1262, 1511), (1263, 451), (1263, 456), (1263, 850), (1263, 966), (1263, 2076), (1264, 483), (1264, 850), (1265, 463), (1265, 539), (1265, 1053), (1266, 1714), (1266, 1766), (1267, 1659), (1267, 1766), (1268, 1375), (1269, 469), (1269, 1752), (1270, 573), (1270, 1471), (1271, 420), (1271, 421), (1271, 550), (1271, 862), (1271, 892), (1271, 1208), (1271, 1252), (1271, 1342), (1271, 1464), (1271, 1612), (1271, 1867), (1272, 380), (1272, 382), (1272, 735), (1272, 736), (1272, 737), (1272, 738), (1272, 1916), (1273, 13), (1273, 989), (1273, 1716), (1273, 1833), (1274, 1275), (1275, 1274), (1275, 1904), (1276, 37), (1276, 458), (1276, 823), (1276, 1277), (1276, 1950), (1277, 37), (1277, 823), (1277, 1123), (1277, 1276), (1277, 1691), (1277, 1950), (1278, 341), (1278, 1279), (1278, 1483), (1279, 324), (1279, 364), (1279, 407), (1279, 1114), (1279, 1278), (1280, 45), (1280, 69), (1280, 149), (1280, 336), (1280, 913), (1280, 2043), (1281, 1126), (1282, 1284), (1282, 1350), (1282, 2000), (1283, 145), (1283, 613), (1283, 1187), (1283, 1216), (1283, 2013), (1283, 2031), (1283, 2032), (1284, 1282), (1284, 2013), (1285, 514), (1285, 651), (1285, 694), (1285, 797), (1285, 908), (1285, 1246), (1285, 1912), (1285, 1925), (1286, 307), (1286, 1138), (1286, 1692), (1287, 846), (1287, 1938), (1288, 243), (1288, 691), (1288, 692), (1288, 915), (1288, 916), (1288, 918), (1289, 17), (1289, 144), (1289, 181), (1289, 1018), (1289, 1078), (1289, 1079), (1289, 1146), (1289, 1193), (1289, 1194), (1289, 1196), (1289, 1197), (1289, 1310), (1289, 1400), (1289, 1440), (1289, 1481), (1289, 1554), (1289, 1856), (1289, 1973), (1289, 2083), (1289, 2084), (1289, 2085), (1290, 320), (1291, 320), (1292, 320), (1293, 326), (1293, 557), (1293, 739), (1293, 1390), (1293, 1910), (1294, 552), (1295, 218), (1295, 522), (1295, 619), (1295, 796), (1295, 862), (1295, 1079), (1295, 1453), (1295, 1454), (1295, 1455), (1295, 1928), (1295, 2090), (1296, 303), (1296, 1297), (1297, 1296), (1297, 1711), (1298, 1299), (1298, 1301), (1298, 1311), (1299, 114), (1299, 537), (1299, 1298), (1299, 1301), (1299, 1302), (1300, 716), (1300, 888), (1300, 2058), (1301, 1298), (1301, 1299), (1301, 1302), (1301, 1303), (1302, 1299), (1302, 1301), (1302, 1303), (1303, 114), (1303, 536), (1303, 537), (1303, 1301), (1303, 1302), (1304, 159), (1304, 220), (1304, 1305), (1305, 159), (1305, 1304), (1306, 364), (1306, 787), (1306, 1574), (1307, 797), (1307, 1066), (1307, 1308), (1307, 2061), (1308, 791), (1308, 834), (1308, 1307), (1309, 55), (1309, 1971), (1310, 425), (1310, 655), (1310, 1003), (1310, 1289), (1311, 188), (1311, 531), (1311, 553), (1311, 632), (1311, 878), (1311, 889), (1311, 1035), (1311, 1038), (1311, 1298), (1311, 1569), (1311, 2055), (1311, 2056), (1311, 2069), (1311, 2080), (1311, 2089), (1311, 2108), (1312, 688), (1312, 690), (1313, 96), (1313, 192), (1313, 203), (1313, 1314), (1314, 1313), (1314, 1329), (1314, 1621), (1315, 76), (1316, 125), (1316, 1806), (1317, 1370), (1318, 390), (1318, 915), (1318, 1696), (1318, 2076), (1319, 80), (1319, 904), (1319, 999), (1319, 2015), (1320, 8), (1320, 308), (1320, 662), (1320, 686), (1320, 1051), (1320, 1555), (1320, 1695), (1321, 121), (1321, 941), (1321, 949), (1321, 1978), (1322, 109), (1322, 207), (1322, 414), (1322, 516), (1322, 622), (1322, 1224), (1322, 1829), (1323, 1034), (1323, 1810), (1323, 2021), (1324, 488), (1324, 712), (1324, 734), (1324, 982), (1324, 1785), (1324, 1862), (1325, 645), (1326, 860), (1327, 277), (1327, 636), (1327, 919), (1327, 1461), (1327, 1480), (1327, 1491), (1327, 1966), (1328, 99), (1328, 1329), (1329, 1135), (1329, 1314), (1329, 1328), (1330, 508), (1331, 508), (1332, 40), (1332, 456), (1332, 483), (1333, 79), (1333, 91), (1333, 279), (1333, 524), (1333, 628), (1333, 634), (1333, 688), (1333, 1074), (1333, 1075), (1333, 1191), (1333, 1192), (1333, 1227), (1333, 1334), (1333, 1337), (1333, 1338), (1333, 1339), (1333, 1808), (1334, 688), (1334, 1191), (1334, 1333), (1334, 1808), (1335, 56), (1335, 688), (1335, 861), (1335, 1368), (1336, 1808), (1337, 524), (1337, 628), (1337, 1191), (1337, 1333), (1337, 1338), (1337, 1339), (1338, 524), (1338, 628), (1338, 688), (1338, 1074), (1338, 1191), (1338, 1333), (1338, 1337), (1338, 1339), (1339, 524), (1339, 628), (1339, 688), (1339, 1191), (1339, 1333), (1339, 1337), (1339, 1338), (1340, 617), (1340, 1134), (1341, 380), (1341, 382), (1341, 735), (1341, 736), (1341, 737), (1341, 738), (1341, 1158), (1342, 420), (1342, 1271), (1342, 1343), (1342, 1665), (1343, 655), (1343, 1342), (1343, 1665), (1344, 851), (1344, 1536), (1344, 1537), (1345, 400), (1345, 501), (1345, 1348), (1345, 1488), (1346, 2062), (1347, 1229), (1348, 104), (1348, 111), (1348, 176), (1348, 215), (1348, 314), (1348, 346), (1348, 551), (1348, 613), (1348, 709), (1348, 710), (1348, 791), (1348, 1345), (1348, 1390), (1348, 1392), (1348, 1425), (1348, 1673), (1348, 1674), (1348, 1687), (1348, 1735), (1348, 1803), (1348, 1866), (1348, 1934), (1348, 2079), (1349, 1694), (1350, 119), (1350, 613), (1350, 1282), (1350, 2109), (1351, 941), (1351, 1151), (1351, 1842), (1352, 85), (1352, 445), (1352, 1353), (1352, 1396), (1353, 42), (1353, 1352), (1354, 534), (1355, 85), (1355, 445), (1355, 447), (1355, 1146), (1355, 1182), (1355, 1523), (1355, 1633), (1355, 1930), (1355, 2065), (1355, 2066), (1356, 481), (1356, 1870), (1357, 2), (1357, 674), (1357, 1366), (1358, 276), (1358, 2091), (1359, 858), (1360, 494), (1360, 858), (1360, 2016), (1361, 90), (1362, 13), (1362, 366), (1362, 1600), (1363, 658), (1363, 825), (1363, 1437), (1363, 1948), (1363, 2062), (1364, 1365), (1364, 1777), (1365, 1033), (1365, 1364), (1365, 1884), (1365, 2053), (1366, 2), (1366, 1357), (1366, 1992), (1367, 870), (1368, 5), (1368, 56), (1368, 79), (1368, 650), (1368, 1335), (1369, 418), (1369, 692), (1370, 183), (1370, 1140), (1370, 1317), (1370, 1418), (1370, 1419), (1370, 1804), (1370, 1805), (1370, 1809), (1370, 2039), (1371, 299), (1371, 921), (1372, 541), (1372, 892), (1373, 350), (1374, 1979), (1375, 1070), (1375, 1268), (1376, 1137), (1376, 1755), (1377, 1137), (1377, 1153), (1377, 1755), (1378, 486), (1378, 510), (1378, 552), (1378, 579), (1378, 1787), (1378, 1963), (1379, 71), (1379, 601), (1379, 620), (1379, 664), (1379, 759), (1379, 831), (1379, 1057), (1379, 1119), (1379, 1173), (1379, 2101), (1380, 417), (1380, 1381), (1381, 1380), (1381, 1392), (1381, 1972), (1382, 665), (1383, 665), (1384, 1120), (1385, 452), (1385, 786), (1385, 795), (1385, 944), (1385, 1554), (1386, 214), (1386, 862), (1387, 1677), (1388, 188), (1388, 500), (1388, 504), (1388, 553), (1388, 742), (1388, 1038), (1388, 1190), (1388, 1389), (1388, 1492), (1388, 1569), (1388, 1830), (1388, 2055), (1388, 2056), (1388, 2062), (1388, 2089), (1388, 2108), (1389, 114), (1389, 1388), (1389, 1824), (1389, 2062), (1390, 106), (1390, 175), (1390, 247), (1390, 468), (1390, 487), (1390, 709), (1390, 710), (1390, 739), (1390, 740), (1390, 1259), (1390, 1293), (1390, 1348), (1390, 1413), (1390, 1504), (1390, 1526), (1390, 1728), (1390, 1729), (1390, 1762), (1390, 1830), (1390, 1897), (1390, 1910), (1390, 1997), (1391, 1830), (1392, 16), (1392, 53), (1392, 60), (1392, 1348), (1392, 1381), (1392, 1721), (1392, 1775), (1393, 1480), (1394, 1049), (1395, 722), (1396, 445), (1396, 1352), (1397, 89), (1397, 1428), (1397, 1509), (1397, 1510), (1397, 1603), (1397, 1952), (1398, 1399), (1399, 1038), (1399, 1398), (1400, 63), (1400, 317), (1400, 572), (1400, 609), (1400, 862), (1400, 938), (1400, 1289), (1400, 1453), (1400, 1454), (1400, 1456), (1400, 1599), (1400, 1668), (1401, 317), (1401, 572), (1401, 862), (1401, 938), (1401, 1173), (1401, 1454), (1402, 124), (1403, 136), (1403, 1164), (1403, 1640), (1404, 30), (1404, 132), (1404, 156), (1404, 244), (1405, 293), (1405, 1255), (1406, 436), (1406, 455), (1406, 512), (1407, 489), (1407, 721), (1407, 1408), (1407, 2008), (1408, 1407), (1408, 2008), (1409, 312), (1409, 1131), (1409, 1846), (1409, 1959), (1410, 595), (1410, 655), (1410, 817), (1410, 836), (1410, 837), (1410, 862), (1410, 914), (1410, 1069), (1410, 1127), (1410, 1159), (1410, 1475), (1410, 1590), (1410, 1668), (1410, 1732), (1410, 1894), (1411, 1121), (1412, 1435), (1413, 190), (1413, 197), (1413, 1390), (1414, 649), (1414, 757), (1415, 859), (1415, 1521), (1416, 1417), (1417, 39), (1417, 132), (1417, 244), (1417, 683), (1417, 1416), (1417, 1877), (1418, 675), (1418, 1370), (1418, 1419), (1418, 1804), (1418, 1805), (1418, 1806), (1419, 125), (1419, 847), (1419, 1370), (1419, 1418), (1419, 1804), (1419, 1805), (1420, 1626), (1421, 1450), (1421, 1903), (1422, 1148), (1422, 1423), (1423, 62), (1423, 254), (1423, 862), (1423, 938), (1423, 1148), (1423, 1422), (1423, 1970), (1423, 2091), (1424, 518), (1424, 529), (1424, 538), (1424, 568), (1425, 16), (1425, 233), (1425, 503), (1425, 551), (1425, 1187), (1425, 1348), (1426, 71), (1426, 655), (1427, 513), (1427, 850), (1427, 2010), (1427, 2043), (1428, 66), (1428, 598), (1428, 602), (1428, 731), (1428, 987), (1428, 1246), (1428, 1397), (1428, 1429), (1428, 1430), (1428, 1452), (1428, 1604), (1428, 1746), (1428, 1887), (1428, 1894), (1429, 89), (1429, 162), (1429, 630), (1429, 815), (1429, 974), (1429, 1003), (1429, 1225), (1429, 1428), (1429, 1602), (1429, 1604), (1429, 1859), (1429, 1894), (1430, 89), (1430, 1003), (1430, 1428), (1430, 1602), (1430, 1604), (1430, 1859), (1430, 1894), (1431, 462), (1431, 1445), (1432, 785), (1432, 1624), (1433, 448), (1433, 1740), (1434, 1195), (1435, 786), (1435, 1412), (1436, 0), (1436, 613), (1436, 1437), (1437, 0), (1437, 340), (1437, 571), (1437, 1044), (1437, 1060), (1437, 1076), (1437, 1363), (1437, 1436), (1437, 1870), (1437, 1972), (1437, 2108), (1438, 649), (1438, 947), (1439, 875), (1439, 876), (1439, 879), (1439, 880), (1440, 452), (1440, 655), (1440, 862), (1440, 1289), (1440, 1453), (1441, 920), (1442, 495), (1442, 1574), (1442, 1780), (1443, 242), (1443, 1011), (1443, 1444), (1444, 1443), (1445, 44), (1445, 390), (1445, 462), (1445, 1188), (1445, 1431), (1445, 1447), (1446, 83), (1446, 234), (1446, 359), (1446, 1635), (1446, 1932), (1447, 306), (1447, 1445), (1448, 306), (1449, 1451), (1450, 1421), (1450, 1451), (1451, 843), (1451, 1449), (1451, 1450), (1451, 1661), (1452, 89), (1452, 98), (1452, 157), (1452, 218), (1452, 452), (1452, 528), (1452, 619), (1452, 640), (1452, 817), (1452, 862), (1452, 938), (1452, 983), (1452, 999), (1452, 1001), (1452, 1019), (1452, 1079), (1452, 1144), (1452, 1193), (1452, 1194), (1452, 1196), (1452, 1428), (1452, 1453), (1452, 1454), (1452, 1455), (1452, 1554), (1452, 1859), (1452, 1894), (1453, 218), (1453, 242), (1453, 448), (1453, 685), (1453, 862), (1453, 980), (1453, 1018), (1453, 1146), (1453, 1193), (1453, 1194), (1453, 1196), (1453, 1197), (1453, 1295), (1453, 1400), (1453, 1440), (1453, 1452), (1453, 1455), (1453, 1456), (1453, 1671), (1453, 1892), (1454, 63), (1454, 98), (1454, 151), (1454, 218), (1454, 250), (1454, 266), (1454, 268), (1454, 393), (1454, 398), (1454, 399), (1454, 572), (1454, 702), (1454, 819), (1454, 1067), (1454, 1197), (1454, 1295), (1454, 1400), (1454, 1401), (1454, 1452), (1454, 1455), (1454, 1456), (1454, 1481), (1454, 1552), (1454, 1554), (1454, 1578), (1454, 1741), (1454, 1895), (1454, 2068), (1454, 2084), (1454, 2085), (1455, 819), (1455, 862), (1455, 1295), (1455, 1452), (1455, 1453), (1455, 1454), (1456, 817), (1456, 862), (1456, 1078), (1456, 1400), (1456, 1453), (1456, 1454), (1456, 1665), (1457, 435), (1457, 566), (1457, 1514), (1458, 558), (1459, 862), (1459, 938), (1459, 1021), (1460, 1865), (1460, 1866), (1461, 1327), (1462, 65), (1462, 358), (1462, 551), (1462, 1175), (1462, 1570), (1462, 1571), (1462, 1770), (1463, 721), (1463, 928), (1464, 817), (1464, 862), (1464, 1021), (1464, 1271), (1464, 1611), (1464, 1612), (1464, 1992), (1465, 1466), (1465, 1467), (1465, 1665), (1466, 527), (1466, 655), (1466, 862), (1466, 1021), (1466, 1465), (1466, 1467), (1466, 1665), (1467, 1465), (1467, 1466), (1468, 187), (1468, 941), (1468, 958), (1468, 1150), (1468, 1151), (1468, 1547), (1468, 1862), (1468, 2098), (1469, 209), (1469, 960), (1469, 962), (1470, 648), (1471, 573), (1471, 772), (1471, 1270), (1472, 1473), (1472, 2050), (1473, 265), (1473, 1472), (1474, 584), (1475, 862), (1475, 936), (1475, 1410), (1475, 2019), (1476, 1569), (1476, 1750), (1476, 1972), (1477, 850), (1477, 1664), (1478, 1796), (1479, 217), (1480, 70), (1480, 337), (1480, 1327), (1480, 1393), (1480, 1649), (1480, 1661), (1480, 1694), (1481, 80), (1481, 151), (1481, 181), (1481, 266), (1481, 268), (1481, 393), (1481, 452), (1481, 904), (1481, 1289), (1481, 1454), (1481, 1554), (1481, 2015), (1481, 2068), (1481, 2084), (1481, 2085), (1482, 1484), (1482, 1888), (1483, 341), (1483, 1115), (1483, 1278), (1484, 339), (1484, 341), (1484, 1482), (1485, 448), (1486, 949), (1486, 1250), (1487, 1830), (1488, 790), (1488, 1345), (1489, 1587), (1490, 1055), (1490, 1492), (1491, 1327), (1492, 560), (1492, 748), (1492, 1388), (1492, 1490), (1492, 1643), (1493, 154), (1493, 297), (1493, 300), (1493, 392), (1493, 1013), (1494, 253), (1494, 599), (1494, 869), (1494, 1592), (1494, 1687), (1494, 1689), (1494, 1750), (1495, 514), (1495, 1242), (1496, 1822), (1496, 1903), (1497, 408), (1497, 419), (1497, 1123), (1497, 1214), (1498, 196), (1498, 623), (1498, 1645), (1499, 262), (1499, 379), (1499, 516), (1499, 1829), (1499, 2072), (1500, 949), (1500, 1923), (1501, 327), (1502, 172), (1502, 688), (1503, 90), (1503, 1184), (1503, 2020), (1504, 1390), (1505, 155), (1505, 916), (1506, 1754), (1507, 1938), (1508, 377), (1508, 2096), (1509, 862), (1509, 1397), (1509, 1510), (1509, 1603), (1509, 2042), (1510, 1397), (1510, 1509), (1510, 1603), (1511, 36), (1511, 1152), (1511, 1262), (1511, 2040), (1512, 576), (1512, 1005), (1513, 835), (1514, 1457), (1514, 1626), (1515, 1516), (1515, 1529), (1515, 1750), (1515, 2108), (1516, 725), (1516, 1515), (1516, 1529), (1516, 1750), (1516, 1984), (1517, 352), (1517, 417), (1517, 1896), (1517, 2055), (1518, 1039), (1519, 505), (1519, 1520), (1519, 1522), (1520, 505), (1520, 1519), (1520, 1521), (1521, 505), (1521, 1415), (1521, 1520), (1521, 1522), (1522, 1519), (1522, 1521), (1523, 1), (1523, 85), (1523, 204), (1523, 516), (1523, 602), (1523, 638), (1523, 653), (1523, 662), (1523, 915), (1523, 917), (1523, 1001), (1523, 1054), (1523, 1109), (1523, 1110), (1523, 1355), (1523, 1635), (1523, 1790), (1523, 1829), (1523, 1894), (1524, 127), (1524, 1525), (1524, 1770), (1525, 1524), (1525, 1570), (1526, 198), (1526, 618), (1526, 1390), (1526, 1686), (1527, 556), (1528, 725), (1528, 1529), (1529, 725), (1529, 1515), (1529, 1516), (1529, 1528), (1529, 2012), (1530, 967), (1530, 1531), (1530, 1650), (1531, 546), (1531, 994), (1531, 1231), (1531, 1246), (1531, 1530), (1532, 122), (1533, 82), (1533, 1657), (1534, 1750), (1534, 2108), (1535, 1102), (1535, 1103), (1536, 192), (1536, 1111), (1536, 1344), (1537, 1344), (1538, 1008), (1539, 724), (1539, 1835), (1539, 1904), (1540, 1903), (1540, 1904), (1541, 296), (1541, 311), (1541, 1542), (1542, 1541), (1542, 1771), (1543, 305), (1543, 444), (1543, 784), (1543, 1733), (1543, 1757), (1543, 1790), (1543, 1831), (1543, 1832), (1544, 216), (1544, 1038), (1544, 2055), (1545, 862), (1545, 953), (1546, 947), (1547, 1151), (1547, 1468), (1547, 1548), (1547, 1560), (1547, 2098), (1548, 1170), (1548, 1547), (1549, 402), (1549, 479), (1549, 586), (1550, 1073), (1550, 1694), (1551, 572), (1551, 805), (1551, 817), (1551, 937), (1551, 1067), (1551, 1552), (1551, 1670), (1551, 1671), (1551, 1898), (1551, 1899), (1552, 655), (1552, 684), (1552, 817), (1552, 862), (1552, 1454), (1552, 1551), (1552, 1553), (1552, 1611), (1552, 1670), (1552, 1671), (1553, 144), (1553, 804), (1553, 805), (1553, 938), (1553, 1018), (1553, 1052), (1553, 1067), (1553, 1552), (1553, 1670), (1553, 1671), (1553, 1898), (1553, 1899), (1554, 80), (1554, 139), (1554, 151), (1554, 181), (1554, 266), (1554, 268), (1554, 393), (1554, 1289), (1554, 1385), (1554, 1452), (1554, 1454), (1554, 1481), (1554, 2015), (1554, 2068), (1554, 2083), (1554, 2084), (1554, 2085), (1555, 1320), (1556, 745), (1557, 623), (1557, 745), (1557, 1558), (1558, 623), (1558, 1557), (1559, 679), (1559, 1560), (1560, 1547), (1560, 1559), (1561, 1697), (1562, 432), (1563, 289), (1563, 1565), (1563, 1705), (1563, 2036), (1564, 168), (1564, 278), (1564, 1204), (1564, 1565), (1564, 1566), (1564, 1784), (1565, 760), (1565, 1563), (1565, 1564), (1565, 2036), (1566, 879), (1566, 1564), (1566, 2036), (1567, 832), (1567, 1568), (1567, 1855), (1568, 668), (1568, 832), (1568, 1001), (1568, 1090), (1568, 1567), (1568, 1855), (1569, 188), (1569, 1311), (1569, 1388), (1569, 1476), (1569, 2055), (1569, 2062), (1570, 127), (1570, 1462), (1570, 1525), (1570, 1571), (1570, 2081), (1571, 1462), (1571, 1570), (1571, 2079), (1571, 2081), (1572, 179), (1572, 354), (1572, 362), (1572, 1213), (1573, 713), (1573, 714), (1573, 715), (1573, 1974), (1574, 404), (1574, 474), (1574, 532), (1574, 1010), (1574, 1168), (1574, 1209), (1574, 1306), (1574, 1442), (1574, 1679), (1574, 1767), (1574, 1819), (1575, 129), (1575, 951), (1575, 2094), (1576, 390), (1576, 1637), (1576, 1667), (1576, 1668), (1577, 576), (1577, 845), (1578, 938), (1578, 1049), (1578, 1454), (1579, 29), (1580, 112), (1580, 122), (1580, 163), (1580, 998), (1581, 752), (1581, 860), (1582, 200), (1582, 374), (1582, 1583), (1582, 2095), (1583, 1014), (1583, 1582), (1584, 85), (1584, 519), (1584, 1210), (1584, 1634), (1584, 1716), (1584, 1833), (1585, 1586), (1586, 471), (1586, 1585), (1587, 471), (1587, 1489), (1588, 471), (1588, 1750), (1589, 1750), (1590, 648), (1590, 1410), (1590, 1816), (1590, 2087), (1591, 143), (1591, 240), (1591, 833), (1591, 912), (1591, 1666), (1591, 1671), (1591, 1712), (1592, 669), (1592, 1494), (1592, 1927), (1593, 1597), (1594, 249), (1594, 577), (1594, 1747), (1594, 1748), (1595, 249), (1596, 23), (1596, 844), (1597, 1205), (1597, 1593), (1597, 1696), (1598, 816), (1599, 1400), (1600, 206), (1600, 1362), (1601, 996), (1601, 1006), (1601, 1037), (1601, 1706), (1602, 1429), (1602, 1430), (1602, 1603), (1602, 1952), (1603, 598), (1603, 1397), (1603, 1509), (1603, 1510), (1603, 1602), (1603, 1894), (1604, 220), (1604, 343), (1604, 345), (1604, 425), (1604, 598), (1604, 1003), (1604, 1127), (1604, 1428), (1604, 1429), (1604, 1430), (1604, 1662), (1604, 2073), (1605, 115), (1605, 413), (1605, 798), (1605, 1094), (1605, 1235), (1605, 1938), (1606, 1852), (1607, 162), (1607, 630), (1607, 1609), (1607, 1894), (1608, 426), (1608, 1609), (1608, 1894), (1609, 1180), (1609, 1607), (1609, 1608), (1609, 1610), (1610, 662), (1610, 771), (1610, 1180), (1610, 1609), (1611, 804), (1611, 862), (1611, 1067), (1611, 1464), (1611, 1552), (1611, 1670), (1611, 1867), (1611, 1899), (1612, 805), (1612, 862), (1612, 963), (1612, 1271), (1612, 1464), (1613, 354), (1613, 941), (1613, 1151), (1613, 1842), (1613, 1999), (1614, 1178), (1614, 1750), (1614, 1774), (1615, 402), (1616, 589), (1617, 1171), (1617, 1619), (1618, 1619), (1619, 173), (1619, 1171), (1619, 1617), (1619, 1618), (1620, 116), (1620, 1747), (1621, 1314), (1621, 1622), (1622, 1621), (1623, 726), (1624, 590), (1624, 657), (1624, 1432), (1625, 389), (1626, 435), (1626, 456), (1626, 925), (1626, 1420), (1626, 1514), (1626, 1719), (1626, 1742), (1627, 42), (1627, 817), (1627, 1665), (1628, 58), (1628, 1978), (1629, 138), (1629, 658), (1629, 869), (1629, 870), (1629, 953), (1629, 1814), (1630, 38), (1630, 167), (1630, 354), (1630, 754), (1630, 1250), (1631, 36), (1631, 147), (1631, 607), (1631, 1152), (1631, 1632), (1632, 1631), (1632, 2015), (1633, 1355), (1633, 1634), (1633, 1635), (1633, 1817), (1634, 34), (1634, 85), (1634, 225), (1634, 439), (1634, 447), (1634, 1206), (1634, 1584), (1634, 1633), (1634, 1848), (1634, 1859), (1634, 2093), (1635, 225), (1635, 295), (1635, 359), (1635, 445), (1635, 595), (1635, 606), (1635, 614), (1635, 1001), (1635, 1182), (1635, 1206), (1635, 1446), (1635, 1523), (1635, 1633), (1635, 1699), (1635, 1817), (1635, 1930), (1635, 2065), (1635, 2093), (1636, 808), (1636, 1775), (1637, 406), (1637, 923), (1637, 924), (1637, 1576), (1638, 0), (1638, 654), (1639, 0), (1639, 654), (1639, 1133), (1640, 193), (1640, 1403), (1641, 1750), (1642, 1687), (1643, 1492), (1644, 246), (1644, 673), (1644, 1107), (1644, 1906), (1645, 246), (1645, 1498), (1646, 1647), (1647, 904), (1647, 1646), (1648, 228), (1648, 719), (1648, 1143), (1648, 1209), (1648, 1750), (1648, 1824), (1648, 1972), (1649, 319), (1649, 1480), (1650, 881), (1650, 1530), (1651, 1027), (1652, 493), (1652, 1700), (1653, 38), (1653, 459), (1653, 497), (1654, 464), (1654, 1139), (1655, 82), (1655, 1657), (1655, 1783), (1656, 1130), (1656, 1782), (1656, 1875), (1656, 1876), (1657, 82), (1657, 1533), (1657, 1655), (1657, 1692), (1657, 1783), (1658, 20), (1658, 629), (1659, 1267), (1659, 1766), (1659, 1903), (1660, 552), (1661, 233), (1661, 342), (1661, 1451), (1661, 1480), (1662, 598), (1662, 1604), (1663, 220), (1663, 595), (1663, 668), (1663, 1001), (1664, 1477), (1665, 420), (1665, 746), (1665, 818), (1665, 862), (1665, 863), (1665, 1342), (1665, 1343), (1665, 1456), (1665, 1465), (1665, 1466), (1665, 1627), (1665, 1669), (1666, 240), (1666, 953), (1666, 1591), (1667, 1576), (1667, 1668), (1668, 166), (1668, 668), (1668, 862), (1668, 1001), (1668, 1180), (1668, 1400), (1668, 1410), (1668, 1576), (1668, 1667), (1668, 1894), (1668, 2090), (1669, 1665), (1670, 684), (1670, 817), (1670, 862), (1670, 938), (1670, 1551), (1670, 1552), (1670, 1553), (1670, 1611), (1670, 1671), (1670, 1899), (1671, 1030), (1671, 1067), (1671, 1453), (1671, 1551), (1671, 1552), (1671, 1553), (1671, 1591), (1671, 1670), (1672, 564), (1672, 1172), (1673, 1348), (1673, 1675), (1673, 1687), (1674, 1228), (1674, 1348), (1674, 1675), (1674, 1687), (1675, 346), (1675, 1673), (1675, 1674), (1676, 1677), (1677, 376), (1677, 1387), (1677, 1676), (1677, 1703), (1678, 302), (1678, 562), (1678, 897), (1678, 954), (1678, 1105), (1678, 1706), (1678, 1878), (1679, 1574), (1680, 97), (1680, 211), (1681, 1126), (1682, 1683), (1683, 967), (1683, 1682), (1684, 45), (1684, 149), (1684, 932), (1684, 2076), (1685, 862), (1685, 883), (1686, 198), (1686, 760), (1686, 1526), (1686, 1910), (1687, 104), (1687, 314), (1687, 346), (1687, 464), (1687, 1076), (1687, 1348), (1687, 1494), (1687, 1642), (1687, 1673), (1687, 1674), (1687, 1689), (1687, 1750), (1687, 1751), (1687, 1803), (1687, 1849), (1688, 599), (1689, 314), (1689, 1494), (1689, 1687), (1689, 1750), (1689, 1751), (1689, 1803), (1690, 429), (1690, 972), (1690, 2088), (1691, 723), (1691, 1047), (1691, 1277), (1691, 1767), (1692, 82), (1692, 1286), (1692, 1657), (1693, 1694), (1694, 271), (1694, 431), (1694, 489), (1694, 515), (1694, 1349), (1694, 1480), (1694, 1550), (1694, 1693), (1694, 1737), (1694, 1861), (1694, 1962), (1694, 1964), (1694, 1994), (1694, 2064), (1694, 2067), (1694, 2075), (1694, 2107), (1695, 1320), (1696, 1318), (1696, 1597), (1696, 1697), (1697, 137), (1697, 1205), (1697, 1561), (1697, 1696), (1698, 835), (1698, 1869), (1699, 447), (1699, 720), (1699, 829), (1699, 1159), (1699, 1206), (1699, 1635), (1699, 1817), (1699, 1930), (1699, 2065), (1699, 2078), (1700, 1652), (1701, 24), (1701, 872), (1702, 688), (1703, 428), (1703, 683), (1703, 1677), (1704, 1942), (1705, 740), (1705, 822), (1705, 1563), (1706, 323), (1706, 363), (1706, 367), (1706, 369), (1706, 554), (1706, 631), (1706, 813), (1706, 890), (1706, 897), (1706, 898), (1706, 1002), (1706, 1006), (1706, 1601), (1706, 1678), (1706, 1837), (1707, 590), (1707, 1950), (1708, 1709), (1708, 2036), (1709, 1708), (1710, 2044), (1711, 476), (1711, 721), (1711, 1023), (1711, 1297), (1711, 1770), (1712, 727), (1712, 1591), (1713, 1750), (1713, 1900), (1714, 1266), (1714, 1947), (1715, 614), (1715, 620), (1715, 759), (1716, 34), (1716, 98), (1716, 109), (1716, 207), (1716, 519), (1716, 558), (1716, 622), (1716, 979), (1716, 989), (1716, 1210), (1716, 1273), (1716, 1584), (1717, 98), (1717, 1164), (1717, 1195), (1718, 477), (1718, 843), (1719, 1626), (1720, 441), (1720, 1160), (1721, 1392), (1721, 1724), (1721, 1858), (1722, 53), (1723, 1027), (1724, 1027), (1724, 1256), (1724, 1721), (1724, 2031), (1725, 90), (1725, 436), (1726, 722), (1726, 1220), (1726, 1793), (1727, 430), (1727, 942), (1728, 1390), (1728, 1730), (1729, 1390), (1729, 1730), (1730, 1728), (1730, 1729), (1731, 273), (1731, 433), (1731, 485), (1731, 854), (1731, 855), (1732, 1410), (1733, 1), (1733, 171), (1733, 305), (1733, 1543), (1733, 1790), (1734, 13), (1735, 598), (1735, 1348), (1736, 97), (1737, 1694), (1738, 64), (1738, 1128), (1739, 22), (1739, 368), (1739, 688), (1740, 685), (1740, 1194), (1740, 1433), (1741, 448), (1741, 1454), (1741, 1867), (1742, 451), (1742, 925), (1742, 1626), (1743, 1055), (1743, 1750), (1744, 41), (1745, 67), (1746, 7), (1746, 89), (1746, 1428), (1747, 37), (1747, 249), (1747, 823), (1747, 1594), (1747, 1620), (1747, 1748), (1748, 264), (1748, 1594), (1748, 1747), (1749, 423), (1749, 649), (1749, 1260), (1749, 1751), (1749, 1753), (1750, 57), (1750, 114), (1750, 120), (1750, 133), (1750, 142), (1750, 158), (1750, 212), (1750, 349), (1750, 449), (1750, 457), (1750, 461), (1750, 468), (1750, 486), (1750, 554), (1750, 695), (1750, 866), (1750, 887), (1750, 933), (1750, 934), (1750, 1022), (1750, 1055), (1750, 1058), (1750, 1076), (1750, 1077), (1750, 1096), (1750, 1097), (1750, 1101), (1750, 1139), (1750, 1216), (1750, 1247), (1750, 1248), (1750, 1249), (1750, 1476), (1750, 1494), (1750, 1515), (1750, 1516), (1750, 1534), (1750, 1588), (1750, 1589), (1750, 1614), (1750, 1641), (1750, 1648), (1750, 1687), (1750, 1689), (1750, 1713), (1750, 1743), (1750, 2033), (1750, 2056), (1750, 2059), (1750, 2060), (1750, 2081), (1751, 281), (1751, 791), (1751, 1058), (1751, 1066), (1751, 1687), (1751, 1689), (1751, 1749), (1751, 2056), (1751, 2059), (1751, 2060), (1751, 2061), (1752, 114), (1752, 1269), (1753, 709), (1753, 1260), (1753, 1749), (1754, 1506), (1754, 1755), (1755, 1137), (1755, 1376), (1755, 1377), (1755, 1754), (1756, 92), (1756, 1088), (1757, 1159), (1757, 1543), (1757, 1859), (1758, 767), (1759, 140), (1759, 206), (1760, 37), (1760, 823), (1760, 1838), (1760, 1950), (1761, 37), (1761, 823), (1761, 1838), (1762, 1179), (1762, 1390), (1762, 1897), (1763, 572), (1763, 660), (1764, 1765), (1765, 472), (1765, 1764), (1766, 1266), (1766, 1267), (1766, 1659), (1767, 387), (1767, 1574), (1767, 1691), (1767, 1905), (1767, 2082), (1768, 404), (1769, 18), (1769, 692), (1770, 174), (1770, 476), (1770, 928), (1770, 1023), (1770, 1220), (1770, 1462), (1770, 1524), (1770, 1711), (1770, 1771), (1771, 134), (1771, 255), (1771, 930), (1771, 1542), (1771, 1770), (1772, 1245), (1773, 1830), (1774, 779), (1774, 1614), (1774, 1791), (1775, 1392), (1775, 1636), (1776, 655), (1776, 1777), (1777, 1364), (1777, 1776), (1778, 123), (1778, 803), (1778, 1218), (1778, 1779), (1779, 1218), (1779, 1778), (1780, 213), (1780, 1442), (1781, 185), (1781, 295), (1781, 320), (1781, 1795), (1781, 1904), (1781, 2003), (1782, 603), (1782, 615), (1782, 1656), (1783, 82), (1783, 1655), (1783, 1657), (1784, 984), (1784, 1564), (1784, 1988), (1785, 4), (1785, 1324), (1786, 1007), (1786, 1790), (1786, 1795), (1786, 2077), (1787, 510), (1787, 1378), (1787, 1789), (1788, 171), (1788, 1790), (1788, 1894), (1789, 508), (1789, 631), (1789, 1787), (1790, 171), (1790, 231), (1790, 305), (1790, 1007), (1790, 1110), (1790, 1523), (1790, 1543), (1790, 1733), (1790, 1786), (1790, 1788), (1791, 416), (1791, 1774), (1791, 1792), (1791, 1793), (1792, 1791), (1793, 311), (1793, 360), (1793, 1726), (1793, 1791), (1794, 321), (1795, 107), (1795, 1111), (1795, 1162), (1795, 1781), (1795, 1786), (1795, 2077), (1796, 1478), (1796, 1798), (1797, 439), (1797, 626), (1797, 1832), (1798, 561), (1798, 1155), (1798, 1796), (1798, 1871), (1799, 768), (1799, 1800), (1800, 645), (1800, 786), (1800, 919), (1800, 1799), (1800, 2065), (1801, 37), (1801, 201), (1801, 458), (1801, 724), (1801, 823), (1801, 977), (1801, 1875), (1801, 1876), (1801, 1905), (1801, 1988), (1802, 156), (1802, 1877), (1803, 314), (1803, 1187), (1803, 1348), (1803, 1687), (1803, 1689), (1804, 1370), (1804, 1418), (1804, 1419), (1805, 1370), (1805, 1418), (1805, 1419), (1805, 1806), (1806, 19), (1806, 48), (1806, 125), (1806, 612), (1806, 696), (1806, 764), (1806, 922), (1806, 1012), (1806, 1063), (1806, 1316), (1806, 1418), (1806, 1805), (1806, 1940), (1807, 772), (1807, 1963), (1808, 79), (1808, 605), (1808, 1075), (1808, 1333), (1808, 1334), (1808, 1336), (1809, 19), (1809, 696), (1809, 1370), (1810, 1323), (1811, 177), (1811, 1014), (1812, 938), (1812, 1069), (1813, 361), (1813, 919), (1813, 2065), (1814, 507), (1814, 1629), (1815, 236), (1815, 1199), (1816, 520), (1816, 1590), (1817, 83), (1817, 447), (1817, 1206), (1817, 1633), (1817, 1635), (1817, 1699), (1818, 239), (1818, 519), (1818, 1210), (1819, 446), (1819, 1574), (1819, 1820), (1820, 446), (1820, 1819), (1821, 7), (1821, 987), (1821, 1828), (1822, 307), (1822, 1496), (1823, 77), (1823, 760), (1824, 1389), (1824, 1648), (1824, 2062), (1825, 1827), (1826, 251), (1826, 1827), (1827, 251), (1827, 1825), (1827, 1826), (1828, 987), (1828, 1821), (1829, 178), (1829, 375), (1829, 379), (1829, 383), (1829, 845), (1829, 920), (1829, 1322), (1829, 1499), (1829, 1523), (1829, 1977), (1829, 2072), (1829, 2096), (1830, 1388), (1830, 1390), (1830, 1391), (1830, 1487), (1830, 1773), (1830, 1975), (1831, 225), (1831, 444), (1831, 1543), (1831, 1859), (1832, 225), (1832, 444), (1832, 1225), (1832, 1543), (1832, 1797), (1832, 1859), (1833, 34), (1833, 207), (1833, 519), (1833, 1273), (1833, 1584), (1834, 610), (1835, 1539), (1836, 1904), (1837, 896), (1837, 1102), (1837, 1706), (1838, 37), (1838, 774), (1838, 823), (1838, 1760), (1838, 1761), (1838, 1839), (1839, 843), (1839, 1838), (1840, 307), (1840, 787), (1840, 1046), (1841, 567), (1841, 787), (1841, 1843), (1841, 1986), (1842, 862), (1842, 941), (1842, 1351), (1842, 1613), (1843, 307), (1843, 407), (1843, 723), (1843, 1046), (1843, 1841), (1843, 1905), (1843, 1985), (1843, 1986), (1843, 1988), (1844, 262), (1845, 587), (1845, 749), (1845, 955), (1846, 108), (1846, 324), (1846, 1131), (1846, 1409), (1847, 455), (1848, 85), (1848, 662), (1848, 1634), (1849, 1687), (1850, 1851), (1850, 1852), (1851, 1850), (1851, 1852), (1852, 840), (1852, 1606), (1852, 1850), (1852, 1851), (1853, 1156), (1854, 826), (1855, 1567), (1855, 1568), (1856, 479), (1856, 1289), (1857, 2055), (1858, 1721), (1858, 2109), (1859, 444), (1859, 595), (1859, 614), (1859, 1100), (1859, 1429), (1859, 1430), (1859, 1452), (1859, 1634), (1859, 1757), (1859, 1831), (1859, 1832), (1860, 71), (1860, 601), (1860, 620), (1860, 759), (1860, 806), (1860, 831), (1860, 988), (1861, 1694), (1862, 4), (1862, 38), (1862, 54), (1862, 354), (1862, 766), (1862, 885), (1862, 1324), (1862, 1468), (1862, 1999), (1863, 914), (1863, 1100), (1863, 1937), (1864, 1100), (1865, 1045), (1865, 1460), (1866, 1348), (1866, 1460), (1867, 640), (1867, 862), (1867, 962), (1867, 1271), (1867, 1611), (1867, 1741), (1867, 1933), (1868, 350), (1868, 1908), (1869, 1165), (1869, 1698), (1870, 481), (1870, 1356), (1870, 1437), (1871, 110), (1871, 1155), (1871, 1798), (1872, 74), (1872, 110), (1873, 63), (1873, 862), (1874, 3), (1874, 357), (1874, 604), (1874, 1992), (1875, 1656), (1875, 1801), (1875, 1876), (1875, 1904), (1875, 1905), (1876, 1656), (1876, 1801), (1876, 1875), (1876, 1904), (1876, 1905), (1877, 466), (1877, 1417), (1877, 1802), (1878, 1678), (1879, 645), (1880, 33), (1880, 153), (1880, 511), (1880, 830), (1881, 511), (1881, 1958), (1882, 876), (1882, 879), (1882, 1883), (1883, 1882), (1884, 600), (1884, 877), (1884, 1365), (1885, 620), (1885, 759), (1885, 1163), (1885, 1886), (1885, 2090), (1886, 620), (1886, 759), (1886, 1163), (1886, 1885), (1887, 1428), (1888, 339), (1888, 1482), (1889, 942), (1890, 826), (1891, 390), (1891, 437), (1891, 636), (1891, 1070), (1892, 1453), (1893, 602), (1893, 974), (1893, 1894), (1894, 162), (1894, 225), (1894, 343), (1894, 345), (1894, 602), (1894, 974), (1894, 975), (1894, 1003), (1894, 1100), (1894, 1410), (1894, 1428), (1894, 1429), (1894, 1430), (1894, 1452), (1894, 1523), (1894, 1603), (1894, 1607), (1894, 1608), (1894, 1668), (1894, 1788), (1894, 1893), (1894, 1952), (1894, 2078), (1895, 862), (1895, 1454), (1896, 369), (1896, 1036), (1896, 1517), (1897, 1390), (1897, 1762), (1898, 817), (1898, 862), (1898, 1551), (1898, 1553), (1899, 684), (1899, 817), (1899, 1551), (1899, 1553), (1899, 1611), (1899, 1670), (1900, 1713), (1901, 180), (1901, 1902), (1902, 1901), (1903, 1421), (1903, 1496), (1903, 1540), (1903, 1659), (1903, 1904), (1904, 213), (1904, 387), (1904, 515), (1904, 1275), (1904, 1539), (1904, 1540), (1904, 1781), (1904, 1836), (1904, 1875), (1904, 1876), (1904, 1903), (1904, 1905), (1904, 1942), (1904, 2107), (1905, 458), (1905, 567), (1905, 724), (1905, 977), (1905, 1177), (1905, 1767), (1905, 1801), (1905, 1843), (1905, 1875), (1905, 1876), (1905, 1904), (1905, 1988), (1906, 1644), (1907, 864), (1907, 947), (1908, 794), (1908, 846), (1908, 1084), (1908, 1868), (1908, 1938), (1909, 928), (1909, 929), (1910, 14), (1910, 106), (1910, 175), (1910, 198), (1910, 618), (1910, 740), (1910, 875), (1910, 1249), (1910, 1293), (1910, 1390), (1910, 1686), (1911, 425), (1912, 1285), (1912, 1961), (1913, 1914), (1913, 1938), (1913, 2050), (1914, 1913), (1914, 1915), (1915, 587), (1915, 1914), (1916, 1272), (1917, 287), (1917, 380), (1917, 382), (1917, 624), (1917, 651), (1917, 736), (1917, 737), (1917, 738), (1917, 2054), (1917, 2061), (1918, 141), (1919, 141), (1920, 129), (1921, 1230), (1922, 365), (1922, 1204), (1923, 1500), (1924, 817), (1924, 938), (1924, 1021), (1924, 1945), (1925, 781), (1925, 1285), (1926, 625), (1927, 1592), (1927, 2109), (1928, 1295), (1928, 2090), (1928, 2091), (1929, 953), (1930, 13), (1930, 83), (1930, 1355), (1930, 1635), (1930, 1699), (1930, 1931), (1930, 1957), (1931, 829), (1931, 1930), (1932, 234), (1932, 1446), (1933, 1867), (1934, 1348), (1935, 688), (1936, 1967), (1937, 526), (1937, 1863), (1938, 780), (1938, 1287), (1938, 1507), (1938, 1605), (1938, 1908), (1938, 1913), (1939, 225), (1939, 1225), (1940, 922), (1940, 1806), (1941, 1088), (1942, 1704), (1942, 1904), (1943, 371), (1944, 2107), (1945, 559), (1945, 575), (1945, 592), (1945, 655), (1945, 1021), (1945, 1924), (1945, 1946), (1946, 370), (1946, 655), (1946, 980), (1946, 1945), (1947, 1073), (1947, 1714), (1948, 1363), (1949, 862), (1950, 493), (1950, 569), (1950, 1276), (1950, 1277), (1950, 1707), (1950, 1760), (1951, 1981), (1952, 502), (1952, 602), (1952, 1397), (1952, 1602), (1952, 1894), (1952, 2078), (1953, 85), (1953, 1954), (1954, 227), (1954, 563), (1954, 625), (1954, 641), (1954, 1155), (1954, 1953), (1955, 1977), (1956, 253), (1957, 1930), (1958, 509), (1958, 871), (1958, 1881), (1959, 1409), (1960, 6), (1960, 97), (1960, 679), (1961, 1912), (1962, 1694), (1963, 486), (1963, 552), (1963, 857), (1963, 1378), (1963, 1807), (1964, 1694), (1965, 236), (1966, 337), (1966, 1327), (1967, 431), (1967, 1936), (1968, 320), (1969, 486), (1969, 564), (1969, 2044), (1970, 1423), (1971, 55), (1971, 1309), (1972, 1038), (1972, 1381), (1972, 1437), (1972, 1476), (1972, 1648), (1972, 2055), (1972, 2062), (1972, 2080), (1973, 582), (1973, 1289), (1974, 860), (1974, 1573), (1974, 1975), (1975, 1830), (1975, 1974), (1976, 126), (1976, 201), (1977, 141), (1977, 516), (1977, 1829), (1977, 1955), (1978, 121), (1978, 202), (1978, 704), (1978, 1068), (1978, 1321), (1978, 1628), (1979, 236), (1979, 1374), (1980, 866), (1980, 1055), (1980, 1981), (1980, 1982), (1980, 1983), (1981, 189), (1981, 1055), (1981, 1951), (1981, 1980), (1981, 1982), (1982, 865), (1982, 866), (1982, 1980), (1982, 1981), (1983, 1980), (1984, 1516), (1985, 1843), (1985, 1986), (1986, 1841), (1986, 1843), (1986, 1985), (1986, 1988), (1987, 1988), (1988, 278), (1988, 567), (1988, 1784), (1988, 1801), (1988, 1843), (1988, 1905), (1988, 1986), (1988, 1987), (1989, 1990), (1989, 2062), (1990, 165), (1990, 591), (1990, 1989), (1991, 27), (1991, 494), (1992, 357), (1992, 1366), (1992, 1464), (1992, 1874), (1993, 66), (1993, 838), (1993, 2048), (1994, 1694), (1995, 463), (1995, 971), (1995, 1053), (1996, 76), (1997, 739), (1997, 740), (1997, 1390), (1998, 14), (1998, 175), (1998, 247), (1999, 211), (1999, 362), (1999, 1613), (1999, 1862), (2000, 1026), (2000, 1027), (2000, 1282), (2001, 621), (2001, 874), (2001, 1010), (2002, 730), (2002, 769), (2002, 964), (2003, 43), (2003, 492), (2003, 1781), (2004, 452), (2004, 2005), (2005, 2004), (2006, 2107), (2007, 66), (2007, 253), (2007, 415), (2007, 906), (2007, 1072), (2007, 1158), (2007, 1231), (2008, 1407), (2008, 1408), (2009, 604), (2010, 894), (2010, 1427), (2011, 304), (2011, 763), (2011, 935), (2012, 0), (2012, 847), (2012, 1529), (2013, 1027), (2013, 1283), (2013, 1284), (2014, 273), (2014, 485), (2014, 853), (2015, 151), (2015, 619), (2015, 1079), (2015, 1319), (2015, 1481), (2015, 1554), (2015, 1632), (2015, 2084), (2015, 2085), (2016, 1360), (2017, 52), (2017, 764), (2018, 2062), (2019, 426), (2019, 1475), (2020, 882), (2020, 1184), (2020, 1503), (2021, 844), (2021, 1323), (2022, 2023), (2022, 2024), (2023, 456), (2023, 2022), (2024, 2022), (2025, 368), (2026, 1172), (2027, 2028), (2027, 2029), (2027, 2030), (2028, 2027), (2028, 2030), (2029, 2027), (2030, 506), (2030, 2027), (2030, 2028), (2031, 1027), (2031, 1283), (2031, 1724), (2032, 1204), (2032, 1283), (2033, 457), (2033, 1750), (2034, 122), (2035, 122), (2036, 289), (2036, 733), (2036, 1563), (2036, 1565), (2036, 1566), (2036, 1708), (2037, 880), (2037, 913), (2038, 46), (2038, 279), (2038, 688), (2038, 1227), (2038, 2046), (2039, 675), (2039, 1370), (2040, 36), (2040, 147), (2040, 391), (2040, 842), (2040, 873), (2040, 1152), (2040, 1511), (2041, 953), (2042, 1509), (2042, 2043), (2043, 1280), (2043, 1427), (2043, 2042), (2044, 24), (2044, 401), (2044, 1710), (2044, 1969), (2045, 643), (2046, 2038), (2047, 475), (2047, 860), (2048, 257), (2048, 1993), (2049, 888), (2049, 1178), (2050, 1472), (2050, 1913), (2051, 55), (2051, 804), (2051, 1067), (2052, 804), (2052, 1067), (2053, 334), (2053, 455), (2053, 1032), (2053, 1091), (2053, 1365), (2054, 990), (2054, 1242), (2054, 1917), (2055, 548), (2055, 554), (2055, 1036), (2055, 1038), (2055, 1311), (2055, 1388), (2055, 1517), (2055, 1544), (2055, 1569), (2055, 1857), (2055, 1972), (2055, 2056), (2056, 404), (2056, 1311), (2056, 1388), (2056, 1750), (2056, 1751), (2056, 2055), (2056, 2062), (2056, 2071), (2057, 2058), (2058, 791), (2058, 1300), (2058, 2057), (2059, 1750), (2059, 1751), (2060, 1750), (2060, 1751), (2061, 797), (2061, 1066), (2061, 1307), (2061, 1751), (2061, 1917), (2062, 165), (2062, 216), (2062, 531), (2062, 1038), (2062, 1145), (2062, 1346), (2062, 1363), (2062, 1388), (2062, 1389), (2062, 1569), (2062, 1824), (2062, 1972), (2062, 1989), (2062, 2018), (2062, 2056), (2062, 2080), (2063, 155), (2063, 229), (2064, 295), (2064, 1694), (2064, 2066), (2065, 83), (2065, 645), (2065, 1355), (2065, 1635), (2065, 1699), (2065, 1800), (2065, 1813), (2066, 1355), (2066, 2064), (2067, 295), (2067, 743), (2067, 744), (2067, 1694), (2068, 80), (2068, 441), (2068, 448), (2068, 619), (2068, 904), (2068, 1079), (2068, 1454), (2068, 1481), (2068, 1554), (2068, 2084), (2069, 1311), (2070, 2071), (2071, 2056), (2071, 2070), (2071, 2079), (2072, 178), (2072, 1499), (2072, 1829), (2073, 343), (2073, 707), (2073, 1604), (2074, 871), (2075, 1694), (2075, 2107), (2076, 1263), (2076, 1318), (2076, 1684), (2077, 1786), (2077, 1795), (2078, 1159), (2078, 1699), (2078, 1894), (2078, 1952), (2079, 1348), (2079, 1571), (2079, 2071), (2079, 2081), (2080, 1311), (2080, 1972), (2080, 2062), (2081, 1570), (2081, 1571), (2081, 1750), (2081, 2079), (2082, 824), (2082, 1767), (2083, 151), (2083, 181), (2083, 266), (2083, 268), (2083, 441), (2083, 1289), (2083, 1554), (2083, 2084), (2083, 2085), (2084, 80), (2084, 151), (2084, 181), (2084, 266), (2084, 268), (2084, 452), (2084, 1079), (2084, 1289), (2084, 1454), (2084, 1481), (2084, 1554), (2084, 2015), (2084, 2068), (2084, 2083), (2084, 2085), (2085, 181), (2085, 452), (2085, 619), (2085, 862), (2085, 1079), (2085, 1160), (2085, 1289), (2085, 1454), (2085, 1481), (2085, 1554), (2085, 2015), (2085, 2083), (2085, 2084), (2086, 36), (2086, 1152), (2087, 17), (2087, 837), (2087, 1590), (2088, 355), (2088, 363), (2088, 898), (2088, 1690), (2089, 564), (2089, 896), (2089, 1037), (2089, 1311), (2089, 1388), (2090, 17), (2090, 222), (2090, 316), (2090, 576), (2090, 804), (2090, 818), (2090, 1018), (2090, 1048), (2090, 1049), (2090, 1067), (2090, 1086), (2090, 1295), (2090, 1668), (2090, 1885), (2090, 1928), (2091, 144), (2091, 284), (2091, 576), (2091, 1018), (2091, 1080), (2091, 1358), (2091, 1423), (2091, 1928), (2092, 666), (2093, 220), (2093, 987), (2093, 1634), (2093, 1635), (2094, 238), (2094, 952), (2094, 1575), (2094, 2097), (2094, 2099), (2095, 1582), (2096, 377), (2096, 516), (2096, 1508), (2096, 1829), (2097, 951), (2097, 952), (2097, 2094), (2098, 187), (2098, 941), (2098, 1150), (2098, 1468), (2098, 1547), (2099, 180), (2099, 238), (2099, 951), (2099, 2094), (2100, 122), (2101, 664), (2101, 831), (2101, 1048), (2101, 1049), (2101, 1379), (2102, 122), (2102, 2103), (2103, 2102), (2104, 245), (2104, 2105), (2105, 245), (2105, 663), (2105, 2104), (2106, 976), (2107, 1694), (2107, 1904), (2107, 1944), (2107, 2006), (2107, 2075), (2108, 560), (2108, 725), (2108, 1311), (2108, 1388), (2108, 1437), (2108, 1515), (2108, 1534), (2109, 113), (2109, 669), (2109, 1027), (2109, 1350), (2109, 1858), (2109, 1927)]\n"
          ]
        }
      ]
    },
    {
      "cell_type": "code",
      "source": [
        "\n",
        "eeeeeeeedges_list = [tuple(edge) for edge in data.edge_index.T.tolist()]\n",
        "\n",
        "# Print the list of edges\n",
        "print(eeeeeeeedges_list)"
      ],
      "metadata": {
        "colab": {
          "base_uri": "https://localhost:8080/"
        },
        "id": "H7y1m8nbQyyQ",
        "outputId": "4864beab-88d5-4a2c-cf9c-328081212d0b"
      },
      "execution_count": null,
      "outputs": [
        {
          "output_type": "stream",
          "name": "stdout",
          "text": [
            "[(0, 253), (0, 285), (0, 850), (0, 894), (0, 1063), (0, 1222), (0, 1436), (0, 1437), (0, 1638), (0, 1639), (0, 2012), (1, 393), (1, 1523), (1, 1733), (2, 3), (2, 1357), (2, 1366), (3, 2), (3, 1874), (4, 488), (4, 712), (4, 734), (4, 982), (4, 1785), (4, 1862), (5, 56), (5, 635), (5, 650), (5, 652), (5, 1227), (5, 1368), (6, 354), (6, 754), (6, 756), (6, 1960), (7, 986), (7, 1746), (7, 1821), (8, 1320), (9, 726), (10, 412), (10, 990), (10, 1242), (11, 942), (12, 1231), (13, 207), (13, 521), (13, 617), (13, 1273), (13, 1362), (13, 1734), (13, 1930), (14, 106), (14, 175), (14, 247), (14, 1259), (14, 1910), (14, 1998), (15, 246), (16, 60), (16, 176), (16, 1392), (16, 1425), (17, 862), (17, 1289), (17, 2087), (17, 2090), (18, 1769), (19, 1806), (19, 1809), (20, 1658), (21, 121), (21, 135), (21, 376), (22, 368), (22, 1739), (23, 843), (23, 844), (23, 1166), (23, 1596), (24, 401), (24, 486), (24, 593), (24, 1168), (24, 1701), (24, 2044), (25, 862), (25, 940), (26, 81), (26, 741), (27, 858), (27, 1991), (28, 35), (28, 517), (28, 1122), (28, 1226), (29, 826), (29, 1579), (30, 132), (30, 244), (30, 683), (30, 964), (30, 1154), (30, 1233), (30, 1404), (31, 305), (32, 87), (32, 88), (32, 517), (32, 1226), (33, 1880), (34, 85), (34, 519), (34, 1634), (34, 1716), (34, 1833), (35, 28), (35, 1122), (35, 1226), (36, 187), (36, 1511), (36, 1631), (36, 2040), (36, 2086), (37, 777), (37, 1276), (37, 1277), (37, 1747), (37, 1760), (37, 1761), (37, 1801), (37, 1838), (38, 459), (38, 497), (38, 935), (38, 959), (38, 1630), (38, 1653), (38, 1862), (39, 169), (39, 761), (39, 1118), (39, 1154), (39, 1226), (39, 1417), (40, 451), (40, 895), (40, 1332), (41, 236), (41, 390), (41, 1744), (42, 1057), (42, 1353), (42, 1627), (43, 389), (43, 2003), (44, 1445), (45, 149), (45, 1280), (45, 1684), (46, 2038), (47, 571), (48, 1140), (48, 1141), (48, 1806), (49, 862), (50, 390), (51, 367), (52, 95), (52, 1117), (52, 2017), (53, 1027), (53, 1256), (53, 1392), (53, 1722), (54, 354), (54, 1862), (55, 1309), (55, 1971), (55, 2051), (56, 5), (56, 635), (56, 650), (56, 652), (56, 1335), (56, 1368), (57, 158), (57, 1750), (58, 1628), (59, 1038), (60, 16), (60, 1392), (61, 163), (62, 1225), (62, 1423), (63, 301), (63, 685), (63, 753), (63, 862), (63, 976), (63, 999), (63, 1254), (63, 1400), (63, 1454), (63, 1873), (64, 676), (64, 967), (64, 1001), (64, 1738), (65, 699), (65, 1462), (66, 329), (66, 864), (66, 881), (66, 1428), (66, 1993), (66, 2007), (67, 645), (67, 786), (67, 1745), (68, 645), (69, 336), (69, 1280), (70, 1480), (71, 186), (71, 664), (71, 806), (71, 988), (71, 1379), (71, 1426), (71, 1860), (72, 220), (72, 598), (72, 1152), (73, 865), (74, 110), (74, 1872), (75, 354), (75, 386), (76, 299), (76, 546), (76, 921), (76, 1246), (76, 1315), (76, 1996), (77, 1016), (77, 1823), (78, 354), (78, 885), (79, 1333), (79, 1368), (79, 1808), (80, 139), (80, 151), (80, 266), (80, 268), (80, 393), (80, 619), (80, 862), (80, 904), (80, 1079), (80, 1319), (80, 1481), (80, 1554), (80, 2068), (80, 2084), (81, 26), (82, 1533), (82, 1655), (82, 1657), (82, 1692), (82, 1783), (83, 295), (83, 359), (83, 445), (83, 1001), (83, 1054), (83, 1182), (83, 1446), (83, 1817), (83, 1930), (83, 2065), (84, 86), (84, 667), (85, 34), (85, 445), (85, 626), (85, 668), (85, 845), (85, 967), (85, 1001), (85, 1202), (85, 1261), (85, 1352), (85, 1355), (85, 1523), (85, 1584), (85, 1634), (85, 1848), (85, 1953), (86, 84), (86, 237), (86, 318), (86, 447), (86, 1001), (87, 32), (87, 88), (87, 1088), (88, 32), (88, 87), (88, 275), (88, 643), (88, 1088), (88, 1089), (89, 1246), (89, 1397), (89, 1429), (89, 1430), (89, 1452), (89, 1746), (90, 328), (90, 371), (90, 1184), (90, 1361), (90, 1503), (90, 1725), (91, 274), (91, 280), (91, 688), (91, 1074), (91, 1191), (91, 1333), (92, 200), (92, 1756), (93, 967), (94, 593), (95, 52), (95, 1152), (96, 1313), (97, 282), (97, 644), (97, 670), (97, 754), (97, 756), (97, 1680), (97, 1736), (97, 1960), (98, 448), (98, 819), (98, 1081), (98, 1195), (98, 1452), (98, 1454), (98, 1716), (98, 1717), (99, 1328), (100, 840), (100, 841), (101, 1064), (102, 354), (102, 885), (103, 488), (103, 597), (103, 885), (104, 235), (104, 1045), (104, 1348), (104, 1687), (105, 132), (105, 244), (105, 672), (105, 683), (105, 1108), (106, 14), (106, 247), (106, 618), (106, 740), (106, 1390), (106, 1910), (107, 1795), (108, 1846), (109, 207), (109, 414), (109, 450), (109, 534), (109, 702), (109, 948), (109, 1322), (109, 1716), (110, 74), (110, 1871), (110, 1872), (111, 1348), (112, 1580), (113, 1027), (113, 2109), (114, 369), (114, 378), (114, 442), (114, 889), (114, 1017), (114, 1299), (114, 1303), (114, 1389), (114, 1750), (114, 1752), (115, 846), (115, 1605), (116, 1620), (117, 338), (117, 1201), (118, 898), (118, 1186), (119, 1026), (119, 1027), (119, 1350), (120, 1750), (121, 21), (121, 1068), (121, 1152), (121, 1262), (121, 1321), (121, 1978), (122, 152), (122, 758), (122, 1111), (122, 1532), (122, 1580), (122, 2034), (122, 2035), (122, 2100), (122, 2102), (123, 1218), (123, 1778), (124, 205), (124, 1402), (125, 1316), (125, 1419), (125, 1806), (126, 1976), (127, 1524), (127, 1570), (128, 1099), (129, 1152), (129, 1575), (129, 1920), (130, 179), (130, 585), (131, 205), (131, 440), (131, 480), (131, 803), (131, 1126), (132, 30), (132, 105), (132, 292), (132, 683), (132, 729), (132, 1404), (132, 1417), (133, 1750), (134, 721), (134, 1771), (135, 21), (135, 681), (136, 1164), (136, 1403), (137, 1697), (138, 507), (138, 1629), (139, 80), (139, 268), (139, 904), (139, 1554), (140, 1759), (141, 269), (141, 1918), (141, 1919), (141, 1977), (142, 1750), (143, 1591), (144, 718), (144, 804), (144, 805), (144, 817), (144, 862), (144, 937), (144, 938), (144, 1000), (144, 1018), (144, 1019), (144, 1021), (144, 1067), (144, 1252), (144, 1289), (144, 1553), (144, 2091), (145, 1283), (146, 660), (147, 1631), (147, 2040), (148, 405), (148, 699), (149, 45), (149, 1280), (149, 1684), (150, 219), (151, 80), (151, 181), (151, 452), (151, 619), (151, 862), (151, 904), (151, 1079), (151, 1454), (151, 1481), (151, 1554), (151, 2015), (151, 2083), (151, 2084), (152, 122), (153, 1880), (154, 300), (154, 392), (154, 1098), (154, 1099), (154, 1493), (155, 430), (155, 848), (155, 1054), (155, 1505), (155, 2063), (156, 169), (156, 389), (156, 400), (156, 964), (156, 1108), (156, 1154), (156, 1233), (156, 1404), (156, 1802), (157, 448), (157, 684), (157, 862), (157, 893), (157, 938), (157, 1160), (157, 1452), (158, 57), (158, 1260), (158, 1750), (159, 1304), (159, 1305), (160, 946), (160, 1223), (161, 1120), (161, 1250), (162, 286), (162, 815), (162, 1429), (162, 1607), (162, 1894), (163, 61), (163, 1580), (164, 786), (165, 1990), (165, 2062), (166, 826), (166, 1668), (167, 385), (167, 459), (167, 497), (167, 1630), (168, 1564), (169, 39), (169, 156), (170, 1082), (170, 1083), (170, 1084), (171, 1149), (171, 1733), (171, 1788), (171, 1790), (172, 1502), (173, 1171), (173, 1619), (174, 926), (174, 930), (174, 1770), (175, 14), (175, 247), (175, 618), (175, 740), (175, 1390), (175, 1910), (175, 1998), (176, 16), (176, 233), (176, 503), (176, 551), (176, 1187), (176, 1348), (177, 1811), (178, 388), (178, 516), (178, 602), (178, 1829), (178, 2072), (179, 130), (179, 1572), (180, 1901), (180, 2099), (181, 151), (181, 266), (181, 441), (181, 655), (181, 1289), (181, 1481), (181, 1554), (181, 2083), (181, 2084), (181, 2085), (182, 723), (183, 219), (183, 1370), (184, 853), (185, 1781), (186, 71), (186, 601), (186, 620), (186, 664), (186, 759), (186, 804), (186, 805), (186, 831), (186, 988), (186, 1054), (186, 1067), (187, 36), (187, 1152), (187, 1468), (187, 2098), (188, 1311), (188, 1388), (188, 1569), (189, 467), (189, 1981), (190, 1413), (191, 1239), (192, 203), (192, 1313), (192, 1536), (193, 1640), (194, 1038), (195, 786), (196, 623), (196, 1498), (197, 1413), (198, 1526), (198, 1686), (198, 1910), (199, 979), (199, 1202), (200, 92), (200, 376), (200, 1582), (201, 1801), (201, 1976), (202, 707), (202, 842), (202, 1978), (203, 192), (203, 1313), (204, 1054), (204, 1110), (204, 1523), (205, 124), (205, 131), (206, 1600), (206, 1759), (207, 13), (207, 109), (207, 261), (207, 519), (207, 622), (207, 986), (207, 987), (207, 1322), (207, 1716), (207, 1833), (208, 610), (208, 982), (209, 670), (209, 682), (209, 995), (209, 1243), (209, 1469), (210, 1083), (211, 354), (211, 410), (211, 478), (211, 902), (211, 903), (211, 905), (211, 907), (211, 1198), (211, 1680), (211, 1999), (212, 1750), (213, 495), (213, 1780), (213, 1904), (214, 862), (214, 1386), (215, 618), (215, 1348), (216, 1544), (216, 2062), (217, 644), (217, 1479), (218, 819), (218, 862), (218, 1295), (218, 1452), (218, 1453), (218, 1454), (219, 150), (219, 183), (220, 72), (220, 595), (220, 614), (220, 987), (220, 988), (220, 1132), (220, 1222), (220, 1304), (220, 1604), (220, 1663), (220, 2093), (221, 848), (222, 395), (222, 2090), (223, 307), (223, 787), (223, 1046), (224, 1252), (225, 388), (225, 394), (225, 444), (225, 602), (225, 1634), (225, 1635), (225, 1831), (225, 1832), (225, 1894), (225, 1939), (226, 402), (226, 460), (227, 641), (227, 1954), (228, 1143), (228, 1145), (228, 1648), (229, 2063), (230, 383), (230, 920), (231, 1007), (231, 1149), (231, 1790), (232, 885), (233, 176), (233, 1425), (233, 1661), (234, 1446), (234, 1932), (235, 104), (236, 41), (236, 430), (236, 913), (236, 942), (236, 981), (236, 1815), (236, 1965), (236, 1979), (237, 86), (237, 318), (237, 667), (237, 1001), (238, 2094), (238, 2099), (239, 1210), (239, 1818), (240, 953), (240, 1591), (240, 1666), (241, 640), (241, 832), (241, 833), (241, 862), (241, 938), (241, 948), (241, 950), (242, 1193), (242, 1196), (242, 1443), (242, 1453), (243, 915), (243, 1288), (244, 30), (244, 105), (244, 292), (244, 683), (244, 729), (244, 1404), (244, 1417), (245, 622), (245, 629), (245, 663), (245, 2104), (245, 2105), (246, 15), (246, 1644), (246, 1645), (247, 14), (247, 106), (247, 175), (247, 740), (247, 1390), (247, 1998), (248, 645), (248, 796), (249, 1594), (249, 1595), (249, 1747), (250, 862), (250, 1454), (251, 689), (251, 1826), (251, 1827), (252, 282), (253, 0), (253, 1494), (253, 1956), (253, 2007), (254, 1423), (255, 1104), (255, 1771), (256, 1155), (256, 1156), (257, 828), (257, 838), (257, 2048), (258, 795), (259, 1139), (260, 606), (261, 207), (261, 614), (261, 817), (261, 862), (262, 379), (262, 1499), (262, 1844), (263, 331), (263, 333), (263, 340), (263, 353), (264, 955), (264, 1748), (265, 1177), (265, 1473), (266, 80), (266, 181), (266, 441), (266, 448), (266, 619), (266, 904), (266, 1079), (266, 1454), (266, 1481), (266, 1554), (266, 2083), (266, 2084), (267, 703), (267, 746), (268, 80), (268, 139), (268, 452), (268, 619), (268, 655), (268, 862), (268, 904), (268, 945), (268, 1079), (268, 1160), (268, 1454), (268, 1481), (268, 1554), (268, 2083), (268, 2084), (269, 141), (270, 509), (270, 871), (271, 1125), (271, 1694), (272, 601), (272, 620), (272, 759), (272, 831), (272, 1049), (273, 433), (273, 853), (273, 854), (273, 1731), (273, 2014), (274, 91), (274, 1074), (274, 1191), (275, 88), (275, 1118), (276, 1358), (277, 337), (277, 1327), (278, 984), (278, 1564), (278, 1988), (279, 1227), (279, 1333), (279, 2038), (280, 91), (281, 732), (281, 1751), (282, 97), (282, 252), (283, 1221), (284, 1081), (284, 2091), (285, 0), (286, 162), (286, 630), (286, 1225), (287, 1917), (288, 852), (289, 1563), (289, 2036), (290, 318), (290, 1001), (291, 740), (292, 132), (292, 244), (293, 1187), (293, 1405), (294, 888), (295, 83), (295, 743), (295, 1635), (295, 1781), (295, 2064), (295, 2067), (296, 1541), (297, 300), (297, 392), (297, 1098), (297, 1099), (297, 1493), (298, 611), (298, 969), (299, 76), (299, 1371), (300, 154), (300, 297), (300, 1493), (301, 63), (302, 850), (302, 1678), (303, 1296), (304, 332), (304, 763), (304, 987), (304, 2011), (305, 31), (305, 1543), (305, 1733), (305, 1790), (306, 1447), (306, 1448), (307, 223), (307, 1286), (307, 1822), (307, 1840), (307, 1843), (308, 1320), (309, 977), (310, 432), (311, 700), (311, 722), (311, 927), (311, 1220), (311, 1541), (311, 1793), (312, 1409), (313, 786), (314, 1348), (314, 1687), (314, 1689), (314, 1803), (315, 354), (316, 598), (316, 668), (316, 1001), (316, 1128), (316, 2090), (317, 702), (317, 1144), (317, 1400), (317, 1401), (318, 86), (318, 237), (318, 290), (318, 667), (319, 1649), (320, 1290), (320, 1291), (320, 1292), (320, 1781), (320, 1968), (321, 438), (321, 837), (321, 1794), (322, 436), (323, 1706), (324, 1131), (324, 1279), (324, 1846), (325, 697), (326, 557), (326, 1293), (327, 546), (327, 549), (327, 1040), (327, 1246), (327, 1501), (328, 90), (328, 1237), (329, 66), (329, 668), (329, 1001), (330, 782), (331, 263), (331, 1236), (332, 304), (332, 450), (332, 873), (333, 263), (333, 1236), (334, 2053), (335, 1178), (336, 69), (336, 1280), (337, 277), (337, 919), (337, 1480), (337, 1966), (338, 117), (338, 732), (339, 1484), (339, 1888), (340, 263), (340, 1236), (340, 1437), (341, 719), (341, 827), (341, 1278), (341, 1483), (341, 1484), (342, 993), (342, 1661), (343, 707), (343, 1604), (343, 1894), (343, 2073), (344, 668), (344, 782), (344, 783), (344, 1001), (345, 707), (345, 1604), (345, 1894), (346, 1348), (346, 1675), (346, 1687), (347, 742), (347, 896), (348, 1003), (349, 1025), (349, 1750), (350, 782), (350, 992), (350, 1082), (350, 1373), (350, 1868), (351, 1138), (352, 1038), (352, 1517), (353, 263), (353, 1236), (354, 6), (354, 54), (354, 75), (354, 78), (354, 102), (354, 211), (354, 315), (354, 362), (354, 678), (354, 885), (354, 941), (354, 1243), (354, 1572), (354, 1613), (354, 1630), (354, 1862), (355, 363), (355, 898), (355, 2088), (356, 896), (356, 1002), (356, 1041), (357, 1874), (357, 1992), (358, 1462), (359, 83), (359, 1446), (359, 1635), (360, 700), (360, 1220), (360, 1793), (361, 919), (361, 1240), (361, 1813), (362, 354), (362, 1572), (362, 1999), (363, 355), (363, 369), (363, 631), (363, 896), (363, 970), (363, 1706), (363, 2088), (364, 787), (364, 901), (364, 1177), (364, 1279), (364, 1306), (365, 1922), (366, 373), (366, 1362), (367, 51), (367, 1002), (367, 1042), (367, 1139), (367, 1706), (368, 22), (368, 1739), (368, 2025), (369, 114), (369, 363), (369, 537), (369, 896), (369, 898), (369, 1706), (369, 1896), (370, 862), (370, 980), (370, 1946), (371, 90), (371, 1943), (372, 993), (373, 366), (374, 1582), (375, 516), (375, 565), (375, 1829), (376, 21), (376, 200), (376, 968), (376, 1677), (377, 1508), (377, 2096), (378, 114), (378, 537), (379, 262), (379, 1499), (379, 1829), (380, 382), (380, 736), (380, 737), (380, 908), (380, 1272), (380, 1341), (380, 1917), (381, 452), (381, 619), (381, 707), (381, 1079), (382, 380), (382, 737), (382, 908), (382, 1272), (382, 1341), (382, 1917), (383, 230), (383, 516), (383, 1829), (384, 862), (384, 1253), (385, 167), (386, 75), (387, 1767), (387, 1904), (388, 178), (388, 225), (388, 602), (388, 655), (388, 1180), (388, 1195), (389, 43), (389, 156), (389, 1154), (389, 1625), (390, 41), (390, 50), (390, 942), (390, 1318), (390, 1445), (390, 1576), (390, 1891), (391, 949), (391, 2040), (392, 154), (392, 297), (392, 1493), (393, 1), (393, 80), (393, 619), (393, 655), (393, 862), (393, 904), (393, 1079), (393, 1454), (393, 1481), (393, 1554), (394, 225), (394, 655), (394, 862), (394, 987), (394, 1021), (395, 222), (396, 792), (396, 803), (397, 1113), (398, 862), (398, 1454), (399, 862), (399, 1454), (400, 156), (400, 654), (400, 1345), (401, 24), (401, 1185), (401, 1216), (401, 2044), (402, 226), (402, 1549), (402, 1615), (403, 640), (403, 655), (403, 1052), (403, 1144), (404, 1251), (404, 1574), (404, 1768), (404, 2056), (405, 148), (405, 699), (406, 1637), (407, 1279), (407, 1843), (408, 1497), (409, 654), (410, 211), (410, 902), (410, 908), (410, 1171), (411, 1114), (412, 10), (412, 454), (413, 1605), (414, 109), (414, 622), (414, 1322), (415, 802), (415, 2007), (416, 1791), (417, 1380), (417, 1517), (418, 1369), (419, 1497), (420, 655), (420, 817), (420, 862), (420, 938), (420, 989), (420, 1271), (420, 1342), (420, 1665), (421, 1271), (422, 658), (423, 649), (423, 694), (423, 791), (423, 1037), (423, 1077), (423, 1749), (424, 660), (424, 1181), (425, 585), (425, 778), (425, 1213), (425, 1310), (425, 1604), (425, 1911), (426, 1608), (426, 2019), (427, 882), (428, 1129), (428, 1703), (429, 1055), (429, 1690), (430, 155), (430, 236), (430, 1054), (430, 1727), (431, 1694), (431, 1967), (432, 310), (432, 1138), (432, 1562), (433, 273), (433, 855), (433, 1063), (433, 1731), (434, 888), (434, 1058), (435, 1457), (435, 1626), (436, 322), (436, 455), (436, 1406), (436, 1725), (437, 1891), (438, 321), (439, 1634), (439, 1797), (440, 131), (441, 181), (441, 266), (441, 862), (441, 1720), (441, 2068), (441, 2083), (442, 114), (442, 537), (443, 535), (443, 542), (443, 547), (444, 225), (444, 1225), (444, 1543), (444, 1831), (444, 1832), (444, 1859), (445, 83), (445, 85), (445, 447), (445, 1352), (445, 1355), (445, 1396), (445, 1635), (446, 1819), (446, 1820), (447, 86), (447, 445), (447, 606), (447, 668), (447, 937), (447, 1001), (447, 1182), (447, 1195), (447, 1355), (447, 1634), (447, 1699), (447, 1817), (448, 98), (448, 157), (448, 266), (448, 685), (448, 862), (448, 1194), (448, 1433), (448, 1453), (448, 1485), (448, 1741), (448, 2068), (449, 1750), (450, 109), (450, 332), (450, 622), (450, 862), (450, 1092), (451, 40), (451, 456), (451, 966), (451, 1263), (451, 1742), (452, 151), (452, 268), (452, 381), (452, 904), (452, 1132), (452, 1223), (452, 1385), (452, 1440), (452, 1452), (452, 1481), (452, 2004), (452, 2084), (452, 2085), (453, 1172), (454, 412), (454, 707), (454, 1161), (455, 436), (455, 1406), (455, 1847), (455, 2053), (456, 451), (456, 925), (456, 1263), (456, 1332), (456, 1626), (456, 2023), (457, 1750), (457, 2033), (458, 724), (458, 891), (458, 1276), (458, 1801), (458, 1905), (459, 38), (459, 167), (459, 956), (459, 959), (459, 1653), (460, 226), (460, 770), (460, 1050), (461, 1750), (462, 1431), (462, 1445), (463, 539), (463, 1053), (463, 1265), (463, 1995), (464, 1105), (464, 1654), (464, 1687), (465, 863), (465, 1021), (466, 1154), (466, 1877), (467, 189), (468, 887), (468, 1390), (468, 1750), (469, 1269), (470, 604), (471, 1586), (471, 1587), (471, 1588), (472, 601), (472, 831), (472, 904), (472, 950), (472, 1765), (473, 590), (474, 1574), (475, 860), (475, 2047), (476, 1023), (476, 1711), (476, 1770), (477, 1718), (478, 211), (478, 903), (479, 1549), (479, 1856), (480, 131), (481, 1356), (481, 1870), (482, 896), (483, 1264), (483, 1332), (484, 862), (484, 1215), (485, 853), (485, 854), (485, 1731), (485, 2014), (486, 24), (486, 579), (486, 856), (486, 857), (486, 858), (486, 1221), (486, 1378), (486, 1750), (486, 1963), (486, 1969), (487, 551), (487, 618), (487, 1390), (488, 4), (488, 103), (488, 1324), (489, 798), (489, 1407), (489, 1694), (490, 701), (490, 818), (491, 941), (491, 956), (491, 957), (492, 2003), (493, 1652), (493, 1950), (494, 1360), (494, 1991), (495, 213), (495, 1442), (496, 1056), (496, 1137), (497, 38), (497, 167), (497, 956), (497, 959), (497, 1653), (498, 1044), (499, 927), (500, 1038), (500, 1388), (501, 790), (501, 1345), (502, 1952), (503, 176), (503, 623), (503, 1425), (504, 1388), (505, 1519), (505, 1520), (505, 1521), (506, 862), (506, 938), (506, 2030), (507, 138), (507, 658), (507, 869), (507, 870), (507, 953), (507, 1814), (508, 1330), (508, 1331), (508, 1789), (509, 270), (509, 751), (509, 871), (509, 1958), (510, 1378), (510, 1787), (511, 1880), (511, 1881), (512, 1406), (513, 655), (513, 1427), (514, 1242), (514, 1285), (514, 1495), (515, 1694), (515, 1904), (516, 178), (516, 375), (516, 383), (516, 845), (516, 920), (516, 1322), (516, 1499), (516, 1523), (516, 1977), (516, 2096), (517, 28), (517, 32), (518, 862), (518, 1424), (519, 34), (519, 207), (519, 979), (519, 1210), (519, 1584), (519, 1716), (519, 1818), (519, 1833), (520, 1816), (521, 13), (521, 826), (521, 851), (522, 1295), (523, 862), (524, 688), (524, 1074), (524, 1075), (524, 1191), (524, 1333), (524, 1337), (524, 1338), (524, 1339), (525, 688), (526, 1937), (527, 1466), (528, 1452), (529, 1229), (529, 1424), (530, 1155), (531, 1311), (531, 2062), (532, 1574), (533, 832), (533, 974), (534, 109), (534, 622), (534, 1354), (535, 443), (535, 662), (535, 691), (536, 1303), (537, 369), (537, 378), (537, 442), (537, 889), (537, 1017), (537, 1299), (537, 1303), (538, 862), (538, 1424), (539, 463), (539, 1053), (539, 1265), (540, 1171), (541, 892), (541, 1372), (542, 443), (542, 662), (542, 691), (543, 656), (543, 862), (543, 900), (544, 1020), (544, 1171), (545, 817), (545, 862), (545, 1193), (546, 76), (546, 327), (546, 1040), (546, 1246), (546, 1531), (547, 443), (547, 662), (547, 691), (548, 2055), (549, 327), (550, 1271), (551, 176), (551, 487), (551, 1043), (551, 1348), (551, 1425), (551, 1462), (552, 857), (552, 1221), (552, 1294), (552, 1378), (552, 1660), (552, 1963), (553, 888), (553, 1311), (553, 1388), (554, 1706), (554, 1750), (554, 2055), (555, 1234), (556, 1234), (556, 1527), (557, 326), (557, 1293), (558, 979), (558, 1203), (558, 1210), (558, 1458), (558, 1716), (559, 817), (559, 862), (559, 938), (559, 1021), (559, 1144), (559, 1945), (560, 1492), (560, 2108), (561, 1798), (562, 767), (562, 1678), (563, 1954), (564, 1672), (564, 1969), (564, 2089), (565, 375), (566, 1457), (567, 583), (567, 1841), (567, 1905), (567, 1988), (568, 862), (568, 1424), (569, 1950), (570, 859), (571, 47), (571, 1437), (572, 684), (572, 817), (572, 832), (572, 937), (572, 1069), (572, 1400), (572, 1401), (572, 1454), (572, 1551), (572, 1763), (573, 1270), (573, 1471), (574, 654), (575, 817), (575, 862), (575, 938), (575, 1021), (575, 1144), (575, 1945), (576, 1080), (576, 1512), (576, 1577), (576, 2090), (576, 2091), (577, 827), (577, 1594), (578, 862), (579, 486), (579, 1378), (580, 751), (581, 953), (582, 1973), (583, 567), (584, 640), (584, 1474), (585, 130), (585, 425), (585, 1013), (586, 1549), (587, 1845), (587, 1915), (588, 1164), (588, 1195), (589, 698), (589, 879), (589, 1616), (590, 473), (590, 657), (590, 1624), (590, 1707), (591, 1990), (592, 817), (592, 862), (592, 938), (592, 1021), (592, 1144), (592, 1945), (593, 24), (593, 94), (593, 654), (594, 1092), (595, 220), (595, 614), (595, 832), (595, 1001), (595, 1136), (595, 1410), (595, 1635), (595, 1663), (595, 1859), (596, 801), (597, 103), (597, 885), (598, 72), (598, 316), (598, 637), (598, 704), (598, 776), (598, 909), (598, 910), (598, 911), (598, 987), (598, 1180), (598, 1428), (598, 1603), (598, 1604), (598, 1662), (598, 1735), (599, 1494), (599, 1688), (600, 1884), (601, 186), (601, 272), (601, 472), (601, 1048), (601, 1049), (601, 1183), (601, 1379), (601, 1860), (602, 178), (602, 225), (602, 388), (602, 668), (602, 1428), (602, 1523), (602, 1893), (602, 1894), (602, 1952), (603, 615), (603, 1782), (604, 470), (604, 1874), (604, 2009), (605, 1808), (606, 260), (606, 447), (606, 1635), (607, 1631), (608, 788), (609, 1173), (609, 1400), (610, 208), (610, 1834), (611, 298), (611, 768), (611, 969), (612, 1806), (613, 1026), (613, 1027), (613, 1283), (613, 1348), (613, 1350), (613, 1436), (614, 220), (614, 261), (614, 595), (614, 640), (614, 702), (614, 1001), (614, 1067), (614, 1635), (614, 1715), (614, 1859), (615, 603), (615, 1782), (616, 928), (616, 929), (617, 13), (617, 1340), (618, 106), (618, 175), (618, 215), (618, 487), (618, 1526), (618, 1910), (619, 80), (619, 151), (619, 266), (619, 268), (619, 381), (619, 393), (619, 999), (619, 1295), (619, 1452), (619, 2015), (619, 2068), (619, 2085), (620, 186), (620, 272), (620, 991), (620, 1001), (620, 1163), (620, 1211), (620, 1212), (620, 1379), (620, 1715), (620, 1860), (620, 1885), (620, 1886), (621, 2001), (622, 207), (622, 245), (622, 414), (622, 450), (622, 534), (622, 702), (622, 948), (622, 1322), (622, 1716), (623, 196), (623, 503), (623, 810), (623, 1498), (623, 1557), (623, 1558), (624, 735), (624, 797), (624, 1917), (625, 1156), (625, 1926), (625, 1954), (626, 85), (626, 1001), (626, 1202), (626, 1797), (627, 665), (628, 688), (628, 1074), (628, 1191), (628, 1333), (628, 1337), (628, 1338), (628, 1339), (629, 245), (629, 1658), (630, 286), (630, 815), (630, 1429), (630, 1607), (631, 363), (631, 898), (631, 899), (631, 1221), (631, 1706), (631, 1789), (632, 1311), (633, 1201), (634, 688), (634, 1333), (635, 5), (635, 56), (636, 1327), (636, 1891), (637, 598), (637, 704), (638, 915), (638, 918), (638, 1523), (639, 688), (640, 241), (640, 403), (640, 584), (640, 614), (640, 805), (640, 950), (640, 1001), (640, 1452), (640, 1867), (641, 227), (641, 1954), (642, 688), (643, 88), (643, 2045), (644, 97), (644, 217), (645, 67), (645, 68), (645, 248), (645, 693), (645, 786), (645, 1079), (645, 1325), (645, 1800), (645, 1879), (645, 2065), (646, 1155), (646, 1156), (647, 1141), (647, 1142), (648, 1470), (648, 1590), (649, 423), (649, 757), (649, 1414), (649, 1438), (649, 1749), (650, 5), (650, 56), (650, 652), (650, 1227), (650, 1368), (651, 1285), (651, 1917), (652, 5), (652, 56), (652, 650), (652, 688), (652, 1085), (653, 1523), (654, 400), (654, 409), (654, 574), (654, 593), (654, 1638), (654, 1639), (655, 181), (655, 268), (655, 388), (655, 393), (655, 394), (655, 403), (655, 420), (655, 513), (655, 717), (655, 755), (655, 805), (655, 950), (655, 989), (655, 1000), (655, 1019), (655, 1048), (655, 1067), (655, 1238), (655, 1310), (655, 1343), (655, 1410), (655, 1426), (655, 1440), (655, 1466), (655, 1552), (655, 1776), (655, 1945), (655, 1946), (656, 543), (657, 590), (657, 1624), (658, 422), (658, 507), (658, 869), (658, 870), (658, 1363), (658, 1629), (659, 1231), (660, 146), (660, 424), (660, 1001), (660, 1181), (660, 1182), (660, 1763), (661, 665), (662, 535), (662, 542), (662, 547), (662, 1008), (662, 1112), (662, 1257), (662, 1320), (662, 1523), (662, 1610), (662, 1848), (663, 245), (663, 2105), (664, 71), (664, 186), (664, 953), (664, 1379), (664, 2101), (665, 627), (665, 661), (665, 764), (665, 1031), (665, 1382), (665, 1383), (666, 920), (666, 939), (666, 2092), (667, 84), (667, 237), (667, 318), (668, 85), (668, 316), (668, 329), (668, 344), (668, 447), (668, 602), (668, 1052), (668, 1136), (668, 1568), (668, 1663), (668, 1668), (669, 1592), (669, 2109), (670, 97), (670, 209), (670, 1217), (670, 1244), (671, 1073), (672, 105), (672, 1108), (673, 1644), (674, 997), (674, 1357), (675, 965), (675, 1418), (675, 2039), (676, 64), (677, 835), (678, 354), (679, 1559), (679, 1960), (680, 898), (681, 135), (682, 209), (683, 30), (683, 105), (683, 132), (683, 244), (683, 1417), (683, 1703), (684, 157), (684, 572), (684, 817), (684, 937), (684, 938), (684, 1552), (684, 1670), (684, 1899), (685, 63), (685, 448), (685, 862), (685, 1453), (685, 1740), (686, 1320), (687, 766), (688, 91), (688, 524), (688, 525), (688, 628), (688, 634), (688, 639), (688, 642), (688, 652), (688, 1075), (688, 1192), (688, 1312), (688, 1333), (688, 1334), (688, 1335), (688, 1338), (688, 1339), (688, 1502), (688, 1702), (688, 1739), (688, 1935), (688, 2038), (689, 251), (689, 1232), (690, 915), (690, 1312), (691, 535), (691, 542), (691, 547), (691, 915), (691, 916), (691, 1288), (692, 915), (692, 916), (692, 1232), (692, 1288), (692, 1369), (692, 1769), (693, 645), (694, 423), (694, 1285), (695, 1750), (696, 1806), (696, 1809), (697, 325), (697, 1122), (697, 1226), (698, 589), (699, 65), (699, 148), (699, 405), (700, 311), (700, 360), (701, 490), (701, 1258), (702, 109), (702, 317), (702, 614), (702, 622), (702, 1069), (702, 1196), (702, 1454), (703, 267), (704, 598), (704, 637), (704, 705), (704, 706), (704, 1978), (705, 704), (705, 706), (706, 704), (706, 705), (707, 202), (707, 343), (707, 345), (707, 381), (707, 454), (707, 741), (707, 2073), (708, 711), (709, 711), (709, 1348), (709, 1390), (709, 1753), (710, 711), (710, 1348), (710, 1390), (711, 708), (711, 709), (711, 710), (712, 4), (712, 885), (712, 1324), (713, 715), (713, 1053), (713, 1573), (714, 1053), (714, 1573), (715, 713), (715, 1573), (716, 888), (716, 1300), (717, 655), (717, 862), (718, 144), (718, 862), (718, 1018), (718, 1252), (719, 341), (719, 1648), (720, 1699), (721, 134), (721, 928), (721, 1023), (721, 1407), (721, 1463), (721, 1711), (722, 311), (722, 1395), (722, 1726), (723, 182), (723, 977), (723, 1189), (723, 1691), (723, 1843), (724, 458), (724, 977), (724, 1539), (724, 1801), (724, 1905), (725, 1516), (725, 1528), (725, 1529), (725, 2108), (726, 9), (726, 1261), (726, 1623), (727, 1712), (728, 1137), (729, 132), (729, 244), (730, 2002), (731, 1428), (732, 281), (732, 338), (732, 1061), (732, 1062), (732, 1063), (733, 2036), (734, 4), (734, 982), (734, 1324), (735, 624), (735, 737), (735, 908), (735, 1272), (735, 1341), (736, 380), (736, 737), (736, 908), (736, 1272), (736, 1341), (736, 1917), (737, 380), (737, 382), (737, 735), (737, 736), (737, 797), (737, 908), (737, 1242), (737, 1272), (737, 1341), (737, 1917), (738, 908), (738, 1272), (738, 1341), (738, 1917), (739, 1293), (739, 1390), (739, 1997), (740, 106), (740, 175), (740, 247), (740, 291), (740, 1390), (740, 1705), (740, 1910), (740, 1997), (741, 26), (741, 707), (742, 347), (742, 1388), (743, 295), (743, 2067), (744, 2067), (745, 1556), (745, 1557), (746, 267), (746, 938), (746, 1252), (746, 1665), (747, 750), (748, 1492), (749, 750), (749, 1845), (750, 747), (750, 749), (751, 509), (751, 580), (752, 860), (752, 1581), (753, 63), (754, 6), (754, 97), (754, 756), (754, 765), (754, 839), (754, 1630), (755, 655), (755, 862), (755, 1253), (756, 6), (756, 97), (756, 754), (756, 765), (756, 839), (757, 649), (757, 1414), (758, 122), (759, 186), (759, 272), (759, 991), (759, 1001), (759, 1163), (759, 1211), (759, 1212), (759, 1379), (759, 1715), (759, 1860), (759, 1885), (759, 1886), (760, 1245), (760, 1565), (760, 1686), (760, 1823), (761, 39), (762, 1058), (763, 304), (763, 2011), (764, 665), (764, 1013), (764, 1806), (764, 2017), (765, 754), (765, 756), (766, 687), (766, 1862), (767, 562), (767, 1758), (768, 611), (768, 1799), (769, 2002), (770, 460), (771, 1610), (772, 1471), (772, 1807), (773, 775), (773, 776), (774, 1124), (774, 1838), (775, 773), (776, 598), (776, 773), (777, 37), (777, 823), (778, 425), (779, 1774), (780, 1938), (781, 947), (781, 1925), (782, 330), (782, 344), (782, 350), (782, 1082), (783, 344), (783, 992), (784, 1543), (785, 1432), (786, 67), (786, 164), (786, 195), (786, 313), (786, 645), (786, 795), (786, 1079), (786, 1385), (786, 1435), (786, 1800), (787, 223), (787, 364), (787, 1177), (787, 1306), (787, 1840), (787, 1841), (788, 608), (788, 1014), (789, 1010), (790, 501), (790, 1488), (791, 423), (791, 1308), (791, 1348), (791, 1751), (791, 2058), (792, 396), (792, 793), (792, 799), (792, 803), (793, 792), (793, 803), (793, 1176), (794, 1084), (794, 1908), (795, 258), (795, 786), (795, 1079), (795, 1385), (796, 248), (796, 1196), (796, 1197), (796, 1295), (797, 624), (797, 737), (797, 1066), (797, 1285), (797, 1307), (797, 2061), (798, 489), (798, 1605), (799, 792), (799, 803), (799, 896), (800, 801), (800, 802), (800, 803), (801, 596), (801, 800), (802, 415), (802, 800), (802, 803), (802, 902), (803, 131), (803, 396), (803, 792), (803, 793), (803, 799), (803, 800), (803, 802), (803, 808), (803, 809), (803, 1176), (803, 1778), (804, 144), (804, 186), (804, 805), (804, 817), (804, 862), (804, 938), (804, 1021), (804, 1553), (804, 1611), (804, 2051), (804, 2052), (804, 2090), (805, 144), (805, 186), (805, 640), (805, 655), (805, 804), (805, 862), (805, 1551), (805, 1553), (805, 1612), (806, 71), (806, 1860), (807, 808), (807, 809), (807, 978), (808, 803), (808, 807), (808, 809), (808, 1636), (809, 803), (809, 807), (809, 808), (810, 623), (810, 811), (811, 810), (812, 1128), (813, 814), (813, 899), (813, 1706), (814, 813), (815, 162), (815, 630), (815, 1225), (815, 1429), (816, 862), (816, 1598), (817, 144), (817, 261), (817, 420), (817, 545), (817, 559), (817, 572), (817, 575), (817, 592), (817, 684), (817, 804), (817, 818), (817, 852), (817, 938), (817, 989), (817, 1000), (817, 1018), (817, 1019), (817, 1021), (817, 1067), (817, 1069), (817, 1092), (817, 1095), (817, 1147), (817, 1410), (817, 1452), (817, 1456), (817, 1464), (817, 1551), (817, 1552), (817, 1627), (817, 1670), (817, 1898), (817, 1899), (817, 1924), (818, 490), (818, 817), (818, 938), (818, 1665), (818, 2090), (819, 98), (819, 218), (819, 1454), (819, 1455), (820, 1027), (821, 1027), (822, 1015), (822, 1016), (822, 1705), (823, 777), (823, 1276), (823, 1277), (823, 1747), (823, 1760), (823, 1761), (823, 1801), (823, 1838), (824, 2082), (825, 1010), (825, 1363), (826, 29), (826, 166), (826, 521), (826, 1854), (826, 1890), (827, 341), (827, 577), (828, 257), (828, 838), (829, 1699), (829, 1931), (830, 1226), (830, 1880), (831, 186), (831, 272), (831, 472), (831, 1048), (831, 1049), (831, 1379), (831, 1860), (831, 2101), (832, 241), (832, 533), (832, 572), (832, 595), (832, 833), (832, 948), (832, 950), (832, 1567), (832, 1568), (833, 241), (833, 832), (833, 948), (833, 950), (833, 1591), (834, 1066), (834, 1308), (835, 677), (835, 1513), (835, 1698), (836, 1410), (837, 321), (837, 1410), (837, 2087), (838, 257), (838, 828), (838, 1151), (838, 1993), (839, 754), (839, 756), (839, 941), (839, 949), (839, 1250), (840, 100), (840, 841), (840, 1201), (840, 1852), (841, 100), (841, 840), (842, 202), (842, 2040), (843, 23), (843, 1451), (843, 1718), (843, 1839), (844, 23), (844, 1166), (844, 1596), (844, 2021), (845, 85), (845, 516), (845, 1577), (845, 1829), (846, 115), (846, 1287), (846, 1908), (847, 1419), (847, 2012), (848, 155), (848, 221), (849, 1119), (850, 0), (850, 302), (850, 1263), (850, 1264), (850, 1427), (850, 1477), (851, 521), (851, 1344), (852, 288), (852, 817), (852, 862), (852, 863), (852, 938), (853, 184), (853, 273), (853, 485), (853, 1064), (853, 2014), (854, 273), (854, 485), (854, 855), (854, 1063), (854, 1731), (855, 433), (855, 854), (855, 1063), (855, 1731), (856, 486), (856, 857), (857, 486), (857, 552), (857, 856), (857, 1221), (857, 1963), (858, 27), (858, 486), (858, 931), (858, 1359), (858, 1360), (859, 570), (859, 1209), (859, 1415), (860, 475), (860, 752), (860, 996), (860, 1209), (860, 1221), (860, 1326), (860, 1581), (860, 1974), (860, 2047), (861, 1335), (862, 17), (862, 25), (862, 49), (862, 63), (862, 80), (862, 144), (862, 151), (862, 157), (862, 214), (862, 218), (862, 241), (862, 250), (862, 261), (862, 268), (862, 370), (862, 384), (862, 393), (862, 394), (862, 398), (862, 399), (862, 420), (862, 441), (862, 448), (862, 450), (862, 484), (862, 506), (862, 518), (862, 523), (862, 538), (862, 543), (862, 545), (862, 559), (862, 568), (862, 575), (862, 578), (862, 592), (862, 685), (862, 717), (862, 718), (862, 755), (862, 804), (862, 805), (862, 816), (862, 852), (862, 863), (862, 893), (862, 948), (862, 950), (862, 962), (862, 976), (862, 980), (862, 989), (862, 1000), (862, 1018), (862, 1019), (862, 1021), (862, 1052), (862, 1056), (862, 1067), (862, 1069), (862, 1092), (862, 1095), (862, 1147), (862, 1165), (862, 1195), (862, 1199), (862, 1252), (862, 1271), (862, 1295), (862, 1386), (862, 1400), (862, 1401), (862, 1410), (862, 1423), (862, 1440), (862, 1452), (862, 1453), (862, 1455), (862, 1456), (862, 1459), (862, 1464), (862, 1466), (862, 1475), (862, 1509), (862, 1545), (862, 1552), (862, 1611), (862, 1612), (862, 1665), (862, 1668), (862, 1670), (862, 1685), (862, 1842), (862, 1867), (862, 1873), (862, 1895), (862, 1898), (862, 1949), (862, 2085), (863, 465), (863, 852), (863, 862), (863, 1665), (864, 66), (864, 1246), (864, 1907), (865, 73), (865, 1982), (866, 1055), (866, 1750), (866, 1980), (866, 1982), (867, 1237), (868, 870), (869, 507), (869, 658), (869, 870), (869, 1494), (869, 1629), (870, 507), (870, 658), (870, 868), (870, 869), (870, 1367), (870, 1629), (871, 270), (871, 509), (871, 1958), (871, 2074), (872, 1701), (873, 332), (873, 2040), (874, 2001), (875, 876), (875, 877), (875, 880), (875, 1439), (875, 1910), (876, 875), (876, 877), (876, 879), (876, 880), (876, 1439), (876, 1882), (877, 875), (877, 876), (877, 1884), (878, 879), (878, 880), (878, 1311), (879, 589), (879, 876), (879, 878), (879, 880), (879, 1439), (879, 1566), (879, 1882), (880, 875), (880, 876), (880, 878), (880, 879), (880, 1439), (880, 2037), (881, 66), (881, 1650), (882, 427), (882, 1091), (882, 2020), (883, 1685), (884, 885), (885, 78), (885, 102), (885, 103), (885, 232), (885, 354), (885, 597), (885, 712), (885, 884), (885, 1862), (886, 1067), (887, 468), (887, 1750), (888, 294), (888, 434), (888, 553), (888, 716), (888, 889), (888, 1190), (888, 1300), (888, 2049), (889, 114), (889, 537), (889, 888), (889, 1311), (890, 1706), (891, 458), (892, 541), (892, 1271), (892, 1372), (893, 157), (893, 862), (893, 938), (894, 0), (894, 2010), (895, 40), (896, 347), (896, 356), (896, 363), (896, 369), (896, 482), (896, 799), (896, 898), (896, 970), (896, 1044), (896, 1837), (896, 2089), (897, 970), (897, 1678), (897, 1706), (898, 118), (898, 355), (898, 369), (898, 631), (898, 680), (898, 896), (898, 970), (898, 1706), (898, 2088), (899, 631), (899, 813), (900, 543), (901, 364), (902, 211), (902, 410), (902, 802), (902, 1171), (902, 1243), (903, 211), (903, 478), (904, 80), (904, 139), (904, 151), (904, 266), (904, 268), (904, 393), (904, 452), (904, 472), (904, 999), (904, 1160), (904, 1223), (904, 1319), (904, 1481), (904, 1647), (904, 2068), (905, 211), (906, 2007), (907, 211), (907, 1243), (908, 380), (908, 382), (908, 410), (908, 735), (908, 736), (908, 737), (908, 738), (908, 1157), (908, 1285), (909, 598), (909, 911), (910, 598), (910, 911), (911, 598), (911, 909), (911, 910), (912, 1591), (913, 236), (913, 1280), (913, 2037), (914, 1410), (914, 1863), (915, 243), (915, 638), (915, 690), (915, 691), (915, 692), (915, 916), (915, 1256), (915, 1288), (915, 1318), (915, 1523), (916, 691), (916, 692), (916, 915), (916, 1288), (916, 1505), (917, 1523), (918, 638), (918, 1288), (919, 337), (919, 361), (919, 1327), (919, 1800), (919, 1813), (920, 230), (920, 516), (920, 666), (920, 1441), (920, 1829), (921, 76), (921, 1371), (922, 1806), (922, 1940), (923, 924), (923, 1637), (924, 923), (924, 1637), (925, 456), (925, 1626), (925, 1742), (926, 174), (926, 927), (927, 311), (927, 499), (927, 926), (928, 616), (928, 721), (928, 929), (928, 1463), (928, 1770), (928, 1909), (929, 616), (929, 928), (929, 1909), (930, 174), (930, 1771), (931, 858), (931, 1055), (932, 1029), (932, 1684), (933, 1750), (934, 1750), (935, 38), (935, 2011), (936, 937), (936, 1067), (936, 1475), (937, 144), (937, 447), (937, 572), (937, 684), (937, 936), (937, 938), (937, 1551), (938, 144), (938, 157), (938, 241), (938, 420), (938, 506), (938, 559), (938, 575), (938, 592), (938, 684), (938, 746), (938, 804), (938, 817), (938, 818), (938, 852), (938, 893), (938, 937), (938, 948), (938, 950), (938, 1018), (938, 1019), (938, 1021), (938, 1067), (938, 1069), (938, 1095), (938, 1252), (938, 1400), (938, 1401), (938, 1423), (938, 1452), (938, 1459), (938, 1553), (938, 1578), (938, 1670), (938, 1812), (938, 1924), (939, 666), (940, 25), (941, 354), (941, 491), (941, 839), (941, 958), (941, 967), (941, 1170), (941, 1321), (941, 1351), (941, 1468), (941, 1613), (941, 1842), (941, 2098), (942, 11), (942, 236), (942, 390), (942, 1071), (942, 1727), (942, 1889), (943, 1201), (944, 1385), (945, 268), (946, 160), (946, 1223), (947, 781), (947, 1438), (947, 1546), (947, 1907), (948, 109), (948, 241), (948, 622), (948, 832), (948, 833), (948, 862), (948, 938), (948, 950), (949, 391), (949, 839), (949, 1113), (949, 1170), (949, 1250), (949, 1321), (949, 1486), (949, 1500), (950, 241), (950, 472), (950, 640), (950, 655), (950, 832), (950, 833), (950, 862), (950, 938), (950, 948), (951, 952), (951, 1575), (951, 2097), (951, 2099), (952, 951), (952, 2094), (952, 2097), (953, 240), (953, 507), (953, 581), (953, 664), (953, 1112), (953, 1545), (953, 1629), (953, 1666), (953, 1929), (953, 2041), (954, 1678), (955, 264), (955, 1065), (955, 1845), (956, 459), (956, 491), (956, 497), (956, 957), (957, 491), (957, 956), (957, 958), (957, 959), (958, 941), (958, 957), (958, 1468), (959, 38), (959, 459), (959, 497), (959, 957), (960, 1243), (960, 1469), (961, 962), (962, 862), (962, 961), (962, 963), (962, 1169), (962, 1469), (962, 1867), (963, 962), (963, 1612), (964, 30), (964, 156), (964, 2002), (965, 675), (966, 451), (966, 1263), (967, 64), (967, 85), (967, 93), (967, 941), (967, 1128), (967, 1530), (967, 1683), (968, 376), (969, 298), (969, 611), (970, 363), (970, 896), (970, 897), (970, 898), (971, 1053), (971, 1995), (972, 1690), (973, 974), (973, 975), (974, 533), (974, 973), (974, 1429), (974, 1893), (974, 1894), (975, 973), (975, 1894), (976, 63), (976, 862), (976, 2106), (977, 309), (977, 723), (977, 724), (977, 1801), (977, 1905), (978, 807), (979, 199), (979, 519), (979, 558), (979, 1716), (980, 370), (980, 862), (980, 1453), (980, 1946), (981, 236), (982, 4), (982, 208), (982, 734), (982, 1324), (983, 1195), (983, 1452), (984, 278), (984, 1784), (985, 1207), (986, 7), (986, 207), (987, 207), (987, 220), (987, 304), (987, 394), (987, 598), (987, 1132), (987, 1428), (987, 1821), (987, 1828), (987, 2093), (988, 71), (988, 186), (988, 220), (988, 1860), (989, 420), (989, 655), (989, 817), (989, 862), (989, 1164), (989, 1273), (989, 1716), (990, 10), (990, 1130), (990, 2054), (991, 620), (991, 759), (992, 350), (992, 783), (993, 342), (993, 372), (994, 1128), (994, 1531), (995, 209), (996, 860), (996, 1601), (997, 674), (998, 1580), (999, 63), (999, 619), (999, 904), (999, 1079), (999, 1160), (999, 1223), (999, 1319), (999, 1452), (1000, 144), (1000, 655), (1000, 817), (1000, 862), (1001, 64), (1001, 83), (1001, 85), (1001, 86), (1001, 237), (1001, 290), (1001, 316), (1001, 329), (1001, 344), (1001, 447), (1001, 595), (1001, 614), (1001, 620), (1001, 626), (1001, 640), (1001, 660), (1001, 759), (1001, 1052), (1001, 1059), (1001, 1136), (1001, 1164), (1001, 1180), (1001, 1261), (1001, 1452), (1001, 1523), (1001, 1568), (1001, 1635), (1001, 1663), (1001, 1668), (1002, 356), (1002, 367), (1002, 1706), (1003, 348), (1003, 1310), (1003, 1429), (1003, 1430), (1003, 1604), (1003, 1894), (1004, 1005), (1005, 1004), (1005, 1512), (1006, 1601), (1006, 1706), (1007, 231), (1007, 1786), (1007, 1790), (1008, 662), (1008, 1009), (1008, 1167), (1008, 1538), (1009, 1008), (1010, 789), (1010, 825), (1010, 1574), (1010, 2001), (1011, 1443), (1012, 1806), (1013, 585), (1013, 764), (1013, 1213), (1013, 1493), (1014, 788), (1014, 1583), (1014, 1811), (1015, 822), (1016, 77), (1016, 822), (1017, 114), (1017, 537), (1018, 144), (1018, 718), (1018, 817), (1018, 862), (1018, 938), (1018, 1019), (1018, 1021), (1018, 1289), (1018, 1453), (1018, 1553), (1018, 2090), (1018, 2091), (1019, 144), (1019, 655), (1019, 817), (1019, 862), (1019, 938), (1019, 1018), (1019, 1452), (1020, 544), (1021, 144), (1021, 394), (1021, 465), (1021, 559), (1021, 575), (1021, 592), (1021, 804), (1021, 817), (1021, 862), (1021, 938), (1021, 1018), (1021, 1067), (1021, 1095), (1021, 1252), (1021, 1459), (1021, 1464), (1021, 1466), (1021, 1924), (1021, 1945), (1022, 1750), (1023, 476), (1023, 721), (1023, 1711), (1023, 1770), (1024, 1025), (1025, 349), (1025, 1024), (1026, 119), (1026, 613), (1026, 1027), (1026, 2000), (1027, 53), (1027, 113), (1027, 119), (1027, 613), (1027, 820), (1027, 821), (1027, 1026), (1027, 1028), (1027, 1187), (1027, 1651), (1027, 1723), (1027, 1724), (1027, 2000), (1027, 2013), (1027, 2031), (1027, 2109), (1028, 1027), (1029, 932), (1030, 1671), (1031, 665), (1032, 2053), (1033, 1365), (1034, 1323), (1035, 1036), (1035, 1190), (1035, 1311), (1036, 1035), (1036, 1896), (1036, 2055), (1037, 423), (1037, 1601), (1037, 2089), (1038, 59), (1038, 194), (1038, 352), (1038, 500), (1038, 1311), (1038, 1388), (1038, 1399), (1038, 1544), (1038, 1972), (1038, 2055), (1038, 2062), (1039, 1115), (1039, 1518), (1040, 327), (1040, 546), (1040, 1246), (1041, 356), (1041, 1251), (1042, 367), (1043, 551), (1044, 498), (1044, 896), (1044, 1437), (1045, 104), (1045, 1865), (1046, 223), (1046, 1840), (1046, 1843), (1047, 1691), (1048, 601), (1048, 655), (1048, 831), (1048, 1049), (1048, 2090), (1048, 2101), (1049, 272), (1049, 601), (1049, 831), (1049, 1048), (1049, 1057), (1049, 1394), (1049, 1578), (1049, 2090), (1049, 2101), (1050, 460), (1051, 1320), (1052, 403), (1052, 668), (1052, 862), (1052, 1001), (1052, 1059), (1052, 1553), (1053, 463), (1053, 539), (1053, 713), (1053, 714), (1053, 971), (1053, 1265), (1053, 1995), (1054, 83), (1054, 155), (1054, 186), (1054, 204), (1054, 430), (1054, 1110), (1054, 1174), (1054, 1523), (1055, 429), (1055, 866), (1055, 931), (1055, 1490), (1055, 1743), (1055, 1750), (1055, 1980), (1055, 1981), (1056, 496), (1056, 862), (1056, 1136), (1057, 42), (1057, 1049), (1057, 1379), (1058, 434), (1058, 762), (1058, 1750), (1058, 1751), (1059, 1001), (1059, 1052), (1059, 1180), (1060, 1437), (1061, 732), (1062, 732), (1063, 0), (1063, 433), (1063, 732), (1063, 854), (1063, 855), (1063, 1806), (1064, 101), (1064, 853), (1065, 955), (1066, 797), (1066, 834), (1066, 1307), (1066, 1751), (1066, 2061), (1067, 144), (1067, 186), (1067, 614), (1067, 655), (1067, 817), (1067, 862), (1067, 886), (1067, 936), (1067, 938), (1067, 1021), (1067, 1454), (1067, 1551), (1067, 1553), (1067, 1611), (1067, 1671), (1067, 2051), (1067, 2052), (1067, 2090), (1068, 121), (1068, 1978), (1069, 572), (1069, 702), (1069, 817), (1069, 862), (1069, 938), (1069, 1095), (1069, 1410), (1069, 1812), (1070, 1375), (1070, 1891), (1071, 942), (1072, 2007), (1073, 671), (1073, 1550), (1073, 1947), (1074, 91), (1074, 274), (1074, 524), (1074, 628), (1074, 1191), (1074, 1333), (1074, 1338), (1075, 524), (1075, 688), (1075, 1191), (1075, 1333), (1075, 1808), (1076, 1437), (1076, 1687), (1076, 1750), (1077, 423), (1077, 1750), (1078, 1289), (1078, 1456), (1079, 80), (1079, 151), (1079, 266), (1079, 268), (1079, 381), (1079, 393), (1079, 645), (1079, 786), (1079, 795), (1079, 999), (1079, 1289), (1079, 1295), (1079, 1452), (1079, 2015), (1079, 2068), (1079, 2084), (1079, 2085), (1080, 576), (1080, 1081), (1080, 2091), (1081, 98), (1081, 284), (1081, 1080), (1082, 170), (1082, 350), (1082, 782), (1083, 170), (1083, 210), (1083, 1084), (1084, 170), (1084, 794), (1084, 1083), (1084, 1908), (1085, 652), (1086, 1087), (1086, 2090), (1087, 1086), (1088, 87), (1088, 88), (1088, 1089), (1088, 1118), (1088, 1241), (1088, 1756), (1088, 1941), (1089, 88), (1089, 1088), (1090, 1568), (1091, 882), (1091, 2053), (1092, 450), (1092, 594), (1092, 817), (1092, 862), (1093, 1126), (1093, 1207), (1094, 1605), (1095, 817), (1095, 862), (1095, 938), (1095, 1021), (1095, 1069), (1095, 1238), (1096, 1750), (1097, 1750), (1098, 154), (1098, 297), (1098, 1099), (1099, 128), (1099, 154), (1099, 297), (1099, 1098), (1100, 1159), (1100, 1859), (1100, 1863), (1100, 1864), (1100, 1894), (1101, 1750), (1102, 1535), (1102, 1837), (1103, 1535), (1104, 255), (1105, 464), (1105, 1106), (1105, 1678), (1106, 1105), (1107, 1644), (1108, 105), (1108, 156), (1108, 672), (1109, 1110), (1109, 1523), (1110, 204), (1110, 1054), (1110, 1109), (1110, 1523), (1110, 1790), (1111, 122), (1111, 1536), (1111, 1795), (1112, 662), (1112, 953), (1113, 397), (1113, 949), (1114, 411), (1114, 1279), (1115, 1039), (1115, 1483), (1116, 1178), (1117, 52), (1118, 39), (1118, 275), (1118, 1088), (1119, 849), (1119, 1379), (1120, 161), (1120, 1384), (1121, 1122), (1121, 1411), (1122, 28), (1122, 35), (1122, 697), (1122, 1121), (1123, 1277), (1123, 1497), (1124, 774), (1125, 271), (1126, 131), (1126, 1093), (1126, 1281), (1126, 1681), (1127, 1410), (1127, 1604), (1128, 316), (1128, 812), (1128, 967), (1128, 994), (1128, 1738), (1129, 428), (1130, 990), (1130, 1656), (1131, 324), (1131, 1409), (1131, 1846), (1132, 220), (1132, 452), (1132, 987), (1133, 1639), (1134, 1340), (1135, 1329), (1136, 595), (1136, 668), (1136, 1001), (1136, 1056), (1137, 496), (1137, 728), (1137, 1376), (1137, 1377), (1137, 1755), (1138, 351), (1138, 432), (1138, 1286), (1139, 259), (1139, 367), (1139, 1654), (1139, 1750), (1140, 48), (1140, 1370), (1141, 48), (1141, 647), (1141, 1142), (1142, 647), (1142, 1141), (1143, 228), (1143, 1145), (1143, 1648), (1144, 317), (1144, 403), (1144, 559), (1144, 575), (1144, 592), (1144, 1194), (1144, 1195), (1144, 1238), (1144, 1452), (1145, 228), (1145, 1143), (1145, 2062), (1146, 1194), (1146, 1196), (1146, 1197), (1146, 1289), (1146, 1355), (1146, 1453), (1147, 817), (1147, 862), (1148, 1422), (1148, 1423), (1149, 171), (1149, 231), (1150, 1468), (1150, 2098), (1151, 838), (1151, 1351), (1151, 1468), (1151, 1547), (1151, 1613), (1152, 72), (1152, 95), (1152, 121), (1152, 129), (1152, 187), (1152, 1511), (1152, 1631), (1152, 2040), (1152, 2086), (1153, 1377), (1154, 30), (1154, 39), (1154, 156), (1154, 389), (1154, 466), (1154, 1233), (1155, 256), (1155, 530), (1155, 646), (1155, 1156), (1155, 1798), (1155, 1871), (1155, 1954), (1156, 256), (1156, 625), (1156, 646), (1156, 1155), (1156, 1853), (1157, 908), (1157, 1218), (1158, 1341), (1158, 2007), (1159, 1100), (1159, 1230), (1159, 1410), (1159, 1699), (1159, 1757), (1159, 2078), (1160, 157), (1160, 268), (1160, 904), (1160, 999), (1160, 1161), (1160, 1720), (1160, 2085), (1161, 454), (1161, 1160), (1162, 1795), (1163, 620), (1163, 759), (1163, 1885), (1163, 1886), (1164, 136), (1164, 588), (1164, 989), (1164, 1001), (1164, 1403), (1164, 1717), (1165, 862), (1165, 1869), (1166, 23), (1166, 844), (1167, 1008), (1168, 24), (1168, 1574), (1169, 962), (1170, 941), (1170, 949), (1170, 1548), (1171, 173), (1171, 410), (1171, 540), (1171, 544), (1171, 902), (1171, 1617), (1171, 1619), (1172, 453), (1172, 1672), (1172, 2026), (1173, 609), (1173, 1379), (1173, 1401), (1174, 1054), (1175, 1462), (1176, 793), (1176, 803), (1177, 265), (1177, 364), (1177, 787), (1177, 1905), (1178, 335), (1178, 1116), (1178, 1614), (1178, 2049), (1179, 1762), (1180, 388), (1180, 598), (1180, 1001), (1180, 1059), (1180, 1609), (1180, 1610), (1180, 1668), (1181, 424), (1181, 660), (1181, 1182), (1182, 83), (1182, 447), (1182, 660), (1182, 1181), (1182, 1183), (1182, 1355), (1182, 1635), (1183, 601), (1183, 1182), (1184, 90), (1184, 1503), (1184, 2020), (1185, 401), (1186, 118), (1186, 1219), (1187, 176), (1187, 293), (1187, 1027), (1187, 1255), (1187, 1283), (1187, 1425), (1187, 1803), (1188, 1445), (1189, 723), (1190, 888), (1190, 1035), (1190, 1388), (1191, 91), (1191, 274), (1191, 524), (1191, 628), (1191, 1074), (1191, 1075), (1191, 1333), (1191, 1334), (1191, 1337), (1191, 1338), (1191, 1339), (1192, 688), (1192, 1333), (1193, 242), (1193, 545), (1193, 1289), (1193, 1452), (1193, 1453), (1194, 448), (1194, 1144), (1194, 1146), (1194, 1195), (1194, 1196), (1194, 1289), (1194, 1452), (1194, 1453), (1194, 1740), (1195, 98), (1195, 388), (1195, 447), (1195, 588), (1195, 862), (1195, 983), (1195, 1144), (1195, 1194), (1195, 1434), (1195, 1717), (1196, 242), (1196, 702), (1196, 796), (1196, 1146), (1196, 1194), (1196, 1289), (1196, 1452), (1196, 1453), (1197, 796), (1197, 1146), (1197, 1289), (1197, 1453), (1197, 1454), (1198, 211), (1199, 862), (1199, 1815), (1200, 1201), (1201, 117), (1201, 633), (1201, 840), (1201, 943), (1201, 1200), (1202, 85), (1202, 199), (1202, 626), (1203, 558), (1204, 1564), (1204, 1922), (1204, 2032), (1205, 1597), (1205, 1697), (1206, 1634), (1206, 1635), (1206, 1699), (1206, 1817), (1207, 985), (1207, 1093), (1208, 1271), (1209, 859), (1209, 860), (1209, 1574), (1209, 1648), (1210, 239), (1210, 519), (1210, 558), (1210, 1584), (1210, 1716), (1210, 1818), (1211, 620), (1211, 759), (1211, 1212), (1212, 620), (1212, 759), (1212, 1211), (1213, 425), (1213, 1013), (1213, 1572), (1214, 1497), (1215, 484), (1216, 401), (1216, 1283), (1216, 1750), (1217, 670), (1218, 123), (1218, 1157), (1218, 1778), (1218, 1779), (1219, 1186), (1220, 311), (1220, 360), (1220, 1726), (1220, 1770), (1221, 283), (1221, 486), (1221, 552), (1221, 631), (1221, 857), (1221, 860), (1222, 0), (1222, 220), (1223, 160), (1223, 452), (1223, 904), (1223, 946), (1223, 999), (1224, 1322), (1225, 62), (1225, 286), (1225, 444), (1225, 815), (1225, 1429), (1225, 1832), (1225, 1939), (1226, 28), (1226, 32), (1226, 35), (1226, 39), (1226, 697), (1226, 830), (1227, 5), (1227, 279), (1227, 650), (1227, 1333), (1227, 2038), (1228, 1674), (1229, 529), (1229, 1347), (1230, 1159), (1230, 1921), (1231, 12), (1231, 659), (1231, 1531), (1231, 2007), (1232, 689), (1232, 692), (1233, 30), (1233, 156), (1233, 1154), (1234, 555), (1234, 556), (1234, 1235), (1235, 1234), (1235, 1605), (1236, 331), (1236, 333), (1236, 340), (1236, 353), (1237, 328), (1237, 867), (1238, 655), (1238, 1095), (1238, 1144), (1239, 191), (1239, 1240), (1240, 361), (1240, 1239), (1241, 1088), (1242, 10), (1242, 514), (1242, 737), (1242, 1495), (1242, 2054), (1243, 209), (1243, 354), (1243, 902), (1243, 907), (1243, 960), (1244, 670), (1245, 760), (1245, 1772), (1246, 76), (1246, 89), (1246, 327), (1246, 546), (1246, 864), (1246, 1040), (1246, 1285), (1246, 1428), (1246, 1531), (1247, 1249), (1247, 1750), (1248, 1249), (1248, 1750), (1249, 1247), (1249, 1248), (1249, 1750), (1249, 1910), (1250, 161), (1250, 839), (1250, 949), (1250, 1262), (1250, 1486), (1250, 1630), (1251, 404), (1251, 1041), (1252, 144), (1252, 224), (1252, 718), (1252, 746), (1252, 862), (1252, 938), (1252, 1021), (1252, 1271), (1253, 384), (1253, 755), (1253, 1254), (1254, 63), (1254, 1253), (1255, 1187), (1255, 1405), (1256, 53), (1256, 915), (1256, 1724), (1257, 662), (1258, 701), (1259, 14), (1259, 1390), (1260, 158), (1260, 1749), (1260, 1753), (1261, 85), (1261, 726), (1261, 1001), (1262, 121), (1262, 1250), (1262, 1511), (1263, 451), (1263, 456), (1263, 850), (1263, 966), (1263, 2076), (1264, 483), (1264, 850), (1265, 463), (1265, 539), (1265, 1053), (1266, 1714), (1266, 1766), (1267, 1659), (1267, 1766), (1268, 1375), (1269, 469), (1269, 1752), (1270, 573), (1270, 1471), (1271, 420), (1271, 421), (1271, 550), (1271, 862), (1271, 892), (1271, 1208), (1271, 1252), (1271, 1342), (1271, 1464), (1271, 1612), (1271, 1867), (1272, 380), (1272, 382), (1272, 735), (1272, 736), (1272, 737), (1272, 738), (1272, 1916), (1273, 13), (1273, 989), (1273, 1716), (1273, 1833), (1274, 1275), (1275, 1274), (1275, 1904), (1276, 37), (1276, 458), (1276, 823), (1276, 1277), (1276, 1950), (1277, 37), (1277, 823), (1277, 1123), (1277, 1276), (1277, 1691), (1277, 1950), (1278, 341), (1278, 1279), (1278, 1483), (1279, 324), (1279, 364), (1279, 407), (1279, 1114), (1279, 1278), (1280, 45), (1280, 69), (1280, 149), (1280, 336), (1280, 913), (1280, 2043), (1281, 1126), (1282, 1284), (1282, 1350), (1282, 2000), (1283, 145), (1283, 613), (1283, 1187), (1283, 1216), (1283, 2013), (1283, 2031), (1283, 2032), (1284, 1282), (1284, 2013), (1285, 514), (1285, 651), (1285, 694), (1285, 797), (1285, 908), (1285, 1246), (1285, 1912), (1285, 1925), (1286, 307), (1286, 1138), (1286, 1692), (1287, 846), (1287, 1938), (1288, 243), (1288, 691), (1288, 692), (1288, 915), (1288, 916), (1288, 918), (1289, 17), (1289, 144), (1289, 181), (1289, 1018), (1289, 1078), (1289, 1079), (1289, 1146), (1289, 1193), (1289, 1194), (1289, 1196), (1289, 1197), (1289, 1310), (1289, 1400), (1289, 1440), (1289, 1481), (1289, 1554), (1289, 1856), (1289, 1973), (1289, 2083), (1289, 2084), (1289, 2085), (1290, 320), (1291, 320), (1292, 320), (1293, 326), (1293, 557), (1293, 739), (1293, 1390), (1293, 1910), (1294, 552), (1295, 218), (1295, 522), (1295, 619), (1295, 796), (1295, 862), (1295, 1079), (1295, 1453), (1295, 1454), (1295, 1455), (1295, 1928), (1295, 2090), (1296, 303), (1296, 1297), (1297, 1296), (1297, 1711), (1298, 1299), (1298, 1301), (1298, 1311), (1299, 114), (1299, 537), (1299, 1298), (1299, 1301), (1299, 1302), (1300, 716), (1300, 888), (1300, 2058), (1301, 1298), (1301, 1299), (1301, 1302), (1301, 1303), (1302, 1299), (1302, 1301), (1302, 1303), (1303, 114), (1303, 536), (1303, 537), (1303, 1301), (1303, 1302), (1304, 159), (1304, 220), (1304, 1305), (1305, 159), (1305, 1304), (1306, 364), (1306, 787), (1306, 1574), (1307, 797), (1307, 1066), (1307, 1308), (1307, 2061), (1308, 791), (1308, 834), (1308, 1307), (1309, 55), (1309, 1971), (1310, 425), (1310, 655), (1310, 1003), (1310, 1289), (1311, 188), (1311, 531), (1311, 553), (1311, 632), (1311, 878), (1311, 889), (1311, 1035), (1311, 1038), (1311, 1298), (1311, 1569), (1311, 2055), (1311, 2056), (1311, 2069), (1311, 2080), (1311, 2089), (1311, 2108), (1312, 688), (1312, 690), (1313, 96), (1313, 192), (1313, 203), (1313, 1314), (1314, 1313), (1314, 1329), (1314, 1621), (1315, 76), (1316, 125), (1316, 1806), (1317, 1370), (1318, 390), (1318, 915), (1318, 1696), (1318, 2076), (1319, 80), (1319, 904), (1319, 999), (1319, 2015), (1320, 8), (1320, 308), (1320, 662), (1320, 686), (1320, 1051), (1320, 1555), (1320, 1695), (1321, 121), (1321, 941), (1321, 949), (1321, 1978), (1322, 109), (1322, 207), (1322, 414), (1322, 516), (1322, 622), (1322, 1224), (1322, 1829), (1323, 1034), (1323, 1810), (1323, 2021), (1324, 488), (1324, 712), (1324, 734), (1324, 982), (1324, 1785), (1324, 1862), (1325, 645), (1326, 860), (1327, 277), (1327, 636), (1327, 919), (1327, 1461), (1327, 1480), (1327, 1491), (1327, 1966), (1328, 99), (1328, 1329), (1329, 1135), (1329, 1314), (1329, 1328), (1330, 508), (1331, 508), (1332, 40), (1332, 456), (1332, 483), (1333, 79), (1333, 91), (1333, 279), (1333, 524), (1333, 628), (1333, 634), (1333, 688), (1333, 1074), (1333, 1075), (1333, 1191), (1333, 1192), (1333, 1227), (1333, 1334), (1333, 1337), (1333, 1338), (1333, 1339), (1333, 1808), (1334, 688), (1334, 1191), (1334, 1333), (1334, 1808), (1335, 56), (1335, 688), (1335, 861), (1335, 1368), (1336, 1808), (1337, 524), (1337, 628), (1337, 1191), (1337, 1333), (1337, 1338), (1337, 1339), (1338, 524), (1338, 628), (1338, 688), (1338, 1074), (1338, 1191), (1338, 1333), (1338, 1337), (1338, 1339), (1339, 524), (1339, 628), (1339, 688), (1339, 1191), (1339, 1333), (1339, 1337), (1339, 1338), (1340, 617), (1340, 1134), (1341, 380), (1341, 382), (1341, 735), (1341, 736), (1341, 737), (1341, 738), (1341, 1158), (1342, 420), (1342, 1271), (1342, 1343), (1342, 1665), (1343, 655), (1343, 1342), (1343, 1665), (1344, 851), (1344, 1536), (1344, 1537), (1345, 400), (1345, 501), (1345, 1348), (1345, 1488), (1346, 2062), (1347, 1229), (1348, 104), (1348, 111), (1348, 176), (1348, 215), (1348, 314), (1348, 346), (1348, 551), (1348, 613), (1348, 709), (1348, 710), (1348, 791), (1348, 1345), (1348, 1390), (1348, 1392), (1348, 1425), (1348, 1673), (1348, 1674), (1348, 1687), (1348, 1735), (1348, 1803), (1348, 1866), (1348, 1934), (1348, 2079), (1349, 1694), (1350, 119), (1350, 613), (1350, 1282), (1350, 2109), (1351, 941), (1351, 1151), (1351, 1842), (1352, 85), (1352, 445), (1352, 1353), (1352, 1396), (1353, 42), (1353, 1352), (1354, 534), (1355, 85), (1355, 445), (1355, 447), (1355, 1146), (1355, 1182), (1355, 1523), (1355, 1633), (1355, 1930), (1355, 2065), (1355, 2066), (1356, 481), (1356, 1870), (1357, 2), (1357, 674), (1357, 1366), (1358, 276), (1358, 2091), (1359, 858), (1360, 494), (1360, 858), (1360, 2016), (1361, 90), (1362, 13), (1362, 366), (1362, 1600), (1363, 658), (1363, 825), (1363, 1437), (1363, 1948), (1363, 2062), (1364, 1365), (1364, 1777), (1365, 1033), (1365, 1364), (1365, 1884), (1365, 2053), (1366, 2), (1366, 1357), (1366, 1992), (1367, 870), (1368, 5), (1368, 56), (1368, 79), (1368, 650), (1368, 1335), (1369, 418), (1369, 692), (1370, 183), (1370, 1140), (1370, 1317), (1370, 1418), (1370, 1419), (1370, 1804), (1370, 1805), (1370, 1809), (1370, 2039), (1371, 299), (1371, 921), (1372, 541), (1372, 892), (1373, 350), (1374, 1979), (1375, 1070), (1375, 1268), (1376, 1137), (1376, 1755), (1377, 1137), (1377, 1153), (1377, 1755), (1378, 486), (1378, 510), (1378, 552), (1378, 579), (1378, 1787), (1378, 1963), (1379, 71), (1379, 601), (1379, 620), (1379, 664), (1379, 759), (1379, 831), (1379, 1057), (1379, 1119), (1379, 1173), (1379, 2101), (1380, 417), (1380, 1381), (1381, 1380), (1381, 1392), (1381, 1972), (1382, 665), (1383, 665), (1384, 1120), (1385, 452), (1385, 786), (1385, 795), (1385, 944), (1385, 1554), (1386, 214), (1386, 862), (1387, 1677), (1388, 188), (1388, 500), (1388, 504), (1388, 553), (1388, 742), (1388, 1038), (1388, 1190), (1388, 1389), (1388, 1492), (1388, 1569), (1388, 1830), (1388, 2055), (1388, 2056), (1388, 2062), (1388, 2089), (1388, 2108), (1389, 114), (1389, 1388), (1389, 1824), (1389, 2062), (1390, 106), (1390, 175), (1390, 247), (1390, 468), (1390, 487), (1390, 709), (1390, 710), (1390, 739), (1390, 740), (1390, 1259), (1390, 1293), (1390, 1348), (1390, 1413), (1390, 1504), (1390, 1526), (1390, 1728), (1390, 1729), (1390, 1762), (1390, 1830), (1390, 1897), (1390, 1910), (1390, 1997), (1391, 1830), (1392, 16), (1392, 53), (1392, 60), (1392, 1348), (1392, 1381), (1392, 1721), (1392, 1775), (1393, 1480), (1394, 1049), (1395, 722), (1396, 445), (1396, 1352), (1397, 89), (1397, 1428), (1397, 1509), (1397, 1510), (1397, 1603), (1397, 1952), (1398, 1399), (1399, 1038), (1399, 1398), (1400, 63), (1400, 317), (1400, 572), (1400, 609), (1400, 862), (1400, 938), (1400, 1289), (1400, 1453), (1400, 1454), (1400, 1456), (1400, 1599), (1400, 1668), (1401, 317), (1401, 572), (1401, 862), (1401, 938), (1401, 1173), (1401, 1454), (1402, 124), (1403, 136), (1403, 1164), (1403, 1640), (1404, 30), (1404, 132), (1404, 156), (1404, 244), (1405, 293), (1405, 1255), (1406, 436), (1406, 455), (1406, 512), (1407, 489), (1407, 721), (1407, 1408), (1407, 2008), (1408, 1407), (1408, 2008), (1409, 312), (1409, 1131), (1409, 1846), (1409, 1959), (1410, 595), (1410, 655), (1410, 817), (1410, 836), (1410, 837), (1410, 862), (1410, 914), (1410, 1069), (1410, 1127), (1410, 1159), (1410, 1475), (1410, 1590), (1410, 1668), (1410, 1732), (1410, 1894), (1411, 1121), (1412, 1435), (1413, 190), (1413, 197), (1413, 1390), (1414, 649), (1414, 757), (1415, 859), (1415, 1521), (1416, 1417), (1417, 39), (1417, 132), (1417, 244), (1417, 683), (1417, 1416), (1417, 1877), (1418, 675), (1418, 1370), (1418, 1419), (1418, 1804), (1418, 1805), (1418, 1806), (1419, 125), (1419, 847), (1419, 1370), (1419, 1418), (1419, 1804), (1419, 1805), (1420, 1626), (1421, 1450), (1421, 1903), (1422, 1148), (1422, 1423), (1423, 62), (1423, 254), (1423, 862), (1423, 938), (1423, 1148), (1423, 1422), (1423, 1970), (1423, 2091), (1424, 518), (1424, 529), (1424, 538), (1424, 568), (1425, 16), (1425, 233), (1425, 503), (1425, 551), (1425, 1187), (1425, 1348), (1426, 71), (1426, 655), (1427, 513), (1427, 850), (1427, 2010), (1427, 2043), (1428, 66), (1428, 598), (1428, 602), (1428, 731), (1428, 987), (1428, 1246), (1428, 1397), (1428, 1429), (1428, 1430), (1428, 1452), (1428, 1604), (1428, 1746), (1428, 1887), (1428, 1894), (1429, 89), (1429, 162), (1429, 630), (1429, 815), (1429, 974), (1429, 1003), (1429, 1225), (1429, 1428), (1429, 1602), (1429, 1604), (1429, 1859), (1429, 1894), (1430, 89), (1430, 1003), (1430, 1428), (1430, 1602), (1430, 1604), (1430, 1859), (1430, 1894), (1431, 462), (1431, 1445), (1432, 785), (1432, 1624), (1433, 448), (1433, 1740), (1434, 1195), (1435, 786), (1435, 1412), (1436, 0), (1436, 613), (1436, 1437), (1437, 0), (1437, 340), (1437, 571), (1437, 1044), (1437, 1060), (1437, 1076), (1437, 1363), (1437, 1436), (1437, 1870), (1437, 1972), (1437, 2108), (1438, 649), (1438, 947), (1439, 875), (1439, 876), (1439, 879), (1439, 880), (1440, 452), (1440, 655), (1440, 862), (1440, 1289), (1440, 1453), (1441, 920), (1442, 495), (1442, 1574), (1442, 1780), (1443, 242), (1443, 1011), (1443, 1444), (1444, 1443), (1445, 44), (1445, 390), (1445, 462), (1445, 1188), (1445, 1431), (1445, 1447), (1446, 83), (1446, 234), (1446, 359), (1446, 1635), (1446, 1932), (1447, 306), (1447, 1445), (1448, 306), (1449, 1451), (1450, 1421), (1450, 1451), (1451, 843), (1451, 1449), (1451, 1450), (1451, 1661), (1452, 89), (1452, 98), (1452, 157), (1452, 218), (1452, 452), (1452, 528), (1452, 619), (1452, 640), (1452, 817), (1452, 862), (1452, 938), (1452, 983), (1452, 999), (1452, 1001), (1452, 1019), (1452, 1079), (1452, 1144), (1452, 1193), (1452, 1194), (1452, 1196), (1452, 1428), (1452, 1453), (1452, 1454), (1452, 1455), (1452, 1554), (1452, 1859), (1452, 1894), (1453, 218), (1453, 242), (1453, 448), (1453, 685), (1453, 862), (1453, 980), (1453, 1018), (1453, 1146), (1453, 1193), (1453, 1194), (1453, 1196), (1453, 1197), (1453, 1295), (1453, 1400), (1453, 1440), (1453, 1452), (1453, 1455), (1453, 1456), (1453, 1671), (1453, 1892), (1454, 63), (1454, 98), (1454, 151), (1454, 218), (1454, 250), (1454, 266), (1454, 268), (1454, 393), (1454, 398), (1454, 399), (1454, 572), (1454, 702), (1454, 819), (1454, 1067), (1454, 1197), (1454, 1295), (1454, 1400), (1454, 1401), (1454, 1452), (1454, 1455), (1454, 1456), (1454, 1481), (1454, 1552), (1454, 1554), (1454, 1578), (1454, 1741), (1454, 1895), (1454, 2068), (1454, 2084), (1454, 2085), (1455, 819), (1455, 862), (1455, 1295), (1455, 1452), (1455, 1453), (1455, 1454), (1456, 817), (1456, 862), (1456, 1078), (1456, 1400), (1456, 1453), (1456, 1454), (1456, 1665), (1457, 435), (1457, 566), (1457, 1514), (1458, 558), (1459, 862), (1459, 938), (1459, 1021), (1460, 1865), (1460, 1866), (1461, 1327), (1462, 65), (1462, 358), (1462, 551), (1462, 1175), (1462, 1570), (1462, 1571), (1462, 1770), (1463, 721), (1463, 928), (1464, 817), (1464, 862), (1464, 1021), (1464, 1271), (1464, 1611), (1464, 1612), (1464, 1992), (1465, 1466), (1465, 1467), (1465, 1665), (1466, 527), (1466, 655), (1466, 862), (1466, 1021), (1466, 1465), (1466, 1467), (1466, 1665), (1467, 1465), (1467, 1466), (1468, 187), (1468, 941), (1468, 958), (1468, 1150), (1468, 1151), (1468, 1547), (1468, 1862), (1468, 2098), (1469, 209), (1469, 960), (1469, 962), (1470, 648), (1471, 573), (1471, 772), (1471, 1270), (1472, 1473), (1472, 2050), (1473, 265), (1473, 1472), (1474, 584), (1475, 862), (1475, 936), (1475, 1410), (1475, 2019), (1476, 1569), (1476, 1750), (1476, 1972), (1477, 850), (1477, 1664), (1478, 1796), (1479, 217), (1480, 70), (1480, 337), (1480, 1327), (1480, 1393), (1480, 1649), (1480, 1661), (1480, 1694), (1481, 80), (1481, 151), (1481, 181), (1481, 266), (1481, 268), (1481, 393), (1481, 452), (1481, 904), (1481, 1289), (1481, 1454), (1481, 1554), (1481, 2015), (1481, 2068), (1481, 2084), (1481, 2085), (1482, 1484), (1482, 1888), (1483, 341), (1483, 1115), (1483, 1278), (1484, 339), (1484, 341), (1484, 1482), (1485, 448), (1486, 949), (1486, 1250), (1487, 1830), (1488, 790), (1488, 1345), (1489, 1587), (1490, 1055), (1490, 1492), (1491, 1327), (1492, 560), (1492, 748), (1492, 1388), (1492, 1490), (1492, 1643), (1493, 154), (1493, 297), (1493, 300), (1493, 392), (1493, 1013), (1494, 253), (1494, 599), (1494, 869), (1494, 1592), (1494, 1687), (1494, 1689), (1494, 1750), (1495, 514), (1495, 1242), (1496, 1822), (1496, 1903), (1497, 408), (1497, 419), (1497, 1123), (1497, 1214), (1498, 196), (1498, 623), (1498, 1645), (1499, 262), (1499, 379), (1499, 516), (1499, 1829), (1499, 2072), (1500, 949), (1500, 1923), (1501, 327), (1502, 172), (1502, 688), (1503, 90), (1503, 1184), (1503, 2020), (1504, 1390), (1505, 155), (1505, 916), (1506, 1754), (1507, 1938), (1508, 377), (1508, 2096), (1509, 862), (1509, 1397), (1509, 1510), (1509, 1603), (1509, 2042), (1510, 1397), (1510, 1509), (1510, 1603), (1511, 36), (1511, 1152), (1511, 1262), (1511, 2040), (1512, 576), (1512, 1005), (1513, 835), (1514, 1457), (1514, 1626), (1515, 1516), (1515, 1529), (1515, 1750), (1515, 2108), (1516, 725), (1516, 1515), (1516, 1529), (1516, 1750), (1516, 1984), (1517, 352), (1517, 417), (1517, 1896), (1517, 2055), (1518, 1039), (1519, 505), (1519, 1520), (1519, 1522), (1520, 505), (1520, 1519), (1520, 1521), (1521, 505), (1521, 1415), (1521, 1520), (1521, 1522), (1522, 1519), (1522, 1521), (1523, 1), (1523, 85), (1523, 204), (1523, 516), (1523, 602), (1523, 638), (1523, 653), (1523, 662), (1523, 915), (1523, 917), (1523, 1001), (1523, 1054), (1523, 1109), (1523, 1110), (1523, 1355), (1523, 1635), (1523, 1790), (1523, 1829), (1523, 1894), (1524, 127), (1524, 1525), (1524, 1770), (1525, 1524), (1525, 1570), (1526, 198), (1526, 618), (1526, 1390), (1526, 1686), (1527, 556), (1528, 725), (1528, 1529), (1529, 725), (1529, 1515), (1529, 1516), (1529, 1528), (1529, 2012), (1530, 967), (1530, 1531), (1530, 1650), (1531, 546), (1531, 994), (1531, 1231), (1531, 1246), (1531, 1530), (1532, 122), (1533, 82), (1533, 1657), (1534, 1750), (1534, 2108), (1535, 1102), (1535, 1103), (1536, 192), (1536, 1111), (1536, 1344), (1537, 1344), (1538, 1008), (1539, 724), (1539, 1835), (1539, 1904), (1540, 1903), (1540, 1904), (1541, 296), (1541, 311), (1541, 1542), (1542, 1541), (1542, 1771), (1543, 305), (1543, 444), (1543, 784), (1543, 1733), (1543, 1757), (1543, 1790), (1543, 1831), (1543, 1832), (1544, 216), (1544, 1038), (1544, 2055), (1545, 862), (1545, 953), (1546, 947), (1547, 1151), (1547, 1468), (1547, 1548), (1547, 1560), (1547, 2098), (1548, 1170), (1548, 1547), (1549, 402), (1549, 479), (1549, 586), (1550, 1073), (1550, 1694), (1551, 572), (1551, 805), (1551, 817), (1551, 937), (1551, 1067), (1551, 1552), (1551, 1670), (1551, 1671), (1551, 1898), (1551, 1899), (1552, 655), (1552, 684), (1552, 817), (1552, 862), (1552, 1454), (1552, 1551), (1552, 1553), (1552, 1611), (1552, 1670), (1552, 1671), (1553, 144), (1553, 804), (1553, 805), (1553, 938), (1553, 1018), (1553, 1052), (1553, 1067), (1553, 1552), (1553, 1670), (1553, 1671), (1553, 1898), (1553, 1899), (1554, 80), (1554, 139), (1554, 151), (1554, 181), (1554, 266), (1554, 268), (1554, 393), (1554, 1289), (1554, 1385), (1554, 1452), (1554, 1454), (1554, 1481), (1554, 2015), (1554, 2068), (1554, 2083), (1554, 2084), (1554, 2085), (1555, 1320), (1556, 745), (1557, 623), (1557, 745), (1557, 1558), (1558, 623), (1558, 1557), (1559, 679), (1559, 1560), (1560, 1547), (1560, 1559), (1561, 1697), (1562, 432), (1563, 289), (1563, 1565), (1563, 1705), (1563, 2036), (1564, 168), (1564, 278), (1564, 1204), (1564, 1565), (1564, 1566), (1564, 1784), (1565, 760), (1565, 1563), (1565, 1564), (1565, 2036), (1566, 879), (1566, 1564), (1566, 2036), (1567, 832), (1567, 1568), (1567, 1855), (1568, 668), (1568, 832), (1568, 1001), (1568, 1090), (1568, 1567), (1568, 1855), (1569, 188), (1569, 1311), (1569, 1388), (1569, 1476), (1569, 2055), (1569, 2062), (1570, 127), (1570, 1462), (1570, 1525), (1570, 1571), (1570, 2081), (1571, 1462), (1571, 1570), (1571, 2079), (1571, 2081), (1572, 179), (1572, 354), (1572, 362), (1572, 1213), (1573, 713), (1573, 714), (1573, 715), (1573, 1974), (1574, 404), (1574, 474), (1574, 532), (1574, 1010), (1574, 1168), (1574, 1209), (1574, 1306), (1574, 1442), (1574, 1679), (1574, 1767), (1574, 1819), (1575, 129), (1575, 951), (1575, 2094), (1576, 390), (1576, 1637), (1576, 1667), (1576, 1668), (1577, 576), (1577, 845), (1578, 938), (1578, 1049), (1578, 1454), (1579, 29), (1580, 112), (1580, 122), (1580, 163), (1580, 998), (1581, 752), (1581, 860), (1582, 200), (1582, 374), (1582, 1583), (1582, 2095), (1583, 1014), (1583, 1582), (1584, 85), (1584, 519), (1584, 1210), (1584, 1634), (1584, 1716), (1584, 1833), (1585, 1586), (1586, 471), (1586, 1585), (1587, 471), (1587, 1489), (1588, 471), (1588, 1750), (1589, 1750), (1590, 648), (1590, 1410), (1590, 1816), (1590, 2087), (1591, 143), (1591, 240), (1591, 833), (1591, 912), (1591, 1666), (1591, 1671), (1591, 1712), (1592, 669), (1592, 1494), (1592, 1927), (1593, 1597), (1594, 249), (1594, 577), (1594, 1747), (1594, 1748), (1595, 249), (1596, 23), (1596, 844), (1597, 1205), (1597, 1593), (1597, 1696), (1598, 816), (1599, 1400), (1600, 206), (1600, 1362), (1601, 996), (1601, 1006), (1601, 1037), (1601, 1706), (1602, 1429), (1602, 1430), (1602, 1603), (1602, 1952), (1603, 598), (1603, 1397), (1603, 1509), (1603, 1510), (1603, 1602), (1603, 1894), (1604, 220), (1604, 343), (1604, 345), (1604, 425), (1604, 598), (1604, 1003), (1604, 1127), (1604, 1428), (1604, 1429), (1604, 1430), (1604, 1662), (1604, 2073), (1605, 115), (1605, 413), (1605, 798), (1605, 1094), (1605, 1235), (1605, 1938), (1606, 1852), (1607, 162), (1607, 630), (1607, 1609), (1607, 1894), (1608, 426), (1608, 1609), (1608, 1894), (1609, 1180), (1609, 1607), (1609, 1608), (1609, 1610), (1610, 662), (1610, 771), (1610, 1180), (1610, 1609), (1611, 804), (1611, 862), (1611, 1067), (1611, 1464), (1611, 1552), (1611, 1670), (1611, 1867), (1611, 1899), (1612, 805), (1612, 862), (1612, 963), (1612, 1271), (1612, 1464), (1613, 354), (1613, 941), (1613, 1151), (1613, 1842), (1613, 1999), (1614, 1178), (1614, 1750), (1614, 1774), (1615, 402), (1616, 589), (1617, 1171), (1617, 1619), (1618, 1619), (1619, 173), (1619, 1171), (1619, 1617), (1619, 1618), (1620, 116), (1620, 1747), (1621, 1314), (1621, 1622), (1622, 1621), (1623, 726), (1624, 590), (1624, 657), (1624, 1432), (1625, 389), (1626, 435), (1626, 456), (1626, 925), (1626, 1420), (1626, 1514), (1626, 1719), (1626, 1742), (1627, 42), (1627, 817), (1627, 1665), (1628, 58), (1628, 1978), (1629, 138), (1629, 658), (1629, 869), (1629, 870), (1629, 953), (1629, 1814), (1630, 38), (1630, 167), (1630, 354), (1630, 754), (1630, 1250), (1631, 36), (1631, 147), (1631, 607), (1631, 1152), (1631, 1632), (1632, 1631), (1632, 2015), (1633, 1355), (1633, 1634), (1633, 1635), (1633, 1817), (1634, 34), (1634, 85), (1634, 225), (1634, 439), (1634, 447), (1634, 1206), (1634, 1584), (1634, 1633), (1634, 1848), (1634, 1859), (1634, 2093), (1635, 225), (1635, 295), (1635, 359), (1635, 445), (1635, 595), (1635, 606), (1635, 614), (1635, 1001), (1635, 1182), (1635, 1206), (1635, 1446), (1635, 1523), (1635, 1633), (1635, 1699), (1635, 1817), (1635, 1930), (1635, 2065), (1635, 2093), (1636, 808), (1636, 1775), (1637, 406), (1637, 923), (1637, 924), (1637, 1576), (1638, 0), (1638, 654), (1639, 0), (1639, 654), (1639, 1133), (1640, 193), (1640, 1403), (1641, 1750), (1642, 1687), (1643, 1492), (1644, 246), (1644, 673), (1644, 1107), (1644, 1906), (1645, 246), (1645, 1498), (1646, 1647), (1647, 904), (1647, 1646), (1648, 228), (1648, 719), (1648, 1143), (1648, 1209), (1648, 1750), (1648, 1824), (1648, 1972), (1649, 319), (1649, 1480), (1650, 881), (1650, 1530), (1651, 1027), (1652, 493), (1652, 1700), (1653, 38), (1653, 459), (1653, 497), (1654, 464), (1654, 1139), (1655, 82), (1655, 1657), (1655, 1783), (1656, 1130), (1656, 1782), (1656, 1875), (1656, 1876), (1657, 82), (1657, 1533), (1657, 1655), (1657, 1692), (1657, 1783), (1658, 20), (1658, 629), (1659, 1267), (1659, 1766), (1659, 1903), (1660, 552), (1661, 233), (1661, 342), (1661, 1451), (1661, 1480), (1662, 598), (1662, 1604), (1663, 220), (1663, 595), (1663, 668), (1663, 1001), (1664, 1477), (1665, 420), (1665, 746), (1665, 818), (1665, 862), (1665, 863), (1665, 1342), (1665, 1343), (1665, 1456), (1665, 1465), (1665, 1466), (1665, 1627), (1665, 1669), (1666, 240), (1666, 953), (1666, 1591), (1667, 1576), (1667, 1668), (1668, 166), (1668, 668), (1668, 862), (1668, 1001), (1668, 1180), (1668, 1400), (1668, 1410), (1668, 1576), (1668, 1667), (1668, 1894), (1668, 2090), (1669, 1665), (1670, 684), (1670, 817), (1670, 862), (1670, 938), (1670, 1551), (1670, 1552), (1670, 1553), (1670, 1611), (1670, 1671), (1670, 1899), (1671, 1030), (1671, 1067), (1671, 1453), (1671, 1551), (1671, 1552), (1671, 1553), (1671, 1591), (1671, 1670), (1672, 564), (1672, 1172), (1673, 1348), (1673, 1675), (1673, 1687), (1674, 1228), (1674, 1348), (1674, 1675), (1674, 1687), (1675, 346), (1675, 1673), (1675, 1674), (1676, 1677), (1677, 376), (1677, 1387), (1677, 1676), (1677, 1703), (1678, 302), (1678, 562), (1678, 897), (1678, 954), (1678, 1105), (1678, 1706), (1678, 1878), (1679, 1574), (1680, 97), (1680, 211), (1681, 1126), (1682, 1683), (1683, 967), (1683, 1682), (1684, 45), (1684, 149), (1684, 932), (1684, 2076), (1685, 862), (1685, 883), (1686, 198), (1686, 760), (1686, 1526), (1686, 1910), (1687, 104), (1687, 314), (1687, 346), (1687, 464), (1687, 1076), (1687, 1348), (1687, 1494), (1687, 1642), (1687, 1673), (1687, 1674), (1687, 1689), (1687, 1750), (1687, 1751), (1687, 1803), (1687, 1849), (1688, 599), (1689, 314), (1689, 1494), (1689, 1687), (1689, 1750), (1689, 1751), (1689, 1803), (1690, 429), (1690, 972), (1690, 2088), (1691, 723), (1691, 1047), (1691, 1277), (1691, 1767), (1692, 82), (1692, 1286), (1692, 1657), (1693, 1694), (1694, 271), (1694, 431), (1694, 489), (1694, 515), (1694, 1349), (1694, 1480), (1694, 1550), (1694, 1693), (1694, 1737), (1694, 1861), (1694, 1962), (1694, 1964), (1694, 1994), (1694, 2064), (1694, 2067), (1694, 2075), (1694, 2107), (1695, 1320), (1696, 1318), (1696, 1597), (1696, 1697), (1697, 137), (1697, 1205), (1697, 1561), (1697, 1696), (1698, 835), (1698, 1869), (1699, 447), (1699, 720), (1699, 829), (1699, 1159), (1699, 1206), (1699, 1635), (1699, 1817), (1699, 1930), (1699, 2065), (1699, 2078), (1700, 1652), (1701, 24), (1701, 872), (1702, 688), (1703, 428), (1703, 683), (1703, 1677), (1704, 1942), (1705, 740), (1705, 822), (1705, 1563), (1706, 323), (1706, 363), (1706, 367), (1706, 369), (1706, 554), (1706, 631), (1706, 813), (1706, 890), (1706, 897), (1706, 898), (1706, 1002), (1706, 1006), (1706, 1601), (1706, 1678), (1706, 1837), (1707, 590), (1707, 1950), (1708, 1709), (1708, 2036), (1709, 1708), (1710, 2044), (1711, 476), (1711, 721), (1711, 1023), (1711, 1297), (1711, 1770), (1712, 727), (1712, 1591), (1713, 1750), (1713, 1900), (1714, 1266), (1714, 1947), (1715, 614), (1715, 620), (1715, 759), (1716, 34), (1716, 98), (1716, 109), (1716, 207), (1716, 519), (1716, 558), (1716, 622), (1716, 979), (1716, 989), (1716, 1210), (1716, 1273), (1716, 1584), (1717, 98), (1717, 1164), (1717, 1195), (1718, 477), (1718, 843), (1719, 1626), (1720, 441), (1720, 1160), (1721, 1392), (1721, 1724), (1721, 1858), (1722, 53), (1723, 1027), (1724, 1027), (1724, 1256), (1724, 1721), (1724, 2031), (1725, 90), (1725, 436), (1726, 722), (1726, 1220), (1726, 1793), (1727, 430), (1727, 942), (1728, 1390), (1728, 1730), (1729, 1390), (1729, 1730), (1730, 1728), (1730, 1729), (1731, 273), (1731, 433), (1731, 485), (1731, 854), (1731, 855), (1732, 1410), (1733, 1), (1733, 171), (1733, 305), (1733, 1543), (1733, 1790), (1734, 13), (1735, 598), (1735, 1348), (1736, 97), (1737, 1694), (1738, 64), (1738, 1128), (1739, 22), (1739, 368), (1739, 688), (1740, 685), (1740, 1194), (1740, 1433), (1741, 448), (1741, 1454), (1741, 1867), (1742, 451), (1742, 925), (1742, 1626), (1743, 1055), (1743, 1750), (1744, 41), (1745, 67), (1746, 7), (1746, 89), (1746, 1428), (1747, 37), (1747, 249), (1747, 823), (1747, 1594), (1747, 1620), (1747, 1748), (1748, 264), (1748, 1594), (1748, 1747), (1749, 423), (1749, 649), (1749, 1260), (1749, 1751), (1749, 1753), (1750, 57), (1750, 114), (1750, 120), (1750, 133), (1750, 142), (1750, 158), (1750, 212), (1750, 349), (1750, 449), (1750, 457), (1750, 461), (1750, 468), (1750, 486), (1750, 554), (1750, 695), (1750, 866), (1750, 887), (1750, 933), (1750, 934), (1750, 1022), (1750, 1055), (1750, 1058), (1750, 1076), (1750, 1077), (1750, 1096), (1750, 1097), (1750, 1101), (1750, 1139), (1750, 1216), (1750, 1247), (1750, 1248), (1750, 1249), (1750, 1476), (1750, 1494), (1750, 1515), (1750, 1516), (1750, 1534), (1750, 1588), (1750, 1589), (1750, 1614), (1750, 1641), (1750, 1648), (1750, 1687), (1750, 1689), (1750, 1713), (1750, 1743), (1750, 2033), (1750, 2056), (1750, 2059), (1750, 2060), (1750, 2081), (1751, 281), (1751, 791), (1751, 1058), (1751, 1066), (1751, 1687), (1751, 1689), (1751, 1749), (1751, 2056), (1751, 2059), (1751, 2060), (1751, 2061), (1752, 114), (1752, 1269), (1753, 709), (1753, 1260), (1753, 1749), (1754, 1506), (1754, 1755), (1755, 1137), (1755, 1376), (1755, 1377), (1755, 1754), (1756, 92), (1756, 1088), (1757, 1159), (1757, 1543), (1757, 1859), (1758, 767), (1759, 140), (1759, 206), (1760, 37), (1760, 823), (1760, 1838), (1760, 1950), (1761, 37), (1761, 823), (1761, 1838), (1762, 1179), (1762, 1390), (1762, 1897), (1763, 572), (1763, 660), (1764, 1765), (1765, 472), (1765, 1764), (1766, 1266), (1766, 1267), (1766, 1659), (1767, 387), (1767, 1574), (1767, 1691), (1767, 1905), (1767, 2082), (1768, 404), (1769, 18), (1769, 692), (1770, 174), (1770, 476), (1770, 928), (1770, 1023), (1770, 1220), (1770, 1462), (1770, 1524), (1770, 1711), (1770, 1771), (1771, 134), (1771, 255), (1771, 930), (1771, 1542), (1771, 1770), (1772, 1245), (1773, 1830), (1774, 779), (1774, 1614), (1774, 1791), (1775, 1392), (1775, 1636), (1776, 655), (1776, 1777), (1777, 1364), (1777, 1776), (1778, 123), (1778, 803), (1778, 1218), (1778, 1779), (1779, 1218), (1779, 1778), (1780, 213), (1780, 1442), (1781, 185), (1781, 295), (1781, 320), (1781, 1795), (1781, 1904), (1781, 2003), (1782, 603), (1782, 615), (1782, 1656), (1783, 82), (1783, 1655), (1783, 1657), (1784, 984), (1784, 1564), (1784, 1988), (1785, 4), (1785, 1324), (1786, 1007), (1786, 1790), (1786, 1795), (1786, 2077), (1787, 510), (1787, 1378), (1787, 1789), (1788, 171), (1788, 1790), (1788, 1894), (1789, 508), (1789, 631), (1789, 1787), (1790, 171), (1790, 231), (1790, 305), (1790, 1007), (1790, 1110), (1790, 1523), (1790, 1543), (1790, 1733), (1790, 1786), (1790, 1788), (1791, 416), (1791, 1774), (1791, 1792), (1791, 1793), (1792, 1791), (1793, 311), (1793, 360), (1793, 1726), (1793, 1791), (1794, 321), (1795, 107), (1795, 1111), (1795, 1162), (1795, 1781), (1795, 1786), (1795, 2077), (1796, 1478), (1796, 1798), (1797, 439), (1797, 626), (1797, 1832), (1798, 561), (1798, 1155), (1798, 1796), (1798, 1871), (1799, 768), (1799, 1800), (1800, 645), (1800, 786), (1800, 919), (1800, 1799), (1800, 2065), (1801, 37), (1801, 201), (1801, 458), (1801, 724), (1801, 823), (1801, 977), (1801, 1875), (1801, 1876), (1801, 1905), (1801, 1988), (1802, 156), (1802, 1877), (1803, 314), (1803, 1187), (1803, 1348), (1803, 1687), (1803, 1689), (1804, 1370), (1804, 1418), (1804, 1419), (1805, 1370), (1805, 1418), (1805, 1419), (1805, 1806), (1806, 19), (1806, 48), (1806, 125), (1806, 612), (1806, 696), (1806, 764), (1806, 922), (1806, 1012), (1806, 1063), (1806, 1316), (1806, 1418), (1806, 1805), (1806, 1940), (1807, 772), (1807, 1963), (1808, 79), (1808, 605), (1808, 1075), (1808, 1333), (1808, 1334), (1808, 1336), (1809, 19), (1809, 696), (1809, 1370), (1810, 1323), (1811, 177), (1811, 1014), (1812, 938), (1812, 1069), (1813, 361), (1813, 919), (1813, 2065), (1814, 507), (1814, 1629), (1815, 236), (1815, 1199), (1816, 520), (1816, 1590), (1817, 83), (1817, 447), (1817, 1206), (1817, 1633), (1817, 1635), (1817, 1699), (1818, 239), (1818, 519), (1818, 1210), (1819, 446), (1819, 1574), (1819, 1820), (1820, 446), (1820, 1819), (1821, 7), (1821, 987), (1821, 1828), (1822, 307), (1822, 1496), (1823, 77), (1823, 760), (1824, 1389), (1824, 1648), (1824, 2062), (1825, 1827), (1826, 251), (1826, 1827), (1827, 251), (1827, 1825), (1827, 1826), (1828, 987), (1828, 1821), (1829, 178), (1829, 375), (1829, 379), (1829, 383), (1829, 845), (1829, 920), (1829, 1322), (1829, 1499), (1829, 1523), (1829, 1977), (1829, 2072), (1829, 2096), (1830, 1388), (1830, 1390), (1830, 1391), (1830, 1487), (1830, 1773), (1830, 1975), (1831, 225), (1831, 444), (1831, 1543), (1831, 1859), (1832, 225), (1832, 444), (1832, 1225), (1832, 1543), (1832, 1797), (1832, 1859), (1833, 34), (1833, 207), (1833, 519), (1833, 1273), (1833, 1584), (1834, 610), (1835, 1539), (1836, 1904), (1837, 896), (1837, 1102), (1837, 1706), (1838, 37), (1838, 774), (1838, 823), (1838, 1760), (1838, 1761), (1838, 1839), (1839, 843), (1839, 1838), (1840, 307), (1840, 787), (1840, 1046), (1841, 567), (1841, 787), (1841, 1843), (1841, 1986), (1842, 862), (1842, 941), (1842, 1351), (1842, 1613), (1843, 307), (1843, 407), (1843, 723), (1843, 1046), (1843, 1841), (1843, 1905), (1843, 1985), (1843, 1986), (1843, 1988), (1844, 262), (1845, 587), (1845, 749), (1845, 955), (1846, 108), (1846, 324), (1846, 1131), (1846, 1409), (1847, 455), (1848, 85), (1848, 662), (1848, 1634), (1849, 1687), (1850, 1851), (1850, 1852), (1851, 1850), (1851, 1852), (1852, 840), (1852, 1606), (1852, 1850), (1852, 1851), (1853, 1156), (1854, 826), (1855, 1567), (1855, 1568), (1856, 479), (1856, 1289), (1857, 2055), (1858, 1721), (1858, 2109), (1859, 444), (1859, 595), (1859, 614), (1859, 1100), (1859, 1429), (1859, 1430), (1859, 1452), (1859, 1634), (1859, 1757), (1859, 1831), (1859, 1832), (1860, 71), (1860, 601), (1860, 620), (1860, 759), (1860, 806), (1860, 831), (1860, 988), (1861, 1694), (1862, 4), (1862, 38), (1862, 54), (1862, 354), (1862, 766), (1862, 885), (1862, 1324), (1862, 1468), (1862, 1999), (1863, 914), (1863, 1100), (1863, 1937), (1864, 1100), (1865, 1045), (1865, 1460), (1866, 1348), (1866, 1460), (1867, 640), (1867, 862), (1867, 962), (1867, 1271), (1867, 1611), (1867, 1741), (1867, 1933), (1868, 350), (1868, 1908), (1869, 1165), (1869, 1698), (1870, 481), (1870, 1356), (1870, 1437), (1871, 110), (1871, 1155), (1871, 1798), (1872, 74), (1872, 110), (1873, 63), (1873, 862), (1874, 3), (1874, 357), (1874, 604), (1874, 1992), (1875, 1656), (1875, 1801), (1875, 1876), (1875, 1904), (1875, 1905), (1876, 1656), (1876, 1801), (1876, 1875), (1876, 1904), (1876, 1905), (1877, 466), (1877, 1417), (1877, 1802), (1878, 1678), (1879, 645), (1880, 33), (1880, 153), (1880, 511), (1880, 830), (1881, 511), (1881, 1958), (1882, 876), (1882, 879), (1882, 1883), (1883, 1882), (1884, 600), (1884, 877), (1884, 1365), (1885, 620), (1885, 759), (1885, 1163), (1885, 1886), (1885, 2090), (1886, 620), (1886, 759), (1886, 1163), (1886, 1885), (1887, 1428), (1888, 339), (1888, 1482), (1889, 942), (1890, 826), (1891, 390), (1891, 437), (1891, 636), (1891, 1070), (1892, 1453), (1893, 602), (1893, 974), (1893, 1894), (1894, 162), (1894, 225), (1894, 343), (1894, 345), (1894, 602), (1894, 974), (1894, 975), (1894, 1003), (1894, 1100), (1894, 1410), (1894, 1428), (1894, 1429), (1894, 1430), (1894, 1452), (1894, 1523), (1894, 1603), (1894, 1607), (1894, 1608), (1894, 1668), (1894, 1788), (1894, 1893), (1894, 1952), (1894, 2078), (1895, 862), (1895, 1454), (1896, 369), (1896, 1036), (1896, 1517), (1897, 1390), (1897, 1762), (1898, 817), (1898, 862), (1898, 1551), (1898, 1553), (1899, 684), (1899, 817), (1899, 1551), (1899, 1553), (1899, 1611), (1899, 1670), (1900, 1713), (1901, 180), (1901, 1902), (1902, 1901), (1903, 1421), (1903, 1496), (1903, 1540), (1903, 1659), (1903, 1904), (1904, 213), (1904, 387), (1904, 515), (1904, 1275), (1904, 1539), (1904, 1540), (1904, 1781), (1904, 1836), (1904, 1875), (1904, 1876), (1904, 1903), (1904, 1905), (1904, 1942), (1904, 2107), (1905, 458), (1905, 567), (1905, 724), (1905, 977), (1905, 1177), (1905, 1767), (1905, 1801), (1905, 1843), (1905, 1875), (1905, 1876), (1905, 1904), (1905, 1988), (1906, 1644), (1907, 864), (1907, 947), (1908, 794), (1908, 846), (1908, 1084), (1908, 1868), (1908, 1938), (1909, 928), (1909, 929), (1910, 14), (1910, 106), (1910, 175), (1910, 198), (1910, 618), (1910, 740), (1910, 875), (1910, 1249), (1910, 1293), (1910, 1390), (1910, 1686), (1911, 425), (1912, 1285), (1912, 1961), (1913, 1914), (1913, 1938), (1913, 2050), (1914, 1913), (1914, 1915), (1915, 587), (1915, 1914), (1916, 1272), (1917, 287), (1917, 380), (1917, 382), (1917, 624), (1917, 651), (1917, 736), (1917, 737), (1917, 738), (1917, 2054), (1917, 2061), (1918, 141), (1919, 141), (1920, 129), (1921, 1230), (1922, 365), (1922, 1204), (1923, 1500), (1924, 817), (1924, 938), (1924, 1021), (1924, 1945), (1925, 781), (1925, 1285), (1926, 625), (1927, 1592), (1927, 2109), (1928, 1295), (1928, 2090), (1928, 2091), (1929, 953), (1930, 13), (1930, 83), (1930, 1355), (1930, 1635), (1930, 1699), (1930, 1931), (1930, 1957), (1931, 829), (1931, 1930), (1932, 234), (1932, 1446), (1933, 1867), (1934, 1348), (1935, 688), (1936, 1967), (1937, 526), (1937, 1863), (1938, 780), (1938, 1287), (1938, 1507), (1938, 1605), (1938, 1908), (1938, 1913), (1939, 225), (1939, 1225), (1940, 922), (1940, 1806), (1941, 1088), (1942, 1704), (1942, 1904), (1943, 371), (1944, 2107), (1945, 559), (1945, 575), (1945, 592), (1945, 655), (1945, 1021), (1945, 1924), (1945, 1946), (1946, 370), (1946, 655), (1946, 980), (1946, 1945), (1947, 1073), (1947, 1714), (1948, 1363), (1949, 862), (1950, 493), (1950, 569), (1950, 1276), (1950, 1277), (1950, 1707), (1950, 1760), (1951, 1981), (1952, 502), (1952, 602), (1952, 1397), (1952, 1602), (1952, 1894), (1952, 2078), (1953, 85), (1953, 1954), (1954, 227), (1954, 563), (1954, 625), (1954, 641), (1954, 1155), (1954, 1953), (1955, 1977), (1956, 253), (1957, 1930), (1958, 509), (1958, 871), (1958, 1881), (1959, 1409), (1960, 6), (1960, 97), (1960, 679), (1961, 1912), (1962, 1694), (1963, 486), (1963, 552), (1963, 857), (1963, 1378), (1963, 1807), (1964, 1694), (1965, 236), (1966, 337), (1966, 1327), (1967, 431), (1967, 1936), (1968, 320), (1969, 486), (1969, 564), (1969, 2044), (1970, 1423), (1971, 55), (1971, 1309), (1972, 1038), (1972, 1381), (1972, 1437), (1972, 1476), (1972, 1648), (1972, 2055), (1972, 2062), (1972, 2080), (1973, 582), (1973, 1289), (1974, 860), (1974, 1573), (1974, 1975), (1975, 1830), (1975, 1974), (1976, 126), (1976, 201), (1977, 141), (1977, 516), (1977, 1829), (1977, 1955), (1978, 121), (1978, 202), (1978, 704), (1978, 1068), (1978, 1321), (1978, 1628), (1979, 236), (1979, 1374), (1980, 866), (1980, 1055), (1980, 1981), (1980, 1982), (1980, 1983), (1981, 189), (1981, 1055), (1981, 1951), (1981, 1980), (1981, 1982), (1982, 865), (1982, 866), (1982, 1980), (1982, 1981), (1983, 1980), (1984, 1516), (1985, 1843), (1985, 1986), (1986, 1841), (1986, 1843), (1986, 1985), (1986, 1988), (1987, 1988), (1988, 278), (1988, 567), (1988, 1784), (1988, 1801), (1988, 1843), (1988, 1905), (1988, 1986), (1988, 1987), (1989, 1990), (1989, 2062), (1990, 165), (1990, 591), (1990, 1989), (1991, 27), (1991, 494), (1992, 357), (1992, 1366), (1992, 1464), (1992, 1874), (1993, 66), (1993, 838), (1993, 2048), (1994, 1694), (1995, 463), (1995, 971), (1995, 1053), (1996, 76), (1997, 739), (1997, 740), (1997, 1390), (1998, 14), (1998, 175), (1998, 247), (1999, 211), (1999, 362), (1999, 1613), (1999, 1862), (2000, 1026), (2000, 1027), (2000, 1282), (2001, 621), (2001, 874), (2001, 1010), (2002, 730), (2002, 769), (2002, 964), (2003, 43), (2003, 492), (2003, 1781), (2004, 452), (2004, 2005), (2005, 2004), (2006, 2107), (2007, 66), (2007, 253), (2007, 415), (2007, 906), (2007, 1072), (2007, 1158), (2007, 1231), (2008, 1407), (2008, 1408), (2009, 604), (2010, 894), (2010, 1427), (2011, 304), (2011, 763), (2011, 935), (2012, 0), (2012, 847), (2012, 1529), (2013, 1027), (2013, 1283), (2013, 1284), (2014, 273), (2014, 485), (2014, 853), (2015, 151), (2015, 619), (2015, 1079), (2015, 1319), (2015, 1481), (2015, 1554), (2015, 1632), (2015, 2084), (2015, 2085), (2016, 1360), (2017, 52), (2017, 764), (2018, 2062), (2019, 426), (2019, 1475), (2020, 882), (2020, 1184), (2020, 1503), (2021, 844), (2021, 1323), (2022, 2023), (2022, 2024), (2023, 456), (2023, 2022), (2024, 2022), (2025, 368), (2026, 1172), (2027, 2028), (2027, 2029), (2027, 2030), (2028, 2027), (2028, 2030), (2029, 2027), (2030, 506), (2030, 2027), (2030, 2028), (2031, 1027), (2031, 1283), (2031, 1724), (2032, 1204), (2032, 1283), (2033, 457), (2033, 1750), (2034, 122), (2035, 122), (2036, 289), (2036, 733), (2036, 1563), (2036, 1565), (2036, 1566), (2036, 1708), (2037, 880), (2037, 913), (2038, 46), (2038, 279), (2038, 688), (2038, 1227), (2038, 2046), (2039, 675), (2039, 1370), (2040, 36), (2040, 147), (2040, 391), (2040, 842), (2040, 873), (2040, 1152), (2040, 1511), (2041, 953), (2042, 1509), (2042, 2043), (2043, 1280), (2043, 1427), (2043, 2042), (2044, 24), (2044, 401), (2044, 1710), (2044, 1969), (2045, 643), (2046, 2038), (2047, 475), (2047, 860), (2048, 257), (2048, 1993), (2049, 888), (2049, 1178), (2050, 1472), (2050, 1913), (2051, 55), (2051, 804), (2051, 1067), (2052, 804), (2052, 1067), (2053, 334), (2053, 455), (2053, 1032), (2053, 1091), (2053, 1365), (2054, 990), (2054, 1242), (2054, 1917), (2055, 548), (2055, 554), (2055, 1036), (2055, 1038), (2055, 1311), (2055, 1388), (2055, 1517), (2055, 1544), (2055, 1569), (2055, 1857), (2055, 1972), (2055, 2056), (2056, 404), (2056, 1311), (2056, 1388), (2056, 1750), (2056, 1751), (2056, 2055), (2056, 2062), (2056, 2071), (2057, 2058), (2058, 791), (2058, 1300), (2058, 2057), (2059, 1750), (2059, 1751), (2060, 1750), (2060, 1751), (2061, 797), (2061, 1066), (2061, 1307), (2061, 1751), (2061, 1917), (2062, 165), (2062, 216), (2062, 531), (2062, 1038), (2062, 1145), (2062, 1346), (2062, 1363), (2062, 1388), (2062, 1389), (2062, 1569), (2062, 1824), (2062, 1972), (2062, 1989), (2062, 2018), (2062, 2056), (2062, 2080), (2063, 155), (2063, 229), (2064, 295), (2064, 1694), (2064, 2066), (2065, 83), (2065, 645), (2065, 1355), (2065, 1635), (2065, 1699), (2065, 1800), (2065, 1813), (2066, 1355), (2066, 2064), (2067, 295), (2067, 743), (2067, 744), (2067, 1694), (2068, 80), (2068, 441), (2068, 448), (2068, 619), (2068, 904), (2068, 1079), (2068, 1454), (2068, 1481), (2068, 1554), (2068, 2084), (2069, 1311), (2070, 2071), (2071, 2056), (2071, 2070), (2071, 2079), (2072, 178), (2072, 1499), (2072, 1829), (2073, 343), (2073, 707), (2073, 1604), (2074, 871), (2075, 1694), (2075, 2107), (2076, 1263), (2076, 1318), (2076, 1684), (2077, 1786), (2077, 1795), (2078, 1159), (2078, 1699), (2078, 1894), (2078, 1952), (2079, 1348), (2079, 1571), (2079, 2071), (2079, 2081), (2080, 1311), (2080, 1972), (2080, 2062), (2081, 1570), (2081, 1571), (2081, 1750), (2081, 2079), (2082, 824), (2082, 1767), (2083, 151), (2083, 181), (2083, 266), (2083, 268), (2083, 441), (2083, 1289), (2083, 1554), (2083, 2084), (2083, 2085), (2084, 80), (2084, 151), (2084, 181), (2084, 266), (2084, 268), (2084, 452), (2084, 1079), (2084, 1289), (2084, 1454), (2084, 1481), (2084, 1554), (2084, 2015), (2084, 2068), (2084, 2083), (2084, 2085), (2085, 181), (2085, 452), (2085, 619), (2085, 862), (2085, 1079), (2085, 1160), (2085, 1289), (2085, 1454), (2085, 1481), (2085, 1554), (2085, 2015), (2085, 2083), (2085, 2084), (2086, 36), (2086, 1152), (2087, 17), (2087, 837), (2087, 1590), (2088, 355), (2088, 363), (2088, 898), (2088, 1690), (2089, 564), (2089, 896), (2089, 1037), (2089, 1311), (2089, 1388), (2090, 17), (2090, 222), (2090, 316), (2090, 576), (2090, 804), (2090, 818), (2090, 1018), (2090, 1048), (2090, 1049), (2090, 1067), (2090, 1086), (2090, 1295), (2090, 1668), (2090, 1885), (2090, 1928), (2091, 144), (2091, 284), (2091, 576), (2091, 1018), (2091, 1080), (2091, 1358), (2091, 1423), (2091, 1928), (2092, 666), (2093, 220), (2093, 987), (2093, 1634), (2093, 1635), (2094, 238), (2094, 952), (2094, 1575), (2094, 2097), (2094, 2099), (2095, 1582), (2096, 377), (2096, 516), (2096, 1508), (2096, 1829), (2097, 951), (2097, 952), (2097, 2094), (2098, 187), (2098, 941), (2098, 1150), (2098, 1468), (2098, 1547), (2099, 180), (2099, 238), (2099, 951), (2099, 2094), (2100, 122), (2101, 664), (2101, 831), (2101, 1048), (2101, 1049), (2101, 1379), (2102, 122), (2102, 2103), (2103, 2102), (2104, 245), (2104, 2105), (2105, 245), (2105, 663), (2105, 2104), (2106, 976), (2107, 1694), (2107, 1904), (2107, 1944), (2107, 2006), (2107, 2075), (2108, 560), (2108, 725), (2108, 1311), (2108, 1388), (2108, 1437), (2108, 1515), (2108, 1534), (2109, 113), (2109, 669), (2109, 1027), (2109, 1350), (2109, 1858), (2109, 1927)]\n"
          ]
        }
      ]
    },
    {
      "cell_type": "code",
      "source": [
        "if keys_list == eeeeeeeedges_list:\n",
        "    print(\"The lists are exactly the same.\")\n",
        "else:\n",
        "    print(\"The lists are different.\")"
      ],
      "metadata": {
        "colab": {
          "base_uri": "https://localhost:8080/"
        },
        "id": "5EEL_45pSXJQ",
        "outputId": "af0b97c3-946a-4f67-c069-56d7a8efd5f9"
      },
      "execution_count": null,
      "outputs": [
        {
          "output_type": "stream",
          "name": "stdout",
          "text": [
            "The lists are exactly the same.\n"
          ]
        }
      ]
    },
    {
      "cell_type": "markdown",
      "source": [
        "Edge Importance: Higher scores indicate that the corresponding edge has a greater impact on the model's performance.\n",
        "\n",
        "\n",
        "\n",
        "so nodes for those nodes also important??  --> YES"
      ],
      "metadata": {
        "id": "qsIHFFCTdtfV"
      }
    },
    {
      "cell_type": "code",
      "source": [],
      "metadata": {
        "id": "WmM-jVCwFs7x"
      },
      "execution_count": null,
      "outputs": []
    },
    {
      "cell_type": "markdown",
      "source": [
        "#now work with edge scores\n"
      ],
      "metadata": {
        "id": "9IjTuDmHeY8_"
      }
    },
    {
      "cell_type": "code",
      "source": [
        "sorted_edge_scores = sorted(edge_scores.items(), key=lambda x: x[1], reverse=True)\n",
        "\n",
        "# Print sorted edge scores\n",
        "#for edge, score in sorted_edge_scores:\n",
        "#    print(f\"Edge: {edge}, Score: {score}\")"
      ],
      "metadata": {
        "id": "xskSqQLceyIF"
      },
      "execution_count": null,
      "outputs": []
    },
    {
      "cell_type": "code",
      "source": [
        "sorted_edge_scores[0]"
      ],
      "metadata": {
        "colab": {
          "base_uri": "https://localhost:8080/"
        },
        "id": "4XeQ1ju3fTe3",
        "outputId": "14cc0c3a-74c5-4aa7-b8ee-fb03f304e063"
      },
      "execution_count": null,
      "outputs": [
        {
          "output_type": "execute_result",
          "data": {
            "text/plain": [
              "((595, 1001), 0.13893985748291016)"
            ]
          },
          "metadata": {},
          "execution_count": 52
        }
      ]
    },
    {
      "cell_type": "code",
      "source": [
        "first_200_edges = sorted_edge_scores[:150]\n",
        "len(first_200_edges)"
      ],
      "metadata": {
        "colab": {
          "base_uri": "https://localhost:8080/"
        },
        "id": "FAeGd6MdhJFo",
        "outputId": "9937fe09-749e-41f3-ffc5-6edf712ea228"
      },
      "execution_count": null,
      "outputs": [
        {
          "output_type": "execute_result",
          "data": {
            "text/plain": [
              "150"
            ]
          },
          "metadata": {},
          "execution_count": 53
        }
      ]
    },
    {
      "cell_type": "code",
      "source": [
        "\n",
        "# Print the first 200 edges with their scores\n",
        "#for edge, score in first_200_edges:\n",
        "#    print(f\"Edge: {edge}, Score: {score}\")\n",
        "#\n",
        "\n",
        "first_200_edges = [edge for edge, _ in first_200_edges]\n",
        "print(first_200_edges)\n",
        "len(first_200_edges)"
      ],
      "metadata": {
        "colab": {
          "base_uri": "https://localhost:8080/"
        },
        "id": "qeFk1qHzglog",
        "outputId": "c88078bd-d0de-4323-ed04-c30fbddbe46e"
      },
      "execution_count": null,
      "outputs": [
        {
          "output_type": "stream",
          "name": "stdout",
          "text": [
            "[(595, 1001), (1109, 1523), (1713, 1750), (1338, 688), (64, 1001), (595, 220), (1750, 934), (630, 1429), (1076, 1750), (887, 1750), (133, 1750), (1022, 1750), (1588, 1750), (733, 2036), (317, 1144), (1750, 2033), (595, 1410), (595, 1859), (1750, 133), (151, 862), (1750, 1516), (1940, 1806), (332, 450), (595, 1635), (1434, 1195), (1461, 1327), (595, 1136), (1678, 1706), (1750, 449), (630, 1607), (1773, 1830), (1750, 212), (1749, 1751), (1204, 1564), (1753, 1749), (1001, 86), (1657, 82), (407, 1279), (1657, 1655), (1750, 1494), (1750, 866), (1436, 613), (1657, 1783), (1750, 1248), (1436, 1437), (427, 882), (31, 305), (595, 832), (1439, 880), (832, 950), (832, 948), (326, 1293), (2109, 1350), (380, 1341), (1422, 1423), (1678, 897), (1037, 423), (317, 702), (1750, 2059), (1750, 120), (1750, 887), (1657, 1533), (1750, 158), (595, 1663), (223, 787), (1749, 423), (380, 1272), (367, 1706), (1338, 524), (813, 1706), (1146, 1453), (1892, 1453), (981, 236), (1338, 1191), (1979, 236), (2109, 1027), (1439, 876), (332, 304), (1174, 1054), (1750, 1614), (832, 241), (1750, 1249), (1076, 1437), (1750, 1139), (392, 154), (392, 297), (820, 1027), (407, 1843), (1099, 154), (1099, 297), (1001, 1452), (317, 1400), (924, 1637), (709, 1753), (1750, 695), (1146, 1289), (1338, 1074), (1001, 1663), (1750, 1247), (1973, 1289), (1109, 1110), (1750, 457), (832, 833), (1476, 1750), (923, 1637), (2065, 1635), (1551, 817), (1514, 1626), (1750, 1687), (1551, 1067), (113, 1027), (433, 273), (936, 1067), (630, 286), (1260, 1749), (1706, 1837), (1439, 879), (423, 1749), (392, 1493), (1447, 1445), (1725, 90), (326, 557), (371, 90), (1750, 1515), (43, 389), (1338, 628), (1027, 119), (1001, 626), (1653, 459), (1653, 497), (1140, 1370), (961, 962), (1001, 660), (1344, 851), (1495, 1242), (1770, 174), (236, 1815), (305, 1543), (1001, 316), (1625, 389), (154, 1493), (297, 1493), (1753, 1260), (1338, 1333), (1546, 947), (460, 226), (2049, 888), (2036, 289), (1750, 1077), (380, 908)]\n"
          ]
        },
        {
          "output_type": "execute_result",
          "data": {
            "text/plain": [
              "150"
            ]
          },
          "metadata": {},
          "execution_count": 54
        }
      ]
    },
    {
      "cell_type": "code",
      "source": [
        "# Flatten the list and collect unique nodes\n",
        "first_200_edges_nodes = set(node for edge in first_200_edges for node in edge)\n",
        "\n",
        "print(first_200_edges_nodes)"
      ],
      "metadata": {
        "colab": {
          "base_uri": "https://localhost:8080/"
        },
        "id": "pepyJl7Vglqz",
        "outputId": "6e6b623a-e375-4d42-b521-5bdb11c5eea3"
      },
      "execution_count": null,
      "outputs": [
        {
          "output_type": "stream",
          "name": "stdout",
          "text": [
            "{2049, 1027, 1543, 1546, 2059, 524, 1037, 1551, 2065, 1564, 1054, 31, 1067, 43, 557, 1074, 1076, 1588, 1077, 2109, 64, 1607, 1099, 1614, 82, 595, 1109, 86, 1110, 1625, 1626, 90, 1635, 613, 1637, 1136, 113, 626, 1139, 628, 1653, 630, 1655, 1144, 1657, 120, 1146, 119, 1140, 1663, 133, 1678, 660, 1174, 151, 1687, 154, 158, 1191, 1706, 1195, 174, 688, 1713, 1204, 695, 1725, 702, 709, 212, 1749, 1750, 1751, 1753, 1242, 220, 733, 223, 1248, 1249, 1247, 226, 1770, 236, 1773, 1260, 241, 1783, 1272, 1279, 1289, 1293, 1806, 273, 787, 1815, 286, 289, 1830, 297, 813, 1837, 1327, 304, 305, 817, 1843, 820, 1333, 1338, 316, 317, 1341, 832, 833, 1344, 1859, 326, 1350, 332, 851, 1370, 862, 866, 1892, 876, 367, 880, 879, 882, 371, 887, 1400, 888, 380, 897, 1410, 389, 392, 908, 1422, 1423, 1940, 1429, 407, 1434, 923, 1436, 1437, 924, 1439, 1445, 934, 423, 936, 1447, 427, 1452, 1453, 433, 947, 948, 1461, 950, 1973, 1979, 449, 450, 961, 1476, 962, 457, 459, 460, 981, 1494, 1493, 1495, 1001, 1514, 1515, 1516, 2033, 497, 1523, 2036, 1533, 1022}\n"
          ]
        }
      ]
    },
    {
      "cell_type": "code",
      "source": [
        "len(first_200_edges_nodes)"
      ],
      "metadata": {
        "colab": {
          "base_uri": "https://localhost:8080/"
        },
        "id": "egpO66bqhEXh",
        "outputId": "fcd09dba-01e3-49a4-e4ed-af3e2caeb76e"
      },
      "execution_count": null,
      "outputs": [
        {
          "output_type": "execute_result",
          "data": {
            "text/plain": [
              "188"
            ]
          },
          "metadata": {},
          "execution_count": 56
        }
      ]
    },
    {
      "cell_type": "code",
      "source": [
        "import torch\n",
        "#nodes_negative_curv\n",
        "# Creating a dictionary with node indices as keys and their corresponding labels as values\n",
        "first_200_edges_nodes_label = {node: data.y[node].item() for node in first_200_edges_nodes}\n",
        "#curv_labels_dict = {node: data.y[node].item() for node in sorted_ricci_curvatures_edges_only_nodes}\n",
        "\n",
        "print(\"Node indices and their labels:\", first_200_edges_nodes_label)"
      ],
      "metadata": {
        "colab": {
          "base_uri": "https://localhost:8080/"
        },
        "id": "WLlVPntBh3zk",
        "outputId": "916d4aa7-c86e-47e2-d9f4-2839a73f917b"
      },
      "execution_count": null,
      "outputs": [
        {
          "output_type": "stream",
          "name": "stdout",
          "text": [
            "Node indices and their labels: {2049: 1, 1027: 1, 1543: 4, 1546: 0, 2059: 1, 524: 5, 1037: 1, 1551: 4, 2065: 4, 1564: 0, 1054: 5, 31: 5, 1067: 4, 43: 3, 557: 5, 1074: 5, 1076: 1, 1588: 1, 1077: 1, 2109: 1, 64: 2, 1607: 5, 1099: 2, 1614: 1, 82: 5, 595: 5, 1109: 5, 86: 4, 1110: 5, 1625: 3, 1626: 0, 90: 1, 1635: 2, 613: 1, 1637: 5, 1136: 4, 113: 1, 626: 5, 1139: 1, 628: 5, 1653: 2, 630: 5, 1655: 1, 1144: 4, 1657: 5, 120: 1, 1146: 4, 119: 1, 1140: 2, 1663: 4, 133: 1, 1678: 3, 660: 4, 1174: 5, 151: 4, 1687: 1, 154: 0, 158: 1, 1191: 5, 1706: 1, 1195: 4, 174: 1, 688: 5, 1713: 0, 1204: 0, 695: 1, 1725: 5, 702: 4, 709: 1, 212: 1, 1749: 1, 1750: 1, 1751: 1, 1753: 1, 1242: 0, 220: 2, 733: 0, 223: 3, 1248: 1, 1249: 1, 1247: 1, 226: 2, 1770: 1, 236: 5, 1773: 0, 1260: 1, 241: 4, 1783: 5, 1272: 2, 1279: 3, 1289: 4, 1293: 5, 1806: 1, 273: 2, 787: 3, 1815: 4, 286: 3, 289: 1, 1830: 1, 297: 2, 813: 1, 1837: 1, 1327: 5, 304: 4, 305: 4, 817: 4, 1843: 3, 820: 1, 1333: 5, 1338: 5, 316: 4, 317: 5, 1341: 2, 832: 1, 833: 4, 1344: 5, 1859: 5, 326: 0, 1350: 0, 332: 5, 851: 5, 1370: 2, 862: 4, 866: 1, 1892: 4, 876: 1, 367: 1, 880: 1, 879: 1, 882: 5, 371: 5, 887: 1, 1400: 4, 888: 1, 380: 2, 897: 1, 1410: 4, 389: 2, 392: 2, 908: 2, 1422: 2, 1423: 4, 1940: 1, 1429: 4, 407: 3, 1434: 5, 923: 5, 1436: 1, 1437: 1, 924: 5, 1439: 5, 1445: 5, 934: 1, 423: 1, 936: 4, 1447: 5, 427: 5, 1452: 4, 1453: 4, 433: 0, 947: 0, 948: 4, 1461: 5, 950: 4, 1973: 4, 1979: 2, 449: 1, 450: 4, 961: 2, 1476: 2, 962: 2, 457: 1, 459: 2, 460: 1, 981: 2, 1494: 0, 1493: 2, 1495: 0, 1001: 4, 1514: 5, 1515: 1, 1516: 1, 2033: 0, 497: 2, 1523: 5, 2036: 5, 1533: 5, 1022: 1}\n"
          ]
        }
      ]
    },
    {
      "cell_type": "code",
      "source": [],
      "metadata": {
        "id": "3QOdcVObhF3S"
      },
      "execution_count": null,
      "outputs": []
    },
    {
      "cell_type": "code",
      "source": [],
      "metadata": {
        "id": "ingGbu34hF9q"
      },
      "execution_count": null,
      "outputs": []
    },
    {
      "cell_type": "code",
      "source": [
        "orc = OllivierRicci(G)\n",
        "\n",
        "orc.compute_ricci_curvature()\n",
        "G_orc = orc.G.copy()  # save an intermediate result\n",
        "\n",
        "ricci_curvatures = nx.get_edge_attributes(orc.G, \"ricciCurvature\")\n",
        "\n",
        "\n",
        "ricci_curvatures_edges = [(edge, curvature) for edge, curvature in ricci_curvatures.items() if curvature < 0]\n",
        "\n",
        "sorted_ricci_curvatures_edges = sorted(ricci_curvatures_edges, key=lambda x: x[1], reverse=False)\n",
        "\n",
        "# Extract only the edges from selected_edges\n",
        "sorted_ricci_curvatures_edges_only = [edge for edge, _ in sorted_ricci_curvatures_edges]\n"
      ],
      "metadata": {
        "id": "PwF29BGysYKB"
      },
      "execution_count": null,
      "outputs": []
    },
    {
      "cell_type": "code",
      "execution_count": null,
      "metadata": {
        "colab": {
          "base_uri": "https://localhost:8080/"
        },
        "outputId": "1c7b2340-9d1d-41ea-d931-a0fc7dab5fdb",
        "id": "8zmif9y72dTP"
      },
      "outputs": [
        {
          "output_type": "stream",
          "name": "stdout",
          "text": [
            "{0, 1027, 516, 2056, 13, 2062, 2067, 1048, 1054, 1055, 2079, 2081, 543, 1056, 1058, 2085, 1574, 1063, 39, 2089, 551, 38, 1580, 1576, 2090, 1591, 1079, 2107, 2108, 64, 66, 1603, 1604, 1614, 80, 83, 85, 598, 89, 1629, 97, 98, 1635, 613, 620, 622, 1648, 114, 1139, 631, 1146, 122, 1661, 131, 1668, 645, 1671, 1159, 1164, 652, 1678, 655, 658, 660, 662, 1687, 664, 151, 1180, 1694, 670, 1187, 1706, 1195, 688, 1716, 1209, 186, 1216, 704, 707, 1220, 1221, 1226, 1739, 207, 1231, 211, 1749, 1750, 1751, 1243, 732, 220, 1246, 1249, 1767, 1770, 1263, 1778, 1781, 245, 759, 764, 253, 1279, 1795, 1285, 1806, 791, 1311, 803, 1829, 1830, 295, 1320, 1318, 1322, 304, 1842, 1335, 316, 320, 1345, 833, 1859, 1348, 1862, 1355, 850, 1363, 858, 860, 862, 354, 1891, 869, 1894, 875, 1388, 364, 1390, 878, 1904, 1392, 1389, 1910, 381, 896, 1410, 388, 1413, 390, 904, 1930, 908, 1423, 915, 1428, 404, 410, 1437, 1445, 937, 938, 425, 1452, 941, 1972, 1462, 1464, 953, 1978, 441, 447, 962, 450, 967, 1480, 1992, 1492, 1494, 2007, 472, 987, 988, 1509, 486, 1001, 489, 1516, 1008, 1010, 1523, 507}\n"
          ]
        }
      ],
      "source": [
        "# Flatten the list and collect unique nodes\n",
        "sorted_ricci_curvatures_edges_only_ = sorted_ricci_curvatures_edges_only[:160]\n",
        "sorted_ricci_curvatures_edges_only_nodes = set(node for edge in sorted_ricci_curvatures_edges_only_ for node in edge)\n",
        "\n",
        "print(sorted_ricci_curvatures_edges_only_nodes)"
      ]
    },
    {
      "cell_type": "code",
      "execution_count": null,
      "metadata": {
        "colab": {
          "base_uri": "https://localhost:8080/"
        },
        "outputId": "bb1d2963-d76d-4a18-983d-48f51a30825a",
        "id": "jG_t8Hho2dTR"
      },
      "outputs": [
        {
          "output_type": "stream",
          "name": "stdout",
          "text": [
            "Node indices and their labels: {0: 1, 1027: 1, 516: 5, 2056: 1, 13: 5, 2062: 1, 2067: 3, 1048: 4, 1054: 5, 1055: 1, 2079: 1, 2081: 1, 543: 4, 1056: 4, 1058: 1, 2085: 4, 1574: 1, 1063: 1, 39: 2, 2089: 1, 551: 1, 38: 2, 1580: 2, 1576: 5, 2090: 4, 1591: 4, 1079: 4, 2107: 3, 2108: 1, 64: 2, 66: 4, 1603: 4, 1604: 5, 1614: 1, 80: 4, 83: 5, 85: 5, 598: 0, 89: 5, 1629: 1, 97: 2, 98: 4, 1635: 2, 613: 1, 620: 4, 622: 5, 1648: 1, 114: 1, 1139: 1, 631: 1, 1146: 4, 122: 2, 1661: 3, 131: 4, 1668: 5, 645: 4, 1671: 4, 1159: 5, 1164: 2, 652: 5, 1678: 3, 655: 4, 658: 3, 660: 4, 662: 4, 1687: 1, 664: 4, 151: 4, 1180: 4, 1694: 3, 670: 2, 1187: 1, 1706: 1, 1195: 4, 688: 5, 1716: 4, 1209: 1, 186: 4, 1216: 1, 704: 2, 707: 2, 1220: 1, 1221: 1, 1226: 2, 1739: 5, 207: 4, 1231: 2, 211: 2, 1749: 1, 1750: 1, 1751: 1, 1243: 2, 732: 1, 220: 2, 1246: 4, 1249: 1, 1767: 3, 1770: 1, 1263: 1, 1778: 2, 1781: 3, 245: 5, 759: 5, 764: 1, 253: 1, 1279: 3, 1795: 5, 1285: 0, 1806: 1, 791: 1, 1311: 1, 803: 2, 1829: 4, 1830: 1, 295: 4, 1320: 4, 1318: 5, 1322: 4, 304: 4, 1842: 2, 1335: 5, 316: 4, 320: 3, 1345: 1, 833: 4, 1859: 5, 1348: 1, 1862: 4, 1355: 4, 850: 3, 1363: 1, 858: 1, 860: 1, 862: 4, 354: 2, 1891: 5, 869: 3, 1894: 4, 875: 1, 1388: 1, 364: 3, 1390: 1, 878: 1, 1904: 3, 1392: 1, 1389: 1, 1910: 0, 381: 4, 896: 1, 1410: 4, 388: 4, 1413: 1, 390: 5, 904: 4, 1930: 4, 908: 2, 1423: 4, 915: 5, 1428: 4, 404: 1, 410: 2, 1437: 1, 1445: 5, 937: 4, 938: 4, 425: 4, 1452: 4, 941: 2, 1972: 1, 1462: 3, 1464: 4, 953: 4, 1978: 2, 441: 4, 447: 5, 962: 2, 450: 4, 967: 2, 1480: 3, 1992: 4, 1492: 1, 1494: 0, 2007: 4, 472: 4, 987: 4, 988: 2, 1509: 4, 486: 1, 1001: 4, 489: 3, 1516: 1, 1008: 4, 1010: 4, 1523: 5, 507: 4}\n"
          ]
        }
      ],
      "source": [
        "import torch\n",
        "#nodes_negative_curv\n",
        "# Creating a dictionary with node indices as keys and their corresponding labels as values\n",
        "curv_labels_dict = {node: data.y[node].item() for node in sorted_ricci_curvatures_edges_only_nodes}\n",
        "\n",
        "print(\"Node indices and their labels:\", curv_labels_dict)\n"
      ]
    },
    {
      "cell_type": "code",
      "source": [
        "len(first_200_edges_nodes_label)"
      ],
      "metadata": {
        "colab": {
          "base_uri": "https://localhost:8080/"
        },
        "id": "0iI2KZXtiNAm",
        "outputId": "dcb400ca-28ba-45c2-e669-caf7cf84c4cd"
      },
      "execution_count": null,
      "outputs": [
        {
          "output_type": "execute_result",
          "data": {
            "text/plain": [
              "188"
            ]
          },
          "metadata": {},
          "execution_count": 61
        }
      ]
    },
    {
      "cell_type": "code",
      "source": [
        "len(curv_labels_dict)"
      ],
      "metadata": {
        "colab": {
          "base_uri": "https://localhost:8080/"
        },
        "id": "w6Mmj6rdiJUq",
        "outputId": "d86fc390-6e2d-4756-fc4d-4293a94aad2e"
      },
      "execution_count": null,
      "outputs": [
        {
          "output_type": "execute_result",
          "data": {
            "text/plain": [
              "195"
            ]
          },
          "metadata": {},
          "execution_count": 62
        }
      ]
    },
    {
      "cell_type": "code",
      "source": [
        "forming_edge_list = []\n",
        "\n",
        "# Desired number of edges to form\n",
        "desired_edges = 185\n",
        "\n",
        "# Create sets to keep track of connected nodes to ensure uniqueness\n",
        "connected_nodes_from_curv = set()\n",
        "connected_nodes_from_first_200 = set()\n",
        "\n",
        "# Iterate over nodes and try to form edges with the desired constraints\n",
        "for node1, label1 in curv_labels_dict.items():\n",
        "    for node2, label2 in first_200_edges_nodes_label.items():\n",
        "        # Check if the desired number of edges is already formed\n",
        "        if len(forming_edge_list) >= desired_edges:\n",
        "            break  # Exit the loop if we've formed the desired number of edges\n",
        "\n",
        "        # Ensure nodes have different labels and have not been previously connected\n",
        "        if label1 != label2 and node2 not in connected_nodes_from_first_200 and node1 not in connected_nodes_from_curv:\n",
        "            forming_edge_list.append((node1, node2))\n",
        "            connected_nodes_from_curv.add(node1)\n",
        "            connected_nodes_from_first_200.add(node2)\n",
        "\n",
        "# Verify if we have formed the desired number of edges\n",
        "if len(forming_edge_list) < desired_edges:\n",
        "    print(f\"Warning: Only {len(forming_edge_list)} edges were formed, which is less than the desired {desired_edges}.\")\n",
        "else:\n",
        "    print(f\"Successfully formed {desired_edges} edges.\")\n",
        "\n",
        "print(\"Formed edges:\", forming_edge_list)\n"
      ],
      "metadata": {
        "colab": {
          "base_uri": "https://localhost:8080/"
        },
        "id": "VZr_osEj2Dg7",
        "outputId": "c9e635f3-6f6d-423d-ea32-bce58598cd10"
      },
      "execution_count": null,
      "outputs": [
        {
          "output_type": "stream",
          "name": "stdout",
          "text": [
            "Successfully formed 185 edges.\n",
            "Formed edges: [(0, 1543), (1027, 1546), (516, 2049), (2056, 524), (13, 1027), (2062, 1551), (2067, 2059), (1048, 1037), (1054, 2065), (1055, 1564), (2079, 1054), (2081, 31), (543, 43), (1056, 557), (1058, 1067), (2085, 1074), (1574, 64), (1063, 1607), (39, 1076), (2089, 1099), (551, 82), (38, 1588), (1580, 1077), (1576, 2109), (2090, 1614), (1591, 595), (1079, 1109), (2107, 86), (2108, 1110), (64, 1625), (66, 1626), (1603, 90), (1604, 1635), (1614, 1637), (80, 613), (83, 1136), (85, 113), (598, 626), (89, 1139), (1629, 628), (97, 630), (98, 1653), (1635, 1655), (613, 1144), (620, 1657), (622, 120), (1648, 1146), (114, 1140), (1139, 1663), (631, 1678), (1146, 119), (122, 133), (1661, 660), (131, 1174), (1668, 151), (645, 1687), (1671, 154), (1159, 158), (1164, 1191), (652, 1706), (1678, 1195), (655, 174), (658, 688), (660, 1713), (662, 1204), (1687, 1725), (664, 695), (151, 709), (1180, 212), (1694, 702), (670, 1749), (1187, 1242), (1706, 220), (1195, 1750), (688, 1751), (1716, 1753), (1209, 733), (186, 223), (1216, 226), (704, 1248), (707, 1249), (1220, 236), (1221, 1773), (1226, 1247), (1739, 1770), (207, 1260), (1231, 241), (211, 1783), (1749, 1272), (1750, 1279), (1751, 1289), (1243, 1293), (732, 273), (220, 1806), (1246, 787), (1249, 1815), (1767, 289), (1770, 286), (1263, 297), (1778, 1830), (1781, 813), (245, 1837), (759, 304), (764, 1327), (253, 305), (1279, 817), (1795, 1843), (1285, 820), (1806, 1333), (791, 1338), (1311, 316), (803, 317), (1829, 1341), (1830, 833), (295, 832), (1320, 1344), (1318, 326), (1322, 1859), (304, 1350), (1842, 332), (1335, 1370), (316, 851), (320, 862), (1345, 1892), (833, 866), (1859, 876), (1348, 882), (1862, 367), (1355, 880), (850, 879), (1363, 371), (858, 1400), (860, 380), (862, 887), (354, 888), (1891, 897), (869, 1410), (1894, 389), (875, 392), (1388, 908), (364, 1422), (1390, 1423), (878, 1429), (1904, 1940), (1392, 407), (1389, 1434), (1910, 923), (381, 1436), (896, 924), (1410, 1437), (388, 1439), (1413, 1445), (390, 934), (904, 423), (1930, 1447), (908, 936), (1423, 427), (915, 1452), (1428, 433), (404, 1453), (410, 947), (1437, 948), (1445, 950), (937, 1461), (938, 1979), (425, 449), (1452, 961), (941, 1973), (1972, 450), (1462, 1476), (1464, 962), (953, 457), (1978, 460), (441, 459), (447, 981), (962, 1494), (450, 1493), (967, 1495), (1480, 1001), (1992, 1514), (1492, 2033), (1494, 1515), (2007, 1516), (472, 497), (987, 1523)]\n"
          ]
        }
      ]
    },
    {
      "cell_type": "code",
      "source": [
        "len(forming_edge_list)"
      ],
      "metadata": {
        "colab": {
          "base_uri": "https://localhost:8080/"
        },
        "id": "JjBqxUoN28VN",
        "outputId": "3211e909-5ca4-4670-dac8-ea10bf4b5d85"
      },
      "execution_count": null,
      "outputs": [
        {
          "output_type": "execute_result",
          "data": {
            "text/plain": [
              "185"
            ]
          },
          "metadata": {},
          "execution_count": 64
        }
      ]
    },
    {
      "cell_type": "code",
      "execution_count": null,
      "metadata": {
        "id": "yDYVkQeMwUcF"
      },
      "outputs": [],
      "source": []
    },
    {
      "cell_type": "markdown",
      "source": [
        "#vbnm"
      ],
      "metadata": {
        "id": "EQMLoboZkm1J"
      }
    },
    {
      "cell_type": "code",
      "source": [],
      "metadata": {
        "id": "mQ-y1NfKkmVw"
      },
      "execution_count": null,
      "outputs": []
    },
    {
      "cell_type": "code",
      "execution_count": null,
      "metadata": {
        "id": "Hyz1wlD8BiI3",
        "colab": {
          "base_uri": "https://localhost:8080/"
        },
        "outputId": "d9bf249e-1ed9-4209-8995-d22ccc854447"
      },
      "outputs": [
        {
          "output_type": "stream",
          "name": "stdout",
          "text": [
            "Merged edges: [(0, 253), (0, 285), (0, 850), (0, 894), (0, 1063), (0, 1222), (0, 1436), (0, 1437), (0, 1638), (0, 1639), (0, 2012), (1, 393), (1, 1523), (1, 1733), (2, 3), (2, 1357), (2, 1366), (3, 1874), (4, 488), (4, 712), (4, 734), (4, 982), (4, 1785), (4, 1862), (5, 56), (5, 635), (5, 650), (5, 652), (5, 1227), (5, 1368), (6, 354), (6, 754), (6, 756), (6, 1960), (7, 986), (7, 1746), (7, 1821), (8, 1320), (9, 726), (10, 412), (10, 990), (10, 1242), (11, 942), (12, 1231), (13, 207), (13, 521), (13, 617), (13, 1273), (13, 1362), (13, 1734), (13, 1930), (14, 106), (14, 175), (14, 247), (14, 1259), (14, 1910), (14, 1998), (15, 246), (16, 60), (16, 176), (16, 1392), (16, 1425), (17, 862), (17, 1289), (17, 2087), (17, 2090), (18, 1769), (19, 1806), (19, 1809), (20, 1658), (21, 121), (21, 135), (21, 376), (22, 368), (22, 1739), (23, 843), (23, 844), (23, 1166), (23, 1596), (24, 401), (24, 486), (24, 593), (24, 1168), (24, 1701), (24, 2044), (25, 862), (25, 940), (26, 81), (26, 741), (27, 858), (27, 1991), (28, 35), (28, 517), (28, 1122), (28, 1226), (29, 826), (29, 1579), (30, 132), (30, 244), (30, 683), (30, 964), (30, 1154), (30, 1233), (30, 1404), (31, 305), (32, 87), (32, 88), (32, 517), (32, 1226), (33, 1880), (34, 85), (34, 519), (34, 1634), (34, 1716), (34, 1833), (35, 1122), (35, 1226), (36, 187), (36, 1511), (36, 1631), (36, 2040), (36, 2086), (37, 777), (37, 1276), (37, 1277), (37, 1747), (37, 1760), (37, 1761), (37, 1801), (37, 1838), (38, 459), (38, 497), (38, 935), (38, 959), (38, 1630), (38, 1653), (38, 1862), (39, 169), (39, 761), (39, 1118), (39, 1154), (39, 1226), (39, 1417), (40, 451), (40, 895), (40, 1332), (41, 236), (41, 390), (41, 1744), (42, 1057), (42, 1353), (42, 1627), (43, 389), (43, 2003), (44, 1445), (45, 149), (45, 1280), (45, 1684), (46, 2038), (47, 571), (48, 1140), (48, 1141), (48, 1806), (49, 862), (50, 390), (51, 367), (52, 95), (52, 1117), (52, 2017), (53, 1027), (53, 1256), (53, 1392), (53, 1722), (54, 354), (54, 1862), (55, 1309), (55, 1971), (55, 2051), (56, 635), (56, 650), (56, 652), (56, 1335), (56, 1368), (57, 158), (57, 1750), (58, 1628), (59, 1038), (60, 1392), (61, 163), (62, 1225), (62, 1423), (63, 301), (63, 685), (63, 753), (63, 862), (63, 976), (63, 999), (63, 1254), (63, 1400), (63, 1454), (63, 1873), (64, 676), (64, 967), (64, 1001), (64, 1738), (65, 699), (65, 1462), (66, 329), (66, 864), (66, 881), (66, 1428), (66, 1993), (66, 2007), (67, 645), (67, 786), (67, 1745), (68, 645), (69, 336), (69, 1280), (70, 1480), (71, 186), (71, 664), (71, 806), (71, 988), (71, 1379), (71, 1426), (71, 1860), (72, 220), (72, 598), (72, 1152), (73, 865), (74, 110), (74, 1872), (75, 354), (75, 386), (76, 299), (76, 546), (76, 921), (76, 1246), (76, 1315), (76, 1996), (77, 1016), (77, 1823), (78, 354), (78, 885), (79, 1333), (79, 1368), (79, 1808), (80, 139), (80, 151), (80, 266), (80, 268), (80, 393), (80, 619), (80, 862), (80, 904), (80, 1079), (80, 1319), (80, 1481), (80, 1554), (80, 2068), (80, 2084), (82, 1533), (82, 1655), (82, 1657), (82, 1692), (82, 1783), (83, 295), (83, 359), (83, 445), (83, 1001), (83, 1054), (83, 1182), (83, 1446), (83, 1817), (83, 1930), (83, 2065), (84, 86), (84, 667), (85, 445), (85, 626), (85, 668), (85, 845), (85, 967), (85, 1001), (85, 1202), (85, 1261), (85, 1352), (85, 1355), (85, 1523), (85, 1584), (85, 1634), (85, 1848), (85, 1953), (86, 237), (86, 318), (86, 447), (86, 1001), (87, 88), (87, 1088), (88, 275), (88, 643), (88, 1088), (88, 1089), (89, 1246), (89, 1397), (89, 1429), (89, 1430), (89, 1452), (89, 1746), (90, 328), (90, 371), (90, 1184), (90, 1361), (90, 1503), (90, 1725), (91, 274), (91, 280), (91, 688), (91, 1074), (91, 1191), (91, 1333), (92, 200), (92, 1756), (93, 967), (94, 593), (95, 1152), (96, 1313), (97, 282), (97, 644), (97, 670), (97, 754), (97, 756), (97, 1680), (97, 1736), (97, 1960), (98, 448), (98, 819), (98, 1081), (98, 1195), (98, 1452), (98, 1454), (98, 1716), (98, 1717), (99, 1328), (100, 840), (100, 841), (101, 1064), (102, 354), (102, 885), (103, 488), (103, 597), (103, 885), (104, 235), (104, 1045), (104, 1348), (104, 1687), (105, 132), (105, 244), (105, 672), (105, 683), (105, 1108), (106, 247), (106, 618), (106, 740), (106, 1390), (106, 1910), (107, 1795), (108, 1846), (109, 207), (109, 414), (109, 450), (109, 534), (109, 702), (109, 948), (109, 1322), (109, 1716), (110, 1871), (110, 1872), (111, 1348), (112, 1580), (113, 1027), (113, 2109), (114, 369), (114, 378), (114, 442), (114, 889), (114, 1017), (114, 1299), (114, 1303), (114, 1389), (114, 1750), (114, 1752), (115, 846), (115, 1605), (116, 1620), (117, 338), (117, 1201), (118, 898), (118, 1186), (119, 1026), (119, 1027), (119, 1350), (120, 1750), (121, 1068), (121, 1152), (121, 1262), (121, 1321), (121, 1978), (122, 152), (122, 758), (122, 1111), (122, 1532), (122, 1580), (122, 2034), (122, 2035), (122, 2100), (122, 2102), (123, 1218), (123, 1778), (124, 205), (124, 1402), (125, 1316), (125, 1419), (125, 1806), (126, 1976), (127, 1524), (127, 1570), (128, 1099), (129, 1152), (129, 1575), (129, 1920), (130, 179), (130, 585), (131, 205), (131, 440), (131, 480), (131, 803), (131, 1126), (132, 292), (132, 683), (132, 729), (132, 1404), (132, 1417), (133, 1750), (134, 721), (134, 1771), (135, 681), (136, 1164), (136, 1403), (137, 1697), (138, 507), (138, 1629), (139, 268), (139, 904), (139, 1554), (140, 1759), (141, 269), (141, 1918), (141, 1919), (141, 1977), (142, 1750), (143, 1591), (144, 718), (144, 804), (144, 805), (144, 817), (144, 862), (144, 937), (144, 938), (144, 1000), (144, 1018), (144, 1019), (144, 1021), (144, 1067), (144, 1252), (144, 1289), (144, 1553), (144, 2091), (145, 1283), (146, 660), (147, 1631), (147, 2040), (148, 405), (148, 699), (149, 1280), (149, 1684), (150, 219), (151, 181), (151, 452), (151, 619), (151, 862), (151, 904), (151, 1079), (151, 1454), (151, 1481), (151, 1554), (151, 2015), (151, 2083), (151, 2084), (153, 1880), (154, 300), (154, 392), (154, 1098), (154, 1099), (154, 1493), (155, 430), (155, 848), (155, 1054), (155, 1505), (155, 2063), (156, 169), (156, 389), (156, 400), (156, 964), (156, 1108), (156, 1154), (156, 1233), (156, 1404), (156, 1802), (157, 448), (157, 684), (157, 862), (157, 893), (157, 938), (157, 1160), (157, 1452), (158, 1260), (158, 1750), (159, 1304), (159, 1305), (160, 946), (160, 1223), (161, 1120), (161, 1250), (162, 286), (162, 815), (162, 1429), (162, 1607), (162, 1894), (163, 1580), (164, 786), (165, 1990), (165, 2062), (166, 826), (166, 1668), (167, 385), (167, 459), (167, 497), (167, 1630), (168, 1564), (170, 1082), (170, 1083), (170, 1084), (171, 1149), (171, 1733), (171, 1788), (171, 1790), (172, 1502), (173, 1171), (173, 1619), (174, 926), (174, 930), (174, 1770), (175, 247), (175, 618), (175, 740), (175, 1390), (175, 1910), (175, 1998), (176, 233), (176, 503), (176, 551), (176, 1187), (176, 1348), (177, 1811), (178, 388), (178, 516), (178, 602), (178, 1829), (178, 2072), (179, 1572), (180, 1901), (180, 2099), (181, 266), (181, 441), (181, 655), (181, 1289), (181, 1481), (181, 1554), (181, 2083), (181, 2084), (181, 2085), (182, 723), (183, 219), (183, 1370), (184, 853), (185, 1781), (186, 601), (186, 620), (186, 664), (186, 759), (186, 804), (186, 805), (186, 831), (186, 988), (186, 1054), (186, 1067), (187, 1152), (187, 1468), (187, 2098), (188, 1311), (188, 1388), (188, 1569), (189, 467), (189, 1981), (190, 1413), (191, 1239), (192, 203), (192, 1313), (192, 1536), (193, 1640), (194, 1038), (195, 786), (196, 623), (196, 1498), (197, 1413), (198, 1526), (198, 1686), (198, 1910), (199, 979), (199, 1202), (200, 376), (200, 1582), (201, 1801), (201, 1976), (202, 707), (202, 842), (202, 1978), (203, 1313), (204, 1054), (204, 1110), (204, 1523), (206, 1600), (206, 1759), (207, 261), (207, 519), (207, 622), (207, 986), (207, 987), (207, 1322), (207, 1716), (207, 1833), (208, 610), (208, 982), (209, 670), (209, 682), (209, 995), (209, 1243), (209, 1469), (210, 1083), (211, 354), (211, 410), (211, 478), (211, 902), (211, 903), (211, 905), (211, 907), (211, 1198), (211, 1680), (211, 1999), (212, 1750), (213, 495), (213, 1780), (213, 1904), (214, 862), (214, 1386), (215, 618), (215, 1348), (216, 1544), (216, 2062), (217, 644), (217, 1479), (218, 819), (218, 862), (218, 1295), (218, 1452), (218, 1453), (218, 1454), (220, 595), (220, 614), (220, 987), (220, 988), (220, 1132), (220, 1222), (220, 1304), (220, 1604), (220, 1663), (220, 2093), (221, 848), (222, 395), (222, 2090), (223, 307), (223, 787), (223, 1046), (224, 1252), (225, 388), (225, 394), (225, 444), (225, 602), (225, 1634), (225, 1635), (225, 1831), (225, 1832), (225, 1894), (225, 1939), (226, 402), (226, 460), (227, 641), (227, 1954), (228, 1143), (228, 1145), (228, 1648), (229, 2063), (230, 383), (230, 920), (231, 1007), (231, 1149), (231, 1790), (232, 885), (233, 1425), (233, 1661), (234, 1446), (234, 1932), (236, 430), (236, 913), (236, 942), (236, 981), (236, 1815), (236, 1965), (236, 1979), (237, 318), (237, 667), (237, 1001), (238, 2094), (238, 2099), (239, 1210), (239, 1818), (240, 953), (240, 1591), (240, 1666), (241, 640), (241, 832), (241, 833), (241, 862), (241, 938), (241, 948), (241, 950), (242, 1193), (242, 1196), (242, 1443), (242, 1453), (243, 915), (243, 1288), (244, 292), (244, 683), (244, 729), (244, 1404), (244, 1417), (245, 622), (245, 629), (245, 663), (245, 2104), (245, 2105), (246, 1644), (246, 1645), (247, 740), (247, 1390), (247, 1998), (248, 645), (248, 796), (249, 1594), (249, 1595), (249, 1747), (250, 862), (250, 1454), (251, 689), (251, 1826), (251, 1827), (252, 282), (253, 1494), (253, 1956), (253, 2007), (254, 1423), (255, 1104), (255, 1771), (256, 1155), (256, 1156), (257, 828), (257, 838), (257, 2048), (258, 795), (259, 1139), (260, 606), (261, 614), (261, 817), (261, 862), (262, 379), (262, 1499), (262, 1844), (263, 331), (263, 333), (263, 340), (263, 353), (264, 955), (264, 1748), (265, 1177), (265, 1473), (266, 441), (266, 448), (266, 619), (266, 904), (266, 1079), (266, 1454), (266, 1481), (266, 1554), (266, 2083), (266, 2084), (267, 703), (267, 746), (268, 452), (268, 619), (268, 655), (268, 862), (268, 904), (268, 945), (268, 1079), (268, 1160), (268, 1454), (268, 1481), (268, 1554), (268, 2083), (268, 2084), (270, 509), (270, 871), (271, 1125), (271, 1694), (272, 601), (272, 620), (272, 759), (272, 831), (272, 1049), (273, 433), (273, 853), (273, 854), (273, 1731), (273, 2014), (274, 1074), (274, 1191), (275, 1118), (276, 1358), (277, 337), (277, 1327), (278, 984), (278, 1564), (278, 1988), (279, 1227), (279, 1333), (279, 2038), (281, 732), (281, 1751), (283, 1221), (284, 1081), (284, 2091), (286, 630), (286, 1225), (287, 1917), (288, 852), (289, 1563), (289, 2036), (290, 318), (290, 1001), (291, 740), (293, 1187), (293, 1405), (294, 888), (295, 743), (295, 1635), (295, 1781), (295, 2064), (295, 2067), (296, 1541), (297, 300), (297, 392), (297, 1098), (297, 1099), (297, 1493), (298, 611), (298, 969), (299, 1371), (300, 1493), (302, 850), (302, 1678), (303, 1296), (304, 332), (304, 763), (304, 987), (304, 2011), (305, 1543), (305, 1733), (305, 1790), (306, 1447), (306, 1448), (307, 1286), (307, 1822), (307, 1840), (307, 1843), (308, 1320), (309, 977), (310, 432), (311, 700), (311, 722), (311, 927), (311, 1220), (311, 1541), (311, 1793), (312, 1409), (313, 786), (314, 1348), (314, 1687), (314, 1689), (314, 1803), (315, 354), (316, 598), (316, 668), (316, 1001), (316, 1128), (316, 2090), (317, 702), (317, 1144), (317, 1400), (317, 1401), (318, 667), (319, 1649), (320, 1290), (320, 1291), (320, 1292), (320, 1781), (320, 1968), (321, 438), (321, 837), (321, 1794), (322, 436), (323, 1706), (324, 1131), (324, 1279), (324, 1846), (325, 697), (326, 557), (326, 1293), (327, 546), (327, 549), (327, 1040), (327, 1246), (327, 1501), (328, 1237), (329, 668), (329, 1001), (330, 782), (331, 1236), (332, 450), (332, 873), (333, 1236), (334, 2053), (335, 1178), (336, 1280), (337, 919), (337, 1480), (337, 1966), (338, 732), (339, 1484), (339, 1888), (340, 1236), (340, 1437), (341, 719), (341, 827), (341, 1278), (341, 1483), (341, 1484), (342, 993), (342, 1661), (343, 707), (343, 1604), (343, 1894), (343, 2073), (344, 668), (344, 782), (344, 783), (344, 1001), (345, 707), (345, 1604), (345, 1894), (346, 1348), (346, 1675), (346, 1687), (347, 742), (347, 896), (348, 1003), (349, 1025), (349, 1750), (350, 782), (350, 992), (350, 1082), (350, 1373), (350, 1868), (351, 1138), (352, 1038), (352, 1517), (353, 1236), (354, 362), (354, 678), (354, 885), (354, 941), (354, 1243), (354, 1572), (354, 1613), (354, 1630), (354, 1862), (355, 363), (355, 898), (355, 2088), (356, 896), (356, 1002), (356, 1041), (357, 1874), (357, 1992), (358, 1462), (359, 1446), (359, 1635), (360, 700), (360, 1220), (360, 1793), (361, 919), (361, 1240), (361, 1813), (362, 1572), (362, 1999), (363, 369), (363, 631), (363, 896), (363, 970), (363, 1706), (363, 2088), (364, 787), (364, 901), (364, 1177), (364, 1279), (364, 1306), (365, 1922), (366, 373), (366, 1362), (367, 1002), (367, 1042), (367, 1139), (367, 1706), (368, 1739), (368, 2025), (369, 537), (369, 896), (369, 898), (369, 1706), (369, 1896), (370, 862), (370, 980), (370, 1946), (371, 1943), (372, 993), (374, 1582), (375, 516), (375, 565), (375, 1829), (376, 968), (376, 1677), (377, 1508), (377, 2096), (378, 537), (379, 1499), (379, 1829), (380, 382), (380, 736), (380, 737), (380, 908), (380, 1272), (380, 1341), (380, 1917), (381, 452), (381, 619), (381, 707), (381, 1079), (382, 737), (382, 908), (382, 1272), (382, 1341), (382, 1917), (383, 516), (383, 1829), (384, 862), (384, 1253), (387, 1767), (387, 1904), (388, 602), (388, 655), (388, 1180), (388, 1195), (389, 1154), (389, 1625), (390, 942), (390, 1318), (390, 1445), (390, 1576), (390, 1891), (391, 949), (391, 2040), (392, 1493), (393, 619), (393, 655), (393, 862), (393, 904), (393, 1079), (393, 1454), (393, 1481), (393, 1554), (394, 655), (394, 862), (394, 987), (394, 1021), (396, 792), (396, 803), (397, 1113), (398, 862), (398, 1454), (399, 862), (399, 1454), (400, 654), (400, 1345), (401, 1185), (401, 1216), (401, 2044), (402, 1549), (402, 1615), (403, 640), (403, 655), (403, 1052), (403, 1144), (404, 1251), (404, 1574), (404, 1768), (404, 2056), (405, 699), (406, 1637), (407, 1279), (407, 1843), (408, 1497), (409, 654), (410, 902), (410, 908), (410, 1171), (411, 1114), (412, 454), (413, 1605), (414, 622), (414, 1322), (415, 802), (415, 2007), (416, 1791), (417, 1380), (417, 1517), (418, 1369), (419, 1497), (420, 655), (420, 817), (420, 862), (420, 938), (420, 989), (420, 1271), (420, 1342), (420, 1665), (421, 1271), (422, 658), (423, 649), (423, 694), (423, 791), (423, 1037), (423, 1077), (423, 1749), (424, 660), (424, 1181), (425, 585), (425, 778), (425, 1213), (425, 1310), (425, 1604), (425, 1911), (426, 1608), (426, 2019), (427, 882), (428, 1129), (428, 1703), (429, 1055), (429, 1690), (430, 1054), (430, 1727), (431, 1694), (431, 1967), (432, 1138), (432, 1562), (433, 855), (433, 1063), (433, 1731), (434, 888), (434, 1058), (435, 1457), (435, 1626), (436, 455), (436, 1406), (436, 1725), (437, 1891), (439, 1634), (439, 1797), (441, 862), (441, 1720), (441, 2068), (441, 2083), (442, 537), (443, 535), (443, 542), (443, 547), (444, 1225), (444, 1543), (444, 1831), (444, 1832), (444, 1859), (445, 447), (445, 1352), (445, 1355), (445, 1396), (445, 1635), (446, 1819), (446, 1820), (447, 606), (447, 668), (447, 937), (447, 1001), (447, 1182), (447, 1195), (447, 1355), (447, 1634), (447, 1699), (447, 1817), (448, 685), (448, 862), (448, 1194), (448, 1433), (448, 1453), (448, 1485), (448, 1741), (448, 2068), (449, 1750), (450, 622), (450, 862), (450, 1092), (451, 456), (451, 966), (451, 1263), (451, 1742), (452, 904), (452, 1132), (452, 1223), (452, 1385), (452, 1440), (452, 1452), (452, 1481), (452, 2004), (452, 2084), (452, 2085), (453, 1172), (454, 707), (454, 1161), (455, 1406), (455, 1847), (455, 2053), (456, 925), (456, 1263), (456, 1332), (456, 1626), (456, 2023), (457, 1750), (457, 2033), (458, 724), (458, 891), (458, 1276), (458, 1801), (458, 1905), (459, 956), (459, 959), (459, 1653), (460, 770), (460, 1050), (461, 1750), (462, 1431), (462, 1445), (463, 539), (463, 1053), (463, 1265), (463, 1995), (464, 1105), (464, 1654), (464, 1687), (465, 863), (465, 1021), (466, 1154), (466, 1877), (468, 887), (468, 1390), (468, 1750), (469, 1269), (470, 604), (471, 1586), (471, 1587), (471, 1588), (472, 601), (472, 831), (472, 904), (472, 950), (472, 1765), (473, 590), (474, 1574), (475, 860), (475, 2047), (476, 1023), (476, 1711), (476, 1770), (477, 1718), (478, 903), (479, 1549), (479, 1856), (481, 1356), (481, 1870), (482, 896), (483, 1264), (483, 1332), (484, 862), (484, 1215), (485, 853), (485, 854), (485, 1731), (485, 2014), (486, 579), (486, 856), (486, 857), (486, 858), (486, 1221), (486, 1378), (486, 1750), (486, 1963), (486, 1969), (487, 551), (487, 618), (487, 1390), (488, 1324), (489, 798), (489, 1407), (489, 1694), (490, 701), (490, 818), (491, 941), (491, 956), (491, 957), (492, 2003), (493, 1652), (493, 1950), (494, 1360), (494, 1991), (495, 1442), (496, 1056), (496, 1137), (497, 956), (497, 959), (497, 1653), (498, 1044), (499, 927), (500, 1038), (500, 1388), (501, 790), (501, 1345), (502, 1952), (503, 623), (503, 1425), (504, 1388), (505, 1519), (505, 1520), (505, 1521), (506, 862), (506, 938), (506, 2030), (507, 658), (507, 869), (507, 870), (507, 953), (507, 1814), (508, 1330), (508, 1331), (508, 1789), (509, 751), (509, 871), (509, 1958), (510, 1378), (510, 1787), (511, 1880), (511, 1881), (512, 1406), (513, 655), (513, 1427), (514, 1242), (514, 1285), (514, 1495), (515, 1694), (515, 1904), (516, 845), (516, 920), (516, 1322), (516, 1499), (516, 1523), (516, 1977), (516, 2096), (518, 862), (518, 1424), (519, 979), (519, 1210), (519, 1584), (519, 1716), (519, 1818), (519, 1833), (520, 1816), (521, 826), (521, 851), (522, 1295), (523, 862), (524, 688), (524, 1074), (524, 1075), (524, 1191), (524, 1333), (524, 1337), (524, 1338), (524, 1339), (525, 688), (526, 1937), (527, 1466), (528, 1452), (529, 1229), (529, 1424), (530, 1155), (531, 1311), (531, 2062), (532, 1574), (533, 832), (533, 974), (534, 622), (534, 1354), (535, 662), (535, 691), (536, 1303), (537, 889), (537, 1017), (537, 1299), (537, 1303), (538, 862), (538, 1424), (539, 1053), (539, 1265), (540, 1171), (541, 892), (541, 1372), (542, 662), (542, 691), (543, 656), (543, 862), (543, 900), (544, 1020), (544, 1171), (545, 817), (545, 862), (545, 1193), (546, 1040), (546, 1246), (546, 1531), (547, 662), (547, 691), (548, 2055), (550, 1271), (551, 1043), (551, 1348), (551, 1425), (551, 1462), (552, 857), (552, 1221), (552, 1294), (552, 1378), (552, 1660), (552, 1963), (553, 888), (553, 1311), (553, 1388), (554, 1706), (554, 1750), (554, 2055), (555, 1234), (556, 1234), (556, 1527), (557, 1293), (558, 979), (558, 1203), (558, 1210), (558, 1458), (558, 1716), (559, 817), (559, 862), (559, 938), (559, 1021), (559, 1144), (559, 1945), (560, 1492), (560, 2108), (561, 1798), (562, 767), (562, 1678), (563, 1954), (564, 1672), (564, 1969), (564, 2089), (566, 1457), (567, 583), (567, 1841), (567, 1905), (567, 1988), (568, 862), (568, 1424), (569, 1950), (570, 859), (571, 1437), (572, 684), (572, 817), (572, 832), (572, 937), (572, 1069), (572, 1400), (572, 1401), (572, 1454), (572, 1551), (572, 1763), (573, 1270), (573, 1471), (574, 654), (575, 817), (575, 862), (575, 938), (575, 1021), (575, 1144), (575, 1945), (576, 1080), (576, 1512), (576, 1577), (576, 2090), (576, 2091), (577, 827), (577, 1594), (578, 862), (579, 1378), (580, 751), (581, 953), (582, 1973), (584, 640), (584, 1474), (585, 1013), (586, 1549), (587, 1845), (587, 1915), (588, 1164), (588, 1195), (589, 698), (589, 879), (589, 1616), (590, 657), (590, 1624), (590, 1707), (591, 1990), (592, 817), (592, 862), (592, 938), (592, 1021), (592, 1144), (592, 1945), (593, 654), (594, 1092), (595, 614), (595, 832), (595, 1001), (595, 1136), (595, 1410), (595, 1635), (595, 1663), (595, 1859), (596, 801), (597, 885), (598, 637), (598, 704), (598, 776), (598, 909), (598, 910), (598, 911), (598, 987), (598, 1180), (598, 1428), (598, 1603), (598, 1604), (598, 1662), (598, 1735), (599, 1494), (599, 1688), (600, 1884), (601, 1048), (601, 1049), (601, 1183), (601, 1379), (601, 1860), (602, 668), (602, 1428), (602, 1523), (602, 1893), (602, 1894), (602, 1952), (603, 615), (603, 1782), (604, 1874), (604, 2009), (605, 1808), (606, 1635), (607, 1631), (608, 788), (609, 1173), (609, 1400), (610, 1834), (611, 768), (611, 969), (612, 1806), (613, 1026), (613, 1027), (613, 1283), (613, 1348), (613, 1350), (613, 1436), (614, 640), (614, 702), (614, 1001), (614, 1067), (614, 1635), (614, 1715), (614, 1859), (615, 1782), (616, 928), (616, 929), (617, 1340), (618, 1526), (618, 1910), (619, 999), (619, 1295), (619, 1452), (619, 2015), (619, 2068), (619, 2085), (620, 991), (620, 1001), (620, 1163), (620, 1211), (620, 1212), (620, 1379), (620, 1715), (620, 1860), (620, 1885), (620, 1886), (621, 2001), (622, 702), (622, 948), (622, 1322), (622, 1716), (623, 810), (623, 1498), (623, 1557), (623, 1558), (624, 735), (624, 797), (624, 1917), (625, 1156), (625, 1926), (625, 1954), (626, 1001), (626, 1202), (626, 1797), (627, 665), (628, 688), (628, 1074), (628, 1191), (628, 1333), (628, 1337), (628, 1338), (628, 1339), (629, 1658), (630, 815), (630, 1429), (630, 1607), (631, 898), (631, 899), (631, 1221), (631, 1706), (631, 1789), (632, 1311), (633, 1201), (634, 688), (634, 1333), (636, 1327), (636, 1891), (637, 704), (638, 915), (638, 918), (638, 1523), (639, 688), (640, 805), (640, 950), (640, 1001), (640, 1452), (640, 1867), (641, 1954), (642, 688), (643, 2045), (645, 693), (645, 786), (645, 1079), (645, 1325), (645, 1800), (645, 1879), (645, 2065), (646, 1155), (646, 1156), (647, 1141), (647, 1142), (648, 1470), (648, 1590), (649, 757), (649, 1414), (649, 1438), (649, 1749), (650, 652), (650, 1227), (650, 1368), (651, 1285), (651, 1917), (652, 688), (652, 1085), (653, 1523), (654, 1638), (654, 1639), (655, 717), (655, 755), (655, 805), (655, 950), (655, 989), (655, 1000), (655, 1019), (655, 1048), (655, 1067), (655, 1238), (655, 1310), (655, 1343), (655, 1410), (655, 1426), (655, 1440), (655, 1466), (655, 1552), (655, 1776), (655, 1945), (655, 1946), (657, 1624), (658, 869), (658, 870), (658, 1363), (658, 1629), (659, 1231), (660, 1001), (660, 1181), (660, 1182), (660, 1763), (661, 665), (662, 1008), (662, 1112), (662, 1257), (662, 1320), (662, 1523), (662, 1610), (662, 1848), (663, 2105), (664, 953), (664, 1379), (664, 2101), (665, 764), (665, 1031), (665, 1382), (665, 1383), (666, 920), (666, 939), (666, 2092), (668, 1052), (668, 1136), (668, 1568), (668, 1663), (668, 1668), (669, 1592), (669, 2109), (670, 1217), (670, 1244), (671, 1073), (672, 1108), (673, 1644), (674, 997), (674, 1357), (675, 965), (675, 1418), (675, 2039), (677, 835), (679, 1559), (679, 1960), (680, 898), (683, 1417), (683, 1703), (684, 817), (684, 937), (684, 938), (684, 1552), (684, 1670), (684, 1899), (685, 862), (685, 1453), (685, 1740), (686, 1320), (687, 766), (688, 1075), (688, 1192), (688, 1312), (688, 1333), (688, 1334), (688, 1335), (688, 1338), (688, 1339), (688, 1502), (688, 1702), (688, 1739), (688, 1935), (688, 2038), (689, 1232), (690, 915), (690, 1312), (691, 915), (691, 916), (691, 1288), (692, 915), (692, 916), (692, 1232), (692, 1288), (692, 1369), (692, 1769), (694, 1285), (695, 1750), (696, 1806), (696, 1809), (697, 1122), (697, 1226), (701, 1258), (702, 1069), (702, 1196), (702, 1454), (704, 705), (704, 706), (704, 1978), (705, 706), (707, 741), (707, 2073), (708, 711), (709, 711), (709, 1348), (709, 1390), (709, 1753), (710, 711), (710, 1348), (710, 1390), (712, 885), (712, 1324), (713, 715), (713, 1053), (713, 1573), (714, 1053), (714, 1573), (715, 1573), (716, 888), (716, 1300), (717, 862), (718, 862), (718, 1018), (718, 1252), (719, 1648), (720, 1699), (721, 928), (721, 1023), (721, 1407), (721, 1463), (721, 1711), (722, 1395), (722, 1726), (723, 977), (723, 1189), (723, 1691), (723, 1843), (724, 977), (724, 1539), (724, 1801), (724, 1905), (725, 1516), (725, 1528), (725, 1529), (725, 2108), (726, 1261), (726, 1623), (727, 1712), (728, 1137), (730, 2002), (731, 1428), (732, 1061), (732, 1062), (732, 1063), (733, 2036), (734, 982), (734, 1324), (735, 737), (735, 908), (735, 1272), (735, 1341), (736, 737), (736, 908), (736, 1272), (736, 1341), (736, 1917), (737, 797), (737, 908), (737, 1242), (737, 1272), (737, 1341), (737, 1917), (738, 908), (738, 1272), (738, 1341), (738, 1917), (739, 1293), (739, 1390), (739, 1997), (740, 1390), (740, 1705), (740, 1910), (740, 1997), (742, 1388), (743, 2067), (744, 2067), (745, 1556), (745, 1557), (746, 938), (746, 1252), (746, 1665), (747, 750), (748, 1492), (749, 750), (749, 1845), (752, 860), (752, 1581), (754, 756), (754, 765), (754, 839), (754, 1630), (755, 862), (755, 1253), (756, 765), (756, 839), (757, 1414), (759, 991), (759, 1001), (759, 1163), (759, 1211), (759, 1212), (759, 1379), (759, 1715), (759, 1860), (759, 1885), (759, 1886), (760, 1245), (760, 1565), (760, 1686), (760, 1823), (762, 1058), (763, 2011), (764, 1013), (764, 1806), (764, 2017), (766, 1862), (767, 1758), (768, 1799), (769, 2002), (771, 1610), (772, 1471), (772, 1807), (773, 775), (773, 776), (774, 1124), (774, 1838), (777, 823), (779, 1774), (780, 1938), (781, 947), (781, 1925), (782, 1082), (783, 992), (784, 1543), (785, 1432), (786, 795), (786, 1079), (786, 1385), (786, 1435), (786, 1800), (787, 1177), (787, 1306), (787, 1840), (787, 1841), (788, 1014), (789, 1010), (790, 1488), (791, 1308), (791, 1348), (791, 1751), (791, 2058), (792, 793), (792, 799), (792, 803), (793, 803), (793, 1176), (794, 1084), (794, 1908), (795, 1079), (795, 1385), (796, 1196), (796, 1197), (796, 1295), (797, 1066), (797, 1285), (797, 1307), (797, 2061), (798, 1605), (799, 803), (799, 896), (800, 801), (800, 802), (800, 803), (802, 803), (802, 902), (803, 808), (803, 809), (803, 1176), (803, 1778), (804, 805), (804, 817), (804, 862), (804, 938), (804, 1021), (804, 1553), (804, 1611), (804, 2051), (804, 2052), (804, 2090), (805, 862), (805, 1551), (805, 1553), (805, 1612), (806, 1860), (807, 808), (807, 809), (807, 978), (808, 809), (808, 1636), (810, 811), (812, 1128), (813, 814), (813, 899), (813, 1706), (815, 1225), (815, 1429), (816, 862), (816, 1598), (817, 818), (817, 852), (817, 938), (817, 989), (817, 1000), (817, 1018), (817, 1019), (817, 1021), (817, 1067), (817, 1069), (817, 1092), (817, 1095), (817, 1147), (817, 1410), (817, 1452), (817, 1456), (817, 1464), (817, 1551), (817, 1552), (817, 1627), (817, 1670), (817, 1898), (817, 1899), (817, 1924), (818, 938), (818, 1665), (818, 2090), (819, 1454), (819, 1455), (820, 1027), (821, 1027), (822, 1015), (822, 1016), (822, 1705), (823, 1276), (823, 1277), (823, 1747), (823, 1760), (823, 1761), (823, 1801), (823, 1838), (824, 2082), (825, 1010), (825, 1363), (826, 1854), (826, 1890), (828, 838), (829, 1699), (829, 1931), (830, 1226), (830, 1880), (831, 1048), (831, 1049), (831, 1379), (831, 1860), (831, 2101), (832, 833), (832, 948), (832, 950), (832, 1567), (832, 1568), (833, 948), (833, 950), (833, 1591), (834, 1066), (834, 1308), (835, 1513), (835, 1698), (836, 1410), (837, 1410), (837, 2087), (838, 1151), (838, 1993), (839, 941), (839, 949), (839, 1250), (840, 841), (840, 1201), (840, 1852), (842, 2040), (843, 1451), (843, 1718), (843, 1839), (844, 1166), (844, 1596), (844, 2021), (845, 1577), (845, 1829), (846, 1287), (846, 1908), (847, 1419), (847, 2012), (849, 1119), (850, 1263), (850, 1264), (850, 1427), (850, 1477), (851, 1344), (852, 862), (852, 863), (852, 938), (853, 1064), (853, 2014), (854, 855), (854, 1063), (854, 1731), (855, 1063), (855, 1731), (856, 857), (857, 1221), (857, 1963), (858, 931), (858, 1359), (858, 1360), (859, 1209), (859, 1415), (860, 996), (860, 1209), (860, 1221), (860, 1326), (860, 1581), (860, 1974), (860, 2047), (861, 1335), (862, 863), (862, 893), (862, 948), (862, 950), (862, 962), (862, 976), (862, 980), (862, 989), (862, 1000), (862, 1018), (862, 1019), (862, 1021), (862, 1052), (862, 1056), (862, 1067), (862, 1069), (862, 1092), (862, 1095), (862, 1147), (862, 1165), (862, 1195), (862, 1199), (862, 1252), (862, 1271), (862, 1295), (862, 1386), (862, 1400), (862, 1401), (862, 1410), (862, 1423), (862, 1440), (862, 1452), (862, 1453), (862, 1455), (862, 1456), (862, 1459), (862, 1464), (862, 1466), (862, 1475), (862, 1509), (862, 1545), (862, 1552), (862, 1611), (862, 1612), (862, 1665), (862, 1668), (862, 1670), (862, 1685), (862, 1842), (862, 1867), (862, 1873), (862, 1895), (862, 1898), (862, 1949), (862, 2085), (863, 1665), (864, 1246), (864, 1907), (865, 1982), (866, 1055), (866, 1750), (866, 1980), (866, 1982), (867, 1237), (868, 870), (869, 870), (869, 1494), (869, 1629), (870, 1367), (870, 1629), (871, 1958), (871, 2074), (872, 1701), (873, 2040), (874, 2001), (875, 876), (875, 877), (875, 880), (875, 1439), (875, 1910), (876, 877), (876, 879), (876, 880), (876, 1439), (876, 1882), (877, 1884), (878, 879), (878, 880), (878, 1311), (879, 880), (879, 1439), (879, 1566), (879, 1882), (880, 1439), (880, 2037), (881, 1650), (882, 1091), (882, 2020), (883, 1685), (884, 885), (885, 1862), (886, 1067), (887, 1750), (888, 889), (888, 1190), (888, 1300), (888, 2049), (889, 1311), (890, 1706), (892, 1271), (892, 1372), (893, 938), (894, 2010), (896, 898), (896, 970), (896, 1044), (896, 1837), (896, 2089), (897, 970), (897, 1678), (897, 1706), (898, 970), (898, 1706), (898, 2088), (902, 1171), (902, 1243), (904, 999), (904, 1160), (904, 1223), (904, 1319), (904, 1481), (904, 1647), (904, 2068), (906, 2007), (907, 1243), (908, 1157), (908, 1285), (909, 911), (910, 911), (912, 1591), (913, 1280), (913, 2037), (914, 1410), (914, 1863), (915, 916), (915, 1256), (915, 1288), (915, 1318), (915, 1523), (916, 1288), (916, 1505), (917, 1523), (918, 1288), (919, 1327), (919, 1800), (919, 1813), (920, 1441), (920, 1829), (921, 1371), (922, 1806), (922, 1940), (923, 924), (923, 1637), (924, 1637), (925, 1626), (925, 1742), (926, 927), (928, 929), (928, 1463), (928, 1770), (928, 1909), (929, 1909), (930, 1771), (931, 1055), (932, 1029), (932, 1684), (933, 1750), (934, 1750), (935, 2011), (936, 937), (936, 1067), (936, 1475), (937, 938), (937, 1551), (938, 948), (938, 950), (938, 1018), (938, 1019), (938, 1021), (938, 1067), (938, 1069), (938, 1095), (938, 1252), (938, 1400), (938, 1401), (938, 1423), (938, 1452), (938, 1459), (938, 1553), (938, 1578), (938, 1670), (938, 1812), (938, 1924), (941, 958), (941, 967), (941, 1170), (941, 1321), (941, 1351), (941, 1468), (941, 1613), (941, 1842), (941, 2098), (942, 1071), (942, 1727), (942, 1889), (943, 1201), (944, 1385), (946, 1223), (947, 1438), (947, 1546), (947, 1907), (948, 950), (949, 1113), (949, 1170), (949, 1250), (949, 1321), (949, 1486), (949, 1500), (951, 952), (951, 1575), (951, 2097), (951, 2099), (952, 2094), (952, 2097), (953, 1112), (953, 1545), (953, 1629), (953, 1666), (953, 1929), (953, 2041), (954, 1678), (955, 1065), (955, 1845), (956, 957), (957, 958), (957, 959), (958, 1468), (960, 1243), (960, 1469), (961, 962), (962, 963), (962, 1169), (962, 1469), (962, 1867), (963, 1612), (964, 2002), (966, 1263), (967, 1128), (967, 1530), (967, 1683), (971, 1053), (971, 1995), (972, 1690), (973, 974), (973, 975), (974, 1429), (974, 1893), (974, 1894), (975, 1894), (976, 2106), (977, 1801), (977, 1905), (979, 1716), (980, 1453), (980, 1946), (982, 1324), (983, 1195), (983, 1452), (984, 1784), (985, 1207), (987, 1132), (987, 1428), (987, 1821), (987, 1828), (987, 2093), (988, 1860), (989, 1164), (989, 1273), (989, 1716), (990, 1130), (990, 2054), (994, 1128), (994, 1531), (996, 1601), (998, 1580), (999, 1079), (999, 1160), (999, 1223), (999, 1319), (999, 1452), (1001, 1052), (1001, 1059), (1001, 1136), (1001, 1164), (1001, 1180), (1001, 1261), (1001, 1452), (1001, 1523), (1001, 1568), (1001, 1635), (1001, 1663), (1001, 1668), (1002, 1706), (1003, 1310), (1003, 1429), (1003, 1430), (1003, 1604), (1003, 1894), (1004, 1005), (1005, 1512), (1006, 1601), (1006, 1706), (1007, 1786), (1007, 1790), (1008, 1009), (1008, 1167), (1008, 1538), (1010, 1574), (1010, 2001), (1011, 1443), (1012, 1806), (1013, 1213), (1013, 1493), (1014, 1583), (1014, 1811), (1018, 1019), (1018, 1021), (1018, 1289), (1018, 1453), (1018, 1553), (1018, 2090), (1018, 2091), (1019, 1452), (1021, 1067), (1021, 1095), (1021, 1252), (1021, 1459), (1021, 1464), (1021, 1466), (1021, 1924), (1021, 1945), (1022, 1750), (1023, 1711), (1023, 1770), (1024, 1025), (1026, 1027), (1026, 2000), (1027, 1028), (1027, 1187), (1027, 1651), (1027, 1723), (1027, 1724), (1027, 2000), (1027, 2013), (1027, 2031), (1027, 2109), (1030, 1671), (1032, 2053), (1033, 1365), (1034, 1323), (1035, 1036), (1035, 1190), (1035, 1311), (1036, 1896), (1036, 2055), (1037, 1601), (1037, 2089), (1038, 1311), (1038, 1388), (1038, 1399), (1038, 1544), (1038, 1972), (1038, 2055), (1038, 2062), (1039, 1115), (1039, 1518), (1040, 1246), (1041, 1251), (1044, 1437), (1045, 1865), (1046, 1840), (1046, 1843), (1047, 1691), (1048, 1049), (1048, 2090), (1048, 2101), (1049, 1057), (1049, 1394), (1049, 1578), (1049, 2090), (1049, 2101), (1051, 1320), (1052, 1059), (1052, 1553), (1053, 1265), (1053, 1995), (1054, 1110), (1054, 1174), (1054, 1523), (1055, 1490), (1055, 1743), (1055, 1750), (1055, 1980), (1055, 1981), (1056, 1136), (1057, 1379), (1058, 1750), (1058, 1751), (1059, 1180), (1060, 1437), (1063, 1806), (1066, 1307), (1066, 1751), (1066, 2061), (1067, 1454), (1067, 1551), (1067, 1553), (1067, 1611), (1067, 1671), (1067, 2051), (1067, 2052), (1067, 2090), (1068, 1978), (1069, 1095), (1069, 1410), (1069, 1812), (1070, 1375), (1070, 1891), (1072, 2007), (1073, 1550), (1073, 1947), (1074, 1191), (1074, 1333), (1074, 1338), (1075, 1191), (1075, 1333), (1075, 1808), (1076, 1437), (1076, 1687), (1076, 1750), (1077, 1750), (1078, 1289), (1078, 1456), (1079, 1289), (1079, 1295), (1079, 1452), (1079, 2015), (1079, 2068), (1079, 2084), (1079, 2085), (1080, 1081), (1080, 2091), (1083, 1084), (1084, 1908), (1086, 1087), (1086, 2090), (1088, 1089), (1088, 1118), (1088, 1241), (1088, 1756), (1088, 1941), (1090, 1568), (1091, 2053), (1093, 1126), (1093, 1207), (1094, 1605), (1095, 1238), (1096, 1750), (1097, 1750), (1098, 1099), (1100, 1159), (1100, 1859), (1100, 1863), (1100, 1864), (1100, 1894), (1101, 1750), (1102, 1535), (1102, 1837), (1103, 1535), (1105, 1106), (1105, 1678), (1107, 1644), (1109, 1110), (1109, 1523), (1110, 1523), (1110, 1790), (1111, 1536), (1111, 1795), (1114, 1279), (1115, 1483), (1116, 1178), (1119, 1379), (1120, 1384), (1121, 1122), (1121, 1411), (1123, 1277), (1123, 1497), (1126, 1281), (1126, 1681), (1127, 1410), (1127, 1604), (1128, 1738), (1130, 1656), (1131, 1409), (1131, 1846), (1133, 1639), (1134, 1340), (1135, 1329), (1137, 1376), (1137, 1377), (1137, 1755), (1138, 1286), (1139, 1654), (1139, 1750), (1140, 1370), (1141, 1142), (1143, 1145), (1143, 1648), (1144, 1194), (1144, 1195), (1144, 1238), (1144, 1452), (1145, 2062), (1146, 1194), (1146, 1196), (1146, 1197), (1146, 1289), (1146, 1355), (1146, 1453), (1148, 1422), (1148, 1423), (1150, 1468), (1150, 2098), (1151, 1351), (1151, 1468), (1151, 1547), (1151, 1613), (1152, 1511), (1152, 1631), (1152, 2040), (1152, 2086), (1153, 1377), (1154, 1233), (1155, 1156), (1155, 1798), (1155, 1871), (1155, 1954), (1156, 1853), (1157, 1218), (1158, 1341), (1158, 2007), (1159, 1230), (1159, 1410), (1159, 1699), (1159, 1757), (1159, 2078), (1160, 1161), (1160, 1720), (1160, 2085), (1162, 1795), (1163, 1885), (1163, 1886), (1164, 1403), (1164, 1717), (1165, 1869), (1168, 1574), (1170, 1548), (1171, 1617), (1171, 1619), (1172, 1672), (1172, 2026), (1173, 1379), (1173, 1401), (1175, 1462), (1177, 1905), (1178, 1614), (1178, 2049), (1179, 1762), (1180, 1609), (1180, 1610), (1180, 1668), (1181, 1182), (1182, 1183), (1182, 1355), (1182, 1635), (1184, 1503), (1184, 2020), (1186, 1219), (1187, 1255), (1187, 1283), (1187, 1425), (1187, 1803), (1188, 1445), (1190, 1388), (1191, 1333), (1191, 1334), (1191, 1337), (1191, 1338), (1191, 1339), (1192, 1333), (1193, 1289), (1193, 1452), (1193, 1453), (1194, 1195), (1194, 1196), (1194, 1289), (1194, 1452), (1194, 1453), (1194, 1740), (1195, 1434), (1195, 1717), (1196, 1289), (1196, 1452), (1196, 1453), (1197, 1289), (1197, 1453), (1197, 1454), (1199, 1815), (1200, 1201), (1204, 1564), (1204, 1922), (1204, 2032), (1205, 1597), (1205, 1697), (1206, 1634), (1206, 1635), (1206, 1699), (1206, 1817), (1208, 1271), (1209, 1574), (1209, 1648), (1210, 1584), (1210, 1716), (1210, 1818), (1211, 1212), (1213, 1572), (1214, 1497), (1216, 1283), (1216, 1750), (1218, 1778), (1218, 1779), (1220, 1726), (1220, 1770), (1224, 1322), (1225, 1429), (1225, 1832), (1225, 1939), (1227, 1333), (1227, 2038), (1228, 1674), (1229, 1347), (1230, 1921), (1231, 1531), (1231, 2007), (1234, 1235), (1235, 1605), (1239, 1240), (1242, 1495), (1242, 2054), (1245, 1772), (1246, 1285), (1246, 1428), (1246, 1531), (1247, 1249), (1247, 1750), (1248, 1249), (1248, 1750), (1249, 1750), (1249, 1910), (1250, 1262), (1250, 1486), (1250, 1630), (1252, 1271), (1253, 1254), (1255, 1405), (1256, 1724), (1259, 1390), (1260, 1749), (1260, 1753), (1262, 1511), (1263, 2076), (1266, 1714), (1266, 1766), (1267, 1659), (1267, 1766), (1268, 1375), (1269, 1752), (1270, 1471), (1271, 1342), (1271, 1464), (1271, 1612), (1271, 1867), (1272, 1916), (1273, 1716), (1273, 1833), (1274, 1275), (1275, 1904), (1276, 1277), (1276, 1950), (1277, 1691), (1277, 1950), (1278, 1279), (1278, 1483), (1280, 2043), (1282, 1284), (1282, 1350), (1282, 2000), (1283, 2013), (1283, 2031), (1283, 2032), (1284, 2013), (1285, 1912), (1285, 1925), (1286, 1692), (1287, 1938), (1289, 1310), (1289, 1400), (1289, 1440), (1289, 1481), (1289, 1554), (1289, 1856), (1289, 1973), (1289, 2083), (1289, 2084), (1289, 2085), (1293, 1390), (1293, 1910), (1295, 1453), (1295, 1454), (1295, 1455), (1295, 1928), (1295, 2090), (1296, 1297), (1297, 1711), (1298, 1299), (1298, 1301), (1298, 1311), (1299, 1301), (1299, 1302), (1300, 2058), (1301, 1302), (1301, 1303), (1302, 1303), (1304, 1305), (1306, 1574), (1307, 1308), (1307, 2061), (1309, 1971), (1311, 1569), (1311, 2055), (1311, 2056), (1311, 2069), (1311, 2080), (1311, 2089), (1311, 2108), (1313, 1314), (1314, 1329), (1314, 1621), (1316, 1806), (1317, 1370), (1318, 1696), (1318, 2076), (1319, 2015), (1320, 1555), (1320, 1695), (1321, 1978), (1322, 1829), (1323, 1810), (1323, 2021), (1324, 1785), (1324, 1862), (1327, 1461), (1327, 1480), (1327, 1491), (1327, 1966), (1328, 1329), (1333, 1334), (1333, 1337), (1333, 1338), (1333, 1339), (1333, 1808), (1334, 1808), (1335, 1368), (1336, 1808), (1337, 1338), (1337, 1339), (1338, 1339), (1342, 1343), (1342, 1665), (1343, 1665), (1344, 1536), (1344, 1537), (1345, 1348), (1345, 1488), (1346, 2062), (1348, 1390), (1348, 1392), (1348, 1425), (1348, 1673), (1348, 1674), (1348, 1687), (1348, 1735), (1348, 1803), (1348, 1866), (1348, 1934), (1348, 2079), (1349, 1694), (1350, 2109), (1351, 1842), (1352, 1353), (1352, 1396), (1355, 1523), (1355, 1633), (1355, 1930), (1355, 2065), (1355, 2066), (1356, 1870), (1357, 1366), (1358, 2091), (1360, 2016), (1362, 1600), (1363, 1437), (1363, 1948), (1363, 2062), (1364, 1365), (1364, 1777), (1365, 1884), (1365, 2053), (1366, 1992), (1370, 1418), (1370, 1419), (1370, 1804), (1370, 1805), (1370, 1809), (1370, 2039), (1374, 1979), (1376, 1755), (1377, 1755), (1378, 1787), (1378, 1963), (1379, 2101), (1380, 1381), (1381, 1392), (1381, 1972), (1385, 1554), (1387, 1677), (1388, 1389), (1388, 1492), (1388, 1569), (1388, 1830), (1388, 2055), (1388, 2056), (1388, 2062), (1388, 2089), (1388, 2108), (1389, 1824), (1389, 2062), (1390, 1413), (1390, 1504), (1390, 1526), (1390, 1728), (1390, 1729), (1390, 1762), (1390, 1830), (1390, 1897), (1390, 1910), (1390, 1997), (1391, 1830), (1392, 1721), (1392, 1775), (1393, 1480), (1397, 1428), (1397, 1509), (1397, 1510), (1397, 1603), (1397, 1952), (1398, 1399), (1400, 1453), (1400, 1454), (1400, 1456), (1400, 1599), (1400, 1668), (1401, 1454), (1403, 1640), (1407, 1408), (1407, 2008), (1408, 2008), (1409, 1846), (1409, 1959), (1410, 1475), (1410, 1590), (1410, 1668), (1410, 1732), (1410, 1894), (1412, 1435), (1415, 1521), (1416, 1417), (1417, 1877), (1418, 1419), (1418, 1804), (1418, 1805), (1418, 1806), (1419, 1804), (1419, 1805), (1420, 1626), (1421, 1450), (1421, 1903), (1422, 1423), (1423, 1970), (1423, 2091), (1427, 2010), (1427, 2043), (1428, 1429), (1428, 1430), (1428, 1452), (1428, 1604), (1428, 1746), (1428, 1887), (1428, 1894), (1429, 1602), (1429, 1604), (1429, 1859), (1429, 1894), (1430, 1602), (1430, 1604), (1430, 1859), (1430, 1894), (1431, 1445), (1432, 1624), (1433, 1740), (1436, 1437), (1437, 1870), (1437, 1972), (1437, 2108), (1440, 1453), (1442, 1574), (1442, 1780), (1443, 1444), (1445, 1447), (1446, 1635), (1446, 1932), (1449, 1451), (1450, 1451), (1451, 1661), (1452, 1453), (1452, 1454), (1452, 1455), (1452, 1554), (1452, 1859), (1452, 1894), (1453, 1455), (1453, 1456), (1453, 1671), (1453, 1892), (1454, 1455), (1454, 1456), (1454, 1481), (1454, 1552), (1454, 1554), (1454, 1578), (1454, 1741), (1454, 1895), (1454, 2068), (1454, 2084), (1454, 2085), (1456, 1665), (1457, 1514), (1460, 1865), (1460, 1866), (1462, 1570), (1462, 1571), (1462, 1770), (1464, 1611), (1464, 1612), (1464, 1992), (1465, 1466), (1465, 1467), (1465, 1665), (1466, 1467), (1466, 1665), (1468, 1547), (1468, 1862), (1468, 2098), (1472, 1473), (1472, 2050), (1475, 2019), (1476, 1569), (1476, 1750), (1476, 1972), (1477, 1664), (1478, 1796), (1480, 1649), (1480, 1661), (1480, 1694), (1481, 1554), (1481, 2015), (1481, 2068), (1481, 2084), (1481, 2085), (1482, 1484), (1482, 1888), (1487, 1830), (1489, 1587), (1490, 1492), (1492, 1643), (1494, 1592), (1494, 1687), (1494, 1689), (1494, 1750), (1496, 1822), (1496, 1903), (1498, 1645), (1499, 1829), (1499, 2072), (1500, 1923), (1503, 2020), (1506, 1754), (1507, 1938), (1508, 2096), (1509, 1510), (1509, 1603), (1509, 2042), (1510, 1603), (1511, 2040), (1514, 1626), (1515, 1516), (1515, 1529), (1515, 1750), (1515, 2108), (1516, 1529), (1516, 1750), (1516, 1984), (1517, 1896), (1517, 2055), (1519, 1520), (1519, 1522), (1520, 1521), (1521, 1522), (1523, 1635), (1523, 1790), (1523, 1829), (1523, 1894), (1524, 1525), (1524, 1770), (1525, 1570), (1526, 1686), (1528, 1529), (1529, 2012), (1530, 1531), (1530, 1650), (1533, 1657), (1534, 1750), (1534, 2108), (1539, 1835), (1539, 1904), (1540, 1903), (1540, 1904), (1541, 1542), (1542, 1771), (1543, 1733), (1543, 1757), (1543, 1790), (1543, 1831), (1543, 1832), (1544, 2055), (1547, 1548), (1547, 1560), (1547, 2098), (1550, 1694), (1551, 1552), (1551, 1670), (1551, 1671), (1551, 1898), (1551, 1899), (1552, 1553), (1552, 1611), (1552, 1670), (1552, 1671), (1553, 1670), (1553, 1671), (1553, 1898), (1553, 1899), (1554, 2015), (1554, 2068), (1554, 2083), (1554, 2084), (1554, 2085), (1557, 1558), (1559, 1560), (1561, 1697), (1563, 1565), (1563, 1705), (1563, 2036), (1564, 1565), (1564, 1566), (1564, 1784), (1565, 2036), (1566, 2036), (1567, 1568), (1567, 1855), (1568, 1855), (1569, 2055), (1569, 2062), (1570, 1571), (1570, 2081), (1571, 2079), (1571, 2081), (1573, 1974), (1574, 1679), (1574, 1767), (1574, 1819), (1575, 2094), (1576, 1637), (1576, 1667), (1576, 1668), (1582, 1583), (1582, 2095), (1584, 1634), (1584, 1716), (1584, 1833), (1585, 1586), (1588, 1750), (1589, 1750), (1590, 1816), (1590, 2087), (1591, 1666), (1591, 1671), (1591, 1712), (1592, 1927), (1593, 1597), (1594, 1747), (1594, 1748), (1597, 1696), (1601, 1706), (1602, 1603), (1602, 1952), (1603, 1894), (1604, 1662), (1604, 2073), (1605, 1938), (1606, 1852), (1607, 1609), (1607, 1894), (1608, 1609), (1608, 1894), (1609, 1610), (1611, 1670), (1611, 1867), (1611, 1899), (1613, 1842), (1613, 1999), (1614, 1750), (1614, 1774), (1617, 1619), (1618, 1619), (1620, 1747), (1621, 1622), (1626, 1719), (1626, 1742), (1627, 1665), (1628, 1978), (1629, 1814), (1631, 1632), (1632, 2015), (1633, 1634), (1633, 1635), (1633, 1817), (1634, 1848), (1634, 1859), (1634, 2093), (1635, 1699), (1635, 1817), (1635, 1930), (1635, 2065), (1635, 2093), (1636, 1775), (1641, 1750), (1642, 1687), (1644, 1906), (1646, 1647), (1648, 1750), (1648, 1824), (1648, 1972), (1652, 1700), (1655, 1657), (1655, 1783), (1656, 1782), (1656, 1875), (1656, 1876), (1657, 1692), (1657, 1783), (1659, 1766), (1659, 1903), (1665, 1669), (1667, 1668), (1668, 1894), (1668, 2090), (1670, 1671), (1670, 1899), (1673, 1675), (1673, 1687), (1674, 1675), (1674, 1687), (1676, 1677), (1677, 1703), (1678, 1706), (1678, 1878), (1682, 1683), (1684, 2076), (1686, 1910), (1687, 1689), (1687, 1750), (1687, 1751), (1687, 1803), (1687, 1849), (1689, 1750), (1689, 1751), (1689, 1803), (1690, 2088), (1691, 1767), (1693, 1694), (1694, 1737), (1694, 1861), (1694, 1962), (1694, 1964), (1694, 1994), (1694, 2064), (1694, 2067), (1694, 2075), (1694, 2107), (1696, 1697), (1698, 1869), (1699, 1817), (1699, 1930), (1699, 2065), (1699, 2078), (1704, 1942), (1706, 1837), (1707, 1950), (1708, 1709), (1708, 2036), (1710, 2044), (1711, 1770), (1713, 1750), (1713, 1900), (1714, 1947), (1721, 1724), (1721, 1858), (1724, 2031), (1726, 1793), (1728, 1730), (1729, 1730), (1733, 1790), (1741, 1867), (1743, 1750), (1747, 1748), (1749, 1751), (1749, 1753), (1750, 2033), (1750, 2056), (1750, 2059), (1750, 2060), (1750, 2081), (1751, 2056), (1751, 2059), (1751, 2060), (1751, 2061), (1754, 1755), (1757, 1859), (1760, 1838), (1760, 1950), (1761, 1838), (1762, 1897), (1764, 1765), (1767, 1905), (1767, 2082), (1770, 1771), (1773, 1830), (1774, 1791), (1776, 1777), (1778, 1779), (1781, 1795), (1781, 1904), (1781, 2003), (1784, 1988), (1786, 1790), (1786, 1795), (1786, 2077), (1787, 1789), (1788, 1790), (1788, 1894), (1791, 1792), (1791, 1793), (1795, 2077), (1796, 1798), (1797, 1832), (1798, 1871), (1799, 1800), (1800, 2065), (1801, 1875), (1801, 1876), (1801, 1905), (1801, 1988), (1802, 1877), (1805, 1806), (1806, 1940), (1807, 1963), (1813, 2065), (1819, 1820), (1821, 1828), (1824, 2062), (1825, 1827), (1826, 1827), (1829, 1977), (1829, 2072), (1829, 2096), (1830, 1975), (1831, 1859), (1832, 1859), (1836, 1904), (1838, 1839), (1841, 1843), (1841, 1986), (1843, 1905), (1843, 1985), (1843, 1986), (1843, 1988), (1850, 1851), (1850, 1852), (1851, 1852), (1857, 2055), (1858, 2109), (1862, 1999), (1863, 1937), (1867, 1933), (1868, 1908), (1874, 1992), (1875, 1876), (1875, 1904), (1875, 1905), (1876, 1904), (1876, 1905), (1881, 1958), (1882, 1883), (1885, 1886), (1885, 2090), (1893, 1894), (1894, 1952), (1894, 2078), (1901, 1902), (1903, 1904), (1904, 1905), (1904, 1942), (1904, 2107), (1905, 1988), (1908, 1938), (1912, 1961), (1913, 1914), (1913, 1938), (1913, 2050), (1914, 1915), (1917, 2054), (1917, 2061), (1924, 1945), (1927, 2109), (1928, 2090), (1928, 2091), (1930, 1931), (1930, 1957), (1936, 1967), (1944, 2107), (1945, 1946), (1951, 1981), (1952, 2078), (1953, 1954), (1955, 1977), (1969, 2044), (1972, 2055), (1972, 2062), (1972, 2080), (1974, 1975), (1980, 1981), (1980, 1982), (1980, 1983), (1981, 1982), (1985, 1986), (1986, 1988), (1987, 1988), (1989, 1990), (1989, 2062), (1993, 2048), (2004, 2005), (2006, 2107), (2015, 2084), (2015, 2085), (2018, 2062), (2022, 2023), (2022, 2024), (2027, 2028), (2027, 2029), (2027, 2030), (2028, 2030), (2038, 2046), (2042, 2043), (2055, 2056), (2056, 2062), (2056, 2071), (2057, 2058), (2062, 2080), (2064, 2066), (2068, 2084), (2070, 2071), (2071, 2079), (2075, 2107), (2079, 2081), (2083, 2084), (2083, 2085), (2084, 2085), (2094, 2097), (2094, 2099), (2102, 2103), (2104, 2105), (0, 1543), (1027, 1546), (516, 2049), (2056, 524), (13, 1027), (2062, 1551), (2067, 2059), (1048, 1037), (1054, 2065), (1055, 1564), (2079, 1054), (2081, 31), (543, 43), (1056, 557), (1058, 1067), (2085, 1074), (1574, 64), (1063, 1607), (39, 1076), (2089, 1099), (551, 82), (38, 1588), (1580, 1077), (1576, 2109), (2090, 1614), (1591, 595), (1079, 1109), (2107, 86), (2108, 1110), (64, 1625), (66, 1626), (1603, 90), (1604, 1635), (1614, 1637), (80, 613), (83, 1136), (85, 113), (598, 626), (89, 1139), (1629, 628), (97, 630), (98, 1653), (1635, 1655), (613, 1144), (620, 1657), (622, 120), (1648, 1146), (114, 1140), (1139, 1663), (631, 1678), (1146, 119), (122, 133), (1661, 660), (131, 1174), (1668, 151), (645, 1687), (1671, 154), (1159, 158), (1164, 1191), (652, 1706), (1678, 1195), (655, 174), (658, 688), (660, 1713), (662, 1204), (1687, 1725), (664, 695), (151, 709), (1180, 212), (1694, 702), (670, 1749), (1187, 1242), (1706, 220), (1195, 1750), (688, 1751), (1716, 1753), (1209, 733), (186, 223), (1216, 226), (704, 1248), (707, 1249), (1220, 236), (1221, 1773), (1226, 1247), (1739, 1770), (207, 1260), (1231, 241), (211, 1783), (1749, 1272), (1750, 1279), (1751, 1289), (1243, 1293), (732, 273), (220, 1806), (1246, 787), (1249, 1815), (1767, 289), (1770, 286), (1263, 297), (1778, 1830), (1781, 813), (245, 1837), (759, 304), (764, 1327), (253, 305), (1279, 817), (1795, 1843), (1285, 820), (1806, 1333), (791, 1338), (1311, 316), (803, 317), (1829, 1341), (1830, 833), (295, 832), (1320, 1344), (1318, 326), (1322, 1859), (304, 1350), (1842, 332), (1335, 1370), (316, 851), (320, 862), (1345, 1892), (833, 866), (1859, 876), (1348, 882), (1862, 367), (1355, 880), (850, 879), (1363, 371), (858, 1400), (860, 380), (862, 887), (354, 888), (1891, 897), (869, 1410), (1894, 389), (875, 392), (1388, 908), (364, 1422), (1390, 1423), (878, 1429), (1904, 1940), (1392, 407), (1389, 1434), (1910, 923), (381, 1436), (896, 924), (1410, 1437), (388, 1439), (1413, 1445), (390, 934), (904, 423), (1930, 1447), (908, 936), (1423, 427), (915, 1452), (1428, 433), (404, 1453), (410, 947), (1437, 948), (1445, 950), (937, 1461), (938, 1979), (425, 449), (1452, 961), (941, 1973), (1972, 450), (1462, 1476), (1464, 962), (953, 457), (1978, 460), (441, 459), (447, 981), (962, 1494), (450, 1493), (967, 1495), (1480, 1001), (1992, 1514), (1492, 2033), (1494, 1515), (2007, 1516), (472, 497), (987, 1523)]\n"
          ]
        }
      ],
      "source": [
        "\n",
        "# Get edge indices from G1 and G2\n",
        "edges_G1 = list(G.edges)\n",
        "\n",
        "# Merge edge indices\n",
        "merged_edges = edges_G1 + forming_edge_list\n",
        "\n",
        "# Print the result\n",
        "print(\"Merged edges:\", merged_edges)"
      ]
    },
    {
      "cell_type": "code",
      "execution_count": null,
      "metadata": {
        "id": "MjXmhoP3B34C",
        "colab": {
          "base_uri": "https://localhost:8080/"
        },
        "outputId": "9ad9c4a1-1879-4abc-817b-ab4348c7fccd"
      },
      "outputs": [
        {
          "output_type": "execute_result",
          "data": {
            "text/plain": [
              "3668"
            ]
          },
          "metadata": {},
          "execution_count": 66
        }
      ],
      "source": [
        "len(edges_G1)"
      ]
    },
    {
      "cell_type": "code",
      "execution_count": null,
      "metadata": {
        "id": "dI0ZSfmiBux-",
        "colab": {
          "base_uri": "https://localhost:8080/"
        },
        "outputId": "acc8f694-1f70-49c5-f4bc-e253a8894793"
      },
      "outputs": [
        {
          "output_type": "execute_result",
          "data": {
            "text/plain": [
              "3853"
            ]
          },
          "metadata": {},
          "execution_count": 67
        }
      ],
      "source": [
        "len(merged_edges)"
      ]
    },
    {
      "cell_type": "code",
      "execution_count": null,
      "metadata": {
        "id": "NjxanPh7HLZx",
        "colab": {
          "base_uri": "https://localhost:8080/"
        },
        "outputId": "f8dc1829-a399-40fe-a5c5-3402355e096e"
      },
      "outputs": [
        {
          "output_type": "stream",
          "name": "stdout",
          "text": [
            "Bidirectional PyTorch Geometric edge_index: tensor([[   0,    0,    0,  ..., 1516,  497, 1523],\n",
            "        [ 253,  285,  850,  ..., 2007,  472,  987]])\n"
          ]
        }
      ],
      "source": [
        "import torch\n",
        "\n",
        "# Your original edge index list\n",
        "edge_index_list_ = merged_edges\n",
        "# Make the edge indices bidirectional\n",
        "bidirectional_edges_ = edge_index_list_ + [(y, x) for x, y in edge_index_list_]\n",
        "\n",
        "# Unpack the bidirectional edge index list into separate lists for source and target nodes\n",
        "source_nodes_, target_nodes_ = zip(*bidirectional_edges_)\n",
        "\n",
        "# Convert the lists to PyTorch tensors\n",
        "edge_index_ = torch.tensor([source_nodes_, target_nodes_], dtype=torch.long)\n",
        "\n",
        "# Print the resulting bidirectional edge_index tensor\n",
        "print(\"Bidirectional PyTorch Geometric edge_index:\", edge_index_)"
      ]
    },
    {
      "cell_type": "code",
      "execution_count": null,
      "metadata": {
        "id": "0pEexsoCOYB0"
      },
      "outputs": [],
      "source": [
        "# Replace edge_index with pyG_combined's edge_index\n",
        "data.edge_index = edge_index_"
      ]
    },
    {
      "cell_type": "code",
      "source": [],
      "metadata": {
        "id": "WLf4BE9lkmYA"
      },
      "execution_count": null,
      "outputs": []
    },
    {
      "cell_type": "code",
      "execution_count": null,
      "metadata": {
        "id": "cDBfWxaSQKfE",
        "colab": {
          "base_uri": "https://localhost:8080/"
        },
        "outputId": "3f44fd66-6b09-4c15-e40e-4ea25136e5eb"
      },
      "outputs": [
        {
          "output_type": "stream",
          "name": "stdout",
          "text": [
            "Train set size: 210\n",
            "Test set size: 1688\n",
            "Validation set size: 211\n"
          ]
        }
      ],
      "source": [
        "# Calculate the sizes of train, test, and validation sets\n",
        "train_size = torch.sum(data.train_mask).item()\n",
        "test_size = torch.sum(data.test_mask).item()\n",
        "val_size = torch.sum(data.val_mask).item()\n",
        "\n",
        "print(f\"Train set size: {train_size}\")\n",
        "print(f\"Test set size: {test_size}\")\n",
        "print(f\"Validation set size: {val_size}\")\n"
      ]
    },
    {
      "cell_type": "code",
      "execution_count": null,
      "metadata": {
        "id": "Am5YpZZEPPTA"
      },
      "outputs": [],
      "source": [
        "graph=data"
      ]
    },
    {
      "cell_type": "code",
      "execution_count": null,
      "metadata": {
        "id": "OW5C81y4xwAl"
      },
      "outputs": [],
      "source": [
        "graph = graph.cuda()"
      ]
    },
    {
      "cell_type": "code",
      "source": [],
      "metadata": {
        "id": "9fyKd4Z-kmad"
      },
      "execution_count": null,
      "outputs": []
    },
    {
      "cell_type": "markdown",
      "metadata": {
        "id": "PNDSd51GHrSv"
      },
      "source": [
        "#df"
      ]
    },
    {
      "cell_type": "code",
      "execution_count": null,
      "metadata": {
        "colab": {
          "base_uri": "https://localhost:8080/"
        },
        "outputId": "d09bc1cb-58ae-45ba-da3d-c99189417f59",
        "id": "I16CXV7LHrSx"
      },
      "outputs": [
        {
          "output_type": "execute_result",
          "data": {
            "text/plain": [
              "<torch._C.Generator at 0x7eb0ec1b9730>"
            ]
          },
          "metadata": {},
          "execution_count": 73
        }
      ],
      "source": [
        "np.random.seed(100000)    # Try a different seed for NumPy\n",
        "torch.manual_seed(1)"
      ]
    },
    {
      "cell_type": "code",
      "execution_count": null,
      "metadata": {
        "id": "_ZPg0VPXHrSy"
      },
      "outputs": [],
      "source": [
        "graph = data"
      ]
    },
    {
      "cell_type": "code",
      "source": [
        "graph=graph.cuda()"
      ],
      "metadata": {
        "id": "lldCrbWcEyij"
      },
      "execution_count": null,
      "outputs": []
    },
    {
      "cell_type": "code",
      "source": [],
      "metadata": {
        "id": "BFH3WlXsHrS0"
      },
      "execution_count": null,
      "outputs": []
    },
    {
      "cell_type": "code",
      "execution_count": null,
      "metadata": {
        "id": "h7rfqeI1HrS1"
      },
      "outputs": [],
      "source": [
        "import torch\n",
        "import torch.nn as nn\n",
        "from torch_geometric.nn import GCNConv\n",
        "import torch.nn.functional as F\n",
        "from torch_geometric.datasets import Planetoid\n",
        "import torch_geometric.transforms as T"
      ]
    },
    {
      "cell_type": "code",
      "execution_count": null,
      "metadata": {
        "id": "Hg_LMBU4HrS1"
      },
      "outputs": [],
      "source": [
        "features = graph.x\n",
        "labels = graph.y"
      ]
    },
    {
      "cell_type": "code",
      "execution_count": null,
      "metadata": {
        "id": "FG8fIjvAHrS2"
      },
      "outputs": [],
      "source": [
        "num_features = features.size(1)\n",
        "num_classes = int(labels.max()) + 1"
      ]
    },
    {
      "cell_type": "code",
      "execution_count": null,
      "metadata": {
        "id": "CPJXVYWNHrS3"
      },
      "outputs": [],
      "source": []
    },
    {
      "cell_type": "code",
      "execution_count": null,
      "metadata": {
        "colab": {
          "base_uri": "https://localhost:8080/"
        },
        "outputId": "1b77dfe9-c8a5-415a-d84e-94fd7184c1c2",
        "id": "3w9yOybkHrS4"
      },
      "outputs": [
        {
          "output_type": "execute_result",
          "data": {
            "text/plain": [
              "3703"
            ]
          },
          "metadata": {},
          "execution_count": 79
        }
      ],
      "source": [
        "num_features"
      ]
    },
    {
      "cell_type": "code",
      "execution_count": null,
      "metadata": {
        "colab": {
          "base_uri": "https://localhost:8080/"
        },
        "outputId": "3058daa1-aaad-4d71-9fd5-69ff4c196191",
        "id": "FNC6eYioHrS5"
      },
      "outputs": [
        {
          "output_type": "execute_result",
          "data": {
            "text/plain": [
              "6"
            ]
          },
          "metadata": {},
          "execution_count": 80
        }
      ],
      "source": [
        "num_classes"
      ]
    },
    {
      "cell_type": "code",
      "execution_count": null,
      "metadata": {
        "colab": {
          "base_uri": "https://localhost:8080/"
        },
        "outputId": "6902a596-d565-4335-fb39-d3cf38799226",
        "id": "964hL8rNHrS6"
      },
      "outputs": [
        {
          "output_type": "execute_result",
          "data": {
            "text/plain": [
              "torch.Size([2110])"
            ]
          },
          "metadata": {},
          "execution_count": 81
        }
      ],
      "source": [
        "graph.test_mask.shape"
      ]
    },
    {
      "cell_type": "code",
      "execution_count": null,
      "metadata": {
        "id": "Zb6sdnwkHrS6"
      },
      "outputs": [],
      "source": [
        "total_nodes = graph.x.size(0)"
      ]
    },
    {
      "cell_type": "code",
      "execution_count": null,
      "metadata": {
        "colab": {
          "base_uri": "https://localhost:8080/"
        },
        "outputId": "8f32e917-8d4a-4021-b748-8a90e57673da",
        "id": "M44uzpmWHrS7"
      },
      "outputs": [
        {
          "output_type": "execute_result",
          "data": {
            "text/plain": [
              "2110"
            ]
          },
          "metadata": {},
          "execution_count": 83
        }
      ],
      "source": [
        "total_nodes"
      ]
    },
    {
      "cell_type": "code",
      "execution_count": null,
      "metadata": {
        "colab": {
          "base_uri": "https://localhost:8080/"
        },
        "outputId": "022fc0c3-29be-4247-f136-d9aa8f85d1e0",
        "id": "dLSFoMW3HrS8"
      },
      "outputs": [
        {
          "output_type": "stream",
          "name": "stdout",
          "text": [
            "Train set size: 210\n",
            "Test set size: 1688\n",
            "Validation set size: 211\n"
          ]
        }
      ],
      "source": [
        "# Calculate the sizes of train, test, and validation sets\n",
        "train_size = torch.sum(graph.train_mask).item()\n",
        "test_size = torch.sum(graph.test_mask).item()\n",
        "val_size = torch.sum(graph.val_mask).item()\n",
        "\n",
        "print(f\"Train set size: {train_size}\")\n",
        "print(f\"Test set size: {test_size}\")\n",
        "print(f\"Validation set size: {val_size}\")\n"
      ]
    },
    {
      "cell_type": "code",
      "execution_count": null,
      "metadata": {
        "colab": {
          "base_uri": "https://localhost:8080/"
        },
        "outputId": "5881f990-7c69-425b-ee59-0b2f435e6d29",
        "id": "rTlzbyVPHrS9"
      },
      "outputs": [
        {
          "output_type": "stream",
          "name": "stdout",
          "text": [
            "Train set size: 210\n",
            "Test set size: 1688\n",
            "Validation set size: 211\n"
          ]
        }
      ],
      "source": [
        "# Calculate the sizes of train, test, and validation sets\n",
        "train_size = torch.sum(graph.train_mask).item()\n",
        "test_size = torch.sum(graph.test_mask).item()\n",
        "val_size = torch.sum(graph.val_mask).item()\n",
        "\n",
        "print(f\"Train set size: {train_size}\")\n",
        "print(f\"Test set size: {test_size}\")\n",
        "print(f\"Validation set size: {val_size}\")\n"
      ]
    },
    {
      "cell_type": "code",
      "source": [],
      "metadata": {
        "id": "RPuWzeywHrS-"
      },
      "execution_count": null,
      "outputs": []
    },
    {
      "cell_type": "code",
      "execution_count": null,
      "metadata": {
        "id": "1doT7_uyHrS-"
      },
      "outputs": [],
      "source": [
        "adj = data.edge_index.t()"
      ]
    },
    {
      "cell_type": "code",
      "source": [
        "# Get the adjacency matrix, features, and labels\n",
        "adj = data.edge_index.t()\n",
        "features = data.x\n",
        "labels = data.y\n",
        "\n",
        "# Get the train, validation, and test indices\n",
        "idx_train = data.train_mask.nonzero().view(-1)\n",
        "idx_val = data.val_mask.nonzero().view(-1)\n",
        "idx_test = data.test_mask.nonzero().view(-1)\n",
        "\n",
        "# Print some dataset statistics\n",
        "print(f\"Number of nodes: {len(features)}\")\n",
        "print(f\"Number of edges: {len(adj) // 2}\")  # Divide by 2 because the graph is undirected\n",
        "print(f\"Number of features per node: {features.size(1)}\")\n",
        "print(f\"Number of classes: {int(labels.max()) + 1}\")\n",
        "print(f\"Number of training nodes: {len(idx_train)}\")\n",
        "print(f\"Number of validation nodes: {len(idx_val)}\")\n",
        "print(f\"Number of test nodes: {len(idx_test)}\")"
      ],
      "metadata": {
        "colab": {
          "base_uri": "https://localhost:8080/"
        },
        "outputId": "e892211c-9faf-41a6-a783-1e0f1c005f86",
        "id": "BUwaEqIDHrS_"
      },
      "execution_count": null,
      "outputs": [
        {
          "output_type": "stream",
          "name": "stdout",
          "text": [
            "Number of nodes: 2110\n",
            "Number of edges: 3853\n",
            "Number of features per node: 3703\n",
            "Number of classes: 6\n",
            "Number of training nodes: 210\n",
            "Number of validation nodes: 211\n",
            "Number of test nodes: 1688\n"
          ]
        }
      ]
    },
    {
      "cell_type": "code",
      "source": [
        "adj = adj.cuda()"
      ],
      "metadata": {
        "id": "Dkbg2YIqEq2u"
      },
      "execution_count": null,
      "outputs": []
    },
    {
      "cell_type": "code",
      "execution_count": null,
      "metadata": {
        "id": "bh6Sn98jHrTB"
      },
      "outputs": [],
      "source": [
        "from torch_geometric.nn import GCNConv\n",
        "from torch.nn import Linear, BatchNorm1d\n",
        "import torch.nn.functional as F\n",
        "\n",
        "class GCN(torch.nn.Module):\n",
        "    def __init__(self, num_features, hidden_channels, num_classes):\n",
        "        super(GCN, self).__init__()\n",
        "        self.conv1 = GCNConv(num_features, hidden_channels)\n",
        "        self.bn1 = BatchNorm1d(hidden_channels)\n",
        "        self.conv2 = GCNConv(hidden_channels, hidden_channels * 2)\n",
        "        self.bn2 = BatchNorm1d(hidden_channels * 2)\n",
        "        self.conv3 = GCNConv(hidden_channels * 2, hidden_channels * 4)\n",
        "        self.bn3 = BatchNorm1d(hidden_channels * 4)\n",
        "        self.conv4 = GCNConv(hidden_channels * 4, hidden_channels * 2)\n",
        "        self.bn4 = BatchNorm1d(hidden_channels * 2)\n",
        "        self.out = Linear(hidden_channels * 2, num_classes)\n",
        "\n",
        "    def forward(self, x, edge_index):\n",
        "        # First Message Passing Layer (Transformation)\n",
        "        x = self.conv1(x, edge_index)\n",
        "        x = self.bn1(x)\n",
        "        x = F.relu(x)\n",
        "        x = F.dropout(x, p=0.5, training=self.training)\n",
        "\n",
        "        # Second Message Passing Layer\n",
        "        x = self.conv2(x, edge_index)\n",
        "        x = self.bn2(x)\n",
        "        x = F.relu(x)\n",
        "        x = F.dropout(x, p=0.5, training=self.training)\n",
        "\n",
        "        # Third Message Passing Layer\n",
        "        x = self.conv3(x, edge_index)\n",
        "        x = self.bn3(x)\n",
        "        x = F.relu(x)\n",
        "        x = F.dropout(x, p=0.5, training=self.training)\n",
        "\n",
        "        # Fourth Message Passing Layer\n",
        "        x = self.conv4(x, edge_index)\n",
        "        x = self.bn4(x)\n",
        "        x = F.relu(x)\n",
        "        x = F.dropout(x, p=0.5, training=self.training)\n",
        "\n",
        "        # Output layer\n",
        "        x = self.out(x)\n",
        "        x = F.softmax(x, dim=1)\n",
        "        return x\n"
      ]
    },
    {
      "cell_type": "code",
      "execution_count": null,
      "metadata": {
        "outputId": "3de322db-a5ef-4104-c4bd-f3df491976f5",
        "colab": {
          "base_uri": "https://localhost:8080/",
          "height": 1000
        },
        "id": "g93ptE75HrTC"
      },
      "outputs": [
        {
          "output_type": "stream",
          "name": "stdout",
          "text": [
            "Epoch 50/1000:\n",
            "Train Loss: 1.1380, Train Accuracy: 0.9000, Train Precision: 0.9000, Train Recall: 0.9000\n",
            "Validation Loss: 1.4759, Validation Accuracy: 0.5782, Validation Precision: 0.5782, Validation Recall: 0.5782\n",
            "Test Loss: 1.4517, Test Accuracy: 0.6043, Test Precision: 0.6043, Test Recall: 0.6043\n",
            "\n",
            "Epoch 100/1000:\n",
            "Train Loss: 1.0885, Train Accuracy: 0.9667, Train Precision: 0.9667, Train Recall: 0.9667\n",
            "Validation Loss: 1.5096, Validation Accuracy: 0.5213, Validation Precision: 0.5213, Validation Recall: 0.5213\n",
            "Test Loss: 1.4744, Test Accuracy: 0.5586, Test Precision: 0.5586, Test Recall: 0.5586\n",
            "\n",
            "Epoch 150/1000:\n",
            "Train Loss: 1.0830, Train Accuracy: 0.9619, Train Precision: 0.9619, Train Recall: 0.9619\n",
            "Validation Loss: 1.5053, Validation Accuracy: 0.5403, Validation Precision: 0.5403, Validation Recall: 0.5403\n",
            "Test Loss: 1.4678, Test Accuracy: 0.5705, Test Precision: 0.5705, Test Recall: 0.5705\n",
            "\n",
            "Epoch 200/1000:\n",
            "Train Loss: 1.0779, Train Accuracy: 0.9667, Train Precision: 0.9667, Train Recall: 0.9667\n",
            "Validation Loss: 1.5314, Validation Accuracy: 0.5308, Validation Precision: 0.5308, Validation Recall: 0.5308\n",
            "Test Loss: 1.4915, Test Accuracy: 0.5569, Test Precision: 0.5569, Test Recall: 0.5569\n",
            "\n",
            "Epoch 250/1000:\n",
            "Train Loss: 1.0768, Train Accuracy: 0.9667, Train Precision: 0.9667, Train Recall: 0.9667\n",
            "Validation Loss: 1.5134, Validation Accuracy: 0.4882, Validation Precision: 0.4882, Validation Recall: 0.4882\n",
            "Test Loss: 1.4832, Test Accuracy: 0.5326, Test Precision: 0.5326, Test Recall: 0.5326\n",
            "\n",
            "Epoch 300/1000:\n",
            "Train Loss: 1.0779, Train Accuracy: 0.9667, Train Precision: 0.9667, Train Recall: 0.9667\n",
            "Validation Loss: 1.5145, Validation Accuracy: 0.5118, Validation Precision: 0.5118, Validation Recall: 0.5118\n",
            "Test Loss: 1.4718, Test Accuracy: 0.5658, Test Precision: 0.5658, Test Recall: 0.5658\n",
            "\n",
            "Epoch 350/1000:\n",
            "Train Loss: 1.0773, Train Accuracy: 0.9667, Train Precision: 0.9667, Train Recall: 0.9667\n",
            "Validation Loss: 1.5205, Validation Accuracy: 0.5308, Validation Precision: 0.5308, Validation Recall: 0.5308\n",
            "Test Loss: 1.4818, Test Accuracy: 0.5705, Test Precision: 0.5705, Test Recall: 0.5705\n",
            "\n",
            "Epoch 400/1000:\n",
            "Train Loss: 1.0728, Train Accuracy: 0.9714, Train Precision: 0.9714, Train Recall: 0.9714\n",
            "Validation Loss: 1.5316, Validation Accuracy: 0.5024, Validation Precision: 0.5024, Validation Recall: 0.5024\n",
            "Test Loss: 1.4833, Test Accuracy: 0.5711, Test Precision: 0.5711, Test Recall: 0.5711\n",
            "\n",
            "Epoch 450/1000:\n",
            "Train Loss: 1.0722, Train Accuracy: 0.9714, Train Precision: 0.9714, Train Recall: 0.9714\n",
            "Validation Loss: 1.5358, Validation Accuracy: 0.5213, Validation Precision: 0.5213, Validation Recall: 0.5213\n",
            "Test Loss: 1.4946, Test Accuracy: 0.5498, Test Precision: 0.5498, Test Recall: 0.5498\n",
            "\n",
            "Epoch 500/1000:\n",
            "Train Loss: 1.0722, Train Accuracy: 0.9714, Train Precision: 0.9714, Train Recall: 0.9714\n",
            "Validation Loss: 1.5325, Validation Accuracy: 0.5355, Validation Precision: 0.5355, Validation Recall: 0.5355\n",
            "Test Loss: 1.4792, Test Accuracy: 0.5735, Test Precision: 0.5735, Test Recall: 0.5735\n",
            "\n",
            "Epoch 550/1000:\n",
            "Train Loss: 1.0722, Train Accuracy: 0.9714, Train Precision: 0.9714, Train Recall: 0.9714\n",
            "Validation Loss: 1.5060, Validation Accuracy: 0.5355, Validation Precision: 0.5355, Validation Recall: 0.5355\n",
            "Test Loss: 1.4801, Test Accuracy: 0.5758, Test Precision: 0.5758, Test Recall: 0.5758\n",
            "\n",
            "Epoch 600/1000:\n",
            "Train Loss: 1.0739, Train Accuracy: 0.9714, Train Precision: 0.9714, Train Recall: 0.9714\n",
            "Validation Loss: 1.4818, Validation Accuracy: 0.5545, Validation Precision: 0.5545, Validation Recall: 0.5545\n",
            "Test Loss: 1.4557, Test Accuracy: 0.5960, Test Precision: 0.5960, Test Recall: 0.5960\n",
            "\n",
            "Epoch 650/1000:\n",
            "Train Loss: 1.0724, Train Accuracy: 0.9714, Train Precision: 0.9714, Train Recall: 0.9714\n",
            "Validation Loss: 1.5345, Validation Accuracy: 0.5355, Validation Precision: 0.5355, Validation Recall: 0.5355\n",
            "Test Loss: 1.4638, Test Accuracy: 0.6049, Test Precision: 0.6049, Test Recall: 0.6049\n",
            "\n",
            "Epoch 700/1000:\n",
            "Train Loss: 1.0767, Train Accuracy: 0.9714, Train Precision: 0.9714, Train Recall: 0.9714\n",
            "Validation Loss: 1.5117, Validation Accuracy: 0.5166, Validation Precision: 0.5166, Validation Recall: 0.5166\n",
            "Test Loss: 1.4917, Test Accuracy: 0.5681, Test Precision: 0.5681, Test Recall: 0.5681\n",
            "\n",
            "Epoch 750/1000:\n",
            "Train Loss: 1.0722, Train Accuracy: 0.9714, Train Precision: 0.9714, Train Recall: 0.9714\n",
            "Validation Loss: 1.5062, Validation Accuracy: 0.5498, Validation Precision: 0.5498, Validation Recall: 0.5498\n",
            "Test Loss: 1.4816, Test Accuracy: 0.5818, Test Precision: 0.5818, Test Recall: 0.5818\n",
            "\n",
            "Epoch 800/1000:\n",
            "Train Loss: 1.0723, Train Accuracy: 0.9714, Train Precision: 0.9714, Train Recall: 0.9714\n",
            "Validation Loss: 1.5130, Validation Accuracy: 0.5498, Validation Precision: 0.5498, Validation Recall: 0.5498\n",
            "Test Loss: 1.4720, Test Accuracy: 0.5741, Test Precision: 0.5741, Test Recall: 0.5741\n",
            "\n",
            "Epoch 850/1000:\n",
            "Train Loss: 1.0722, Train Accuracy: 0.9714, Train Precision: 0.9714, Train Recall: 0.9714\n",
            "Validation Loss: 1.5009, Validation Accuracy: 0.5450, Validation Precision: 0.5450, Validation Recall: 0.5450\n",
            "Test Loss: 1.4742, Test Accuracy: 0.5711, Test Precision: 0.5711, Test Recall: 0.5711\n",
            "\n",
            "Epoch 900/1000:\n",
            "Train Loss: 1.0723, Train Accuracy: 0.9714, Train Precision: 0.9714, Train Recall: 0.9714\n",
            "Validation Loss: 1.4845, Validation Accuracy: 0.5545, Validation Precision: 0.5545, Validation Recall: 0.5545\n",
            "Test Loss: 1.4725, Test Accuracy: 0.5717, Test Precision: 0.5717, Test Recall: 0.5717\n",
            "\n",
            "Epoch 950/1000:\n",
            "Train Loss: 1.0754, Train Accuracy: 0.9714, Train Precision: 0.9714, Train Recall: 0.9714\n",
            "Validation Loss: 1.5037, Validation Accuracy: 0.5355, Validation Precision: 0.5355, Validation Recall: 0.5355\n",
            "Test Loss: 1.4715, Test Accuracy: 0.5521, Test Precision: 0.5521, Test Recall: 0.5521\n",
            "\n",
            "Epoch 1000/1000:\n",
            "Train Loss: 1.0723, Train Accuracy: 0.9714, Train Precision: 0.9714, Train Recall: 0.9714\n",
            "Validation Loss: 1.4864, Validation Accuracy: 0.5592, Validation Precision: 0.5592, Validation Recall: 0.5592\n",
            "Test Loss: 1.4755, Test Accuracy: 0.5752, Test Precision: 0.5752, Test Recall: 0.5752\n",
            "\n"
          ]
        },
        {
          "output_type": "display_data",
          "data": {
            "text/plain": [
              "<Figure size 1200x500 with 2 Axes>"
            ],
            "image/png": "[encoded data removed]"
          },
          "metadata": {}
        }
      ],
      "source": [
        "import torch.optim as optim\n",
        "from sklearn.metrics import accuracy_score, precision_score, recall_score\n",
        "import matplotlib.pyplot as plt\n",
        "\n",
        "# Initialize the model and optimizer\n",
        "num_features = features.size(1)\n",
        "num_classes = int(labels.max()) + 1\n",
        "hidden_channels = 64  # You can adjust this as needed\n",
        "model = GCN(num_features, hidden_channels, num_classes)\n",
        "optimizer = optim.Adam(model.parameters(), lr=0.01)\n",
        "\n",
        "# Define a function for evaluation\n",
        "import torch\n",
        "\n",
        "import torch\n",
        "import numpy as np\n",
        "\n",
        "def evaluate(model, features, adj, labels, mask):\n",
        "    model.eval()\n",
        "    with torch.no_grad():\n",
        "        logits = model(features, adj.t())\n",
        "        logits = logits[mask].cpu().numpy()  # Move logits to CPU and convert to numpy\n",
        "        labels = labels[mask].cpu().numpy()  # Move labels to CPU and convert to numpy\n",
        "        pred = np.argmax(logits, axis=1)  # Convert logits to predicted class indices\n",
        "        accuracy = accuracy_score(labels, pred)\n",
        "        precision = precision_score(labels, pred, average='micro')\n",
        "        recall = recall_score(labels, pred, average='micro')\n",
        "        return accuracy, precision, recall\n",
        "\n",
        "\n",
        "\n",
        "\n",
        "# Training loop\n",
        "num_epochs = 1000\n",
        "train_losses = []\n",
        "val_losses = []\n",
        "test_losses = []\n",
        "train_accuracies = []\n",
        "val_accuracies = []\n",
        "test_accuracies = []\n",
        "model=model.cuda()\n",
        "best_test_accuracy = 0.0\n",
        "best_model_state = None\n",
        "\n",
        "for epoch in range(1, num_epochs + 1):\n",
        "    model.train()\n",
        "    optimizer.zero_grad()\n",
        "    logits = model(features, adj.t())\n",
        "    loss = F.cross_entropy(logits[idx_train], labels[idx_train])\n",
        "    loss.backward()\n",
        "    optimizer.step()\n",
        "\n",
        "    if epoch % 50 == 0:\n",
        "        train_loss = loss.item()\n",
        "        val_loss = F.cross_entropy(logits[idx_val], labels[idx_val]).item()\n",
        "        test_loss = F.cross_entropy(logits[idx_test], labels[idx_test]).item()\n",
        "\n",
        "        train_accuracy, train_precision, train_recall = evaluate(model, features,adj,labels, idx_train)\n",
        "        val_accuracy, val_precision, val_recall = evaluate(model, features,adj,labels, idx_val)\n",
        "        test_accuracy, test_precision, test_recall = evaluate(model, features,adj,labels, idx_test)\n",
        "\n",
        "        train_losses.append(train_loss)\n",
        "        val_losses.append(val_loss)\n",
        "        test_losses.append(test_loss)\n",
        "\n",
        "        train_accuracies.append(train_accuracy)\n",
        "        val_accuracies.append(val_accuracy)\n",
        "        test_accuracies.append(test_accuracy)\n",
        "\n",
        "        print(f\"Epoch {epoch}/{num_epochs}:\")\n",
        "        print(f\"Train Loss: {train_loss:.4f}, Train Accuracy: {train_accuracy:.4f}, Train Precision: {train_precision:.4f}, Train Recall: {train_recall:.4f}\")\n",
        "        print(f\"Validation Loss: {val_loss:.4f}, Validation Accuracy: {val_accuracy:.4f}, Validation Precision: {val_precision:.4f}, Validation Recall: {val_recall:.4f}\")\n",
        "        print(f\"Test Loss: {test_loss:.4f}, Test Accuracy: {test_accuracy:.4f}, Test Precision: {test_precision:.4f}, Test Recall: {test_recall:.4f}\")\n",
        "        print(\"\")\n",
        "\n",
        "        if test_accuracy > best_test_accuracy:\n",
        "            best_test_accuracy = test_accuracy\n",
        "            best_model_state = model.state_dict()\n",
        "\n",
        "# Load the best model state\n",
        "model.load_state_dict(best_model_state)\n",
        "\n",
        "\n",
        "# Plot test loss and accuracy\n",
        "plt.figure(figsize=(12, 5))\n",
        "plt.subplot(1, 2, 1)\n",
        "plt.plot(range(50, num_epochs + 1, 50), test_losses, marker='o')\n",
        "plt.title('Test Loss Over Epochs')\n",
        "plt.xlabel('Epochs')\n",
        "plt.ylabel('Test Loss')\n",
        "\n",
        "plt.subplot(1, 2, 2)\n",
        "plt.plot(range(50, num_epochs + 1, 50), test_accuracies, marker='o')\n",
        "plt.title('Test Accuracy Over Epochs')\n",
        "plt.xlabel('Epochs')\n",
        "plt.ylabel('Test Accuracy')\n",
        "plt.show()\n"
      ]
    },
    {
      "cell_type": "code",
      "source": [],
      "metadata": {
        "id": "hKazE3PwkZ1z"
      },
      "execution_count": null,
      "outputs": []
    },
    {
      "cell_type": "code",
      "source": [],
      "metadata": {
        "id": "ncxP-l4MkZ4F"
      },
      "execution_count": null,
      "outputs": []
    },
    {
      "cell_type": "code",
      "source": [],
      "metadata": {
        "id": "xD_4Ic87kZ61"
      },
      "execution_count": null,
      "outputs": []
    },
    {
      "cell_type": "code",
      "source": [],
      "metadata": {
        "id": "fzhdbh0XkZ9V"
      },
      "execution_count": null,
      "outputs": []
    },
    {
      "cell_type": "markdown",
      "source": [],
      "metadata": {
        "id": "NvXyGFjNkaI6"
      }
    },
    {
      "cell_type": "markdown",
      "source": [],
      "metadata": {
        "id": "vGQj2eofkaLf"
      }
    },
    {
      "cell_type": "markdown",
      "source": [],
      "metadata": {
        "id": "gf00MaCxkaOD"
      }
    },
    {
      "cell_type": "markdown",
      "source": [
        "#sdfgh"
      ],
      "metadata": {
        "id": "sGdttKagkaQr"
      }
    },
    {
      "cell_type": "markdown",
      "source": [
        "\n",
        "\n",
        "```\n",
        "\n",
        "Epoch 50/1000:\n",
        "Train Loss: 1.1280, Train Accuracy: 0.9143, Train Precision: 0.9143, Train Recall: 0.9143\n",
        "Validation Loss: 1.4380, Validation Accuracy: 0.6303, Validation Precision: 0.6303, Validation Recall: 0.6303\n",
        "Test Loss: 1.4256, Test Accuracy: 0.6363, Test Precision: 0.6363, Test Recall: 0.6363\n",
        "\n",
        "Epoch 100/1000:\n",
        "Train Loss: 1.0916, Train Accuracy: 0.9524, Train Precision: 0.9524, Train Recall: 0.9524\n",
        "Validation Loss: 1.4732, Validation Accuracy: 0.5592, Validation Precision: 0.5592, Validation Recall: 0.5592\n",
        "Test Loss: 1.4640, Test Accuracy: 0.5569, Test Precision: 0.5569, Test Recall: 0.5569\n",
        "\n",
        "Epoch 150/1000:\n",
        "Train Loss: 1.0870, Train Accuracy: 0.9571, Train Precision: 0.9571, Train Recall: 0.9571\n",
        "Validation Loss: 1.4370, Validation Accuracy: 0.5972, Validation Precision: 0.5972, Validation Recall: 0.5972\n",
        "Test Loss: 1.4378, Test Accuracy: 0.6126, Test Precision: 0.6126, Test Recall: 0.6126\n",
        "\n",
        "Epoch 200/1000:\n",
        "Train Loss: 1.0864, Train Accuracy: 0.9571, Train Precision: 0.9571, Train Recall: 0.9571\n",
        "Validation Loss: 1.4619, Validation Accuracy: 0.5924, Validation Precision: 0.5924, Validation Recall: 0.5924\n",
        "Test Loss: 1.4578, Test Accuracy: 0.5853, Test Precision: 0.5853, Test Recall: 0.5853\n",
        "\n",
        "Epoch 250/1000:\n",
        "Train Loss: 1.0758, Train Accuracy: 0.9619, Train Precision: 0.9619, Train Recall: 0.9619\n",
        "Validation Loss: 1.4728, Validation Accuracy: 0.5687, Validation Precision: 0.5687, Validation Recall: 0.5687\n",
        "Test Loss: 1.4290, Test Accuracy: 0.6013, Test Precision: 0.6013, Test Recall: 0.6013\n",
        "\n",
        "Epoch 300/1000:\n",
        "Train Loss: 1.0713, Train Accuracy: 0.9762, Train Precision: 0.9762, Train Recall: 0.9762\n",
        "Validation Loss: 1.4690, Validation Accuracy: 0.5640, Validation Precision: 0.5640, Validation Recall: 0.5640\n",
        "Test Loss: 1.4604, Test Accuracy: 0.5889, Test Precision: 0.5889, Test Recall: 0.5889\n",
        "\n",
        "Epoch 350/1000:\n",
        "Train Loss: 1.0683, Train Accuracy: 0.9762, Train Precision: 0.9762, Train Recall: 0.9762\n",
        "Validation Loss: 1.4785, Validation Accuracy: 0.5829, Validation Precision: 0.5829, Validation Recall: 0.5829\n",
        "Test Loss: 1.4622, Test Accuracy: 0.5936, Test Precision: 0.5936, Test Recall: 0.5936\n",
        "\n",
        "Epoch 400/1000:\n",
        "Train Loss: 1.0674, Train Accuracy: 0.9762, Train Precision: 0.9762, Train Recall: 0.9762\n",
        "Validation Loss: 1.4895, Validation Accuracy: 0.5640, Validation Precision: 0.5640, Validation Recall: 0.5640\n",
        "Test Loss: 1.4564, Test Accuracy: 0.6007, Test Precision: 0.6007, Test Recall: 0.6007\n",
        "\n",
        "Epoch 450/1000:\n",
        "Train Loss: 1.0683, Train Accuracy: 0.9762, Train Precision: 0.9762, Train Recall: 0.9762\n",
        "Validation Loss: 1.5088, Validation Accuracy: 0.5261, Validation Precision: 0.5261, Validation Recall: 0.5261\n",
        "Test Loss: 1.4735, Test Accuracy: 0.5741, Test Precision: 0.5741, Test Recall: 0.5741\n",
        "\n",
        "Epoch 500/1000:\n",
        "Train Loss: 1.0679, Train Accuracy: 0.9762, Train Precision: 0.9762, Train Recall: 0.9762\n",
        "Validation Loss: 1.4693, Validation Accuracy: 0.5735, Validation Precision: 0.5735, Validation Recall: 0.5735\n",
        "Test Loss: 1.4536, Test Accuracy: 0.5889, Test Precision: 0.5889, Test Recall: 0.5889\n",
        "\n",
        "Epoch 550/1000:\n",
        "Train Loss: 1.0676, Train Accuracy: 0.9810, Train Precision: 0.9810, Train Recall: 0.9810\n",
        "Validation Loss: 1.4594, Validation Accuracy: 0.5592, Validation Precision: 0.5592, Validation Recall: 0.5592\n",
        "Test Loss: 1.4626, Test Accuracy: 0.5841, Test Precision: 0.5841, Test Recall: 0.5841\n",
        "\n",
        "Epoch 600/1000:\n",
        "Train Loss: 1.0672, Train Accuracy: 0.9762, Train Precision: 0.9762, Train Recall: 0.9762\n",
        "Validation Loss: 1.4530, Validation Accuracy: 0.5877, Validation Precision: 0.5877, Validation Recall: 0.5877\n",
        "Test Loss: 1.4421, Test Accuracy: 0.6019, Test Precision: 0.6019, Test Recall: 0.6019\n",
        "\n",
        "Epoch 650/1000:\n",
        "Train Loss: 1.0630, Train Accuracy: 0.9810, Train Precision: 0.9810, Train Recall: 0.9810\n",
        "Validation Loss: 1.4636, Validation Accuracy: 0.5735, Validation Precision: 0.5735, Validation Recall: 0.5735\n",
        "Test Loss: 1.4524, Test Accuracy: 0.5954, Test Precision: 0.5954, Test Recall: 0.5954\n",
        "\n",
        "Epoch 700/1000:\n",
        "Train Loss: 1.0626, Train Accuracy: 0.9810, Train Precision: 0.9810, Train Recall: 0.9810\n",
        "Validation Loss: 1.4288, Validation Accuracy: 0.5924, Validation Precision: 0.5924, Validation Recall: 0.5924\n",
        "Test Loss: 1.4513, Test Accuracy: 0.5948, Test Precision: 0.5948, Test Recall: 0.5948\n",
        "\n",
        "Epoch 750/1000:\n",
        "Train Loss: 1.0626, Train Accuracy: 0.9810, Train Precision: 0.9810, Train Recall: 0.9810\n",
        "Validation Loss: 1.4883, Validation Accuracy: 0.5687, Validation Precision: 0.5687, Validation Recall: 0.5687\n",
        "Test Loss: 1.4594, Test Accuracy: 0.5918, Test Precision: 0.5918, Test Recall: 0.5918\n",
        "\n",
        "Epoch 800/1000:\n",
        "Train Loss: 1.0627, Train Accuracy: 0.9810, Train Precision: 0.9810, Train Recall: 0.9810\n",
        "Validation Loss: 1.4368, Validation Accuracy: 0.5877, Validation Precision: 0.5877, Validation Recall: 0.5877\n",
        "Test Loss: 1.4400, Test Accuracy: 0.6078, Test Precision: 0.6078, Test Recall: 0.6078\n",
        "\n",
        "Epoch 850/1000:\n",
        "Train Loss: 1.0627, Train Accuracy: 0.9810, Train Precision: 0.9810, Train Recall: 0.9810\n",
        "Validation Loss: 1.4416, Validation Accuracy: 0.5877, Validation Precision: 0.5877, Validation Recall: 0.5877\n",
        "Test Loss: 1.4513, Test Accuracy: 0.5972, Test Precision: 0.5972, Test Recall: 0.5972\n",
        "\n",
        "Epoch 900/1000:\n",
        "Train Loss: 1.0635, Train Accuracy: 0.9810, Train Precision: 0.9810, Train Recall: 0.9810\n",
        "Validation Loss: 1.4743, Validation Accuracy: 0.5972, Validation Precision: 0.5972, Validation Recall: 0.5972\n",
        "Test Loss: 1.4804, Test Accuracy: 0.5829, Test Precision: 0.5829, Test Recall: 0.5829\n",
        "\n",
        "Epoch 950/1000:\n",
        "Train Loss: 1.0627, Train Accuracy: 0.9810, Train Precision: 0.9810, Train Recall: 0.9810\n",
        "Validation Loss: 1.4344, Validation Accuracy: 0.5924, Validation Precision: 0.5924, Validation Recall: 0.5924\n",
        "Test Loss: 1.4658, Test Accuracy: 0.5752, Test Precision: 0.5752, Test Recall: 0.5752\n",
        "\n",
        "Epoch 1000/1000:\n",
        "Train Loss: 1.0627, Train Accuracy: 0.9810, Train Precision: 0.9810, Train Recall: 0.9810\n",
        "Validation Loss: 1.4348, Validation Accuracy: 0.5924, Validation Precision: 0.5924, Validation Recall: 0.5924\n",
        "Test Loss: 1.4754, Test Accuracy: 0.5717, Test Precision: 0.5717, Test Recall: 0.5717\n",
        "```\n",
        "\n"
      ],
      "metadata": {
        "id": "IrMnby8pkcFF"
      }
    },
    {
      "cell_type": "code",
      "source": [],
      "metadata": {
        "id": "NCb3kEFzka8u"
      },
      "execution_count": null,
      "outputs": []
    },
    {
      "cell_type": "code",
      "source": [],
      "metadata": {
        "id": "G14fFuGwka_h"
      },
      "execution_count": null,
      "outputs": []
    },
    {
      "cell_type": "code",
      "source": [],
      "metadata": {
        "id": "-UZlBpXlkbBt"
      },
      "execution_count": null,
      "outputs": []
    },
    {
      "cell_type": "code",
      "source": [],
      "metadata": {
        "id": "qtcSLjHJV8oF"
      },
      "execution_count": null,
      "outputs": []
    }
  ],
  "metadata": {
    "accelerator": "GPU",
    "colab": {
      "toc_visible": true,
      "provenance": [],
      "include_colab_link": true
    },
    "kernelspec": {
      "display_name": "Python 3",
      "name": "python3"
    },
    "language_info": {
      "codemirror_mode": {
        "name": "ipython",
        "version": 3
      },
      "file_extension": ".py",
      "mimetype": "text/x-python",
      "name": "python",
      "nbconvert_exporter": "python",
      "pygments_lexer": "ipython3",
      "version": "3.9.13"
    }
  },
  "nbformat": 4,
  "nbformat_minor": 0
}