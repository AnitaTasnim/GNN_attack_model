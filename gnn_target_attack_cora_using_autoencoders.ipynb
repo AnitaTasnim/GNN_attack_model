{
  "metadata": {
    "kernelspec": {
      "language": "python",
      "display_name": "Python 3",
      "name": "python3"
    },
    "language_info": {
      "name": "python",
      "version": "3.10.12",
      "mimetype": "text/x-python",
      "codemirror_mode": {
        "name": "ipython",
        "version": 3
      },
      "pygments_lexer": "ipython3",
      "nbconvert_exporter": "python",
      "file_extension": ".py"
    },
    "colab": {
      "provenance": [],
      "include_colab_link": true
    }
  },
  "nbformat_minor": 0,
  "nbformat": 4,
  "cells": [
    {
      "cell_type": "markdown",
      "metadata": {
        "id": "view-in-github",
        "colab_type": "text"
      },
      "source": [
        "<a href=\"https://colab.research.google.com/github/AnitaTasnim/GNN_attack_model/blob/main/gnn_target_attack_cora_using_autoencoders.ipynb\" target=\"_parent\"><img src=\"https://colab.research.google.com/assets/colab-badge.svg\" alt=\"Open In Colab\"/></a>"
      ]
    },
    {
      "cell_type": "code",
      "source": [
        "!pip install pygod\n",
        "!pip install torch-geometric"
      ],
      "metadata": {
        "execution": {
          "iopub.status.busy": "2023-09-24T13:47:16.872542Z",
          "iopub.execute_input": "2023-09-24T13:47:16.873188Z",
          "iopub.status.idle": "2023-09-24T13:48:06.127193Z",
          "shell.execute_reply.started": "2023-09-24T13:47:16.873135Z",
          "shell.execute_reply": "2023-09-24T13:48:06.125858Z"
        },
        "trusted": true,
        "id": "YfjaPHTqgms-",
        "outputId": "b08583a3-c6f1-4929-8aa2-b515f9dc5da1"
      },
      "execution_count": null,
      "outputs": [
        {
          "name": "stdout",
          "text": "Collecting pygod\n  Downloading pygod-1.0.0.tar.gz (44 kB)\n\u001b[2K     \u001b[90m━━━━━━━━━━━━━━━━━━━━━━━━━━━━━━━━━━━━━━━━\u001b[0m \u001b[32m44.1/44.1 kB\u001b[0m \u001b[31m1.9 MB/s\u001b[0m eta \u001b[36m0:00:00\u001b[0m\n\u001b[?25h  Preparing metadata (setup.py) ... \u001b[?25ldone\n\u001b[?25hRequirement already satisfied: numpy in /opt/conda/lib/python3.10/site-packages (from pygod) (1.23.5)\nRequirement already satisfied: scipy in /opt/conda/lib/python3.10/site-packages (from pygod) (1.11.2)\nRequirement already satisfied: networkx in /opt/conda/lib/python3.10/site-packages (from pygod) (3.1)\nRequirement already satisfied: scikit-learn in /opt/conda/lib/python3.10/site-packages (from pygod) (1.2.2)\nRequirement already satisfied: setuptools in /opt/conda/lib/python3.10/site-packages (from pygod) (68.0.0)\nRequirement already satisfied: joblib>=1.1.1 in /opt/conda/lib/python3.10/site-packages (from scikit-learn->pygod) (1.3.2)\nRequirement already satisfied: threadpoolctl>=2.0.0 in /opt/conda/lib/python3.10/site-packages (from scikit-learn->pygod) (3.1.0)\nBuilding wheels for collected packages: pygod\n  Building wheel for pygod (setup.py) ... \u001b[?25ldone\n\u001b[?25h  Created wheel for pygod: filename=pygod-1.0.0-py3-none-any.whl size=70678 sha256=ed64aa45042a02d33287c51c4850d2ec46f689eaa5425164bdd3a83979947fbf\n  Stored in directory: /root/.cache/pip/wheels/19/4f/5e/d4a08c3476915cb8021462fe4129680c598ebce8b100f59ecf\nSuccessfully built pygod\nInstalling collected packages: pygod\nSuccessfully installed pygod-1.0.0\nCollecting torch-geometric\n  Downloading torch_geometric-2.3.1.tar.gz (661 kB)\n\u001b[2K     \u001b[90m━━━━━━━━━━━━━━━━━━━━━━━━━━━━━━━━━━━━━━\u001b[0m \u001b[32m661.6/661.6 kB\u001b[0m \u001b[31m11.7 MB/s\u001b[0m eta \u001b[36m0:00:00\u001b[0ma \u001b[36m0:00:01\u001b[0m\n\u001b[?25h  Installing build dependencies ... \u001b[?25ldone\n\u001b[?25h  Getting requirements to build wheel ... \u001b[?25ldone\n\u001b[?25h  Preparing metadata (pyproject.toml) ... \u001b[?25ldone\n\u001b[?25hRequirement already satisfied: tqdm in /opt/conda/lib/python3.10/site-packages (from torch-geometric) (4.66.1)\nRequirement already satisfied: numpy in /opt/conda/lib/python3.10/site-packages (from torch-geometric) (1.23.5)\nRequirement already satisfied: scipy in /opt/conda/lib/python3.10/site-packages (from torch-geometric) (1.11.2)\nRequirement already satisfied: jinja2 in /opt/conda/lib/python3.10/site-packages (from torch-geometric) (3.1.2)\nRequirement already satisfied: requests in /opt/conda/lib/python3.10/site-packages (from torch-geometric) (2.31.0)\nRequirement already satisfied: pyparsing in /opt/conda/lib/python3.10/site-packages (from torch-geometric) (3.0.9)\nRequirement already satisfied: scikit-learn in /opt/conda/lib/python3.10/site-packages (from torch-geometric) (1.2.2)\nRequirement already satisfied: psutil>=5.8.0 in /opt/conda/lib/python3.10/site-packages (from torch-geometric) (5.9.3)\nRequirement already satisfied: MarkupSafe>=2.0 in /opt/conda/lib/python3.10/site-packages (from jinja2->torch-geometric) (2.1.3)\nRequirement already satisfied: charset-normalizer<4,>=2 in /opt/conda/lib/python3.10/site-packages (from requests->torch-geometric) (3.1.0)\nRequirement already satisfied: idna<4,>=2.5 in /opt/conda/lib/python3.10/site-packages (from requests->torch-geometric) (3.4)\nRequirement already satisfied: urllib3<3,>=1.21.1 in /opt/conda/lib/python3.10/site-packages (from requests->torch-geometric) (1.26.15)\nRequirement already satisfied: certifi>=2017.4.17 in /opt/conda/lib/python3.10/site-packages (from requests->torch-geometric) (2023.7.22)\nRequirement already satisfied: joblib>=1.1.1 in /opt/conda/lib/python3.10/site-packages (from scikit-learn->torch-geometric) (1.3.2)\nRequirement already satisfied: threadpoolctl>=2.0.0 in /opt/conda/lib/python3.10/site-packages (from scikit-learn->torch-geometric) (3.1.0)\nBuilding wheels for collected packages: torch-geometric\n  Building wheel for torch-geometric (pyproject.toml) ... \u001b[?25ldone\n\u001b[?25h  Created wheel for torch-geometric: filename=torch_geometric-2.3.1-py3-none-any.whl size=910454 sha256=86045b1dd01bdf67fecfc38e4cbc5bb7d4f0114394df7d19a036f84e260d0900\n  Stored in directory: /root/.cache/pip/wheels/ac/dc/30/e2874821ff308ee67dcd7a66dbde912411e19e35a1addda028\nSuccessfully built torch-geometric\nInstalling collected packages: torch-geometric\nSuccessfully installed torch-geometric-2.3.1\n",
          "output_type": "stream"
        }
      ]
    },
    {
      "cell_type": "code",
      "source": [
        "import torch\n",
        "import torch.nn as nn\n",
        "from torch.nn import init\n",
        "import torch_geometric\n",
        "from pygod.utils import load_data\n",
        "from torch_geometric.data import Data\n",
        "from torch_geometric.datasets import Planetoid\n",
        "from torch_geometric.transforms import NormalizeFeatures\n"
      ],
      "metadata": {
        "_uuid": "8f2839f25d086af736a60e9eeb907d3b93b6e0e5",
        "_cell_guid": "b1076dfc-b9ad-4769-8c92-a6c4dae69d19",
        "execution": {
          "iopub.status.busy": "2023-09-24T13:48:06.129919Z",
          "iopub.execute_input": "2023-09-24T13:48:06.130305Z",
          "iopub.status.idle": "2023-09-24T13:48:10.898801Z",
          "shell.execute_reply.started": "2023-09-24T13:48:06.130269Z",
          "shell.execute_reply": "2023-09-24T13:48:10.897598Z"
        },
        "trusted": true,
        "id": "yyzzTmIIgmtC",
        "outputId": "a80d786a-bac9-4a16-cb20-cc088d194b4a"
      },
      "execution_count": null,
      "outputs": [
        {
          "name": "stderr",
          "text": "/opt/conda/lib/python3.10/site-packages/scipy/__init__.py:146: UserWarning: A NumPy version >=1.16.5 and <1.23.0 is required for this version of SciPy (detected version 1.23.5\n  warnings.warn(f\"A NumPy version >={np_minversion} and <{np_maxversion}\"\n",
          "output_type": "stream"
        }
      ]
    },
    {
      "cell_type": "code",
      "source": [
        "pwd"
      ],
      "metadata": {
        "execution": {
          "iopub.status.busy": "2023-09-24T13:48:10.900408Z",
          "iopub.execute_input": "2023-09-24T13:48:10.901015Z",
          "iopub.status.idle": "2023-09-24T13:48:10.909397Z",
          "shell.execute_reply.started": "2023-09-24T13:48:10.900983Z",
          "shell.execute_reply": "2023-09-24T13:48:10.908443Z"
        },
        "trusted": true,
        "id": "wMgxnsWTgmtE",
        "outputId": "0c9f94ce-92c2-4794-b42b-cc2509d64f2d"
      },
      "execution_count": null,
      "outputs": [
        {
          "execution_count": 3,
          "output_type": "execute_result",
          "data": {
            "text/plain": "'/kaggle/working'"
          },
          "metadata": {}
        }
      ]
    },
    {
      "cell_type": "code",
      "source": [
        "import torch\n",
        "from torch_geometric.datasets import Planetoid\n",
        "\n",
        "# Load the CORA dataset\n",
        "dataset = Planetoid(root='/kaggle/working', name='Cora')\n",
        "\n",
        "# Get the adjacency matrix, features, and labels\n",
        "adj = dataset[0].edge_index.t()\n",
        "features = dataset[0].x\n",
        "labels = dataset[0].y\n",
        "\n",
        "# Get the train, validation, and test indices\n",
        "idx_train = dataset[0].train_mask.nonzero().view(-1)\n",
        "idx_val = dataset[0].val_mask.nonzero().view(-1)\n",
        "idx_test = dataset[0].test_mask.nonzero().view(-1)\n",
        "\n",
        "# Print some dataset statistics\n",
        "print(f\"Number of nodes: {adj.size(0)}\")\n",
        "print(f\"Number of edges: {adj.sum().item() // 2}\")  # Divide by 2 because the graph is undirected\n",
        "print(f\"Number of features per node: {features.size(1)}\")\n",
        "print(f\"Number of classes: {int(labels.max()) + 1}\")\n",
        "print(f\"Number of training nodes: {len(idx_train)}\")\n",
        "print(f\"Number of validation nodes: {len(idx_val)}\")\n",
        "print(f\"Number of test nodes: {len(idx_test)}\")\n"
      ],
      "metadata": {
        "execution": {
          "iopub.status.busy": "2023-09-24T13:48:10.912819Z",
          "iopub.execute_input": "2023-09-24T13:48:10.913492Z",
          "iopub.status.idle": "2023-09-24T13:48:12.761654Z",
          "shell.execute_reply.started": "2023-09-24T13:48:10.913455Z",
          "shell.execute_reply": "2023-09-24T13:48:12.760590Z"
        },
        "trusted": true,
        "id": "sP_AkYzXgmtF",
        "outputId": "cc952649-a352-4954-ede0-1b9caa7e58fd"
      },
      "execution_count": null,
      "outputs": [
        {
          "name": "stderr",
          "text": "Downloading https://github.com/kimiyoung/planetoid/raw/master/data/ind.cora.x\nDownloading https://github.com/kimiyoung/planetoid/raw/master/data/ind.cora.tx\nDownloading https://github.com/kimiyoung/planetoid/raw/master/data/ind.cora.allx\nDownloading https://github.com/kimiyoung/planetoid/raw/master/data/ind.cora.y\nDownloading https://github.com/kimiyoung/planetoid/raw/master/data/ind.cora.ty\nDownloading https://github.com/kimiyoung/planetoid/raw/master/data/ind.cora.ally\nDownloading https://github.com/kimiyoung/planetoid/raw/master/data/ind.cora.graph\nDownloading https://github.com/kimiyoung/planetoid/raw/master/data/ind.cora.test.index\nProcessing...\n",
          "output_type": "stream"
        },
        {
          "name": "stdout",
          "text": "Number of nodes: 10556\nNumber of edges: 13820218\nNumber of features per node: 1433\nNumber of classes: 7\nNumber of training nodes: 140\nNumber of validation nodes: 500\nNumber of test nodes: 1000\n",
          "output_type": "stream"
        },
        {
          "name": "stderr",
          "text": "Done!\n",
          "output_type": "stream"
        }
      ]
    },
    {
      "cell_type": "code",
      "source": [
        "import numpy as np\n",
        "idx_unlabeled = np.union1d(idx_val, idx_test)\n",
        "idx_unlabeled[:10]"
      ],
      "metadata": {
        "execution": {
          "iopub.status.busy": "2023-09-24T13:48:12.763514Z",
          "iopub.execute_input": "2023-09-24T13:48:12.764292Z",
          "iopub.status.idle": "2023-09-24T13:48:12.775486Z",
          "shell.execute_reply.started": "2023-09-24T13:48:12.764252Z",
          "shell.execute_reply": "2023-09-24T13:48:12.774129Z"
        },
        "trusted": true,
        "id": "QqrNX_SzgmtF",
        "outputId": "9e765f05-7bda-4bb9-a1aa-59c3ec229a9c"
      },
      "execution_count": null,
      "outputs": [
        {
          "execution_count": 5,
          "output_type": "execute_result",
          "data": {
            "text/plain": "array([140, 141, 142, 143, 144, 145, 146, 147, 148, 149])"
          },
          "metadata": {}
        }
      ]
    },
    {
      "cell_type": "code",
      "source": [
        "import random\n",
        "target_number = 10\n",
        "node_list = random.sample(list(idx_unlabeled),target_number)\n",
        "node_list"
      ],
      "metadata": {
        "execution": {
          "iopub.status.busy": "2023-09-24T13:48:12.777197Z",
          "iopub.execute_input": "2023-09-24T13:48:12.777667Z",
          "iopub.status.idle": "2023-09-24T13:48:12.788501Z",
          "shell.execute_reply.started": "2023-09-24T13:48:12.777608Z",
          "shell.execute_reply": "2023-09-24T13:48:12.786371Z"
        },
        "trusted": true,
        "id": "3xRUoYB1gmtH",
        "outputId": "7e48fb81-74d0-4186-b9a5-4c48565eb8d1"
      },
      "execution_count": null,
      "outputs": [
        {
          "execution_count": 6,
          "output_type": "execute_result",
          "data": {
            "text/plain": "[1997, 2576, 2500, 563, 2276, 2459, 2446, 2029, 359, 2129]"
          },
          "metadata": {}
        }
      ]
    },
    {
      "cell_type": "code",
      "source": [
        "torch.manual_seed(0)\n",
        "\n",
        "if torch.cuda.is_available():\n",
        "    torch.cuda.manual_seed(42)\n",
        "    torch.cuda.manual_seed_all(42)\n",
        "    device = torch.device('cuda')\n",
        "elif hasattr(torch.backends, 'mps') and torch.backends.mps.is_available():\n",
        "    device = torch.device('mps')\n",
        "else:\n",
        "    device = torch.device('cpu')\n",
        "\n",
        "torch.backends.cudnn.deterministic = True\n",
        "torch.backends.cudnn.benchmark = False"
      ],
      "metadata": {
        "execution": {
          "iopub.status.busy": "2023-09-24T13:48:12.790784Z",
          "iopub.execute_input": "2023-09-24T13:48:12.791791Z",
          "iopub.status.idle": "2023-09-24T13:48:12.805509Z",
          "shell.execute_reply.started": "2023-09-24T13:48:12.791752Z",
          "shell.execute_reply": "2023-09-24T13:48:12.804483Z"
        },
        "trusted": true,
        "id": "JJDItFeLgmtI"
      },
      "execution_count": null,
      "outputs": []
    },
    {
      "cell_type": "code",
      "source": [
        "device"
      ],
      "metadata": {
        "execution": {
          "iopub.status.busy": "2023-09-24T13:48:12.807280Z",
          "iopub.execute_input": "2023-09-24T13:48:12.808285Z",
          "iopub.status.idle": "2023-09-24T13:48:12.815342Z",
          "shell.execute_reply.started": "2023-09-24T13:48:12.808248Z",
          "shell.execute_reply": "2023-09-24T13:48:12.814091Z"
        },
        "trusted": true,
        "id": "fx5woC-ugmtI",
        "outputId": "5df387a0-afef-4be5-9f99-122fa090d311"
      },
      "execution_count": null,
      "outputs": [
        {
          "execution_count": 8,
          "output_type": "execute_result",
          "data": {
            "text/plain": "device(type='cuda')"
          },
          "metadata": {}
        }
      ]
    },
    {
      "cell_type": "code",
      "source": [
        "from torch_geometric.nn import GCNConv\n",
        "from torch.nn import Linear, BatchNorm1d\n",
        "\n",
        "class GCN(torch.nn.Module):\n",
        "    def __init__(self, num_features, hidden_channels, num_classes):\n",
        "        super(GCN, self).__init__()\n",
        "        self.conv1 = GCNConv(num_features, hidden_channels)\n",
        "        self.bn1 = BatchNorm1d(hidden_channels)\n",
        "        self.conv2 = GCNConv(hidden_channels, hidden_channels)\n",
        "        self.bn2 = BatchNorm1d(hidden_channels)\n",
        "        self.conv3 = GCNConv(hidden_channels, hidden_channels)\n",
        "        self.bn3 = BatchNorm1d(hidden_channels)\n",
        "        self.conv4 = GCNConv(hidden_channels, hidden_channels)\n",
        "        self.bn4 = BatchNorm1d(hidden_channels)\n",
        "        self.out = Linear(hidden_channels, num_classes)\n",
        "\n",
        "    def forward(self, x, edge_index):\n",
        "        # First Message Passing Layer (Transformation)\n",
        "        x = self.conv1(x, edge_index)\n",
        "        x = self.bn1(x)\n",
        "        x = F.relu(x)\n",
        "        x = F.dropout(x, p=0.5, training=self.training)\n",
        "\n",
        "        # Second Message Passing Layer\n",
        "        x = self.conv2(x, edge_index)\n",
        "        x = self.bn2(x)\n",
        "        x = F.relu(x)\n",
        "        x = F.dropout(x, p=0.5, training=self.training)\n",
        "\n",
        "        # Third Message Passing Layer\n",
        "        x = self.conv3(x, edge_index)\n",
        "        x = self.bn3(x)\n",
        "        x = F.relu(x)\n",
        "        x = F.dropout(x, p=0.5, training=self.training)\n",
        "\n",
        "        # Fourth Message Passing Layer\n",
        "        x = self.conv4(x, edge_index)\n",
        "        x = self.bn4(x)\n",
        "        x = F.relu(x)\n",
        "        x = F.dropout(x, p=0.5, training=self.training)\n",
        "\n",
        "        # Output layer\n",
        "        x = self.out(x)\n",
        "        x = F.softmax(x, dim=1)\n",
        "        return x\n",
        "\n"
      ],
      "metadata": {
        "execution": {
          "iopub.status.busy": "2023-09-24T13:48:12.817020Z",
          "iopub.execute_input": "2023-09-24T13:48:12.817551Z",
          "iopub.status.idle": "2023-09-24T13:48:12.833301Z",
          "shell.execute_reply.started": "2023-09-24T13:48:12.817514Z",
          "shell.execute_reply": "2023-09-24T13:48:12.832035Z"
        },
        "trusted": true,
        "id": "zfMjTJmagmtJ"
      },
      "execution_count": null,
      "outputs": []
    },
    {
      "cell_type": "code",
      "source": [
        "degree_cora = {}\n",
        "for (u, v) in adj:\n",
        "    if int(u) in degree_cora:\n",
        "        degree_cora[int(u)] += 1\n",
        "    else:\n",
        "        degree_cora[int(u)] = 1\n",
        "\n",
        "degree_cora[400]"
      ],
      "metadata": {
        "execution": {
          "iopub.status.busy": "2023-09-24T13:48:12.838803Z",
          "iopub.execute_input": "2023-09-24T13:48:12.839126Z",
          "iopub.status.idle": "2023-09-24T13:48:12.964440Z",
          "shell.execute_reply.started": "2023-09-24T13:48:12.839101Z",
          "shell.execute_reply": "2023-09-24T13:48:12.963360Z"
        },
        "trusted": true,
        "id": "XW9g6UxrgmtJ",
        "outputId": "5205069f-45d1-43a3-a080-54f1b752054c"
      },
      "execution_count": null,
      "outputs": [
        {
          "execution_count": 10,
          "output_type": "execute_result",
          "data": {
            "text/plain": "1"
          },
          "metadata": {}
        }
      ]
    },
    {
      "cell_type": "code",
      "source": [
        "node_list"
      ],
      "metadata": {
        "execution": {
          "iopub.status.busy": "2023-09-24T13:48:12.966069Z",
          "iopub.execute_input": "2023-09-24T13:48:12.966466Z",
          "iopub.status.idle": "2023-09-24T13:48:12.974722Z",
          "shell.execute_reply.started": "2023-09-24T13:48:12.966429Z",
          "shell.execute_reply": "2023-09-24T13:48:12.973356Z"
        },
        "trusted": true,
        "id": "1_n410szgmtK",
        "outputId": "1c6d5490-c0a0-4d1c-9ad0-0fa0657d1b25"
      },
      "execution_count": null,
      "outputs": [
        {
          "execution_count": 11,
          "output_type": "execute_result",
          "data": {
            "text/plain": "[1997, 2576, 2500, 563, 2276, 2459, 2446, 2029, 359, 2129]"
          },
          "metadata": {}
        }
      ]
    },
    {
      "cell_type": "code",
      "source": [
        "import torch\n",
        "import torch.nn.functional as F\n",
        "import torch.optim as optim\n",
        "from sklearn.metrics import accuracy_score, precision_score, recall_score\n",
        "import matplotlib.pyplot as plt\n",
        "\n",
        "# Initialize the model and optimizer\n",
        "num_features = features.size(1)\n",
        "num_classes = int(labels.max()) + 1\n",
        "hidden_channels = 64  # You can adjust this as needed\n",
        "model = GCN(num_features, hidden_channels, num_classes)\n",
        "optimizer = optim.Adam(model.parameters(), lr=0.01)\n",
        "\n",
        "# Define a function for evaluation\n",
        "def evaluate(model, features,adj,labels, mask):\n",
        "    model.eval()\n",
        "    with torch.no_grad():\n",
        "        logits = model(features, adj.t())\n",
        "        logits = logits[mask]\n",
        "        labels = labels[mask]\n",
        "        pred = logits.max(1)[1]\n",
        "        accuracy = accuracy_score(labels, pred)\n",
        "        precision = precision_score(labels, pred, average='micro')\n",
        "        recall = recall_score(labels, pred, average='micro')\n",
        "        return accuracy, precision, recall\n",
        "\n",
        "# Training loop\n",
        "num_epochs = 5000\n",
        "train_losses = []\n",
        "val_losses = []\n",
        "test_losses = []\n",
        "train_accuracies = []\n",
        "val_accuracies = []\n",
        "test_accuracies = []\n",
        "\n",
        "for epoch in range(1, num_epochs + 1):\n",
        "    model.train()\n",
        "    optimizer.zero_grad()\n",
        "    logits = model(features, adj.t())\n",
        "    loss = F.cross_entropy(logits[idx_train], labels[idx_train])\n",
        "    loss.backward()\n",
        "    optimizer.step()\n",
        "\n",
        "    if epoch % 500 == 0:\n",
        "        train_loss = loss.item()\n",
        "        val_loss = F.cross_entropy(logits[idx_val], labels[idx_val]).item()\n",
        "        test_loss = F.cross_entropy(logits[idx_test], labels[idx_test]).item()\n",
        "\n",
        "        train_accuracy, train_precision, train_recall = evaluate(model, features,adj,labels, idx_train)\n",
        "        val_accuracy, val_precision, val_recall = evaluate(model, features,adj,labels, idx_val)\n",
        "        test_accuracy, test_precision, test_recall = evaluate(model, features,adj,labels, idx_test)\n",
        "\n",
        "        train_losses.append(train_loss)\n",
        "        val_losses.append(val_loss)\n",
        "        test_losses.append(test_loss)\n",
        "\n",
        "        train_accuracies.append(train_accuracy)\n",
        "        val_accuracies.append(val_accuracy)\n",
        "        test_accuracies.append(test_accuracy)\n",
        "\n",
        "        print(f\"Epoch {epoch}/{num_epochs}:\")\n",
        "        print(f\"Train Loss: {train_loss:.4f}, Train Accuracy: {train_accuracy:.4f}, Train Precision: {train_precision:.4f}, Train Recall: {train_recall:.4f}\")\n",
        "        print(f\"Validation Loss: {val_loss:.4f}, Validation Accuracy: {val_accuracy:.4f}, Validation Precision: {val_precision:.4f}, Validation Recall: {val_recall:.4f}\")\n",
        "        print(f\"Test Loss: {test_loss:.4f}, Test Accuracy: {test_accuracy:.4f}, Test Precision: {test_precision:.4f}, Test Recall: {test_recall:.4f}\")\n",
        "        print(\"\")\n",
        "\n",
        "\n",
        "# Plot test loss and accuracy\n",
        "plt.figure(figsize=(12, 5))\n",
        "plt.subplot(1, 2, 1)\n",
        "plt.plot(range(500, num_epochs + 1, 500), test_losses, marker='o')\n",
        "plt.title('Test Loss Over Epochs')\n",
        "plt.xlabel('Epochs')\n",
        "plt.ylabel('Test Loss')\n",
        "\n",
        "plt.subplot(1, 2, 2)\n",
        "plt.plot(range(500, num_epochs + 1, 500), test_accuracies, marker='o')\n",
        "plt.title('Test Accuracy Over Epochs')\n",
        "plt.xlabel('Epochs')\n",
        "plt.ylabel('Test Accuracy')\n",
        "plt.show()\n"
      ],
      "metadata": {
        "execution": {
          "iopub.status.busy": "2023-09-24T13:48:12.976386Z",
          "iopub.execute_input": "2023-09-24T13:48:12.977207Z",
          "iopub.status.idle": "2023-09-24T13:52:18.426847Z",
          "shell.execute_reply.started": "2023-09-24T13:48:12.977172Z",
          "shell.execute_reply": "2023-09-24T13:52:18.425736Z"
        },
        "trusted": true,
        "id": "ziTaU9tOgmtK",
        "outputId": "e8801d2d-6536-44a9-aa00-c90b2ef55da2"
      },
      "execution_count": null,
      "outputs": [
        {
          "name": "stdout",
          "text": "Epoch 500/5000:\nTrain Loss: 1.1655, Train Accuracy: 1.0000, Train Precision: 1.0000, Train Recall: 1.0000\nValidation Loss: 1.5386, Validation Accuracy: 0.6380, Validation Precision: 0.6380, Validation Recall: 0.6380\nTest Loss: 1.5096, Test Accuracy: 0.6700, Test Precision: 0.6700, Test Recall: 0.6700\n\nEpoch 1000/5000:\nTrain Loss: 1.1655, Train Accuracy: 1.0000, Train Precision: 1.0000, Train Recall: 1.0000\nValidation Loss: 1.5571, Validation Accuracy: 0.6420, Validation Precision: 0.6420, Validation Recall: 0.6420\nTest Loss: 1.5076, Test Accuracy: 0.6590, Test Precision: 0.6590, Test Recall: 0.6590\n\nEpoch 1500/5000:\nTrain Loss: 1.1672, Train Accuracy: 1.0000, Train Precision: 1.0000, Train Recall: 1.0000\nValidation Loss: 1.4757, Validation Accuracy: 0.6760, Validation Precision: 0.6760, Validation Recall: 0.6760\nTest Loss: 1.4642, Test Accuracy: 0.7160, Test Precision: 0.7160, Test Recall: 0.7160\n\nEpoch 2000/5000:\nTrain Loss: 1.1655, Train Accuracy: 1.0000, Train Precision: 1.0000, Train Recall: 1.0000\nValidation Loss: 1.5201, Validation Accuracy: 0.6640, Validation Precision: 0.6640, Validation Recall: 0.6640\nTest Loss: 1.4897, Test Accuracy: 0.7000, Test Precision: 0.7000, Test Recall: 0.7000\n\nEpoch 2500/5000:\nTrain Loss: 1.1656, Train Accuracy: 1.0000, Train Precision: 1.0000, Train Recall: 1.0000\nValidation Loss: 1.4962, Validation Accuracy: 0.6700, Validation Precision: 0.6700, Validation Recall: 0.6700\nTest Loss: 1.4808, Test Accuracy: 0.6940, Test Precision: 0.6940, Test Recall: 0.6940\n\nEpoch 3000/5000:\nTrain Loss: 1.1654, Train Accuracy: 1.0000, Train Precision: 1.0000, Train Recall: 1.0000\nValidation Loss: 1.4801, Validation Accuracy: 0.6840, Validation Precision: 0.6840, Validation Recall: 0.6840\nTest Loss: 1.4895, Test Accuracy: 0.7080, Test Precision: 0.7080, Test Recall: 0.7080\n\nEpoch 3500/5000:\nTrain Loss: 1.1665, Train Accuracy: 1.0000, Train Precision: 1.0000, Train Recall: 1.0000\nValidation Loss: 1.5133, Validation Accuracy: 0.6620, Validation Precision: 0.6620, Validation Recall: 0.6620\nTest Loss: 1.4877, Test Accuracy: 0.7010, Test Precision: 0.7010, Test Recall: 0.7010\n\nEpoch 4000/5000:\nTrain Loss: 1.1731, Train Accuracy: 1.0000, Train Precision: 1.0000, Train Recall: 1.0000\nValidation Loss: 1.5173, Validation Accuracy: 0.6640, Validation Precision: 0.6640, Validation Recall: 0.6640\nTest Loss: 1.4882, Test Accuracy: 0.6940, Test Precision: 0.6940, Test Recall: 0.6940\n\nEpoch 4500/5000:\nTrain Loss: 1.1654, Train Accuracy: 1.0000, Train Precision: 1.0000, Train Recall: 1.0000\nValidation Loss: 1.4851, Validation Accuracy: 0.7100, Validation Precision: 0.7100, Validation Recall: 0.7100\nTest Loss: 1.4756, Test Accuracy: 0.7140, Test Precision: 0.7140, Test Recall: 0.7140\n\nEpoch 5000/5000:\nTrain Loss: 1.1654, Train Accuracy: 1.0000, Train Precision: 1.0000, Train Recall: 1.0000\nValidation Loss: 1.4894, Validation Accuracy: 0.7000, Validation Precision: 0.7000, Validation Recall: 0.7000\nTest Loss: 1.4483, Test Accuracy: 0.7300, Test Precision: 0.7300, Test Recall: 0.7300\n\n",
          "output_type": "stream"
        },
        {
          "output_type": "display_data",
          "data": {
            "text/plain": "<Figure size 1200x500 with 2 Axes>",
            "image/png": "[encoded data removed]"
          },
          "metadata": {}
        }
      ]
    },
    {
      "cell_type": "code",
      "source": [
        "pwd"
      ],
      "metadata": {
        "execution": {
          "iopub.status.busy": "2023-09-24T13:52:18.428154Z",
          "iopub.execute_input": "2023-09-24T13:52:18.428647Z",
          "iopub.status.idle": "2023-09-24T13:52:18.436858Z",
          "shell.execute_reply.started": "2023-09-24T13:52:18.428601Z",
          "shell.execute_reply": "2023-09-24T13:52:18.435546Z"
        },
        "trusted": true,
        "id": "svji4gLkgmtL",
        "outputId": "0758f74a-a87e-48e5-cc5c-4d09414fe451"
      },
      "execution_count": null,
      "outputs": [
        {
          "execution_count": 13,
          "output_type": "execute_result",
          "data": {
            "text/plain": "'/kaggle/working'"
          },
          "metadata": {}
        }
      ]
    },
    {
      "cell_type": "code",
      "source": [],
      "metadata": {
        "id": "ESRB8LWegmtL"
      },
      "execution_count": null,
      "outputs": []
    },
    {
      "cell_type": "markdown",
      "source": [
        "### Autoencoder"
      ],
      "metadata": {
        "id": "9ElIDv94gmtL"
      }
    },
    {
      "cell_type": "code",
      "source": [
        "import torch_geometric.transforms as T\n",
        "from torch_geometric.nn import GAE, VGAE, GCNConv\n",
        "import time"
      ],
      "metadata": {
        "execution": {
          "iopub.status.busy": "2023-09-24T13:52:18.438628Z",
          "iopub.execute_input": "2023-09-24T13:52:18.439491Z",
          "iopub.status.idle": "2023-09-24T13:52:18.447629Z",
          "shell.execute_reply.started": "2023-09-24T13:52:18.439451Z",
          "shell.execute_reply": "2023-09-24T13:52:18.446884Z"
        },
        "trusted": true,
        "id": "p2Hws0dNgmtM"
      },
      "execution_count": null,
      "outputs": []
    },
    {
      "cell_type": "code",
      "source": [
        "transform = T.Compose([\n",
        "    T.NormalizeFeatures(),\n",
        "    T.ToDevice(device),\n",
        "    T.RandomLinkSplit(num_val=0.05, num_test=0.1, is_undirected=True,\n",
        "                      split_labels=True, add_negative_train_samples=False),\n",
        "])\n"
      ],
      "metadata": {
        "execution": {
          "iopub.status.busy": "2023-09-24T13:52:18.449245Z",
          "iopub.execute_input": "2023-09-24T13:52:18.450061Z",
          "iopub.status.idle": "2023-09-24T13:52:18.457402Z",
          "shell.execute_reply.started": "2023-09-24T13:52:18.449999Z",
          "shell.execute_reply": "2023-09-24T13:52:18.456739Z"
        },
        "trusted": true,
        "id": "5FENTtfggmtM"
      },
      "execution_count": null,
      "outputs": []
    },
    {
      "cell_type": "code",
      "source": [
        "dataset = torch_geometric.datasets.Planetoid('/kaggle/working/',name='Cora',transform=transform)\n",
        "train_data, val_data, test_data = dataset[0]\n"
      ],
      "metadata": {
        "execution": {
          "iopub.status.busy": "2023-09-24T13:52:18.459139Z",
          "iopub.execute_input": "2023-09-24T13:52:18.459948Z",
          "iopub.status.idle": "2023-09-24T13:52:21.687546Z",
          "shell.execute_reply.started": "2023-09-24T13:52:18.459910Z",
          "shell.execute_reply": "2023-09-24T13:52:21.686507Z"
        },
        "trusted": true,
        "id": "RJWrewybgmtM"
      },
      "execution_count": null,
      "outputs": []
    },
    {
      "cell_type": "code",
      "source": [
        "train_data"
      ],
      "metadata": {
        "execution": {
          "iopub.status.busy": "2023-09-24T13:52:21.689180Z",
          "iopub.execute_input": "2023-09-24T13:52:21.689549Z",
          "iopub.status.idle": "2023-09-24T13:52:21.698306Z",
          "shell.execute_reply.started": "2023-09-24T13:52:21.689514Z",
          "shell.execute_reply": "2023-09-24T13:52:21.697275Z"
        },
        "trusted": true,
        "id": "IbQrDIQNgmtN",
        "outputId": "40b71721-c86f-4f4a-9a36-e15d89bd08b0"
      },
      "execution_count": null,
      "outputs": [
        {
          "execution_count": 17,
          "output_type": "execute_result",
          "data": {
            "text/plain": "Data(x=[2708, 1433], edge_index=[2, 8976], y=[2708], train_mask=[2708], val_mask=[2708], test_mask=[2708], pos_edge_label=[4488], pos_edge_label_index=[2, 4488])"
          },
          "metadata": {}
        }
      ]
    },
    {
      "cell_type": "code",
      "source": [
        "val_data"
      ],
      "metadata": {
        "execution": {
          "iopub.status.busy": "2023-09-24T13:52:21.700314Z",
          "iopub.execute_input": "2023-09-24T13:52:21.700746Z",
          "iopub.status.idle": "2023-09-24T13:52:21.709582Z",
          "shell.execute_reply.started": "2023-09-24T13:52:21.700709Z",
          "shell.execute_reply": "2023-09-24T13:52:21.707975Z"
        },
        "trusted": true,
        "id": "M-c8NDZDgmtN",
        "outputId": "0e6c6a68-8085-4d68-e512-68b0f69cf611"
      },
      "execution_count": null,
      "outputs": [
        {
          "execution_count": 18,
          "output_type": "execute_result",
          "data": {
            "text/plain": "Data(x=[2708, 1433], edge_index=[2, 8976], y=[2708], train_mask=[2708], val_mask=[2708], test_mask=[2708], pos_edge_label=[263], pos_edge_label_index=[2, 263], neg_edge_label=[263], neg_edge_label_index=[2, 263])"
          },
          "metadata": {}
        }
      ]
    },
    {
      "cell_type": "code",
      "source": [
        "test_data"
      ],
      "metadata": {
        "execution": {
          "iopub.status.busy": "2023-09-24T13:52:21.710921Z",
          "iopub.execute_input": "2023-09-24T13:52:21.711962Z",
          "iopub.status.idle": "2023-09-24T13:52:21.721971Z",
          "shell.execute_reply.started": "2023-09-24T13:52:21.711921Z",
          "shell.execute_reply": "2023-09-24T13:52:21.720737Z"
        },
        "trusted": true,
        "id": "BYAQ56WBgmtN",
        "outputId": "e01582a8-cc1f-4f42-8d7c-8c832213848e"
      },
      "execution_count": null,
      "outputs": [
        {
          "execution_count": 19,
          "output_type": "execute_result",
          "data": {
            "text/plain": "Data(x=[2708, 1433], edge_index=[2, 9502], y=[2708], train_mask=[2708], val_mask=[2708], test_mask=[2708], pos_edge_label=[527], pos_edge_label_index=[2, 527], neg_edge_label=[527], neg_edge_label_index=[2, 527])"
          },
          "metadata": {}
        }
      ]
    },
    {
      "cell_type": "code",
      "source": [
        "class GCNEncoder(torch.nn.Module):\n",
        "    def __init__(self, in_channels, out_channels):\n",
        "        super().__init__()\n",
        "        self.conv1 = GCNConv(in_channels, 2 * out_channels)\n",
        "        self.conv2 = GCNConv(2 * out_channels, out_channels)\n",
        "\n",
        "    def forward(self, x, edge_index):\n",
        "        x = self.conv1(x, edge_index).relu()\n",
        "        return self.conv2(x, edge_index)\n",
        "\n",
        "\n",
        "class VariationalGCNEncoder(torch.nn.Module):\n",
        "    def __init__(self, in_channels, out_channels):\n",
        "        super().__init__()\n",
        "        self.conv1 = GCNConv(in_channels, 2 * out_channels)\n",
        "        self.conv_mu = GCNConv(2 * out_channels, out_channels)\n",
        "        self.conv_logstd = GCNConv(2 * out_channels, out_channels)\n",
        "\n",
        "    def forward(self, x, edge_index):\n",
        "        x = self.conv1(x, edge_index).relu()\n",
        "        return self.conv_mu(x, edge_index), self.conv_logstd(x, edge_index)\n",
        "\n",
        "\n",
        "class LinearEncoder(torch.nn.Module):\n",
        "    def __init__(self, in_channels, out_channels):\n",
        "        super().__init__()\n",
        "        self.conv = GCNConv(in_channels, out_channels)\n",
        "\n",
        "    def forward(self, x, edge_index):\n",
        "        return self.conv(x, edge_index)\n",
        "\n",
        "\n",
        "class VariationalLinearEncoder(torch.nn.Module):\n",
        "    def __init__(self, in_channels, out_channels):\n",
        "        super().__init__()\n",
        "        self.conv_mu = GCNConv(in_channels, out_channels)\n",
        "        self.conv_logstd = GCNConv(in_channels, out_channels)\n",
        "\n",
        "    def forward(self, x, edge_index):\n",
        "        return self.conv_mu(x, edge_index), self.conv_logstd(x, edge_index)\n"
      ],
      "metadata": {
        "execution": {
          "iopub.status.busy": "2023-09-24T13:52:21.723670Z",
          "iopub.execute_input": "2023-09-24T13:52:21.724714Z",
          "iopub.status.idle": "2023-09-24T13:52:21.738707Z",
          "shell.execute_reply.started": "2023-09-24T13:52:21.724676Z",
          "shell.execute_reply": "2023-09-24T13:52:21.737587Z"
        },
        "trusted": true,
        "id": "i3FTE0lqgmtN"
      },
      "execution_count": null,
      "outputs": []
    },
    {
      "cell_type": "code",
      "source": [
        "in_channels, out_channels = dataset.num_features, 16\n"
      ],
      "metadata": {
        "execution": {
          "iopub.status.busy": "2023-09-24T13:52:21.740783Z",
          "iopub.execute_input": "2023-09-24T13:52:21.741471Z",
          "iopub.status.idle": "2023-09-24T13:52:21.776936Z",
          "shell.execute_reply.started": "2023-09-24T13:52:21.741431Z",
          "shell.execute_reply": "2023-09-24T13:52:21.775826Z"
        },
        "trusted": true,
        "id": "9h80XSelgmtN"
      },
      "execution_count": null,
      "outputs": []
    },
    {
      "cell_type": "code",
      "source": [
        "threshold = 0.90"
      ],
      "metadata": {
        "execution": {
          "iopub.status.busy": "2023-09-24T13:52:21.779284Z",
          "iopub.execute_input": "2023-09-24T13:52:21.780064Z",
          "iopub.status.idle": "2023-09-24T13:52:21.785080Z",
          "shell.execute_reply.started": "2023-09-24T13:52:21.780024Z",
          "shell.execute_reply": "2023-09-24T13:52:21.783975Z"
        },
        "trusted": true,
        "id": "XEhfyRKygmtO"
      },
      "execution_count": null,
      "outputs": []
    },
    {
      "cell_type": "markdown",
      "source": [
        "### GAE"
      ],
      "metadata": {
        "id": "71ccMKgDgmtO"
      }
    },
    {
      "cell_type": "code",
      "source": [
        "model_2 = GAE(GCNEncoder(in_channels, out_channels))"
      ],
      "metadata": {
        "execution": {
          "iopub.status.busy": "2023-09-24T13:52:21.786584Z",
          "iopub.execute_input": "2023-09-24T13:52:21.787362Z",
          "iopub.status.idle": "2023-09-24T13:52:21.798365Z",
          "shell.execute_reply.started": "2023-09-24T13:52:21.787313Z",
          "shell.execute_reply": "2023-09-24T13:52:21.797370Z"
        },
        "trusted": true,
        "id": "6YTIxQe9gmtO"
      },
      "execution_count": null,
      "outputs": []
    },
    {
      "cell_type": "code",
      "source": [
        "model_2 = model_2.to(device)\n",
        "optimizer = torch.optim.Adam(model_2.parameters(), lr=0.01)\n",
        "epochs = 1000\n",
        "variational = False"
      ],
      "metadata": {
        "execution": {
          "iopub.status.busy": "2023-09-24T13:52:21.799818Z",
          "iopub.execute_input": "2023-09-24T13:52:21.800444Z",
          "iopub.status.idle": "2023-09-24T13:52:21.810733Z",
          "shell.execute_reply.started": "2023-09-24T13:52:21.800406Z",
          "shell.execute_reply": "2023-09-24T13:52:21.809979Z"
        },
        "trusted": true,
        "id": "KnTyBAxpgmtO"
      },
      "execution_count": null,
      "outputs": []
    },
    {
      "cell_type": "code",
      "source": [
        "def train():\n",
        "    model_2.train()\n",
        "    optimizer.zero_grad()\n",
        "    z = model_2.encode(train_data.x, train_data.edge_index)\n",
        "    loss = model_2.recon_loss(z, train_data.pos_edge_label_index)\n",
        "    if variational:\n",
        "        loss = loss + (1 / train_data.num_nodes) * model_2.kl_loss()\n",
        "    loss.backward()\n",
        "    optimizer.step()\n",
        "    return float(loss)\n",
        "\n",
        "\n",
        "@torch.no_grad()\n",
        "def test(data):\n",
        "    model_2.eval()\n",
        "    z = model_2.encode(data.x, data.edge_index)\n",
        "    return model_2.test(z, data.pos_edge_label_index, data.neg_edge_label_index)\n",
        "\n",
        "\n",
        "times = []\n",
        "for epoch in range(1, epochs + 1):\n",
        "    start = time.time()\n",
        "    loss = train()\n",
        "    auc, ap = test(test_data)\n",
        "    if epoch%100 == 0:\n",
        "        print(f'Epoch: {epoch:03d}, AUC: {auc:.4f}, AP: {ap:.4f}')\n",
        "    times.append(time.time() - start)\n",
        "print(f\"Median time per epoch: {torch.tensor(times).median():.4f}s\")"
      ],
      "metadata": {
        "execution": {
          "iopub.status.busy": "2023-09-24T13:52:21.812057Z",
          "iopub.execute_input": "2023-09-24T13:52:21.813042Z",
          "iopub.status.idle": "2023-09-24T13:52:42.756843Z",
          "shell.execute_reply.started": "2023-09-24T13:52:21.813006Z",
          "shell.execute_reply": "2023-09-24T13:52:42.755714Z"
        },
        "trusted": true,
        "id": "uPm-3SILgmtO",
        "outputId": "1fdfa199-aa1c-455d-dde4-ad4e322e2620"
      },
      "execution_count": null,
      "outputs": [
        {
          "name": "stdout",
          "text": "Epoch: 100, AUC: 0.8764, AP: 0.8770\nEpoch: 200, AUC: 0.8837, AP: 0.8857\nEpoch: 300, AUC: 0.8852, AP: 0.8893\nEpoch: 400, AUC: 0.8922, AP: 0.8967\nEpoch: 500, AUC: 0.8939, AP: 0.9001\nEpoch: 600, AUC: 0.8977, AP: 0.9034\nEpoch: 700, AUC: 0.8982, AP: 0.9047\nEpoch: 800, AUC: 0.8966, AP: 0.9048\nEpoch: 900, AUC: 0.8939, AP: 0.9038\nEpoch: 1000, AUC: 0.8952, AP: 0.9062\nMedian time per epoch: 0.0176s\n",
          "output_type": "stream"
        }
      ]
    },
    {
      "cell_type": "code",
      "source": [
        "model_2"
      ],
      "metadata": {
        "execution": {
          "iopub.status.busy": "2023-09-24T13:52:42.758548Z",
          "iopub.execute_input": "2023-09-24T13:52:42.758936Z",
          "iopub.status.idle": "2023-09-24T13:52:42.766291Z",
          "shell.execute_reply.started": "2023-09-24T13:52:42.758901Z",
          "shell.execute_reply": "2023-09-24T13:52:42.765209Z"
        },
        "trusted": true,
        "id": "2_3fDEkZgmtP",
        "outputId": "1c80ced3-1ac9-4e6c-d6c3-1afd8e503aca"
      },
      "execution_count": null,
      "outputs": [
        {
          "execution_count": 26,
          "output_type": "execute_result",
          "data": {
            "text/plain": "GAE(\n  (encoder): GCNEncoder(\n    (conv1): GCNConv(1433, 32)\n    (conv2): GCNConv(32, 16)\n  )\n  (decoder): InnerProductDecoder()\n)"
          },
          "metadata": {}
        }
      ]
    },
    {
      "cell_type": "code",
      "source": [
        "dataset = torch_geometric.datasets.Planetoid('/kaggle/working/',name='Cora',transform=NormalizeFeatures())\n",
        "graph_cora = dataset[0]\n",
        "\n",
        "encoded = model_2.encode(graph_cora.x.to(device), graph_cora.edge_index.to(device))\n",
        "encoded"
      ],
      "metadata": {
        "execution": {
          "iopub.status.busy": "2023-09-24T13:52:42.768045Z",
          "iopub.execute_input": "2023-09-24T13:52:42.768737Z",
          "iopub.status.idle": "2023-09-24T13:52:42.819346Z",
          "shell.execute_reply.started": "2023-09-24T13:52:42.768703Z",
          "shell.execute_reply": "2023-09-24T13:52:42.818347Z"
        },
        "trusted": true,
        "id": "FhZ5cgeQgmtP",
        "outputId": "70aa8c8b-1c5c-4972-e52c-7f97dc849c5c"
      },
      "execution_count": null,
      "outputs": [
        {
          "execution_count": 27,
          "output_type": "execute_result",
          "data": {
            "text/plain": "tensor([[-0.1899, -0.4869,  0.2445,  ..., -0.4578,  0.8565,  0.0322],\n        [ 0.6245,  0.1098, -0.1040,  ...,  0.4304, -0.1734, -0.4905],\n        [ 0.2186,  0.2524,  0.2767,  ...,  0.1836,  0.1136, -0.2753],\n        ...,\n        [ 0.0872,  0.1299,  0.9815,  ..., -0.2758, -0.1250,  0.7535],\n        [-0.3154, -0.2417,  0.1247,  ..., -0.2273,  0.7926, -0.1933],\n        [-0.4411, -0.3738,  0.0915,  ..., -0.2465,  0.7796, -0.2253]],\n       device='cuda:0', grad_fn=<AddBackward0>)"
          },
          "metadata": {}
        }
      ]
    },
    {
      "cell_type": "code",
      "source": [
        "decoded = model_2.decoder(encoded, graph_cora.edge_index)\n",
        "decoded.shape"
      ],
      "metadata": {
        "execution": {
          "iopub.status.busy": "2023-09-24T13:52:42.827412Z",
          "iopub.execute_input": "2023-09-24T13:52:42.828237Z",
          "iopub.status.idle": "2023-09-24T13:52:42.835993Z",
          "shell.execute_reply.started": "2023-09-24T13:52:42.828205Z",
          "shell.execute_reply": "2023-09-24T13:52:42.834987Z"
        },
        "trusted": true,
        "id": "JwwfUKOVgmtQ",
        "outputId": "6360a2fc-514b-4a72-cdac-88efae7d89ad"
      },
      "execution_count": null,
      "outputs": [
        {
          "execution_count": 28,
          "output_type": "execute_result",
          "data": {
            "text/plain": "torch.Size([10556])"
          },
          "metadata": {}
        }
      ]
    },
    {
      "cell_type": "code",
      "source": [
        "type(graph_cora.edge_index[0])"
      ],
      "metadata": {
        "execution": {
          "iopub.status.busy": "2023-09-24T13:52:42.837460Z",
          "iopub.execute_input": "2023-09-24T13:52:42.838685Z",
          "iopub.status.idle": "2023-09-24T13:52:42.848600Z",
          "shell.execute_reply.started": "2023-09-24T13:52:42.838631Z",
          "shell.execute_reply": "2023-09-24T13:52:42.847549Z"
        },
        "trusted": true,
        "id": "dF6tCqnngmtQ",
        "outputId": "41a7d12c-33f9-4cdc-f206-4e93ca8fa678"
      },
      "execution_count": null,
      "outputs": [
        {
          "execution_count": 29,
          "output_type": "execute_result",
          "data": {
            "text/plain": "torch.Tensor"
          },
          "metadata": {}
        }
      ]
    },
    {
      "cell_type": "code",
      "source": [
        "reshaped_edge_index = torch.transpose(graph_cora.edge_index, 0, 1)\n",
        "decoded_edge_index_list = []\n",
        "for i in range(len(decoded)):\n",
        "    if decoded[i] > threshold:\n",
        "#         print(reshaped_edge_index[i])\n",
        "        decoded_edge_index_list.append(list(reshaped_edge_index[i]))\n",
        "\n",
        "decoded_edge_index = torch.tensor(decoded_edge_index_list, dtype=torch.long).t()\n",
        "len(decoded_edge_index[0])"
      ],
      "metadata": {
        "execution": {
          "iopub.status.busy": "2023-09-24T13:52:42.850302Z",
          "iopub.execute_input": "2023-09-24T13:52:42.850742Z",
          "iopub.status.idle": "2023-09-24T13:52:43.446611Z",
          "shell.execute_reply.started": "2023-09-24T13:52:42.850705Z",
          "shell.execute_reply": "2023-09-24T13:52:43.445560Z"
        },
        "trusted": true,
        "id": "9ljQC3WFgmtQ",
        "outputId": "98be3c83-c8a9-4117-ecec-9adbfa699076"
      },
      "execution_count": null,
      "outputs": [
        {
          "execution_count": 30,
          "output_type": "execute_result",
          "data": {
            "text/plain": "8666"
          },
          "metadata": {}
        }
      ]
    },
    {
      "cell_type": "markdown",
      "source": [
        "### VGAE"
      ],
      "metadata": {
        "id": "g_Z8ifBwgmtR"
      }
    },
    {
      "cell_type": "code",
      "source": [
        "model_3 = VGAE(VariationalGCNEncoder(in_channels, out_channels))\n",
        "model_3"
      ],
      "metadata": {
        "execution": {
          "iopub.status.busy": "2023-09-24T13:52:43.448347Z",
          "iopub.execute_input": "2023-09-24T13:52:43.448728Z",
          "iopub.status.idle": "2023-09-24T13:52:43.460940Z",
          "shell.execute_reply.started": "2023-09-24T13:52:43.448692Z",
          "shell.execute_reply": "2023-09-24T13:52:43.459713Z"
        },
        "trusted": true,
        "id": "FWfy62vqgmtR",
        "outputId": "2307bc94-1c03-4b3c-fd61-228437172bb2"
      },
      "execution_count": null,
      "outputs": [
        {
          "execution_count": 31,
          "output_type": "execute_result",
          "data": {
            "text/plain": "VGAE(\n  (encoder): VariationalGCNEncoder(\n    (conv1): GCNConv(1433, 32)\n    (conv_mu): GCNConv(32, 16)\n    (conv_logstd): GCNConv(32, 16)\n  )\n  (decoder): InnerProductDecoder()\n)"
          },
          "metadata": {}
        }
      ]
    },
    {
      "cell_type": "code",
      "source": [
        "model_3 = model_3.to(device)\n",
        "optimizer = torch.optim.Adam(model_3.parameters(), lr=0.01)\n",
        "epochs = 1000\n",
        "variational = True"
      ],
      "metadata": {
        "execution": {
          "iopub.status.busy": "2023-09-24T13:52:43.463497Z",
          "iopub.execute_input": "2023-09-24T13:52:43.463921Z",
          "iopub.status.idle": "2023-09-24T13:52:43.472327Z",
          "shell.execute_reply.started": "2023-09-24T13:52:43.463886Z",
          "shell.execute_reply": "2023-09-24T13:52:43.471175Z"
        },
        "trusted": true,
        "id": "eazcxukQgmtR"
      },
      "execution_count": null,
      "outputs": []
    },
    {
      "cell_type": "code",
      "source": [
        "def train():\n",
        "    model_3.train()\n",
        "    optimizer.zero_grad()\n",
        "    z = model_3.encode(train_data.x, train_data.edge_index)\n",
        "    loss = model_3.recon_loss(z, train_data.pos_edge_label_index)\n",
        "    if variational:\n",
        "        loss = loss + (1 / train_data.num_nodes) * model_3.kl_loss()\n",
        "    loss.backward()\n",
        "    optimizer.step()\n",
        "    return float(loss)\n",
        "\n",
        "\n",
        "@torch.no_grad()\n",
        "def test(data):\n",
        "    model_3.eval()\n",
        "    z = model_3.encode(data.x, data.edge_index)\n",
        "    return model_3.test(z, data.pos_edge_label_index, data.neg_edge_label_index)\n",
        "\n",
        "\n",
        "times = []\n",
        "for epoch in range(1, epochs + 1):\n",
        "    start = time.time()\n",
        "    loss = train()\n",
        "    auc, ap = test(test_data)\n",
        "    if epoch%100 == 0:\n",
        "        print(f'Epoch: {epoch:03d}, AUC: {auc:.4f}, AP: {ap:.4f}')\n",
        "    times.append(time.time() - start)\n",
        "print(f\"Median time per epoch: {torch.tensor(times).median():.4f}s\")"
      ],
      "metadata": {
        "execution": {
          "iopub.status.busy": "2023-09-24T13:52:43.474237Z",
          "iopub.execute_input": "2023-09-24T13:52:43.474682Z",
          "iopub.status.idle": "2023-09-24T13:53:03.663441Z",
          "shell.execute_reply.started": "2023-09-24T13:52:43.474609Z",
          "shell.execute_reply": "2023-09-24T13:53:03.662323Z"
        },
        "trusted": true,
        "id": "tgpGIX89gmtR",
        "outputId": "e739676b-0eb1-48a2-ef08-e20ff5c12fe7"
      },
      "execution_count": null,
      "outputs": [
        {
          "name": "stdout",
          "text": "Epoch: 100, AUC: 0.7261, AP: 0.7328\nEpoch: 200, AUC: 0.8813, AP: 0.8845\nEpoch: 300, AUC: 0.8896, AP: 0.8918\nEpoch: 400, AUC: 0.8994, AP: 0.9016\nEpoch: 500, AUC: 0.8998, AP: 0.9036\nEpoch: 600, AUC: 0.9033, AP: 0.9082\nEpoch: 700, AUC: 0.9112, AP: 0.9155\nEpoch: 800, AUC: 0.9110, AP: 0.9122\nEpoch: 900, AUC: 0.9103, AP: 0.9125\nEpoch: 1000, AUC: 0.9092, AP: 0.9134\nMedian time per epoch: 0.0199s\n",
          "output_type": "stream"
        }
      ]
    },
    {
      "cell_type": "code",
      "source": [
        "encoded_2 = model_3.encode(graph_cora.x.to(device), graph_cora.edge_index.to(device))\n",
        "encoded_2"
      ],
      "metadata": {
        "execution": {
          "iopub.status.busy": "2023-09-24T13:53:03.664951Z",
          "iopub.execute_input": "2023-09-24T13:53:03.665340Z",
          "iopub.status.idle": "2023-09-24T13:53:03.684171Z",
          "shell.execute_reply.started": "2023-09-24T13:53:03.665302Z",
          "shell.execute_reply": "2023-09-24T13:53:03.682981Z"
        },
        "trusted": true,
        "id": "KfEqiO1AgmtR",
        "outputId": "41b89e2b-5fa1-4a31-f00e-def7e7ac26ae"
      },
      "execution_count": null,
      "outputs": [
        {
          "execution_count": 34,
          "output_type": "execute_result",
          "data": {
            "text/plain": "tensor([[ 0.7977, -0.2589, -0.2008,  ...,  0.7228,  0.0833, -0.1654],\n        [-0.6115,  0.6756, -0.5153,  ..., -0.2254, -0.0534,  0.1262],\n        [-0.2230,  0.5235, -0.3752,  ...,  0.2747, -0.0300, -0.2567],\n        ...,\n        [ 0.3518, -0.1621, -0.1988,  ..., -0.2160,  0.1967, -0.1308],\n        [ 0.1289,  0.1078, -0.1844,  ...,  0.4528,  0.2511, -0.4922],\n        [ 0.2086, -0.0265, -0.1452,  ...,  0.3821,  0.3058, -0.4406]],\n       device='cuda:0', grad_fn=<AddBackward0>)"
          },
          "metadata": {}
        }
      ]
    },
    {
      "cell_type": "code",
      "source": [
        "decoded_2 = model_3.decoder(encoded_2, graph_cora.edge_index)\n",
        "decoded_2.shape"
      ],
      "metadata": {
        "execution": {
          "iopub.status.busy": "2023-09-24T13:53:03.686688Z",
          "iopub.execute_input": "2023-09-24T13:53:03.687783Z",
          "iopub.status.idle": "2023-09-24T13:53:03.696738Z",
          "shell.execute_reply.started": "2023-09-24T13:53:03.687745Z",
          "shell.execute_reply": "2023-09-24T13:53:03.694999Z"
        },
        "trusted": true,
        "id": "s0vYRC58gmtR",
        "outputId": "a97bb9db-9f13-4a97-8f92-ecbf918acba2"
      },
      "execution_count": null,
      "outputs": [
        {
          "execution_count": 35,
          "output_type": "execute_result",
          "data": {
            "text/plain": "torch.Size([10556])"
          },
          "metadata": {}
        }
      ]
    },
    {
      "cell_type": "code",
      "source": [
        "reshaped_edge_index_2 = torch.transpose(graph_cora.edge_index, 0, 1)\n",
        "decoded_edge_index_list_2 = []\n",
        "for i in range(len(decoded_2)):\n",
        "    if decoded_2[i] > threshold:\n",
        "#         print(reshaped_edge_index[i])\n",
        "        decoded_edge_index_list_2.append(list(reshaped_edge_index[i]))\n",
        "\n",
        "decoded_edge_index_2 = torch.tensor(decoded_edge_index_list_2, dtype=torch.long).t()\n",
        "len(decoded_edge_index_2[0])"
      ],
      "metadata": {
        "execution": {
          "iopub.status.busy": "2023-09-24T13:53:03.698684Z",
          "iopub.execute_input": "2023-09-24T13:53:03.699450Z",
          "iopub.status.idle": "2023-09-24T13:53:04.202723Z",
          "shell.execute_reply.started": "2023-09-24T13:53:03.699414Z",
          "shell.execute_reply": "2023-09-24T13:53:04.201623Z"
        },
        "trusted": true,
        "id": "C60ZzJ-ugmtW",
        "outputId": "7c655cc3-afb4-4b36-ca4c-dcdf806c15d4"
      },
      "execution_count": null,
      "outputs": [
        {
          "execution_count": 36,
          "output_type": "execute_result",
          "data": {
            "text/plain": "7748"
          },
          "metadata": {}
        }
      ]
    },
    {
      "cell_type": "markdown",
      "source": [
        "### edge_index analysis for most important edges"
      ],
      "metadata": {
        "id": "Z0MNMSBLgmtW"
      }
    },
    {
      "cell_type": "code",
      "source": [
        "edge_index_1 = decoded_edge_index\n",
        "adj_list_1 = edge_index_1.t().tolist()\n",
        "print(len(adj_list_1))\n",
        "\n",
        "edge_index_2 = decoded_edge_index_2\n",
        "adj_list_2 = edge_index_2.t().tolist()\n",
        "print(len(adj_list_2))"
      ],
      "metadata": {
        "execution": {
          "iopub.status.busy": "2023-09-24T13:53:04.204398Z",
          "iopub.execute_input": "2023-09-24T13:53:04.204861Z",
          "iopub.status.idle": "2023-09-24T13:53:04.343876Z",
          "shell.execute_reply.started": "2023-09-24T13:53:04.204820Z",
          "shell.execute_reply": "2023-09-24T13:53:04.342718Z"
        },
        "trusted": true,
        "id": "9PHq3s8vgmtW",
        "outputId": "88f8d7c5-ea32-48b0-eef4-7cd83f489f47"
      },
      "execution_count": null,
      "outputs": [
        {
          "name": "stdout",
          "text": "8666\n7748\n",
          "output_type": "stream"
        }
      ]
    },
    {
      "cell_type": "code",
      "source": [
        "set1 = set(tuple(item) for item in adj_list_1)\n",
        "set2 = set(tuple(item) for item in adj_list_2)\n",
        "\n",
        "# Find the common elements using the intersection operation\n",
        "common_elements = set1.intersection(set2)\n",
        "\n",
        "# Convert the result back to a list of lists if needed\n",
        "common_elements_list = [tuple(item) for item in common_elements]\n",
        "\n",
        "# Print the common elements\n",
        "print(len(common_elements_list))\n"
      ],
      "metadata": {
        "execution": {
          "iopub.status.busy": "2023-09-24T13:53:04.345276Z",
          "iopub.execute_input": "2023-09-24T13:53:04.345694Z",
          "iopub.status.idle": "2023-09-24T13:53:04.366405Z",
          "shell.execute_reply.started": "2023-09-24T13:53:04.345654Z",
          "shell.execute_reply": "2023-09-24T13:53:04.365275Z"
        },
        "trusted": true,
        "id": "2OEgxQwigmtX",
        "outputId": "758ca8b4-7b6b-4611-f0cd-068b3d20c840"
      },
      "execution_count": null,
      "outputs": [
        {
          "name": "stdout",
          "text": "7554\n",
          "output_type": "stream"
        }
      ]
    },
    {
      "cell_type": "code",
      "source": [
        "node_list"
      ],
      "metadata": {
        "execution": {
          "iopub.status.busy": "2023-09-24T13:53:04.368107Z",
          "iopub.execute_input": "2023-09-24T13:53:04.368796Z",
          "iopub.status.idle": "2023-09-24T13:53:04.375701Z",
          "shell.execute_reply.started": "2023-09-24T13:53:04.368759Z",
          "shell.execute_reply": "2023-09-24T13:53:04.374685Z"
        },
        "trusted": true,
        "id": "-35I0POcgmtX",
        "outputId": "444e3dc9-6c38-4895-bf6e-67259835def0"
      },
      "execution_count": null,
      "outputs": [
        {
          "execution_count": 39,
          "output_type": "execute_result",
          "data": {
            "text/plain": "[1997, 2576, 2500, 563, 2276, 2459, 2446, 2029, 359, 2129]"
          },
          "metadata": {}
        }
      ]
    },
    {
      "cell_type": "code",
      "source": [
        "node = node_list[0]\n",
        "for (u, v) in common_elements_list:\n",
        "    if u == node or v == node:\n",
        "        print(f\"{node} => ({u}, {v})\")"
      ],
      "metadata": {
        "execution": {
          "iopub.status.busy": "2023-09-24T13:53:04.377272Z",
          "iopub.execute_input": "2023-09-24T13:53:04.377950Z",
          "iopub.status.idle": "2023-09-24T13:53:04.390674Z",
          "shell.execute_reply.started": "2023-09-24T13:53:04.377913Z",
          "shell.execute_reply": "2023-09-24T13:53:04.389571Z"
        },
        "trusted": true,
        "id": "v1V2vpWPgmtX",
        "outputId": "990986de-2322-40e0-ced7-bdccd29d8251"
      },
      "execution_count": null,
      "outputs": [
        {
          "name": "stdout",
          "text": "1997 => (1986, 1997)\n1997 => (1997, 1986)\n",
          "output_type": "stream"
        }
      ]
    },
    {
      "cell_type": "markdown",
      "source": [
        "### edge_index analysis for least important edges"
      ],
      "metadata": {
        "id": "OwmvsB3EgmtX"
      }
    },
    {
      "cell_type": "code",
      "source": [
        "import networkx as nx\n",
        "data = dataset[0]\n",
        "\n",
        "# Create a NetworkX graph from the PyTorch Geometric data\n",
        "G = nx.Graph()\n",
        "G.add_edges_from(data.edge_index.T.tolist())\n",
        "\n",
        "# Calculate node degrees\n",
        "degrees = dict(G.degree())\n",
        "\n",
        "# Find the node with the lowest degree\n",
        "min_degree_node = min(degrees, key=degrees.get)\n",
        "min_degree_value = degrees[min_degree_node]\n",
        "\n",
        "print(f\"Node {min_degree_node} has the lowest degree of {min_degree_value} in the Cora dataset.\")\n"
      ],
      "metadata": {
        "execution": {
          "iopub.status.busy": "2023-09-24T13:53:04.392254Z",
          "iopub.execute_input": "2023-09-24T13:53:04.392607Z",
          "iopub.status.idle": "2023-09-24T13:53:04.445435Z",
          "shell.execute_reply.started": "2023-09-24T13:53:04.392574Z",
          "shell.execute_reply": "2023-09-24T13:53:04.444425Z"
        },
        "trusted": true,
        "id": "GmjURW29gmtX",
        "outputId": "f1c17053-7139-4a85-efbb-4786b5d5c386"
      },
      "execution_count": null,
      "outputs": [
        {
          "name": "stdout",
          "text": "Node 654 has the lowest degree of 1 in the Cora dataset.\n",
          "output_type": "stream"
        }
      ]
    },
    {
      "cell_type": "code",
      "source": [
        "# import networkx as nx\n",
        "# import numpy as np\n",
        "# from torch_geometric.datasets import Planetoid\n",
        "\n",
        "# # Load the Cora dataset\n",
        "# dataset = Planetoid(root='/kaggle/working', name='Cora')\n",
        "# data = dataset[0]\n",
        "\n",
        "# # Create a NetworkX graph from the PyTorch Geometric data\n",
        "# G = nx.Graph()\n",
        "# G.add_edges_from(data.edge_index.T.tolist())\n",
        "\n",
        "# # Find the minimum degree in the Cora dataset\n",
        "# min_degree_value = min(dict(G.degree()).values())\n",
        "\n",
        "# # Find nodes with minimum degree and less geometric importance\n",
        "# nodes_with_min_degree_and_less_importance = []\n",
        "# for node in G.nodes():\n",
        "#     if G.degree[node] == min_degree_value:\n",
        "#         # Create a subgraph without the current node\n",
        "#         subgraph = G.copy()\n",
        "#         subgraph.remove_node(node)\n",
        "\n",
        "#         # Calculate the Laplacian matrix for the subgraph manually\n",
        "#         degree_sequence = list(dict(subgraph.degree()).values())\n",
        "#         D = np.diag(degree_sequence)\n",
        "#         A = nx.to_numpy_array(subgraph)\n",
        "#         L_subgraph = D - A\n",
        "\n",
        "#         # Compute the second smallest eigenvalue for the subgraph Laplacian\n",
        "#         eigvals_subgraph = np.linalg.eig(L_subgraph)\n",
        "#         second_smallest_eigval_subgraph = np.sort(eigvals_subgraph[0]).real\n",
        "\n",
        "#         # Calculate geometric importance as the difference between global and subgraph eigenvalues\n",
        "#         eigvals_global = np.linalg.eig(nx.to_numpy_array(G))\n",
        "#         second_smallest_eigval_global = np.sort(eigvals_global[0]).real\n",
        "#         geometric_importance = abs(second_smallest_eigval_global[0] - second_smallest_eigval_subgraph[0])\n",
        "\n",
        "#         # Check if the node has less geometric importance\n",
        "#         if geometric_importance < 1e-6:  # Adjust the threshold as needed\n",
        "#             nodes_with_min_degree_and_less_importance.append(node)\n",
        "\n",
        "# print(\"Nodes with minimum degree and less geometric importance:\", nodes_with_min_degree_and_less_importance)\n"
      ],
      "metadata": {
        "execution": {
          "iopub.status.busy": "2023-09-24T13:53:04.447174Z",
          "iopub.execute_input": "2023-09-24T13:53:04.447555Z",
          "iopub.status.idle": "2023-09-24T13:53:04.454216Z",
          "shell.execute_reply.started": "2023-09-24T13:53:04.447519Z",
          "shell.execute_reply": "2023-09-24T13:53:04.452848Z"
        },
        "trusted": true,
        "id": "1C01dRD3gmtX"
      },
      "execution_count": null,
      "outputs": []
    },
    {
      "cell_type": "code",
      "source": [
        "import networkx as nx\n",
        "from torch_geometric.datasets import Planetoid\n",
        "\n",
        "# Load the Cora dataset\n",
        "dataset = Planetoid(root='/kaggle/working', name='Cora')\n",
        "data = dataset[0]\n",
        "\n",
        "# Create a NetworkX graph from the PyTorch Geometric data\n",
        "G = nx.Graph()\n",
        "G.add_edges_from(data.edge_index.T.tolist())\n",
        "\n",
        "# Find disconnected components in the graph\n",
        "disconnected_components = list(nx.connected_components(G))\n",
        "\n",
        "# Print the number of disconnected components and the size of each component\n",
        "print(f\"Number of disconnected components: {len(disconnected_components)}\")\n",
        "for i, component in enumerate(disconnected_components):\n",
        "    print(f\"Component {i + 1} size: {len(component)}\")\n"
      ],
      "metadata": {
        "execution": {
          "iopub.status.busy": "2023-09-24T13:53:04.455666Z",
          "iopub.execute_input": "2023-09-24T13:53:04.456572Z",
          "iopub.status.idle": "2023-09-24T13:53:04.510697Z",
          "shell.execute_reply.started": "2023-09-24T13:53:04.456527Z",
          "shell.execute_reply": "2023-09-24T13:53:04.509714Z"
        },
        "trusted": true,
        "id": "BJZyS7M3gmtY",
        "outputId": "76a0dadc-3f40-4b56-9819-83892a87a1fa"
      },
      "execution_count": null,
      "outputs": [
        {
          "name": "stdout",
          "text": "Number of disconnected components: 78\nComponent 1 size: 2485\nComponent 2 size: 2\nComponent 3 size: 2\nComponent 4 size: 5\nComponent 5 size: 26\nComponent 6 size: 8\nComponent 7 size: 2\nComponent 8 size: 4\nComponent 9 size: 2\nComponent 10 size: 9\nComponent 11 size: 2\nComponent 12 size: 3\nComponent 13 size: 6\nComponent 14 size: 2\nComponent 15 size: 2\nComponent 16 size: 3\nComponent 17 size: 2\nComponent 18 size: 2\nComponent 19 size: 2\nComponent 20 size: 2\nComponent 21 size: 2\nComponent 22 size: 3\nComponent 23 size: 2\nComponent 24 size: 4\nComponent 25 size: 4\nComponent 26 size: 2\nComponent 27 size: 3\nComponent 28 size: 2\nComponent 29 size: 3\nComponent 30 size: 2\nComponent 31 size: 2\nComponent 32 size: 2\nComponent 33 size: 4\nComponent 34 size: 2\nComponent 35 size: 2\nComponent 36 size: 2\nComponent 37 size: 2\nComponent 38 size: 5\nComponent 39 size: 2\nComponent 40 size: 2\nComponent 41 size: 2\nComponent 42 size: 3\nComponent 43 size: 2\nComponent 44 size: 2\nComponent 45 size: 2\nComponent 46 size: 2\nComponent 47 size: 2\nComponent 48 size: 2\nComponent 49 size: 2\nComponent 50 size: 2\nComponent 51 size: 3\nComponent 52 size: 4\nComponent 53 size: 2\nComponent 54 size: 2\nComponent 55 size: 2\nComponent 56 size: 2\nComponent 57 size: 2\nComponent 58 size: 2\nComponent 59 size: 2\nComponent 60 size: 2\nComponent 61 size: 2\nComponent 62 size: 2\nComponent 63 size: 2\nComponent 64 size: 2\nComponent 65 size: 2\nComponent 66 size: 2\nComponent 67 size: 2\nComponent 68 size: 2\nComponent 69 size: 5\nComponent 70 size: 2\nComponent 71 size: 2\nComponent 72 size: 2\nComponent 73 size: 2\nComponent 74 size: 2\nComponent 75 size: 2\nComponent 76 size: 2\nComponent 77 size: 4\nComponent 78 size: 2\n",
          "output_type": "stream"
        }
      ]
    },
    {
      "cell_type": "code",
      "source": [
        "# Find disconnected components in the graph\n",
        "disconnected_components = list(nx.connected_components(G))\n",
        "\n",
        "# Randomly select a node from each component\n",
        "nodes_to_connect = []\n",
        "\n",
        "for component in disconnected_components:\n",
        "    random_node = random.choice(list(component))\n",
        "    nodes_to_connect.append(random_node)\n",
        "\n",
        "# Find nodes with different labels for the selected nodes\n",
        "source_node = None\n",
        "target_node = None\n",
        "\n",
        "for node in nodes_to_connect:\n",
        "    label = data.y[node].item()\n",
        "    neighbors = list(G.neighbors(node))\n",
        "    for neighbor in neighbors:\n",
        "        if data.y[neighbor].item() != label:\n",
        "            source_node = node\n",
        "            target_node = neighbor\n",
        "            break\n",
        "\n",
        "print(source_node, target_node)"
      ],
      "metadata": {
        "execution": {
          "iopub.status.busy": "2023-09-24T13:53:04.512360Z",
          "iopub.execute_input": "2023-09-24T13:53:04.512749Z",
          "iopub.status.idle": "2023-09-24T13:53:04.530460Z",
          "shell.execute_reply.started": "2023-09-24T13:53:04.512713Z",
          "shell.execute_reply": "2023-09-24T13:53:04.529291Z"
        },
        "trusted": true,
        "id": "5zSBRLz5gmtY",
        "outputId": "c50d2e45-dd33-48e0-9f1f-3791e666ca0c"
      },
      "execution_count": null,
      "outputs": [
        {
          "name": "stdout",
          "text": "2660 1673\n",
          "output_type": "stream"
        }
      ]
    },
    {
      "cell_type": "code",
      "source": [
        "common_elements_list[:20]"
      ],
      "metadata": {
        "execution": {
          "iopub.status.busy": "2023-09-24T13:53:04.532363Z",
          "iopub.execute_input": "2023-09-24T13:53:04.532776Z",
          "iopub.status.idle": "2023-09-24T13:53:04.543531Z",
          "shell.execute_reply.started": "2023-09-24T13:53:04.532741Z",
          "shell.execute_reply": "2023-09-24T13:53:04.542450Z"
        },
        "trusted": true,
        "id": "-ftXYnWkgmtY",
        "outputId": "8761c227-4727-4a94-ac22-3f0c5bd8aea6"
      },
      "execution_count": null,
      "outputs": [
        {
          "execution_count": 45,
          "output_type": "execute_result",
          "data": {
            "text/plain": "[(1169, 301),\n (2387, 638),\n (1256, 2175),\n (2070, 702),\n (1229, 1254),\n (1702, 1703),\n (1810, 482),\n (1334, 1950),\n (1986, 1876),\n (298, 1095),\n (1870, 1701),\n (1156, 897),\n (1464, 1013),\n (2059, 405),\n (316, 920),\n (1224, 1526),\n (1616, 2050),\n (1074, 1501),\n (1777, 426),\n (1529, 1115)]"
          },
          "metadata": {}
        }
      ]
    },
    {
      "cell_type": "code",
      "source": [
        "import networkx as nx\n",
        "from torch_geometric.datasets import Planetoid\n",
        "\n",
        "# Load the Cora dataset\n",
        "dataset = Planetoid(root='/kaggle/working', name='Cora')\n",
        "data = dataset[0]\n",
        "\n",
        "# Create a NetworkX graph from the PyTorch Geometric data\n",
        "G = nx.Graph()\n",
        "G.add_edges_from(data.edge_index.T.tolist())\n",
        "\n",
        "disconnected_components = list(nx.connected_components(G))\n",
        "\n",
        "degree_cora = {}\n",
        "for (u, v) in graph_cora.edge_index.t():\n",
        "    if int(u) in degree_cora:\n",
        "        degree_cora[int(u)] += 1\n",
        "    else:\n",
        "        degree_cora[int(u)] = 1\n",
        "\n",
        "def modify_adj(target_node, adj, budget):\n",
        "\n",
        "    degree = degree_cora.copy()\n",
        "\n",
        "    prune_list = []\n",
        "    for (u, v) in common_elements_list:\n",
        "        if (u == target_node or v == target_node):\n",
        "            if (u, v) not in prune_list:\n",
        "                prune_list.append((u, v))\n",
        "            if (v, u) not in prune_list:\n",
        "                prune_list.append((v, u))\n",
        "\n",
        "    final_prune_list = prune_list.copy()\n",
        "    i = 0\n",
        "    while i < len(prune_list):\n",
        "        u, v = map(int, prune_list[i])\n",
        "\n",
        "        if u in degree and degree[u] > 1:\n",
        "            degree[u] -= 1\n",
        "        else:\n",
        "#             print('Okay')\n",
        "            final_prune_list = [lst for lst in final_prune_list if lst != prune_list[i]]\n",
        "            if prune_list[i] in final_prune_list:\n",
        "                print(\"why here bro!\")\n",
        "        i += 1\n",
        "\n",
        "    updated_edges = []\n",
        "    cnt = 0\n",
        "    for edge in adj:\n",
        "        if budget == 0:\n",
        "            updated_edges.append(edge.tolist())\n",
        "        elif tuple(edge.tolist()) not in final_prune_list:\n",
        "            updated_edges.append(edge.tolist())\n",
        "        else:\n",
        "            budget -= 1\n",
        "            cnt += 1\n",
        "\n",
        "    print(f\"removed {cnt} edges.\")\n",
        "\n",
        "    if budget != 0:\n",
        "        nodes_to_connect = []\n",
        "\n",
        "        source_node = target_node\n",
        "        label = labels[source_node]\n",
        "\n",
        "        for component in disconnected_components:\n",
        "            random_node = list(component)[0]\n",
        "            if nx.node_connected_component(G, source_node) != nx.node_connected_component(G, random_node):\n",
        "                i = 1\n",
        "                while (label != labels[random_node]) and i < len(component):\n",
        "                    random_node = list(component)[i]\n",
        "                    i += 1\n",
        "                if i != len(component):\n",
        "                    nodes_to_connect.append(random_node)\n",
        "\n",
        "        cnt = 0\n",
        "        for node in nodes_to_connect:\n",
        "            if budget == 0:\n",
        "                break\n",
        "            cnt += 1\n",
        "            updated_edges.append([source_node, node])\n",
        "            budget -= 1\n",
        "\n",
        "\n",
        "        print(f\"added {cnt} edges.\")\n",
        "\n",
        "    return torch.tensor(updated_edges, dtype=torch.long)\n",
        "\n",
        "def evaluate(model, features,adj,labels, mask):\n",
        "    model.eval()\n",
        "    with torch.no_grad():\n",
        "        logits = model(features, adj.t())\n",
        "        logits = logits[mask]\n",
        "        labels = labels[mask]\n",
        "        pred = torch.argmax(logits)\n",
        "        accuracy = 1 if int(labels) == int(pred) else 0\n",
        "        return accuracy"
      ],
      "metadata": {
        "execution": {
          "iopub.status.busy": "2023-09-24T13:53:04.545315Z",
          "iopub.execute_input": "2023-09-24T13:53:04.545705Z",
          "iopub.status.idle": "2023-09-24T13:53:04.701099Z",
          "shell.execute_reply.started": "2023-09-24T13:53:04.545668Z",
          "shell.execute_reply": "2023-09-24T13:53:04.700046Z"
        },
        "trusted": true,
        "id": "6WLmMhjegmtY"
      },
      "execution_count": null,
      "outputs": []
    },
    {
      "cell_type": "code",
      "source": [
        "import random\n",
        "target_number = 50\n",
        "node_list = random.sample(list(idx_unlabeled),target_number)\n",
        "node_list"
      ],
      "metadata": {
        "execution": {
          "iopub.status.busy": "2023-09-24T13:53:04.702817Z",
          "iopub.execute_input": "2023-09-24T13:53:04.703388Z",
          "iopub.status.idle": "2023-09-24T13:53:04.712934Z",
          "shell.execute_reply.started": "2023-09-24T13:53:04.703353Z",
          "shell.execute_reply": "2023-09-24T13:53:04.711659Z"
        },
        "trusted": true,
        "id": "LKsJC4o7gmtZ",
        "outputId": "62a2a0a6-d176-463b-db4b-a1dccf5844ad"
      },
      "execution_count": null,
      "outputs": [
        {
          "execution_count": 47,
          "output_type": "execute_result",
          "data": {
            "text/plain": "[2191,\n 2139,\n 2116,\n 2520,\n 2380,\n 2470,\n 2130,\n 417,\n 251,\n 345,\n 2275,\n 388,\n 278,\n 423,\n 1983,\n 2507,\n 566,\n 282,\n 622,\n 2629,\n 2227,\n 387,\n 2092,\n 2575,\n 552,\n 162,\n 418,\n 1881,\n 1850,\n 2250,\n 2592,\n 559,\n 1814,\n 2267,\n 372,\n 2296,\n 2373,\n 2269,\n 1967,\n 1723,\n 2313,\n 580,\n 1948,\n 170,\n 2347,\n 1789,\n 2387,\n 391,\n 326,\n 1945]"
          },
          "metadata": {}
        }
      ]
    },
    {
      "cell_type": "markdown",
      "source": [
        "### for modified dataset"
      ],
      "metadata": {
        "id": "mT7xNue7gmtZ"
      }
    },
    {
      "cell_type": "code",
      "source": [
        "from tqdm import tqdm\n",
        "\n",
        "budget = 7\n",
        "cnt = 0\n",
        "for target_node in node_list:\n",
        "    print(f\"=== For node: {target_node} ====\")\n",
        "    modified_adj = modify_adj(target_node, adj, budget)\n",
        "    accuracy = evaluate(model, features, modified_adj, labels, target_node)\n",
        "    print(f\"Node: {target_node}, Accuracy: {accuracy}\")\n",
        "    if accuracy == 0:\n",
        "        cnt += 1\n",
        "\n",
        "print(\"============\")\n",
        "print('Miss-classification rate : %s' % (cnt / len(node_list)))"
      ],
      "metadata": {
        "execution": {
          "iopub.status.busy": "2023-09-24T13:53:04.715580Z",
          "iopub.execute_input": "2023-09-24T13:53:04.716774Z",
          "iopub.status.idle": "2023-09-24T13:53:20.890370Z",
          "shell.execute_reply.started": "2023-09-24T13:53:04.716699Z",
          "shell.execute_reply": "2023-09-24T13:53:20.889101Z"
        },
        "trusted": true,
        "id": "aNW_FHzfgmtZ",
        "outputId": "3c2b2a7e-89f9-4c40-d4cd-fd3371aa99d7"
      },
      "execution_count": null,
      "outputs": [
        {
          "name": "stdout",
          "text": "=== For node: 2191 ====\nremoved 0 edges.\nadded 7 edges.\nNode: 2191, Accuracy: 0\n=== For node: 2139 ====\nremoved 7 edges.\nNode: 2139, Accuracy: 1\n=== For node: 2116 ====\nremoved 0 edges.\nadded 3 edges.\nNode: 2116, Accuracy: 0\n=== For node: 2520 ====\nremoved 5 edges.\nadded 2 edges.\nNode: 2520, Accuracy: 0\n=== For node: 2380 ====\nremoved 5 edges.\nadded 2 edges.\nNode: 2380, Accuracy: 1\n=== For node: 2470 ====\nremoved 0 edges.\nadded 3 edges.\nNode: 2470, Accuracy: 0\n=== For node: 2130 ====\nremoved 7 edges.\nNode: 2130, Accuracy: 1\n=== For node: 417 ====\nremoved 4 edges.\nadded 3 edges.\nNode: 417, Accuracy: 0\n=== For node: 251 ====\nremoved 7 edges.\nNode: 251, Accuracy: 1\n=== For node: 345 ====\nremoved 1 edges.\nadded 6 edges.\nNode: 345, Accuracy: 0\n=== For node: 2275 ====\nremoved 4 edges.\nadded 3 edges.\nNode: 2275, Accuracy: 1\n=== For node: 388 ====\nremoved 2 edges.\nadded 5 edges.\nNode: 388, Accuracy: 0\n=== For node: 278 ====\nremoved 0 edges.\nadded 7 edges.\nNode: 278, Accuracy: 1\n=== For node: 423 ====\nremoved 7 edges.\nNode: 423, Accuracy: 1\n=== For node: 1983 ====\nremoved 7 edges.\nNode: 1983, Accuracy: 0\n=== For node: 2507 ====\nremoved 5 edges.\nadded 2 edges.\nNode: 2507, Accuracy: 1\n=== For node: 566 ====\nremoved 2 edges.\nadded 5 edges.\nNode: 566, Accuracy: 0\n=== For node: 282 ====\nremoved 0 edges.\nadded 6 edges.\nNode: 282, Accuracy: 1\n=== For node: 622 ====\nremoved 4 edges.\nadded 3 edges.\nNode: 622, Accuracy: 1\n=== For node: 2629 ====\nremoved 0 edges.\nadded 7 edges.\nNode: 2629, Accuracy: 1\n=== For node: 2227 ====\nremoved 7 edges.\nNode: 2227, Accuracy: 0\n=== For node: 387 ====\nremoved 0 edges.\nadded 7 edges.\nNode: 387, Accuracy: 0\n=== For node: 2092 ====\nremoved 0 edges.\nadded 1 edges.\nNode: 2092, Accuracy: 1\n=== For node: 2575 ====\nremoved 0 edges.\nadded 3 edges.\nNode: 2575, Accuracy: 1\n=== For node: 552 ====\nremoved 4 edges.\nadded 3 edges.\nNode: 552, Accuracy: 1\n=== For node: 162 ====\nremoved 4 edges.\nadded 3 edges.\nNode: 162, Accuracy: 1\n=== For node: 418 ====\nremoved 1 edges.\nadded 6 edges.\nNode: 418, Accuracy: 1\n=== For node: 1881 ====\nremoved 7 edges.\nNode: 1881, Accuracy: 1\n=== For node: 1850 ====\nremoved 4 edges.\nadded 3 edges.\nNode: 1850, Accuracy: 1\n=== For node: 2250 ====\nremoved 7 edges.\nNode: 2250, Accuracy: 1\n=== For node: 2592 ====\nremoved 3 edges.\nadded 4 edges.\nNode: 2592, Accuracy: 0\n=== For node: 559 ====\nremoved 5 edges.\nadded 2 edges.\nNode: 559, Accuracy: 1\n=== For node: 1814 ====\nremoved 2 edges.\nadded 5 edges.\nNode: 1814, Accuracy: 1\n=== For node: 2267 ====\nremoved 2 edges.\nadded 3 edges.\nNode: 2267, Accuracy: 0\n=== For node: 372 ====\nremoved 2 edges.\nadded 1 edges.\nNode: 372, Accuracy: 0\n=== For node: 2296 ====\nremoved 2 edges.\nadded 5 edges.\nNode: 2296, Accuracy: 1\n=== For node: 2373 ====\nremoved 0 edges.\nadded 7 edges.\nNode: 2373, Accuracy: 0\n=== For node: 2269 ====\nremoved 7 edges.\nNode: 2269, Accuracy: 1\n=== For node: 1967 ====\nremoved 0 edges.\nadded 7 edges.\nNode: 1967, Accuracy: 1\n=== For node: 1723 ====\nremoved 6 edges.\nadded 1 edges.\nNode: 1723, Accuracy: 1\n=== For node: 2313 ====\nremoved 0 edges.\nadded 6 edges.\nNode: 2313, Accuracy: 0\n=== For node: 580 ====\nremoved 7 edges.\nNode: 580, Accuracy: 1\n=== For node: 1948 ====\nremoved 4 edges.\nadded 3 edges.\nNode: 1948, Accuracy: 1\n=== For node: 170 ====\nremoved 2 edges.\nadded 5 edges.\nNode: 170, Accuracy: 1\n=== For node: 2347 ====\nremoved 4 edges.\nadded 3 edges.\nNode: 2347, Accuracy: 1\n=== For node: 1789 ====\nremoved 2 edges.\nadded 1 edges.\nNode: 1789, Accuracy: 1\n=== For node: 2387 ====\nremoved 7 edges.\nNode: 2387, Accuracy: 0\n=== For node: 391 ====\nremoved 4 edges.\nadded 3 edges.\nNode: 391, Accuracy: 1\n=== For node: 326 ====\nremoved 4 edges.\nadded 3 edges.\nNode: 326, Accuracy: 1\n=== For node: 1945 ====\nremoved 7 edges.\nNode: 1945, Accuracy: 1\n============\nMiss-classification rate : 0.34\n",
          "output_type": "stream"
        }
      ]
    },
    {
      "cell_type": "markdown",
      "source": [
        "### for original dataset"
      ],
      "metadata": {
        "id": "lo6wPDo-gmta"
      }
    },
    {
      "cell_type": "code",
      "source": [
        "from tqdm import tqdm\n",
        "\n",
        "cnt = 0\n",
        "for target_node in tqdm(node_list):\n",
        "    accuracy = evaluate(model, features, adj, labels, target_node)\n",
        "    print(f\"Node: {target_node}, Accuracy: {accuracy}\")\n",
        "    if accuracy == 0:\n",
        "        cnt += 1\n",
        "\n",
        "print('Miss-classification rate : %s' % (cnt / len(node_list)))"
      ],
      "metadata": {
        "execution": {
          "iopub.status.busy": "2023-09-24T13:53:20.892223Z",
          "iopub.execute_input": "2023-09-24T13:53:20.892636Z",
          "iopub.status.idle": "2023-09-24T13:53:22.034061Z",
          "shell.execute_reply.started": "2023-09-24T13:53:20.892598Z",
          "shell.execute_reply": "2023-09-24T13:53:22.033024Z"
        },
        "trusted": true,
        "id": "XNRAzli8gmta",
        "outputId": "12f6fa79-9bfa-4d95-cb86-0273aadb6c6f"
      },
      "execution_count": null,
      "outputs": [
        {
          "name": "stderr",
          "text": "  0%|          | 0/50 [00:00<?, ?it/s]",
          "output_type": "stream"
        },
        {
          "name": "stdout",
          "text": "Node: 2191, Accuracy: 0\nNode: 2139, Accuracy: 1\nNode: 2116, Accuracy: 0\nNode: 2520, Accuracy: 1\n",
          "output_type": "stream"
        },
        {
          "name": "stderr",
          "text": " 20%|██        | 10/50 [00:00<00:00, 44.53it/s]",
          "output_type": "stream"
        },
        {
          "name": "stdout",
          "text": "Node: 2380, Accuracy: 1\nNode: 2470, Accuracy: 0\nNode: 2130, Accuracy: 1\nNode: 417, Accuracy: 0\nNode: 251, Accuracy: 1\nNode: 345, Accuracy: 0\nNode: 2275, Accuracy: 1\nNode: 388, Accuracy: 0\nNode: 278, Accuracy: 1\n",
          "output_type": "stream"
        },
        {
          "name": "stderr",
          "text": " 30%|███       | 15/50 [00:00<00:00, 42.74it/s]",
          "output_type": "stream"
        },
        {
          "name": "stdout",
          "text": "Node: 423, Accuracy: 1\nNode: 1983, Accuracy: 0\nNode: 2507, Accuracy: 1\nNode: 566, Accuracy: 0\nNode: 282, Accuracy: 1\nNode: 622, Accuracy: 1\n",
          "output_type": "stream"
        },
        {
          "name": "stderr",
          "text": " 40%|████      | 20/50 [00:00<00:00, 42.90it/s]",
          "output_type": "stream"
        },
        {
          "name": "stdout",
          "text": "Node: 2629, Accuracy: 1\nNode: 2227, Accuracy: 1\nNode: 387, Accuracy: 0\n",
          "output_type": "stream"
        },
        {
          "name": "stderr",
          "text": " 50%|█████     | 25/50 [00:00<00:00, 43.97it/s]",
          "output_type": "stream"
        },
        {
          "name": "stdout",
          "text": "Node: 2092, Accuracy: 1\nNode: 2575, Accuracy: 1\nNode: 552, Accuracy: 1\nNode: 162, Accuracy: 1\nNode: 418, Accuracy: 1\nNode: 1881, Accuracy: 1\nNode: 1850, Accuracy: 1\n",
          "output_type": "stream"
        },
        {
          "name": "stderr",
          "text": " 60%|██████    | 30/50 [00:00<00:00, 44.32it/s]",
          "output_type": "stream"
        },
        {
          "name": "stdout",
          "text": "Node: 2250, Accuracy: 1\nNode: 2592, Accuracy: 1\nNode: 559, Accuracy: 1\n",
          "output_type": "stream"
        },
        {
          "name": "stderr",
          "text": " 70%|███████   | 35/50 [00:00<00:00, 45.22it/s]",
          "output_type": "stream"
        },
        {
          "name": "stdout",
          "text": "Node: 1814, Accuracy: 1\nNode: 2267, Accuracy: 0\nNode: 372, Accuracy: 0\nNode: 2296, Accuracy: 1\nNode: 2373, Accuracy: 0\nNode: 2269, Accuracy: 1\nNode: 1967, Accuracy: 1\n",
          "output_type": "stream"
        },
        {
          "name": "stderr",
          "text": " 80%|████████  | 40/50 [00:00<00:00, 44.91it/s]",
          "output_type": "stream"
        },
        {
          "name": "stdout",
          "text": "Node: 1723, Accuracy: 1\nNode: 2313, Accuracy: 0\nNode: 580, Accuracy: 1\n",
          "output_type": "stream"
        },
        {
          "name": "stderr",
          "text": " 90%|█████████ | 45/50 [00:01<00:00, 45.37it/s]",
          "output_type": "stream"
        },
        {
          "name": "stdout",
          "text": "Node: 1948, Accuracy: 1\nNode: 170, Accuracy: 1\nNode: 2347, Accuracy: 1\nNode: 1789, Accuracy: 1\nNode: 2387, Accuracy: 1\nNode: 391, Accuracy: 1\nNode: 326, Accuracy: 1\n",
          "output_type": "stream"
        },
        {
          "name": "stderr",
          "text": "100%|██████████| 50/50 [00:01<00:00, 44.29it/s]",
          "output_type": "stream"
        },
        {
          "name": "stdout",
          "text": "Node: 1945, Accuracy: 1\nMiss-classification rate : 0.26\n",
          "output_type": "stream"
        },
        {
          "name": "stderr",
          "text": "\n",
          "output_type": "stream"
        }
      ]
    },
    {
      "cell_type": "code",
      "source": [
        "import random\n",
        "target_number = 10\n",
        "node_list = random.sample(list(idx_unlabeled),target_number)"
      ],
      "metadata": {
        "execution": {
          "iopub.status.busy": "2023-09-24T13:53:22.035687Z",
          "iopub.execute_input": "2023-09-24T13:53:22.036348Z",
          "iopub.status.idle": "2023-09-24T13:53:22.042306Z",
          "shell.execute_reply.started": "2023-09-24T13:53:22.036307Z",
          "shell.execute_reply": "2023-09-24T13:53:22.040916Z"
        },
        "trusted": true,
        "id": "PDSFht8zgmta"
      },
      "execution_count": null,
      "outputs": []
    },
    {
      "cell_type": "code",
      "source": [
        "from tqdm import tqdm\n",
        "\n",
        "budget = 7\n",
        "cnt = 0\n",
        "for target_node in node_list:\n",
        "    print(f\"=== For node: {target_node} ====\")\n",
        "    modified_adj = modify_adj(target_node, adj, budget)\n",
        "    accuracy = evaluate(model, features, modified_adj, labels, target_node)\n",
        "    print(f\"Node: {target_node}, Accuracy: {accuracy}\")\n",
        "    if accuracy == 0:\n",
        "        cnt += 1\n",
        "\n",
        "print(\"============\")\n",
        "print('Miss-classification rate : %s' % (cnt / len(node_list)))"
      ],
      "metadata": {
        "execution": {
          "iopub.status.busy": "2023-09-24T13:53:22.044109Z",
          "iopub.execute_input": "2023-09-24T13:53:22.045069Z",
          "iopub.status.idle": "2023-09-24T13:53:24.584392Z",
          "shell.execute_reply.started": "2023-09-24T13:53:22.045029Z",
          "shell.execute_reply": "2023-09-24T13:53:24.583143Z"
        },
        "trusted": true,
        "id": "heqnyY0lgmta",
        "outputId": "a3c1a445-58cf-4663-90f7-a96a08490570"
      },
      "execution_count": null,
      "outputs": [
        {
          "name": "stdout",
          "text": "=== For node: 441 ====\nremoved 7 edges.\nNode: 441, Accuracy: 1\n=== For node: 158 ====\nremoved 7 edges.\nNode: 158, Accuracy: 0\n=== For node: 157 ====\nremoved 4 edges.\nadded 3 edges.\nNode: 157, Accuracy: 1\n=== For node: 1755 ====\nremoved 4 edges.\nadded 3 edges.\nNode: 1755, Accuracy: 1\n=== For node: 1980 ====\nremoved 7 edges.\nNode: 1980, Accuracy: 1\n=== For node: 190 ====\nremoved 0 edges.\nadded 7 edges.\nNode: 190, Accuracy: 1\n=== For node: 1948 ====\nremoved 4 edges.\nadded 3 edges.\nNode: 1948, Accuracy: 1\n=== For node: 1783 ====\nremoved 2 edges.\nadded 1 edges.\nNode: 1783, Accuracy: 1\n=== For node: 1919 ====\nremoved 7 edges.\nNode: 1919, Accuracy: 0\n=== For node: 1874 ====\nremoved 7 edges.\nNode: 1874, Accuracy: 1\n============\nMiss-classification rate : 0.2\n",
          "output_type": "stream"
        }
      ]
    },
    {
      "cell_type": "code",
      "source": [
        "from tqdm import tqdm\n",
        "\n",
        "cnt = 0\n",
        "for target_node in tqdm(node_list):\n",
        "    accuracy = evaluate(model, features, adj, labels, target_node)\n",
        "    print(f\"Node: {target_node}, Accuracy: {accuracy}\")\n",
        "    if accuracy == 0:\n",
        "        cnt += 1\n",
        "\n",
        "print('Miss-classification rate : %s' % (cnt / len(node_list)))"
      ],
      "metadata": {
        "execution": {
          "iopub.status.busy": "2023-09-24T13:53:24.586209Z",
          "iopub.execute_input": "2023-09-24T13:53:24.586654Z",
          "iopub.status.idle": "2023-09-24T13:53:24.806677Z",
          "shell.execute_reply.started": "2023-09-24T13:53:24.586599Z",
          "shell.execute_reply": "2023-09-24T13:53:24.805713Z"
        },
        "trusted": true,
        "id": "NmEChX47gmta",
        "outputId": "7cd00f52-8006-4177-b1cd-4e7e10611618"
      },
      "execution_count": null,
      "outputs": [
        {
          "name": "stderr",
          "text": "  0%|          | 0/10 [00:00<?, ?it/s]",
          "output_type": "stream"
        },
        {
          "name": "stdout",
          "text": "Node: 441, Accuracy: 1\n",
          "output_type": "stream"
        },
        {
          "name": "stderr",
          "text": "100%|██████████| 10/10 [00:00<00:00, 47.97it/s]",
          "output_type": "stream"
        },
        {
          "name": "stdout",
          "text": "Node: 158, Accuracy: 1\nNode: 157, Accuracy: 1\nNode: 1755, Accuracy: 1\nNode: 1980, Accuracy: 1\nNode: 190, Accuracy: 1\nNode: 1948, Accuracy: 1\nNode: 1783, Accuracy: 1\nNode: 1919, Accuracy: 1\nNode: 1874, Accuracy: 1\nMiss-classification rate : 0.0\n",
          "output_type": "stream"
        },
        {
          "name": "stderr",
          "text": "\n",
          "output_type": "stream"
        }
      ]
    },
    {
      "cell_type": "code",
      "source": [
        "import random\n",
        "target_number = 100\n",
        "node_list = random.sample(list(idx_unlabeled),target_number)"
      ],
      "metadata": {
        "execution": {
          "iopub.status.busy": "2023-09-24T13:53:24.808416Z",
          "iopub.execute_input": "2023-09-24T13:53:24.809168Z",
          "iopub.status.idle": "2023-09-24T13:53:24.816035Z",
          "shell.execute_reply.started": "2023-09-24T13:53:24.809114Z",
          "shell.execute_reply": "2023-09-24T13:53:24.814914Z"
        },
        "trusted": true,
        "id": "XnGlg1KGgmtb"
      },
      "execution_count": null,
      "outputs": []
    },
    {
      "cell_type": "code",
      "source": [
        "from tqdm import tqdm\n",
        "\n",
        "budget = 7\n",
        "cnt = 0\n",
        "for target_node in node_list:\n",
        "    print(f\"=== For node: {target_node} ====\")\n",
        "    modified_adj = modify_adj(target_node, adj, budget)\n",
        "    accuracy = evaluate(model, features, modified_adj, labels, target_node)\n",
        "    print(f\"Node: {target_node}, Accuracy: {accuracy}\")\n",
        "    if accuracy == 0:\n",
        "        cnt += 1\n",
        "\n",
        "print(\"============\")\n",
        "print('Miss-classification rate : %s' % (cnt / len(node_list)))"
      ],
      "metadata": {
        "execution": {
          "iopub.status.busy": "2023-09-24T13:53:24.817461Z",
          "iopub.execute_input": "2023-09-24T13:53:24.818460Z",
          "iopub.status.idle": "2023-09-24T13:53:55.805727Z",
          "shell.execute_reply.started": "2023-09-24T13:53:24.818421Z",
          "shell.execute_reply": "2023-09-24T13:53:55.804695Z"
        },
        "trusted": true,
        "id": "-x4YBE9Bgmtb",
        "outputId": "28671167-f78c-4686-84e7-2ac4785ee245"
      },
      "execution_count": null,
      "outputs": [
        {
          "name": "stdout",
          "text": "=== For node: 1921 ====\nremoved 2 edges.\nadded 3 edges.\nNode: 1921, Accuracy: 1\n=== For node: 2501 ====\nremoved 6 edges.\nadded 1 edges.\nNode: 2501, Accuracy: 1\n=== For node: 2067 ====\nremoved 5 edges.\nadded 2 edges.\nNode: 2067, Accuracy: 1\n=== For node: 2437 ====\nremoved 2 edges.\nadded 5 edges.\nNode: 2437, Accuracy: 0\n=== For node: 481 ====\nremoved 0 edges.\nadded 6 edges.\nNode: 481, Accuracy: 1\n=== For node: 2146 ====\nremoved 7 edges.\nNode: 2146, Accuracy: 0\n=== For node: 1765 ====\nremoved 7 edges.\nNode: 1765, Accuracy: 1\n=== For node: 2410 ====\nremoved 0 edges.\nadded 7 edges.\nNode: 2410, Accuracy: 0\n=== For node: 605 ====\nremoved 2 edges.\nadded 5 edges.\nNode: 605, Accuracy: 1\n=== For node: 1934 ====\nremoved 2 edges.\nadded 5 edges.\nNode: 1934, Accuracy: 1\n=== For node: 2526 ====\nremoved 0 edges.\nadded 7 edges.\nNode: 2526, Accuracy: 1\n=== For node: 486 ====\nremoved 6 edges.\nadded 1 edges.\nNode: 486, Accuracy: 1\n=== For node: 567 ====\nremoved 7 edges.\nNode: 567, Accuracy: 1\n=== For node: 2258 ====\nremoved 1 edges.\nadded 6 edges.\nNode: 2258, Accuracy: 0\n=== For node: 2578 ====\nremoved 0 edges.\nadded 3 edges.\nNode: 2578, Accuracy: 0\n=== For node: 2281 ====\nremoved 5 edges.\nadded 2 edges.\nNode: 2281, Accuracy: 0\n=== For node: 1752 ====\nremoved 4 edges.\nadded 3 edges.\nNode: 1752, Accuracy: 1\n=== For node: 1783 ====\nremoved 2 edges.\nadded 1 edges.\nNode: 1783, Accuracy: 1\n=== For node: 347 ====\nremoved 7 edges.\nNode: 347, Accuracy: 1\n=== For node: 1880 ====\nremoved 4 edges.\nadded 3 edges.\nNode: 1880, Accuracy: 1\n=== For node: 1858 ====\nremoved 2 edges.\nadded 5 edges.\nNode: 1858, Accuracy: 1\n=== For node: 1907 ====\nremoved 7 edges.\nNode: 1907, Accuracy: 1\n=== For node: 637 ====\nremoved 2 edges.\nadded 5 edges.\nNode: 637, Accuracy: 0\n=== For node: 627 ====\nremoved 0 edges.\nadded 7 edges.\nNode: 627, Accuracy: 1\n=== For node: 2667 ====\nremoved 7 edges.\nNode: 2667, Accuracy: 1\n=== For node: 359 ====\nremoved 4 edges.\nadded 3 edges.\nNode: 359, Accuracy: 1\n=== For node: 2322 ====\nremoved 0 edges.\nadded 1 edges.\nNode: 2322, Accuracy: 1\n=== For node: 553 ====\nremoved 7 edges.\nNode: 553, Accuracy: 0\n=== For node: 2397 ====\nremoved 0 edges.\nadded 7 edges.\nNode: 2397, Accuracy: 0\n=== For node: 2035 ====\nremoved 4 edges.\nadded 3 edges.\nNode: 2035, Accuracy: 0\n=== For node: 160 ====\nremoved 7 edges.\nNode: 160, Accuracy: 1\n=== For node: 1785 ====\nremoved 6 edges.\nadded 1 edges.\nNode: 1785, Accuracy: 0\n=== For node: 2518 ====\nremoved 7 edges.\nNode: 2518, Accuracy: 1\n=== For node: 1768 ====\nremoved 2 edges.\nadded 1 edges.\nNode: 1768, Accuracy: 0\n=== For node: 2662 ====\nremoved 5 edges.\nadded 2 edges.\nNode: 2662, Accuracy: 1\n=== For node: 2128 ====\nremoved 2 edges.\nadded 5 edges.\nNode: 2128, Accuracy: 1\n=== For node: 2323 ====\nremoved 0 edges.\nadded 7 edges.\nNode: 2323, Accuracy: 0\n=== For node: 2499 ====\nremoved 3 edges.\nadded 3 edges.\nNode: 2499, Accuracy: 1\n=== For node: 2164 ====\nremoved 4 edges.\nadded 3 edges.\nNode: 2164, Accuracy: 1\n=== For node: 457 ====\nremoved 7 edges.\nNode: 457, Accuracy: 1\n=== For node: 2199 ====\nremoved 7 edges.\nNode: 2199, Accuracy: 0\n=== For node: 313 ====\nremoved 0 edges.\nadded 7 edges.\nNode: 313, Accuracy: 1\n=== For node: 610 ====\nremoved 7 edges.\nNode: 610, Accuracy: 1\n=== For node: 1793 ====\nremoved 0 edges.\nadded 7 edges.\nNode: 1793, Accuracy: 0\n=== For node: 394 ====\nremoved 7 edges.\nNode: 394, Accuracy: 0\n=== For node: 556 ====\nremoved 2 edges.\nadded 1 edges.\nNode: 556, Accuracy: 1\n=== For node: 1976 ====\nremoved 2 edges.\nadded 5 edges.\nNode: 1976, Accuracy: 0\n=== For node: 601 ====\nremoved 0 edges.\nadded 7 edges.\nNode: 601, Accuracy: 0\n=== For node: 609 ====\nremoved 7 edges.\nNode: 609, Accuracy: 1\n=== For node: 2575 ====\nremoved 0 edges.\nadded 3 edges.\nNode: 2575, Accuracy: 1\n=== For node: 1726 ====\nremoved 2 edges.\nadded 5 edges.\nNode: 1726, Accuracy: 0\n=== For node: 548 ====\nremoved 0 edges.\nadded 1 edges.\nNode: 548, Accuracy: 0\n=== For node: 276 ====\nremoved 4 edges.\nadded 3 edges.\nNode: 276, Accuracy: 1\n=== For node: 2396 ====\nremoved 2 edges.\nadded 5 edges.\nNode: 2396, Accuracy: 0\n=== For node: 549 ====\nremoved 2 edges.\nadded 5 edges.\nNode: 549, Accuracy: 1\n=== For node: 2680 ====\nremoved 0 edges.\nadded 7 edges.\nNode: 2680, Accuracy: 1\n=== For node: 309 ====\nremoved 4 edges.\nadded 3 edges.\nNode: 309, Accuracy: 0\n=== For node: 2639 ====\nremoved 0 edges.\nadded 3 edges.\nNode: 2639, Accuracy: 0\n=== For node: 2200 ====\nremoved 5 edges.\nadded 2 edges.\nNode: 2200, Accuracy: 0\n=== For node: 453 ====\nremoved 4 edges.\nadded 3 edges.\nNode: 453, Accuracy: 1\n=== For node: 1894 ====\nremoved 7 edges.\nNode: 1894, Accuracy: 1\n=== For node: 2235 ====\nremoved 4 edges.\nadded 3 edges.\nNode: 2235, Accuracy: 1\n=== For node: 204 ====\nremoved 0 edges.\nadded 3 edges.\nNode: 204, Accuracy: 1\n=== For node: 2088 ====\nremoved 2 edges.\nadded 1 edges.\nNode: 2088, Accuracy: 0\n=== For node: 2503 ====\nremoved 7 edges.\nNode: 2503, Accuracy: 1\n=== For node: 1832 ====\nremoved 0 edges.\nadded 6 edges.\nNode: 1832, Accuracy: 1\n=== For node: 2610 ====\nremoved 0 edges.\nadded 7 edges.\nNode: 2610, Accuracy: 1\n=== For node: 2394 ====\nremoved 7 edges.\nNode: 2394, Accuracy: 0\n=== For node: 252 ====\nremoved 6 edges.\nadded 1 edges.\nNode: 252, Accuracy: 1\n=== For node: 152 ====\nremoved 6 edges.\nadded 1 edges.\nNode: 152, Accuracy: 1\n=== For node: 1788 ====\nremoved 4 edges.\nadded 1 edges.\nNode: 1788, Accuracy: 0\n=== For node: 458 ====\nremoved 7 edges.\nNode: 458, Accuracy: 1\n=== For node: 639 ====\nremoved 0 edges.\nadded 7 edges.\nNode: 639, Accuracy: 1\n=== For node: 542 ====\nremoved 7 edges.\nNode: 542, Accuracy: 1\n=== For node: 432 ====\nremoved 0 edges.\nadded 7 edges.\nNode: 432, Accuracy: 0\n=== For node: 2454 ====\nremoved 4 edges.\nadded 3 edges.\nNode: 2454, Accuracy: 1\n=== For node: 608 ====\nremoved 7 edges.\nNode: 608, Accuracy: 1\n=== For node: 2566 ====\nremoved 3 edges.\nadded 4 edges.\nNode: 2566, Accuracy: 1\n=== For node: 468 ====\nremoved 5 edges.\nadded 2 edges.\nNode: 468, Accuracy: 1\n=== For node: 1729 ====\nremoved 6 edges.\nadded 1 edges.\nNode: 1729, Accuracy: 0\n=== For node: 312 ====\nremoved 4 edges.\nadded 3 edges.\nNode: 312, Accuracy: 1\n=== For node: 1864 ====\nremoved 4 edges.\nadded 3 edges.\nNode: 1864, Accuracy: 1\n=== For node: 487 ====\nremoved 7 edges.\nNode: 487, Accuracy: 1\n=== For node: 1888 ====\nremoved 4 edges.\nadded 3 edges.\nNode: 1888, Accuracy: 1\n=== For node: 1762 ====\nremoved 2 edges.\nadded 5 edges.\nNode: 1762, Accuracy: 1\n=== For node: 2233 ====\nremoved 0 edges.\nadded 3 edges.\nNode: 2233, Accuracy: 1\n=== For node: 598 ====\nremoved 7 edges.\nNode: 598, Accuracy: 1\n=== For node: 1787 ====\nremoved 7 edges.\nNode: 1787, Accuracy: 1\n=== For node: 409 ====\nremoved 6 edges.\nadded 1 edges.\nNode: 409, Accuracy: 1\n=== For node: 1971 ====\nremoved 5 edges.\nadded 2 edges.\nNode: 1971, Accuracy: 1\n=== For node: 2641 ====\nremoved 2 edges.\nadded 5 edges.\nNode: 2641, Accuracy: 0\n=== For node: 2094 ====\nremoved 4 edges.\nadded 1 edges.\nNode: 2094, Accuracy: 1\n=== For node: 1755 ====\nremoved 4 edges.\nadded 3 edges.\nNode: 1755, Accuracy: 1\n=== For node: 2237 ====\nremoved 2 edges.\nadded 5 edges.\nNode: 2237, Accuracy: 1\n=== For node: 2612 ====\nremoved 0 edges.\nadded 6 edges.\nNode: 2612, Accuracy: 1\n=== For node: 2166 ====\nremoved 2 edges.\nadded 5 edges.\nNode: 2166, Accuracy: 0\n=== For node: 2072 ====\nremoved 4 edges.\nadded 3 edges.\nNode: 2072, Accuracy: 0\n=== For node: 144 ====\nremoved 7 edges.\nNode: 144, Accuracy: 1\n=== For node: 2195 ====\nremoved 2 edges.\nadded 3 edges.\nNode: 2195, Accuracy: 1\n=== For node: 2514 ====\nremoved 3 edges.\nadded 4 edges.\nNode: 2514, Accuracy: 0\n============\nMiss-classification rate : 0.33\n",
          "output_type": "stream"
        }
      ]
    },
    {
      "cell_type": "code",
      "source": [
        "from tqdm import tqdm\n",
        "\n",
        "cnt = 0\n",
        "for target_node in tqdm(node_list):\n",
        "    accuracy = evaluate(model, features, adj, labels, target_node)\n",
        "    print(f\"Node: {target_node}, Accuracy: {accuracy}\")\n",
        "    if accuracy == 0:\n",
        "        cnt += 1\n",
        "\n",
        "print('Miss-classification rate : %s' % (cnt / len(node_list)))"
      ],
      "metadata": {
        "execution": {
          "iopub.status.busy": "2023-09-24T13:53:55.807289Z",
          "iopub.execute_input": "2023-09-24T13:53:55.807893Z",
          "iopub.status.idle": "2023-09-24T13:53:58.023408Z",
          "shell.execute_reply.started": "2023-09-24T13:53:55.807855Z",
          "shell.execute_reply": "2023-09-24T13:53:58.022334Z"
        },
        "trusted": true,
        "id": "clHWSODtgmtb",
        "outputId": "e184e656-6cdf-473b-dc10-7930f4eaacaf"
      },
      "execution_count": null,
      "outputs": [
        {
          "name": "stderr",
          "text": "  5%|▌         | 5/100 [00:00<00:02, 45.96it/s]",
          "output_type": "stream"
        },
        {
          "name": "stdout",
          "text": "Node: 1921, Accuracy: 1\nNode: 2501, Accuracy: 1\nNode: 2067, Accuracy: 1\nNode: 2437, Accuracy: 0\nNode: 481, Accuracy: 1\nNode: 2146, Accuracy: 0\nNode: 1765, Accuracy: 1\n",
          "output_type": "stream"
        },
        {
          "name": "stderr",
          "text": " 10%|█         | 10/100 [00:00<00:01, 45.41it/s]",
          "output_type": "stream"
        },
        {
          "name": "stdout",
          "text": "Node: 2410, Accuracy: 0\nNode: 605, Accuracy: 1\nNode: 1934, Accuracy: 1\n",
          "output_type": "stream"
        },
        {
          "name": "stderr",
          "text": " 15%|█▌        | 15/100 [00:00<00:01, 44.94it/s]",
          "output_type": "stream"
        },
        {
          "name": "stdout",
          "text": "Node: 2526, Accuracy: 1\nNode: 486, Accuracy: 1\nNode: 567, Accuracy: 1\nNode: 2258, Accuracy: 0\nNode: 2578, Accuracy: 0\nNode: 2281, Accuracy: 1\nNode: 1752, Accuracy: 1\n",
          "output_type": "stream"
        },
        {
          "name": "stderr",
          "text": " 20%|██        | 20/100 [00:00<00:01, 45.45it/s]",
          "output_type": "stream"
        },
        {
          "name": "stdout",
          "text": "Node: 1783, Accuracy: 1\nNode: 347, Accuracy: 1\nNode: 1880, Accuracy: 1\n",
          "output_type": "stream"
        },
        {
          "name": "stderr",
          "text": " 25%|██▌       | 25/100 [00:00<00:01, 45.37it/s]",
          "output_type": "stream"
        },
        {
          "name": "stdout",
          "text": "Node: 1858, Accuracy: 1\nNode: 1907, Accuracy: 1\nNode: 637, Accuracy: 1\nNode: 627, Accuracy: 1\nNode: 2667, Accuracy: 1\nNode: 359, Accuracy: 0\nNode: 2322, Accuracy: 1\n",
          "output_type": "stream"
        },
        {
          "name": "stderr",
          "text": " 30%|███       | 30/100 [00:00<00:01, 45.20it/s]",
          "output_type": "stream"
        },
        {
          "name": "stdout",
          "text": "Node: 553, Accuracy: 0\nNode: 2397, Accuracy: 0\nNode: 2035, Accuracy: 0\n",
          "output_type": "stream"
        },
        {
          "name": "stderr",
          "text": " 35%|███▌      | 35/100 [00:00<00:01, 43.79it/s]",
          "output_type": "stream"
        },
        {
          "name": "stdout",
          "text": "Node: 160, Accuracy: 1\nNode: 1785, Accuracy: 0\nNode: 2518, Accuracy: 1\nNode: 1768, Accuracy: 1\nNode: 2662, Accuracy: 1\nNode: 2128, Accuracy: 0\nNode: 2323, Accuracy: 0\nNode: 2499, Accuracy: 1\nNode: 2164, Accuracy: 1\n",
          "output_type": "stream"
        },
        {
          "name": "stderr",
          "text": " 45%|████▌     | 45/100 [00:01<00:01, 44.63it/s]",
          "output_type": "stream"
        },
        {
          "name": "stdout",
          "text": "Node: 457, Accuracy: 1\nNode: 2199, Accuracy: 1\nNode: 313, Accuracy: 1\nNode: 610, Accuracy: 1\nNode: 1793, Accuracy: 0\nNode: 394, Accuracy: 0\nNode: 556, Accuracy: 1\nNode: 1976, Accuracy: 0\nNode: 601, Accuracy: 0\nNode: 609, Accuracy: 1\n",
          "output_type": "stream"
        },
        {
          "name": "stderr",
          "text": " 55%|█████▌    | 55/100 [00:01<00:00, 46.29it/s]",
          "output_type": "stream"
        },
        {
          "name": "stdout",
          "text": "Node: 2575, Accuracy: 1\nNode: 1726, Accuracy: 1\nNode: 548, Accuracy: 0\nNode: 276, Accuracy: 1\nNode: 2396, Accuracy: 0\nNode: 549, Accuracy: 1\nNode: 2680, Accuracy: 1\nNode: 309, Accuracy: 0\nNode: 2639, Accuracy: 0\nNode: 2200, Accuracy: 1\n",
          "output_type": "stream"
        },
        {
          "name": "stderr",
          "text": " 65%|██████▌   | 65/100 [00:01<00:00, 46.69it/s]",
          "output_type": "stream"
        },
        {
          "name": "stdout",
          "text": "Node: 453, Accuracy: 1\nNode: 1894, Accuracy: 1\nNode: 2235, Accuracy: 1\nNode: 204, Accuracy: 1\nNode: 2088, Accuracy: 1\nNode: 2503, Accuracy: 1\nNode: 1832, Accuracy: 1\nNode: 2610, Accuracy: 1\nNode: 2394, Accuracy: 0\nNode: 252, Accuracy: 0\n",
          "output_type": "stream"
        },
        {
          "name": "stderr",
          "text": " 75%|███████▌  | 75/100 [00:01<00:00, 46.14it/s]",
          "output_type": "stream"
        },
        {
          "name": "stdout",
          "text": "Node: 152, Accuracy: 1\nNode: 1788, Accuracy: 1\nNode: 458, Accuracy: 1\nNode: 639, Accuracy: 1\nNode: 542, Accuracy: 1\nNode: 432, Accuracy: 0\nNode: 2454, Accuracy: 1\nNode: 608, Accuracy: 1\nNode: 2566, Accuracy: 1\n",
          "output_type": "stream"
        },
        {
          "name": "stderr",
          "text": " 85%|████████▌ | 85/100 [00:01<00:00, 44.48it/s]",
          "output_type": "stream"
        },
        {
          "name": "stdout",
          "text": "Node: 468, Accuracy: 1\nNode: 1729, Accuracy: 1\nNode: 312, Accuracy: 1\nNode: 1864, Accuracy: 1\nNode: 487, Accuracy: 1\nNode: 1888, Accuracy: 1\nNode: 1762, Accuracy: 1\nNode: 2233, Accuracy: 1\nNode: 598, Accuracy: 1\nNode: 1787, Accuracy: 1\n",
          "output_type": "stream"
        },
        {
          "name": "stderr",
          "text": " 95%|█████████▌| 95/100 [00:02<00:00, 45.59it/s]",
          "output_type": "stream"
        },
        {
          "name": "stdout",
          "text": "Node: 409, Accuracy: 1\nNode: 1971, Accuracy: 1\nNode: 2641, Accuracy: 1\nNode: 2094, Accuracy: 1\nNode: 1755, Accuracy: 1\nNode: 2237, Accuracy: 1\nNode: 2612, Accuracy: 1\nNode: 2166, Accuracy: 0\nNode: 2072, Accuracy: 1\nNode: 144, Accuracy: 0\n",
          "output_type": "stream"
        },
        {
          "name": "stderr",
          "text": "100%|██████████| 100/100 [00:02<00:00, 45.38it/s]",
          "output_type": "stream"
        },
        {
          "name": "stdout",
          "text": "Node: 2195, Accuracy: 1\nNode: 2514, Accuracy: 1\nMiss-classification rate : 0.25\n",
          "output_type": "stream"
        },
        {
          "name": "stderr",
          "text": "\n",
          "output_type": "stream"
        }
      ]
    },
    {
      "cell_type": "code",
      "source": [],
      "metadata": {
        "id": "AJjMnkZLgmtb"
      },
      "execution_count": null,
      "outputs": []
    },
    {
      "cell_type": "markdown",
      "source": [
        "### tmp approach"
      ],
      "metadata": {
        "id": "_ZcTPcj2gmtb"
      }
    },
    {
      "cell_type": "code",
      "source": [
        "target_number_range = 50\n",
        "\n",
        "acc_list = []\n",
        "acc_node = {}\n",
        "acc_list_2 = []\n",
        "acc_node_2 = {}\n",
        "\n",
        "for target_number in range(1, target_number_range+1):\n",
        "    print(f\"For target number: {target_number}\")\n",
        "    node_list = random.sample(list(idx_unlabeled), target_number)\n",
        "\n",
        "    budget = 7\n",
        "    cnt = 0\n",
        "    curr_acc = {1:[], 0:[]}\n",
        "    for target_node in node_list:\n",
        "        modified_adj = modify_adj(target_node, adj, budget)\n",
        "        accuracy = evaluate(model, features, modified_adj, labels, target_node)\n",
        "\n",
        "        if accuracy == 0:\n",
        "            curr_acc[0].append(target_node)\n",
        "            cnt += 1\n",
        "        else:\n",
        "            curr_acc[1].append(target_node)\n",
        "\n",
        "    acc_node[target_number] = curr_acc\n",
        "    acc_list.append([target_number, cnt / len(node_list), node_list])\n",
        "\n",
        "    print(f\"Total Target: {target_number}\")\n",
        "    print('Miss-classification rate Modified : %s' % (cnt / len(node_list)))\n",
        "\n",
        "    cnt = 0\n",
        "    curr_acc = {1:[], 0:[]}\n",
        "    for target_node in node_list:\n",
        "        accuracy = evaluate(model, features, adj, labels, target_node)\n",
        "\n",
        "        if accuracy == 0:\n",
        "            curr_acc[0].append(target_node)\n",
        "            cnt += 1\n",
        "        else:\n",
        "            curr_acc[1].append(target_node)\n",
        "\n",
        "\n",
        "    acc_node_2[target_number] = curr_acc\n",
        "    acc_list_2.append([target_number, cnt / len(node_list), node_list])\n",
        "\n",
        "    print('Miss-classification rate : %s' % (cnt / len(node_list)))"
      ],
      "metadata": {
        "execution": {
          "iopub.status.busy": "2023-09-24T13:53:58.024996Z",
          "iopub.execute_input": "2023-09-24T13:53:58.025663Z",
          "iopub.status.idle": "2023-09-24T14:00:42.406837Z",
          "shell.execute_reply.started": "2023-09-24T13:53:58.025606Z",
          "shell.execute_reply": "2023-09-24T14:00:42.405621Z"
        },
        "trusted": true,
        "id": "UiIHLvPkgmtb",
        "outputId": "42be0765-a222-4cdb-842d-3e094e67f9d8"
      },
      "execution_count": null,
      "outputs": [
        {
          "name": "stdout",
          "text": "For target number: 1\nremoved 6 edges.\nadded 1 edges.\nTotal Target: 1\nMiss-classification rate Modified : 0.0\nMiss-classification rate : 0.0\nFor target number: 2\nremoved 5 edges.\nadded 2 edges.\nremoved 0 edges.\nadded 7 edges.\nTotal Target: 2\nMiss-classification rate Modified : 0.5\nMiss-classification rate : 0.5\nFor target number: 3\nremoved 7 edges.\nremoved 4 edges.\nadded 3 edges.\nremoved 5 edges.\nadded 2 edges.\nTotal Target: 3\nMiss-classification rate Modified : 0.3333333333333333\nMiss-classification rate : 0.3333333333333333\nFor target number: 4\nremoved 4 edges.\nadded 3 edges.\nremoved 0 edges.\nadded 1 edges.\nremoved 4 edges.\nadded 3 edges.\nremoved 4 edges.\nadded 3 edges.\nTotal Target: 4\nMiss-classification rate Modified : 0.5\nMiss-classification rate : 0.25\nFor target number: 5\nremoved 7 edges.\nremoved 4 edges.\nadded 3 edges.\nremoved 7 edges.\nremoved 6 edges.\nadded 1 edges.\nremoved 0 edges.\nadded 7 edges.\nTotal Target: 5\nMiss-classification rate Modified : 0.0\nMiss-classification rate : 0.0\nFor target number: 6\nremoved 7 edges.\nremoved 5 edges.\nadded 1 edges.\nremoved 4 edges.\nadded 3 edges.\nremoved 0 edges.\nadded 7 edges.\nremoved 1 edges.\nadded 6 edges.\nremoved 0 edges.\nadded 7 edges.\nTotal Target: 6\nMiss-classification rate Modified : 0.5\nMiss-classification rate : 0.5\nFor target number: 7\nremoved 7 edges.\nremoved 0 edges.\nadded 6 edges.\nremoved 5 edges.\nadded 2 edges.\nremoved 3 edges.\nadded 4 edges.\nremoved 7 edges.\nremoved 6 edges.\nadded 1 edges.\nremoved 4 edges.\nadded 3 edges.\nTotal Target: 7\nMiss-classification rate Modified : 0.42857142857142855\nMiss-classification rate : 0.5714285714285714\nFor target number: 8\nremoved 1 edges.\nadded 6 edges.\nremoved 0 edges.\nadded 7 edges.\nremoved 2 edges.\nadded 1 edges.\nremoved 0 edges.\nadded 7 edges.\nremoved 7 edges.\nremoved 2 edges.\nadded 5 edges.\nremoved 0 edges.\nadded 6 edges.\nremoved 2 edges.\nadded 5 edges.\nTotal Target: 8\nMiss-classification rate Modified : 0.375\nMiss-classification rate : 0.125\nFor target number: 9\nremoved 0 edges.\nadded 3 edges.\nremoved 5 edges.\nadded 2 edges.\nremoved 3 edges.\nadded 3 edges.\nremoved 0 edges.\nadded 7 edges.\nremoved 7 edges.\nremoved 2 edges.\nadded 5 edges.\nremoved 0 edges.\nadded 7 edges.\nremoved 7 edges.\nremoved 4 edges.\nadded 3 edges.\nTotal Target: 9\nMiss-classification rate Modified : 0.3333333333333333\nMiss-classification rate : 0.1111111111111111\nFor target number: 10\nremoved 2 edges.\nadded 5 edges.\nremoved 0 edges.\nadded 7 edges.\nremoved 2 edges.\nadded 5 edges.\nremoved 4 edges.\nadded 3 edges.\nremoved 6 edges.\nadded 1 edges.\nremoved 2 edges.\nadded 5 edges.\nremoved 0 edges.\nadded 7 edges.\nremoved 0 edges.\nadded 3 edges.\nremoved 7 edges.\nremoved 0 edges.\nadded 7 edges.\nTotal Target: 10\nMiss-classification rate Modified : 0.3\nMiss-classification rate : 0.5\nFor target number: 11\nremoved 5 edges.\nadded 2 edges.\nremoved 2 edges.\nadded 5 edges.\nremoved 2 edges.\nadded 3 edges.\nremoved 0 edges.\nadded 7 edges.\nremoved 4 edges.\nadded 3 edges.\nremoved 0 edges.\nadded 7 edges.\nremoved 6 edges.\nadded 1 edges.\nremoved 4 edges.\nadded 3 edges.\nremoved 7 edges.\nremoved 7 edges.\nremoved 0 edges.\nadded 7 edges.\nTotal Target: 11\nMiss-classification rate Modified : 0.2727272727272727\nMiss-classification rate : 0.2727272727272727\nFor target number: 12\nremoved 5 edges.\nadded 2 edges.\nremoved 6 edges.\nadded 1 edges.\nremoved 4 edges.\nadded 1 edges.\nremoved 7 edges.\nremoved 0 edges.\nadded 7 edges.\nremoved 2 edges.\nadded 3 edges.\nremoved 2 edges.\nadded 5 edges.\nremoved 6 edges.\nadded 1 edges.\nremoved 0 edges.\nadded 3 edges.\nremoved 7 edges.\nremoved 6 edges.\nadded 1 edges.\nremoved 4 edges.\nadded 3 edges.\nTotal Target: 12\nMiss-classification rate Modified : 0.4166666666666667\nMiss-classification rate : 0.3333333333333333\nFor target number: 13\nremoved 1 edges.\nadded 6 edges.\nremoved 2 edges.\nadded 5 edges.\nremoved 7 edges.\nremoved 7 edges.\nremoved 2 edges.\nadded 5 edges.\nremoved 4 edges.\nadded 3 edges.\nremoved 4 edges.\nadded 3 edges.\nremoved 0 edges.\nadded 6 edges.\nremoved 7 edges.\nremoved 1 edges.\nadded 6 edges.\nremoved 0 edges.\nadded 7 edges.\nremoved 7 edges.\nremoved 4 edges.\nadded 3 edges.\nTotal Target: 13\nMiss-classification rate Modified : 0.46153846153846156\nMiss-classification rate : 0.23076923076923078\nFor target number: 14\nremoved 2 edges.\nadded 5 edges.\nremoved 0 edges.\nadded 7 edges.\nremoved 0 edges.\nadded 7 edges.\nremoved 2 edges.\nadded 5 edges.\nremoved 7 edges.\nremoved 0 edges.\nadded 7 edges.\nremoved 0 edges.\nadded 3 edges.\nremoved 0 edges.\nadded 7 edges.\nremoved 5 edges.\nadded 2 edges.\nremoved 2 edges.\nadded 5 edges.\nremoved 2 edges.\nadded 5 edges.\nremoved 6 edges.\nadded 1 edges.\nremoved 0 edges.\nadded 3 edges.\nremoved 4 edges.\nadded 3 edges.\nTotal Target: 14\nMiss-classification rate Modified : 0.35714285714285715\nMiss-classification rate : 0.2857142857142857\nFor target number: 15\nremoved 5 edges.\nadded 2 edges.\nremoved 0 edges.\nadded 7 edges.\nremoved 0 edges.\nadded 7 edges.\nremoved 4 edges.\nadded 3 edges.\nremoved 2 edges.\nadded 5 edges.\nremoved 0 edges.\nadded 7 edges.\nremoved 5 edges.\nadded 2 edges.\nremoved 7 edges.\nremoved 3 edges.\nadded 4 edges.\nremoved 4 edges.\nadded 3 edges.\nremoved 7 edges.\nremoved 3 edges.\nadded 4 edges.\nremoved 7 edges.\nremoved 7 edges.\nremoved 2 edges.\nadded 5 edges.\nTotal Target: 15\nMiss-classification rate Modified : 0.4666666666666667\nMiss-classification rate : 0.4\nFor target number: 16\nremoved 0 edges.\nadded 3 edges.\nremoved 7 edges.\nremoved 7 edges.\nremoved 2 edges.\nadded 5 edges.\nremoved 7 edges.\nremoved 7 edges.\nremoved 2 edges.\nadded 5 edges.\nremoved 3 edges.\nadded 4 edges.\nremoved 2 edges.\nadded 5 edges.\nremoved 4 edges.\nadded 3 edges.\nremoved 0 edges.\nadded 1 edges.\nremoved 0 edges.\nadded 7 edges.\nremoved 5 edges.\nadded 2 edges.\nremoved 4 edges.\nadded 3 edges.\nremoved 7 edges.\nremoved 0 edges.\nadded 7 edges.\nTotal Target: 16\nMiss-classification rate Modified : 0.5\nMiss-classification rate : 0.3125\nFor target number: 17\nremoved 3 edges.\nadded 1 edges.\nremoved 4 edges.\nadded 3 edges.\nremoved 2 edges.\nadded 3 edges.\nremoved 0 edges.\nadded 7 edges.\nremoved 7 edges.\nremoved 0 edges.\nadded 6 edges.\nremoved 7 edges.\nremoved 0 edges.\nadded 7 edges.\nremoved 0 edges.\nadded 7 edges.\nremoved 2 edges.\nadded 5 edges.\nremoved 0 edges.\nadded 1 edges.\nremoved 0 edges.\nadded 6 edges.\nremoved 5 edges.\nadded 2 edges.\nremoved 0 edges.\nadded 7 edges.\nremoved 0 edges.\nadded 6 edges.\nremoved 4 edges.\nadded 3 edges.\nremoved 4 edges.\nadded 3 edges.\nTotal Target: 17\nMiss-classification rate Modified : 0.4117647058823529\nMiss-classification rate : 0.4117647058823529\nFor target number: 18\nremoved 4 edges.\nadded 3 edges.\nremoved 7 edges.\nremoved 5 edges.\nadded 2 edges.\nremoved 0 edges.\nadded 7 edges.\nremoved 1 edges.\nadded 6 edges.\nremoved 5 edges.\nadded 2 edges.\nremoved 0 edges.\nadded 6 edges.\nremoved 4 edges.\nadded 3 edges.\nremoved 7 edges.\nremoved 7 edges.\nremoved 7 edges.\nremoved 2 edges.\nadded 1 edges.\nremoved 5 edges.\nadded 2 edges.\nremoved 4 edges.\nadded 3 edges.\nremoved 7 edges.\nremoved 2 edges.\nadded 5 edges.\nremoved 4 edges.\nadded 3 edges.\nremoved 5 edges.\nadded 2 edges.\nTotal Target: 18\nMiss-classification rate Modified : 0.4444444444444444\nMiss-classification rate : 0.2222222222222222\nFor target number: 19\nremoved 0 edges.\nadded 3 edges.\nremoved 1 edges.\nadded 6 edges.\nremoved 0 edges.\nadded 6 edges.\nremoved 0 edges.\nadded 7 edges.\nremoved 4 edges.\nadded 3 edges.\nremoved 7 edges.\nremoved 0 edges.\nadded 7 edges.\nremoved 2 edges.\nadded 5 edges.\nremoved 7 edges.\nremoved 0 edges.\nadded 7 edges.\nremoved 0 edges.\nadded 6 edges.\nremoved 1 edges.\nadded 6 edges.\nremoved 0 edges.\nadded 6 edges.\nremoved 2 edges.\nadded 5 edges.\nremoved 7 edges.\nremoved 7 edges.\nremoved 6 edges.\nadded 1 edges.\nremoved 4 edges.\nadded 3 edges.\nremoved 6 edges.\nadded 1 edges.\nTotal Target: 19\nMiss-classification rate Modified : 0.3157894736842105\nMiss-classification rate : 0.3684210526315789\nFor target number: 20\nremoved 2 edges.\nadded 3 edges.\nremoved 4 edges.\nadded 3 edges.\nremoved 7 edges.\nremoved 4 edges.\nadded 3 edges.\nremoved 0 edges.\nadded 3 edges.\nremoved 7 edges.\nremoved 7 edges.\nremoved 0 edges.\nadded 6 edges.\nremoved 7 edges.\nremoved 7 edges.\nremoved 0 edges.\nadded 6 edges.\nremoved 5 edges.\nadded 2 edges.\nremoved 5 edges.\nadded 2 edges.\nremoved 2 edges.\nadded 3 edges.\nremoved 7 edges.\nremoved 2 edges.\nadded 5 edges.\nremoved 7 edges.\nremoved 2 edges.\nadded 5 edges.\nremoved 7 edges.\nremoved 7 edges.\nTotal Target: 20\nMiss-classification rate Modified : 0.35\nMiss-classification rate : 0.2\nFor target number: 21\nremoved 2 edges.\nadded 5 edges.\nremoved 2 edges.\nadded 5 edges.\nremoved 3 edges.\nadded 4 edges.\nremoved 1 edges.\nadded 6 edges.\nremoved 0 edges.\nadded 7 edges.\nremoved 7 edges.\nremoved 0 edges.\nadded 7 edges.\nremoved 0 edges.\nadded 7 edges.\nremoved 6 edges.\nadded 1 edges.\nremoved 2 edges.\nadded 5 edges.\nremoved 7 edges.\nremoved 7 edges.\nremoved 2 edges.\nadded 5 edges.\nremoved 4 edges.\nadded 1 edges.\nremoved 0 edges.\nadded 6 edges.\nremoved 5 edges.\nadded 2 edges.\nremoved 0 edges.\nadded 7 edges.\nremoved 0 edges.\nadded 7 edges.\nremoved 7 edges.\nremoved 2 edges.\nadded 3 edges.\nremoved 0 edges.\nadded 6 edges.\nTotal Target: 21\nMiss-classification rate Modified : 0.42857142857142855\nMiss-classification rate : 0.38095238095238093\nFor target number: 22\nremoved 3 edges.\nadded 4 edges.\nremoved 2 edges.\nadded 5 edges.\nremoved 0 edges.\nadded 7 edges.\nremoved 7 edges.\nremoved 2 edges.\nadded 5 edges.\nremoved 5 edges.\nadded 2 edges.\nremoved 3 edges.\nadded 3 edges.\nremoved 7 edges.\nremoved 3 edges.\nadded 4 edges.\nremoved 2 edges.\nadded 5 edges.\nremoved 4 edges.\nadded 1 edges.\nremoved 0 edges.\nadded 6 edges.\nremoved 0 edges.\nadded 3 edges.\nremoved 6 edges.\nadded 1 edges.\nremoved 4 edges.\nadded 3 edges.\nremoved 7 edges.\nremoved 3 edges.\nadded 3 edges.\nremoved 6 edges.\nadded 1 edges.\nremoved 7 edges.\nremoved 2 edges.\nadded 5 edges.\nremoved 0 edges.\nadded 6 edges.\nremoved 0 edges.\nadded 3 edges.\nTotal Target: 22\nMiss-classification rate Modified : 0.5\nMiss-classification rate : 0.36363636363636365\nFor target number: 23\nremoved 7 edges.\nremoved 2 edges.\nadded 5 edges.\nremoved 0 edges.\nadded 7 edges.\nremoved 7 edges.\nremoved 6 edges.\nadded 1 edges.\nremoved 7 edges.\nremoved 5 edges.\nadded 2 edges.\nremoved 7 edges.\nremoved 0 edges.\nadded 7 edges.\nremoved 2 edges.\nadded 5 edges.\nremoved 0 edges.\nadded 7 edges.\nremoved 7 edges.\nremoved 2 edges.\nadded 5 edges.\nremoved 7 edges.\nremoved 0 edges.\nadded 7 edges.\nremoved 4 edges.\nadded 3 edges.\nremoved 4 edges.\nadded 3 edges.\nremoved 0 edges.\nadded 7 edges.\nremoved 0 edges.\nadded 7 edges.\nremoved 2 edges.\nadded 5 edges.\nremoved 2 edges.\nadded 3 edges.\nremoved 7 edges.\nremoved 0 edges.\nadded 7 edges.\nTotal Target: 23\nMiss-classification rate Modified : 0.17391304347826086\nMiss-classification rate : 0.08695652173913043\nFor target number: 24\nremoved 0 edges.\nadded 1 edges.\nremoved 2 edges.\nadded 5 edges.\nremoved 0 edges.\nadded 7 edges.\nremoved 0 edges.\nadded 7 edges.\nremoved 0 edges.\nadded 7 edges.\nremoved 2 edges.\nadded 5 edges.\nremoved 0 edges.\nadded 3 edges.\nremoved 0 edges.\nadded 7 edges.\nremoved 3 edges.\nadded 3 edges.\nremoved 0 edges.\nadded 6 edges.\nremoved 2 edges.\nadded 5 edges.\nremoved 7 edges.\nremoved 1 edges.\nadded 6 edges.\nremoved 0 edges.\nadded 6 edges.\nremoved 0 edges.\nadded 7 edges.\nremoved 2 edges.\nadded 5 edges.\nremoved 7 edges.\nremoved 2 edges.\nadded 5 edges.\nremoved 0 edges.\nadded 7 edges.\nremoved 7 edges.\nremoved 7 edges.\nremoved 7 edges.\nremoved 4 edges.\nadded 3 edges.\nremoved 0 edges.\nadded 1 edges.\nTotal Target: 24\nMiss-classification rate Modified : 0.2916666666666667\nMiss-classification rate : 0.2916666666666667\nFor target number: 25\nremoved 2 edges.\nadded 5 edges.\nremoved 7 edges.\nremoved 4 edges.\nadded 3 edges.\nremoved 5 edges.\nadded 2 edges.\nremoved 7 edges.\nremoved 7 edges.\nremoved 7 edges.\nremoved 0 edges.\nadded 1 edges.\nremoved 7 edges.\nremoved 7 edges.\nremoved 0 edges.\nadded 7 edges.\nremoved 4 edges.\nadded 3 edges.\nremoved 6 edges.\nadded 1 edges.\nremoved 4 edges.\nadded 3 edges.\nremoved 0 edges.\nadded 7 edges.\nremoved 4 edges.\nadded 3 edges.\nremoved 7 edges.\nremoved 2 edges.\nadded 5 edges.\nremoved 0 edges.\nadded 6 edges.\nremoved 0 edges.\nadded 7 edges.\nremoved 0 edges.\nadded 1 edges.\nremoved 7 edges.\nremoved 3 edges.\nadded 4 edges.\nremoved 7 edges.\nremoved 4 edges.\nadded 3 edges.\nTotal Target: 25\nMiss-classification rate Modified : 0.36\nMiss-classification rate : 0.32\nFor target number: 26\nremoved 7 edges.\nremoved 0 edges.\nadded 3 edges.\nremoved 7 edges.\nremoved 0 edges.\nadded 6 edges.\nremoved 2 edges.\nadded 5 edges.\nremoved 0 edges.\nadded 6 edges.\nremoved 2 edges.\nadded 3 edges.\nremoved 7 edges.\nremoved 7 edges.\nremoved 4 edges.\nadded 3 edges.\nremoved 0 edges.\nadded 7 edges.\nremoved 7 edges.\nremoved 7 edges.\nremoved 0 edges.\nadded 1 edges.\nremoved 1 edges.\nadded 6 edges.\nremoved 7 edges.\nremoved 4 edges.\nadded 3 edges.\nremoved 0 edges.\nadded 1 edges.\nremoved 0 edges.\nadded 7 edges.\nremoved 2 edges.\nadded 5 edges.\nremoved 2 edges.\nadded 5 edges.\nremoved 5 edges.\nadded 2 edges.\nremoved 7 edges.\nremoved 6 edges.\nadded 1 edges.\nremoved 6 edges.\nadded 1 edges.\nremoved 4 edges.\nadded 3 edges.\nTotal Target: 26\nMiss-classification rate Modified : 0.38461538461538464\nMiss-classification rate : 0.3076923076923077\nFor target number: 27\nremoved 5 edges.\nadded 2 edges.\nremoved 0 edges.\nadded 7 edges.\nremoved 7 edges.\nremoved 0 edges.\nadded 7 edges.\nremoved 7 edges.\nremoved 1 edges.\nadded 3 edges.\nremoved 2 edges.\nadded 5 edges.\nremoved 0 edges.\nadded 7 edges.\nremoved 3 edges.\nadded 4 edges.\nremoved 0 edges.\nadded 7 edges.\nremoved 1 edges.\nadded 6 edges.\nremoved 3 edges.\nadded 4 edges.\nremoved 7 edges.\nremoved 7 edges.\nremoved 3 edges.\nadded 4 edges.\nremoved 7 edges.\nremoved 0 edges.\nadded 7 edges.\nremoved 2 edges.\nadded 5 edges.\nremoved 0 edges.\nadded 7 edges.\nremoved 6 edges.\nadded 1 edges.\nremoved 0 edges.\nadded 6 edges.\nremoved 2 edges.\nadded 3 edges.\nremoved 7 edges.\nremoved 0 edges.\nadded 7 edges.\nremoved 2 edges.\nadded 5 edges.\nremoved 7 edges.\nremoved 7 edges.\nTotal Target: 27\nMiss-classification rate Modified : 0.48148148148148145\nMiss-classification rate : 0.37037037037037035\nFor target number: 28\nremoved 4 edges.\nadded 3 edges.\nremoved 6 edges.\nadded 1 edges.\nremoved 3 edges.\nadded 4 edges.\nremoved 4 edges.\nadded 3 edges.\nremoved 2 edges.\nadded 5 edges.\nremoved 0 edges.\nadded 3 edges.\nremoved 2 edges.\nadded 5 edges.\nremoved 7 edges.\nremoved 6 edges.\nadded 1 edges.\nremoved 7 edges.\nremoved 0 edges.\nadded 7 edges.\nremoved 0 edges.\nadded 3 edges.\nremoved 4 edges.\nadded 3 edges.\nremoved 7 edges.\nremoved 0 edges.\nadded 7 edges.\nremoved 0 edges.\nadded 7 edges.\nremoved 0 edges.\nadded 7 edges.\nremoved 7 edges.\nremoved 7 edges.\nremoved 1 edges.\nadded 6 edges.\nremoved 7 edges.\nremoved 2 edges.\nadded 5 edges.\nremoved 0 edges.\nadded 3 edges.\nremoved 2 edges.\nadded 5 edges.\nremoved 4 edges.\nadded 3 edges.\nremoved 7 edges.\nremoved 7 edges.\nremoved 0 edges.\nadded 7 edges.\nTotal Target: 28\nMiss-classification rate Modified : 0.2857142857142857\nMiss-classification rate : 0.25\nFor target number: 29\nremoved 5 edges.\nadded 2 edges.\nremoved 5 edges.\nadded 2 edges.\nremoved 6 edges.\nadded 1 edges.\nremoved 2 edges.\nadded 5 edges.\nremoved 5 edges.\nadded 2 edges.\nremoved 0 edges.\nadded 1 edges.\nremoved 6 edges.\nadded 1 edges.\nremoved 2 edges.\nadded 5 edges.\nremoved 4 edges.\nadded 3 edges.\nremoved 0 edges.\nadded 7 edges.\nremoved 2 edges.\nadded 5 edges.\nremoved 0 edges.\nadded 7 edges.\nremoved 2 edges.\nadded 5 edges.\nremoved 0 edges.\nadded 3 edges.\nremoved 4 edges.\nadded 3 edges.\nremoved 2 edges.\nadded 5 edges.\nremoved 7 edges.\nremoved 4 edges.\nadded 3 edges.\nremoved 2 edges.\nadded 5 edges.\nremoved 2 edges.\nadded 5 edges.\nremoved 4 edges.\nadded 3 edges.\nremoved 3 edges.\nadded 4 edges.\nremoved 7 edges.\nremoved 2 edges.\nadded 5 edges.\nremoved 4 edges.\nadded 3 edges.\nremoved 7 edges.\nremoved 7 edges.\nremoved 7 edges.\nremoved 6 edges.\nadded 1 edges.\nTotal Target: 29\nMiss-classification rate Modified : 0.10344827586206896\nMiss-classification rate : 0.13793103448275862\nFor target number: 30\nremoved 4 edges.\nadded 3 edges.\nremoved 7 edges.\nremoved 6 edges.\nadded 1 edges.\nremoved 7 edges.\nremoved 7 edges.\nremoved 2 edges.\nadded 3 edges.\nremoved 7 edges.\nremoved 7 edges.\nremoved 2 edges.\nadded 5 edges.\nremoved 7 edges.\nremoved 7 edges.\nremoved 7 edges.\nremoved 4 edges.\nadded 3 edges.\nremoved 7 edges.\nremoved 0 edges.\nadded 7 edges.\nremoved 2 edges.\nadded 5 edges.\nremoved 0 edges.\nadded 7 edges.\nremoved 7 edges.\nremoved 5 edges.\nadded 2 edges.\nremoved 6 edges.\nadded 1 edges.\nremoved 6 edges.\nadded 1 edges.\nremoved 6 edges.\nadded 1 edges.\nremoved 4 edges.\nadded 3 edges.\nremoved 7 edges.\nremoved 7 edges.\nremoved 4 edges.\nadded 3 edges.\nremoved 3 edges.\nadded 4 edges.\nremoved 3 edges.\nadded 4 edges.\nremoved 7 edges.\nremoved 0 edges.\nadded 1 edges.\nTotal Target: 30\nMiss-classification rate Modified : 0.36666666666666664\nMiss-classification rate : 0.36666666666666664\nFor target number: 31\nremoved 5 edges.\nadded 2 edges.\nremoved 4 edges.\nadded 1 edges.\nremoved 6 edges.\nadded 1 edges.\nremoved 0 edges.\nadded 7 edges.\nremoved 2 edges.\nadded 5 edges.\nremoved 7 edges.\nremoved 7 edges.\nremoved 0 edges.\nadded 7 edges.\nremoved 4 edges.\nadded 3 edges.\nremoved 2 edges.\nadded 5 edges.\nremoved 0 edges.\nadded 6 edges.\nremoved 7 edges.\nremoved 7 edges.\nremoved 5 edges.\nadded 1 edges.\nremoved 2 edges.\nadded 5 edges.\nremoved 7 edges.\nremoved 6 edges.\nadded 1 edges.\nremoved 3 edges.\nadded 4 edges.\nremoved 2 edges.\nadded 5 edges.\nremoved 0 edges.\nadded 3 edges.\nremoved 7 edges.\nremoved 5 edges.\nadded 2 edges.\nremoved 7 edges.\nremoved 6 edges.\nadded 1 edges.\nremoved 7 edges.\nremoved 7 edges.\nremoved 1 edges.\nadded 6 edges.\nremoved 0 edges.\nadded 7 edges.\nremoved 7 edges.\nremoved 7 edges.\nremoved 7 edges.\nTotal Target: 31\nMiss-classification rate Modified : 0.5161290322580645\nMiss-classification rate : 0.3548387096774194\nFor target number: 32\nremoved 0 edges.\nadded 7 edges.\nremoved 0 edges.\nadded 7 edges.\nremoved 0 edges.\nadded 7 edges.\nremoved 2 edges.\nadded 5 edges.\nremoved 0 edges.\nadded 6 edges.\nremoved 2 edges.\nadded 5 edges.\nremoved 6 edges.\nadded 1 edges.\nremoved 7 edges.\nremoved 1 edges.\nadded 6 edges.\nremoved 7 edges.\nremoved 0 edges.\nadded 3 edges.\nremoved 7 edges.\nremoved 0 edges.\nadded 7 edges.\nremoved 2 edges.\nadded 3 edges.\nremoved 0 edges.\nadded 1 edges.\nremoved 1 edges.\nadded 6 edges.\nremoved 3 edges.\nadded 4 edges.\nremoved 7 edges.\nremoved 7 edges.\nremoved 4 edges.\nadded 3 edges.\nremoved 2 edges.\nadded 5 edges.\nremoved 2 edges.\nadded 5 edges.\nremoved 0 edges.\nadded 6 edges.\nremoved 4 edges.\nadded 3 edges.\nremoved 2 edges.\nadded 3 edges.\nremoved 7 edges.\nremoved 7 edges.\nremoved 4 edges.\nadded 3 edges.\nremoved 2 edges.\nadded 1 edges.\nremoved 7 edges.\nremoved 7 edges.\nremoved 2 edges.\nadded 5 edges.\nTotal Target: 32\nMiss-classification rate Modified : 0.4375\nMiss-classification rate : 0.1875\nFor target number: 33\nremoved 2 edges.\nadded 5 edges.\nremoved 4 edges.\nadded 3 edges.\nremoved 2 edges.\nadded 5 edges.\nremoved 4 edges.\nadded 3 edges.\nremoved 0 edges.\nadded 3 edges.\nremoved 2 edges.\nadded 5 edges.\nremoved 7 edges.\nremoved 2 edges.\nadded 5 edges.\nremoved 7 edges.\nremoved 0 edges.\nadded 6 edges.\nremoved 4 edges.\nadded 3 edges.\nremoved 1 edges.\nadded 6 edges.\nremoved 7 edges.\nremoved 4 edges.\nadded 3 edges.\nremoved 5 edges.\nadded 2 edges.\nremoved 7 edges.\nremoved 0 edges.\nadded 7 edges.\nremoved 7 edges.\nremoved 4 edges.\nadded 3 edges.\nremoved 0 edges.\nadded 3 edges.\nremoved 3 edges.\nadded 4 edges.\nremoved 2 edges.\nadded 5 edges.\nremoved 7 edges.\nremoved 7 edges.\nremoved 6 edges.\nadded 1 edges.\nremoved 0 edges.\nadded 7 edges.\nremoved 0 edges.\nadded 7 edges.\nremoved 7 edges.\nremoved 2 edges.\nadded 3 edges.\nremoved 0 edges.\nadded 7 edges.\nremoved 7 edges.\nremoved 7 edges.\nremoved 2 edges.\nadded 5 edges.\nTotal Target: 33\nMiss-classification rate Modified : 0.30303030303030304\nMiss-classification rate : 0.3333333333333333\nFor target number: 34\nremoved 7 edges.\nremoved 5 edges.\nadded 2 edges.\nremoved 2 edges.\nadded 5 edges.\nremoved 0 edges.\nadded 6 edges.\nremoved 6 edges.\nadded 1 edges.\nremoved 4 edges.\nadded 3 edges.\nremoved 7 edges.\nremoved 0 edges.\nadded 7 edges.\nremoved 2 edges.\nadded 3 edges.\nremoved 4 edges.\nadded 3 edges.\nremoved 7 edges.\nremoved 7 edges.\nremoved 5 edges.\nadded 2 edges.\nremoved 0 edges.\nadded 3 edges.\nremoved 7 edges.\nremoved 2 edges.\nadded 5 edges.\nremoved 0 edges.\nadded 7 edges.\nremoved 4 edges.\nadded 3 edges.\nremoved 5 edges.\nadded 2 edges.\nremoved 2 edges.\nadded 5 edges.\nremoved 7 edges.\nremoved 0 edges.\nadded 7 edges.\nremoved 1 edges.\nadded 6 edges.\nremoved 7 edges.\nremoved 2 edges.\nadded 5 edges.\nremoved 7 edges.\nremoved 7 edges.\nremoved 2 edges.\nadded 3 edges.\nremoved 1 edges.\nadded 6 edges.\nremoved 6 edges.\nadded 1 edges.\nremoved 7 edges.\nremoved 3 edges.\nadded 4 edges.\nremoved 7 edges.\nremoved 7 edges.\nTotal Target: 34\nMiss-classification rate Modified : 0.4117647058823529\nMiss-classification rate : 0.23529411764705882\nFor target number: 35\nremoved 7 edges.\nremoved 0 edges.\nadded 7 edges.\nremoved 1 edges.\nadded 6 edges.\nremoved 6 edges.\nadded 1 edges.\nremoved 0 edges.\nadded 7 edges.\nremoved 7 edges.\nremoved 0 edges.\nadded 7 edges.\nremoved 2 edges.\nadded 5 edges.\nremoved 0 edges.\nadded 6 edges.\nremoved 6 edges.\nadded 1 edges.\nremoved 4 edges.\nadded 3 edges.\nremoved 0 edges.\nadded 1 edges.\nremoved 4 edges.\nadded 3 edges.\nremoved 7 edges.\nremoved 2 edges.\nadded 5 edges.\nremoved 7 edges.\nremoved 2 edges.\nadded 1 edges.\nremoved 0 edges.\nadded 6 edges.\nremoved 0 edges.\nadded 3 edges.\nremoved 4 edges.\nadded 3 edges.\nremoved 6 edges.\nadded 1 edges.\nremoved 4 edges.\nadded 3 edges.\nremoved 0 edges.\nadded 6 edges.\nremoved 6 edges.\nadded 1 edges.\nremoved 5 edges.\nadded 2 edges.\nremoved 0 edges.\nadded 7 edges.\nremoved 4 edges.\nadded 3 edges.\nremoved 7 edges.\nremoved 2 edges.\nadded 5 edges.\nremoved 1 edges.\nadded 6 edges.\nremoved 0 edges.\nadded 7 edges.\nremoved 0 edges.\nadded 1 edges.\nremoved 5 edges.\nadded 2 edges.\nremoved 0 edges.\nadded 6 edges.\nremoved 4 edges.\nadded 3 edges.\nTotal Target: 35\nMiss-classification rate Modified : 0.45714285714285713\nMiss-classification rate : 0.4\nFor target number: 36\nremoved 0 edges.\nadded 7 edges.\nremoved 4 edges.\nadded 3 edges.\nremoved 2 edges.\nadded 5 edges.\nremoved 0 edges.\nadded 7 edges.\nremoved 2 edges.\nadded 5 edges.\nremoved 6 edges.\nadded 1 edges.\nremoved 0 edges.\nadded 3 edges.\nremoved 2 edges.\nadded 5 edges.\nremoved 0 edges.\nadded 7 edges.\nremoved 7 edges.\nremoved 7 edges.\nremoved 2 edges.\nadded 5 edges.\nremoved 0 edges.\nadded 7 edges.\nremoved 2 edges.\nadded 1 edges.\nremoved 7 edges.\nremoved 7 edges.\nremoved 2 edges.\nadded 5 edges.\nremoved 7 edges.\nremoved 2 edges.\nadded 5 edges.\nremoved 0 edges.\nadded 3 edges.\nremoved 0 edges.\nadded 6 edges.\nremoved 0 edges.\nadded 6 edges.\nremoved 7 edges.\nremoved 4 edges.\nadded 3 edges.\nremoved 2 edges.\nadded 5 edges.\nremoved 4 edges.\nadded 1 edges.\nremoved 7 edges.\nremoved 7 edges.\nremoved 4 edges.\nadded 3 edges.\nremoved 4 edges.\nadded 3 edges.\nremoved 6 edges.\nadded 1 edges.\nremoved 7 edges.\nremoved 5 edges.\nadded 2 edges.\nremoved 4 edges.\nadded 3 edges.\nremoved 5 edges.\nadded 2 edges.\nremoved 7 edges.\nTotal Target: 36\nMiss-classification rate Modified : 0.2777777777777778\nMiss-classification rate : 0.2777777777777778\nFor target number: 37\nremoved 7 edges.\nremoved 7 edges.\nremoved 2 edges.\nadded 5 edges.\nremoved 0 edges.\nadded 7 edges.\nremoved 0 edges.\nadded 7 edges.\nremoved 7 edges.\nremoved 7 edges.\nremoved 7 edges.\nremoved 7 edges.\nremoved 3 edges.\nadded 4 edges.\nremoved 4 edges.\nadded 3 edges.\nremoved 0 edges.\nadded 7 edges.\nremoved 4 edges.\nadded 3 edges.\nremoved 4 edges.\nadded 3 edges.\nremoved 4 edges.\nadded 3 edges.\nremoved 4 edges.\nadded 3 edges.\nremoved 4 edges.\nadded 3 edges.\nremoved 0 edges.\nadded 7 edges.\nremoved 5 edges.\nadded 2 edges.\nremoved 7 edges.\nremoved 0 edges.\nadded 1 edges.\nremoved 5 edges.\nadded 2 edges.\nremoved 4 edges.\nadded 3 edges.\nremoved 0 edges.\nadded 7 edges.\nremoved 6 edges.\nadded 1 edges.\nremoved 0 edges.\nadded 7 edges.\nremoved 3 edges.\nadded 4 edges.\nremoved 4 edges.\nadded 3 edges.\nremoved 7 edges.\nremoved 2 edges.\nadded 5 edges.\nremoved 1 edges.\nadded 6 edges.\nremoved 7 edges.\nremoved 3 edges.\nadded 4 edges.\nremoved 0 edges.\nadded 7 edges.\nremoved 4 edges.\nadded 3 edges.\nremoved 3 edges.\nadded 4 edges.\nremoved 0 edges.\nadded 7 edges.\nTotal Target: 37\nMiss-classification rate Modified : 0.4594594594594595\nMiss-classification rate : 0.32432432432432434\nFor target number: 38\nremoved 5 edges.\nadded 2 edges.\nremoved 7 edges.\nremoved 7 edges.\nremoved 7 edges.\nremoved 0 edges.\nadded 1 edges.\nremoved 0 edges.\nadded 7 edges.\nremoved 7 edges.\nremoved 7 edges.\nremoved 0 edges.\nadded 7 edges.\nremoved 4 edges.\nadded 3 edges.\nremoved 2 edges.\nadded 1 edges.\nremoved 0 edges.\nadded 6 edges.\nremoved 6 edges.\nadded 1 edges.\nremoved 6 edges.\nadded 1 edges.\nremoved 0 edges.\nadded 7 edges.\nremoved 0 edges.\nadded 6 edges.\nremoved 4 edges.\nadded 3 edges.\nremoved 2 edges.\nadded 5 edges.\nremoved 0 edges.\nadded 6 edges.\nremoved 2 edges.\nadded 5 edges.\nremoved 2 edges.\nadded 5 edges.\nremoved 4 edges.\nadded 3 edges.\nremoved 2 edges.\nadded 5 edges.\nremoved 6 edges.\nadded 1 edges.\nremoved 2 edges.\nadded 3 edges.\nremoved 0 edges.\nadded 7 edges.\nremoved 0 edges.\nadded 1 edges.\nremoved 4 edges.\nadded 3 edges.\nremoved 7 edges.\nremoved 7 edges.\nremoved 4 edges.\nadded 3 edges.\nremoved 2 edges.\nadded 5 edges.\nremoved 7 edges.\nremoved 7 edges.\nremoved 6 edges.\nadded 1 edges.\nremoved 3 edges.\nadded 4 edges.\nremoved 5 edges.\nadded 2 edges.\nremoved 0 edges.\nadded 7 edges.\nTotal Target: 38\nMiss-classification rate Modified : 0.21052631578947367\nMiss-classification rate : 0.15789473684210525\nFor target number: 39\nremoved 0 edges.\nadded 7 edges.\nremoved 2 edges.\nadded 5 edges.\nremoved 0 edges.\nadded 7 edges.\nremoved 0 edges.\nadded 7 edges.\nremoved 7 edges.\nremoved 0 edges.\nadded 7 edges.\nremoved 7 edges.\nremoved 2 edges.\nadded 5 edges.\nremoved 4 edges.\nadded 3 edges.\nremoved 7 edges.\nremoved 2 edges.\nadded 5 edges.\nremoved 2 edges.\nadded 5 edges.\nremoved 0 edges.\nadded 3 edges.\nremoved 7 edges.\nremoved 7 edges.\nremoved 7 edges.\nremoved 7 edges.\nremoved 0 edges.\nadded 7 edges.\nremoved 0 edges.\nadded 7 edges.\nremoved 0 edges.\nadded 7 edges.\nremoved 7 edges.\nremoved 2 edges.\nadded 5 edges.\nremoved 0 edges.\nadded 7 edges.\nremoved 0 edges.\nadded 7 edges.\nremoved 7 edges.\nremoved 0 edges.\nadded 7 edges.\nremoved 7 edges.\nremoved 0 edges.\nadded 7 edges.\nremoved 4 edges.\nadded 3 edges.\nremoved 3 edges.\nadded 4 edges.\nremoved 7 edges.\nremoved 0 edges.\nadded 7 edges.\nremoved 2 edges.\nadded 3 edges.\nremoved 3 edges.\nadded 4 edges.\nremoved 0 edges.\nadded 7 edges.\nremoved 0 edges.\nadded 7 edges.\nremoved 3 edges.\nadded 1 edges.\nremoved 7 edges.\nremoved 7 edges.\nTotal Target: 39\nMiss-classification rate Modified : 0.41025641025641024\nMiss-classification rate : 0.28205128205128205\nFor target number: 40\nremoved 0 edges.\nadded 3 edges.\nremoved 2 edges.\nadded 3 edges.\nremoved 0 edges.\nadded 3 edges.\nremoved 7 edges.\nremoved 0 edges.\nadded 3 edges.\nremoved 2 edges.\nadded 5 edges.\nremoved 0 edges.\nadded 7 edges.\nremoved 2 edges.\nadded 5 edges.\nremoved 0 edges.\nadded 7 edges.\nremoved 7 edges.\nremoved 5 edges.\nadded 2 edges.\nremoved 4 edges.\nadded 3 edges.\nremoved 5 edges.\nadded 2 edges.\nremoved 6 edges.\nadded 1 edges.\nremoved 1 edges.\nadded 3 edges.\nremoved 7 edges.\nremoved 4 edges.\nadded 3 edges.\nremoved 0 edges.\nadded 7 edges.\nremoved 2 edges.\nadded 3 edges.\nremoved 1 edges.\nadded 6 edges.\nremoved 5 edges.\nadded 2 edges.\nremoved 2 edges.\nadded 3 edges.\nremoved 0 edges.\nadded 7 edges.\nremoved 7 edges.\nremoved 2 edges.\nadded 3 edges.\nremoved 4 edges.\nadded 3 edges.\nremoved 2 edges.\nadded 5 edges.\nremoved 2 edges.\nadded 5 edges.\nremoved 0 edges.\nadded 3 edges.\nremoved 0 edges.\nadded 7 edges.\nremoved 7 edges.\nremoved 2 edges.\nadded 5 edges.\nremoved 4 edges.\nadded 3 edges.\nremoved 7 edges.\nremoved 1 edges.\nadded 6 edges.\nremoved 6 edges.\nadded 1 edges.\nremoved 7 edges.\nremoved 7 edges.\nremoved 6 edges.\nadded 1 edges.\nremoved 6 edges.\nadded 1 edges.\nTotal Target: 40\nMiss-classification rate Modified : 0.325\nMiss-classification rate : 0.275\nFor target number: 41\nremoved 4 edges.\nadded 3 edges.\nremoved 7 edges.\nremoved 0 edges.\nadded 7 edges.\nremoved 4 edges.\nadded 3 edges.\nremoved 0 edges.\nadded 7 edges.\nremoved 7 edges.\nremoved 2 edges.\nadded 5 edges.\nremoved 7 edges.\nremoved 7 edges.\nremoved 2 edges.\nadded 5 edges.\nremoved 0 edges.\nadded 7 edges.\nremoved 2 edges.\nadded 5 edges.\nremoved 0 edges.\nadded 7 edges.\nremoved 7 edges.\nremoved 0 edges.\nadded 7 edges.\nremoved 7 edges.\nremoved 0 edges.\nadded 7 edges.\nremoved 2 edges.\nadded 5 edges.\nremoved 7 edges.\nremoved 7 edges.\nremoved 1 edges.\nadded 6 edges.\nremoved 3 edges.\nadded 4 edges.\nremoved 0 edges.\nadded 7 edges.\nremoved 5 edges.\nadded 2 edges.\nremoved 0 edges.\nadded 7 edges.\nremoved 0 edges.\nadded 7 edges.\nremoved 6 edges.\nadded 1 edges.\nremoved 7 edges.\nremoved 7 edges.\nremoved 2 edges.\nadded 5 edges.\nremoved 2 edges.\nadded 5 edges.\nremoved 7 edges.\nremoved 7 edges.\nremoved 4 edges.\nadded 3 edges.\nremoved 0 edges.\nadded 7 edges.\nremoved 2 edges.\nadded 1 edges.\nremoved 2 edges.\nadded 5 edges.\nremoved 3 edges.\nadded 4 edges.\nremoved 7 edges.\nremoved 7 edges.\nremoved 7 edges.\nTotal Target: 41\nMiss-classification rate Modified : 0.2926829268292683\nMiss-classification rate : 0.24390243902439024\nFor target number: 42\nremoved 2 edges.\nadded 5 edges.\nremoved 0 edges.\nadded 6 edges.\nremoved 7 edges.\nremoved 0 edges.\nadded 6 edges.\nremoved 6 edges.\nadded 1 edges.\nremoved 2 edges.\nadded 5 edges.\nremoved 7 edges.\nremoved 7 edges.\nremoved 4 edges.\nadded 3 edges.\nremoved 6 edges.\nadded 1 edges.\nremoved 0 edges.\nadded 3 edges.\nremoved 0 edges.\nadded 1 edges.\nremoved 7 edges.\nremoved 4 edges.\nadded 3 edges.\nremoved 4 edges.\nadded 3 edges.\nremoved 4 edges.\nadded 3 edges.\nremoved 0 edges.\nadded 6 edges.\nremoved 4 edges.\nadded 3 edges.\nremoved 2 edges.\nadded 3 edges.\nremoved 6 edges.\nadded 1 edges.\nremoved 0 edges.\nadded 7 edges.\nremoved 0 edges.\nadded 3 edges.\nremoved 0 edges.\nadded 7 edges.\nremoved 0 edges.\nadded 7 edges.\nremoved 1 edges.\nadded 6 edges.\nremoved 2 edges.\nadded 5 edges.\nremoved 7 edges.\nremoved 7 edges.\nremoved 7 edges.\nremoved 5 edges.\nadded 2 edges.\nremoved 3 edges.\nadded 1 edges.\nremoved 0 edges.\nadded 7 edges.\nremoved 2 edges.\nadded 5 edges.\nremoved 7 edges.\nremoved 0 edges.\nadded 6 edges.\nremoved 7 edges.\nremoved 4 edges.\nadded 3 edges.\nremoved 7 edges.\nremoved 7 edges.\nremoved 7 edges.\nremoved 2 edges.\nadded 5 edges.\nremoved 5 edges.\nadded 2 edges.\nTotal Target: 42\nMiss-classification rate Modified : 0.23809523809523808\nMiss-classification rate : 0.19047619047619047\nFor target number: 43\nremoved 0 edges.\nadded 6 edges.\nremoved 2 edges.\nadded 5 edges.\nremoved 0 edges.\nadded 7 edges.\nremoved 7 edges.\nremoved 3 edges.\nadded 4 edges.\nremoved 3 edges.\nadded 3 edges.\nremoved 7 edges.\nremoved 4 edges.\nadded 3 edges.\nremoved 0 edges.\nadded 6 edges.\nremoved 7 edges.\nremoved 5 edges.\nadded 2 edges.\nremoved 6 edges.\nadded 1 edges.\nremoved 1 edges.\nadded 6 edges.\nremoved 7 edges.\nremoved 7 edges.\nremoved 7 edges.\nremoved 7 edges.\nremoved 1 edges.\nadded 6 edges.\nremoved 7 edges.\nremoved 0 edges.\nadded 1 edges.\nremoved 6 edges.\nadded 1 edges.\nremoved 0 edges.\nadded 7 edges.\nremoved 0 edges.\nadded 6 edges.\nremoved 4 edges.\nadded 3 edges.\nremoved 0 edges.\nadded 3 edges.\nremoved 2 edges.\nadded 5 edges.\nremoved 7 edges.\nremoved 7 edges.\nremoved 2 edges.\nadded 5 edges.\nremoved 7 edges.\nremoved 7 edges.\nremoved 0 edges.\nadded 6 edges.\nremoved 0 edges.\nadded 6 edges.\nremoved 6 edges.\nadded 1 edges.\nremoved 2 edges.\nadded 5 edges.\nremoved 7 edges.\nremoved 2 edges.\nadded 5 edges.\nremoved 7 edges.\nremoved 2 edges.\nadded 5 edges.\nremoved 0 edges.\nadded 6 edges.\nremoved 2 edges.\nadded 5 edges.\nremoved 2 edges.\nadded 5 edges.\nremoved 0 edges.\nadded 7 edges.\nTotal Target: 43\nMiss-classification rate Modified : 0.27906976744186046\nMiss-classification rate : 0.16279069767441862\nFor target number: 44\nremoved 3 edges.\nadded 3 edges.\nremoved 0 edges.\nadded 7 edges.\nremoved 0 edges.\nadded 3 edges.\nremoved 1 edges.\nadded 6 edges.\nremoved 7 edges.\nremoved 2 edges.\nadded 5 edges.\nremoved 6 edges.\nadded 1 edges.\nremoved 5 edges.\nadded 2 edges.\nremoved 4 edges.\nadded 3 edges.\nremoved 5 edges.\nadded 2 edges.\nremoved 4 edges.\nadded 3 edges.\nremoved 0 edges.\nadded 7 edges.\nremoved 2 edges.\nadded 1 edges.\nremoved 1 edges.\nadded 6 edges.\nremoved 7 edges.\nremoved 2 edges.\nadded 3 edges.\nremoved 5 edges.\nadded 2 edges.\nremoved 7 edges.\nremoved 4 edges.\nadded 3 edges.\nremoved 6 edges.\nadded 1 edges.\nremoved 0 edges.\nadded 3 edges.\nremoved 7 edges.\nremoved 0 edges.\nadded 6 edges.\nremoved 4 edges.\nadded 3 edges.\nremoved 0 edges.\nadded 7 edges.\nremoved 0 edges.\nadded 6 edges.\nremoved 0 edges.\nadded 7 edges.\nremoved 4 edges.\nadded 1 edges.\nremoved 2 edges.\nadded 5 edges.\nremoved 6 edges.\nadded 1 edges.\nremoved 0 edges.\nadded 7 edges.\nremoved 3 edges.\nadded 3 edges.\nremoved 3 edges.\nadded 4 edges.\nremoved 7 edges.\nremoved 7 edges.\nremoved 0 edges.\nadded 7 edges.\nremoved 1 edges.\nadded 1 edges.\nremoved 7 edges.\nremoved 4 edges.\nadded 3 edges.\nremoved 0 edges.\nadded 7 edges.\nremoved 5 edges.\nadded 2 edges.\nremoved 7 edges.\nremoved 4 edges.\nadded 3 edges.\nremoved 6 edges.\nadded 1 edges.\nTotal Target: 44\nMiss-classification rate Modified : 0.29545454545454547\nMiss-classification rate : 0.20454545454545456\nFor target number: 45\nremoved 0 edges.\nadded 7 edges.\nremoved 4 edges.\nadded 3 edges.\nremoved 7 edges.\nremoved 0 edges.\nadded 7 edges.\nremoved 0 edges.\nadded 7 edges.\nremoved 6 edges.\nadded 1 edges.\nremoved 7 edges.\nremoved 7 edges.\nremoved 0 edges.\nadded 3 edges.\nremoved 7 edges.\nremoved 6 edges.\nadded 1 edges.\nremoved 0 edges.\nadded 6 edges.\nremoved 7 edges.\nremoved 2 edges.\nadded 5 edges.\nremoved 2 edges.\nadded 3 edges.\nremoved 0 edges.\nadded 7 edges.\nremoved 7 edges.\nremoved 7 edges.\nremoved 7 edges.\nremoved 7 edges.\nremoved 2 edges.\nadded 5 edges.\nremoved 3 edges.\nadded 4 edges.\nremoved 5 edges.\nadded 2 edges.\nremoved 6 edges.\nadded 1 edges.\nremoved 2 edges.\nadded 5 edges.\nremoved 1 edges.\nadded 6 edges.\nremoved 7 edges.\nremoved 2 edges.\nadded 5 edges.\nremoved 4 edges.\nadded 1 edges.\nremoved 5 edges.\nadded 2 edges.\nremoved 7 edges.\nremoved 3 edges.\nadded 4 edges.\nremoved 7 edges.\nremoved 4 edges.\nadded 3 edges.\nremoved 7 edges.\nremoved 4 edges.\nadded 3 edges.\nremoved 4 edges.\nadded 1 edges.\nremoved 1 edges.\nadded 6 edges.\nremoved 5 edges.\nadded 2 edges.\nremoved 4 edges.\nadded 3 edges.\nremoved 2 edges.\nadded 5 edges.\nremoved 2 edges.\nadded 5 edges.\nremoved 5 edges.\nadded 2 edges.\nremoved 7 edges.\nremoved 0 edges.\nadded 7 edges.\nTotal Target: 45\nMiss-classification rate Modified : 0.35555555555555557\nMiss-classification rate : 0.24444444444444444\nFor target number: 46\nremoved 1 edges.\nadded 6 edges.\nremoved 7 edges.\nremoved 7 edges.\nremoved 0 edges.\nadded 6 edges.\nremoved 6 edges.\nadded 1 edges.\nremoved 7 edges.\nremoved 0 edges.\nadded 3 edges.\nremoved 6 edges.\nadded 1 edges.\nremoved 4 edges.\nadded 3 edges.\nremoved 2 edges.\nadded 5 edges.\nremoved 7 edges.\nremoved 0 edges.\nadded 7 edges.\nremoved 7 edges.\nremoved 2 edges.\nadded 5 edges.\nremoved 7 edges.\nremoved 0 edges.\nadded 7 edges.\nremoved 7 edges.\nremoved 6 edges.\nadded 1 edges.\nremoved 3 edges.\nadded 4 edges.\nremoved 6 edges.\nadded 1 edges.\nremoved 2 edges.\nadded 5 edges.\nremoved 0 edges.\nadded 1 edges.\nremoved 7 edges.\nremoved 2 edges.\nadded 3 edges.\nremoved 0 edges.\nadded 7 edges.\nremoved 6 edges.\nadded 1 edges.\nremoved 2 edges.\nadded 5 edges.\nremoved 7 edges.\nremoved 7 edges.\nremoved 4 edges.\nadded 3 edges.\nremoved 3 edges.\nadded 4 edges.\nremoved 2 edges.\nadded 5 edges.\nremoved 7 edges.\nremoved 4 edges.\nadded 3 edges.\nremoved 7 edges.\nremoved 4 edges.\nadded 3 edges.\nremoved 7 edges.\nremoved 7 edges.\nremoved 0 edges.\nadded 7 edges.\nremoved 2 edges.\nadded 5 edges.\nremoved 6 edges.\nadded 1 edges.\nremoved 7 edges.\nremoved 7 edges.\nremoved 6 edges.\nadded 1 edges.\nremoved 0 edges.\nadded 1 edges.\nremoved 0 edges.\nadded 6 edges.\nTotal Target: 46\nMiss-classification rate Modified : 0.3695652173913043\nMiss-classification rate : 0.34782608695652173\nFor target number: 47\nremoved 0 edges.\nadded 7 edges.\nremoved 0 edges.\nadded 7 edges.\nremoved 2 edges.\nadded 5 edges.\nremoved 4 edges.\nadded 3 edges.\nremoved 0 edges.\nadded 6 edges.\nremoved 0 edges.\nadded 7 edges.\nremoved 0 edges.\nadded 7 edges.\nremoved 7 edges.\nremoved 7 edges.\nremoved 4 edges.\nadded 3 edges.\nremoved 4 edges.\nadded 3 edges.\nremoved 6 edges.\nadded 1 edges.\nremoved 5 edges.\nadded 2 edges.\nremoved 0 edges.\nadded 7 edges.\nremoved 2 edges.\nadded 5 edges.\nremoved 1 edges.\nadded 6 edges.\nremoved 0 edges.\nadded 7 edges.\nremoved 2 edges.\nadded 3 edges.\nremoved 7 edges.\nremoved 7 edges.\nremoved 2 edges.\nadded 5 edges.\nremoved 2 edges.\nadded 1 edges.\nremoved 7 edges.\nremoved 0 edges.\nadded 1 edges.\nremoved 3 edges.\nadded 4 edges.\nremoved 6 edges.\nadded 1 edges.\nremoved 2 edges.\nadded 3 edges.\nremoved 0 edges.\nadded 7 edges.\nremoved 4 edges.\nadded 3 edges.\nremoved 7 edges.\nremoved 6 edges.\nadded 1 edges.\nremoved 7 edges.\nremoved 0 edges.\nadded 6 edges.\nremoved 5 edges.\nadded 2 edges.\nremoved 2 edges.\nadded 5 edges.\nremoved 0 edges.\nadded 7 edges.\nremoved 0 edges.\nadded 7 edges.\nremoved 3 edges.\nadded 4 edges.\nremoved 6 edges.\nadded 1 edges.\nremoved 0 edges.\nadded 7 edges.\nremoved 2 edges.\nadded 3 edges.\nremoved 4 edges.\nadded 3 edges.\nremoved 4 edges.\nadded 3 edges.\nremoved 0 edges.\nadded 6 edges.\nremoved 7 edges.\nremoved 2 edges.\nadded 5 edges.\nremoved 0 edges.\nadded 3 edges.\nTotal Target: 47\nMiss-classification rate Modified : 0.425531914893617\nMiss-classification rate : 0.3191489361702128\nFor target number: 48\nremoved 7 edges.\nremoved 6 edges.\nadded 1 edges.\nremoved 4 edges.\nadded 3 edges.\nremoved 4 edges.\nadded 3 edges.\nremoved 0 edges.\nadded 3 edges.\nremoved 0 edges.\nadded 1 edges.\nremoved 0 edges.\nadded 3 edges.\nremoved 7 edges.\nremoved 4 edges.\nadded 3 edges.\nremoved 5 edges.\nadded 2 edges.\nremoved 0 edges.\nadded 7 edges.\nremoved 3 edges.\nadded 4 edges.\nremoved 4 edges.\nadded 3 edges.\nremoved 0 edges.\nadded 6 edges.\nremoved 4 edges.\nadded 3 edges.\nremoved 0 edges.\nadded 7 edges.\nremoved 7 edges.\nremoved 6 edges.\nadded 1 edges.\nremoved 0 edges.\nadded 7 edges.\nremoved 2 edges.\nadded 5 edges.\nremoved 0 edges.\nadded 7 edges.\nremoved 4 edges.\nadded 3 edges.\nremoved 4 edges.\nadded 1 edges.\nremoved 2 edges.\nadded 5 edges.\nremoved 0 edges.\nadded 7 edges.\nremoved 2 edges.\nadded 5 edges.\nremoved 0 edges.\nadded 7 edges.\nremoved 0 edges.\nadded 7 edges.\nremoved 4 edges.\nadded 3 edges.\nremoved 0 edges.\nadded 7 edges.\nremoved 3 edges.\nadded 3 edges.\nremoved 5 edges.\nadded 2 edges.\nremoved 5 edges.\nadded 2 edges.\nremoved 6 edges.\nadded 1 edges.\nremoved 1 edges.\nadded 6 edges.\nremoved 0 edges.\nadded 7 edges.\nremoved 3 edges.\nadded 4 edges.\nremoved 0 edges.\nadded 6 edges.\nremoved 0 edges.\nadded 7 edges.\nremoved 0 edges.\nadded 6 edges.\nremoved 7 edges.\nremoved 0 edges.\nadded 7 edges.\nremoved 7 edges.\nremoved 7 edges.\nremoved 7 edges.\nremoved 7 edges.\nremoved 3 edges.\nadded 4 edges.\nremoved 2 edges.\nadded 5 edges.\nTotal Target: 48\nMiss-classification rate Modified : 0.4166666666666667\nMiss-classification rate : 0.2708333333333333\nFor target number: 49\nremoved 0 edges.\nadded 7 edges.\nremoved 2 edges.\nadded 5 edges.\nremoved 5 edges.\nadded 2 edges.\nremoved 6 edges.\nadded 1 edges.\nremoved 0 edges.\nadded 7 edges.\nremoved 7 edges.\nremoved 0 edges.\nadded 7 edges.\nremoved 6 edges.\nadded 1 edges.\nremoved 4 edges.\nadded 3 edges.\nremoved 2 edges.\nadded 5 edges.\nremoved 7 edges.\nremoved 7 edges.\nremoved 2 edges.\nadded 5 edges.\nremoved 0 edges.\nadded 7 edges.\nremoved 7 edges.\nremoved 7 edges.\nremoved 4 edges.\nadded 3 edges.\nremoved 4 edges.\nadded 3 edges.\nremoved 1 edges.\nadded 6 edges.\nremoved 4 edges.\nadded 3 edges.\nremoved 5 edges.\nadded 2 edges.\nremoved 6 edges.\nadded 1 edges.\nremoved 6 edges.\nadded 1 edges.\nremoved 0 edges.\nadded 7 edges.\nremoved 0 edges.\nadded 3 edges.\nremoved 2 edges.\nadded 5 edges.\nremoved 2 edges.\nadded 5 edges.\nremoved 7 edges.\nremoved 2 edges.\nadded 5 edges.\nremoved 7 edges.\nremoved 4 edges.\nadded 3 edges.\nremoved 5 edges.\nadded 2 edges.\nremoved 7 edges.\nremoved 7 edges.\nremoved 0 edges.\nadded 3 edges.\nremoved 1 edges.\nadded 6 edges.\nremoved 6 edges.\nadded 1 edges.\nremoved 7 edges.\nremoved 2 edges.\nadded 5 edges.\nremoved 0 edges.\nadded 6 edges.\nremoved 7 edges.\nremoved 0 edges.\nadded 6 edges.\nremoved 0 edges.\nadded 7 edges.\nremoved 7 edges.\nremoved 2 edges.\nadded 5 edges.\nremoved 3 edges.\nadded 4 edges.\nremoved 7 edges.\nremoved 7 edges.\nremoved 7 edges.\nTotal Target: 49\nMiss-classification rate Modified : 0.3469387755102041\nMiss-classification rate : 0.2857142857142857\nFor target number: 50\nremoved 0 edges.\nadded 6 edges.\nremoved 7 edges.\nremoved 0 edges.\nadded 1 edges.\nremoved 4 edges.\nadded 3 edges.\nremoved 7 edges.\nremoved 6 edges.\nadded 1 edges.\nremoved 2 edges.\nadded 5 edges.\nremoved 0 edges.\nadded 3 edges.\nremoved 2 edges.\nadded 3 edges.\nremoved 4 edges.\nadded 3 edges.\nremoved 7 edges.\nremoved 7 edges.\nremoved 4 edges.\nadded 3 edges.\nremoved 0 edges.\nadded 6 edges.\nremoved 7 edges.\nremoved 7 edges.\nremoved 7 edges.\nremoved 2 edges.\nadded 5 edges.\nremoved 0 edges.\nadded 7 edges.\nremoved 7 edges.\nremoved 2 edges.\nadded 5 edges.\nremoved 0 edges.\nadded 7 edges.\nremoved 0 edges.\nadded 7 edges.\nremoved 7 edges.\nremoved 0 edges.\nadded 6 edges.\nremoved 2 edges.\nadded 5 edges.\nremoved 3 edges.\nadded 4 edges.\nremoved 7 edges.\nremoved 7 edges.\nremoved 0 edges.\nadded 7 edges.\nremoved 4 edges.\nadded 3 edges.\nremoved 7 edges.\nremoved 4 edges.\nadded 3 edges.\nremoved 7 edges.\nremoved 2 edges.\nadded 5 edges.\nremoved 7 edges.\nremoved 7 edges.\nremoved 2 edges.\nadded 5 edges.\nremoved 2 edges.\nadded 1 edges.\nremoved 2 edges.\nadded 5 edges.\nremoved 4 edges.\nadded 3 edges.\nremoved 2 edges.\nadded 5 edges.\nremoved 2 edges.\nadded 5 edges.\nremoved 0 edges.\nadded 7 edges.\nremoved 2 edges.\nadded 5 edges.\nremoved 0 edges.\nadded 3 edges.\nremoved 7 edges.\nremoved 7 edges.\nremoved 2 edges.\nadded 5 edges.\nremoved 3 edges.\nadded 4 edges.\nTotal Target: 50\nMiss-classification rate Modified : 0.34\nMiss-classification rate : 0.32\n",
          "output_type": "stream"
        }
      ]
    },
    {
      "cell_type": "code",
      "source": [],
      "metadata": {
        "id": "fKVRyu4qgmtc"
      },
      "execution_count": null,
      "outputs": []
    },
    {
      "cell_type": "code",
      "source": [
        "import pandas as pd\n",
        "df_1 = pd.DataFrame(acc_list, columns =['target_number', 'miss-classification_modified', 'node_list'])\n",
        "df_2 = pd.DataFrame(acc_list_2, columns =['target_number', 'miss-classification', 'node_list'])"
      ],
      "metadata": {
        "execution": {
          "iopub.status.busy": "2023-09-24T14:00:42.408624Z",
          "iopub.execute_input": "2023-09-24T14:00:42.409420Z",
          "iopub.status.idle": "2023-09-24T14:00:42.888996Z",
          "shell.execute_reply.started": "2023-09-24T14:00:42.409364Z",
          "shell.execute_reply": "2023-09-24T14:00:42.887962Z"
        },
        "trusted": true,
        "id": "89M1m4gngmtc"
      },
      "execution_count": null,
      "outputs": []
    },
    {
      "cell_type": "code",
      "source": [
        "# Create two line charts for col1 and col2\n",
        "plt.figure(figsize=(8, 6))\n",
        "\n",
        "# Line chart for col1\n",
        "plt.plot(df_1['target_number'], df_1['miss-classification_modified'], label='Modified Adj', marker='o', markersize=5, linestyle='-')\n",
        "\n",
        "# Line chart for col2\n",
        "plt.plot(df_2['target_number'], df_2['miss-classification'], label='Adj', marker='o', markersize=5, linestyle='-')\n",
        "\n",
        "# Add labels and a legend\n",
        "plt.xlabel('target_number')\n",
        "plt.ylabel('miss-classification')\n",
        "plt.title('Line Charts for col1 and col2')\n",
        "plt.legend()\n",
        "\n",
        "# Show the plot\n",
        "plt.grid(True)\n",
        "plt.show()"
      ],
      "metadata": {
        "execution": {
          "iopub.status.busy": "2023-09-24T14:00:42.890378Z",
          "iopub.execute_input": "2023-09-24T14:00:42.891110Z",
          "iopub.status.idle": "2023-09-24T14:00:43.296723Z",
          "shell.execute_reply.started": "2023-09-24T14:00:42.891070Z",
          "shell.execute_reply": "2023-09-24T14:00:43.295569Z"
        },
        "trusted": true,
        "id": "okQxasAXgmtc",
        "outputId": "85b9c82f-103f-4c00-e4c8-6c6225b54ac1"
      },
      "execution_count": null,
      "outputs": [
        {
          "output_type": "display_data",
          "data": {
            "text/plain": "<Figure size 800x600 with 1 Axes>",
            "image/png": "[encoded data removed]"
          },
          "metadata": {}
        }
      ]
    },
    {
      "cell_type": "code",
      "source": [],
      "metadata": {
        "id": "HDq1l-mwgmtc"
      },
      "execution_count": null,
      "outputs": []
    },
    {
      "cell_type": "code",
      "source": [
        "budget_range = 50\n",
        "\n",
        "acc_list = []\n",
        "acc_node = {}\n",
        "acc_list_2 = []\n",
        "acc_node_2 = {}\n",
        "\n",
        "target_number = 25\n",
        "node_list = random.sample(list(idx_unlabeled), target_number)\n",
        "\n",
        "for budget in range(1, budget_range+1):\n",
        "    print(f\"For budget number: {budget}\")\n",
        "\n",
        "    cnt = 0\n",
        "    curr_acc = {1:[], 0:[]}\n",
        "    for target_node in node_list:\n",
        "        modified_adj = modify_adj(target_node, adj, budget)\n",
        "        accuracy = evaluate(model, features, modified_adj, labels, target_node)\n",
        "\n",
        "        if accuracy == 0:\n",
        "            curr_acc[0].append(target_node)\n",
        "            cnt += 1\n",
        "        else:\n",
        "            curr_acc[1].append(target_node)\n",
        "\n",
        "    acc_node[budget] = curr_acc\n",
        "    acc_list.append([budget, cnt / len(node_list), node_list])\n",
        "\n",
        "    print(f\"Total Target: {target_number}\")\n",
        "    print('Miss-classification rate Modified : %s' % (cnt / len(node_list)))\n",
        "\n",
        "cnt = 0\n",
        "curr_acc = {1:[], 0:[]}\n",
        "for target_node in node_list:\n",
        "    accuracy = evaluate(model, features, adj, labels, target_node)\n",
        "\n",
        "    if accuracy == 0:\n",
        "        curr_acc[0].append(target_node)\n",
        "        cnt += 1\n",
        "    else:\n",
        "        curr_acc[1].append(target_node)\n",
        "\n",
        "\n",
        "acc_node_2[target_number] = curr_acc\n",
        "acc_list_2.append([target_number, cnt / len(node_list), node_list])\n",
        "\n",
        "print('Miss-classification rate : %s' % (cnt / len(node_list)))"
      ],
      "metadata": {
        "execution": {
          "iopub.status.busy": "2023-09-24T14:00:43.298610Z",
          "iopub.execute_input": "2023-09-24T14:00:43.299319Z",
          "iopub.status.idle": "2023-09-24T14:07:43.835833Z",
          "shell.execute_reply.started": "2023-09-24T14:00:43.299241Z",
          "shell.execute_reply": "2023-09-24T14:07:43.834470Z"
        },
        "trusted": true,
        "id": "wEQW_lxlgmtc",
        "outputId": "f2c5361e-cea4-46d9-bbdf-c2038e151e78"
      },
      "execution_count": null,
      "outputs": [
        {
          "name": "stdout",
          "text": "For budget number: 1\nremoved 0 edges.\nadded 1 edges.\nremoved 0 edges.\nadded 1 edges.\nremoved 1 edges.\nremoved 1 edges.\nremoved 1 edges.\nremoved 0 edges.\nadded 1 edges.\nremoved 1 edges.\nremoved 1 edges.\nremoved 0 edges.\nadded 1 edges.\nremoved 0 edges.\nadded 1 edges.\nremoved 0 edges.\nadded 1 edges.\nremoved 1 edges.\nremoved 0 edges.\nadded 1 edges.\nremoved 0 edges.\nadded 1 edges.\nremoved 1 edges.\nremoved 1 edges.\nremoved 1 edges.\nremoved 1 edges.\nremoved 1 edges.\nremoved 1 edges.\nremoved 1 edges.\nremoved 1 edges.\nremoved 1 edges.\nremoved 0 edges.\nadded 1 edges.\nremoved 1 edges.\nTotal Target: 25\nMiss-classification rate Modified : 0.36\nFor budget number: 2\nremoved 0 edges.\nadded 1 edges.\nremoved 0 edges.\nadded 2 edges.\nremoved 2 edges.\nremoved 2 edges.\nremoved 2 edges.\nremoved 0 edges.\nadded 2 edges.\nremoved 2 edges.\nremoved 2 edges.\nremoved 0 edges.\nadded 2 edges.\nremoved 0 edges.\nadded 2 edges.\nremoved 0 edges.\nadded 2 edges.\nremoved 2 edges.\nremoved 0 edges.\nadded 2 edges.\nremoved 0 edges.\nadded 2 edges.\nremoved 2 edges.\nremoved 2 edges.\nremoved 2 edges.\nremoved 2 edges.\nremoved 1 edges.\nadded 1 edges.\nremoved 2 edges.\nremoved 2 edges.\nremoved 2 edges.\nremoved 2 edges.\nremoved 0 edges.\nadded 2 edges.\nremoved 2 edges.\nTotal Target: 25\nMiss-classification rate Modified : 0.4\nFor budget number: 3\nremoved 0 edges.\nadded 1 edges.\nremoved 0 edges.\nadded 3 edges.\nremoved 3 edges.\nremoved 3 edges.\nremoved 3 edges.\nremoved 0 edges.\nadded 3 edges.\nremoved 3 edges.\nremoved 3 edges.\nremoved 0 edges.\nadded 3 edges.\nremoved 0 edges.\nadded 3 edges.\nremoved 0 edges.\nadded 3 edges.\nremoved 3 edges.\nremoved 0 edges.\nadded 3 edges.\nremoved 0 edges.\nadded 3 edges.\nremoved 2 edges.\nadded 1 edges.\nremoved 2 edges.\nadded 1 edges.\nremoved 3 edges.\nremoved 3 edges.\nremoved 1 edges.\nadded 2 edges.\nremoved 3 edges.\nremoved 3 edges.\nremoved 3 edges.\nremoved 3 edges.\nremoved 0 edges.\nadded 3 edges.\nremoved 3 edges.\nTotal Target: 25\nMiss-classification rate Modified : 0.44\nFor budget number: 4\nremoved 0 edges.\nadded 1 edges.\nremoved 0 edges.\nadded 4 edges.\nremoved 4 edges.\nremoved 4 edges.\nremoved 4 edges.\nremoved 0 edges.\nadded 4 edges.\nremoved 4 edges.\nremoved 4 edges.\nremoved 0 edges.\nadded 4 edges.\nremoved 0 edges.\nadded 4 edges.\nremoved 0 edges.\nadded 4 edges.\nremoved 4 edges.\nremoved 0 edges.\nadded 4 edges.\nremoved 0 edges.\nadded 4 edges.\nremoved 2 edges.\nadded 2 edges.\nremoved 2 edges.\nadded 2 edges.\nremoved 4 edges.\nremoved 4 edges.\nremoved 1 edges.\nadded 3 edges.\nremoved 4 edges.\nremoved 3 edges.\nadded 1 edges.\nremoved 4 edges.\nremoved 4 edges.\nremoved 0 edges.\nadded 4 edges.\nremoved 3 edges.\nadded 1 edges.\nTotal Target: 25\nMiss-classification rate Modified : 0.44\nFor budget number: 5\nremoved 0 edges.\nadded 1 edges.\nremoved 0 edges.\nadded 5 edges.\nremoved 5 edges.\nremoved 5 edges.\nremoved 5 edges.\nremoved 0 edges.\nadded 5 edges.\nremoved 5 edges.\nremoved 5 edges.\nremoved 0 edges.\nadded 5 edges.\nremoved 0 edges.\nadded 5 edges.\nremoved 0 edges.\nadded 5 edges.\nremoved 5 edges.\nremoved 0 edges.\nadded 5 edges.\nremoved 0 edges.\nadded 5 edges.\nremoved 2 edges.\nadded 3 edges.\nremoved 2 edges.\nadded 3 edges.\nremoved 4 edges.\nadded 1 edges.\nremoved 5 edges.\nremoved 1 edges.\nadded 4 edges.\nremoved 5 edges.\nremoved 3 edges.\nadded 2 edges.\nremoved 5 edges.\nremoved 5 edges.\nremoved 0 edges.\nadded 5 edges.\nremoved 3 edges.\nadded 2 edges.\nTotal Target: 25\nMiss-classification rate Modified : 0.44\nFor budget number: 6\nremoved 0 edges.\nadded 1 edges.\nremoved 0 edges.\nadded 6 edges.\nremoved 6 edges.\nremoved 6 edges.\nremoved 6 edges.\nremoved 0 edges.\nadded 6 edges.\nremoved 6 edges.\nremoved 6 edges.\nremoved 0 edges.\nadded 6 edges.\nremoved 0 edges.\nadded 6 edges.\nremoved 0 edges.\nadded 6 edges.\nremoved 6 edges.\nremoved 0 edges.\nadded 6 edges.\nremoved 0 edges.\nadded 6 edges.\nremoved 2 edges.\nadded 4 edges.\nremoved 2 edges.\nadded 3 edges.\nremoved 4 edges.\nadded 2 edges.\nremoved 6 edges.\nremoved 1 edges.\nadded 5 edges.\nremoved 6 edges.\nremoved 3 edges.\nadded 3 edges.\nremoved 6 edges.\nremoved 6 edges.\nremoved 0 edges.\nadded 6 edges.\nremoved 3 edges.\nadded 3 edges.\nTotal Target: 25\nMiss-classification rate Modified : 0.44\nFor budget number: 7\nremoved 0 edges.\nadded 1 edges.\nremoved 0 edges.\nadded 6 edges.\nremoved 7 edges.\nremoved 7 edges.\nremoved 7 edges.\nremoved 0 edges.\nadded 7 edges.\nremoved 7 edges.\nremoved 7 edges.\nremoved 0 edges.\nadded 7 edges.\nremoved 0 edges.\nadded 6 edges.\nremoved 0 edges.\nadded 6 edges.\nremoved 7 edges.\nremoved 0 edges.\nadded 7 edges.\nremoved 0 edges.\nadded 7 edges.\nremoved 2 edges.\nadded 5 edges.\nremoved 2 edges.\nadded 3 edges.\nremoved 4 edges.\nadded 3 edges.\nremoved 7 edges.\nremoved 1 edges.\nadded 6 edges.\nremoved 7 edges.\nremoved 3 edges.\nadded 4 edges.\nremoved 7 edges.\nremoved 6 edges.\nadded 1 edges.\nremoved 0 edges.\nadded 7 edges.\nremoved 3 edges.\nadded 3 edges.\nTotal Target: 25\nMiss-classification rate Modified : 0.44\nFor budget number: 8\nremoved 0 edges.\nadded 1 edges.\nremoved 0 edges.\nadded 6 edges.\nremoved 8 edges.\nremoved 8 edges.\nremoved 7 edges.\nadded 1 edges.\nremoved 0 edges.\nadded 8 edges.\nremoved 7 edges.\nadded 1 edges.\nremoved 8 edges.\nremoved 0 edges.\nadded 8 edges.\nremoved 0 edges.\nadded 6 edges.\nremoved 0 edges.\nadded 6 edges.\nremoved 8 edges.\nremoved 0 edges.\nadded 8 edges.\nremoved 0 edges.\nadded 8 edges.\nremoved 2 edges.\nadded 6 edges.\nremoved 2 edges.\nadded 3 edges.\nremoved 4 edges.\nadded 4 edges.\nremoved 8 edges.\nremoved 1 edges.\nadded 7 edges.\nremoved 7 edges.\nadded 1 edges.\nremoved 3 edges.\nadded 5 edges.\nremoved 8 edges.\nremoved 6 edges.\nadded 2 edges.\nremoved 0 edges.\nadded 8 edges.\nremoved 3 edges.\nadded 3 edges.\nTotal Target: 25\nMiss-classification rate Modified : 0.44\nFor budget number: 9\nremoved 0 edges.\nadded 1 edges.\nremoved 0 edges.\nadded 6 edges.\nremoved 9 edges.\nremoved 9 edges.\nremoved 7 edges.\nadded 2 edges.\nremoved 0 edges.\nadded 8 edges.\nremoved 7 edges.\nadded 2 edges.\nremoved 9 edges.\nremoved 0 edges.\nadded 9 edges.\nremoved 0 edges.\nadded 6 edges.\nremoved 0 edges.\nadded 6 edges.\nremoved 9 edges.\nremoved 0 edges.\nadded 9 edges.\nremoved 0 edges.\nadded 9 edges.\nremoved 2 edges.\nadded 7 edges.\nremoved 2 edges.\nadded 3 edges.\nremoved 4 edges.\nadded 5 edges.\nremoved 9 edges.\nremoved 1 edges.\nadded 8 edges.\nremoved 7 edges.\nadded 2 edges.\nremoved 3 edges.\nadded 6 edges.\nremoved 9 edges.\nremoved 6 edges.\nadded 3 edges.\nremoved 0 edges.\nadded 9 edges.\nremoved 3 edges.\nadded 3 edges.\nTotal Target: 25\nMiss-classification rate Modified : 0.44\nFor budget number: 10\nremoved 0 edges.\nadded 1 edges.\nremoved 0 edges.\nadded 6 edges.\nremoved 10 edges.\nremoved 10 edges.\nremoved 7 edges.\nadded 3 edges.\nremoved 0 edges.\nadded 8 edges.\nremoved 7 edges.\nadded 3 edges.\nremoved 9 edges.\nadded 1 edges.\nremoved 0 edges.\nadded 10 edges.\nremoved 0 edges.\nadded 6 edges.\nremoved 0 edges.\nadded 6 edges.\nremoved 10 edges.\nremoved 0 edges.\nadded 10 edges.\nremoved 0 edges.\nadded 10 edges.\nremoved 2 edges.\nadded 8 edges.\nremoved 2 edges.\nadded 3 edges.\nremoved 4 edges.\nadded 6 edges.\nremoved 10 edges.\nremoved 1 edges.\nadded 9 edges.\nremoved 7 edges.\nadded 3 edges.\nremoved 3 edges.\nadded 6 edges.\nremoved 10 edges.\nremoved 6 edges.\nadded 4 edges.\nremoved 0 edges.\nadded 10 edges.\nremoved 3 edges.\nadded 3 edges.\nTotal Target: 25\nMiss-classification rate Modified : 0.44\nFor budget number: 11\nremoved 0 edges.\nadded 1 edges.\nremoved 0 edges.\nadded 6 edges.\nremoved 11 edges.\nremoved 11 edges.\nremoved 7 edges.\nadded 4 edges.\nremoved 0 edges.\nadded 8 edges.\nremoved 7 edges.\nadded 4 edges.\nremoved 9 edges.\nadded 2 edges.\nremoved 0 edges.\nadded 11 edges.\nremoved 0 edges.\nadded 6 edges.\nremoved 0 edges.\nadded 6 edges.\nremoved 11 edges.\nremoved 0 edges.\nadded 11 edges.\nremoved 0 edges.\nadded 11 edges.\nremoved 2 edges.\nadded 9 edges.\nremoved 2 edges.\nadded 3 edges.\nremoved 4 edges.\nadded 6 edges.\nremoved 11 edges.\nremoved 1 edges.\nadded 10 edges.\nremoved 7 edges.\nadded 4 edges.\nremoved 3 edges.\nadded 6 edges.\nremoved 11 edges.\nremoved 6 edges.\nadded 5 edges.\nremoved 0 edges.\nadded 11 edges.\nremoved 3 edges.\nadded 3 edges.\nTotal Target: 25\nMiss-classification rate Modified : 0.44\nFor budget number: 12\nremoved 0 edges.\nadded 1 edges.\nremoved 0 edges.\nadded 6 edges.\nremoved 12 edges.\nremoved 12 edges.\nremoved 7 edges.\nadded 5 edges.\nremoved 0 edges.\nadded 8 edges.\nremoved 7 edges.\nadded 5 edges.\nremoved 9 edges.\nadded 3 edges.\nremoved 0 edges.\nadded 12 edges.\nremoved 0 edges.\nadded 6 edges.\nremoved 0 edges.\nadded 6 edges.\nremoved 11 edges.\nadded 1 edges.\nremoved 0 edges.\nadded 12 edges.\nremoved 0 edges.\nadded 12 edges.\nremoved 2 edges.\nadded 10 edges.\nremoved 2 edges.\nadded 3 edges.\nremoved 4 edges.\nadded 6 edges.\nremoved 12 edges.\nremoved 1 edges.\nadded 11 edges.\nremoved 7 edges.\nadded 5 edges.\nremoved 3 edges.\nadded 6 edges.\nremoved 11 edges.\nadded 1 edges.\nremoved 6 edges.\nadded 6 edges.\nremoved 0 edges.\nadded 12 edges.\nremoved 3 edges.\nadded 3 edges.\nTotal Target: 25\nMiss-classification rate Modified : 0.44\nFor budget number: 13\nremoved 0 edges.\nadded 1 edges.\nremoved 0 edges.\nadded 6 edges.\nremoved 13 edges.\nremoved 13 edges.\nremoved 7 edges.\nadded 6 edges.\nremoved 0 edges.\nadded 8 edges.\nremoved 7 edges.\nadded 6 edges.\nremoved 9 edges.\nadded 4 edges.\nremoved 0 edges.\nadded 13 edges.\nremoved 0 edges.\nadded 6 edges.\nremoved 0 edges.\nadded 6 edges.\nremoved 11 edges.\nadded 2 edges.\nremoved 0 edges.\nadded 13 edges.\nremoved 0 edges.\nadded 13 edges.\nremoved 2 edges.\nadded 11 edges.\nremoved 2 edges.\nadded 3 edges.\nremoved 4 edges.\nadded 6 edges.\nremoved 13 edges.\nremoved 1 edges.\nadded 12 edges.\nremoved 7 edges.\nadded 6 edges.\nremoved 3 edges.\nadded 6 edges.\nremoved 11 edges.\nadded 2 edges.\nremoved 6 edges.\nadded 6 edges.\nremoved 0 edges.\nadded 13 edges.\nremoved 3 edges.\nadded 3 edges.\nTotal Target: 25\nMiss-classification rate Modified : 0.44\nFor budget number: 14\nremoved 0 edges.\nadded 1 edges.\nremoved 0 edges.\nadded 6 edges.\nremoved 13 edges.\nadded 1 edges.\nremoved 14 edges.\nremoved 7 edges.\nadded 7 edges.\nremoved 0 edges.\nadded 8 edges.\nremoved 7 edges.\nadded 7 edges.\nremoved 9 edges.\nadded 5 edges.\nremoved 0 edges.\nadded 14 edges.\nremoved 0 edges.\nadded 6 edges.\nremoved 0 edges.\nadded 6 edges.\nremoved 11 edges.\nadded 3 edges.\nremoved 0 edges.\nadded 14 edges.\nremoved 0 edges.\nadded 14 edges.\nremoved 2 edges.\nadded 12 edges.\nremoved 2 edges.\nadded 3 edges.\nremoved 4 edges.\nadded 6 edges.\nremoved 14 edges.\nremoved 1 edges.\nadded 13 edges.\nremoved 7 edges.\nadded 7 edges.\nremoved 3 edges.\nadded 6 edges.\nremoved 11 edges.\nadded 3 edges.\nremoved 6 edges.\nadded 6 edges.\nremoved 0 edges.\nadded 14 edges.\nremoved 3 edges.\nadded 3 edges.\nTotal Target: 25\nMiss-classification rate Modified : 0.44\nFor budget number: 15\nremoved 0 edges.\nadded 1 edges.\nremoved 0 edges.\nadded 6 edges.\nremoved 13 edges.\nadded 2 edges.\nremoved 15 edges.\nremoved 7 edges.\nadded 8 edges.\nremoved 0 edges.\nadded 8 edges.\nremoved 7 edges.\nadded 8 edges.\nremoved 9 edges.\nadded 6 edges.\nremoved 0 edges.\nadded 15 edges.\nremoved 0 edges.\nadded 6 edges.\nremoved 0 edges.\nadded 6 edges.\nremoved 11 edges.\nadded 4 edges.\nremoved 0 edges.\nadded 15 edges.\nremoved 0 edges.\nadded 15 edges.\nremoved 2 edges.\nadded 13 edges.\nremoved 2 edges.\nadded 3 edges.\nremoved 4 edges.\nadded 6 edges.\nremoved 15 edges.\nremoved 1 edges.\nadded 14 edges.\nremoved 7 edges.\nadded 8 edges.\nremoved 3 edges.\nadded 6 edges.\nremoved 11 edges.\nadded 3 edges.\nremoved 6 edges.\nadded 6 edges.\nremoved 0 edges.\nadded 15 edges.\nremoved 3 edges.\nadded 3 edges.\nTotal Target: 25\nMiss-classification rate Modified : 0.44\nFor budget number: 16\nremoved 0 edges.\nadded 1 edges.\nremoved 0 edges.\nadded 6 edges.\nremoved 13 edges.\nadded 3 edges.\nremoved 16 edges.\nremoved 7 edges.\nadded 8 edges.\nremoved 0 edges.\nadded 8 edges.\nremoved 7 edges.\nadded 9 edges.\nremoved 9 edges.\nadded 7 edges.\nremoved 0 edges.\nadded 16 edges.\nremoved 0 edges.\nadded 6 edges.\nremoved 0 edges.\nadded 6 edges.\nremoved 11 edges.\nadded 5 edges.\nremoved 0 edges.\nadded 16 edges.\nremoved 0 edges.\nadded 16 edges.\nremoved 2 edges.\nadded 14 edges.\nremoved 2 edges.\nadded 3 edges.\nremoved 4 edges.\nadded 6 edges.\nremoved 16 edges.\nremoved 1 edges.\nadded 15 edges.\nremoved 7 edges.\nadded 9 edges.\nremoved 3 edges.\nadded 6 edges.\nremoved 11 edges.\nadded 3 edges.\nremoved 6 edges.\nadded 6 edges.\nremoved 0 edges.\nadded 16 edges.\nremoved 3 edges.\nadded 3 edges.\nTotal Target: 25\nMiss-classification rate Modified : 0.44\nFor budget number: 17\nremoved 0 edges.\nadded 1 edges.\nremoved 0 edges.\nadded 6 edges.\nremoved 13 edges.\nadded 3 edges.\nremoved 17 edges.\nremoved 7 edges.\nadded 8 edges.\nremoved 0 edges.\nadded 8 edges.\nremoved 7 edges.\nadded 10 edges.\nremoved 9 edges.\nadded 8 edges.\nremoved 0 edges.\nadded 17 edges.\nremoved 0 edges.\nadded 6 edges.\nremoved 0 edges.\nadded 6 edges.\nremoved 11 edges.\nadded 6 edges.\nremoved 0 edges.\nadded 17 edges.\nremoved 0 edges.\nadded 17 edges.\nremoved 2 edges.\nadded 15 edges.\nremoved 2 edges.\nadded 3 edges.\nremoved 4 edges.\nadded 6 edges.\nremoved 17 edges.\nremoved 1 edges.\nadded 16 edges.\nremoved 7 edges.\nadded 10 edges.\nremoved 3 edges.\nadded 6 edges.\nremoved 11 edges.\nadded 3 edges.\nremoved 6 edges.\nadded 6 edges.\nremoved 0 edges.\nadded 17 edges.\nremoved 3 edges.\nadded 3 edges.\nTotal Target: 25\nMiss-classification rate Modified : 0.44\nFor budget number: 18\nremoved 0 edges.\nadded 1 edges.\nremoved 0 edges.\nadded 6 edges.\nremoved 13 edges.\nadded 3 edges.\nremoved 18 edges.\nremoved 7 edges.\nadded 8 edges.\nremoved 0 edges.\nadded 8 edges.\nremoved 7 edges.\nadded 11 edges.\nremoved 9 edges.\nadded 9 edges.\nremoved 0 edges.\nadded 18 edges.\nremoved 0 edges.\nadded 6 edges.\nremoved 0 edges.\nadded 6 edges.\nremoved 11 edges.\nadded 7 edges.\nremoved 0 edges.\nadded 18 edges.\nremoved 0 edges.\nadded 18 edges.\nremoved 2 edges.\nadded 16 edges.\nremoved 2 edges.\nadded 3 edges.\nremoved 4 edges.\nadded 6 edges.\nremoved 17 edges.\nadded 1 edges.\nremoved 1 edges.\nadded 17 edges.\nremoved 7 edges.\nadded 11 edges.\nremoved 3 edges.\nadded 6 edges.\nremoved 11 edges.\nadded 3 edges.\nremoved 6 edges.\nadded 6 edges.\nremoved 0 edges.\nadded 18 edges.\nremoved 3 edges.\nadded 3 edges.\nTotal Target: 25\nMiss-classification rate Modified : 0.44\nFor budget number: 19\nremoved 0 edges.\nadded 1 edges.\nremoved 0 edges.\nadded 6 edges.\nremoved 13 edges.\nadded 3 edges.\nremoved 19 edges.\nremoved 7 edges.\nadded 8 edges.\nremoved 0 edges.\nadded 8 edges.\nremoved 7 edges.\nadded 12 edges.\nremoved 9 edges.\nadded 10 edges.\nremoved 0 edges.\nadded 19 edges.\nremoved 0 edges.\nadded 6 edges.\nremoved 0 edges.\nadded 6 edges.\nremoved 11 edges.\nadded 8 edges.\nremoved 0 edges.\nadded 19 edges.\nremoved 0 edges.\nadded 19 edges.\nremoved 2 edges.\nadded 17 edges.\nremoved 2 edges.\nadded 3 edges.\nremoved 4 edges.\nadded 6 edges.\nremoved 17 edges.\nadded 2 edges.\nremoved 1 edges.\nadded 18 edges.\nremoved 7 edges.\nadded 12 edges.\nremoved 3 edges.\nadded 6 edges.\nremoved 11 edges.\nadded 3 edges.\nremoved 6 edges.\nadded 6 edges.\nremoved 0 edges.\nadded 19 edges.\nremoved 3 edges.\nadded 3 edges.\nTotal Target: 25\nMiss-classification rate Modified : 0.44\nFor budget number: 20\nremoved 0 edges.\nadded 1 edges.\nremoved 0 edges.\nadded 6 edges.\nremoved 13 edges.\nadded 3 edges.\nremoved 20 edges.\nremoved 7 edges.\nadded 8 edges.\nremoved 0 edges.\nadded 8 edges.\nremoved 7 edges.\nadded 13 edges.\nremoved 9 edges.\nadded 11 edges.\nremoved 0 edges.\nadded 20 edges.\nremoved 0 edges.\nadded 6 edges.\nremoved 0 edges.\nadded 6 edges.\nremoved 11 edges.\nadded 8 edges.\nremoved 0 edges.\nadded 20 edges.\nremoved 0 edges.\nadded 20 edges.\nremoved 2 edges.\nadded 18 edges.\nremoved 2 edges.\nadded 3 edges.\nremoved 4 edges.\nadded 6 edges.\nremoved 17 edges.\nadded 3 edges.\nremoved 1 edges.\nadded 19 edges.\nremoved 7 edges.\nadded 13 edges.\nremoved 3 edges.\nadded 6 edges.\nremoved 11 edges.\nadded 3 edges.\nremoved 6 edges.\nadded 6 edges.\nremoved 0 edges.\nadded 20 edges.\nremoved 3 edges.\nadded 3 edges.\nTotal Target: 25\nMiss-classification rate Modified : 0.44\nFor budget number: 21\nremoved 0 edges.\nadded 1 edges.\nremoved 0 edges.\nadded 6 edges.\nremoved 13 edges.\nadded 3 edges.\nremoved 21 edges.\nremoved 7 edges.\nadded 8 edges.\nremoved 0 edges.\nadded 8 edges.\nremoved 7 edges.\nadded 14 edges.\nremoved 9 edges.\nadded 12 edges.\nremoved 0 edges.\nadded 21 edges.\nremoved 0 edges.\nadded 6 edges.\nremoved 0 edges.\nadded 6 edges.\nremoved 11 edges.\nadded 8 edges.\nremoved 0 edges.\nadded 21 edges.\nremoved 0 edges.\nadded 21 edges.\nremoved 2 edges.\nadded 19 edges.\nremoved 2 edges.\nadded 3 edges.\nremoved 4 edges.\nadded 6 edges.\nremoved 17 edges.\nadded 4 edges.\nremoved 1 edges.\nadded 20 edges.\nremoved 7 edges.\nadded 14 edges.\nremoved 3 edges.\nadded 6 edges.\nremoved 11 edges.\nadded 3 edges.\nremoved 6 edges.\nadded 6 edges.\nremoved 0 edges.\nadded 21 edges.\nremoved 3 edges.\nadded 3 edges.\nTotal Target: 25\nMiss-classification rate Modified : 0.44\nFor budget number: 22\nremoved 0 edges.\nadded 1 edges.\nremoved 0 edges.\nadded 6 edges.\nremoved 13 edges.\nadded 3 edges.\nremoved 22 edges.\nremoved 7 edges.\nadded 8 edges.\nremoved 0 edges.\nadded 8 edges.\nremoved 7 edges.\nadded 15 edges.\nremoved 9 edges.\nadded 13 edges.\nremoved 0 edges.\nadded 22 edges.\nremoved 0 edges.\nadded 6 edges.\nremoved 0 edges.\nadded 6 edges.\nremoved 11 edges.\nadded 8 edges.\nremoved 0 edges.\nadded 22 edges.\nremoved 0 edges.\nadded 22 edges.\nremoved 2 edges.\nadded 20 edges.\nremoved 2 edges.\nadded 3 edges.\nremoved 4 edges.\nadded 6 edges.\nremoved 17 edges.\nadded 5 edges.\nremoved 1 edges.\nadded 21 edges.\nremoved 7 edges.\nadded 15 edges.\nremoved 3 edges.\nadded 6 edges.\nremoved 11 edges.\nadded 3 edges.\nremoved 6 edges.\nadded 6 edges.\nremoved 0 edges.\nadded 22 edges.\nremoved 3 edges.\nadded 3 edges.\nTotal Target: 25\nMiss-classification rate Modified : 0.44\nFor budget number: 23\nremoved 0 edges.\nadded 1 edges.\nremoved 0 edges.\nadded 6 edges.\nremoved 13 edges.\nadded 3 edges.\nremoved 23 edges.\nremoved 7 edges.\nadded 8 edges.\nremoved 0 edges.\nadded 8 edges.\nremoved 7 edges.\nadded 16 edges.\nremoved 9 edges.\nadded 14 edges.\nremoved 0 edges.\nadded 23 edges.\nremoved 0 edges.\nadded 6 edges.\nremoved 0 edges.\nadded 6 edges.\nremoved 11 edges.\nadded 8 edges.\nremoved 0 edges.\nadded 23 edges.\nremoved 0 edges.\nadded 23 edges.\nremoved 2 edges.\nadded 21 edges.\nremoved 2 edges.\nadded 3 edges.\nremoved 4 edges.\nadded 6 edges.\nremoved 17 edges.\nadded 6 edges.\nremoved 1 edges.\nadded 22 edges.\nremoved 7 edges.\nadded 16 edges.\nremoved 3 edges.\nadded 6 edges.\nremoved 11 edges.\nadded 3 edges.\nremoved 6 edges.\nadded 6 edges.\nremoved 0 edges.\nadded 23 edges.\nremoved 3 edges.\nadded 3 edges.\nTotal Target: 25\nMiss-classification rate Modified : 0.44\nFor budget number: 24\nremoved 0 edges.\nadded 1 edges.\nremoved 0 edges.\nadded 6 edges.\nremoved 13 edges.\nadded 3 edges.\nremoved 24 edges.\nremoved 7 edges.\nadded 8 edges.\nremoved 0 edges.\nadded 8 edges.\nremoved 7 edges.\nadded 17 edges.\nremoved 9 edges.\nadded 15 edges.\nremoved 0 edges.\nadded 24 edges.\nremoved 0 edges.\nadded 6 edges.\nremoved 0 edges.\nadded 6 edges.\nremoved 11 edges.\nadded 8 edges.\nremoved 0 edges.\nadded 24 edges.\nremoved 0 edges.\nadded 24 edges.\nremoved 2 edges.\nadded 22 edges.\nremoved 2 edges.\nadded 3 edges.\nremoved 4 edges.\nadded 6 edges.\nremoved 17 edges.\nadded 6 edges.\nremoved 1 edges.\nadded 23 edges.\nremoved 7 edges.\nadded 17 edges.\nremoved 3 edges.\nadded 6 edges.\nremoved 11 edges.\nadded 3 edges.\nremoved 6 edges.\nadded 6 edges.\nremoved 0 edges.\nadded 24 edges.\nremoved 3 edges.\nadded 3 edges.\nTotal Target: 25\nMiss-classification rate Modified : 0.44\nFor budget number: 25\nremoved 0 edges.\nadded 1 edges.\nremoved 0 edges.\nadded 6 edges.\nremoved 13 edges.\nadded 3 edges.\nremoved 25 edges.\nremoved 7 edges.\nadded 8 edges.\nremoved 0 edges.\nadded 8 edges.\nremoved 7 edges.\nadded 18 edges.\nremoved 9 edges.\nadded 16 edges.\nremoved 0 edges.\nadded 25 edges.\nremoved 0 edges.\nadded 6 edges.\nremoved 0 edges.\nadded 6 edges.\nremoved 11 edges.\nadded 8 edges.\nremoved 0 edges.\nadded 25 edges.\nremoved 0 edges.\nadded 25 edges.\nremoved 2 edges.\nadded 23 edges.\nremoved 2 edges.\nadded 3 edges.\nremoved 4 edges.\nadded 6 edges.\nremoved 17 edges.\nadded 6 edges.\nremoved 1 edges.\nadded 24 edges.\nremoved 7 edges.\nadded 18 edges.\nremoved 3 edges.\nadded 6 edges.\nremoved 11 edges.\nadded 3 edges.\nremoved 6 edges.\nadded 6 edges.\nremoved 0 edges.\nadded 25 edges.\nremoved 3 edges.\nadded 3 edges.\nTotal Target: 25\nMiss-classification rate Modified : 0.44\nFor budget number: 26\nremoved 0 edges.\nadded 1 edges.\nremoved 0 edges.\nadded 6 edges.\nremoved 13 edges.\nadded 3 edges.\nremoved 26 edges.\nremoved 7 edges.\nadded 8 edges.\nremoved 0 edges.\nadded 8 edges.\nremoved 7 edges.\nadded 19 edges.\nremoved 9 edges.\nadded 17 edges.\nremoved 0 edges.\nadded 26 edges.\nremoved 0 edges.\nadded 6 edges.\nremoved 0 edges.\nadded 6 edges.\nremoved 11 edges.\nadded 8 edges.\nremoved 0 edges.\nadded 26 edges.\nremoved 0 edges.\nadded 26 edges.\nremoved 2 edges.\nadded 24 edges.\nremoved 2 edges.\nadded 3 edges.\nremoved 4 edges.\nadded 6 edges.\nremoved 17 edges.\nadded 6 edges.\nremoved 1 edges.\nadded 25 edges.\nremoved 7 edges.\nadded 19 edges.\nremoved 3 edges.\nadded 6 edges.\nremoved 11 edges.\nadded 3 edges.\nremoved 6 edges.\nadded 6 edges.\nremoved 0 edges.\nadded 26 edges.\nremoved 3 edges.\nadded 3 edges.\nTotal Target: 25\nMiss-classification rate Modified : 0.48\nFor budget number: 27\nremoved 0 edges.\nadded 1 edges.\nremoved 0 edges.\nadded 6 edges.\nremoved 13 edges.\nadded 3 edges.\nremoved 27 edges.\nremoved 7 edges.\nadded 8 edges.\nremoved 0 edges.\nadded 8 edges.\nremoved 7 edges.\nadded 20 edges.\nremoved 9 edges.\nadded 18 edges.\nremoved 0 edges.\nadded 27 edges.\nremoved 0 edges.\nadded 6 edges.\nremoved 0 edges.\nadded 6 edges.\nremoved 11 edges.\nadded 8 edges.\nremoved 0 edges.\nadded 27 edges.\nremoved 0 edges.\nadded 27 edges.\nremoved 2 edges.\nadded 25 edges.\nremoved 2 edges.\nadded 3 edges.\nremoved 4 edges.\nadded 6 edges.\nremoved 17 edges.\nadded 6 edges.\nremoved 1 edges.\nadded 26 edges.\nremoved 7 edges.\nadded 20 edges.\nremoved 3 edges.\nadded 6 edges.\nremoved 11 edges.\nadded 3 edges.\nremoved 6 edges.\nadded 6 edges.\nremoved 0 edges.\nadded 27 edges.\nremoved 3 edges.\nadded 3 edges.\nTotal Target: 25\nMiss-classification rate Modified : 0.48\nFor budget number: 28\nremoved 0 edges.\nadded 1 edges.\nremoved 0 edges.\nadded 6 edges.\nremoved 13 edges.\nadded 3 edges.\nremoved 27 edges.\nadded 1 edges.\nremoved 7 edges.\nadded 8 edges.\nremoved 0 edges.\nadded 8 edges.\nremoved 7 edges.\nadded 21 edges.\nremoved 9 edges.\nadded 19 edges.\nremoved 0 edges.\nadded 28 edges.\nremoved 0 edges.\nadded 6 edges.\nremoved 0 edges.\nadded 6 edges.\nremoved 11 edges.\nadded 8 edges.\nremoved 0 edges.\nadded 28 edges.\nremoved 0 edges.\nadded 28 edges.\nremoved 2 edges.\nadded 26 edges.\nremoved 2 edges.\nadded 3 edges.\nremoved 4 edges.\nadded 6 edges.\nremoved 17 edges.\nadded 6 edges.\nremoved 1 edges.\nadded 27 edges.\nremoved 7 edges.\nadded 21 edges.\nremoved 3 edges.\nadded 6 edges.\nremoved 11 edges.\nadded 3 edges.\nremoved 6 edges.\nadded 6 edges.\nremoved 0 edges.\nadded 28 edges.\nremoved 3 edges.\nadded 3 edges.\nTotal Target: 25\nMiss-classification rate Modified : 0.48\nFor budget number: 29\nremoved 0 edges.\nadded 1 edges.\nremoved 0 edges.\nadded 6 edges.\nremoved 13 edges.\nadded 3 edges.\nremoved 27 edges.\nadded 2 edges.\nremoved 7 edges.\nadded 8 edges.\nremoved 0 edges.\nadded 8 edges.\nremoved 7 edges.\nadded 22 edges.\nremoved 9 edges.\nadded 20 edges.\nremoved 0 edges.\nadded 29 edges.\nremoved 0 edges.\nadded 6 edges.\nremoved 0 edges.\nadded 6 edges.\nremoved 11 edges.\nadded 8 edges.\nremoved 0 edges.\nadded 29 edges.\nremoved 0 edges.\nadded 29 edges.\nremoved 2 edges.\nadded 27 edges.\nremoved 2 edges.\nadded 3 edges.\nremoved 4 edges.\nadded 6 edges.\nremoved 17 edges.\nadded 6 edges.\nremoved 1 edges.\nadded 28 edges.\nremoved 7 edges.\nadded 22 edges.\nremoved 3 edges.\nadded 6 edges.\nremoved 11 edges.\nadded 3 edges.\nremoved 6 edges.\nadded 6 edges.\nremoved 0 edges.\nadded 29 edges.\nremoved 3 edges.\nadded 3 edges.\nTotal Target: 25\nMiss-classification rate Modified : 0.48\nFor budget number: 30\nremoved 0 edges.\nadded 1 edges.\nremoved 0 edges.\nadded 6 edges.\nremoved 13 edges.\nadded 3 edges.\nremoved 27 edges.\nadded 3 edges.\nremoved 7 edges.\nadded 8 edges.\nremoved 0 edges.\nadded 8 edges.\nremoved 7 edges.\nadded 23 edges.\nremoved 9 edges.\nadded 21 edges.\nremoved 0 edges.\nadded 30 edges.\nremoved 0 edges.\nadded 6 edges.\nremoved 0 edges.\nadded 6 edges.\nremoved 11 edges.\nadded 8 edges.\nremoved 0 edges.\nadded 30 edges.\nremoved 0 edges.\nadded 30 edges.\nremoved 2 edges.\nadded 28 edges.\nremoved 2 edges.\nadded 3 edges.\nremoved 4 edges.\nadded 6 edges.\nremoved 17 edges.\nadded 6 edges.\nremoved 1 edges.\nadded 29 edges.\nremoved 7 edges.\nadded 23 edges.\nremoved 3 edges.\nadded 6 edges.\nremoved 11 edges.\nadded 3 edges.\nremoved 6 edges.\nadded 6 edges.\nremoved 0 edges.\nadded 30 edges.\nremoved 3 edges.\nadded 3 edges.\nTotal Target: 25\nMiss-classification rate Modified : 0.48\nFor budget number: 31\nremoved 0 edges.\nadded 1 edges.\nremoved 0 edges.\nadded 6 edges.\nremoved 13 edges.\nadded 3 edges.\nremoved 27 edges.\nadded 4 edges.\nremoved 7 edges.\nadded 8 edges.\nremoved 0 edges.\nadded 8 edges.\nremoved 7 edges.\nadded 24 edges.\nremoved 9 edges.\nadded 22 edges.\nremoved 0 edges.\nadded 31 edges.\nremoved 0 edges.\nadded 6 edges.\nremoved 0 edges.\nadded 6 edges.\nremoved 11 edges.\nadded 8 edges.\nremoved 0 edges.\nadded 31 edges.\nremoved 0 edges.\nadded 31 edges.\nremoved 2 edges.\nadded 29 edges.\nremoved 2 edges.\nadded 3 edges.\nremoved 4 edges.\nadded 6 edges.\nremoved 17 edges.\nadded 6 edges.\nremoved 1 edges.\nadded 30 edges.\nremoved 7 edges.\nadded 24 edges.\nremoved 3 edges.\nadded 6 edges.\nremoved 11 edges.\nadded 3 edges.\nremoved 6 edges.\nadded 6 edges.\nremoved 0 edges.\nadded 31 edges.\nremoved 3 edges.\nadded 3 edges.\nTotal Target: 25\nMiss-classification rate Modified : 0.48\nFor budget number: 32\nremoved 0 edges.\nadded 1 edges.\nremoved 0 edges.\nadded 6 edges.\nremoved 13 edges.\nadded 3 edges.\nremoved 27 edges.\nadded 5 edges.\nremoved 7 edges.\nadded 8 edges.\nremoved 0 edges.\nadded 8 edges.\nremoved 7 edges.\nadded 25 edges.\nremoved 9 edges.\nadded 23 edges.\nremoved 0 edges.\nadded 32 edges.\nremoved 0 edges.\nadded 6 edges.\nremoved 0 edges.\nadded 6 edges.\nremoved 11 edges.\nadded 8 edges.\nremoved 0 edges.\nadded 32 edges.\nremoved 0 edges.\nadded 32 edges.\nremoved 2 edges.\nadded 30 edges.\nremoved 2 edges.\nadded 3 edges.\nremoved 4 edges.\nadded 6 edges.\nremoved 17 edges.\nadded 6 edges.\nremoved 1 edges.\nadded 31 edges.\nremoved 7 edges.\nadded 25 edges.\nremoved 3 edges.\nadded 6 edges.\nremoved 11 edges.\nadded 3 edges.\nremoved 6 edges.\nadded 6 edges.\nremoved 0 edges.\nadded 32 edges.\nremoved 3 edges.\nadded 3 edges.\nTotal Target: 25\nMiss-classification rate Modified : 0.48\nFor budget number: 33\nremoved 0 edges.\nadded 1 edges.\nremoved 0 edges.\nadded 6 edges.\nremoved 13 edges.\nadded 3 edges.\nremoved 27 edges.\nadded 6 edges.\nremoved 7 edges.\nadded 8 edges.\nremoved 0 edges.\nadded 8 edges.\nremoved 7 edges.\nadded 26 edges.\nremoved 9 edges.\nadded 24 edges.\nremoved 0 edges.\nadded 33 edges.\nremoved 0 edges.\nadded 6 edges.\nremoved 0 edges.\nadded 6 edges.\nremoved 11 edges.\nadded 8 edges.\nremoved 0 edges.\nadded 33 edges.\nremoved 0 edges.\nadded 33 edges.\nremoved 2 edges.\nadded 31 edges.\nremoved 2 edges.\nadded 3 edges.\nremoved 4 edges.\nadded 6 edges.\nremoved 17 edges.\nadded 6 edges.\nremoved 1 edges.\nadded 32 edges.\nremoved 7 edges.\nadded 26 edges.\nremoved 3 edges.\nadded 6 edges.\nremoved 11 edges.\nadded 3 edges.\nremoved 6 edges.\nadded 6 edges.\nremoved 0 edges.\nadded 33 edges.\nremoved 3 edges.\nadded 3 edges.\nTotal Target: 25\nMiss-classification rate Modified : 0.48\nFor budget number: 34\nremoved 0 edges.\nadded 1 edges.\nremoved 0 edges.\nadded 6 edges.\nremoved 13 edges.\nadded 3 edges.\nremoved 27 edges.\nadded 6 edges.\nremoved 7 edges.\nadded 8 edges.\nremoved 0 edges.\nadded 8 edges.\nremoved 7 edges.\nadded 27 edges.\nremoved 9 edges.\nadded 25 edges.\nremoved 0 edges.\nadded 34 edges.\nremoved 0 edges.\nadded 6 edges.\nremoved 0 edges.\nadded 6 edges.\nremoved 11 edges.\nadded 8 edges.\nremoved 0 edges.\nadded 34 edges.\nremoved 0 edges.\nadded 34 edges.\nremoved 2 edges.\nadded 32 edges.\nremoved 2 edges.\nadded 3 edges.\nremoved 4 edges.\nadded 6 edges.\nremoved 17 edges.\nadded 6 edges.\nremoved 1 edges.\nadded 33 edges.\nremoved 7 edges.\nadded 27 edges.\nremoved 3 edges.\nadded 6 edges.\nremoved 11 edges.\nadded 3 edges.\nremoved 6 edges.\nadded 6 edges.\nremoved 0 edges.\nadded 34 edges.\nremoved 3 edges.\nadded 3 edges.\nTotal Target: 25\nMiss-classification rate Modified : 0.48\nFor budget number: 35\nremoved 0 edges.\nadded 1 edges.\nremoved 0 edges.\nadded 6 edges.\nremoved 13 edges.\nadded 3 edges.\nremoved 27 edges.\nadded 6 edges.\nremoved 7 edges.\nadded 8 edges.\nremoved 0 edges.\nadded 8 edges.\nremoved 7 edges.\nadded 28 edges.\nremoved 9 edges.\nadded 26 edges.\nremoved 0 edges.\nadded 35 edges.\nremoved 0 edges.\nadded 6 edges.\nremoved 0 edges.\nadded 6 edges.\nremoved 11 edges.\nadded 8 edges.\nremoved 0 edges.\nadded 35 edges.\nremoved 0 edges.\nadded 35 edges.\nremoved 2 edges.\nadded 33 edges.\nremoved 2 edges.\nadded 3 edges.\nremoved 4 edges.\nadded 6 edges.\nremoved 17 edges.\nadded 6 edges.\nremoved 1 edges.\nadded 34 edges.\nremoved 7 edges.\nadded 28 edges.\nremoved 3 edges.\nadded 6 edges.\nremoved 11 edges.\nadded 3 edges.\nremoved 6 edges.\nadded 6 edges.\nremoved 0 edges.\nadded 35 edges.\nremoved 3 edges.\nadded 3 edges.\nTotal Target: 25\nMiss-classification rate Modified : 0.48\nFor budget number: 36\nremoved 0 edges.\nadded 1 edges.\nremoved 0 edges.\nadded 6 edges.\nremoved 13 edges.\nadded 3 edges.\nremoved 27 edges.\nadded 6 edges.\nremoved 7 edges.\nadded 8 edges.\nremoved 0 edges.\nadded 8 edges.\nremoved 7 edges.\nadded 29 edges.\nremoved 9 edges.\nadded 27 edges.\nremoved 0 edges.\nadded 36 edges.\nremoved 0 edges.\nadded 6 edges.\nremoved 0 edges.\nadded 6 edges.\nremoved 11 edges.\nadded 8 edges.\nremoved 0 edges.\nadded 36 edges.\nremoved 0 edges.\nadded 36 edges.\nremoved 2 edges.\nadded 34 edges.\nremoved 2 edges.\nadded 3 edges.\nremoved 4 edges.\nadded 6 edges.\nremoved 17 edges.\nadded 6 edges.\nremoved 1 edges.\nadded 35 edges.\nremoved 7 edges.\nadded 29 edges.\nremoved 3 edges.\nadded 6 edges.\nremoved 11 edges.\nadded 3 edges.\nremoved 6 edges.\nadded 6 edges.\nremoved 0 edges.\nadded 36 edges.\nremoved 3 edges.\nadded 3 edges.\nTotal Target: 25\nMiss-classification rate Modified : 0.48\nFor budget number: 37\nremoved 0 edges.\nadded 1 edges.\nremoved 0 edges.\nadded 6 edges.\nremoved 13 edges.\nadded 3 edges.\nremoved 27 edges.\nadded 6 edges.\nremoved 7 edges.\nadded 8 edges.\nremoved 0 edges.\nadded 8 edges.\nremoved 7 edges.\nadded 30 edges.\nremoved 9 edges.\nadded 28 edges.\nremoved 0 edges.\nadded 37 edges.\nremoved 0 edges.\nadded 6 edges.\nremoved 0 edges.\nadded 6 edges.\nremoved 11 edges.\nadded 8 edges.\nremoved 0 edges.\nadded 37 edges.\nremoved 0 edges.\nadded 37 edges.\nremoved 2 edges.\nadded 35 edges.\nremoved 2 edges.\nadded 3 edges.\nremoved 4 edges.\nadded 6 edges.\nremoved 17 edges.\nadded 6 edges.\nremoved 1 edges.\nadded 36 edges.\nremoved 7 edges.\nadded 30 edges.\nremoved 3 edges.\nadded 6 edges.\nremoved 11 edges.\nadded 3 edges.\nremoved 6 edges.\nadded 6 edges.\nremoved 0 edges.\nadded 37 edges.\nremoved 3 edges.\nadded 3 edges.\nTotal Target: 25\nMiss-classification rate Modified : 0.48\nFor budget number: 38\nremoved 0 edges.\nadded 1 edges.\nremoved 0 edges.\nadded 6 edges.\nremoved 13 edges.\nadded 3 edges.\nremoved 27 edges.\nadded 6 edges.\nremoved 7 edges.\nadded 8 edges.\nremoved 0 edges.\nadded 8 edges.\nremoved 7 edges.\nadded 31 edges.\nremoved 9 edges.\nadded 29 edges.\nremoved 0 edges.\nadded 38 edges.\nremoved 0 edges.\nadded 6 edges.\nremoved 0 edges.\nadded 6 edges.\nremoved 11 edges.\nadded 8 edges.\nremoved 0 edges.\nadded 38 edges.\nremoved 0 edges.\nadded 38 edges.\nremoved 2 edges.\nadded 36 edges.\nremoved 2 edges.\nadded 3 edges.\nremoved 4 edges.\nadded 6 edges.\nremoved 17 edges.\nadded 6 edges.\nremoved 1 edges.\nadded 37 edges.\nremoved 7 edges.\nadded 31 edges.\nremoved 3 edges.\nadded 6 edges.\nremoved 11 edges.\nadded 3 edges.\nremoved 6 edges.\nadded 6 edges.\nremoved 0 edges.\nadded 38 edges.\nremoved 3 edges.\nadded 3 edges.\nTotal Target: 25\nMiss-classification rate Modified : 0.48\nFor budget number: 39\nremoved 0 edges.\nadded 1 edges.\nremoved 0 edges.\nadded 6 edges.\nremoved 13 edges.\nadded 3 edges.\nremoved 27 edges.\nadded 6 edges.\nremoved 7 edges.\nadded 8 edges.\nremoved 0 edges.\nadded 8 edges.\nremoved 7 edges.\nadded 32 edges.\nremoved 9 edges.\nadded 30 edges.\nremoved 0 edges.\nadded 38 edges.\nremoved 0 edges.\nadded 6 edges.\nremoved 0 edges.\nadded 6 edges.\nremoved 11 edges.\nadded 8 edges.\nremoved 0 edges.\nadded 38 edges.\nremoved 0 edges.\nadded 38 edges.\nremoved 2 edges.\nadded 37 edges.\nremoved 2 edges.\nadded 3 edges.\nremoved 4 edges.\nadded 6 edges.\nremoved 17 edges.\nadded 6 edges.\nremoved 1 edges.\nadded 38 edges.\nremoved 7 edges.\nadded 32 edges.\nremoved 3 edges.\nadded 6 edges.\nremoved 11 edges.\nadded 3 edges.\nremoved 6 edges.\nadded 6 edges.\nremoved 0 edges.\nadded 38 edges.\nremoved 3 edges.\nadded 3 edges.\nTotal Target: 25\nMiss-classification rate Modified : 0.48\nFor budget number: 40\nremoved 0 edges.\nadded 1 edges.\nremoved 0 edges.\nadded 6 edges.\nremoved 13 edges.\nadded 3 edges.\nremoved 27 edges.\nadded 6 edges.\nremoved 7 edges.\nadded 8 edges.\nremoved 0 edges.\nadded 8 edges.\nremoved 7 edges.\nadded 33 edges.\nremoved 9 edges.\nadded 31 edges.\nremoved 0 edges.\nadded 38 edges.\nremoved 0 edges.\nadded 6 edges.\nremoved 0 edges.\nadded 6 edges.\nremoved 11 edges.\nadded 8 edges.\nremoved 0 edges.\nadded 38 edges.\nremoved 0 edges.\nadded 38 edges.\nremoved 2 edges.\nadded 38 edges.\nremoved 2 edges.\nadded 3 edges.\nremoved 4 edges.\nadded 6 edges.\nremoved 17 edges.\nadded 6 edges.\nremoved 1 edges.\nadded 38 edges.\nremoved 7 edges.\nadded 33 edges.\nremoved 3 edges.\nadded 6 edges.\nremoved 11 edges.\nadded 3 edges.\nremoved 6 edges.\nadded 6 edges.\nremoved 0 edges.\nadded 38 edges.\nremoved 3 edges.\nadded 3 edges.\nTotal Target: 25\nMiss-classification rate Modified : 0.48\nFor budget number: 41\nremoved 0 edges.\nadded 1 edges.\nremoved 0 edges.\nadded 6 edges.\nremoved 13 edges.\nadded 3 edges.\nremoved 27 edges.\nadded 6 edges.\nremoved 7 edges.\nadded 8 edges.\nremoved 0 edges.\nadded 8 edges.\nremoved 7 edges.\nadded 34 edges.\nremoved 9 edges.\nadded 32 edges.\nremoved 0 edges.\nadded 38 edges.\nremoved 0 edges.\nadded 6 edges.\nremoved 0 edges.\nadded 6 edges.\nremoved 11 edges.\nadded 8 edges.\nremoved 0 edges.\nadded 38 edges.\nremoved 0 edges.\nadded 38 edges.\nremoved 2 edges.\nadded 38 edges.\nremoved 2 edges.\nadded 3 edges.\nremoved 4 edges.\nadded 6 edges.\nremoved 17 edges.\nadded 6 edges.\nremoved 1 edges.\nadded 38 edges.\nremoved 7 edges.\nadded 34 edges.\nremoved 3 edges.\nadded 6 edges.\nremoved 11 edges.\nadded 3 edges.\nremoved 6 edges.\nadded 6 edges.\nremoved 0 edges.\nadded 38 edges.\nremoved 3 edges.\nadded 3 edges.\nTotal Target: 25\nMiss-classification rate Modified : 0.48\nFor budget number: 42\nremoved 0 edges.\nadded 1 edges.\nremoved 0 edges.\nadded 6 edges.\nremoved 13 edges.\nadded 3 edges.\nremoved 27 edges.\nadded 6 edges.\nremoved 7 edges.\nadded 8 edges.\nremoved 0 edges.\nadded 8 edges.\nremoved 7 edges.\nadded 35 edges.\nremoved 9 edges.\nadded 33 edges.\nremoved 0 edges.\nadded 38 edges.\nremoved 0 edges.\nadded 6 edges.\nremoved 0 edges.\nadded 6 edges.\nremoved 11 edges.\nadded 8 edges.\nremoved 0 edges.\nadded 38 edges.\nremoved 0 edges.\nadded 38 edges.\nremoved 2 edges.\nadded 38 edges.\nremoved 2 edges.\nadded 3 edges.\nremoved 4 edges.\nadded 6 edges.\nremoved 17 edges.\nadded 6 edges.\nremoved 1 edges.\nadded 38 edges.\nremoved 7 edges.\nadded 35 edges.\nremoved 3 edges.\nadded 6 edges.\nremoved 11 edges.\nadded 3 edges.\nremoved 6 edges.\nadded 6 edges.\nremoved 0 edges.\nadded 38 edges.\nremoved 3 edges.\nadded 3 edges.\nTotal Target: 25\nMiss-classification rate Modified : 0.48\nFor budget number: 43\nremoved 0 edges.\nadded 1 edges.\nremoved 0 edges.\nadded 6 edges.\nremoved 13 edges.\nadded 3 edges.\nremoved 27 edges.\nadded 6 edges.\nremoved 7 edges.\nadded 8 edges.\nremoved 0 edges.\nadded 8 edges.\nremoved 7 edges.\nadded 36 edges.\nremoved 9 edges.\nadded 34 edges.\nremoved 0 edges.\nadded 38 edges.\nremoved 0 edges.\nadded 6 edges.\nremoved 0 edges.\nadded 6 edges.\nremoved 11 edges.\nadded 8 edges.\nremoved 0 edges.\nadded 38 edges.\nremoved 0 edges.\nadded 38 edges.\nremoved 2 edges.\nadded 38 edges.\nremoved 2 edges.\nadded 3 edges.\nremoved 4 edges.\nadded 6 edges.\nremoved 17 edges.\nadded 6 edges.\nremoved 1 edges.\nadded 38 edges.\nremoved 7 edges.\nadded 36 edges.\nremoved 3 edges.\nadded 6 edges.\nremoved 11 edges.\nadded 3 edges.\nremoved 6 edges.\nadded 6 edges.\nremoved 0 edges.\nadded 38 edges.\nremoved 3 edges.\nadded 3 edges.\nTotal Target: 25\nMiss-classification rate Modified : 0.48\nFor budget number: 44\nremoved 0 edges.\nadded 1 edges.\nremoved 0 edges.\nadded 6 edges.\nremoved 13 edges.\nadded 3 edges.\nremoved 27 edges.\nadded 6 edges.\nremoved 7 edges.\nadded 8 edges.\nremoved 0 edges.\nadded 8 edges.\nremoved 7 edges.\nadded 37 edges.\nremoved 9 edges.\nadded 35 edges.\nremoved 0 edges.\nadded 38 edges.\nremoved 0 edges.\nadded 6 edges.\nremoved 0 edges.\nadded 6 edges.\nremoved 11 edges.\nadded 8 edges.\nremoved 0 edges.\nadded 38 edges.\nremoved 0 edges.\nadded 38 edges.\nremoved 2 edges.\nadded 38 edges.\nremoved 2 edges.\nadded 3 edges.\nremoved 4 edges.\nadded 6 edges.\nremoved 17 edges.\nadded 6 edges.\nremoved 1 edges.\nadded 38 edges.\nremoved 7 edges.\nadded 37 edges.\nremoved 3 edges.\nadded 6 edges.\nremoved 11 edges.\nadded 3 edges.\nremoved 6 edges.\nadded 6 edges.\nremoved 0 edges.\nadded 38 edges.\nremoved 3 edges.\nadded 3 edges.\nTotal Target: 25\nMiss-classification rate Modified : 0.48\nFor budget number: 45\nremoved 0 edges.\nadded 1 edges.\nremoved 0 edges.\nadded 6 edges.\nremoved 13 edges.\nadded 3 edges.\nremoved 27 edges.\nadded 6 edges.\nremoved 7 edges.\nadded 8 edges.\nremoved 0 edges.\nadded 8 edges.\nremoved 7 edges.\nadded 38 edges.\nremoved 9 edges.\nadded 36 edges.\nremoved 0 edges.\nadded 38 edges.\nremoved 0 edges.\nadded 6 edges.\nremoved 0 edges.\nadded 6 edges.\nremoved 11 edges.\nadded 8 edges.\nremoved 0 edges.\nadded 38 edges.\nremoved 0 edges.\nadded 38 edges.\nremoved 2 edges.\nadded 38 edges.\nremoved 2 edges.\nadded 3 edges.\nremoved 4 edges.\nadded 6 edges.\nremoved 17 edges.\nadded 6 edges.\nremoved 1 edges.\nadded 38 edges.\nremoved 7 edges.\nadded 38 edges.\nremoved 3 edges.\nadded 6 edges.\nremoved 11 edges.\nadded 3 edges.\nremoved 6 edges.\nadded 6 edges.\nremoved 0 edges.\nadded 38 edges.\nremoved 3 edges.\nadded 3 edges.\nTotal Target: 25\nMiss-classification rate Modified : 0.48\nFor budget number: 46\nremoved 0 edges.\nadded 1 edges.\nremoved 0 edges.\nadded 6 edges.\nremoved 13 edges.\nadded 3 edges.\nremoved 27 edges.\nadded 6 edges.\nremoved 7 edges.\nadded 8 edges.\nremoved 0 edges.\nadded 8 edges.\nremoved 7 edges.\nadded 38 edges.\nremoved 9 edges.\nadded 37 edges.\nremoved 0 edges.\nadded 38 edges.\nremoved 0 edges.\nadded 6 edges.\nremoved 0 edges.\nadded 6 edges.\nremoved 11 edges.\nadded 8 edges.\nremoved 0 edges.\nadded 38 edges.\nremoved 0 edges.\nadded 38 edges.\nremoved 2 edges.\nadded 38 edges.\nremoved 2 edges.\nadded 3 edges.\nremoved 4 edges.\nadded 6 edges.\nremoved 17 edges.\nadded 6 edges.\nremoved 1 edges.\nadded 38 edges.\nremoved 7 edges.\nadded 38 edges.\nremoved 3 edges.\nadded 6 edges.\nremoved 11 edges.\nadded 3 edges.\nremoved 6 edges.\nadded 6 edges.\nremoved 0 edges.\nadded 38 edges.\nremoved 3 edges.\nadded 3 edges.\nTotal Target: 25\nMiss-classification rate Modified : 0.48\nFor budget number: 47\nremoved 0 edges.\nadded 1 edges.\nremoved 0 edges.\nadded 6 edges.\nremoved 13 edges.\nadded 3 edges.\nremoved 27 edges.\nadded 6 edges.\nremoved 7 edges.\nadded 8 edges.\nremoved 0 edges.\nadded 8 edges.\nremoved 7 edges.\nadded 38 edges.\nremoved 9 edges.\nadded 38 edges.\nremoved 0 edges.\nadded 38 edges.\nremoved 0 edges.\nadded 6 edges.\nremoved 0 edges.\nadded 6 edges.\nremoved 11 edges.\nadded 8 edges.\nremoved 0 edges.\nadded 38 edges.\nremoved 0 edges.\nadded 38 edges.\nremoved 2 edges.\nadded 38 edges.\nremoved 2 edges.\nadded 3 edges.\nremoved 4 edges.\nadded 6 edges.\nremoved 17 edges.\nadded 6 edges.\nremoved 1 edges.\nadded 38 edges.\nremoved 7 edges.\nadded 38 edges.\nremoved 3 edges.\nadded 6 edges.\nremoved 11 edges.\nadded 3 edges.\nremoved 6 edges.\nadded 6 edges.\nremoved 0 edges.\nadded 38 edges.\nremoved 3 edges.\nadded 3 edges.\nTotal Target: 25\nMiss-classification rate Modified : 0.48\nFor budget number: 48\nremoved 0 edges.\nadded 1 edges.\nremoved 0 edges.\nadded 6 edges.\nremoved 13 edges.\nadded 3 edges.\nremoved 27 edges.\nadded 6 edges.\nremoved 7 edges.\nadded 8 edges.\nremoved 0 edges.\nadded 8 edges.\nremoved 7 edges.\nadded 38 edges.\nremoved 9 edges.\nadded 38 edges.\nremoved 0 edges.\nadded 38 edges.\nremoved 0 edges.\nadded 6 edges.\nremoved 0 edges.\nadded 6 edges.\nremoved 11 edges.\nadded 8 edges.\nremoved 0 edges.\nadded 38 edges.\nremoved 0 edges.\nadded 38 edges.\nremoved 2 edges.\nadded 38 edges.\nremoved 2 edges.\nadded 3 edges.\nremoved 4 edges.\nadded 6 edges.\nremoved 17 edges.\nadded 6 edges.\nremoved 1 edges.\nadded 38 edges.\nremoved 7 edges.\nadded 38 edges.\nremoved 3 edges.\nadded 6 edges.\nremoved 11 edges.\nadded 3 edges.\nremoved 6 edges.\nadded 6 edges.\nremoved 0 edges.\nadded 38 edges.\nremoved 3 edges.\nadded 3 edges.\nTotal Target: 25\nMiss-classification rate Modified : 0.48\nFor budget number: 49\nremoved 0 edges.\nadded 1 edges.\nremoved 0 edges.\nadded 6 edges.\nremoved 13 edges.\nadded 3 edges.\nremoved 27 edges.\nadded 6 edges.\nremoved 7 edges.\nadded 8 edges.\nremoved 0 edges.\nadded 8 edges.\nremoved 7 edges.\nadded 38 edges.\nremoved 9 edges.\nadded 38 edges.\nremoved 0 edges.\nadded 38 edges.\nremoved 0 edges.\nadded 6 edges.\nremoved 0 edges.\nadded 6 edges.\nremoved 11 edges.\nadded 8 edges.\nremoved 0 edges.\nadded 38 edges.\nremoved 0 edges.\nadded 38 edges.\nremoved 2 edges.\nadded 38 edges.\nremoved 2 edges.\nadded 3 edges.\nremoved 4 edges.\nadded 6 edges.\nremoved 17 edges.\nadded 6 edges.\nremoved 1 edges.\nadded 38 edges.\nremoved 7 edges.\nadded 38 edges.\nremoved 3 edges.\nadded 6 edges.\nremoved 11 edges.\nadded 3 edges.\nremoved 6 edges.\nadded 6 edges.\nremoved 0 edges.\nadded 38 edges.\nremoved 3 edges.\nadded 3 edges.\nTotal Target: 25\nMiss-classification rate Modified : 0.48\nFor budget number: 50\nremoved 0 edges.\nadded 1 edges.\nremoved 0 edges.\nadded 6 edges.\nremoved 13 edges.\nadded 3 edges.\nremoved 27 edges.\nadded 6 edges.\nremoved 7 edges.\nadded 8 edges.\nremoved 0 edges.\nadded 8 edges.\nremoved 7 edges.\nadded 38 edges.\nremoved 9 edges.\nadded 38 edges.\nremoved 0 edges.\nadded 38 edges.\nremoved 0 edges.\nadded 6 edges.\nremoved 0 edges.\nadded 6 edges.\nremoved 11 edges.\nadded 8 edges.\nremoved 0 edges.\nadded 38 edges.\nremoved 0 edges.\nadded 38 edges.\nremoved 2 edges.\nadded 38 edges.\nremoved 2 edges.\nadded 3 edges.\nremoved 4 edges.\nadded 6 edges.\nremoved 17 edges.\nadded 6 edges.\nremoved 1 edges.\nadded 38 edges.\nremoved 7 edges.\nadded 38 edges.\nremoved 3 edges.\nadded 6 edges.\nremoved 11 edges.\nadded 3 edges.\nremoved 6 edges.\nadded 6 edges.\nremoved 0 edges.\nadded 38 edges.\nremoved 3 edges.\nadded 3 edges.\nTotal Target: 25\nMiss-classification rate Modified : 0.48\nMiss-classification rate : 0.24\n",
          "output_type": "stream"
        }
      ]
    },
    {
      "cell_type": "code",
      "source": [
        "df_3 = pd.DataFrame(acc_list, columns =['budget_number', 'miss-classification_modified', 'node_list'])\n",
        "df_3.head()"
      ],
      "metadata": {
        "execution": {
          "iopub.status.busy": "2023-09-24T14:07:43.837529Z",
          "iopub.execute_input": "2023-09-24T14:07:43.838167Z",
          "iopub.status.idle": "2023-09-24T14:07:43.863009Z",
          "shell.execute_reply.started": "2023-09-24T14:07:43.838129Z",
          "shell.execute_reply": "2023-09-24T14:07:43.862020Z"
        },
        "trusted": true,
        "id": "fI9t2VF0gmtd",
        "outputId": "ca0b3d4b-45bf-4035-a7ba-6b76484beea6"
      },
      "execution_count": null,
      "outputs": [
        {
          "execution_count": 60,
          "output_type": "execute_result",
          "data": {
            "text/plain": "   budget_number  miss-classification_modified  \\\n0              1                          0.36   \n1              2                          0.40   \n2              3                          0.44   \n3              4                          0.44   \n4              5                          0.44   \n\n                                           node_list  \n0  [2325, 2691, 2133, 1740, 144, 1836, 2004, 1996...  \n1  [2325, 2691, 2133, 1740, 144, 1836, 2004, 1996...  \n2  [2325, 2691, 2133, 1740, 144, 1836, 2004, 1996...  \n3  [2325, 2691, 2133, 1740, 144, 1836, 2004, 1996...  \n4  [2325, 2691, 2133, 1740, 144, 1836, 2004, 1996...  ",
            "text/html": "<div>\n<style scoped>\n    .dataframe tbody tr th:only-of-type {\n        vertical-align: middle;\n    }\n\n    .dataframe tbody tr th {\n        vertical-align: top;\n    }\n\n    .dataframe thead th {\n        text-align: right;\n    }\n</style>\n<table border=\"1\" class=\"dataframe\">\n  <thead>\n    <tr style=\"text-align: right;\">\n      <th></th>\n      <th>budget_number</th>\n      <th>miss-classification_modified</th>\n      <th>node_list</th>\n    </tr>\n  </thead>\n  <tbody>\n    <tr>\n      <th>0</th>\n      <td>1</td>\n      <td>0.36</td>\n      <td>[2325, 2691, 2133, 1740, 144, 1836, 2004, 1996...</td>\n    </tr>\n    <tr>\n      <th>1</th>\n      <td>2</td>\n      <td>0.40</td>\n      <td>[2325, 2691, 2133, 1740, 144, 1836, 2004, 1996...</td>\n    </tr>\n    <tr>\n      <th>2</th>\n      <td>3</td>\n      <td>0.44</td>\n      <td>[2325, 2691, 2133, 1740, 144, 1836, 2004, 1996...</td>\n    </tr>\n    <tr>\n      <th>3</th>\n      <td>4</td>\n      <td>0.44</td>\n      <td>[2325, 2691, 2133, 1740, 144, 1836, 2004, 1996...</td>\n    </tr>\n    <tr>\n      <th>4</th>\n      <td>5</td>\n      <td>0.44</td>\n      <td>[2325, 2691, 2133, 1740, 144, 1836, 2004, 1996...</td>\n    </tr>\n  </tbody>\n</table>\n</div>"
          },
          "metadata": {}
        }
      ]
    },
    {
      "cell_type": "code",
      "source": [
        "# Create two line charts for col1 and col2\n",
        "plt.figure(figsize=(8, 6))\n",
        "\n",
        "# Line chart for col1\n",
        "plt.plot(df_3['budget_number'], df_3['miss-classification_modified'], label='Modified Adj', marker='o', markersize=5, linestyle='-')\n",
        "\n",
        "# Add labels and a legend\n",
        "plt.xlabel('target_number')\n",
        "plt.ylabel('miss-classification')\n",
        "plt.title('Line Charts for col1')\n",
        "plt.legend()\n",
        "\n",
        "# Show the plot\n",
        "plt.grid(True)\n",
        "plt.show()"
      ],
      "metadata": {
        "execution": {
          "iopub.status.busy": "2023-09-24T14:07:43.864258Z",
          "iopub.execute_input": "2023-09-24T14:07:43.864620Z",
          "iopub.status.idle": "2023-09-24T14:07:44.196665Z",
          "shell.execute_reply.started": "2023-09-24T14:07:43.864583Z",
          "shell.execute_reply": "2023-09-24T14:07:44.195593Z"
        },
        "trusted": true,
        "id": "Gb2ZndVkgmtd",
        "outputId": "609fe718-263a-44b6-8096-51946d4ba04c"
      },
      "execution_count": null,
      "outputs": [
        {
          "output_type": "display_data",
          "data": {
            "text/plain": "<Figure size 800x600 with 1 Axes>",
            "image/png": "[encoded data removed]"
          },
          "metadata": {}
        }
      ]
    },
    {
      "cell_type": "code",
      "source": [],
      "metadata": {
        "id": "x2AvZrLIgmtd"
      },
      "execution_count": null,
      "outputs": []
    },
    {
      "cell_type": "code",
      "source": [
        "budget_range = 10\n",
        "\n",
        "acc_list = []\n",
        "acc_node = {}\n",
        "acc_list_2 = []\n",
        "acc_node_2 = {}\n",
        "\n",
        "target_number = 10\n",
        "node_list = random.sample(list(idx_unlabeled), target_number)\n",
        "\n",
        "for budget in range(1, budget_range+1):\n",
        "    print(f\"For budget number: {budget}\")\n",
        "\n",
        "    cnt = 0\n",
        "    curr_acc = {1:[], 0:[]}\n",
        "    for target_node in node_list:\n",
        "        modified_adj = modify_adj(target_node, adj, budget)\n",
        "        accuracy = evaluate(model, features, modified_adj, labels, target_node)\n",
        "\n",
        "        if accuracy == 0:\n",
        "            curr_acc[0].append(target_node)\n",
        "            cnt += 1\n",
        "        else:\n",
        "            curr_acc[1].append(target_node)\n",
        "\n",
        "    acc_node[budget] = curr_acc\n",
        "    acc_list.append([budget, cnt / len(node_list), node_list])\n",
        "\n",
        "    print(f\"Total Target: {target_number}\")\n",
        "    print('Miss-classification rate Modified : %s' % (cnt / len(node_list)))\n",
        "\n",
        "cnt = 0\n",
        "curr_acc = {1:[], 0:[]}\n",
        "for target_node in node_list:\n",
        "    accuracy = evaluate(model, features, adj, labels, target_node)\n",
        "\n",
        "    if accuracy == 0:\n",
        "        curr_acc[0].append(target_node)\n",
        "        cnt += 1\n",
        "    else:\n",
        "        curr_acc[1].append(target_node)\n",
        "\n",
        "\n",
        "acc_node_2[target_number] = curr_acc\n",
        "acc_list_2.append([target_number, cnt / len(node_list), node_list])\n",
        "\n",
        "print('Miss-classification rate : %s' % (cnt / len(node_list)))"
      ],
      "metadata": {
        "execution": {
          "iopub.status.busy": "2023-09-24T14:07:44.198179Z",
          "iopub.execute_input": "2023-09-24T14:07:44.198521Z",
          "iopub.status.idle": "2023-09-24T14:08:08.959823Z",
          "shell.execute_reply.started": "2023-09-24T14:07:44.198487Z",
          "shell.execute_reply": "2023-09-24T14:08:08.958563Z"
        },
        "trusted": true,
        "id": "Q2ZRITlEgmtd",
        "outputId": "af470ef5-57bc-4cc0-cadd-3597d4561943"
      },
      "execution_count": null,
      "outputs": [
        {
          "name": "stdout",
          "text": "For budget number: 1\nremoved 1 edges.\nremoved 0 edges.\nadded 1 edges.\nremoved 1 edges.\nremoved 1 edges.\nremoved 0 edges.\nadded 1 edges.\nremoved 1 edges.\nremoved 1 edges.\nremoved 1 edges.\nremoved 1 edges.\nremoved 1 edges.\nTotal Target: 10\nMiss-classification rate Modified : 0.2\nFor budget number: 2\nremoved 2 edges.\nremoved 0 edges.\nadded 2 edges.\nremoved 2 edges.\nremoved 2 edges.\nremoved 0 edges.\nadded 2 edges.\nremoved 2 edges.\nremoved 2 edges.\nremoved 2 edges.\nremoved 2 edges.\nremoved 2 edges.\nTotal Target: 10\nMiss-classification rate Modified : 0.1\nFor budget number: 3\nremoved 3 edges.\nremoved 0 edges.\nadded 3 edges.\nremoved 3 edges.\nremoved 3 edges.\nremoved 0 edges.\nadded 3 edges.\nremoved 3 edges.\nremoved 3 edges.\nremoved 3 edges.\nremoved 3 edges.\nremoved 3 edges.\nTotal Target: 10\nMiss-classification rate Modified : 0.1\nFor budget number: 4\nremoved 4 edges.\nremoved 0 edges.\nadded 4 edges.\nremoved 4 edges.\nremoved 4 edges.\nremoved 0 edges.\nadded 4 edges.\nremoved 4 edges.\nremoved 4 edges.\nremoved 4 edges.\nremoved 4 edges.\nremoved 4 edges.\nTotal Target: 10\nMiss-classification rate Modified : 0.1\nFor budget number: 5\nremoved 5 edges.\nremoved 0 edges.\nadded 5 edges.\nremoved 5 edges.\nremoved 5 edges.\nremoved 0 edges.\nadded 5 edges.\nremoved 4 edges.\nadded 1 edges.\nremoved 4 edges.\nadded 1 edges.\nremoved 5 edges.\nremoved 5 edges.\nremoved 5 edges.\nTotal Target: 10\nMiss-classification rate Modified : 0.2\nFor budget number: 6\nremoved 6 edges.\nremoved 0 edges.\nadded 6 edges.\nremoved 6 edges.\nremoved 6 edges.\nremoved 0 edges.\nadded 6 edges.\nremoved 4 edges.\nadded 2 edges.\nremoved 4 edges.\nadded 2 edges.\nremoved 6 edges.\nremoved 6 edges.\nremoved 6 edges.\nTotal Target: 10\nMiss-classification rate Modified : 0.1\nFor budget number: 7\nremoved 7 edges.\nremoved 0 edges.\nadded 7 edges.\nremoved 6 edges.\nadded 1 edges.\nremoved 6 edges.\nadded 1 edges.\nremoved 0 edges.\nadded 6 edges.\nremoved 4 edges.\nadded 3 edges.\nremoved 4 edges.\nadded 3 edges.\nremoved 6 edges.\nadded 1 edges.\nremoved 7 edges.\nremoved 6 edges.\nadded 1 edges.\nTotal Target: 10\nMiss-classification rate Modified : 0.1\nFor budget number: 8\nremoved 7 edges.\nadded 1 edges.\nremoved 0 edges.\nadded 8 edges.\nremoved 6 edges.\nadded 1 edges.\nremoved 6 edges.\nadded 2 edges.\nremoved 0 edges.\nadded 6 edges.\nremoved 4 edges.\nadded 4 edges.\nremoved 4 edges.\nadded 3 edges.\nremoved 6 edges.\nadded 2 edges.\nremoved 8 edges.\nremoved 6 edges.\nadded 2 edges.\nTotal Target: 10\nMiss-classification rate Modified : 0.1\nFor budget number: 9\nremoved 7 edges.\nadded 1 edges.\nremoved 0 edges.\nadded 9 edges.\nremoved 6 edges.\nadded 1 edges.\nremoved 6 edges.\nadded 3 edges.\nremoved 0 edges.\nadded 6 edges.\nremoved 4 edges.\nadded 5 edges.\nremoved 4 edges.\nadded 3 edges.\nremoved 6 edges.\nadded 3 edges.\nremoved 9 edges.\nremoved 6 edges.\nadded 3 edges.\nTotal Target: 10\nMiss-classification rate Modified : 0.1\nFor budget number: 10\nremoved 7 edges.\nadded 1 edges.\nremoved 0 edges.\nadded 10 edges.\nremoved 6 edges.\nadded 1 edges.\nremoved 6 edges.\nadded 4 edges.\nremoved 0 edges.\nadded 6 edges.\nremoved 4 edges.\nadded 6 edges.\nremoved 4 edges.\nadded 3 edges.\nremoved 6 edges.\nadded 4 edges.\nremoved 10 edges.\nremoved 6 edges.\nadded 4 edges.\nTotal Target: 10\nMiss-classification rate Modified : 0.1\nMiss-classification rate : 0.2\n",
          "output_type": "stream"
        }
      ]
    },
    {
      "cell_type": "code",
      "source": [
        "# Create two line charts for col1 and col2\n",
        "plt.figure(figsize=(8, 6))\n",
        "\n",
        "# Line chart for col1\n",
        "plt.plot(df_3['budget_number'], df_3['miss-classification_modified'], label='Modified Adj', marker='o', markersize=5, linestyle='-')\n",
        "\n",
        "# Add labels and a legend\n",
        "plt.xlabel('target_number')\n",
        "plt.ylabel('miss-classification')\n",
        "plt.title('Line Charts for col1')\n",
        "plt.legend()\n",
        "\n",
        "# Show the plot\n",
        "plt.grid(True)\n",
        "plt.show()"
      ],
      "metadata": {
        "execution": {
          "iopub.status.busy": "2023-09-24T14:08:08.961370Z",
          "iopub.execute_input": "2023-09-24T14:08:08.962962Z",
          "iopub.status.idle": "2023-09-24T14:08:09.296584Z",
          "shell.execute_reply.started": "2023-09-24T14:08:08.962921Z",
          "shell.execute_reply": "2023-09-24T14:08:09.295620Z"
        },
        "trusted": true,
        "id": "y5CkZImLgmtd",
        "outputId": "1f66b22c-871d-40f6-a83d-0a1612b08951"
      },
      "execution_count": null,
      "outputs": [
        {
          "output_type": "display_data",
          "data": {
            "text/plain": "<Figure size 800x600 with 1 Axes>",
            "image/png": "[encoded data removed]"
          },
          "metadata": {}
        }
      ]
    }
  ]
}